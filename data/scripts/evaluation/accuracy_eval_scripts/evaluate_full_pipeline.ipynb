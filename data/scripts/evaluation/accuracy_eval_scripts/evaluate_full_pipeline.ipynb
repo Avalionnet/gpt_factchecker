{
  "cells": [
    {
      "cell_type": "code",
      "execution_count": null,
      "metadata": {
        "id": "qFIL9Vb4HuFv",
        "colab": {
          "base_uri": "https://localhost:8080/"
        },
        "outputId": "3070c7bd-9f8a-4018-eb3a-d9c25f563d2d"
      },
      "outputs": [
        {
          "output_type": "stream",
          "name": "stdout",
          "text": [
            "Mounted at /content/drive\n"
          ]
        }
      ],
      "source": [
        "# To mount our Google Drive folder if we are using Google Colab\n",
        "from google.colab import drive\n",
        "drive.mount('/content/drive')"
      ]
    },
    {
      "cell_type": "markdown",
      "metadata": {
        "id": "G-XT62iyCdxJ"
      },
      "source": [
        "# Installation Steps"
      ]
    },
    {
      "cell_type": "code",
      "execution_count": null,
      "metadata": {
        "id": "AR3o9WFlCYMV",
        "scrolled": true,
        "colab": {
          "base_uri": "https://localhost:8080/"
        },
        "outputId": "8e5f90cd-c0d8-44bc-bcd0-b768a10cc93c"
      },
      "outputs": [
        {
          "output_type": "stream",
          "name": "stdout",
          "text": [
            "\u001b[33mWARNING: Running pip as the 'root' user can result in broken permissions and conflicting behaviour with the system package manager. It is recommended to use a virtual environment instead: https://pip.pypa.io/warnings/venv\u001b[0m\u001b[33m\n",
            "\u001b[0m\u001b[33mWARNING: Running pip as the 'root' user can result in broken permissions and conflicting behaviour with the system package manager. It is recommended to use a virtual environment instead: https://pip.pypa.io/warnings/venv\u001b[0m\u001b[33m\n",
            "\u001b[0m\u001b[33mWARNING: Running pip as the 'root' user can result in broken permissions and conflicting behaviour with the system package manager. It is recommended to use a virtual environment instead: https://pip.pypa.io/warnings/venv\u001b[0m\u001b[33m\n",
            "\u001b[0m\u001b[33mWARNING: Running pip as the 'root' user can result in broken permissions and conflicting behaviour with the system package manager. It is recommended to use a virtual environment instead: https://pip.pypa.io/warnings/venv\u001b[0m\u001b[33m\n",
            "\u001b[0m"
          ]
        }
      ],
      "source": [
        "#Install tqdm for progress bars\n",
        "!pip install --quiet tqdm\n",
        "\n",
        "#Install pandas\n",
        "!pip install --quiet pandas\n",
        "\n",
        "#Install sklearn\n",
        "!pip install --quiet sklearn\n",
        "\n",
        "#Install termcolor\n",
        "!pip install --quiet termcolor"
      ]
    },
    {
      "cell_type": "markdown",
      "metadata": {
        "id": "3OuOm5REGV6C"
      },
      "source": [
        "# Verify Installations"
      ]
    },
    {
      "cell_type": "code",
      "execution_count": null,
      "metadata": {
        "id": "z421MAIR6FeK"
      },
      "outputs": [],
      "source": [
        "!sudo apt install python3"
      ]
    },
    {
      "cell_type": "markdown",
      "metadata": {
        "id": "zaAWv9qfVFzh"
      },
      "source": [
        "# Data Preprocessing"
      ]
    },
    {
      "cell_type": "markdown",
      "metadata": {
        "id": "Vxrw_JQvtowO"
      },
      "source": [
        "## Fetch data from filtered csvs"
      ]
    },
    {
      "cell_type": "code",
      "execution_count": null,
      "metadata": {
        "colab": {
          "base_uri": "https://localhost:8080/",
          "height": 206
        },
        "id": "gQ0fRzTmVO_t",
        "outputId": "a75b9eb0-0212-4c5a-d282-59f2e55ce9cb"
      },
      "outputs": [
        {
          "output_type": "execute_result",
          "data": {
            "text/plain": [
              "                                               claim        label  \\\n",
              "0  Says Kentucky Rep. Andy Barr \"would let shady ...    half-true   \n",
              "1  \"New reports show Kevin Nicholson made over $1...  barely-true   \n",
              "2  Says that unless the recipient called back abo...   pants-fire   \n",
              "3  \"Donald Trump said he was excited for the 2008...    half-true   \n",
              "4  \"The president has said the national security ...  barely-true   \n",
              "\n",
              "                                 annotated-questions  label-binary  \n",
              "0  1. Has Barr received $36,550 from payday lende...             1  \n",
              "1  1. Did Nicholson make $1 million consulting fo...             0  \n",
              "2  1. Will people be taken into local police cust...             0  \n",
              "3  1. Was Donald Trump \"Excited\" for the 2008 hou...             1  \n",
              "4  1. Has Obama cited climate change as the top n...             0  "
            ],
            "text/html": [
              "\n",
              "  <div id=\"df-7a761cbc-afd8-4771-b083-e8e3df42fad0\">\n",
              "    <div class=\"colab-df-container\">\n",
              "      <div>\n",
              "<style scoped>\n",
              "    .dataframe tbody tr th:only-of-type {\n",
              "        vertical-align: middle;\n",
              "    }\n",
              "\n",
              "    .dataframe tbody tr th {\n",
              "        vertical-align: top;\n",
              "    }\n",
              "\n",
              "    .dataframe thead th {\n",
              "        text-align: right;\n",
              "    }\n",
              "</style>\n",
              "<table border=\"1\" class=\"dataframe\">\n",
              "  <thead>\n",
              "    <tr style=\"text-align: right;\">\n",
              "      <th></th>\n",
              "      <th>claim</th>\n",
              "      <th>label</th>\n",
              "      <th>annotated-questions</th>\n",
              "      <th>label-binary</th>\n",
              "    </tr>\n",
              "  </thead>\n",
              "  <tbody>\n",
              "    <tr>\n",
              "      <th>0</th>\n",
              "      <td>Says Kentucky Rep. Andy Barr \"would let shady ...</td>\n",
              "      <td>half-true</td>\n",
              "      <td>1. Has Barr received $36,550 from payday lende...</td>\n",
              "      <td>1</td>\n",
              "    </tr>\n",
              "    <tr>\n",
              "      <th>1</th>\n",
              "      <td>\"New reports show Kevin Nicholson made over $1...</td>\n",
              "      <td>barely-true</td>\n",
              "      <td>1. Did Nicholson make $1 million consulting fo...</td>\n",
              "      <td>0</td>\n",
              "    </tr>\n",
              "    <tr>\n",
              "      <th>2</th>\n",
              "      <td>Says that unless the recipient called back abo...</td>\n",
              "      <td>pants-fire</td>\n",
              "      <td>1. Will people be taken into local police cust...</td>\n",
              "      <td>0</td>\n",
              "    </tr>\n",
              "    <tr>\n",
              "      <th>3</th>\n",
              "      <td>\"Donald Trump said he was excited for the 2008...</td>\n",
              "      <td>half-true</td>\n",
              "      <td>1. Was Donald Trump \"Excited\" for the 2008 hou...</td>\n",
              "      <td>1</td>\n",
              "    </tr>\n",
              "    <tr>\n",
              "      <th>4</th>\n",
              "      <td>\"The president has said the national security ...</td>\n",
              "      <td>barely-true</td>\n",
              "      <td>1. Has Obama cited climate change as the top n...</td>\n",
              "      <td>0</td>\n",
              "    </tr>\n",
              "  </tbody>\n",
              "</table>\n",
              "</div>\n",
              "      <button class=\"colab-df-convert\" onclick=\"convertToInteractive('df-7a761cbc-afd8-4771-b083-e8e3df42fad0')\"\n",
              "              title=\"Convert this dataframe to an interactive table.\"\n",
              "              style=\"display:none;\">\n",
              "        \n",
              "  <svg xmlns=\"http://www.w3.org/2000/svg\" height=\"24px\"viewBox=\"0 0 24 24\"\n",
              "       width=\"24px\">\n",
              "    <path d=\"M0 0h24v24H0V0z\" fill=\"none\"/>\n",
              "    <path d=\"M18.56 5.44l.94 2.06.94-2.06 2.06-.94-2.06-.94-.94-2.06-.94 2.06-2.06.94zm-11 1L8.5 8.5l.94-2.06 2.06-.94-2.06-.94L8.5 2.5l-.94 2.06-2.06.94zm10 10l.94 2.06.94-2.06 2.06-.94-2.06-.94-.94-2.06-.94 2.06-2.06.94z\"/><path d=\"M17.41 7.96l-1.37-1.37c-.4-.4-.92-.59-1.43-.59-.52 0-1.04.2-1.43.59L10.3 9.45l-7.72 7.72c-.78.78-.78 2.05 0 2.83L4 21.41c.39.39.9.59 1.41.59.51 0 1.02-.2 1.41-.59l7.78-7.78 2.81-2.81c.8-.78.8-2.07 0-2.86zM5.41 20L4 18.59l7.72-7.72 1.47 1.35L5.41 20z\"/>\n",
              "  </svg>\n",
              "      </button>\n",
              "      \n",
              "  <style>\n",
              "    .colab-df-container {\n",
              "      display:flex;\n",
              "      flex-wrap:wrap;\n",
              "      gap: 12px;\n",
              "    }\n",
              "\n",
              "    .colab-df-convert {\n",
              "      background-color: #E8F0FE;\n",
              "      border: none;\n",
              "      border-radius: 50%;\n",
              "      cursor: pointer;\n",
              "      display: none;\n",
              "      fill: #1967D2;\n",
              "      height: 32px;\n",
              "      padding: 0 0 0 0;\n",
              "      width: 32px;\n",
              "    }\n",
              "\n",
              "    .colab-df-convert:hover {\n",
              "      background-color: #E2EBFA;\n",
              "      box-shadow: 0px 1px 2px rgba(60, 64, 67, 0.3), 0px 1px 3px 1px rgba(60, 64, 67, 0.15);\n",
              "      fill: #174EA6;\n",
              "    }\n",
              "\n",
              "    [theme=dark] .colab-df-convert {\n",
              "      background-color: #3B4455;\n",
              "      fill: #D2E3FC;\n",
              "    }\n",
              "\n",
              "    [theme=dark] .colab-df-convert:hover {\n",
              "      background-color: #434B5C;\n",
              "      box-shadow: 0px 1px 3px 1px rgba(0, 0, 0, 0.15);\n",
              "      filter: drop-shadow(0px 1px 2px rgba(0, 0, 0, 0.3));\n",
              "      fill: #FFFFFF;\n",
              "    }\n",
              "  </style>\n",
              "\n",
              "      <script>\n",
              "        const buttonEl =\n",
              "          document.querySelector('#df-7a761cbc-afd8-4771-b083-e8e3df42fad0 button.colab-df-convert');\n",
              "        buttonEl.style.display =\n",
              "          google.colab.kernel.accessAllowed ? 'block' : 'none';\n",
              "\n",
              "        async function convertToInteractive(key) {\n",
              "          const element = document.querySelector('#df-7a761cbc-afd8-4771-b083-e8e3df42fad0');\n",
              "          const dataTable =\n",
              "            await google.colab.kernel.invokeFunction('convertToInteractive',\n",
              "                                                     [key], {});\n",
              "          if (!dataTable) return;\n",
              "\n",
              "          const docLinkHtml = 'Like what you see? Visit the ' +\n",
              "            '<a target=\"_blank\" href=https://colab.research.google.com/notebooks/data_table.ipynb>data table notebook</a>'\n",
              "            + ' to learn more about interactive tables.';\n",
              "          element.innerHTML = '';\n",
              "          dataTable['output_type'] = 'display_data';\n",
              "          await google.colab.output.renderOutput(dataTable, element);\n",
              "          const docLink = document.createElement('div');\n",
              "          docLink.innerHTML = docLinkHtml;\n",
              "          element.appendChild(docLink);\n",
              "        }\n",
              "      </script>\n",
              "    </div>\n",
              "  </div>\n",
              "  "
            ]
          },
          "metadata": {},
          "execution_count": 3
        }
      ],
      "source": [
        "import pandas as pd\n",
        "import numpy as np\n",
        "\n",
        "from termcolor import colored\n",
        "from tqdm import tqdm\n",
        "\n",
        "# testPath = \"./filtered_data/test.csv\"\n",
        "\n",
        "# For Google Colab\n",
        "testPath = \"./drive/MyDrive/preprocessed_data/test.csv\"\n",
        "dfTest = pd.read_csv(testPath)\n",
        "\n",
        "dfTest.head()"
      ]
    },
    {
      "cell_type": "markdown",
      "metadata": {
        "id": "P9UlIjzpx3AQ"
      },
      "source": [
        "## Optional code to verify dataframe"
      ]
    },
    {
      "cell_type": "code",
      "execution_count": null,
      "metadata": {
        "id": "35vSOt3nx1Gr",
        "outputId": "2448e200-3600-40b1-f117-2d199a79d0c4",
        "colab": {
          "base_uri": "https://localhost:8080/",
          "height": 105
        }
      },
      "outputs": [
        {
          "output_type": "stream",
          "name": "stdout",
          "text": [
            "<class 'str'>\n"
          ]
        },
        {
          "output_type": "execute_result",
          "data": {
            "text/plain": [
              "\"1. Has Barr received $36,550 from payday lenders? \\n2. Did Barr vote for legislation that would weaken restrictions for payday lenders? \\n3. Are there any protections for service members using payday lending services? \\n4. Has Barr's voting record directly affected protection for veterans against payday lenders? \\n5. Did Bar accept $36,000 from pay day lenders? \\n6. Does Bar let pay day lenders take advantage of troops?\""
            ],
            "application/vnd.google.colaboratory.intrinsic+json": {
              "type": "string"
            }
          },
          "metadata": {},
          "execution_count": 21
        }
      ],
      "source": [
        "#Questions are of type str\n",
        "print(type(dfTest.loc[0, 'annotated-questions']))\n",
        "dfTest.loc[0, 'annotated-questions']"
      ]
    },
    {
      "cell_type": "markdown",
      "metadata": {
        "id": "ofMRzLx69LCT"
      },
      "source": [
        "## Preprocess Question strings"
      ]
    },
    {
      "cell_type": "code",
      "execution_count": null,
      "metadata": {
        "colab": {
          "base_uri": "https://localhost:8080/",
          "height": 206
        },
        "id": "8gSQ3bQp9Qq5",
        "outputId": "ca1e47ce-1dda-4a32-dc0f-e7ccb97099a8"
      },
      "outputs": [
        {
          "output_type": "execute_result",
          "data": {
            "text/plain": [
              "                                               claim        label  \\\n",
              "0  Says Kentucky Rep. Andy Barr \"would let shady ...    half-true   \n",
              "1  \"New reports show Kevin Nicholson made over $1...  barely-true   \n",
              "2  Says that unless the recipient called back abo...   pants-fire   \n",
              "3  \"Donald Trump said he was excited for the 2008...    half-true   \n",
              "4  \"The president has said the national security ...  barely-true   \n",
              "\n",
              "                                 annotated-questions  label-binary  \n",
              "0  [1. Has Barr received $36,550 from payday lend...             1  \n",
              "1  [1. Did Nicholson make $1 million consulting f...             0  \n",
              "2  [1. Will people be taken into local police cus...             0  \n",
              "3  [1. Was Donald Trump \"Excited\" for the 2008 ho...             1  \n",
              "4  [1. Has Obama cited climate change as the top ...             0  "
            ],
            "text/html": [
              "\n",
              "  <div id=\"df-5e824a94-11f2-48a7-a6da-2ad65449fb0b\">\n",
              "    <div class=\"colab-df-container\">\n",
              "      <div>\n",
              "<style scoped>\n",
              "    .dataframe tbody tr th:only-of-type {\n",
              "        vertical-align: middle;\n",
              "    }\n",
              "\n",
              "    .dataframe tbody tr th {\n",
              "        vertical-align: top;\n",
              "    }\n",
              "\n",
              "    .dataframe thead th {\n",
              "        text-align: right;\n",
              "    }\n",
              "</style>\n",
              "<table border=\"1\" class=\"dataframe\">\n",
              "  <thead>\n",
              "    <tr style=\"text-align: right;\">\n",
              "      <th></th>\n",
              "      <th>claim</th>\n",
              "      <th>label</th>\n",
              "      <th>annotated-questions</th>\n",
              "      <th>label-binary</th>\n",
              "    </tr>\n",
              "  </thead>\n",
              "  <tbody>\n",
              "    <tr>\n",
              "      <th>0</th>\n",
              "      <td>Says Kentucky Rep. Andy Barr \"would let shady ...</td>\n",
              "      <td>half-true</td>\n",
              "      <td>[1. Has Barr received $36,550 from payday lend...</td>\n",
              "      <td>1</td>\n",
              "    </tr>\n",
              "    <tr>\n",
              "      <th>1</th>\n",
              "      <td>\"New reports show Kevin Nicholson made over $1...</td>\n",
              "      <td>barely-true</td>\n",
              "      <td>[1. Did Nicholson make $1 million consulting f...</td>\n",
              "      <td>0</td>\n",
              "    </tr>\n",
              "    <tr>\n",
              "      <th>2</th>\n",
              "      <td>Says that unless the recipient called back abo...</td>\n",
              "      <td>pants-fire</td>\n",
              "      <td>[1. Will people be taken into local police cus...</td>\n",
              "      <td>0</td>\n",
              "    </tr>\n",
              "    <tr>\n",
              "      <th>3</th>\n",
              "      <td>\"Donald Trump said he was excited for the 2008...</td>\n",
              "      <td>half-true</td>\n",
              "      <td>[1. Was Donald Trump \"Excited\" for the 2008 ho...</td>\n",
              "      <td>1</td>\n",
              "    </tr>\n",
              "    <tr>\n",
              "      <th>4</th>\n",
              "      <td>\"The president has said the national security ...</td>\n",
              "      <td>barely-true</td>\n",
              "      <td>[1. Has Obama cited climate change as the top ...</td>\n",
              "      <td>0</td>\n",
              "    </tr>\n",
              "  </tbody>\n",
              "</table>\n",
              "</div>\n",
              "      <button class=\"colab-df-convert\" onclick=\"convertToInteractive('df-5e824a94-11f2-48a7-a6da-2ad65449fb0b')\"\n",
              "              title=\"Convert this dataframe to an interactive table.\"\n",
              "              style=\"display:none;\">\n",
              "        \n",
              "  <svg xmlns=\"http://www.w3.org/2000/svg\" height=\"24px\"viewBox=\"0 0 24 24\"\n",
              "       width=\"24px\">\n",
              "    <path d=\"M0 0h24v24H0V0z\" fill=\"none\"/>\n",
              "    <path d=\"M18.56 5.44l.94 2.06.94-2.06 2.06-.94-2.06-.94-.94-2.06-.94 2.06-2.06.94zm-11 1L8.5 8.5l.94-2.06 2.06-.94-2.06-.94L8.5 2.5l-.94 2.06-2.06.94zm10 10l.94 2.06.94-2.06 2.06-.94-2.06-.94-.94-2.06-.94 2.06-2.06.94z\"/><path d=\"M17.41 7.96l-1.37-1.37c-.4-.4-.92-.59-1.43-.59-.52 0-1.04.2-1.43.59L10.3 9.45l-7.72 7.72c-.78.78-.78 2.05 0 2.83L4 21.41c.39.39.9.59 1.41.59.51 0 1.02-.2 1.41-.59l7.78-7.78 2.81-2.81c.8-.78.8-2.07 0-2.86zM5.41 20L4 18.59l7.72-7.72 1.47 1.35L5.41 20z\"/>\n",
              "  </svg>\n",
              "      </button>\n",
              "      \n",
              "  <style>\n",
              "    .colab-df-container {\n",
              "      display:flex;\n",
              "      flex-wrap:wrap;\n",
              "      gap: 12px;\n",
              "    }\n",
              "\n",
              "    .colab-df-convert {\n",
              "      background-color: #E8F0FE;\n",
              "      border: none;\n",
              "      border-radius: 50%;\n",
              "      cursor: pointer;\n",
              "      display: none;\n",
              "      fill: #1967D2;\n",
              "      height: 32px;\n",
              "      padding: 0 0 0 0;\n",
              "      width: 32px;\n",
              "    }\n",
              "\n",
              "    .colab-df-convert:hover {\n",
              "      background-color: #E2EBFA;\n",
              "      box-shadow: 0px 1px 2px rgba(60, 64, 67, 0.3), 0px 1px 3px 1px rgba(60, 64, 67, 0.15);\n",
              "      fill: #174EA6;\n",
              "    }\n",
              "\n",
              "    [theme=dark] .colab-df-convert {\n",
              "      background-color: #3B4455;\n",
              "      fill: #D2E3FC;\n",
              "    }\n",
              "\n",
              "    [theme=dark] .colab-df-convert:hover {\n",
              "      background-color: #434B5C;\n",
              "      box-shadow: 0px 1px 3px 1px rgba(0, 0, 0, 0.15);\n",
              "      filter: drop-shadow(0px 1px 2px rgba(0, 0, 0, 0.3));\n",
              "      fill: #FFFFFF;\n",
              "    }\n",
              "  </style>\n",
              "\n",
              "      <script>\n",
              "        const buttonEl =\n",
              "          document.querySelector('#df-5e824a94-11f2-48a7-a6da-2ad65449fb0b button.colab-df-convert');\n",
              "        buttonEl.style.display =\n",
              "          google.colab.kernel.accessAllowed ? 'block' : 'none';\n",
              "\n",
              "        async function convertToInteractive(key) {\n",
              "          const element = document.querySelector('#df-5e824a94-11f2-48a7-a6da-2ad65449fb0b');\n",
              "          const dataTable =\n",
              "            await google.colab.kernel.invokeFunction('convertToInteractive',\n",
              "                                                     [key], {});\n",
              "          if (!dataTable) return;\n",
              "\n",
              "          const docLinkHtml = 'Like what you see? Visit the ' +\n",
              "            '<a target=\"_blank\" href=https://colab.research.google.com/notebooks/data_table.ipynb>data table notebook</a>'\n",
              "            + ' to learn more about interactive tables.';\n",
              "          element.innerHTML = '';\n",
              "          dataTable['output_type'] = 'display_data';\n",
              "          await google.colab.output.renderOutput(dataTable, element);\n",
              "          const docLink = document.createElement('div');\n",
              "          docLink.innerHTML = docLinkHtml;\n",
              "          element.appendChild(docLink);\n",
              "        }\n",
              "      </script>\n",
              "    </div>\n",
              "  </div>\n",
              "  "
            ]
          },
          "metadata": {},
          "execution_count": 106
        }
      ],
      "source": [
        "# Convert each question string into an array for easier evaluation\n",
        "dfTest['annotated-questions'] = dfTest['annotated-questions'].str.split('\\n')\n",
        "dfTest.head()"
      ]
    },
    {
      "cell_type": "markdown",
      "source": [
        "## Evaluate Claim Decomp Performance"
      ],
      "metadata": {
        "id": "eCqqqhln_coU"
      }
    },
    {
      "cell_type": "code",
      "source": [
        "# Create default cols to store quin results\n",
        "dfTest['decomp-subquestions'] = \"\"\n",
        "dfTest['decomp-subclaims'] = \"\"\n",
        "dfTest['decomp-supporting'] = 0\n",
        "dfTest['decomp-refuting'] = 0\n",
        "dfTest['decomp-label'] = \"\"\n",
        "dfTest['decomp-label-binary'] = 0\n",
        "dfTest['decomp-evidence'] = \"\"\n",
        "dfTest['decomp-performance'] = 0\n",
        "\n",
        "dfTest.head()"
      ],
      "metadata": {
        "colab": {
          "base_uri": "https://localhost:8080/",
          "height": 788
        },
        "id": "FWScNmGQ9McF",
        "outputId": "b0a94c75-5ed0-434e-b2b0-746f5e00ba08"
      },
      "execution_count": null,
      "outputs": [
        {
          "output_type": "execute_result",
          "data": {
            "text/plain": [
              "                                               claim        label  \\\n",
              "0  Says Kentucky Rep. Andy Barr \"would let shady ...    half-true   \n",
              "1  \"New reports show Kevin Nicholson made over $1...  barely-true   \n",
              "2  Says that unless the recipient called back abo...   pants-fire   \n",
              "3  \"Donald Trump said he was excited for the 2008...    half-true   \n",
              "4  \"The president has said the national security ...  barely-true   \n",
              "\n",
              "                                 annotated-questions  label-binary  \\\n",
              "0  [1. Has Barr received $36,550 from payday lend...             1   \n",
              "1  [1. Did Nicholson make $1 million consulting f...             0   \n",
              "2  [1. Will people be taken into local police cus...             0   \n",
              "3  [1. Was Donald Trump \"Excited\" for the 2008 ho...             1   \n",
              "4  [1. Has Obama cited climate change as the top ...             0   \n",
              "\n",
              "  decomp-subquestions decomp-subclaims  decomp-supporting  decomp-refuting  \\\n",
              "0                                                       0                0   \n",
              "1                                                       0                0   \n",
              "2                                                       0                0   \n",
              "3                                                       0                0   \n",
              "4                                                       0                0   \n",
              "\n",
              "  decomp-label  decomp-label-binary decomp-evidence  decomp-performance  \n",
              "0                                 0                                   0  \n",
              "1                                 0                                   0  \n",
              "2                                 0                                   0  \n",
              "3                                 0                                   0  \n",
              "4                                 0                                   0  "
            ],
            "text/html": [
              "\n",
              "  <div id=\"df-673ec169-85c4-45e7-bfb1-f1fae628221d\">\n",
              "    <div class=\"colab-df-container\">\n",
              "      <div>\n",
              "<style scoped>\n",
              "    .dataframe tbody tr th:only-of-type {\n",
              "        vertical-align: middle;\n",
              "    }\n",
              "\n",
              "    .dataframe tbody tr th {\n",
              "        vertical-align: top;\n",
              "    }\n",
              "\n",
              "    .dataframe thead th {\n",
              "        text-align: right;\n",
              "    }\n",
              "</style>\n",
              "<table border=\"1\" class=\"dataframe\">\n",
              "  <thead>\n",
              "    <tr style=\"text-align: right;\">\n",
              "      <th></th>\n",
              "      <th>claim</th>\n",
              "      <th>label</th>\n",
              "      <th>annotated-questions</th>\n",
              "      <th>label-binary</th>\n",
              "      <th>decomp-subquestions</th>\n",
              "      <th>decomp-subclaims</th>\n",
              "      <th>decomp-supporting</th>\n",
              "      <th>decomp-refuting</th>\n",
              "      <th>decomp-label</th>\n",
              "      <th>decomp-label-binary</th>\n",
              "      <th>decomp-evidence</th>\n",
              "      <th>decomp-performance</th>\n",
              "    </tr>\n",
              "  </thead>\n",
              "  <tbody>\n",
              "    <tr>\n",
              "      <th>0</th>\n",
              "      <td>Says Kentucky Rep. Andy Barr \"would let shady ...</td>\n",
              "      <td>half-true</td>\n",
              "      <td>[1. Has Barr received $36,550 from payday lend...</td>\n",
              "      <td>1</td>\n",
              "      <td></td>\n",
              "      <td></td>\n",
              "      <td>0</td>\n",
              "      <td>0</td>\n",
              "      <td></td>\n",
              "      <td>0</td>\n",
              "      <td></td>\n",
              "      <td>0</td>\n",
              "    </tr>\n",
              "    <tr>\n",
              "      <th>1</th>\n",
              "      <td>\"New reports show Kevin Nicholson made over $1...</td>\n",
              "      <td>barely-true</td>\n",
              "      <td>[1. Did Nicholson make $1 million consulting f...</td>\n",
              "      <td>0</td>\n",
              "      <td></td>\n",
              "      <td></td>\n",
              "      <td>0</td>\n",
              "      <td>0</td>\n",
              "      <td></td>\n",
              "      <td>0</td>\n",
              "      <td></td>\n",
              "      <td>0</td>\n",
              "    </tr>\n",
              "    <tr>\n",
              "      <th>2</th>\n",
              "      <td>Says that unless the recipient called back abo...</td>\n",
              "      <td>pants-fire</td>\n",
              "      <td>[1. Will people be taken into local police cus...</td>\n",
              "      <td>0</td>\n",
              "      <td></td>\n",
              "      <td></td>\n",
              "      <td>0</td>\n",
              "      <td>0</td>\n",
              "      <td></td>\n",
              "      <td>0</td>\n",
              "      <td></td>\n",
              "      <td>0</td>\n",
              "    </tr>\n",
              "    <tr>\n",
              "      <th>3</th>\n",
              "      <td>\"Donald Trump said he was excited for the 2008...</td>\n",
              "      <td>half-true</td>\n",
              "      <td>[1. Was Donald Trump \"Excited\" for the 2008 ho...</td>\n",
              "      <td>1</td>\n",
              "      <td></td>\n",
              "      <td></td>\n",
              "      <td>0</td>\n",
              "      <td>0</td>\n",
              "      <td></td>\n",
              "      <td>0</td>\n",
              "      <td></td>\n",
              "      <td>0</td>\n",
              "    </tr>\n",
              "    <tr>\n",
              "      <th>4</th>\n",
              "      <td>\"The president has said the national security ...</td>\n",
              "      <td>barely-true</td>\n",
              "      <td>[1. Has Obama cited climate change as the top ...</td>\n",
              "      <td>0</td>\n",
              "      <td></td>\n",
              "      <td></td>\n",
              "      <td>0</td>\n",
              "      <td>0</td>\n",
              "      <td></td>\n",
              "      <td>0</td>\n",
              "      <td></td>\n",
              "      <td>0</td>\n",
              "    </tr>\n",
              "  </tbody>\n",
              "</table>\n",
              "</div>\n",
              "      <button class=\"colab-df-convert\" onclick=\"convertToInteractive('df-673ec169-85c4-45e7-bfb1-f1fae628221d')\"\n",
              "              title=\"Convert this dataframe to an interactive table.\"\n",
              "              style=\"display:none;\">\n",
              "        \n",
              "  <svg xmlns=\"http://www.w3.org/2000/svg\" height=\"24px\"viewBox=\"0 0 24 24\"\n",
              "       width=\"24px\">\n",
              "    <path d=\"M0 0h24v24H0V0z\" fill=\"none\"/>\n",
              "    <path d=\"M18.56 5.44l.94 2.06.94-2.06 2.06-.94-2.06-.94-.94-2.06-.94 2.06-2.06.94zm-11 1L8.5 8.5l.94-2.06 2.06-.94-2.06-.94L8.5 2.5l-.94 2.06-2.06.94zm10 10l.94 2.06.94-2.06 2.06-.94-2.06-.94-.94-2.06-.94 2.06-2.06.94z\"/><path d=\"M17.41 7.96l-1.37-1.37c-.4-.4-.92-.59-1.43-.59-.52 0-1.04.2-1.43.59L10.3 9.45l-7.72 7.72c-.78.78-.78 2.05 0 2.83L4 21.41c.39.39.9.59 1.41.59.51 0 1.02-.2 1.41-.59l7.78-7.78 2.81-2.81c.8-.78.8-2.07 0-2.86zM5.41 20L4 18.59l7.72-7.72 1.47 1.35L5.41 20z\"/>\n",
              "  </svg>\n",
              "      </button>\n",
              "      \n",
              "  <style>\n",
              "    .colab-df-container {\n",
              "      display:flex;\n",
              "      flex-wrap:wrap;\n",
              "      gap: 12px;\n",
              "    }\n",
              "\n",
              "    .colab-df-convert {\n",
              "      background-color: #E8F0FE;\n",
              "      border: none;\n",
              "      border-radius: 50%;\n",
              "      cursor: pointer;\n",
              "      display: none;\n",
              "      fill: #1967D2;\n",
              "      height: 32px;\n",
              "      padding: 0 0 0 0;\n",
              "      width: 32px;\n",
              "    }\n",
              "\n",
              "    .colab-df-convert:hover {\n",
              "      background-color: #E2EBFA;\n",
              "      box-shadow: 0px 1px 2px rgba(60, 64, 67, 0.3), 0px 1px 3px 1px rgba(60, 64, 67, 0.15);\n",
              "      fill: #174EA6;\n",
              "    }\n",
              "\n",
              "    [theme=dark] .colab-df-convert {\n",
              "      background-color: #3B4455;\n",
              "      fill: #D2E3FC;\n",
              "    }\n",
              "\n",
              "    [theme=dark] .colab-df-convert:hover {\n",
              "      background-color: #434B5C;\n",
              "      box-shadow: 0px 1px 3px 1px rgba(0, 0, 0, 0.15);\n",
              "      filter: drop-shadow(0px 1px 2px rgba(0, 0, 0, 0.3));\n",
              "      fill: #FFFFFF;\n",
              "    }\n",
              "  </style>\n",
              "\n",
              "      <script>\n",
              "        const buttonEl =\n",
              "          document.querySelector('#df-673ec169-85c4-45e7-bfb1-f1fae628221d button.colab-df-convert');\n",
              "        buttonEl.style.display =\n",
              "          google.colab.kernel.accessAllowed ? 'block' : 'none';\n",
              "\n",
              "        async function convertToInteractive(key) {\n",
              "          const element = document.querySelector('#df-673ec169-85c4-45e7-bfb1-f1fae628221d');\n",
              "          const dataTable =\n",
              "            await google.colab.kernel.invokeFunction('convertToInteractive',\n",
              "                                                     [key], {});\n",
              "          if (!dataTable) return;\n",
              "\n",
              "          const docLinkHtml = 'Like what you see? Visit the ' +\n",
              "            '<a target=\"_blank\" href=https://colab.research.google.com/notebooks/data_table.ipynb>data table notebook</a>'\n",
              "            + ' to learn more about interactive tables.';\n",
              "          element.innerHTML = '';\n",
              "          dataTable['output_type'] = 'display_data';\n",
              "          await google.colab.output.renderOutput(dataTable, element);\n",
              "          const docLink = document.createElement('div');\n",
              "          docLink.innerHTML = docLinkHtml;\n",
              "          element.appendChild(docLink);\n",
              "        }\n",
              "      </script>\n",
              "    </div>\n",
              "  </div>\n",
              "  "
            ]
          },
          "metadata": {},
          "execution_count": 107
        }
      ]
    },
    {
      "cell_type": "code",
      "source": [
        "!pip install aiohttp\n",
        "!pip install nest-asyncio\n",
        "!pip install BeautifulSoup"
      ],
      "metadata": {
        "id": "t1PH-Nv0D9Sw",
        "colab": {
          "base_uri": "https://localhost:8080/"
        },
        "outputId": "34d8a69f-5c89-4bd5-b27e-e543b3999694"
      },
      "execution_count": null,
      "outputs": [
        {
          "output_type": "stream",
          "name": "stdout",
          "text": [
            "Looking in indexes: https://pypi.org/simple, https://us-python.pkg.dev/colab-wheels/public/simple/\n",
            "Collecting aiohttp\n",
            "  Downloading aiohttp-3.8.4-cp39-cp39-manylinux_2_17_x86_64.manylinux2014_x86_64.whl (1.0 MB)\n",
            "\u001b[2K     \u001b[90m━━━━━━━━━━━━━━━━━━━━━━━━━━━━━━━━━━━━━━━━\u001b[0m \u001b[32m1.0/1.0 MB\u001b[0m \u001b[31m33.6 MB/s\u001b[0m eta \u001b[36m0:00:00\u001b[0m\n",
            "\u001b[?25hRequirement already satisfied: attrs>=17.3.0 in /usr/local/lib/python3.9/dist-packages (from aiohttp) (22.2.0)\n",
            "Collecting frozenlist>=1.1.1\n",
            "  Downloading frozenlist-1.3.3-cp39-cp39-manylinux_2_5_x86_64.manylinux1_x86_64.manylinux_2_17_x86_64.manylinux2014_x86_64.whl (158 kB)\n",
            "\u001b[2K     \u001b[90m━━━━━━━━━━━━━━━━━━━━━━━━━━━━━━━━━━━━━━\u001b[0m \u001b[32m158.8/158.8 KB\u001b[0m \u001b[31m17.3 MB/s\u001b[0m eta \u001b[36m0:00:00\u001b[0m\n",
            "\u001b[?25hRequirement already satisfied: charset-normalizer<4.0,>=2.0 in /usr/local/lib/python3.9/dist-packages (from aiohttp) (2.0.12)\n",
            "Collecting aiosignal>=1.1.2\n",
            "  Downloading aiosignal-1.3.1-py3-none-any.whl (7.6 kB)\n",
            "Collecting async-timeout<5.0,>=4.0.0a3\n",
            "  Downloading async_timeout-4.0.2-py3-none-any.whl (5.8 kB)\n",
            "Collecting multidict<7.0,>=4.5\n",
            "  Downloading multidict-6.0.4-cp39-cp39-manylinux_2_17_x86_64.manylinux2014_x86_64.whl (114 kB)\n",
            "\u001b[2K     \u001b[90m━━━━━━━━━━━━━━━━━━━━━━━━━━━━━━━━━━━━━━\u001b[0m \u001b[32m114.2/114.2 KB\u001b[0m \u001b[31m14.6 MB/s\u001b[0m eta \u001b[36m0:00:00\u001b[0m\n",
            "\u001b[?25hCollecting yarl<2.0,>=1.0\n",
            "  Downloading yarl-1.8.2-cp39-cp39-manylinux_2_17_x86_64.manylinux2014_x86_64.whl (264 kB)\n",
            "\u001b[2K     \u001b[90m━━━━━━━━━━━━━━━━━━━━━━━━━━━━━━━━━━━━━━\u001b[0m \u001b[32m264.6/264.6 KB\u001b[0m \u001b[31m26.2 MB/s\u001b[0m eta \u001b[36m0:00:00\u001b[0m\n",
            "\u001b[?25hRequirement already satisfied: idna>=2.0 in /usr/local/lib/python3.9/dist-packages (from yarl<2.0,>=1.0->aiohttp) (3.4)\n",
            "Installing collected packages: multidict, frozenlist, async-timeout, yarl, aiosignal, aiohttp\n",
            "Successfully installed aiohttp-3.8.4 aiosignal-1.3.1 async-timeout-4.0.2 frozenlist-1.3.3 multidict-6.0.4 yarl-1.8.2\n",
            "Looking in indexes: https://pypi.org/simple, https://us-python.pkg.dev/colab-wheels/public/simple/\n",
            "Requirement already satisfied: nest-asyncio in /usr/local/lib/python3.9/dist-packages (1.5.6)\n",
            "Looking in indexes: https://pypi.org/simple, https://us-python.pkg.dev/colab-wheels/public/simple/\n",
            "Collecting BeautifulSoup\n",
            "  Downloading BeautifulSoup-3.2.2.tar.gz (32 kB)\n",
            "  \u001b[1;31merror\u001b[0m: \u001b[1msubprocess-exited-with-error\u001b[0m\n",
            "  \n",
            "  \u001b[31m×\u001b[0m \u001b[32mpython setup.py egg_info\u001b[0m did not run successfully.\n",
            "  \u001b[31m│\u001b[0m exit code: \u001b[1;36m1\u001b[0m\n",
            "  \u001b[31m╰─>\u001b[0m See above for output.\n",
            "  \n",
            "  \u001b[1;35mnote\u001b[0m: This error originates from a subprocess, and is likely not a problem with pip.\n",
            "  Preparing metadata (setup.py) ... \u001b[?25l\u001b[?25herror\n",
            "\u001b[1;31merror\u001b[0m: \u001b[1mmetadata-generation-failed\u001b[0m\n",
            "\n",
            "\u001b[31m×\u001b[0m Encountered error while generating package metadata.\n",
            "\u001b[31m╰─>\u001b[0m See above for output.\n",
            "\n",
            "\u001b[1;35mnote\u001b[0m: This is an issue with the package mentioned above, not pip.\n",
            "\u001b[1;36mhint\u001b[0m: See above for details.\n"
          ]
        }
      ]
    },
    {
      "cell_type": "markdown",
      "source": [
        "## Decompose original claims\n",
        "\n",
        "### Step 1\n",
        "Here, we will call a deployed version of our claim decomposition model to decompose the given claims into binary sub-questions.\n",
        "\n",
        "It relies on the following backend API: https://adv-decomp-hnozmogerq-as.a.run.app/advdecomp\n"
      ],
      "metadata": {
        "id": "6TW4Av-BxvBp"
      }
    },
    {
      "cell_type": "code",
      "source": [
        "import asyncio\n",
        "import aiohttp\n",
        "import nest_asyncio\n",
        "import json\n",
        "\n",
        "nest_asyncio.apply()\n",
        "\n",
        "# define the base URL and parameters\n",
        "decomp_url = 'https://adv-decomp-hnozmogerq-as.a.run.app/advdecomp'\n",
        "\n",
        "async def decomp(url, claim):\n",
        "  params = {'claim': claim}\n",
        "  async with aiohttp.ClientSession() as session:\n",
        "        async with session.get(url, params=params) as response:\n",
        "            content = await response.text(encoding='unicode_escape')\n",
        "            return content\n",
        "\n",
        "async def processDecomp(df):\n",
        "  for i in tqdm(range(len(df))):\n",
        "    claim = df.loc[i, 'claim']\n",
        "    response = await decomp(decomp_url, claim)\n",
        "    response = response.strip()\n",
        "    # Get the array of sub-questions\n",
        "    df.loc[i, 'decomp-subquestions'] = response\n",
        "\n",
        "# print the response content\n",
        "asyncio.run(processDecomp(dfTest))"
      ],
      "metadata": {
        "colab": {
          "base_uri": "https://localhost:8080/"
        },
        "id": "-oI2GqH7x-_y",
        "outputId": "335f7ccc-473b-4c6f-e1bb-68c6bf05a262"
      },
      "execution_count": null,
      "outputs": [
        {
          "output_type": "stream",
          "name": "stderr",
          "text": [
            "100%|██████████| 200/200 [09:03<00:00,  2.72s/it]\n"
          ]
        }
      ]
    },
    {
      "cell_type": "code",
      "source": [
        "dfTest.dtypes"
      ],
      "metadata": {
        "id": "DS4JUEcL5OTK"
      },
      "execution_count": null,
      "outputs": []
    },
    {
      "cell_type": "code",
      "source": [
        "dfTest.head()"
      ],
      "metadata": {
        "colab": {
          "base_uri": "https://localhost:8080/",
          "height": 788
        },
        "id": "JlL-qrCj0KC6",
        "outputId": "245f8dc6-9c68-4bbb-92d3-3780c68ad6ad"
      },
      "execution_count": null,
      "outputs": [
        {
          "output_type": "execute_result",
          "data": {
            "text/plain": [
              "                                               claim        label  \\\n",
              "0  Says Kentucky Rep. Andy Barr \"would let shady ...    half-true   \n",
              "1  \"New reports show Kevin Nicholson made over $1...  barely-true   \n",
              "2  Says that unless the recipient called back abo...   pants-fire   \n",
              "3  \"Donald Trump said he was excited for the 2008...    half-true   \n",
              "4  \"The president has said the national security ...  barely-true   \n",
              "\n",
              "                                 annotated-questions  label-binary  \\\n",
              "0  [1. Has Barr received $36,550 from payday lend...             1   \n",
              "1  [1. Did Nicholson make $1 million consulting f...             0   \n",
              "2  [1. Will people be taken into local police cus...             0   \n",
              "3  [1. Was Donald Trump \"Excited\" for the 2008 ho...             1   \n",
              "4  [1. Has Obama cited climate change as the top ...             0   \n",
              "\n",
              "                                 decomp-subquestions decomp-subclaims  \\\n",
              "0  \" 1. Did Barr take money from these lenders?\\n...                    \n",
              "1  \" 1. Did Nicholson make over $1 million?\\n2. D...                    \n",
              "2  \" 1. Did someone call about this person's tax ...                    \n",
              "3  \" 1. Did Donald Trump say he was excited for t...                    \n",
              "4  \" 1. Did the president say that global warming...                    \n",
              "\n",
              "   decomp-supporting  decomp-refuting decomp-label  decomp-label-binary  \\\n",
              "0                  0                0                                 0   \n",
              "1                  0                0                                 0   \n",
              "2                  0                0                                 0   \n",
              "3                  0                0                                 0   \n",
              "4                  0                0                                 0   \n",
              "\n",
              "  decomp-evidence  decomp-performance  \n",
              "0                                   0  \n",
              "1                                   0  \n",
              "2                                   0  \n",
              "3                                   0  \n",
              "4                                   0  "
            ],
            "text/html": [
              "\n",
              "  <div id=\"df-065b02f1-6d6b-4351-b1dc-b005cdea896c\">\n",
              "    <div class=\"colab-df-container\">\n",
              "      <div>\n",
              "<style scoped>\n",
              "    .dataframe tbody tr th:only-of-type {\n",
              "        vertical-align: middle;\n",
              "    }\n",
              "\n",
              "    .dataframe tbody tr th {\n",
              "        vertical-align: top;\n",
              "    }\n",
              "\n",
              "    .dataframe thead th {\n",
              "        text-align: right;\n",
              "    }\n",
              "</style>\n",
              "<table border=\"1\" class=\"dataframe\">\n",
              "  <thead>\n",
              "    <tr style=\"text-align: right;\">\n",
              "      <th></th>\n",
              "      <th>claim</th>\n",
              "      <th>label</th>\n",
              "      <th>annotated-questions</th>\n",
              "      <th>label-binary</th>\n",
              "      <th>decomp-subquestions</th>\n",
              "      <th>decomp-subclaims</th>\n",
              "      <th>decomp-supporting</th>\n",
              "      <th>decomp-refuting</th>\n",
              "      <th>decomp-label</th>\n",
              "      <th>decomp-label-binary</th>\n",
              "      <th>decomp-evidence</th>\n",
              "      <th>decomp-performance</th>\n",
              "    </tr>\n",
              "  </thead>\n",
              "  <tbody>\n",
              "    <tr>\n",
              "      <th>0</th>\n",
              "      <td>Says Kentucky Rep. Andy Barr \"would let shady ...</td>\n",
              "      <td>half-true</td>\n",
              "      <td>[1. Has Barr received $36,550 from payday lend...</td>\n",
              "      <td>1</td>\n",
              "      <td>\" 1. Did Barr take money from these lenders?\\n...</td>\n",
              "      <td></td>\n",
              "      <td>0</td>\n",
              "      <td>0</td>\n",
              "      <td></td>\n",
              "      <td>0</td>\n",
              "      <td></td>\n",
              "      <td>0</td>\n",
              "    </tr>\n",
              "    <tr>\n",
              "      <th>1</th>\n",
              "      <td>\"New reports show Kevin Nicholson made over $1...</td>\n",
              "      <td>barely-true</td>\n",
              "      <td>[1. Did Nicholson make $1 million consulting f...</td>\n",
              "      <td>0</td>\n",
              "      <td>\" 1. Did Nicholson make over $1 million?\\n2. D...</td>\n",
              "      <td></td>\n",
              "      <td>0</td>\n",
              "      <td>0</td>\n",
              "      <td></td>\n",
              "      <td>0</td>\n",
              "      <td></td>\n",
              "      <td>0</td>\n",
              "    </tr>\n",
              "    <tr>\n",
              "      <th>2</th>\n",
              "      <td>Says that unless the recipient called back abo...</td>\n",
              "      <td>pants-fire</td>\n",
              "      <td>[1. Will people be taken into local police cus...</td>\n",
              "      <td>0</td>\n",
              "      <td>\" 1. Did someone call about this person's tax ...</td>\n",
              "      <td></td>\n",
              "      <td>0</td>\n",
              "      <td>0</td>\n",
              "      <td></td>\n",
              "      <td>0</td>\n",
              "      <td></td>\n",
              "      <td>0</td>\n",
              "    </tr>\n",
              "    <tr>\n",
              "      <th>3</th>\n",
              "      <td>\"Donald Trump said he was excited for the 2008...</td>\n",
              "      <td>half-true</td>\n",
              "      <td>[1. Was Donald Trump \"Excited\" for the 2008 ho...</td>\n",
              "      <td>1</td>\n",
              "      <td>\" 1. Did Donald Trump say he was excited for t...</td>\n",
              "      <td></td>\n",
              "      <td>0</td>\n",
              "      <td>0</td>\n",
              "      <td></td>\n",
              "      <td>0</td>\n",
              "      <td></td>\n",
              "      <td>0</td>\n",
              "    </tr>\n",
              "    <tr>\n",
              "      <th>4</th>\n",
              "      <td>\"The president has said the national security ...</td>\n",
              "      <td>barely-true</td>\n",
              "      <td>[1. Has Obama cited climate change as the top ...</td>\n",
              "      <td>0</td>\n",
              "      <td>\" 1. Did the president say that global warming...</td>\n",
              "      <td></td>\n",
              "      <td>0</td>\n",
              "      <td>0</td>\n",
              "      <td></td>\n",
              "      <td>0</td>\n",
              "      <td></td>\n",
              "      <td>0</td>\n",
              "    </tr>\n",
              "  </tbody>\n",
              "</table>\n",
              "</div>\n",
              "      <button class=\"colab-df-convert\" onclick=\"convertToInteractive('df-065b02f1-6d6b-4351-b1dc-b005cdea896c')\"\n",
              "              title=\"Convert this dataframe to an interactive table.\"\n",
              "              style=\"display:none;\">\n",
              "        \n",
              "  <svg xmlns=\"http://www.w3.org/2000/svg\" height=\"24px\"viewBox=\"0 0 24 24\"\n",
              "       width=\"24px\">\n",
              "    <path d=\"M0 0h24v24H0V0z\" fill=\"none\"/>\n",
              "    <path d=\"M18.56 5.44l.94 2.06.94-2.06 2.06-.94-2.06-.94-.94-2.06-.94 2.06-2.06.94zm-11 1L8.5 8.5l.94-2.06 2.06-.94-2.06-.94L8.5 2.5l-.94 2.06-2.06.94zm10 10l.94 2.06.94-2.06 2.06-.94-2.06-.94-.94-2.06-.94 2.06-2.06.94z\"/><path d=\"M17.41 7.96l-1.37-1.37c-.4-.4-.92-.59-1.43-.59-.52 0-1.04.2-1.43.59L10.3 9.45l-7.72 7.72c-.78.78-.78 2.05 0 2.83L4 21.41c.39.39.9.59 1.41.59.51 0 1.02-.2 1.41-.59l7.78-7.78 2.81-2.81c.8-.78.8-2.07 0-2.86zM5.41 20L4 18.59l7.72-7.72 1.47 1.35L5.41 20z\"/>\n",
              "  </svg>\n",
              "      </button>\n",
              "      \n",
              "  <style>\n",
              "    .colab-df-container {\n",
              "      display:flex;\n",
              "      flex-wrap:wrap;\n",
              "      gap: 12px;\n",
              "    }\n",
              "\n",
              "    .colab-df-convert {\n",
              "      background-color: #E8F0FE;\n",
              "      border: none;\n",
              "      border-radius: 50%;\n",
              "      cursor: pointer;\n",
              "      display: none;\n",
              "      fill: #1967D2;\n",
              "      height: 32px;\n",
              "      padding: 0 0 0 0;\n",
              "      width: 32px;\n",
              "    }\n",
              "\n",
              "    .colab-df-convert:hover {\n",
              "      background-color: #E2EBFA;\n",
              "      box-shadow: 0px 1px 2px rgba(60, 64, 67, 0.3), 0px 1px 3px 1px rgba(60, 64, 67, 0.15);\n",
              "      fill: #174EA6;\n",
              "    }\n",
              "\n",
              "    [theme=dark] .colab-df-convert {\n",
              "      background-color: #3B4455;\n",
              "      fill: #D2E3FC;\n",
              "    }\n",
              "\n",
              "    [theme=dark] .colab-df-convert:hover {\n",
              "      background-color: #434B5C;\n",
              "      box-shadow: 0px 1px 3px 1px rgba(0, 0, 0, 0.15);\n",
              "      filter: drop-shadow(0px 1px 2px rgba(0, 0, 0, 0.3));\n",
              "      fill: #FFFFFF;\n",
              "    }\n",
              "  </style>\n",
              "\n",
              "      <script>\n",
              "        const buttonEl =\n",
              "          document.querySelector('#df-065b02f1-6d6b-4351-b1dc-b005cdea896c button.colab-df-convert');\n",
              "        buttonEl.style.display =\n",
              "          google.colab.kernel.accessAllowed ? 'block' : 'none';\n",
              "\n",
              "        async function convertToInteractive(key) {\n",
              "          const element = document.querySelector('#df-065b02f1-6d6b-4351-b1dc-b005cdea896c');\n",
              "          const dataTable =\n",
              "            await google.colab.kernel.invokeFunction('convertToInteractive',\n",
              "                                                     [key], {});\n",
              "          if (!dataTable) return;\n",
              "\n",
              "          const docLinkHtml = 'Like what you see? Visit the ' +\n",
              "            '<a target=\"_blank\" href=https://colab.research.google.com/notebooks/data_table.ipynb>data table notebook</a>'\n",
              "            + ' to learn more about interactive tables.';\n",
              "          element.innerHTML = '';\n",
              "          dataTable['output_type'] = 'display_data';\n",
              "          await google.colab.output.renderOutput(dataTable, element);\n",
              "          const docLink = document.createElement('div');\n",
              "          docLink.innerHTML = docLinkHtml;\n",
              "          element.appendChild(docLink);\n",
              "        }\n",
              "      </script>\n",
              "    </div>\n",
              "  </div>\n",
              "  "
            ]
          },
          "metadata": {},
          "execution_count": 109
        }
      ]
    },
    {
      "cell_type": "code",
      "source": [
        "dfTest.to_csv(\"./result/evalDecompTest-stage1.csv\", index=False, encoding = 'utf-8-sig', header=True, escapechar='',)"
      ],
      "metadata": {
        "id": "YdYtZHnf2IZF"
      },
      "execution_count": null,
      "outputs": []
    },
    {
      "cell_type": "markdown",
      "source": [
        "## Transform sub-questions into sub-claims\n",
        "### Step 2\n",
        "Now that we have our decomposed binary questions, we will transform them into a hypothesis using another deployed model.\n",
        "\n",
        "It relies on the following backend API for question-hypothesis conversion: https://hypothesize-hnozmogerq-as.a.run.app/hypothesize\n",
        "\n"
      ],
      "metadata": {
        "id": "wNUeBzbr0OgW"
      }
    },
    {
      "cell_type": "code",
      "source": [
        "# define the base URL and parameters\n",
        "hypo_url = 'https://hypothesize-hnozmogerq-as.a.run.app/hypothesize'\n",
        "\n",
        "async def hypothesize(url, q):\n",
        "  params = {'question': q}\n",
        "  async with aiohttp.ClientSession() as session:\n",
        "        async with session.get(url, params=params) as response:\n",
        "            content = await response.text(encoding='unicode_escape')\n",
        "            return content\n",
        "\n",
        "async def processHypo(df):\n",
        "  for i in tqdm(range(len(df))):\n",
        "    subQ = dfTest.loc[i, 'decomp-subquestions'].split(\"\\n\")\n",
        "    subQ = [str[str.index(\".\") + 2:] if \".\" in str else str for str in subQ]\n",
        "    hypothesisList = \"\"\n",
        "    for j in tqdm(range(len(subQ))):\n",
        "      response = await hypothesize(hypo_url, subQ[j])\n",
        "      response = response.strip()\n",
        "      hypothesisList = hypothesisList + response + \";\"\n",
        "    \n",
        "    df.loc[i, 'decomp-subclaims'] = hypothesisList[:-1]\n",
        "\n",
        "# print the response content\n",
        "asyncio.run(processHypo(dfTest))"
      ],
      "metadata": {
        "colab": {
          "base_uri": "https://localhost:8080/"
        },
        "id": "dewnuayY0fp-",
        "outputId": "54126df2-d1f1-45d8-d225-e81cdc225acb"
      },
      "execution_count": null,
      "outputs": [
        {
          "output_type": "stream",
          "name": "stderr",
          "text": [
            "  0%|          | 0/200 [00:00<?, ?it/s]\n",
            "  0%|          | 0/3 [00:00<?, ?it/s]\u001b[A\n",
            " 33%|███▎      | 1/3 [00:06<00:12,  6.42s/it]\u001b[A\n",
            " 67%|██████▋   | 2/3 [00:07<00:03,  3.27s/it]\u001b[A\n",
            "100%|██████████| 3/3 [00:08<00:00,  2.84s/it]\n",
            "  0%|          | 1/200 [00:08<28:18,  8.53s/it]\n",
            "  0%|          | 0/4 [00:00<?, ?it/s]\u001b[A\n",
            " 25%|██▌       | 1/4 [00:00<00:02,  1.05it/s]\u001b[A\n",
            " 50%|█████     | 2/4 [00:01<00:01,  1.01it/s]\u001b[A\n",
            " 75%|███████▌  | 3/4 [00:02<00:00,  1.05it/s]\u001b[A\n",
            "100%|██████████| 4/4 [00:04<00:00,  1.07s/it]\n",
            "  1%|          | 2/200 [00:12<19:56,  6.04s/it]\n",
            "  0%|          | 0/4 [00:00<?, ?it/s]\u001b[A\n",
            " 25%|██▌       | 1/4 [00:01<00:04,  1.35s/it]\u001b[A\n",
            " 50%|█████     | 2/4 [00:02<00:02,  1.12s/it]\u001b[A\n",
            " 75%|███████▌  | 3/4 [00:03<00:01,  1.08s/it]\u001b[A\n",
            "100%|██████████| 4/4 [00:05<00:00,  1.27s/it]\n",
            "  2%|▏         | 3/200 [00:17<18:25,  5.61s/it]\n",
            "  0%|          | 0/3 [00:00<?, ?it/s]\u001b[A\n",
            " 33%|███▎      | 1/3 [00:01<00:02,  1.02s/it]\u001b[A\n",
            " 67%|██████▋   | 2/3 [00:02<00:01,  1.03s/it]\u001b[A\n",
            "100%|██████████| 3/3 [00:03<00:00,  1.05s/it]\n",
            "  2%|▏         | 4/200 [00:21<15:10,  4.64s/it]\n",
            "  0%|          | 0/3 [00:00<?, ?it/s]\u001b[A\n",
            " 33%|███▎      | 1/3 [00:01<00:02,  1.14s/it]\u001b[A\n",
            " 67%|██████▋   | 2/3 [00:02<00:01,  1.05s/it]\u001b[A\n",
            "100%|██████████| 3/3 [00:03<00:00,  1.12s/it]\n",
            "  2%|▎         | 5/200 [00:24<13:34,  4.18s/it]\n",
            "  0%|          | 0/3 [00:00<?, ?it/s]\u001b[A\n",
            " 33%|███▎      | 1/3 [00:01<00:03,  1.76s/it]\u001b[A\n",
            " 67%|██████▋   | 2/3 [00:03<00:01,  1.86s/it]\u001b[A\n",
            "100%|██████████| 3/3 [00:04<00:00,  1.65s/it]\n",
            "  3%|▎         | 6/200 [00:29<14:22,  4.44s/it]\n",
            "  0%|          | 0/2 [00:00<?, ?it/s]\u001b[A\n",
            " 50%|█████     | 1/2 [00:01<00:01,  1.27s/it]\u001b[A\n",
            "100%|██████████| 2/2 [00:02<00:00,  1.33s/it]\n",
            "  4%|▎         | 7/200 [00:32<12:25,  3.87s/it]\n",
            "  0%|          | 0/3 [00:00<?, ?it/s]\u001b[A\n",
            " 33%|███▎      | 1/3 [00:01<00:02,  1.16s/it]\u001b[A\n",
            " 67%|██████▋   | 2/3 [00:02<00:01,  1.14s/it]\u001b[A\n",
            "100%|██████████| 3/3 [00:03<00:00,  1.18s/it]\n",
            "  4%|▍         | 8/200 [00:35<12:02,  3.76s/it]\n",
            "  0%|          | 0/3 [00:00<?, ?it/s]\u001b[A\n",
            " 33%|███▎      | 1/3 [00:01<00:03,  1.72s/it]\u001b[A\n",
            " 67%|██████▋   | 2/3 [00:03<00:01,  1.94s/it]\u001b[A\n",
            "100%|██████████| 3/3 [00:04<00:00,  1.64s/it]\n",
            "  4%|▍         | 9/200 [00:40<13:08,  4.13s/it]\n",
            "  0%|          | 0/3 [00:00<?, ?it/s]\u001b[A\n",
            " 33%|███▎      | 1/3 [00:01<00:03,  1.70s/it]\u001b[A\n",
            " 67%|██████▋   | 2/3 [00:02<00:01,  1.42s/it]\u001b[A\n",
            "100%|██████████| 3/3 [00:03<00:00,  1.32s/it]\n",
            "  5%|▌         | 10/200 [00:44<12:55,  4.08s/it]\n",
            "  0%|          | 0/3 [00:00<?, ?it/s]\u001b[A\n",
            " 33%|███▎      | 1/3 [00:01<00:02,  1.19s/it]\u001b[A\n",
            " 67%|██████▋   | 2/3 [00:02<00:01,  1.25s/it]\u001b[A\n",
            "100%|██████████| 3/3 [00:03<00:00,  1.21s/it]\n",
            "  6%|▌         | 11/200 [00:48<12:25,  3.94s/it]\n",
            "  0%|          | 0/3 [00:00<?, ?it/s]\u001b[A\n",
            " 33%|███▎      | 1/3 [00:01<00:02,  1.35s/it]\u001b[A\n",
            " 67%|██████▋   | 2/3 [00:02<00:01,  1.28s/it]\u001b[A\n",
            "100%|██████████| 3/3 [00:04<00:00,  1.40s/it]\n",
            "  6%|▌         | 12/200 [00:52<12:36,  4.02s/it]\n",
            "  0%|          | 0/3 [00:00<?, ?it/s]\u001b[A\n",
            " 33%|███▎      | 1/3 [00:01<00:02,  1.19s/it]\u001b[A\n",
            " 67%|██████▋   | 2/3 [00:02<00:01,  1.11s/it]\u001b[A\n",
            "100%|██████████| 3/3 [00:03<00:00,  1.10s/it]\n",
            "  6%|▋         | 13/200 [00:55<11:52,  3.81s/it]\n",
            "  0%|          | 0/3 [00:00<?, ?it/s]\u001b[A\n",
            " 33%|███▎      | 1/3 [00:01<00:02,  1.18s/it]\u001b[A\n",
            " 67%|██████▋   | 2/3 [00:02<00:01,  1.18s/it]\u001b[A\n",
            "100%|██████████| 3/3 [00:03<00:00,  1.31s/it]\n",
            "  7%|▋         | 14/200 [00:59<11:56,  3.85s/it]\n",
            "  0%|          | 0/2 [00:00<?, ?it/s]\u001b[A\n",
            " 50%|█████     | 1/2 [00:01<00:01,  1.12s/it]\u001b[A\n",
            "100%|██████████| 2/2 [00:02<00:00,  1.27s/it]\n",
            "  8%|▊         | 15/200 [01:02<10:39,  3.46s/it]\n",
            "  0%|          | 0/3 [00:00<?, ?it/s]\u001b[A\n",
            " 33%|███▎      | 1/3 [00:01<00:02,  1.16s/it]\u001b[A\n",
            " 67%|██████▋   | 2/3 [00:02<00:01,  1.27s/it]\u001b[A\n",
            "100%|██████████| 3/3 [00:04<00:00,  1.36s/it]\n",
            "  8%|▊         | 16/200 [01:06<11:11,  3.65s/it]\n",
            "  0%|          | 0/3 [00:00<?, ?it/s]\u001b[A\n",
            " 33%|███▎      | 1/3 [00:01<00:02,  1.05s/it]\u001b[A\n",
            " 67%|██████▋   | 2/3 [00:02<00:01,  1.03s/it]\u001b[A\n",
            "100%|██████████| 3/3 [00:03<00:00,  1.11s/it]\n",
            "  8%|▊         | 17/200 [01:09<10:51,  3.56s/it]\n",
            "  0%|          | 0/2 [00:00<?, ?it/s]\u001b[A\n",
            " 50%|█████     | 1/2 [00:02<00:02,  2.09s/it]\u001b[A\n",
            "100%|██████████| 2/2 [00:04<00:00,  2.11s/it]\n",
            "  9%|▉         | 18/200 [01:13<11:24,  3.76s/it]\n",
            "  0%|          | 0/3 [00:00<?, ?it/s]\u001b[A\n",
            " 33%|███▎      | 1/3 [00:00<00:01,  1.12it/s]\u001b[A\n",
            " 67%|██████▋   | 2/3 [00:01<00:00,  1.08it/s]\u001b[A\n",
            "100%|██████████| 3/3 [00:02<00:00,  1.02it/s]\n",
            " 10%|▉         | 19/200 [01:16<10:36,  3.52s/it]\n",
            "  0%|          | 0/6 [00:00<?, ?it/s]\u001b[A\n",
            " 17%|█▋        | 1/6 [00:01<00:08,  1.75s/it]\u001b[A\n",
            " 33%|███▎      | 2/6 [00:02<00:05,  1.44s/it]\u001b[A\n",
            " 50%|█████     | 3/6 [00:03<00:03,  1.21s/it]\u001b[A\n",
            " 67%|██████▋   | 4/6 [00:04<00:02,  1.11s/it]\u001b[A\n",
            " 83%|████████▎ | 5/6 [00:06<00:01,  1.33s/it]\u001b[A\n",
            "100%|██████████| 6/6 [00:07<00:00,  1.26s/it]\n",
            " 10%|█         | 20/200 [01:24<14:13,  4.74s/it]\n",
            "  0%|          | 0/4 [00:00<?, ?it/s]\u001b[A\n",
            " 25%|██▌       | 1/4 [00:01<00:03,  1.29s/it]\u001b[A\n",
            " 50%|█████     | 2/4 [00:02<00:02,  1.22s/it]\u001b[A\n",
            " 75%|███████▌  | 3/4 [00:03<00:01,  1.19s/it]\u001b[A\n",
            "100%|██████████| 4/4 [00:04<00:00,  1.17s/it]\n",
            " 10%|█         | 21/200 [01:29<14:06,  4.73s/it]\n",
            "  0%|          | 0/3 [00:00<?, ?it/s]\u001b[A\n",
            " 33%|███▎      | 1/3 [00:01<00:02,  1.10s/it]\u001b[A\n",
            " 67%|██████▋   | 2/3 [00:02<00:01,  1.03s/it]\u001b[A\n",
            "100%|██████████| 3/3 [00:03<00:00,  1.05s/it]\n",
            " 11%|█         | 22/200 [01:32<12:37,  4.26s/it]\n",
            "  0%|          | 0/4 [00:00<?, ?it/s]\u001b[A\n",
            " 25%|██▌       | 1/4 [00:01<00:03,  1.02s/it]\u001b[A\n",
            " 50%|█████     | 2/4 [00:02<00:01,  1.00it/s]\u001b[A\n",
            " 75%|███████▌  | 3/4 [00:04<00:01,  1.51s/it]\u001b[A\n",
            "100%|██████████| 4/4 [00:05<00:00,  1.29s/it]\n",
            " 12%|█▏        | 23/200 [01:37<13:20,  4.53s/it]\n",
            "  0%|          | 0/4 [00:00<?, ?it/s]\u001b[A\n",
            " 25%|██▌       | 1/4 [00:01<00:03,  1.09s/it]\u001b[A\n",
            " 50%|█████     | 2/4 [00:02<00:02,  1.10s/it]\u001b[A\n",
            " 75%|███████▌  | 3/4 [00:03<00:01,  1.16s/it]\u001b[A\n",
            "100%|██████████| 4/4 [00:04<00:00,  1.24s/it]\n",
            " 12%|█▏        | 24/200 [01:42<13:39,  4.65s/it]\n",
            "  0%|          | 0/4 [00:00<?, ?it/s]\u001b[A\n",
            " 25%|██▌       | 1/4 [00:01<00:03,  1.17s/it]\u001b[A\n",
            " 50%|█████     | 2/4 [00:02<00:02,  1.28s/it]\u001b[A\n",
            " 75%|███████▌  | 3/4 [00:03<00:01,  1.20s/it]\u001b[A\n",
            "100%|██████████| 4/4 [00:05<00:00,  1.43s/it]\n",
            " 12%|█▎        | 25/200 [01:48<14:31,  4.98s/it]\n",
            "  0%|          | 0/3 [00:00<?, ?it/s]\u001b[A\n",
            " 33%|███▎      | 1/3 [00:01<00:01,  1.00it/s]\u001b[A\n",
            " 67%|██████▋   | 2/3 [00:02<00:01,  1.03s/it]\u001b[A\n",
            "100%|██████████| 3/3 [00:02<00:00,  1.01it/s]\n",
            " 13%|█▎        | 26/200 [01:51<12:42,  4.38s/it]\n",
            "  0%|          | 0/3 [00:00<?, ?it/s]\u001b[A\n",
            " 33%|███▎      | 1/3 [00:01<00:02,  1.33s/it]\u001b[A\n",
            " 67%|██████▋   | 2/3 [00:02<00:01,  1.38s/it]\u001b[A\n",
            "100%|██████████| 3/3 [00:03<00:00,  1.24s/it]\n",
            " 14%|█▎        | 27/200 [01:54<12:04,  4.19s/it]\n",
            "  0%|          | 0/4 [00:00<?, ?it/s]\u001b[A\n",
            " 25%|██▌       | 1/4 [00:01<00:03,  1.24s/it]\u001b[A\n",
            " 50%|█████     | 2/4 [00:03<00:03,  1.90s/it]\u001b[A\n",
            " 75%|███████▌  | 3/4 [00:05<00:01,  1.68s/it]\u001b[A\n",
            "100%|██████████| 4/4 [00:06<00:00,  1.55s/it]\n",
            " 14%|█▍        | 28/200 [02:01<13:44,  4.79s/it]\n",
            "  0%|          | 0/3 [00:00<?, ?it/s]\u001b[A\n",
            " 33%|███▎      | 1/3 [00:01<00:02,  1.01s/it]\u001b[A\n",
            " 67%|██████▋   | 2/3 [00:03<00:01,  1.66s/it]\u001b[A\n",
            "100%|██████████| 3/3 [00:04<00:00,  1.59s/it]\n",
            " 14%|█▍        | 29/200 [02:05<13:39,  4.79s/it]\n",
            "  0%|          | 0/4 [00:00<?, ?it/s]\u001b[A\n",
            " 25%|██▌       | 1/4 [00:01<00:04,  1.35s/it]\u001b[A\n",
            " 50%|█████     | 2/4 [00:02<00:02,  1.15s/it]\u001b[A\n",
            " 75%|███████▌  | 3/4 [00:03<00:01,  1.33s/it]\u001b[A\n",
            "100%|██████████| 4/4 [00:04<00:00,  1.22s/it]\n",
            " 15%|█▌        | 30/200 [02:10<13:39,  4.82s/it]\n",
            "  0%|          | 0/3 [00:00<?, ?it/s]\u001b[A\n",
            " 33%|███▎      | 1/3 [00:01<00:02,  1.32s/it]\u001b[A\n",
            " 67%|██████▋   | 2/3 [00:02<00:01,  1.07s/it]\u001b[A\n",
            "100%|██████████| 3/3 [00:03<00:00,  1.10s/it]\n",
            " 16%|█▌        | 31/200 [02:13<12:17,  4.36s/it]\n",
            "  0%|          | 0/3 [00:00<?, ?it/s]\u001b[A\n",
            " 33%|███▎      | 1/3 [00:01<00:01,  1.00it/s]\u001b[A\n",
            " 67%|██████▋   | 2/3 [00:02<00:01,  1.14s/it]\u001b[A\n",
            "100%|██████████| 3/3 [00:03<00:00,  1.05s/it]\n",
            " 16%|█▌        | 32/200 [02:17<11:12,  4.00s/it]\n",
            "  0%|          | 0/3 [00:00<?, ?it/s]\u001b[A\n",
            " 33%|███▎      | 1/3 [00:01<00:02,  1.05s/it]\u001b[A\n",
            " 67%|██████▋   | 2/3 [00:01<00:00,  1.05it/s]\u001b[A\n",
            "100%|██████████| 3/3 [00:02<00:00,  1.03it/s]\n",
            " 16%|█▋        | 33/200 [02:20<10:14,  3.68s/it]\n",
            "  0%|          | 0/3 [00:00<?, ?it/s]\u001b[A\n",
            " 33%|███▎      | 1/3 [00:01<00:02,  1.08s/it]\u001b[A\n",
            " 67%|██████▋   | 2/3 [00:02<00:01,  1.13s/it]\u001b[A\n",
            "100%|██████████| 3/3 [00:03<00:00,  1.19s/it]\n",
            " 17%|█▋        | 34/200 [02:23<10:06,  3.65s/it]\n",
            "  0%|          | 0/3 [00:00<?, ?it/s]\u001b[A\n",
            " 33%|███▎      | 1/3 [00:01<00:02,  1.13s/it]\u001b[A\n",
            " 67%|██████▋   | 2/3 [00:03<00:01,  1.76s/it]\u001b[A\n",
            "100%|██████████| 3/3 [00:04<00:00,  1.48s/it]\n",
            " 18%|█▊        | 35/200 [02:28<10:41,  3.89s/it]\n",
            "  0%|          | 0/3 [00:00<?, ?it/s]\u001b[A\n",
            " 33%|███▎      | 1/3 [00:01<00:02,  1.37s/it]\u001b[A\n",
            " 67%|██████▋   | 2/3 [00:02<00:01,  1.08s/it]\u001b[A\n",
            "100%|██████████| 3/3 [00:03<00:00,  1.16s/it]\n",
            " 18%|█▊        | 36/200 [02:31<10:18,  3.77s/it]\n",
            "  0%|          | 0/3 [00:00<?, ?it/s]\u001b[A\n",
            " 33%|███▎      | 1/3 [00:01<00:02,  1.21s/it]\u001b[A\n",
            " 67%|██████▋   | 2/3 [00:02<00:01,  1.23s/it]\u001b[A\n",
            "100%|██████████| 3/3 [00:03<00:00,  1.22s/it]\n",
            " 18%|█▊        | 37/200 [02:35<10:09,  3.74s/it]\n",
            "  0%|          | 0/3 [00:00<?, ?it/s]\u001b[A\n",
            " 33%|███▎      | 1/3 [00:01<00:02,  1.09s/it]\u001b[A\n",
            " 67%|██████▋   | 2/3 [00:02<00:01,  1.01s/it]\u001b[A\n",
            "100%|██████████| 3/3 [00:03<00:00,  1.01s/it]\n",
            " 19%|█▉        | 38/200 [02:38<09:31,  3.53s/it]\n",
            "  0%|          | 0/3 [00:00<?, ?it/s]\u001b[A\n",
            " 33%|███▎      | 1/3 [00:01<00:02,  1.39s/it]\u001b[A\n",
            " 67%|██████▋   | 2/3 [00:02<00:01,  1.17s/it]\u001b[A\n",
            "100%|██████████| 3/3 [00:03<00:00,  1.09s/it]\n",
            " 20%|█▉        | 39/200 [02:41<09:15,  3.45s/it]\n",
            "  0%|          | 0/3 [00:00<?, ?it/s]\u001b[A\n",
            " 33%|███▎      | 1/3 [00:01<00:02,  1.22s/it]\u001b[A\n",
            " 67%|██████▋   | 2/3 [00:02<00:01,  1.15s/it]\u001b[A\n",
            "100%|██████████| 3/3 [00:03<00:00,  1.13s/it]\n",
            " 20%|██        | 40/200 [02:44<09:09,  3.43s/it]\n",
            "  0%|          | 0/2 [00:00<?, ?it/s]\u001b[A\n",
            " 50%|█████     | 1/2 [00:01<00:01,  1.61s/it]\u001b[A\n",
            "100%|██████████| 2/2 [00:02<00:00,  1.40s/it]\n",
            " 20%|██        | 41/200 [02:47<08:35,  3.24s/it]\n",
            "  0%|          | 0/3 [00:00<?, ?it/s]\u001b[A\n",
            " 33%|███▎      | 1/3 [00:01<00:02,  1.01s/it]\u001b[A\n",
            " 67%|██████▋   | 2/3 [00:02<00:01,  1.22s/it]\u001b[A\n",
            "100%|██████████| 3/3 [00:03<00:00,  1.17s/it]\n",
            " 21%|██        | 42/200 [02:51<08:45,  3.33s/it]\n",
            "  0%|          | 0/3 [00:00<?, ?it/s]\u001b[A\n",
            " 33%|███▎      | 1/3 [00:01<00:03,  1.78s/it]\u001b[A\n",
            " 67%|██████▋   | 2/3 [00:02<00:01,  1.36s/it]\u001b[A\n",
            "100%|██████████| 3/3 [00:04<00:00,  1.38s/it]\n",
            " 22%|██▏       | 43/200 [02:55<09:20,  3.57s/it]\n",
            "  0%|          | 0/3 [00:00<?, ?it/s]\u001b[A\n",
            " 33%|███▎      | 1/3 [00:01<00:02,  1.07s/it]\u001b[A\n",
            " 67%|██████▋   | 2/3 [00:02<00:01,  1.20s/it]\u001b[A\n",
            "100%|██████████| 3/3 [00:03<00:00,  1.07s/it]\n",
            " 22%|██▏       | 44/200 [02:58<09:01,  3.47s/it]\n",
            "  0%|          | 0/3 [00:00<?, ?it/s]\u001b[A\n",
            " 33%|███▎      | 1/3 [00:01<00:03,  1.73s/it]\u001b[A\n",
            " 67%|██████▋   | 2/3 [00:03<00:01,  1.50s/it]\u001b[A\n",
            "100%|██████████| 3/3 [00:03<00:00,  1.32s/it]\n",
            " 22%|██▎       | 45/200 [03:02<09:21,  3.62s/it]\n",
            "  0%|          | 0/3 [00:00<?, ?it/s]\u001b[A\n",
            " 33%|███▎      | 1/3 [00:00<00:01,  1.09it/s]\u001b[A\n",
            " 67%|██████▋   | 2/3 [00:01<00:00,  1.12it/s]\u001b[A\n",
            "100%|██████████| 3/3 [00:03<00:00,  1.02s/it]\n",
            " 23%|██▎       | 46/200 [03:05<08:52,  3.46s/it]\n",
            "  0%|          | 0/3 [00:00<?, ?it/s]\u001b[A\n",
            " 33%|███▎      | 1/3 [00:01<00:02,  1.22s/it]\u001b[A\n",
            " 67%|██████▋   | 2/3 [00:02<00:01,  1.14s/it]\u001b[A\n",
            "100%|██████████| 3/3 [00:03<00:00,  1.20s/it]\n",
            " 24%|██▎       | 47/200 [03:09<08:55,  3.50s/it]\n",
            "  0%|          | 0/3 [00:00<?, ?it/s]\u001b[A\n",
            " 33%|███▎      | 1/3 [00:00<00:01,  1.18it/s]\u001b[A\n",
            " 67%|██████▋   | 2/3 [00:01<00:00,  1.02it/s]\u001b[A\n",
            "100%|██████████| 3/3 [00:03<00:00,  1.05s/it]\n",
            " 24%|██▍       | 48/200 [03:12<08:35,  3.39s/it]\n",
            "  0%|          | 0/4 [00:00<?, ?it/s]\u001b[A\n",
            " 25%|██▌       | 1/4 [00:01<00:03,  1.16s/it]\u001b[A\n",
            " 50%|█████     | 2/4 [00:02<00:02,  1.46s/it]\u001b[A\n",
            " 75%|███████▌  | 3/4 [00:03<00:01,  1.27s/it]\u001b[A\n",
            "100%|██████████| 4/4 [00:05<00:00,  1.29s/it]\n",
            " 24%|██▍       | 49/200 [03:17<09:52,  3.93s/it]\n",
            "  0%|          | 0/3 [00:00<?, ?it/s]\u001b[A\n",
            " 33%|███▎      | 1/3 [00:01<00:02,  1.40s/it]\u001b[A\n",
            " 67%|██████▋   | 2/3 [00:02<00:01,  1.23s/it]\u001b[A\n",
            "100%|██████████| 3/3 [00:03<00:00,  1.18s/it]\n",
            " 25%|██▌       | 50/200 [03:21<09:32,  3.81s/it]\n",
            "  0%|          | 0/4 [00:00<?, ?it/s]\u001b[A\n",
            " 25%|██▌       | 1/4 [00:02<00:08,  2.93s/it]\u001b[A\n",
            " 50%|█████     | 2/4 [00:03<00:03,  1.81s/it]\u001b[A\n",
            " 75%|███████▌  | 3/4 [00:04<00:01,  1.43s/it]\u001b[A\n",
            "100%|██████████| 4/4 [00:06<00:00,  1.51s/it]\n",
            " 26%|██▌       | 51/200 [03:27<11:08,  4.49s/it]\n",
            "  0%|          | 0/3 [00:00<?, ?it/s]\u001b[A\n",
            " 33%|███▎      | 1/3 [00:01<00:02,  1.13s/it]\u001b[A\n",
            " 67%|██████▋   | 2/3 [00:02<00:01,  1.14s/it]\u001b[A\n",
            "100%|██████████| 3/3 [00:03<00:00,  1.05s/it]\n",
            " 26%|██▌       | 52/200 [03:30<10:05,  4.09s/it]\n",
            "  0%|          | 0/3 [00:00<?, ?it/s]\u001b[A\n",
            " 33%|███▎      | 1/3 [00:01<00:02,  1.20s/it]\u001b[A\n",
            " 67%|██████▋   | 2/3 [00:02<00:01,  1.13s/it]\u001b[A\n",
            "100%|██████████| 3/3 [00:03<00:00,  1.11s/it]\n",
            " 26%|██▋       | 53/200 [03:33<09:28,  3.86s/it]\n",
            "  0%|          | 0/3 [00:00<?, ?it/s]\u001b[A\n",
            " 33%|███▎      | 1/3 [00:01<00:02,  1.27s/it]\u001b[A\n",
            " 67%|██████▋   | 2/3 [00:02<00:01,  1.18s/it]\u001b[A\n",
            "100%|██████████| 3/3 [00:03<00:00,  1.18s/it]\n",
            " 27%|██▋       | 54/200 [03:37<09:10,  3.77s/it]\n",
            "  0%|          | 0/4 [00:00<?, ?it/s]\u001b[A\n",
            " 25%|██▌       | 1/4 [00:01<00:03,  1.11s/it]\u001b[A\n",
            " 50%|█████     | 2/4 [00:02<00:02,  1.04s/it]\u001b[A\n",
            " 75%|███████▌  | 3/4 [00:02<00:00,  1.03it/s]\u001b[A\n",
            "100%|██████████| 4/4 [00:04<00:00,  1.18s/it]\n",
            " 28%|██▊       | 55/200 [03:42<09:47,  4.05s/it]\n",
            "  0%|          | 0/4 [00:00<?, ?it/s]\u001b[A\n",
            " 25%|██▌       | 1/4 [00:00<00:02,  1.08it/s]\u001b[A\n",
            " 50%|█████     | 2/4 [00:01<00:01,  1.05it/s]\u001b[A\n",
            " 75%|███████▌  | 3/4 [00:02<00:00,  1.02it/s]\u001b[A\n",
            "100%|██████████| 4/4 [00:03<00:00,  1.03it/s]\n",
            " 28%|██▊       | 56/200 [03:45<09:36,  4.01s/it]\n",
            "  0%|          | 0/3 [00:00<?, ?it/s]\u001b[A\n",
            " 33%|███▎      | 1/3 [00:01<00:02,  1.08s/it]\u001b[A\n",
            " 67%|██████▋   | 2/3 [00:02<00:01,  1.10s/it]\u001b[A\n",
            "100%|██████████| 3/3 [00:04<00:00,  1.39s/it]\n",
            " 28%|██▊       | 57/200 [03:50<09:40,  4.06s/it]\n",
            "  0%|          | 0/5 [00:00<?, ?it/s]\u001b[A\n",
            " 20%|██        | 1/5 [00:01<00:04,  1.10s/it]\u001b[A\n",
            " 40%|████      | 2/5 [00:02<00:03,  1.10s/it]\u001b[A\n",
            " 60%|██████    | 3/5 [00:03<00:02,  1.14s/it]\u001b[A\n",
            " 80%|████████  | 4/5 [00:04<00:01,  1.12s/it]\u001b[A\n",
            "100%|██████████| 5/5 [00:05<00:00,  1.11s/it]\n",
            " 29%|██▉       | 58/200 [03:55<10:41,  4.52s/it]\n",
            "  0%|          | 0/4 [00:00<?, ?it/s]\u001b[A\n",
            " 25%|██▌       | 1/4 [00:02<00:06,  2.29s/it]\u001b[A\n",
            " 50%|█████     | 2/4 [00:03<00:03,  1.53s/it]\u001b[A\n",
            " 75%|███████▌  | 3/4 [00:04<00:01,  1.37s/it]\u001b[A\n",
            "100%|██████████| 4/4 [00:05<00:00,  1.44s/it]\n",
            " 30%|██▉       | 59/200 [04:01<11:30,  4.90s/it]\n",
            "  0%|          | 0/4 [00:00<?, ?it/s]\u001b[A\n",
            " 25%|██▌       | 1/4 [00:00<00:02,  1.05it/s]\u001b[A\n",
            " 50%|█████     | 2/4 [00:01<00:01,  1.05it/s]\u001b[A\n",
            " 75%|███████▌  | 3/4 [00:03<00:01,  1.38s/it]\u001b[A\n",
            "100%|██████████| 4/4 [00:05<00:00,  1.26s/it]\n",
            " 30%|███       | 60/200 [04:06<11:31,  4.94s/it]\n",
            "  0%|          | 0/4 [00:00<?, ?it/s]\u001b[A\n",
            " 25%|██▌       | 1/4 [00:01<00:03,  1.01s/it]\u001b[A\n",
            " 50%|█████     | 2/4 [00:02<00:02,  1.19s/it]\u001b[A\n",
            " 75%|███████▌  | 3/4 [00:03<00:01,  1.17s/it]\u001b[A\n",
            "100%|██████████| 4/4 [00:05<00:00,  1.41s/it]\n",
            " 30%|███       | 61/200 [04:12<11:57,  5.16s/it]\n",
            "  0%|          | 0/3 [00:00<?, ?it/s]\u001b[A\n",
            " 33%|███▎      | 1/3 [00:02<00:04,  2.19s/it]\u001b[A\n",
            " 67%|██████▋   | 2/3 [00:03<00:01,  1.57s/it]\u001b[A\n",
            "100%|██████████| 3/3 [00:04<00:00,  1.60s/it]\n",
            " 31%|███       | 62/200 [04:16<11:37,  5.06s/it]\n",
            "  0%|          | 0/3 [00:00<?, ?it/s]\u001b[A\n",
            " 33%|███▎      | 1/3 [00:00<00:01,  1.07it/s]\u001b[A\n",
            " 67%|██████▋   | 2/3 [00:01<00:00,  1.06it/s]\u001b[A\n",
            "100%|██████████| 3/3 [00:03<00:00,  1.01s/it]\n",
            " 32%|███▏      | 63/200 [04:20<10:10,  4.45s/it]\n",
            "  0%|          | 0/3 [00:00<?, ?it/s]\u001b[A\n",
            " 33%|███▎      | 1/3 [00:01<00:02,  1.06s/it]\u001b[A\n",
            " 67%|██████▋   | 2/3 [00:02<00:01,  1.03s/it]\u001b[A\n",
            "100%|██████████| 3/3 [00:03<00:00,  1.11s/it]\n",
            " 32%|███▏      | 64/200 [04:23<09:19,  4.12s/it]\n",
            "  0%|          | 0/3 [00:00<?, ?it/s]\u001b[A\n",
            " 33%|███▎      | 1/3 [00:02<00:04,  2.22s/it]\u001b[A\n",
            " 67%|██████▋   | 2/3 [00:03<00:01,  1.60s/it]\u001b[A\n",
            "100%|██████████| 3/3 [00:04<00:00,  1.45s/it]\n",
            " 32%|███▎      | 65/200 [04:27<09:26,  4.19s/it]\n",
            "  0%|          | 0/3 [00:00<?, ?it/s]\u001b[A\n",
            " 33%|███▎      | 1/3 [00:01<00:02,  1.18s/it]\u001b[A\n",
            " 67%|██████▋   | 2/3 [00:02<00:01,  1.07s/it]\u001b[A\n",
            "100%|██████████| 3/3 [00:03<00:00,  1.11s/it]\n",
            " 33%|███▎      | 66/200 [04:31<08:47,  3.93s/it]\n",
            "  0%|          | 0/3 [00:00<?, ?it/s]\u001b[A\n",
            " 33%|███▎      | 1/3 [00:00<00:01,  1.15it/s]\u001b[A\n",
            " 67%|██████▋   | 2/3 [00:02<00:01,  1.06s/it]\u001b[A\n",
            "100%|██████████| 3/3 [00:03<00:00,  1.04s/it]\n",
            " 34%|███▎      | 67/200 [04:34<08:11,  3.70s/it]\n",
            "  0%|          | 0/2 [00:00<?, ?it/s]\u001b[A\n",
            " 50%|█████     | 1/2 [00:01<00:01,  1.20s/it]\u001b[A\n",
            "100%|██████████| 2/2 [00:02<00:00,  1.29s/it]\n",
            " 34%|███▍      | 68/200 [04:36<07:24,  3.37s/it]\n",
            "  0%|          | 0/3 [00:00<?, ?it/s]\u001b[A\n",
            " 33%|███▎      | 1/3 [00:01<00:02,  1.03s/it]\u001b[A\n",
            " 67%|██████▋   | 2/3 [00:03<00:01,  1.71s/it]\u001b[A\n",
            "100%|██████████| 3/3 [00:04<00:00,  1.51s/it]\n",
            " 34%|███▍      | 69/200 [04:41<08:06,  3.72s/it]\n",
            "  0%|          | 0/4 [00:00<?, ?it/s]\u001b[A\n",
            " 25%|██▌       | 1/4 [00:01<00:04,  1.49s/it]\u001b[A\n",
            " 50%|█████     | 2/4 [00:02<00:02,  1.42s/it]\u001b[A\n",
            " 75%|███████▌  | 3/4 [00:04<00:01,  1.31s/it]\u001b[A\n",
            "100%|██████████| 4/4 [00:05<00:00,  1.32s/it]\n",
            " 35%|███▌      | 70/200 [04:46<09:04,  4.19s/it]\n",
            "  0%|          | 0/3 [00:00<?, ?it/s]\u001b[A\n",
            " 33%|███▎      | 1/3 [00:01<00:02,  1.00s/it]\u001b[A\n",
            " 67%|██████▋   | 2/3 [00:01<00:00,  1.08it/s]\u001b[A\n",
            "100%|██████████| 3/3 [00:02<00:00,  1.01it/s]\n",
            " 36%|███▌      | 71/200 [04:49<08:13,  3.83s/it]\n",
            "  0%|          | 0/3 [00:00<?, ?it/s]\u001b[A\n",
            " 33%|███▎      | 1/3 [00:00<00:01,  1.12it/s]\u001b[A\n",
            " 67%|██████▋   | 2/3 [00:01<00:00,  1.03it/s]\u001b[A\n",
            "100%|██████████| 3/3 [00:02<00:00,  1.03it/s]\n",
            " 36%|███▌      | 72/200 [04:52<07:35,  3.56s/it]\n",
            "  0%|          | 0/3 [00:00<?, ?it/s]\u001b[A\n",
            " 33%|███▎      | 1/3 [00:01<00:02,  1.21s/it]\u001b[A\n",
            " 67%|██████▋   | 2/3 [00:02<00:01,  1.27s/it]\u001b[A\n",
            "100%|██████████| 3/3 [00:03<00:00,  1.27s/it]\n",
            " 36%|███▋      | 73/200 [04:56<07:42,  3.64s/it]\n",
            "  0%|          | 0/3 [00:00<?, ?it/s]\u001b[A\n",
            " 33%|███▎      | 1/3 [00:01<00:02,  1.14s/it]\u001b[A\n",
            " 67%|██████▋   | 2/3 [00:02<00:01,  1.25s/it]\u001b[A\n",
            "100%|██████████| 3/3 [00:03<00:00,  1.32s/it]\n",
            " 37%|███▋      | 74/200 [05:00<07:50,  3.74s/it]\n",
            "  0%|          | 0/4 [00:00<?, ?it/s]\u001b[A\n",
            " 25%|██▌       | 1/4 [00:01<00:03,  1.11s/it]\u001b[A\n",
            " 50%|█████     | 2/4 [00:02<00:02,  1.40s/it]\u001b[A\n",
            " 75%|███████▌  | 3/4 [00:03<00:01,  1.23s/it]\u001b[A\n",
            "100%|██████████| 4/4 [00:04<00:00,  1.24s/it]\n",
            " 38%|███▊      | 75/200 [05:05<08:33,  4.11s/it]\n",
            "  0%|          | 0/3 [00:00<?, ?it/s]\u001b[A\n",
            " 33%|███▎      | 1/3 [00:01<00:02,  1.17s/it]\u001b[A\n",
            " 67%|██████▋   | 2/3 [00:02<00:01,  1.05s/it]\u001b[A\n",
            "100%|██████████| 3/3 [00:03<00:00,  1.07s/it]\n",
            " 38%|███▊      | 76/200 [05:08<07:57,  3.85s/it]\n",
            "  0%|          | 0/4 [00:00<?, ?it/s]\u001b[A\n",
            " 25%|██▌       | 1/4 [00:01<00:04,  1.57s/it]\u001b[A\n",
            " 50%|█████     | 2/4 [00:03<00:03,  1.58s/it]\u001b[A\n",
            " 75%|███████▌  | 3/4 [00:04<00:01,  1.24s/it]\u001b[A\n",
            "100%|██████████| 4/4 [00:05<00:00,  1.26s/it]\n",
            " 38%|███▊      | 77/200 [05:13<08:37,  4.21s/it]\n",
            "  0%|          | 0/5 [00:00<?, ?it/s]\u001b[A\n",
            " 20%|██        | 1/5 [00:01<00:04,  1.09s/it]\u001b[A\n",
            " 40%|████      | 2/5 [00:02<00:03,  1.05s/it]\u001b[A\n",
            " 60%|██████    | 3/5 [00:03<00:02,  1.02s/it]\u001b[A\n",
            " 80%|████████  | 4/5 [00:04<00:01,  1.10s/it]\u001b[A\n",
            "100%|██████████| 5/5 [00:07<00:00,  1.44s/it]\n",
            " 39%|███▉      | 78/200 [05:20<10:22,  5.10s/it]\n",
            "  0%|          | 0/4 [00:00<?, ?it/s]\u001b[A\n",
            " 25%|██▌       | 1/4 [00:01<00:03,  1.10s/it]\u001b[A\n",
            " 50%|█████     | 2/4 [00:02<00:01,  1.02it/s]\u001b[A\n",
            " 75%|███████▌  | 3/4 [00:02<00:00,  1.07it/s]\u001b[A\n",
            "100%|██████████| 4/4 [00:03<00:00,  1.06it/s]\n",
            " 40%|███▉      | 79/200 [05:24<09:29,  4.71s/it]\n",
            "  0%|          | 0/2 [00:00<?, ?it/s]\u001b[A\n",
            " 50%|█████     | 1/2 [00:01<00:01,  1.11s/it]\u001b[A\n",
            "100%|██████████| 2/2 [00:02<00:00,  1.21s/it]\n",
            " 40%|████      | 80/200 [05:27<08:03,  4.03s/it]\n",
            "  0%|          | 0/4 [00:00<?, ?it/s]\u001b[A\n",
            " 25%|██▌       | 1/4 [00:00<00:02,  1.03it/s]\u001b[A\n",
            " 50%|█████     | 2/4 [00:02<00:02,  1.01s/it]\u001b[A\n",
            " 75%|███████▌  | 3/4 [00:04<00:01,  1.72s/it]\u001b[A\n",
            "100%|██████████| 4/4 [00:05<00:00,  1.43s/it]\n",
            " 40%|████      | 81/200 [05:32<09:00,  4.54s/it]\n",
            "  0%|          | 0/3 [00:00<?, ?it/s]\u001b[A\n",
            " 33%|███▎      | 1/3 [00:01<00:02,  1.11s/it]\u001b[A\n",
            " 67%|██████▋   | 2/3 [00:02<00:01,  1.15s/it]\u001b[A\n",
            "100%|██████████| 3/3 [00:03<00:00,  1.15s/it]\n",
            " 41%|████      | 82/200 [05:36<08:17,  4.22s/it]\n",
            "  0%|          | 0/4 [00:00<?, ?it/s]\u001b[A\n",
            " 25%|██▌       | 1/4 [00:01<00:03,  1.07s/it]\u001b[A\n",
            " 50%|█████     | 2/4 [00:03<00:03,  1.59s/it]\u001b[A\n",
            " 75%|███████▌  | 3/4 [00:04<00:01,  1.40s/it]\u001b[A\n",
            "100%|██████████| 4/4 [00:05<00:00,  1.41s/it]\n",
            " 42%|████▏     | 83/200 [05:41<09:03,  4.65s/it]\n",
            "  0%|          | 0/4 [00:00<?, ?it/s]\u001b[A\n",
            " 25%|██▌       | 1/4 [00:00<00:02,  1.10it/s]\u001b[A\n",
            " 50%|█████     | 2/4 [00:03<00:03,  1.64s/it]\u001b[A\n",
            " 75%|███████▌  | 3/4 [00:04<00:01,  1.42s/it]\u001b[A\n",
            "100%|██████████| 4/4 [00:05<00:00,  1.37s/it]\n",
            " 42%|████▏     | 84/200 [05:47<09:27,  4.90s/it]\n",
            "  0%|          | 0/3 [00:00<?, ?it/s]\u001b[A\n",
            " 33%|███▎      | 1/3 [00:01<00:02,  1.21s/it]\u001b[A\n",
            " 67%|██████▋   | 2/3 [00:02<00:01,  1.43s/it]\u001b[A\n",
            "100%|██████████| 3/3 [00:04<00:00,  1.38s/it]\n",
            " 42%|████▎     | 85/200 [05:51<08:57,  4.68s/it]\n",
            "  0%|          | 0/3 [00:00<?, ?it/s]\u001b[A\n",
            " 33%|███▎      | 1/3 [00:01<00:02,  1.40s/it]\u001b[A\n",
            " 67%|██████▋   | 2/3 [00:02<00:01,  1.23s/it]\u001b[A\n",
            "100%|██████████| 3/3 [00:03<00:00,  1.13s/it]\n",
            " 43%|████▎     | 86/200 [05:54<08:09,  4.29s/it]\n",
            "  0%|          | 0/3 [00:00<?, ?it/s]\u001b[A\n",
            " 33%|███▎      | 1/3 [00:00<00:01,  1.16it/s]\u001b[A\n",
            " 67%|██████▋   | 2/3 [00:02<00:01,  1.17s/it]\u001b[A\n",
            "100%|██████████| 3/3 [00:03<00:00,  1.20s/it]\n",
            " 44%|████▎     | 87/200 [05:58<07:42,  4.09s/it]\n",
            "  0%|          | 0/4 [00:00<?, ?it/s]\u001b[A\n",
            " 25%|██▌       | 1/4 [00:01<00:03,  1.27s/it]\u001b[A\n",
            " 50%|█████     | 2/4 [00:02<00:02,  1.33s/it]\u001b[A\n",
            " 75%|███████▌  | 3/4 [00:03<00:01,  1.31s/it]\u001b[A\n",
            "100%|██████████| 4/4 [00:04<00:00,  1.21s/it]\n",
            " 44%|████▍     | 88/200 [06:03<08:03,  4.32s/it]\n",
            "  0%|          | 0/3 [00:00<?, ?it/s]\u001b[A\n",
            " 33%|███▎      | 1/3 [00:01<00:02,  1.04s/it]\u001b[A\n",
            " 67%|██████▋   | 2/3 [00:02<00:01,  1.01s/it]\u001b[A\n",
            "100%|██████████| 3/3 [00:03<00:00,  1.06s/it]\n",
            " 44%|████▍     | 89/200 [06:06<07:21,  3.98s/it]\n",
            "  0%|          | 0/4 [00:00<?, ?it/s]\u001b[A\n",
            " 25%|██▌       | 1/4 [00:01<00:03,  1.28s/it]\u001b[A\n",
            " 50%|█████     | 2/4 [00:02<00:02,  1.12s/it]\u001b[A\n",
            " 75%|███████▌  | 3/4 [00:03<00:01,  1.16s/it]\u001b[A\n",
            "100%|██████████| 4/4 [00:04<00:00,  1.16s/it]\n",
            " 45%|████▌     | 90/200 [06:11<07:39,  4.18s/it]\n",
            "  0%|          | 0/3 [00:00<?, ?it/s]\u001b[A\n",
            " 33%|███▎      | 1/3 [00:01<00:02,  1.18s/it]\u001b[A\n",
            " 67%|██████▋   | 2/3 [00:02<00:01,  1.17s/it]\u001b[A\n",
            "100%|██████████| 3/3 [00:03<00:00,  1.12s/it]\n",
            " 46%|████▌     | 91/200 [06:14<07:08,  3.94s/it]\n",
            "  0%|          | 0/3 [00:00<?, ?it/s]\u001b[A\n",
            " 33%|███▎      | 1/3 [00:00<00:01,  1.00it/s]\u001b[A\n",
            " 67%|██████▋   | 2/3 [00:02<00:01,  1.15s/it]\u001b[A\n",
            "100%|██████████| 3/3 [00:03<00:00,  1.15s/it]\n",
            " 46%|████▌     | 92/200 [06:18<06:49,  3.79s/it]\n",
            "  0%|          | 0/3 [00:00<?, ?it/s]\u001b[A\n",
            " 33%|███▎      | 1/3 [00:00<00:01,  1.04it/s]\u001b[A\n",
            " 67%|██████▋   | 2/3 [00:02<00:01,  1.02s/it]\u001b[A\n",
            "100%|██████████| 3/3 [00:03<00:00,  1.10s/it]\n",
            " 46%|████▋     | 93/200 [06:21<06:29,  3.64s/it]\n",
            "  0%|          | 0/4 [00:00<?, ?it/s]\u001b[A\n",
            " 25%|██▌       | 1/4 [00:00<00:02,  1.01it/s]\u001b[A\n",
            " 50%|█████     | 2/4 [00:02<00:02,  1.15s/it]\u001b[A\n",
            " 75%|███████▌  | 3/4 [00:03<00:01,  1.17s/it]\u001b[A\n",
            "100%|██████████| 4/4 [00:05<00:00,  1.32s/it]\n",
            " 47%|████▋     | 94/200 [06:26<07:18,  4.13s/it]\n",
            "  0%|          | 0/3 [00:00<?, ?it/s]\u001b[A\n",
            " 33%|███▎      | 1/3 [00:01<00:02,  1.38s/it]\u001b[A\n",
            " 67%|██████▋   | 2/3 [00:02<00:01,  1.14s/it]\u001b[A\n",
            "100%|██████████| 3/3 [00:03<00:00,  1.10s/it]\n",
            " 48%|████▊     | 95/200 [06:29<06:48,  3.89s/it]\n",
            "  0%|          | 0/4 [00:00<?, ?it/s]\u001b[A\n",
            " 25%|██▌       | 1/4 [00:01<00:04,  1.38s/it]\u001b[A\n",
            " 50%|█████     | 2/4 [00:02<00:02,  1.28s/it]\u001b[A\n",
            " 75%|███████▌  | 3/4 [00:03<00:01,  1.22s/it]\u001b[A\n",
            "100%|██████████| 4/4 [00:04<00:00,  1.20s/it]\n",
            " 48%|████▊     | 96/200 [06:34<07:13,  4.17s/it]\n",
            "  0%|          | 0/3 [00:00<?, ?it/s]\u001b[A\n",
            " 33%|███▎      | 1/3 [00:02<00:04,  2.27s/it]\u001b[A\n",
            " 67%|██████▋   | 2/3 [00:03<00:01,  1.68s/it]\u001b[A\n",
            "100%|██████████| 3/3 [00:04<00:00,  1.49s/it]\n",
            " 48%|████▊     | 97/200 [06:39<07:19,  4.26s/it]\n",
            "  0%|          | 0/3 [00:00<?, ?it/s]\u001b[A\n",
            " 33%|███▎      | 1/3 [00:00<00:01,  1.10it/s]\u001b[A\n",
            " 67%|██████▋   | 2/3 [00:02<00:01,  1.06s/it]\u001b[A\n",
            "100%|██████████| 3/3 [00:03<00:00,  1.09s/it]\n",
            " 49%|████▉     | 98/200 [06:42<06:44,  3.97s/it]\n",
            "  0%|          | 0/4 [00:00<?, ?it/s]\u001b[A\n",
            " 25%|██▌       | 1/4 [00:00<00:02,  1.04it/s]\u001b[A\n",
            " 50%|█████     | 2/4 [00:02<00:02,  1.01s/it]\u001b[A\n",
            " 75%|███████▌  | 3/4 [00:03<00:01,  1.02s/it]\u001b[A\n",
            "100%|██████████| 4/4 [00:04<00:00,  1.10s/it]\n",
            " 50%|████▉     | 99/200 [06:46<06:54,  4.11s/it]\n",
            "  0%|          | 0/4 [00:00<?, ?it/s]\u001b[A\n",
            " 25%|██▌       | 1/4 [00:00<00:02,  1.02it/s]\u001b[A\n",
            " 50%|█████     | 2/4 [00:01<00:01,  1.04it/s]\u001b[A\n",
            " 75%|███████▌  | 3/4 [00:03<00:01,  1.06s/it]\u001b[A\n",
            "100%|██████████| 4/4 [00:04<00:00,  1.06s/it]\n",
            " 50%|█████     | 100/200 [06:51<06:55,  4.15s/it]\n",
            "  0%|          | 0/3 [00:00<?, ?it/s]\u001b[A\n",
            " 33%|███▎      | 1/3 [00:01<00:02,  1.09s/it]\u001b[A\n",
            " 67%|██████▋   | 2/3 [00:02<00:01,  1.20s/it]\u001b[A\n",
            "100%|██████████| 3/3 [00:03<00:00,  1.25s/it]\n",
            " 50%|█████     | 101/200 [06:54<06:39,  4.04s/it]\n",
            "  0%|          | 0/2 [00:00<?, ?it/s]\u001b[A\n",
            " 50%|█████     | 1/2 [00:01<00:01,  1.23s/it]\u001b[A\n",
            "100%|██████████| 2/2 [00:02<00:00,  1.27s/it]\n",
            " 51%|█████     | 102/200 [06:57<05:51,  3.59s/it]\n",
            "  0%|          | 0/3 [00:00<?, ?it/s]\u001b[A\n",
            " 33%|███▎      | 1/3 [00:01<00:02,  1.41s/it]\u001b[A\n",
            " 67%|██████▋   | 2/3 [00:03<00:01,  1.70s/it]\u001b[A\n",
            "100%|██████████| 3/3 [00:04<00:00,  1.43s/it]\n",
            " 52%|█████▏    | 103/200 [07:01<06:08,  3.80s/it]\n",
            "  0%|          | 0/2 [00:00<?, ?it/s]\u001b[A\n",
            " 50%|█████     | 1/2 [00:01<00:01,  1.29s/it]\u001b[A\n",
            "100%|██████████| 2/2 [00:02<00:00,  1.32s/it]\n",
            " 52%|█████▏    | 104/200 [07:04<05:31,  3.45s/it]\n",
            "  0%|          | 0/4 [00:00<?, ?it/s]\u001b[A\n",
            " 25%|██▌       | 1/4 [00:00<00:02,  1.01it/s]\u001b[A\n",
            " 50%|█████     | 2/4 [00:02<00:02,  1.12s/it]\u001b[A\n",
            " 75%|███████▌  | 3/4 [00:03<00:01,  1.12s/it]\u001b[A\n",
            "100%|██████████| 4/4 [00:04<00:00,  1.07s/it]\n",
            " 52%|█████▎    | 105/200 [07:08<05:52,  3.71s/it]\n",
            "  0%|          | 0/3 [00:00<?, ?it/s]\u001b[A\n",
            " 33%|███▎      | 1/3 [00:01<00:03,  1.91s/it]\u001b[A\n",
            " 67%|██████▋   | 2/3 [00:02<00:01,  1.38s/it]\u001b[A\n",
            "100%|██████████| 3/3 [00:04<00:00,  1.38s/it]\n",
            " 53%|█████▎    | 106/200 [07:12<06:00,  3.84s/it]\n",
            "  0%|          | 0/4 [00:00<?, ?it/s]\u001b[A\n",
            " 25%|██▌       | 1/4 [00:01<00:03,  1.14s/it]\u001b[A\n",
            " 50%|█████     | 2/4 [00:02<00:02,  1.07s/it]\u001b[A\n",
            " 75%|███████▌  | 3/4 [00:03<00:01,  1.03s/it]\u001b[A\n",
            "100%|██████████| 4/4 [00:04<00:00,  1.15s/it]\n",
            " 54%|█████▎    | 107/200 [07:17<06:17,  4.06s/it]\n",
            "  0%|          | 0/2 [00:00<?, ?it/s]\u001b[A\n",
            " 50%|█████     | 1/2 [00:01<00:01,  1.38s/it]\u001b[A\n",
            "100%|██████████| 2/2 [00:02<00:00,  1.20s/it]\n",
            " 54%|█████▍    | 108/200 [07:19<05:28,  3.57s/it]\n",
            "  0%|          | 0/3 [00:00<?, ?it/s]\u001b[A\n",
            " 33%|███▎      | 1/3 [00:01<00:02,  1.19s/it]\u001b[A\n",
            " 67%|██████▋   | 2/3 [00:02<00:01,  1.05s/it]\u001b[A\n",
            "100%|██████████| 3/3 [00:03<00:00,  1.09s/it]\n",
            " 55%|█████▍    | 109/200 [07:23<05:17,  3.48s/it]\n",
            "  0%|          | 0/3 [00:00<?, ?it/s]\u001b[A\n",
            " 33%|███▎      | 1/3 [00:00<00:01,  1.01it/s]\u001b[A\n",
            " 67%|██████▋   | 2/3 [00:02<00:01,  1.05s/it]\u001b[A\n",
            "100%|██████████| 3/3 [00:03<00:00,  1.21s/it]\n",
            " 55%|█████▌    | 110/200 [07:26<05:18,  3.53s/it]\n",
            "  0%|          | 0/3 [00:00<?, ?it/s]\u001b[A\n",
            " 33%|███▎      | 1/3 [00:00<00:01,  1.14it/s]\u001b[A\n",
            " 67%|██████▋   | 2/3 [00:01<00:00,  1.09it/s]\u001b[A\n",
            "100%|██████████| 3/3 [00:02<00:00,  1.08it/s]\n",
            " 56%|█████▌    | 111/200 [07:29<04:54,  3.31s/it]\n",
            "  0%|          | 0/3 [00:00<?, ?it/s]\u001b[A\n",
            " 33%|███▎      | 1/3 [00:01<00:03,  1.70s/it]\u001b[A\n",
            " 67%|██████▋   | 2/3 [00:02<00:01,  1.36s/it]\u001b[A\n",
            "100%|██████████| 3/3 [00:03<00:00,  1.28s/it]\n",
            " 56%|█████▌    | 112/200 [07:33<05:05,  3.47s/it]\n",
            "  0%|          | 0/3 [00:00<?, ?it/s]\u001b[A\n",
            " 33%|███▎      | 1/3 [00:01<00:02,  1.01s/it]\u001b[A\n",
            " 67%|██████▋   | 2/3 [00:02<00:01,  1.30s/it]\u001b[A\n",
            "100%|██████████| 3/3 [00:04<00:00,  1.51s/it]\n",
            " 56%|█████▋    | 113/200 [07:37<05:29,  3.79s/it]\n",
            "  0%|          | 0/3 [00:00<?, ?it/s]\u001b[A\n",
            " 33%|███▎      | 1/3 [00:01<00:02,  1.06s/it]\u001b[A\n",
            " 67%|██████▋   | 2/3 [00:02<00:01,  1.07s/it]\u001b[A\n",
            "100%|██████████| 3/3 [00:03<00:00,  1.16s/it]\n",
            " 57%|█████▋    | 114/200 [07:41<05:18,  3.70s/it]\n",
            "  0%|          | 0/3 [00:00<?, ?it/s]\u001b[A\n",
            " 33%|███▎      | 1/3 [00:00<00:01,  1.06it/s]\u001b[A\n",
            " 67%|██████▋   | 2/3 [00:02<00:01,  1.08s/it]\u001b[A\n",
            "100%|██████████| 3/3 [00:03<00:00,  1.05s/it]\n",
            " 57%|█████▊    | 115/200 [07:44<05:01,  3.54s/it]\n",
            "  0%|          | 0/2 [00:00<?, ?it/s]\u001b[A\n",
            " 50%|█████     | 1/2 [00:01<00:01,  1.08s/it]\u001b[A\n",
            "100%|██████████| 2/2 [00:02<00:00,  1.23s/it]\n",
            " 58%|█████▊    | 116/200 [07:47<04:30,  3.22s/it]\n",
            "  0%|          | 0/3 [00:00<?, ?it/s]\u001b[A\n",
            " 33%|███▎      | 1/3 [00:01<00:03,  1.75s/it]\u001b[A\n",
            " 67%|██████▋   | 2/3 [00:02<00:01,  1.33s/it]\u001b[A\n",
            "100%|██████████| 3/3 [00:03<00:00,  1.29s/it]\n",
            " 58%|█████▊    | 117/200 [07:50<04:43,  3.41s/it]\n",
            "  0%|          | 0/3 [00:00<?, ?it/s]\u001b[A\n",
            " 33%|███▎      | 1/3 [00:01<00:02,  1.17s/it]\u001b[A\n",
            " 67%|██████▋   | 2/3 [00:02<00:01,  1.38s/it]\u001b[A\n",
            "100%|██████████| 3/3 [00:03<00:00,  1.29s/it]\n",
            " 59%|█████▉    | 118/200 [07:54<04:51,  3.55s/it]\n",
            "  0%|          | 0/5 [00:00<?, ?it/s]\u001b[A\n",
            " 20%|██        | 1/5 [00:01<00:04,  1.07s/it]\u001b[A\n",
            " 40%|████      | 2/5 [00:02<00:03,  1.17s/it]\u001b[A\n",
            " 60%|██████    | 3/5 [00:03<00:02,  1.06s/it]\u001b[A\n",
            " 80%|████████  | 4/5 [00:04<00:01,  1.03s/it]\u001b[A\n",
            "100%|██████████| 5/5 [00:05<00:00,  1.16s/it]\n",
            " 60%|█████▉    | 119/200 [08:00<05:42,  4.23s/it]\n",
            "  0%|          | 0/3 [00:00<?, ?it/s]\u001b[A\n",
            " 33%|███▎      | 1/3 [00:01<00:02,  1.41s/it]\u001b[A\n",
            " 67%|██████▋   | 2/3 [00:02<00:01,  1.36s/it]\u001b[A\n",
            "100%|██████████| 3/3 [00:03<00:00,  1.33s/it]\n",
            " 60%|██████    | 120/200 [08:04<05:32,  4.16s/it]\n",
            "  0%|          | 0/3 [00:00<?, ?it/s]\u001b[A\n",
            " 33%|███▎      | 1/3 [00:02<00:04,  2.19s/it]\u001b[A\n",
            " 67%|██████▋   | 2/3 [00:03<00:01,  1.50s/it]\u001b[A\n",
            "100%|██████████| 3/3 [00:04<00:00,  1.42s/it]\n",
            " 60%|██████    | 121/200 [08:08<05:31,  4.19s/it]\n",
            "  0%|          | 0/3 [00:00<?, ?it/s]\u001b[A\n",
            " 33%|███▎      | 1/3 [00:01<00:02,  1.09s/it]\u001b[A\n",
            " 67%|██████▋   | 2/3 [00:02<00:01,  1.10s/it]\u001b[A\n",
            "100%|██████████| 3/3 [00:03<00:00,  1.20s/it]\n",
            " 61%|██████    | 122/200 [08:12<05:13,  4.01s/it]\n",
            "  0%|          | 0/3 [00:00<?, ?it/s]\u001b[A\n",
            " 33%|███▎      | 1/3 [00:01<00:02,  1.06s/it]\u001b[A\n",
            " 67%|██████▋   | 2/3 [00:02<00:01,  1.44s/it]\u001b[A\n",
            "100%|██████████| 3/3 [00:03<00:00,  1.29s/it]\n",
            " 62%|██████▏   | 123/200 [08:16<05:05,  3.97s/it]\n",
            "  0%|          | 0/3 [00:00<?, ?it/s]\u001b[A\n",
            " 33%|███▎      | 1/3 [00:00<00:01,  1.10it/s]\u001b[A\n",
            " 67%|██████▋   | 2/3 [00:03<00:01,  1.61s/it]\u001b[A\n",
            "100%|██████████| 3/3 [00:04<00:00,  1.34s/it]\n",
            " 62%|██████▏   | 124/200 [08:20<05:03,  3.99s/it]\n",
            "  0%|          | 0/3 [00:00<?, ?it/s]\u001b[A\n",
            " 33%|███▎      | 1/3 [00:01<00:02,  1.40s/it]\u001b[A\n",
            " 67%|██████▋   | 2/3 [00:02<00:01,  1.28s/it]\u001b[A\n",
            "100%|██████████| 3/3 [00:03<00:00,  1.26s/it]\n",
            " 62%|██████▎   | 125/200 [08:24<04:54,  3.93s/it]\n",
            "  0%|          | 0/4 [00:00<?, ?it/s]\u001b[A\n",
            " 25%|██▌       | 1/4 [00:01<00:03,  1.01s/it]\u001b[A\n",
            " 50%|█████     | 2/4 [00:02<00:02,  1.11s/it]\u001b[A\n",
            " 75%|███████▌  | 3/4 [00:03<00:01,  1.10s/it]\u001b[A\n",
            "100%|██████████| 4/4 [00:04<00:00,  1.16s/it]\n",
            " 63%|██████▎   | 126/200 [08:28<05:07,  4.15s/it]\n",
            "  0%|          | 0/3 [00:00<?, ?it/s]\u001b[A\n",
            " 33%|███▎      | 1/3 [00:01<00:02,  1.37s/it]\u001b[A\n",
            " 67%|██████▋   | 2/3 [00:02<00:01,  1.11s/it]\u001b[A\n",
            "100%|██████████| 3/3 [00:03<00:00,  1.09s/it]\n",
            " 64%|██████▎   | 127/200 [08:32<04:43,  3.89s/it]\n",
            "  0%|          | 0/3 [00:00<?, ?it/s]\u001b[A\n",
            " 33%|███▎      | 1/3 [00:00<00:01,  1.04it/s]\u001b[A\n",
            " 67%|██████▋   | 2/3 [00:01<00:00,  1.05it/s]\u001b[A\n",
            "100%|██████████| 3/3 [00:03<00:00,  1.15s/it]\n",
            " 64%|██████▍   | 128/200 [08:35<04:30,  3.76s/it]\n",
            "  0%|          | 0/4 [00:00<?, ?it/s]\u001b[A\n",
            " 25%|██▌       | 1/4 [00:01<00:03,  1.08s/it]\u001b[A\n",
            " 50%|█████     | 2/4 [00:02<00:02,  1.18s/it]\u001b[A\n",
            " 75%|███████▌  | 3/4 [00:03<00:01,  1.13s/it]\u001b[A\n",
            "100%|██████████| 4/4 [00:04<00:00,  1.11s/it]\n",
            " 64%|██████▍   | 129/200 [08:40<04:42,  3.97s/it]\n",
            "  0%|          | 0/3 [00:00<?, ?it/s]\u001b[A\n",
            " 33%|███▎      | 1/3 [00:01<00:02,  1.22s/it]\u001b[A\n",
            " 67%|██████▋   | 2/3 [00:02<00:01,  1.27s/it]\u001b[A\n",
            "100%|██████████| 3/3 [00:03<00:00,  1.30s/it]\n",
            " 65%|██████▌   | 130/200 [08:44<04:37,  3.96s/it]\n",
            "  0%|          | 0/3 [00:00<?, ?it/s]\u001b[A\n",
            " 33%|███▎      | 1/3 [00:00<00:01,  1.08it/s]\u001b[A\n",
            " 67%|██████▋   | 2/3 [00:01<00:00,  1.08it/s]\u001b[A\n",
            "100%|██████████| 3/3 [00:03<00:00,  1.01s/it]\n",
            " 66%|██████▌   | 131/200 [08:47<04:14,  3.68s/it]\n",
            "  0%|          | 0/3 [00:00<?, ?it/s]\u001b[A\n",
            " 33%|███▎      | 1/3 [00:00<00:01,  1.07it/s]\u001b[A\n",
            " 67%|██████▋   | 2/3 [00:01<00:00,  1.01it/s]\u001b[A\n",
            "100%|██████████| 3/3 [00:03<00:00,  1.07s/it]\n",
            " 66%|██████▌   | 132/200 [08:50<04:01,  3.55s/it]\n",
            "  0%|          | 0/3 [00:00<?, ?it/s]\u001b[A\n",
            " 33%|███▎      | 1/3 [00:00<00:01,  1.01it/s]\u001b[A\n",
            " 67%|██████▋   | 2/3 [00:02<00:01,  1.42s/it]\u001b[A\n",
            "100%|██████████| 3/3 [00:03<00:00,  1.21s/it]\n",
            " 66%|██████▋   | 133/200 [08:53<03:59,  3.57s/it]\n",
            "  0%|          | 0/3 [00:00<?, ?it/s]\u001b[A\n",
            " 33%|███▎      | 1/3 [00:01<00:02,  1.08s/it]\u001b[A\n",
            " 67%|██████▋   | 2/3 [00:02<00:01,  1.23s/it]\u001b[A\n",
            "100%|██████████| 3/3 [00:03<00:00,  1.15s/it]\n",
            " 67%|██████▋   | 134/200 [08:57<03:53,  3.54s/it]\n",
            "  0%|          | 0/4 [00:00<?, ?it/s]\u001b[A\n",
            " 25%|██▌       | 1/4 [00:01<00:03,  1.00s/it]\u001b[A\n",
            " 50%|█████     | 2/4 [00:02<00:02,  1.09s/it]\u001b[A\n",
            " 75%|███████▌  | 3/4 [00:03<00:01,  1.01s/it]\u001b[A\n",
            "100%|██████████| 4/4 [00:04<00:00,  1.23s/it]\n",
            " 68%|██████▊   | 135/200 [09:02<04:16,  3.95s/it]\n",
            "  0%|          | 0/4 [00:00<?, ?it/s]\u001b[A\n",
            " 25%|██▌       | 1/4 [00:00<00:02,  1.10it/s]\u001b[A\n",
            " 50%|█████     | 2/4 [00:02<00:02,  1.05s/it]\u001b[A\n",
            " 75%|███████▌  | 3/4 [00:03<00:01,  1.17s/it]\u001b[A\n",
            "100%|██████████| 4/4 [00:04<00:00,  1.10s/it]\n",
            " 68%|██████▊   | 136/200 [09:06<04:21,  4.09s/it]\n",
            "  0%|          | 0/3 [00:00<?, ?it/s]\u001b[A\n",
            " 33%|███▎      | 1/3 [00:01<00:02,  1.04s/it]\u001b[A\n",
            " 67%|██████▋   | 2/3 [00:02<00:01,  1.12s/it]\u001b[A\n",
            "100%|██████████| 3/3 [00:03<00:00,  1.11s/it]\n",
            " 68%|██████▊   | 137/200 [09:10<04:03,  3.86s/it]\n",
            "  0%|          | 0/3 [00:00<?, ?it/s]\u001b[A\n",
            " 33%|███▎      | 1/3 [00:01<00:02,  1.01s/it]\u001b[A\n",
            " 67%|██████▋   | 2/3 [00:02<00:01,  1.17s/it]\u001b[A\n",
            "100%|██████████| 3/3 [00:03<00:00,  1.22s/it]\n",
            " 69%|██████▉   | 138/200 [09:13<03:55,  3.81s/it]\n",
            "  0%|          | 0/4 [00:00<?, ?it/s]\u001b[A\n",
            " 25%|██▌       | 1/4 [00:01<00:03,  1.00s/it]\u001b[A\n",
            " 50%|█████     | 2/4 [00:01<00:01,  1.03it/s]\u001b[A\n",
            " 75%|███████▌  | 3/4 [00:04<00:01,  1.78s/it]\u001b[A\n",
            "100%|██████████| 4/4 [00:06<00:00,  1.62s/it]\n",
            " 70%|██████▉   | 139/200 [09:20<04:40,  4.61s/it]\n",
            "  0%|          | 0/5 [00:00<?, ?it/s]\u001b[A\n",
            " 20%|██        | 1/5 [00:00<00:03,  1.02it/s]\u001b[A\n",
            " 40%|████      | 2/5 [00:02<00:03,  1.02s/it]\u001b[A\n",
            " 60%|██████    | 3/5 [00:03<00:02,  1.08s/it]\u001b[A\n",
            " 80%|████████  | 4/5 [00:04<00:01,  1.10s/it]\u001b[A\n",
            "100%|██████████| 5/5 [00:05<00:00,  1.06s/it]\n",
            " 70%|███████   | 140/200 [09:25<04:48,  4.81s/it]\n",
            "  0%|          | 0/3 [00:00<?, ?it/s]\u001b[A\n",
            " 33%|███▎      | 1/3 [00:00<00:01,  1.14it/s]\u001b[A\n",
            " 67%|██████▋   | 2/3 [00:01<00:00,  1.06it/s]\u001b[A\n",
            "100%|██████████| 3/3 [00:03<00:00,  1.03s/it]\n",
            " 70%|███████   | 141/200 [09:28<04:13,  4.29s/it]\n",
            "  0%|          | 0/3 [00:00<?, ?it/s]\u001b[A\n",
            " 33%|███▎      | 1/3 [00:01<00:03,  1.95s/it]\u001b[A\n",
            " 67%|██████▋   | 2/3 [00:03<00:01,  1.50s/it]\u001b[A\n",
            "100%|██████████| 3/3 [00:04<00:00,  1.40s/it]\n",
            " 71%|███████   | 142/200 [09:32<04:07,  4.27s/it]\n",
            "  0%|          | 0/3 [00:00<?, ?it/s]\u001b[A\n",
            " 33%|███▎      | 1/3 [00:00<00:01,  1.07it/s]\u001b[A\n",
            " 67%|██████▋   | 2/3 [00:01<00:00,  1.01it/s]\u001b[A\n",
            "100%|██████████| 3/3 [00:03<00:00,  1.06s/it]\n",
            " 72%|███████▏  | 143/200 [09:35<03:44,  3.95s/it]\n",
            "  0%|          | 0/4 [00:00<?, ?it/s]\u001b[A\n",
            " 25%|██▌       | 1/4 [00:00<00:02,  1.05it/s]\u001b[A\n",
            " 50%|█████     | 2/4 [00:02<00:02,  1.07s/it]\u001b[A\n",
            " 75%|███████▌  | 3/4 [00:03<00:01,  1.02s/it]\u001b[A\n",
            "100%|██████████| 4/4 [00:04<00:00,  1.08s/it]\n",
            " 72%|███████▏  | 144/200 [09:40<03:47,  4.06s/it]\n",
            "  0%|          | 0/3 [00:00<?, ?it/s]\u001b[A\n",
            " 33%|███▎      | 1/3 [00:01<00:02,  1.13s/it]\u001b[A\n",
            " 67%|██████▋   | 2/3 [00:02<00:01,  1.14s/it]\u001b[A\n",
            "100%|██████████| 3/3 [00:03<00:00,  1.13s/it]\n",
            " 72%|███████▎  | 145/200 [09:43<03:32,  3.86s/it]\n",
            "  0%|          | 0/3 [00:00<?, ?it/s]\u001b[A\n",
            " 33%|███▎      | 1/3 [00:01<00:03,  1.63s/it]\u001b[A\n",
            " 67%|██████▋   | 2/3 [00:02<00:01,  1.21s/it]\u001b[A\n",
            "100%|██████████| 3/3 [00:04<00:00,  1.53s/it]\n",
            " 73%|███████▎  | 146/200 [09:48<03:40,  4.09s/it]\n",
            "  0%|          | 0/4 [00:00<?, ?it/s]\u001b[A\n",
            " 25%|██▌       | 1/4 [00:00<00:02,  1.08it/s]\u001b[A\n",
            " 50%|█████     | 2/4 [00:02<00:02,  1.12s/it]\u001b[A\n",
            " 75%|███████▌  | 3/4 [00:03<00:01,  1.06s/it]\u001b[A\n",
            "100%|██████████| 4/4 [00:04<00:00,  1.13s/it]\n",
            " 74%|███████▎  | 147/200 [09:52<03:43,  4.22s/it]\n",
            "  0%|          | 0/3 [00:00<?, ?it/s]\u001b[A\n",
            " 33%|███▎      | 1/3 [00:01<00:02,  1.06s/it]\u001b[A\n",
            " 67%|██████▋   | 2/3 [00:02<00:01,  1.12s/it]\u001b[A\n",
            "100%|██████████| 3/3 [00:03<00:00,  1.10s/it]\n",
            " 74%|███████▍  | 148/200 [09:56<03:25,  3.95s/it]\n",
            "  0%|          | 0/3 [00:00<?, ?it/s]\u001b[A\n",
            " 33%|███▎      | 1/3 [00:01<00:02,  1.14s/it]\u001b[A\n",
            " 67%|██████▋   | 2/3 [00:02<00:01,  1.32s/it]\u001b[A\n",
            "100%|██████████| 3/3 [00:03<00:00,  1.32s/it]\n",
            " 74%|███████▍  | 149/200 [10:00<03:21,  3.95s/it]\n",
            "  0%|          | 0/3 [00:00<?, ?it/s]\u001b[A\n",
            " 33%|███▎      | 1/3 [00:00<00:01,  1.08it/s]\u001b[A\n",
            " 67%|██████▋   | 2/3 [00:02<00:01,  1.12s/it]\u001b[A\n",
            "100%|██████████| 3/3 [00:03<00:00,  1.08s/it]\n",
            " 75%|███████▌  | 150/200 [10:03<03:06,  3.74s/it]\n",
            "  0%|          | 0/4 [00:00<?, ?it/s]\u001b[A\n",
            " 25%|██▌       | 1/4 [00:00<00:02,  1.15it/s]\u001b[A\n",
            " 50%|█████     | 2/4 [00:01<00:02,  1.01s/it]\u001b[A\n",
            " 75%|███████▌  | 3/4 [00:03<00:01,  1.07s/it]\u001b[A\n",
            "100%|██████████| 4/4 [00:04<00:00,  1.03s/it]\n",
            " 76%|███████▌  | 151/200 [10:07<03:09,  3.86s/it]\n",
            "  0%|          | 0/3 [00:00<?, ?it/s]\u001b[A\n",
            " 33%|███▎      | 1/3 [00:01<00:02,  1.27s/it]\u001b[A\n",
            " 67%|██████▋   | 2/3 [00:02<00:01,  1.08s/it]\u001b[A\n",
            "100%|██████████| 3/3 [00:03<00:00,  1.07s/it]\n",
            " 76%|███████▌  | 152/200 [10:10<02:56,  3.67s/it]\n",
            "  0%|          | 0/3 [00:00<?, ?it/s]\u001b[A\n",
            " 33%|███▎      | 1/3 [00:01<00:03,  1.84s/it]\u001b[A\n",
            " 67%|██████▋   | 2/3 [00:02<00:01,  1.40s/it]\u001b[A\n",
            "100%|██████████| 3/3 [00:04<00:00,  1.43s/it]\n",
            " 76%|███████▋  | 153/200 [10:15<03:01,  3.86s/it]\n",
            "  0%|          | 0/3 [00:00<?, ?it/s]\u001b[A\n",
            " 33%|███▎      | 1/3 [00:01<00:03,  1.55s/it]\u001b[A\n",
            " 67%|██████▋   | 2/3 [00:02<00:01,  1.32s/it]\u001b[A\n",
            "100%|██████████| 3/3 [00:04<00:00,  1.39s/it]\n",
            " 77%|███████▋  | 154/200 [10:19<03:01,  3.95s/it]\n",
            "  0%|          | 0/3 [00:00<?, ?it/s]\u001b[A\n",
            " 33%|███▎      | 1/3 [00:01<00:02,  1.05s/it]\u001b[A\n",
            " 67%|██████▋   | 2/3 [00:02<00:01,  1.03s/it]\u001b[A\n",
            "100%|██████████| 3/3 [00:03<00:00,  1.14s/it]\n",
            " 78%|███████▊  | 155/200 [10:22<02:50,  3.79s/it]\n",
            "  0%|          | 0/3 [00:00<?, ?it/s]\u001b[A\n",
            " 33%|███▎      | 1/3 [00:01<00:02,  1.03s/it]\u001b[A\n",
            " 67%|██████▋   | 2/3 [00:02<00:01,  1.04s/it]\u001b[A\n",
            "100%|██████████| 3/3 [00:03<00:00,  1.06s/it]\n",
            " 78%|███████▊  | 156/200 [10:25<02:39,  3.61s/it]\n",
            "  0%|          | 0/3 [00:00<?, ?it/s]\u001b[A\n",
            " 33%|███▎      | 1/3 [00:00<00:01,  1.09it/s]\u001b[A\n",
            " 67%|██████▋   | 2/3 [00:02<00:01,  1.16s/it]\u001b[A\n",
            "100%|██████████| 3/3 [00:03<00:00,  1.08s/it]\n",
            " 78%|███████▊  | 157/200 [10:29<02:30,  3.51s/it]\n",
            "  0%|          | 0/3 [00:00<?, ?it/s]\u001b[A\n",
            " 33%|███▎      | 1/3 [00:01<00:02,  1.23s/it]\u001b[A\n",
            " 67%|██████▋   | 2/3 [00:02<00:01,  1.39s/it]\u001b[A\n",
            "100%|██████████| 3/3 [00:03<00:00,  1.25s/it]\n",
            " 79%|███████▉  | 158/200 [10:32<02:30,  3.58s/it]\n",
            "  0%|          | 0/3 [00:00<?, ?it/s]\u001b[A\n",
            " 33%|███▎      | 1/3 [00:01<00:02,  1.20s/it]\u001b[A\n",
            " 67%|██████▋   | 2/3 [00:02<00:01,  1.00s/it]\u001b[A\n",
            "100%|██████████| 3/3 [00:03<00:00,  1.09s/it]\n",
            " 80%|███████▉  | 159/200 [10:36<02:23,  3.50s/it]\n",
            "  0%|          | 0/2 [00:00<?, ?it/s]\u001b[A\n",
            " 50%|█████     | 1/2 [00:01<00:01,  1.32s/it]\u001b[A\n",
            "100%|██████████| 2/2 [00:03<00:00,  1.53s/it]\n",
            " 80%|████████  | 160/200 [10:39<02:14,  3.37s/it]\n",
            "  0%|          | 0/3 [00:00<?, ?it/s]\u001b[A\n",
            " 33%|███▎      | 1/3 [00:01<00:02,  1.31s/it]\u001b[A\n",
            " 67%|██████▋   | 2/3 [00:02<00:01,  1.21s/it]\u001b[A\n",
            "100%|██████████| 3/3 [00:03<00:00,  1.14s/it]\n",
            " 80%|████████  | 161/200 [10:42<02:11,  3.38s/it]\n",
            "  0%|          | 0/3 [00:00<?, ?it/s]\u001b[A\n",
            " 33%|███▎      | 1/3 [00:00<00:01,  1.07it/s]\u001b[A\n",
            " 67%|██████▋   | 2/3 [00:02<00:01,  1.10s/it]\u001b[A\n",
            "100%|██████████| 3/3 [00:03<00:00,  1.13s/it]\n",
            " 81%|████████  | 162/200 [10:46<02:08,  3.39s/it]\n",
            "  0%|          | 0/6 [00:00<?, ?it/s]\u001b[A\n",
            " 17%|█▋        | 1/6 [00:01<00:05,  1.20s/it]\u001b[A\n",
            " 33%|███▎      | 2/6 [00:02<00:04,  1.04s/it]\u001b[A\n",
            " 50%|█████     | 3/6 [00:03<00:02,  1.02it/s]\u001b[A\n",
            " 67%|██████▋   | 4/6 [00:04<00:02,  1.09s/it]\u001b[A\n",
            " 83%|████████▎ | 5/6 [00:05<00:01,  1.07s/it]\u001b[A\n",
            "100%|██████████| 6/6 [00:06<00:00,  1.12s/it]\n",
            " 82%|████████▏ | 163/200 [10:52<02:42,  4.40s/it]\n",
            "  0%|          | 0/3 [00:00<?, ?it/s]\u001b[A\n",
            " 33%|███▎      | 1/3 [00:01<00:02,  1.11s/it]\u001b[A\n",
            " 67%|██████▋   | 2/3 [00:02<00:01,  1.04s/it]\u001b[A\n",
            "100%|██████████| 3/3 [00:03<00:00,  1.04s/it]\n",
            " 82%|████████▏ | 164/200 [10:55<02:24,  4.01s/it]\n",
            "  0%|          | 0/4 [00:00<?, ?it/s]\u001b[A\n",
            " 25%|██▌       | 1/4 [00:01<00:03,  1.16s/it]\u001b[A\n",
            " 50%|█████     | 2/4 [00:02<00:02,  1.27s/it]\u001b[A\n",
            " 75%|███████▌  | 3/4 [00:03<00:01,  1.21s/it]\u001b[A\n",
            "100%|██████████| 4/4 [00:05<00:00,  1.30s/it]\n",
            " 82%|████████▎ | 165/200 [11:01<02:32,  4.37s/it]\n",
            "  0%|          | 0/3 [00:00<?, ?it/s]\u001b[A\n",
            " 33%|███▎      | 1/3 [00:01<00:03,  1.82s/it]\u001b[A\n",
            " 67%|██████▋   | 2/3 [00:02<00:01,  1.40s/it]\u001b[A\n",
            "100%|██████████| 3/3 [00:03<00:00,  1.29s/it]\n",
            " 83%|████████▎ | 166/200 [11:04<02:23,  4.22s/it]\n",
            "  0%|          | 0/3 [00:00<?, ?it/s]\u001b[A\n",
            " 33%|███▎      | 1/3 [00:01<00:02,  1.38s/it]\u001b[A\n",
            " 67%|██████▋   | 2/3 [00:02<00:01,  1.16s/it]\u001b[A\n",
            "100%|██████████| 3/3 [00:03<00:00,  1.14s/it]\n",
            " 84%|████████▎ | 167/200 [11:08<02:11,  3.98s/it]\n",
            "  0%|          | 0/3 [00:00<?, ?it/s]\u001b[A\n",
            " 33%|███▎      | 1/3 [00:01<00:03,  1.53s/it]\u001b[A\n",
            " 67%|██████▋   | 2/3 [00:02<00:01,  1.37s/it]\u001b[A\n",
            "100%|██████████| 3/3 [00:04<00:00,  1.34s/it]\n",
            " 84%|████████▍ | 168/200 [11:12<02:08,  4.00s/it]\n",
            "  0%|          | 0/3 [00:00<?, ?it/s]\u001b[A\n",
            " 33%|███▎      | 1/3 [00:01<00:02,  1.10s/it]\u001b[A\n",
            " 67%|██████▋   | 2/3 [00:02<00:01,  1.11s/it]\u001b[A\n",
            "100%|██████████| 3/3 [00:03<00:00,  1.17s/it]\n",
            " 84%|████████▍ | 169/200 [11:15<01:59,  3.86s/it]\n",
            "  0%|          | 0/3 [00:00<?, ?it/s]\u001b[A\n",
            " 33%|███▎      | 1/3 [00:01<00:02,  1.40s/it]\u001b[A\n",
            " 67%|██████▋   | 2/3 [00:02<00:01,  1.12s/it]\u001b[A\n",
            "100%|██████████| 3/3 [00:03<00:00,  1.13s/it]\n",
            " 85%|████████▌ | 170/200 [11:19<01:51,  3.72s/it]\n",
            "  0%|          | 0/4 [00:00<?, ?it/s]\u001b[A\n",
            " 25%|██▌       | 1/4 [00:01<00:04,  1.49s/it]\u001b[A\n",
            " 50%|█████     | 2/4 [00:02<00:02,  1.15s/it]\u001b[A\n",
            " 75%|███████▌  | 3/4 [00:03<00:01,  1.14s/it]\u001b[A\n",
            "100%|██████████| 4/4 [00:04<00:00,  1.14s/it]\n",
            " 86%|████████▌ | 171/200 [11:23<01:55,  3.98s/it]\n",
            "  0%|          | 0/3 [00:00<?, ?it/s]\u001b[A\n",
            " 33%|███▎      | 1/3 [00:01<00:03,  1.60s/it]\u001b[A\n",
            " 67%|██████▋   | 2/3 [00:03<00:01,  1.77s/it]\u001b[A\n",
            "100%|██████████| 3/3 [00:04<00:00,  1.49s/it]\n",
            " 86%|████████▌ | 172/200 [11:28<01:55,  4.13s/it]\n",
            "  0%|          | 0/2 [00:00<?, ?it/s]\u001b[A\n",
            " 50%|█████     | 1/2 [00:01<00:01,  1.33s/it]\u001b[A\n",
            "100%|██████████| 2/2 [00:03<00:00,  1.83s/it]\n",
            " 86%|████████▋ | 173/200 [11:32<01:47,  3.99s/it]\n",
            "  0%|          | 0/3 [00:00<?, ?it/s]\u001b[A\n",
            " 33%|███▎      | 1/3 [00:01<00:03,  1.72s/it]\u001b[A\n",
            " 67%|██████▋   | 2/3 [00:03<00:01,  1.67s/it]\u001b[A\n",
            "100%|██████████| 3/3 [00:04<00:00,  1.42s/it]\n",
            " 87%|████████▋ | 174/200 [11:36<01:46,  4.08s/it]\n",
            "  0%|          | 0/3 [00:00<?, ?it/s]\u001b[A\n",
            " 33%|███▎      | 1/3 [00:00<00:01,  1.05it/s]\u001b[A\n",
            " 67%|██████▋   | 2/3 [00:01<00:00,  1.04it/s]\u001b[A\n",
            "100%|██████████| 3/3 [00:02<00:00,  1.02it/s]\n",
            " 88%|████████▊ | 175/200 [11:39<01:33,  3.74s/it]\n",
            "  0%|          | 0/3 [00:00<?, ?it/s]\u001b[A\n",
            " 33%|███▎      | 1/3 [00:01<00:03,  1.58s/it]\u001b[A\n",
            " 67%|██████▋   | 2/3 [00:03<00:01,  1.50s/it]\u001b[A\n",
            "100%|██████████| 3/3 [00:04<00:00,  1.37s/it]\n",
            " 88%|████████▊ | 176/200 [11:43<01:32,  3.86s/it]\n",
            "  0%|          | 0/3 [00:00<?, ?it/s]\u001b[A\n",
            " 33%|███▎      | 1/3 [00:01<00:03,  1.51s/it]\u001b[A\n",
            " 67%|██████▋   | 2/3 [00:02<00:01,  1.23s/it]\u001b[A\n",
            "100%|██████████| 3/3 [00:03<00:00,  1.19s/it]\n",
            " 88%|████████▊ | 177/200 [11:47<01:26,  3.77s/it]\n",
            "  0%|          | 0/3 [00:00<?, ?it/s]\u001b[A\n",
            " 33%|███▎      | 1/3 [00:01<00:02,  1.39s/it]\u001b[A\n",
            " 67%|██████▋   | 2/3 [00:02<00:01,  1.25s/it]\u001b[A\n",
            "100%|██████████| 3/3 [00:03<00:00,  1.21s/it]\n",
            " 89%|████████▉ | 178/200 [11:50<01:22,  3.74s/it]\n",
            "  0%|          | 0/3 [00:00<?, ?it/s]\u001b[A\n",
            " 33%|███▎      | 1/3 [00:01<00:02,  1.06s/it]\u001b[A\n",
            " 67%|██████▋   | 2/3 [00:02<00:01,  1.16s/it]\u001b[A\n",
            "100%|██████████| 3/3 [00:03<00:00,  1.17s/it]\n",
            " 90%|████████▉ | 179/200 [11:54<01:17,  3.67s/it]\n",
            "  0%|          | 0/3 [00:00<?, ?it/s]\u001b[A\n",
            " 33%|███▎      | 1/3 [00:01<00:02,  1.12s/it]\u001b[A\n",
            " 67%|██████▋   | 2/3 [00:02<00:01,  1.29s/it]\u001b[A\n",
            "100%|██████████| 3/3 [00:03<00:00,  1.18s/it]\n",
            " 90%|█████████ | 180/200 [11:57<01:12,  3.63s/it]\n",
            "  0%|          | 0/6 [00:00<?, ?it/s]\u001b[A\n",
            " 17%|█▋        | 1/6 [00:01<00:05,  1.15s/it]\u001b[A\n",
            " 33%|███▎      | 2/6 [00:02<00:05,  1.43s/it]\u001b[A\n",
            " 50%|█████     | 3/6 [00:03<00:03,  1.23s/it]\u001b[A\n",
            " 67%|██████▋   | 4/6 [00:05<00:02,  1.30s/it]\u001b[A\n",
            " 83%|████████▎ | 5/6 [00:06<00:01,  1.38s/it]\u001b[A\n",
            "100%|██████████| 6/6 [00:07<00:00,  1.29s/it]\n",
            " 90%|█████████ | 181/200 [12:05<01:32,  4.87s/it]\n",
            "  0%|          | 0/4 [00:00<?, ?it/s]\u001b[A\n",
            " 25%|██▌       | 1/4 [00:01<00:03,  1.14s/it]\u001b[A\n",
            " 50%|█████     | 2/4 [00:02<00:02,  1.10s/it]\u001b[A\n",
            " 75%|███████▌  | 3/4 [00:03<00:01,  1.15s/it]\u001b[A\n",
            "100%|██████████| 4/4 [00:04<00:00,  1.12s/it]\n",
            " 91%|█████████ | 182/200 [12:10<01:25,  4.76s/it]\n",
            "  0%|          | 0/3 [00:00<?, ?it/s]\u001b[A\n",
            " 33%|███▎      | 1/3 [00:00<00:01,  1.09it/s]\u001b[A\n",
            " 67%|██████▋   | 2/3 [00:01<00:00,  1.05it/s]\u001b[A\n",
            "100%|██████████| 3/3 [00:03<00:00,  1.00s/it]\n",
            " 92%|█████████▏| 183/200 [12:13<01:11,  4.23s/it]\n",
            "  0%|          | 0/4 [00:00<?, ?it/s]\u001b[A\n",
            " 25%|██▌       | 1/4 [00:01<00:03,  1.19s/it]\u001b[A\n",
            " 50%|█████     | 2/4 [00:02<00:02,  1.13s/it]\u001b[A\n",
            " 75%|███████▌  | 3/4 [00:03<00:01,  1.13s/it]\u001b[A\n",
            "100%|██████████| 4/4 [00:04<00:00,  1.17s/it]\n",
            " 92%|█████████▏| 184/200 [12:17<01:10,  4.38s/it]\n",
            "  0%|          | 0/2 [00:00<?, ?it/s]\u001b[A\n",
            " 50%|█████     | 1/2 [00:01<00:01,  1.47s/it]\u001b[A\n",
            "100%|██████████| 2/2 [00:02<00:00,  1.33s/it]\n",
            " 92%|█████████▎| 185/200 [12:20<00:57,  3.86s/it]\n",
            "  0%|          | 0/3 [00:00<?, ?it/s]\u001b[A\n",
            " 33%|███▎      | 1/3 [00:01<00:02,  1.09s/it]\u001b[A\n",
            " 67%|██████▋   | 2/3 [00:02<00:01,  1.04s/it]\u001b[A\n",
            "100%|██████████| 3/3 [00:03<00:00,  1.08s/it]\n",
            " 93%|█████████▎| 186/200 [12:23<00:51,  3.68s/it]\n",
            "  0%|          | 0/3 [00:00<?, ?it/s]\u001b[A\n",
            " 33%|███▎      | 1/3 [00:02<00:04,  2.05s/it]\u001b[A\n",
            " 67%|██████▋   | 2/3 [00:03<00:01,  1.43s/it]\u001b[A\n",
            "100%|██████████| 3/3 [00:04<00:00,  1.34s/it]\n",
            " 94%|█████████▎| 187/200 [12:27<00:49,  3.78s/it]\n",
            "  0%|          | 0/3 [00:00<?, ?it/s]\u001b[A\n",
            " 33%|███▎      | 1/3 [00:01<00:02,  1.21s/it]\u001b[A\n",
            " 67%|██████▋   | 2/3 [00:02<00:01,  1.03s/it]\u001b[A\n",
            "100%|██████████| 3/3 [00:03<00:00,  1.08s/it]\n",
            " 94%|█████████▍| 188/200 [12:30<00:43,  3.62s/it]\n",
            "  0%|          | 0/3 [00:00<?, ?it/s]\u001b[A\n",
            " 33%|███▎      | 1/3 [00:01<00:02,  1.22s/it]\u001b[A\n",
            " 67%|██████▋   | 2/3 [00:02<00:01,  1.09s/it]\u001b[A\n",
            "100%|██████████| 3/3 [00:03<00:00,  1.09s/it]\n",
            " 94%|█████████▍| 189/200 [12:34<00:38,  3.52s/it]\n",
            "  0%|          | 0/2 [00:00<?, ?it/s]\u001b[A\n",
            " 50%|█████     | 1/2 [00:00<00:00,  1.06it/s]\u001b[A\n",
            "100%|██████████| 2/2 [00:02<00:00,  1.01s/it]\n",
            " 95%|█████████▌| 190/200 [12:36<00:30,  3.07s/it]\n",
            "  0%|          | 0/4 [00:00<?, ?it/s]\u001b[A\n",
            " 25%|██▌       | 1/4 [00:01<00:03,  1.08s/it]\u001b[A\n",
            " 50%|█████     | 2/4 [00:02<00:02,  1.07s/it]\u001b[A\n",
            " 75%|███████▌  | 3/4 [00:03<00:00,  1.01it/s]\u001b[A\n",
            "100%|██████████| 4/4 [00:04<00:00,  1.04s/it]\n",
            " 96%|█████████▌| 191/200 [12:40<00:30,  3.40s/it]\n",
            "  0%|          | 0/3 [00:00<?, ?it/s]\u001b[A\n",
            " 33%|███▎      | 1/3 [00:00<00:01,  1.01it/s]\u001b[A\n",
            " 67%|██████▋   | 2/3 [00:02<00:01,  1.17s/it]\u001b[A\n",
            "100%|██████████| 3/3 [00:03<00:00,  1.16s/it]\n",
            " 96%|█████████▌| 192/200 [12:43<00:27,  3.42s/it]\n",
            "  0%|          | 0/3 [00:00<?, ?it/s]\u001b[A\n",
            " 33%|███▎      | 1/3 [00:00<00:01,  1.12it/s]\u001b[A\n",
            " 67%|██████▋   | 2/3 [00:02<00:01,  1.04s/it]\u001b[A\n",
            "100%|██████████| 3/3 [00:03<00:00,  1.05s/it]\n",
            " 96%|█████████▋| 193/200 [12:47<00:23,  3.35s/it]\n",
            "  0%|          | 0/3 [00:00<?, ?it/s]\u001b[A\n",
            " 33%|███▎      | 1/3 [00:01<00:02,  1.01s/it]\u001b[A\n",
            " 67%|██████▋   | 2/3 [00:02<00:01,  1.04s/it]\u001b[A\n",
            "100%|██████████| 3/3 [00:04<00:00,  1.36s/it]\n",
            " 97%|█████████▋| 194/200 [12:51<00:21,  3.57s/it]\n",
            "  0%|          | 0/3 [00:00<?, ?it/s]\u001b[A\n",
            " 33%|███▎      | 1/3 [00:01<00:02,  1.05s/it]\u001b[A\n",
            " 67%|██████▋   | 2/3 [00:02<00:01,  1.23s/it]\u001b[A\n",
            "100%|██████████| 3/3 [00:03<00:00,  1.13s/it]\n",
            " 98%|█████████▊| 195/200 [12:54<00:17,  3.52s/it]\n",
            "  0%|          | 0/3 [00:00<?, ?it/s]\u001b[A\n",
            " 33%|███▎      | 1/3 [00:01<00:02,  1.12s/it]\u001b[A\n",
            " 67%|██████▋   | 2/3 [00:02<00:01,  1.12s/it]\u001b[A\n",
            "100%|██████████| 3/3 [00:03<00:00,  1.20s/it]\n",
            " 98%|█████████▊| 196/200 [12:58<00:14,  3.55s/it]\n",
            "  0%|          | 0/3 [00:00<?, ?it/s]\u001b[A\n",
            " 33%|███▎      | 1/3 [00:01<00:02,  1.03s/it]\u001b[A\n",
            " 67%|██████▋   | 2/3 [00:02<00:01,  1.08s/it]\u001b[A\n",
            "100%|██████████| 3/3 [00:03<00:00,  1.08s/it]\n",
            " 98%|█████████▊| 197/200 [13:01<00:10,  3.46s/it]\n",
            "  0%|          | 0/3 [00:00<?, ?it/s]\u001b[A\n",
            " 33%|███▎      | 1/3 [00:01<00:02,  1.17s/it]\u001b[A\n",
            " 67%|██████▋   | 2/3 [00:02<00:01,  1.17s/it]\u001b[A\n",
            "100%|██████████| 3/3 [00:03<00:00,  1.24s/it]\n",
            " 99%|█████████▉| 198/200 [13:05<00:07,  3.54s/it]\n",
            "  0%|          | 0/3 [00:00<?, ?it/s]\u001b[A\n",
            " 33%|███▎      | 1/3 [00:01<00:02,  1.02s/it]\u001b[A\n",
            " 67%|██████▋   | 2/3 [00:02<00:01,  1.10s/it]\u001b[A\n",
            "100%|██████████| 3/3 [00:04<00:00,  1.37s/it]\n",
            "100%|█████████▉| 199/200 [13:09<00:03,  3.71s/it]\n",
            "  0%|          | 0/3 [00:00<?, ?it/s]\u001b[A\n",
            " 33%|███▎      | 1/3 [00:01<00:02,  1.29s/it]\u001b[A\n",
            " 67%|██████▋   | 2/3 [00:02<00:01,  1.24s/it]\u001b[A\n",
            "100%|██████████| 3/3 [00:03<00:00,  1.14s/it]\n",
            "100%|██████████| 200/200 [13:12<00:00,  3.96s/it]\n"
          ]
        }
      ]
    },
    {
      "cell_type": "code",
      "source": [
        "dfTest.head()"
      ],
      "metadata": {
        "colab": {
          "base_uri": "https://localhost:8080/",
          "height": 808
        },
        "id": "14pQEZy22C_R",
        "outputId": "c5406e1c-3636-4875-9107-27b4225c5453"
      },
      "execution_count": null,
      "outputs": [
        {
          "output_type": "execute_result",
          "data": {
            "text/plain": [
              "                                               claim        label  \\\n",
              "0  Says Kentucky Rep. Andy Barr \"would let shady ...    half-true   \n",
              "1  \"New reports show Kevin Nicholson made over $1...  barely-true   \n",
              "2  Says that unless the recipient called back abo...   pants-fire   \n",
              "3  \"Donald Trump said he was excited for the 2008...    half-true   \n",
              "4  \"The president has said the national security ...  barely-true   \n",
              "\n",
              "                                 annotated-questions  label-binary  \\\n",
              "0  [1. Has Barr received $36,550 from payday lend...             1   \n",
              "1  [1. Did Nicholson make $1 million consulting f...             0   \n",
              "2  [1. Will people be taken into local police cus...             0   \n",
              "3  [1. Was Donald Trump \"Excited\" for the 2008 ho...             1   \n",
              "4  [1. Has Obama cited climate change as the top ...             0   \n",
              "\n",
              "                                 decomp-subquestions  \\\n",
              "0  \" 1. Did Barr take money from these lenders?\\n...   \n",
              "1  \" 1. Did Nicholson make over $1 million?\\n2. D...   \n",
              "2  \" 1. Did someone call about this person's tax ...   \n",
              "3  \" 1. Did Donald Trump say he was excited for t...   \n",
              "4  \" 1. Did the president say that global warming...   \n",
              "\n",
              "                                    decomp-subclaims  decomp-supporting  \\\n",
              "0  \"Barr took money from these lenders.\";\"Barr wo...                  0   \n",
              "1  \"Nicholson made over $1 million.\";\"Nicholson a...                  0   \n",
              "2  \"Someone called about this person's tax filing...                  0   \n",
              "3  \"\\nDonald Trump said he was excited for the 20...                  0   \n",
              "4  \"The president said that global warming is the...                  0   \n",
              "\n",
              "   decomp-refuting decomp-label  decomp-label-binary decomp-evidence  \\\n",
              "0                0                                 0                   \n",
              "1                0                                 0                   \n",
              "2                0                                 0                   \n",
              "3                0                                 0                   \n",
              "4                0                                 0                   \n",
              "\n",
              "   decomp-performance  \n",
              "0                   0  \n",
              "1                   0  \n",
              "2                   0  \n",
              "3                   0  \n",
              "4                   0  "
            ],
            "text/html": [
              "\n",
              "  <div id=\"df-801a77c4-fff9-4948-ab69-e1a4fa785062\">\n",
              "    <div class=\"colab-df-container\">\n",
              "      <div>\n",
              "<style scoped>\n",
              "    .dataframe tbody tr th:only-of-type {\n",
              "        vertical-align: middle;\n",
              "    }\n",
              "\n",
              "    .dataframe tbody tr th {\n",
              "        vertical-align: top;\n",
              "    }\n",
              "\n",
              "    .dataframe thead th {\n",
              "        text-align: right;\n",
              "    }\n",
              "</style>\n",
              "<table border=\"1\" class=\"dataframe\">\n",
              "  <thead>\n",
              "    <tr style=\"text-align: right;\">\n",
              "      <th></th>\n",
              "      <th>claim</th>\n",
              "      <th>label</th>\n",
              "      <th>annotated-questions</th>\n",
              "      <th>label-binary</th>\n",
              "      <th>decomp-subquestions</th>\n",
              "      <th>decomp-subclaims</th>\n",
              "      <th>decomp-supporting</th>\n",
              "      <th>decomp-refuting</th>\n",
              "      <th>decomp-label</th>\n",
              "      <th>decomp-label-binary</th>\n",
              "      <th>decomp-evidence</th>\n",
              "      <th>decomp-performance</th>\n",
              "    </tr>\n",
              "  </thead>\n",
              "  <tbody>\n",
              "    <tr>\n",
              "      <th>0</th>\n",
              "      <td>Says Kentucky Rep. Andy Barr \"would let shady ...</td>\n",
              "      <td>half-true</td>\n",
              "      <td>[1. Has Barr received $36,550 from payday lend...</td>\n",
              "      <td>1</td>\n",
              "      <td>\" 1. Did Barr take money from these lenders?\\n...</td>\n",
              "      <td>\"Barr took money from these lenders.\";\"Barr wo...</td>\n",
              "      <td>0</td>\n",
              "      <td>0</td>\n",
              "      <td></td>\n",
              "      <td>0</td>\n",
              "      <td></td>\n",
              "      <td>0</td>\n",
              "    </tr>\n",
              "    <tr>\n",
              "      <th>1</th>\n",
              "      <td>\"New reports show Kevin Nicholson made over $1...</td>\n",
              "      <td>barely-true</td>\n",
              "      <td>[1. Did Nicholson make $1 million consulting f...</td>\n",
              "      <td>0</td>\n",
              "      <td>\" 1. Did Nicholson make over $1 million?\\n2. D...</td>\n",
              "      <td>\"Nicholson made over $1 million.\";\"Nicholson a...</td>\n",
              "      <td>0</td>\n",
              "      <td>0</td>\n",
              "      <td></td>\n",
              "      <td>0</td>\n",
              "      <td></td>\n",
              "      <td>0</td>\n",
              "    </tr>\n",
              "    <tr>\n",
              "      <th>2</th>\n",
              "      <td>Says that unless the recipient called back abo...</td>\n",
              "      <td>pants-fire</td>\n",
              "      <td>[1. Will people be taken into local police cus...</td>\n",
              "      <td>0</td>\n",
              "      <td>\" 1. Did someone call about this person's tax ...</td>\n",
              "      <td>\"Someone called about this person's tax filing...</td>\n",
              "      <td>0</td>\n",
              "      <td>0</td>\n",
              "      <td></td>\n",
              "      <td>0</td>\n",
              "      <td></td>\n",
              "      <td>0</td>\n",
              "    </tr>\n",
              "    <tr>\n",
              "      <th>3</th>\n",
              "      <td>\"Donald Trump said he was excited for the 2008...</td>\n",
              "      <td>half-true</td>\n",
              "      <td>[1. Was Donald Trump \"Excited\" for the 2008 ho...</td>\n",
              "      <td>1</td>\n",
              "      <td>\" 1. Did Donald Trump say he was excited for t...</td>\n",
              "      <td>\"\\nDonald Trump said he was excited for the 20...</td>\n",
              "      <td>0</td>\n",
              "      <td>0</td>\n",
              "      <td></td>\n",
              "      <td>0</td>\n",
              "      <td></td>\n",
              "      <td>0</td>\n",
              "    </tr>\n",
              "    <tr>\n",
              "      <th>4</th>\n",
              "      <td>\"The president has said the national security ...</td>\n",
              "      <td>barely-true</td>\n",
              "      <td>[1. Has Obama cited climate change as the top ...</td>\n",
              "      <td>0</td>\n",
              "      <td>\" 1. Did the president say that global warming...</td>\n",
              "      <td>\"The president said that global warming is the...</td>\n",
              "      <td>0</td>\n",
              "      <td>0</td>\n",
              "      <td></td>\n",
              "      <td>0</td>\n",
              "      <td></td>\n",
              "      <td>0</td>\n",
              "    </tr>\n",
              "  </tbody>\n",
              "</table>\n",
              "</div>\n",
              "      <button class=\"colab-df-convert\" onclick=\"convertToInteractive('df-801a77c4-fff9-4948-ab69-e1a4fa785062')\"\n",
              "              title=\"Convert this dataframe to an interactive table.\"\n",
              "              style=\"display:none;\">\n",
              "        \n",
              "  <svg xmlns=\"http://www.w3.org/2000/svg\" height=\"24px\"viewBox=\"0 0 24 24\"\n",
              "       width=\"24px\">\n",
              "    <path d=\"M0 0h24v24H0V0z\" fill=\"none\"/>\n",
              "    <path d=\"M18.56 5.44l.94 2.06.94-2.06 2.06-.94-2.06-.94-.94-2.06-.94 2.06-2.06.94zm-11 1L8.5 8.5l.94-2.06 2.06-.94-2.06-.94L8.5 2.5l-.94 2.06-2.06.94zm10 10l.94 2.06.94-2.06 2.06-.94-2.06-.94-.94-2.06-.94 2.06-2.06.94z\"/><path d=\"M17.41 7.96l-1.37-1.37c-.4-.4-.92-.59-1.43-.59-.52 0-1.04.2-1.43.59L10.3 9.45l-7.72 7.72c-.78.78-.78 2.05 0 2.83L4 21.41c.39.39.9.59 1.41.59.51 0 1.02-.2 1.41-.59l7.78-7.78 2.81-2.81c.8-.78.8-2.07 0-2.86zM5.41 20L4 18.59l7.72-7.72 1.47 1.35L5.41 20z\"/>\n",
              "  </svg>\n",
              "      </button>\n",
              "      \n",
              "  <style>\n",
              "    .colab-df-container {\n",
              "      display:flex;\n",
              "      flex-wrap:wrap;\n",
              "      gap: 12px;\n",
              "    }\n",
              "\n",
              "    .colab-df-convert {\n",
              "      background-color: #E8F0FE;\n",
              "      border: none;\n",
              "      border-radius: 50%;\n",
              "      cursor: pointer;\n",
              "      display: none;\n",
              "      fill: #1967D2;\n",
              "      height: 32px;\n",
              "      padding: 0 0 0 0;\n",
              "      width: 32px;\n",
              "    }\n",
              "\n",
              "    .colab-df-convert:hover {\n",
              "      background-color: #E2EBFA;\n",
              "      box-shadow: 0px 1px 2px rgba(60, 64, 67, 0.3), 0px 1px 3px 1px rgba(60, 64, 67, 0.15);\n",
              "      fill: #174EA6;\n",
              "    }\n",
              "\n",
              "    [theme=dark] .colab-df-convert {\n",
              "      background-color: #3B4455;\n",
              "      fill: #D2E3FC;\n",
              "    }\n",
              "\n",
              "    [theme=dark] .colab-df-convert:hover {\n",
              "      background-color: #434B5C;\n",
              "      box-shadow: 0px 1px 3px 1px rgba(0, 0, 0, 0.15);\n",
              "      filter: drop-shadow(0px 1px 2px rgba(0, 0, 0, 0.3));\n",
              "      fill: #FFFFFF;\n",
              "    }\n",
              "  </style>\n",
              "\n",
              "      <script>\n",
              "        const buttonEl =\n",
              "          document.querySelector('#df-801a77c4-fff9-4948-ab69-e1a4fa785062 button.colab-df-convert');\n",
              "        buttonEl.style.display =\n",
              "          google.colab.kernel.accessAllowed ? 'block' : 'none';\n",
              "\n",
              "        async function convertToInteractive(key) {\n",
              "          const element = document.querySelector('#df-801a77c4-fff9-4948-ab69-e1a4fa785062');\n",
              "          const dataTable =\n",
              "            await google.colab.kernel.invokeFunction('convertToInteractive',\n",
              "                                                     [key], {});\n",
              "          if (!dataTable) return;\n",
              "\n",
              "          const docLinkHtml = 'Like what you see? Visit the ' +\n",
              "            '<a target=\"_blank\" href=https://colab.research.google.com/notebooks/data_table.ipynb>data table notebook</a>'\n",
              "            + ' to learn more about interactive tables.';\n",
              "          element.innerHTML = '';\n",
              "          dataTable['output_type'] = 'display_data';\n",
              "          await google.colab.output.renderOutput(dataTable, element);\n",
              "          const docLink = document.createElement('div');\n",
              "          docLink.innerHTML = docLinkHtml;\n",
              "          element.appendChild(docLink);\n",
              "        }\n",
              "      </script>\n",
              "    </div>\n",
              "  </div>\n",
              "  "
            ]
          },
          "metadata": {},
          "execution_count": 121
        }
      ]
    },
    {
      "cell_type": "code",
      "source": [
        "dfTest.to_csv(\"./result/evalDecompTest-stage2.csv\", index=False, encoding = 'utf-8-sig', header=True, escapechar='',)"
      ],
      "metadata": {
        "id": "QCi3ttxHXR5q"
      },
      "execution_count": null,
      "outputs": []
    },
    {
      "cell_type": "code",
      "source": [
        "dfTest.loc[2, 'decomp-subclaims'].replace(\"\\\";\\\"\", \";\")"
      ],
      "metadata": {
        "colab": {
          "base_uri": "https://localhost:8080/",
          "height": 70
        },
        "id": "zvcGIwnDe4gd",
        "outputId": "ac8550c2-f6b5-48b8-e3ff-8272f18da21d"
      },
      "execution_count": null,
      "outputs": [
        {
          "output_type": "execute_result",
          "data": {
            "text/plain": [
              "'\"Someone called about this person\\'s tax filings.;Local cops will take this person into custody.;There were serious allegations pressed on this person\\'s name.;The recipient will be taken into custody by the local cops unless they call back about \"your tax filings\" due to more serious allegations pressed on their name.\"'"
            ],
            "application/vnd.google.colaboratory.intrinsic+json": {
              "type": "string"
            }
          },
          "metadata": {},
          "execution_count": 125
        }
      ]
    },
    {
      "cell_type": "markdown",
      "source": [
        "## Evidence retrieval\n",
        "\n",
        "We will now retrieve relevant evidence and carry out the entailment classification using the Quin system\n",
        "\n",
        "#### Method 1 [Full Pipeline V1]\n",
        "\n",
        "For our first method, we retrieve relevant articles using the original claim. Thereafter, we will conduct the entailment classification using the subclaims generated in the previous step to generate the final veracity results."
      ],
      "metadata": {
        "id": "IbnWVTv3x_X2"
      }
    },
    {
      "cell_type": "code",
      "source": [
        "newpath = \"./result/evalDecompTest-stage2.csv\"\n",
        "dfTest = pd.read_csv(newpath)"
      ],
      "metadata": {
        "id": "5TM1R3ScYXco"
      },
      "execution_count": null,
      "outputs": []
    },
    {
      "cell_type": "code",
      "source": [
        "# Add extra cols for computation\n",
        "dfTest['decomp-total-support'] = 0\n",
        "dfTest['decomp-total-refute'] = 0\n",
        "dfTest.head()"
      ],
      "metadata": {
        "colab": {
          "base_uri": "https://localhost:8080/",
          "height": 808
        },
        "id": "0lebjGgok4OW",
        "outputId": "7e61d31a-e106-4283-fec8-d9536bf03a42"
      },
      "execution_count": null,
      "outputs": [
        {
          "output_type": "execute_result",
          "data": {
            "text/plain": [
              "                                               claim        label  \\\n",
              "0  Says Kentucky Rep. Andy Barr \"would let shady ...    half-true   \n",
              "1  \"New reports show Kevin Nicholson made over $1...  barely-true   \n",
              "2  Says that unless the recipient called back abo...   pants-fire   \n",
              "3  \"Donald Trump said he was excited for the 2008...    half-true   \n",
              "4  \"The president has said the national security ...  barely-true   \n",
              "\n",
              "                                 annotated-questions  label-binary  \\\n",
              "0  ['1. Has Barr received $36,550 from payday len...             1   \n",
              "1  ['1. Did Nicholson make $1 million consulting ...             0   \n",
              "2  ['1. Will people be taken into local police cu...             0   \n",
              "3  ['1. Was Donald Trump \"Excited\" for the 2008 h...             1   \n",
              "4  ['1. Has Obama cited climate change as the top...             0   \n",
              "\n",
              "                                 decomp-subquestions  \\\n",
              "0  \" 1. Did Barr take money from these lenders?\\n...   \n",
              "1  \" 1. Did Nicholson make over $1 million?\\n2. D...   \n",
              "2  \" 1. Did someone call about this person's tax ...   \n",
              "3  \" 1. Did Donald Trump say he was excited for t...   \n",
              "4  \" 1. Did the president say that global warming...   \n",
              "\n",
              "                                    decomp-subclaims decomp-supporting  \\\n",
              "0  \"Barr took money from these lenders.\";\"Barr wo...            0;2;0;   \n",
              "1  \"Nicholson made over $1 million.\";\"Nicholson a...          0;3;0;3;   \n",
              "2  \"Someone called about this person's tax filing...          0;2;2;2;   \n",
              "3  \"\\nDonald Trump said he was excited for the 20...            3;3;0;   \n",
              "4  \"The president said that global warming is the...            0;0;0;   \n",
              "\n",
              "  decomp-refuting                                       decomp-label  \\\n",
              "0          0;0;0;  Not enough evidence;Not enough evidence;Not en...   \n",
              "1        0;0;3;1;  Not enough evidence;Probably True;Probably Fal...   \n",
              "2        0;0;0;0;  Not enough evidence;Not enough evidence;Not en...   \n",
              "3          0;0;3;        Probably True;Probably True;Probably False;   \n",
              "4          0;0;0;  Not enough evidence;Not enough evidence;Not en...   \n",
              "\n",
              "   decomp-label-binary                                    decomp-evidence  \\\n",
              "0                    0  ; Says Kentucky Rep. Andy Barr \"would let shad...   \n",
              "1                    0  ;<b> \"New reports show Kevin Nicholson made ov...   \n",
              "2                    0  Regulations issued pursuant to this type of au...   \n",
              "3                    0   look at his history. <b>donald trump said he ...   \n",
              "4                    0                                                ;;;   \n",
              "\n",
              "   decomp-performance  decomp-total-support  decomp-total-refute  \n",
              "0                   0                     0                    0  \n",
              "1                   0                     0                    0  \n",
              "2                   0                     0                    0  \n",
              "3                   0                     0                    0  \n",
              "4                   0                     0                    0  "
            ],
            "text/html": [
              "\n",
              "  <div id=\"df-532e5618-9279-4f55-a064-7825cbff30fa\">\n",
              "    <div class=\"colab-df-container\">\n",
              "      <div>\n",
              "<style scoped>\n",
              "    .dataframe tbody tr th:only-of-type {\n",
              "        vertical-align: middle;\n",
              "    }\n",
              "\n",
              "    .dataframe tbody tr th {\n",
              "        vertical-align: top;\n",
              "    }\n",
              "\n",
              "    .dataframe thead th {\n",
              "        text-align: right;\n",
              "    }\n",
              "</style>\n",
              "<table border=\"1\" class=\"dataframe\">\n",
              "  <thead>\n",
              "    <tr style=\"text-align: right;\">\n",
              "      <th></th>\n",
              "      <th>claim</th>\n",
              "      <th>label</th>\n",
              "      <th>annotated-questions</th>\n",
              "      <th>label-binary</th>\n",
              "      <th>decomp-subquestions</th>\n",
              "      <th>decomp-subclaims</th>\n",
              "      <th>decomp-supporting</th>\n",
              "      <th>decomp-refuting</th>\n",
              "      <th>decomp-label</th>\n",
              "      <th>decomp-label-binary</th>\n",
              "      <th>decomp-evidence</th>\n",
              "      <th>decomp-performance</th>\n",
              "      <th>decomp-total-support</th>\n",
              "      <th>decomp-total-refute</th>\n",
              "    </tr>\n",
              "  </thead>\n",
              "  <tbody>\n",
              "    <tr>\n",
              "      <th>0</th>\n",
              "      <td>Says Kentucky Rep. Andy Barr \"would let shady ...</td>\n",
              "      <td>half-true</td>\n",
              "      <td>['1. Has Barr received $36,550 from payday len...</td>\n",
              "      <td>1</td>\n",
              "      <td>\" 1. Did Barr take money from these lenders?\\n...</td>\n",
              "      <td>\"Barr took money from these lenders.\";\"Barr wo...</td>\n",
              "      <td>0;2;0;</td>\n",
              "      <td>0;0;0;</td>\n",
              "      <td>Not enough evidence;Not enough evidence;Not en...</td>\n",
              "      <td>0</td>\n",
              "      <td>; Says Kentucky Rep. Andy Barr \"would let shad...</td>\n",
              "      <td>0</td>\n",
              "      <td>0</td>\n",
              "      <td>0</td>\n",
              "    </tr>\n",
              "    <tr>\n",
              "      <th>1</th>\n",
              "      <td>\"New reports show Kevin Nicholson made over $1...</td>\n",
              "      <td>barely-true</td>\n",
              "      <td>['1. Did Nicholson make $1 million consulting ...</td>\n",
              "      <td>0</td>\n",
              "      <td>\" 1. Did Nicholson make over $1 million?\\n2. D...</td>\n",
              "      <td>\"Nicholson made over $1 million.\";\"Nicholson a...</td>\n",
              "      <td>0;3;0;3;</td>\n",
              "      <td>0;0;3;1;</td>\n",
              "      <td>Not enough evidence;Probably True;Probably Fal...</td>\n",
              "      <td>0</td>\n",
              "      <td>;&lt;b&gt; \"New reports show Kevin Nicholson made ov...</td>\n",
              "      <td>0</td>\n",
              "      <td>0</td>\n",
              "      <td>0</td>\n",
              "    </tr>\n",
              "    <tr>\n",
              "      <th>2</th>\n",
              "      <td>Says that unless the recipient called back abo...</td>\n",
              "      <td>pants-fire</td>\n",
              "      <td>['1. Will people be taken into local police cu...</td>\n",
              "      <td>0</td>\n",
              "      <td>\" 1. Did someone call about this person's tax ...</td>\n",
              "      <td>\"Someone called about this person's tax filing...</td>\n",
              "      <td>0;2;2;2;</td>\n",
              "      <td>0;0;0;0;</td>\n",
              "      <td>Not enough evidence;Not enough evidence;Not en...</td>\n",
              "      <td>0</td>\n",
              "      <td>Regulations issued pursuant to this type of au...</td>\n",
              "      <td>0</td>\n",
              "      <td>0</td>\n",
              "      <td>0</td>\n",
              "    </tr>\n",
              "    <tr>\n",
              "      <th>3</th>\n",
              "      <td>\"Donald Trump said he was excited for the 2008...</td>\n",
              "      <td>half-true</td>\n",
              "      <td>['1. Was Donald Trump \"Excited\" for the 2008 h...</td>\n",
              "      <td>1</td>\n",
              "      <td>\" 1. Did Donald Trump say he was excited for t...</td>\n",
              "      <td>\"\\nDonald Trump said he was excited for the 20...</td>\n",
              "      <td>3;3;0;</td>\n",
              "      <td>0;0;3;</td>\n",
              "      <td>Probably True;Probably True;Probably False;</td>\n",
              "      <td>0</td>\n",
              "      <td>look at his history. &lt;b&gt;donald trump said he ...</td>\n",
              "      <td>0</td>\n",
              "      <td>0</td>\n",
              "      <td>0</td>\n",
              "    </tr>\n",
              "    <tr>\n",
              "      <th>4</th>\n",
              "      <td>\"The president has said the national security ...</td>\n",
              "      <td>barely-true</td>\n",
              "      <td>['1. Has Obama cited climate change as the top...</td>\n",
              "      <td>0</td>\n",
              "      <td>\" 1. Did the president say that global warming...</td>\n",
              "      <td>\"The president said that global warming is the...</td>\n",
              "      <td>0;0;0;</td>\n",
              "      <td>0;0;0;</td>\n",
              "      <td>Not enough evidence;Not enough evidence;Not en...</td>\n",
              "      <td>0</td>\n",
              "      <td>;;;</td>\n",
              "      <td>0</td>\n",
              "      <td>0</td>\n",
              "      <td>0</td>\n",
              "    </tr>\n",
              "  </tbody>\n",
              "</table>\n",
              "</div>\n",
              "      <button class=\"colab-df-convert\" onclick=\"convertToInteractive('df-532e5618-9279-4f55-a064-7825cbff30fa')\"\n",
              "              title=\"Convert this dataframe to an interactive table.\"\n",
              "              style=\"display:none;\">\n",
              "        \n",
              "  <svg xmlns=\"http://www.w3.org/2000/svg\" height=\"24px\"viewBox=\"0 0 24 24\"\n",
              "       width=\"24px\">\n",
              "    <path d=\"M0 0h24v24H0V0z\" fill=\"none\"/>\n",
              "    <path d=\"M18.56 5.44l.94 2.06.94-2.06 2.06-.94-2.06-.94-.94-2.06-.94 2.06-2.06.94zm-11 1L8.5 8.5l.94-2.06 2.06-.94-2.06-.94L8.5 2.5l-.94 2.06-2.06.94zm10 10l.94 2.06.94-2.06 2.06-.94-2.06-.94-.94-2.06-.94 2.06-2.06.94z\"/><path d=\"M17.41 7.96l-1.37-1.37c-.4-.4-.92-.59-1.43-.59-.52 0-1.04.2-1.43.59L10.3 9.45l-7.72 7.72c-.78.78-.78 2.05 0 2.83L4 21.41c.39.39.9.59 1.41.59.51 0 1.02-.2 1.41-.59l7.78-7.78 2.81-2.81c.8-.78.8-2.07 0-2.86zM5.41 20L4 18.59l7.72-7.72 1.47 1.35L5.41 20z\"/>\n",
              "  </svg>\n",
              "      </button>\n",
              "      \n",
              "  <style>\n",
              "    .colab-df-container {\n",
              "      display:flex;\n",
              "      flex-wrap:wrap;\n",
              "      gap: 12px;\n",
              "    }\n",
              "\n",
              "    .colab-df-convert {\n",
              "      background-color: #E8F0FE;\n",
              "      border: none;\n",
              "      border-radius: 50%;\n",
              "      cursor: pointer;\n",
              "      display: none;\n",
              "      fill: #1967D2;\n",
              "      height: 32px;\n",
              "      padding: 0 0 0 0;\n",
              "      width: 32px;\n",
              "    }\n",
              "\n",
              "    .colab-df-convert:hover {\n",
              "      background-color: #E2EBFA;\n",
              "      box-shadow: 0px 1px 2px rgba(60, 64, 67, 0.3), 0px 1px 3px 1px rgba(60, 64, 67, 0.15);\n",
              "      fill: #174EA6;\n",
              "    }\n",
              "\n",
              "    [theme=dark] .colab-df-convert {\n",
              "      background-color: #3B4455;\n",
              "      fill: #D2E3FC;\n",
              "    }\n",
              "\n",
              "    [theme=dark] .colab-df-convert:hover {\n",
              "      background-color: #434B5C;\n",
              "      box-shadow: 0px 1px 3px 1px rgba(0, 0, 0, 0.15);\n",
              "      filter: drop-shadow(0px 1px 2px rgba(0, 0, 0, 0.3));\n",
              "      fill: #FFFFFF;\n",
              "    }\n",
              "  </style>\n",
              "\n",
              "      <script>\n",
              "        const buttonEl =\n",
              "          document.querySelector('#df-532e5618-9279-4f55-a064-7825cbff30fa button.colab-df-convert');\n",
              "        buttonEl.style.display =\n",
              "          google.colab.kernel.accessAllowed ? 'block' : 'none';\n",
              "\n",
              "        async function convertToInteractive(key) {\n",
              "          const element = document.querySelector('#df-532e5618-9279-4f55-a064-7825cbff30fa');\n",
              "          const dataTable =\n",
              "            await google.colab.kernel.invokeFunction('convertToInteractive',\n",
              "                                                     [key], {});\n",
              "          if (!dataTable) return;\n",
              "\n",
              "          const docLinkHtml = 'Like what you see? Visit the ' +\n",
              "            '<a target=\"_blank\" href=https://colab.research.google.com/notebooks/data_table.ipynb>data table notebook</a>'\n",
              "            + ' to learn more about interactive tables.';\n",
              "          element.innerHTML = '';\n",
              "          dataTable['output_type'] = 'display_data';\n",
              "          await google.colab.output.renderOutput(dataTable, element);\n",
              "          const docLink = document.createElement('div');\n",
              "          docLink.innerHTML = docLinkHtml;\n",
              "          element.appendChild(docLink);\n",
              "        }\n",
              "      </script>\n",
              "    </div>\n",
              "  </div>\n",
              "  "
            ]
          },
          "metadata": {},
          "execution_count": 21
        }
      ]
    },
    {
      "cell_type": "markdown",
      "source": [
        "This step relies on the following hosted Quin backend API: https://empty-meadow-488.fly.dev/api2\n"
      ],
      "metadata": {
        "id": "mNkwUy35kRzO"
      }
    },
    {
      "cell_type": "code",
      "source": [
        "import asyncio\n",
        "import aiohttp\n",
        "import nest_asyncio\n",
        "import json\n",
        "\n",
        "nest_asyncio.apply()\n",
        "\n",
        "# define the base URL and parameters\n",
        "quin_url = 'https://empty-meadow-488.fly.dev/api2'\n",
        "\n",
        "async def fetchResutls(url, claim, subq):\n",
        "  params = {'query': claim,\n",
        "            'subqueries': subq}\n",
        "  async with aiohttp.ClientSession() as session:\n",
        "        async with session.get(url, params=params) as response:\n",
        "            content = await response.text(encoding='unicode_escape')\n",
        "            return content\n",
        "\n",
        "async def evaluate(df):\n",
        "  for i in tqdm(range(len(df))):\n",
        "    hypothesis = df.loc[i, 'decomp-subclaims']\n",
        "    hypothesis = hypothesis.replace(\"\\\";\\\"\", \";\")\n",
        "    claim = df.loc[i, 'claim']\n",
        "    response = await fetchResutls(quin_url, claim, hypothesis)\n",
        "    response = json.loads(response)\n",
        "    respArr = response['data']\n",
        "    \n",
        "    totalSupporting = 0\n",
        "    totalRefuting = 0\n",
        "    numSupporting = []\n",
        "    numRefuting = []\n",
        "    numSubQLabel = []\n",
        "    allEvi = []\n",
        "    \n",
        "    if i in [111,163]:\n",
        "      continue\n",
        "\n",
        "    for j in range(len(respArr)):\n",
        "      if respArr[j]['type'] == \"statement\":\n",
        "        totalSupporting += respArr[j]['supporting']\n",
        "        totalRefuting += respArr[j]['refuting']\n",
        "        \n",
        "        numSupporting.append(respArr[j]['supporting'])\n",
        "        numRefuting.append(respArr[j]['refuting'])\n",
        "        numSubQLabel.append(respArr[j]['veracity_rating'])\n",
        "        \n",
        "        evidence = respArr[j]['results']\n",
        "        evidenceStore = \"\"\n",
        "        for k in range(len(evidence)):\n",
        "          evidenceStore += evidence[k]['snippet']\n",
        "        allEvi.append(evidenceStore)\n",
        "      else:\n",
        "        numSupporting.append(0)\n",
        "        numRefuting.append(0)\n",
        "        numSubQLabel.append(\"Unable to evaluate\")\n",
        "        evidence = respArr[j]['results']\n",
        "        evidenceStore = \"\"\n",
        "        for k in range(len(evidence)):\n",
        "          evidenceStore += evidence[k]['snippet']\n",
        "        allEvi.append(evidenceStore)\n",
        "    \n",
        "    numSupporting = list(map(str, numSupporting))\n",
        "    numRefuting = list(map(str, numRefuting))\n",
        "\n",
        "    tmp = \"\"\n",
        "    for val in numSupporting:\n",
        "      tmp += val + \";\"\n",
        "    numSupporting = tmp\n",
        "\n",
        "    tmp2 = \"\"\n",
        "    for val in numRefuting:\n",
        "      tmp2 += val + \";\"\n",
        "    numRefuting = tmp2\n",
        "\n",
        "    tmp3 = \"\"\n",
        "    for val in numSubQLabel:\n",
        "      tmp3 += val + \";\"\n",
        "    numSubQLabel = tmp3\n",
        "\n",
        "    tmp4 = \"\"\n",
        "    for val in allEvi:\n",
        "      tmp4 += val + \";\"\n",
        "    allEvi = tmp4\n",
        "\n",
        "    print(numSupporting)\n",
        "    print(totalSupporting)\n",
        "    print(numRefuting)\n",
        "    print(totalRefuting)\n",
        "\n",
        "    df.loc[i, 'decomp-total-support'] = totalSupporting\n",
        "    df.loc[i, 'decomp-total-refute'] = totalRefuting\n",
        "    df.loc[i, 'decomp-supporting'] = numSupporting\n",
        "    df.loc[i, 'decomp-refuting'] = numRefuting\n",
        "    df.loc[i, 'decomp-label'] = numSubQLabel\n",
        "    df.loc[i, 'decomp-evidence'] = allEvi\n",
        "\n",
        "# print the response content\n",
        "asyncio.run(evaluate(dfTest))"
      ],
      "metadata": {
        "colab": {
          "base_uri": "https://localhost:8080/"
        },
        "id": "qlS8hsPGAzl5",
        "outputId": "09b4236a-c595-4a32-ae52-dec9d3be1c6a"
      },
      "execution_count": null,
      "outputs": [
        {
          "output_type": "stream",
          "name": "stderr",
          "text": [
            "  0%|          | 1/200 [00:01<03:22,  1.02s/it]"
          ]
        },
        {
          "output_type": "stream",
          "name": "stdout",
          "text": [
            "0;2;0;\n",
            "2\n",
            "0;0;0;\n",
            "0\n"
          ]
        },
        {
          "output_type": "stream",
          "name": "stderr",
          "text": [
            "\r  1%|          | 2/200 [00:01<03:05,  1.07it/s]"
          ]
        },
        {
          "output_type": "stream",
          "name": "stdout",
          "text": [
            "0;3;0;3;\n",
            "6\n",
            "0;0;3;1;\n",
            "4\n"
          ]
        },
        {
          "output_type": "stream",
          "name": "stderr",
          "text": [
            "\r  2%|▏         | 3/200 [00:02<02:25,  1.35it/s]"
          ]
        },
        {
          "output_type": "stream",
          "name": "stdout",
          "text": [
            "0;2;2;2;\n",
            "6\n",
            "0;0;0;0;\n",
            "0\n"
          ]
        },
        {
          "output_type": "stream",
          "name": "stderr",
          "text": [
            "\r  2%|▏         | 4/200 [00:03<02:30,  1.31it/s]"
          ]
        },
        {
          "output_type": "stream",
          "name": "stdout",
          "text": [
            "3;3;0;\n",
            "6\n",
            "0;0;3;\n",
            "3\n"
          ]
        },
        {
          "output_type": "stream",
          "name": "stderr",
          "text": [
            "\r  2%|▎         | 5/200 [00:04<02:32,  1.28it/s]"
          ]
        },
        {
          "output_type": "stream",
          "name": "stdout",
          "text": [
            "0;0;0;\n",
            "0\n",
            "0;0;0;\n",
            "0\n"
          ]
        },
        {
          "output_type": "stream",
          "name": "stderr",
          "text": [
            "\r  3%|▎         | 6/200 [00:04<02:13,  1.46it/s]"
          ]
        },
        {
          "output_type": "stream",
          "name": "stdout",
          "text": [
            "4;\n",
            "4\n",
            "0;\n",
            "0\n"
          ]
        },
        {
          "output_type": "stream",
          "name": "stderr",
          "text": [
            "\r  4%|▎         | 7/200 [00:04<01:46,  1.81it/s]"
          ]
        },
        {
          "output_type": "stream",
          "name": "stdout",
          "text": [
            "0;0;\n",
            "0\n",
            "0;0;\n",
            "0\n"
          ]
        },
        {
          "output_type": "stream",
          "name": "stderr",
          "text": [
            "\r  4%|▍         | 8/200 [00:05<02:00,  1.59it/s]"
          ]
        },
        {
          "output_type": "stream",
          "name": "stdout",
          "text": [
            "0;0;0;\n",
            "0\n",
            "6;5;7;\n",
            "18\n"
          ]
        },
        {
          "output_type": "stream",
          "name": "stderr",
          "text": [
            "\r  4%|▍         | 9/200 [00:05<01:38,  1.95it/s]"
          ]
        },
        {
          "output_type": "stream",
          "name": "stdout",
          "text": [
            "0;0;0;\n",
            "0\n",
            "0;0;0;\n",
            "0\n"
          ]
        },
        {
          "output_type": "stream",
          "name": "stderr",
          "text": [
            "\r  5%|▌         | 10/200 [00:06<01:23,  2.29it/s]"
          ]
        },
        {
          "output_type": "stream",
          "name": "stdout",
          "text": [
            "0;0;0;\n",
            "0\n",
            "0;0;0;\n",
            "0\n"
          ]
        },
        {
          "output_type": "stream",
          "name": "stderr",
          "text": [
            "\r  6%|▌         | 11/200 [00:06<01:12,  2.60it/s]"
          ]
        },
        {
          "output_type": "stream",
          "name": "stdout",
          "text": [
            "0;0;0;\n",
            "0\n",
            "0;0;0;\n",
            "0\n"
          ]
        },
        {
          "output_type": "stream",
          "name": "stderr",
          "text": [
            "\r  6%|▌         | 12/200 [00:06<01:05,  2.85it/s]"
          ]
        },
        {
          "output_type": "stream",
          "name": "stdout",
          "text": [
            "2;2;2;\n",
            "6\n",
            "0;0;0;\n",
            "0\n"
          ]
        },
        {
          "output_type": "stream",
          "name": "stderr",
          "text": [
            "\r  6%|▋         | 13/200 [00:06<01:04,  2.88it/s]"
          ]
        },
        {
          "output_type": "stream",
          "name": "stdout",
          "text": [
            "1;1;1;\n",
            "3\n",
            "0;0;0;\n",
            "0\n"
          ]
        },
        {
          "output_type": "stream",
          "name": "stderr",
          "text": [
            "\r  7%|▋         | 14/200 [00:07<01:00,  3.08it/s]"
          ]
        },
        {
          "output_type": "stream",
          "name": "stdout",
          "text": [
            "0;1;1;\n",
            "2\n",
            "0;0;0;\n",
            "0\n"
          ]
        },
        {
          "output_type": "stream",
          "name": "stderr",
          "text": [
            "\r  8%|▊         | 15/200 [00:07<01:03,  2.94it/s]"
          ]
        },
        {
          "output_type": "stream",
          "name": "stdout",
          "text": [
            "9;10;\n",
            "19\n",
            "1;1;\n",
            "2\n"
          ]
        },
        {
          "output_type": "stream",
          "name": "stderr",
          "text": [
            "\r  8%|▊         | 16/200 [00:07<00:59,  3.08it/s]"
          ]
        },
        {
          "output_type": "stream",
          "name": "stdout",
          "text": [
            "2;0;2;\n",
            "4\n",
            "0;0;1;\n",
            "1\n"
          ]
        },
        {
          "output_type": "stream",
          "name": "stderr",
          "text": [
            "\r  8%|▊         | 17/200 [00:09<01:41,  1.81it/s]"
          ]
        },
        {
          "output_type": "stream",
          "name": "stdout",
          "text": [
            "2;0;2;\n",
            "4\n",
            "0;0;0;\n",
            "0\n"
          ]
        },
        {
          "output_type": "stream",
          "name": "stderr",
          "text": [
            "\r  9%|▉         | 18/200 [00:09<01:25,  2.12it/s]"
          ]
        },
        {
          "output_type": "stream",
          "name": "stdout",
          "text": [
            "1;1;\n",
            "2\n",
            "1;0;\n",
            "1\n"
          ]
        },
        {
          "output_type": "stream",
          "name": "stderr",
          "text": [
            "\r 10%|▉         | 19/200 [00:10<02:07,  1.42it/s]"
          ]
        },
        {
          "output_type": "stream",
          "name": "stdout",
          "text": [
            "2;4;0;\n",
            "6\n",
            "0;0;1;\n",
            "1\n"
          ]
        },
        {
          "output_type": "stream",
          "name": "stderr",
          "text": [
            "\r 10%|█         | 20/200 [00:10<01:42,  1.75it/s]"
          ]
        },
        {
          "output_type": "stream",
          "name": "stdout",
          "text": [
            "0;0;0;0;0;0;\n",
            "0\n",
            "0;0;0;0;0;0;\n",
            "0\n"
          ]
        },
        {
          "output_type": "stream",
          "name": "stderr",
          "text": [
            "\r 10%|█         | 21/200 [00:11<02:10,  1.37it/s]"
          ]
        },
        {
          "output_type": "stream",
          "name": "stdout",
          "text": [
            "3;3;3;3;\n",
            "12\n",
            "0;0;0;0;\n",
            "0\n"
          ]
        },
        {
          "output_type": "stream",
          "name": "stderr",
          "text": [
            "\r 11%|█         | 22/200 [00:12<01:46,  1.67it/s]"
          ]
        },
        {
          "output_type": "stream",
          "name": "stdout",
          "text": [
            "0;4;0;\n",
            "4\n",
            "0;0;4;\n",
            "4\n"
          ]
        },
        {
          "output_type": "stream",
          "name": "stderr",
          "text": [
            "\r 12%|█▏        | 23/200 [00:12<01:28,  1.99it/s]"
          ]
        },
        {
          "output_type": "stream",
          "name": "stdout",
          "text": [
            "1;1;1;1;\n",
            "4\n",
            "0;0;0;0;\n",
            "0\n"
          ]
        },
        {
          "output_type": "stream",
          "name": "stderr",
          "text": [
            "\r 12%|█▏        | 24/200 [00:13<01:52,  1.57it/s]"
          ]
        },
        {
          "output_type": "stream",
          "name": "stdout",
          "text": [
            "4;5;0;0;\n",
            "9\n",
            "2;2;2;2;\n",
            "8\n"
          ]
        },
        {
          "output_type": "stream",
          "name": "stderr",
          "text": [
            "\r 12%|█▎        | 25/200 [00:13<01:33,  1.87it/s]"
          ]
        },
        {
          "output_type": "stream",
          "name": "stdout",
          "text": [
            "1;2;1;1;\n",
            "5\n",
            "0;0;0;0;\n",
            "0\n"
          ]
        },
        {
          "output_type": "stream",
          "name": "stderr",
          "text": [
            "\r 13%|█▎        | 26/200 [00:14<01:20,  2.17it/s]"
          ]
        },
        {
          "output_type": "stream",
          "name": "stdout",
          "text": [
            "4;4;4;\n",
            "12\n",
            "0;0;0;\n",
            "0\n"
          ]
        },
        {
          "output_type": "stream",
          "name": "stderr",
          "text": [
            "\r 14%|█▎        | 27/200 [00:14<01:11,  2.42it/s]"
          ]
        },
        {
          "output_type": "stream",
          "name": "stdout",
          "text": [
            "0;0;1;\n",
            "1\n",
            "0;0;0;\n",
            "0\n"
          ]
        },
        {
          "output_type": "stream",
          "name": "stderr",
          "text": [
            "\r 14%|█▍        | 28/200 [00:14<01:07,  2.54it/s]"
          ]
        },
        {
          "output_type": "stream",
          "name": "stdout",
          "text": [
            "1;1;1;0;\n",
            "3\n",
            "0;1;0;0;\n",
            "1\n"
          ]
        },
        {
          "output_type": "stream",
          "name": "stderr",
          "text": [
            "\r 14%|█▍        | 29/200 [00:15<01:15,  2.25it/s]"
          ]
        },
        {
          "output_type": "stream",
          "name": "stdout",
          "text": [
            "6;2;0;\n",
            "8\n",
            "0;4;3;\n",
            "7\n"
          ]
        },
        {
          "output_type": "stream",
          "name": "stderr",
          "text": [
            "\r 15%|█▌        | 30/200 [00:16<01:52,  1.51it/s]"
          ]
        },
        {
          "output_type": "stream",
          "name": "stdout",
          "text": [
            "4;2;0;2;\n",
            "8\n",
            "0;0;5;0;\n",
            "5\n"
          ]
        },
        {
          "output_type": "stream",
          "name": "stderr",
          "text": [
            "\r 16%|█▌        | 31/200 [00:16<01:36,  1.75it/s]"
          ]
        },
        {
          "output_type": "stream",
          "name": "stdout",
          "text": [
            "10;1;0;\n",
            "11\n",
            "1;0;12;\n",
            "13\n"
          ]
        },
        {
          "output_type": "stream",
          "name": "stderr",
          "text": [
            "\r 16%|█▌        | 32/200 [00:17<01:20,  2.08it/s]"
          ]
        },
        {
          "output_type": "stream",
          "name": "stdout",
          "text": [
            "4;0;4;\n",
            "8\n",
            "0;0;0;\n",
            "0\n"
          ]
        },
        {
          "output_type": "stream",
          "name": "stderr",
          "text": [
            "\r 16%|█▋        | 33/200 [00:17<01:21,  2.05it/s]"
          ]
        },
        {
          "output_type": "stream",
          "name": "stdout",
          "text": [
            "1;1;1;\n",
            "3\n",
            "0;0;0;\n",
            "0\n"
          ]
        },
        {
          "output_type": "stream",
          "name": "stderr",
          "text": [
            "\r 17%|█▋        | 34/200 [00:17<01:10,  2.37it/s]"
          ]
        },
        {
          "output_type": "stream",
          "name": "stdout",
          "text": [
            "0;0;0;\n",
            "0\n",
            "0;0;0;\n",
            "0\n"
          ]
        },
        {
          "output_type": "stream",
          "name": "stderr",
          "text": [
            "\r 18%|█▊        | 35/200 [00:18<01:03,  2.59it/s]"
          ]
        },
        {
          "output_type": "stream",
          "name": "stdout",
          "text": [
            "2;1;0;\n",
            "3\n",
            "0;1;0;\n",
            "1\n"
          ]
        },
        {
          "output_type": "stream",
          "name": "stderr",
          "text": [
            "\r 18%|█▊        | 36/200 [00:18<01:24,  1.94it/s]"
          ]
        },
        {
          "output_type": "stream",
          "name": "stdout",
          "text": [
            "0;0;0;\n",
            "0\n",
            "1;2;1;\n",
            "4\n"
          ]
        },
        {
          "output_type": "stream",
          "name": "stderr",
          "text": [
            "\r 18%|█▊        | 37/200 [00:19<01:13,  2.23it/s]"
          ]
        },
        {
          "output_type": "stream",
          "name": "stdout",
          "text": [
            "1;2;0;\n",
            "3\n",
            "0;0;0;\n",
            "0\n"
          ]
        },
        {
          "output_type": "stream",
          "name": "stderr",
          "text": [
            "\r 19%|█▉        | 38/200 [00:19<01:19,  2.03it/s]"
          ]
        },
        {
          "output_type": "stream",
          "name": "stdout",
          "text": [
            "8;8;7;\n",
            "23\n",
            "1;0;2;\n",
            "3\n"
          ]
        },
        {
          "output_type": "stream",
          "name": "stderr",
          "text": [
            "\r 20%|█▉        | 39/200 [00:20<01:09,  2.33it/s]"
          ]
        },
        {
          "output_type": "stream",
          "name": "stdout",
          "text": [
            "4;4;3;\n",
            "11\n",
            "1;0;0;\n",
            "1\n"
          ]
        },
        {
          "output_type": "stream",
          "name": "stderr",
          "text": [
            "\r 20%|██        | 40/200 [00:20<01:01,  2.62it/s]"
          ]
        },
        {
          "output_type": "stream",
          "name": "stdout",
          "text": [
            "0;0;0;\n",
            "0\n",
            "0;0;0;\n",
            "0\n"
          ]
        },
        {
          "output_type": "stream",
          "name": "stderr",
          "text": [
            "\r 20%|██        | 41/200 [00:20<00:56,  2.81it/s]"
          ]
        },
        {
          "output_type": "stream",
          "name": "stdout",
          "text": [
            "2;1;\n",
            "3\n",
            "2;1;\n",
            "3\n"
          ]
        },
        {
          "output_type": "stream",
          "name": "stderr",
          "text": [
            "\r 21%|██        | 42/200 [00:20<00:51,  3.04it/s]"
          ]
        },
        {
          "output_type": "stream",
          "name": "stdout",
          "text": [
            "0;0;0;\n",
            "0\n",
            "0;0;0;\n",
            "0\n"
          ]
        },
        {
          "output_type": "stream",
          "name": "stderr",
          "text": [
            "\r 22%|██▏       | 43/200 [00:21<01:08,  2.28it/s]"
          ]
        },
        {
          "output_type": "stream",
          "name": "stdout",
          "text": [
            "1;5;2;\n",
            "8\n",
            "5;1;4;\n",
            "10\n"
          ]
        },
        {
          "output_type": "stream",
          "name": "stderr",
          "text": [
            "\r 22%|██▏       | 44/200 [00:21<01:00,  2.56it/s]"
          ]
        },
        {
          "output_type": "stream",
          "name": "stdout",
          "text": [
            "1;1;0;\n",
            "2\n",
            "0;0;0;\n",
            "0\n"
          ]
        },
        {
          "output_type": "stream",
          "name": "stderr",
          "text": [
            "\r 22%|██▎       | 45/200 [00:22<00:56,  2.74it/s]"
          ]
        },
        {
          "output_type": "stream",
          "name": "stdout",
          "text": [
            "3;3;1;\n",
            "7\n",
            "3;0;3;\n",
            "6\n"
          ]
        },
        {
          "output_type": "stream",
          "name": "stderr",
          "text": [
            "\r 23%|██▎       | 46/200 [00:22<00:53,  2.88it/s]"
          ]
        },
        {
          "output_type": "stream",
          "name": "stdout",
          "text": [
            "3;1;4;\n",
            "8\n",
            "0;0;0;\n",
            "0\n"
          ]
        },
        {
          "output_type": "stream",
          "name": "stderr",
          "text": [
            "\r 24%|██▎       | 47/200 [00:22<00:49,  3.09it/s]"
          ]
        },
        {
          "output_type": "stream",
          "name": "stdout",
          "text": [
            "0;0;0;\n",
            "0\n",
            "0;0;0;\n",
            "0\n"
          ]
        },
        {
          "output_type": "stream",
          "name": "stderr",
          "text": [
            "\r 24%|██▍       | 48/200 [00:23<01:01,  2.49it/s]"
          ]
        },
        {
          "output_type": "stream",
          "name": "stdout",
          "text": [
            "5;3;1;\n",
            "9\n",
            "3;1;1;\n",
            "5\n"
          ]
        },
        {
          "output_type": "stream",
          "name": "stderr",
          "text": [
            "\r 24%|██▍       | 49/200 [00:23<00:54,  2.77it/s]"
          ]
        },
        {
          "output_type": "stream",
          "name": "stdout",
          "text": [
            "0;0;0;0;\n",
            "0\n",
            "0;0;0;0;\n",
            "0\n"
          ]
        },
        {
          "output_type": "stream",
          "name": "stderr",
          "text": [
            "\r 25%|██▌       | 50/200 [00:24<01:00,  2.47it/s]"
          ]
        },
        {
          "output_type": "stream",
          "name": "stdout",
          "text": [
            "3;4;3;\n",
            "10\n",
            "2;0;1;\n",
            "3\n"
          ]
        },
        {
          "output_type": "stream",
          "name": "stderr",
          "text": [
            "\r 26%|██▌       | 51/200 [00:24<00:54,  2.72it/s]"
          ]
        },
        {
          "output_type": "stream",
          "name": "stdout",
          "text": [
            "2;0;0;0;\n",
            "2\n",
            "0;2;2;0;\n",
            "4\n"
          ]
        },
        {
          "output_type": "stream",
          "name": "stderr",
          "text": [
            "\r 26%|██▌       | 52/200 [00:24<01:00,  2.43it/s]"
          ]
        },
        {
          "output_type": "stream",
          "name": "stdout",
          "text": [
            "3;3;1;\n",
            "7\n",
            "0;0;0;\n",
            "0\n"
          ]
        },
        {
          "output_type": "stream",
          "name": "stderr",
          "text": [
            "\r 26%|██▋       | 53/200 [00:25<00:54,  2.71it/s]"
          ]
        },
        {
          "output_type": "stream",
          "name": "stdout",
          "text": [
            "0;0;0;\n",
            "0\n",
            "0;0;0;\n",
            "0\n"
          ]
        },
        {
          "output_type": "stream",
          "name": "stderr",
          "text": [
            "\r 27%|██▋       | 54/200 [00:25<01:03,  2.30it/s]"
          ]
        },
        {
          "output_type": "stream",
          "name": "stdout",
          "text": [
            "7;2;0;\n",
            "9\n",
            "4;9;0;\n",
            "13\n"
          ]
        },
        {
          "output_type": "stream",
          "name": "stderr",
          "text": [
            "\r 28%|██▊       | 55/200 [00:26<01:12,  2.00it/s]"
          ]
        },
        {
          "output_type": "stream",
          "name": "stdout",
          "text": [
            "2;0;0;0;\n",
            "2\n",
            "2;0;0;0;\n",
            "2\n"
          ]
        },
        {
          "output_type": "stream",
          "name": "stderr",
          "text": [
            "\r 28%|██▊       | 56/200 [00:26<01:02,  2.31it/s]"
          ]
        },
        {
          "output_type": "stream",
          "name": "stdout",
          "text": [
            "0;0;0;1;\n",
            "1\n",
            "0;0;0;0;\n",
            "0\n"
          ]
        },
        {
          "output_type": "stream",
          "name": "stderr",
          "text": [
            "\r 28%|██▊       | 57/200 [00:27<01:06,  2.16it/s]"
          ]
        },
        {
          "output_type": "stream",
          "name": "stdout",
          "text": [
            "8;8;7;\n",
            "23\n",
            "0;0;1;\n",
            "1\n"
          ]
        },
        {
          "output_type": "stream",
          "name": "stderr",
          "text": [
            "\r 29%|██▉       | 58/200 [00:27<00:57,  2.47it/s]"
          ]
        },
        {
          "output_type": "stream",
          "name": "stdout",
          "text": [
            "0;1;1;0;1;\n",
            "3\n",
            "1;0;0;1;0;\n",
            "2\n"
          ]
        },
        {
          "output_type": "stream",
          "name": "stderr",
          "text": [
            "\r 30%|██▉       | 59/200 [00:27<00:51,  2.73it/s]"
          ]
        },
        {
          "output_type": "stream",
          "name": "stdout",
          "text": [
            "3;0;3;3;\n",
            "9\n",
            "0;0;0;0;\n",
            "0\n"
          ]
        },
        {
          "output_type": "stream",
          "name": "stderr",
          "text": [
            "\r 30%|███       | 60/200 [00:28<00:47,  2.96it/s]"
          ]
        },
        {
          "output_type": "stream",
          "name": "stdout",
          "text": [
            "0;0;0;2;\n",
            "2\n",
            "0;2;0;1;\n",
            "3\n"
          ]
        },
        {
          "output_type": "stream",
          "name": "stderr",
          "text": [
            "\r 30%|███       | 61/200 [00:28<00:44,  3.10it/s]"
          ]
        },
        {
          "output_type": "stream",
          "name": "stdout",
          "text": [
            "2;1;1;0;\n",
            "4\n",
            "0;0;0;0;\n",
            "0\n"
          ]
        },
        {
          "output_type": "stream",
          "name": "stderr",
          "text": [
            "\r 31%|███       | 62/200 [00:28<00:42,  3.21it/s]"
          ]
        },
        {
          "output_type": "stream",
          "name": "stdout",
          "text": [
            "7;7;7;\n",
            "21\n",
            "1;0;1;\n",
            "2\n"
          ]
        },
        {
          "output_type": "stream",
          "name": "stderr",
          "text": [
            "\r 32%|███▏      | 63/200 [00:28<00:40,  3.34it/s]"
          ]
        },
        {
          "output_type": "stream",
          "name": "stdout",
          "text": [
            "0;2;2;\n",
            "4\n",
            "2;0;0;\n",
            "2\n"
          ]
        },
        {
          "output_type": "stream",
          "name": "stderr",
          "text": [
            "\r 32%|███▏      | 64/200 [00:29<00:43,  3.14it/s]"
          ]
        },
        {
          "output_type": "stream",
          "name": "stdout",
          "text": [
            "0;0;0;\n",
            "0\n",
            "1;1;0;\n",
            "2\n"
          ]
        },
        {
          "output_type": "stream",
          "name": "stderr",
          "text": [
            "\r 32%|███▎      | 65/200 [00:29<00:41,  3.27it/s]"
          ]
        },
        {
          "output_type": "stream",
          "name": "stdout",
          "text": [
            "3;3;3;\n",
            "9\n",
            "0;0;0;\n",
            "0\n"
          ]
        },
        {
          "output_type": "stream",
          "name": "stderr",
          "text": [
            "\r 33%|███▎      | 66/200 [00:30<00:54,  2.46it/s]"
          ]
        },
        {
          "output_type": "stream",
          "name": "stdout",
          "text": [
            "1;0;0;\n",
            "1\n",
            "0;9;2;\n",
            "11\n"
          ]
        },
        {
          "output_type": "stream",
          "name": "stderr",
          "text": [
            "\r 34%|███▎      | 67/200 [00:30<00:49,  2.70it/s]"
          ]
        },
        {
          "output_type": "stream",
          "name": "stdout",
          "text": [
            "3;0;2;\n",
            "5\n",
            "0;0;0;\n",
            "0\n"
          ]
        },
        {
          "output_type": "stream",
          "name": "stderr",
          "text": [
            "\r 34%|███▍      | 68/200 [00:30<00:44,  2.95it/s]"
          ]
        },
        {
          "output_type": "stream",
          "name": "stdout",
          "text": [
            "3;3;\n",
            "6\n",
            "0;0;\n",
            "0\n"
          ]
        },
        {
          "output_type": "stream",
          "name": "stderr",
          "text": [
            "\r 34%|███▍      | 69/200 [00:31<00:41,  3.15it/s]"
          ]
        },
        {
          "output_type": "stream",
          "name": "stdout",
          "text": [
            "0;0;0;\n",
            "0\n",
            "0;0;0;\n",
            "0\n"
          ]
        },
        {
          "output_type": "stream",
          "name": "stderr",
          "text": [
            "\r 35%|███▌      | 70/200 [00:32<01:23,  1.57it/s]"
          ]
        },
        {
          "output_type": "stream",
          "name": "stdout",
          "text": [
            "1;1;0;0;\n",
            "2\n",
            "0;1;0;3;\n",
            "4\n"
          ]
        },
        {
          "output_type": "stream",
          "name": "stderr",
          "text": [
            "\r 36%|███▌      | 71/200 [00:32<01:20,  1.60it/s]"
          ]
        },
        {
          "output_type": "stream",
          "name": "stdout",
          "text": [
            "9;0;9;\n",
            "18\n",
            "0;1;1;\n",
            "2\n"
          ]
        },
        {
          "output_type": "stream",
          "name": "stderr",
          "text": [
            "\r 36%|███▌      | 72/200 [00:33<01:15,  1.69it/s]"
          ]
        },
        {
          "output_type": "stream",
          "name": "stdout",
          "text": [
            "0;0;0;\n",
            "0\n",
            "0;2;0;\n",
            "2\n"
          ]
        },
        {
          "output_type": "stream",
          "name": "stderr",
          "text": [
            "\r 36%|███▋      | 73/200 [00:34<01:24,  1.51it/s]"
          ]
        },
        {
          "output_type": "stream",
          "name": "stdout",
          "text": [
            "5;1;2;\n",
            "8\n",
            "0;0;0;\n",
            "0\n"
          ]
        },
        {
          "output_type": "stream",
          "name": "stderr",
          "text": [
            "\r 37%|███▋      | 74/200 [00:35<01:40,  1.26it/s]"
          ]
        },
        {
          "output_type": "stream",
          "name": "stdout",
          "text": [
            "8;6;4;\n",
            "18\n",
            "1;0;5;\n",
            "6\n"
          ]
        },
        {
          "output_type": "stream",
          "name": "stderr",
          "text": [
            "\r 38%|███▊      | 75/200 [00:35<01:20,  1.54it/s]"
          ]
        },
        {
          "output_type": "stream",
          "name": "stdout",
          "text": [
            "1;0;0;0;\n",
            "1\n",
            "0;0;0;0;\n",
            "0\n"
          ]
        },
        {
          "output_type": "stream",
          "name": "stderr",
          "text": [
            "\r 38%|███▊      | 76/200 [00:36<01:39,  1.25it/s]"
          ]
        },
        {
          "output_type": "stream",
          "name": "stdout",
          "text": [
            "2;0;0;\n",
            "2\n",
            "1;0;0;\n",
            "1\n"
          ]
        },
        {
          "output_type": "stream",
          "name": "stderr",
          "text": [
            "\r 38%|███▊      | 77/200 [00:37<01:23,  1.48it/s]"
          ]
        },
        {
          "output_type": "stream",
          "name": "stdout",
          "text": [
            "4;6;0;4;\n",
            "14\n",
            "2;0;2;0;\n",
            "4\n"
          ]
        },
        {
          "output_type": "stream",
          "name": "stderr",
          "text": [
            "\r 39%|███▉      | 78/200 [00:37<01:08,  1.78it/s]"
          ]
        },
        {
          "output_type": "stream",
          "name": "stdout",
          "text": [
            "2;1;1;1;1;\n",
            "6\n",
            "0;0;1;1;0;\n",
            "2\n"
          ]
        },
        {
          "output_type": "stream",
          "name": "stderr",
          "text": [
            "\r 40%|███▉      | 79/200 [00:38<01:03,  1.89it/s]"
          ]
        },
        {
          "output_type": "stream",
          "name": "stdout",
          "text": [
            "0;0;0;0;\n",
            "0\n",
            "0;0;0;0;\n",
            "0\n"
          ]
        },
        {
          "output_type": "stream",
          "name": "stderr",
          "text": [
            "\r 40%|████      | 80/200 [00:38<00:54,  2.22it/s]"
          ]
        },
        {
          "output_type": "stream",
          "name": "stdout",
          "text": [
            "0;0;\n",
            "0\n",
            "1;0;\n",
            "1\n"
          ]
        },
        {
          "output_type": "stream",
          "name": "stderr",
          "text": [
            "\r 40%|████      | 81/200 [00:38<00:47,  2.52it/s]"
          ]
        },
        {
          "output_type": "stream",
          "name": "stdout",
          "text": [
            "2;1;0;0;\n",
            "3\n",
            "0;0;1;2;\n",
            "3\n"
          ]
        },
        {
          "output_type": "stream",
          "name": "stderr",
          "text": [
            "\r 41%|████      | 82/200 [00:38<00:44,  2.68it/s]"
          ]
        },
        {
          "output_type": "stream",
          "name": "stdout",
          "text": [
            "1;3;1;\n",
            "5\n",
            "4;0;2;\n",
            "6\n"
          ]
        },
        {
          "output_type": "stream",
          "name": "stderr",
          "text": [
            "\r 42%|████▏     | 83/200 [00:39<00:40,  2.92it/s]"
          ]
        },
        {
          "output_type": "stream",
          "name": "stdout",
          "text": [
            "1;1;1;1;\n",
            "4\n",
            "0;0;0;0;\n",
            "0\n"
          ]
        },
        {
          "output_type": "stream",
          "name": "stderr",
          "text": [
            "\r 42%|████▏     | 84/200 [00:39<00:37,  3.12it/s]"
          ]
        },
        {
          "output_type": "stream",
          "name": "stdout",
          "text": [
            "0;0;0;0;\n",
            "0\n",
            "0;0;0;0;\n",
            "0\n"
          ]
        },
        {
          "output_type": "stream",
          "name": "stderr",
          "text": [
            "\r 42%|████▎     | 85/200 [00:39<00:35,  3.27it/s]"
          ]
        },
        {
          "output_type": "stream",
          "name": "stdout",
          "text": [
            "0;0;0;\n",
            "0\n",
            "0;0;0;\n",
            "0\n"
          ]
        },
        {
          "output_type": "stream",
          "name": "stderr",
          "text": [
            "\r 43%|████▎     | 86/200 [00:39<00:33,  3.39it/s]"
          ]
        },
        {
          "output_type": "stream",
          "name": "stdout",
          "text": [
            "0;1;0;\n",
            "1\n",
            "2;1;0;\n",
            "3\n"
          ]
        },
        {
          "output_type": "stream",
          "name": "stderr",
          "text": [
            "\r 44%|████▎     | 87/200 [00:40<00:32,  3.45it/s]"
          ]
        },
        {
          "output_type": "stream",
          "name": "stdout",
          "text": [
            "1;0;2;\n",
            "3\n",
            "0;0;1;\n",
            "1\n"
          ]
        },
        {
          "output_type": "stream",
          "name": "stderr",
          "text": [
            "\r 44%|████▍     | 88/200 [00:40<00:31,  3.50it/s]"
          ]
        },
        {
          "output_type": "stream",
          "name": "stdout",
          "text": [
            "6;6;6;6;\n",
            "24\n",
            "0;0;0;0;\n",
            "0\n"
          ]
        },
        {
          "output_type": "stream",
          "name": "stderr",
          "text": [
            "\r 44%|████▍     | 89/200 [00:40<00:31,  3.48it/s]"
          ]
        },
        {
          "output_type": "stream",
          "name": "stdout",
          "text": [
            "4;0;6;\n",
            "10\n",
            "0;0;0;\n",
            "0\n"
          ]
        },
        {
          "output_type": "stream",
          "name": "stderr",
          "text": [
            "\r 45%|████▌     | 90/200 [00:41<00:30,  3.55it/s]"
          ]
        },
        {
          "output_type": "stream",
          "name": "stdout",
          "text": [
            "0;0;0;0;\n",
            "0\n",
            "0;0;0;0;\n",
            "0\n"
          ]
        },
        {
          "output_type": "stream",
          "name": "stderr",
          "text": [
            "\r 46%|████▌     | 91/200 [00:41<00:30,  3.62it/s]"
          ]
        },
        {
          "output_type": "stream",
          "name": "stdout",
          "text": [
            "0;0;0;\n",
            "0\n",
            "0;0;0;\n",
            "0\n"
          ]
        },
        {
          "output_type": "stream",
          "name": "stderr",
          "text": [
            "\r 46%|████▌     | 92/200 [00:41<00:29,  3.66it/s]"
          ]
        },
        {
          "output_type": "stream",
          "name": "stdout",
          "text": [
            "0;0;0;\n",
            "0\n",
            "0;0;0;\n",
            "0\n"
          ]
        },
        {
          "output_type": "stream",
          "name": "stderr",
          "text": [
            "\r 46%|████▋     | 93/200 [00:41<00:31,  3.39it/s]"
          ]
        },
        {
          "output_type": "stream",
          "name": "stdout",
          "text": [
            "0;0;0;\n",
            "0\n",
            "4;4;4;\n",
            "12\n"
          ]
        },
        {
          "output_type": "stream",
          "name": "stderr",
          "text": [
            "\r 47%|████▋     | 94/200 [00:42<00:31,  3.41it/s]"
          ]
        },
        {
          "output_type": "stream",
          "name": "stdout",
          "text": [
            "6;5;5;5;\n",
            "21\n",
            "0;0;2;0;\n",
            "2\n"
          ]
        },
        {
          "output_type": "stream",
          "name": "stderr",
          "text": [
            "\r 48%|████▊     | 95/200 [00:42<00:31,  3.38it/s]"
          ]
        },
        {
          "output_type": "stream",
          "name": "stdout",
          "text": [
            "1;0;0;\n",
            "1\n",
            "0;0;4;\n",
            "4\n"
          ]
        },
        {
          "output_type": "stream",
          "name": "stderr",
          "text": [
            "\r 48%|████▊     | 96/200 [00:42<00:30,  3.46it/s]"
          ]
        },
        {
          "output_type": "stream",
          "name": "stdout",
          "text": [
            "1;1;1;0;\n",
            "3\n",
            "0;0;0;1;\n",
            "1\n"
          ]
        },
        {
          "output_type": "stream",
          "name": "stderr",
          "text": [
            "\r 48%|████▊     | 97/200 [00:43<00:29,  3.48it/s]"
          ]
        },
        {
          "output_type": "stream",
          "name": "stdout",
          "text": [
            "0;0;3;\n",
            "3\n",
            "0;0;0;\n",
            "0\n"
          ]
        },
        {
          "output_type": "stream",
          "name": "stderr",
          "text": [
            "\r 49%|████▉     | 98/200 [00:43<00:29,  3.44it/s]"
          ]
        },
        {
          "output_type": "stream",
          "name": "stdout",
          "text": [
            "1;1;1;\n",
            "3\n",
            "1;1;2;\n",
            "4\n"
          ]
        },
        {
          "output_type": "stream",
          "name": "stderr",
          "text": [
            "\r 50%|████▉     | 99/200 [00:43<00:28,  3.53it/s]"
          ]
        },
        {
          "output_type": "stream",
          "name": "stdout",
          "text": [
            "0;0;0;0;\n",
            "0\n",
            "0;0;0;0;\n",
            "0\n"
          ]
        },
        {
          "output_type": "stream",
          "name": "stderr",
          "text": [
            "\r 50%|█████     | 100/200 [00:44<00:39,  2.55it/s]"
          ]
        },
        {
          "output_type": "stream",
          "name": "stdout",
          "text": [
            "0;0;0;2;\n",
            "2\n",
            "0;0;0;0;\n",
            "0\n"
          ]
        },
        {
          "output_type": "stream",
          "name": "stderr",
          "text": [
            "\r 50%|█████     | 101/200 [00:44<00:35,  2.82it/s]"
          ]
        },
        {
          "output_type": "stream",
          "name": "stdout",
          "text": [
            "0;0;0;\n",
            "0\n",
            "0;0;0;\n",
            "0\n"
          ]
        },
        {
          "output_type": "stream",
          "name": "stderr",
          "text": [
            "\r 51%|█████     | 102/200 [00:44<00:32,  3.05it/s]"
          ]
        },
        {
          "output_type": "stream",
          "name": "stdout",
          "text": [
            "0;0;\n",
            "0\n",
            "0;0;\n",
            "0\n"
          ]
        },
        {
          "output_type": "stream",
          "name": "stderr",
          "text": [
            "\r 52%|█████▏    | 103/200 [00:45<00:33,  2.91it/s]"
          ]
        },
        {
          "output_type": "stream",
          "name": "stdout",
          "text": [
            "3;4;0;\n",
            "7\n",
            "0;0;2;\n",
            "2\n"
          ]
        },
        {
          "output_type": "stream",
          "name": "stderr",
          "text": [
            "\r 52%|█████▏    | 104/200 [00:45<00:31,  3.01it/s]"
          ]
        },
        {
          "output_type": "stream",
          "name": "stdout",
          "text": [
            "1;1;\n",
            "2\n",
            "0;0;\n",
            "0\n"
          ]
        },
        {
          "output_type": "stream",
          "name": "stderr",
          "text": [
            "\r 52%|█████▎    | 105/200 [00:46<00:49,  1.93it/s]"
          ]
        },
        {
          "output_type": "stream",
          "name": "stdout",
          "text": [
            "1;1;2;1;\n",
            "5\n",
            "0;0;0;1;\n",
            "1\n"
          ]
        },
        {
          "output_type": "stream",
          "name": "stderr",
          "text": [
            "\r 53%|█████▎    | 106/200 [00:46<00:45,  2.06it/s]"
          ]
        },
        {
          "output_type": "stream",
          "name": "stdout",
          "text": [
            "0;1;1;\n",
            "2\n",
            "0;0;0;\n",
            "0\n"
          ]
        },
        {
          "output_type": "stream",
          "name": "stderr",
          "text": [
            "\r 54%|█████▎    | 107/200 [00:47<00:39,  2.36it/s]"
          ]
        },
        {
          "output_type": "stream",
          "name": "stdout",
          "text": [
            "0;0;0;0;\n",
            "0\n",
            "0;2;0;2;\n",
            "4\n"
          ]
        },
        {
          "output_type": "stream",
          "name": "stderr",
          "text": [
            "\r 54%|█████▍    | 108/200 [00:47<00:34,  2.65it/s]"
          ]
        },
        {
          "output_type": "stream",
          "name": "stdout",
          "text": [
            "0;0;\n",
            "0\n",
            "0;0;\n",
            "0\n"
          ]
        },
        {
          "output_type": "stream",
          "name": "stderr",
          "text": [
            "\r 55%|█████▍    | 109/200 [00:48<00:50,  1.78it/s]"
          ]
        },
        {
          "output_type": "stream",
          "name": "stdout",
          "text": [
            "0;1;0;\n",
            "1\n",
            "2;0;3;\n",
            "5\n"
          ]
        },
        {
          "output_type": "stream",
          "name": "stderr",
          "text": [
            "\r 55%|█████▌    | 110/200 [00:48<00:44,  2.04it/s]"
          ]
        },
        {
          "output_type": "stream",
          "name": "stdout",
          "text": [
            "3;4;1;\n",
            "8\n",
            "0;2;2;\n",
            "4\n"
          ]
        },
        {
          "output_type": "stream",
          "name": "stderr",
          "text": [
            "\r 56%|█████▌    | 111/200 [00:49<00:53,  1.66it/s]"
          ]
        },
        {
          "output_type": "stream",
          "name": "stdout",
          "text": [
            "3;2;0;\n",
            "5\n",
            "2;3;0;\n",
            "5\n"
          ]
        },
        {
          "output_type": "stream",
          "name": "stderr",
          "text": [
            " 56%|█████▋    | 113/200 [00:50<00:37,  2.32it/s]"
          ]
        },
        {
          "output_type": "stream",
          "name": "stdout",
          "text": [
            "0;0;1;\n",
            "1\n",
            "0;1;0;\n",
            "1\n"
          ]
        },
        {
          "output_type": "stream",
          "name": "stderr",
          "text": [
            "\r 57%|█████▋    | 114/200 [00:50<00:34,  2.50it/s]"
          ]
        },
        {
          "output_type": "stream",
          "name": "stdout",
          "text": [
            "6;1;1;\n",
            "8\n",
            "0;5;0;\n",
            "5\n"
          ]
        },
        {
          "output_type": "stream",
          "name": "stderr",
          "text": [
            "\r 57%|█████▊    | 115/200 [00:50<00:30,  2.77it/s]"
          ]
        },
        {
          "output_type": "stream",
          "name": "stdout",
          "text": [
            "0;0;0;\n",
            "0\n",
            "0;0;0;\n",
            "0\n"
          ]
        },
        {
          "output_type": "stream",
          "name": "stderr",
          "text": [
            "\r 58%|█████▊    | 116/200 [00:51<00:34,  2.46it/s]"
          ]
        },
        {
          "output_type": "stream",
          "name": "stdout",
          "text": [
            "0;1;\n",
            "1\n",
            "1;0;\n",
            "1\n"
          ]
        },
        {
          "output_type": "stream",
          "name": "stderr",
          "text": [
            "\r 58%|█████▊    | 117/200 [00:52<00:52,  1.57it/s]"
          ]
        },
        {
          "output_type": "stream",
          "name": "stdout",
          "text": [
            "0;0;0;\n",
            "0\n",
            "2;0;2;\n",
            "4\n"
          ]
        },
        {
          "output_type": "stream",
          "name": "stderr",
          "text": [
            "\r 59%|█████▉    | 118/200 [00:52<00:49,  1.66it/s]"
          ]
        },
        {
          "output_type": "stream",
          "name": "stdout",
          "text": [
            "2;2;8;\n",
            "12\n",
            "5;1;0;\n",
            "6\n"
          ]
        },
        {
          "output_type": "stream",
          "name": "stderr",
          "text": [
            "\r 60%|█████▉    | 119/200 [00:53<00:42,  1.92it/s]"
          ]
        },
        {
          "output_type": "stream",
          "name": "stdout",
          "text": [
            "0;2;2;2;0;\n",
            "6\n",
            "0;0;0;0;0;\n",
            "0\n"
          ]
        },
        {
          "output_type": "stream",
          "name": "stderr",
          "text": [
            "\r 60%|██████    | 120/200 [00:53<00:35,  2.25it/s]"
          ]
        },
        {
          "output_type": "stream",
          "name": "stdout",
          "text": [
            "0;0;0;\n",
            "0\n",
            "0;0;0;\n",
            "0\n"
          ]
        },
        {
          "output_type": "stream",
          "name": "stderr",
          "text": [
            "\r 60%|██████    | 121/200 [00:53<00:31,  2.49it/s]"
          ]
        },
        {
          "output_type": "stream",
          "name": "stdout",
          "text": [
            "2;2;2;\n",
            "6\n",
            "0;0;0;\n",
            "0\n"
          ]
        },
        {
          "output_type": "stream",
          "name": "stderr",
          "text": [
            "\r 61%|██████    | 122/200 [00:54<00:28,  2.77it/s]"
          ]
        },
        {
          "output_type": "stream",
          "name": "stdout",
          "text": [
            "1;1;1;\n",
            "3\n",
            "0;0;0;\n",
            "0\n"
          ]
        },
        {
          "output_type": "stream",
          "name": "stderr",
          "text": [
            "\r 62%|██████▏   | 123/200 [00:54<00:26,  2.92it/s]"
          ]
        },
        {
          "output_type": "stream",
          "name": "stdout",
          "text": [
            "5;4;4;\n",
            "13\n",
            "0;0;0;\n",
            "0\n"
          ]
        },
        {
          "output_type": "stream",
          "name": "stderr",
          "text": [
            "\r 62%|██████▏   | 124/200 [00:54<00:27,  2.78it/s]"
          ]
        },
        {
          "output_type": "stream",
          "name": "stdout",
          "text": [
            "0;0;0;\n",
            "0\n",
            "0;0;3;\n",
            "3\n"
          ]
        },
        {
          "output_type": "stream",
          "name": "stderr",
          "text": [
            "\r 62%|██████▎   | 125/200 [00:55<00:24,  3.02it/s]"
          ]
        },
        {
          "output_type": "stream",
          "name": "stdout",
          "text": [
            "0;0;0;\n",
            "0\n",
            "0;0;0;\n",
            "0\n"
          ]
        },
        {
          "output_type": "stream",
          "name": "stderr",
          "text": [
            "\r 63%|██████▎   | 126/200 [00:55<00:23,  3.18it/s]"
          ]
        },
        {
          "output_type": "stream",
          "name": "stdout",
          "text": [
            "6;6;5;5;\n",
            "22\n",
            "0;0;0;0;\n",
            "0\n"
          ]
        },
        {
          "output_type": "stream",
          "name": "stderr",
          "text": [
            "\r 64%|██████▎   | 127/200 [00:56<00:37,  1.97it/s]"
          ]
        },
        {
          "output_type": "stream",
          "name": "stdout",
          "text": [
            "4;7;3;\n",
            "14\n",
            "3;0;2;\n",
            "5\n"
          ]
        },
        {
          "output_type": "stream",
          "name": "stderr",
          "text": [
            "\r 64%|██████▍   | 128/200 [00:56<00:31,  2.30it/s]"
          ]
        },
        {
          "output_type": "stream",
          "name": "stdout",
          "text": [
            "0;0;1;\n",
            "1\n",
            "1;1;0;\n",
            "2\n"
          ]
        },
        {
          "output_type": "stream",
          "name": "stderr",
          "text": [
            "\r 64%|██████▍   | 129/200 [00:56<00:27,  2.60it/s]"
          ]
        },
        {
          "output_type": "stream",
          "name": "stdout",
          "text": [
            "1;0;0;1;\n",
            "2\n",
            "0;1;0;0;\n",
            "1\n"
          ]
        },
        {
          "output_type": "stream",
          "name": "stderr",
          "text": [
            "\r 65%|██████▌   | 130/200 [00:57<00:24,  2.87it/s]"
          ]
        },
        {
          "output_type": "stream",
          "name": "stdout",
          "text": [
            "0;0;0;\n",
            "0\n",
            "0;0;0;\n",
            "0\n"
          ]
        },
        {
          "output_type": "stream",
          "name": "stderr",
          "text": [
            "\r 66%|██████▌   | 131/200 [00:57<00:22,  3.07it/s]"
          ]
        },
        {
          "output_type": "stream",
          "name": "stdout",
          "text": [
            "0;2;0;\n",
            "2\n",
            "0;0;0;\n",
            "0\n"
          ]
        },
        {
          "output_type": "stream",
          "name": "stderr",
          "text": [
            "\r 66%|██████▌   | 132/200 [00:57<00:20,  3.25it/s]"
          ]
        },
        {
          "output_type": "stream",
          "name": "stdout",
          "text": [
            "0;0;0;\n",
            "0\n",
            "0;0;0;\n",
            "0\n"
          ]
        },
        {
          "output_type": "stream",
          "name": "stderr",
          "text": [
            "\r 66%|██████▋   | 133/200 [00:57<00:19,  3.37it/s]"
          ]
        },
        {
          "output_type": "stream",
          "name": "stdout",
          "text": [
            "0;0;0;\n",
            "0\n",
            "0;0;0;\n",
            "0\n"
          ]
        },
        {
          "output_type": "stream",
          "name": "stderr",
          "text": [
            "\r 67%|██████▋   | 134/200 [00:58<00:24,  2.71it/s]"
          ]
        },
        {
          "output_type": "stream",
          "name": "stdout",
          "text": [
            "0;0;0;\n",
            "0\n",
            "0;0;0;\n",
            "0\n"
          ]
        },
        {
          "output_type": "stream",
          "name": "stderr",
          "text": [
            "\r 68%|██████▊   | 135/200 [00:59<00:39,  1.65it/s]"
          ]
        },
        {
          "output_type": "stream",
          "name": "stdout",
          "text": [
            "6;4;7;4;\n",
            "21\n",
            "1;1;0;1;\n",
            "3\n"
          ]
        },
        {
          "output_type": "stream",
          "name": "stderr",
          "text": [
            "\r 68%|██████▊   | 136/200 [00:59<00:33,  1.91it/s]"
          ]
        },
        {
          "output_type": "stream",
          "name": "stdout",
          "text": [
            "0;1;2;1;\n",
            "4\n",
            "0;0;0;1;\n",
            "1\n"
          ]
        },
        {
          "output_type": "stream",
          "name": "stderr",
          "text": [
            "\r 68%|██████▊   | 137/200 [01:00<00:28,  2.23it/s]"
          ]
        },
        {
          "output_type": "stream",
          "name": "stdout",
          "text": [
            "0;0;0;\n",
            "0\n",
            "0;0;0;\n",
            "0\n"
          ]
        },
        {
          "output_type": "stream",
          "name": "stderr",
          "text": [
            "\r 69%|██████▉   | 138/200 [01:00<00:25,  2.47it/s]"
          ]
        },
        {
          "output_type": "stream",
          "name": "stdout",
          "text": [
            "0;0;0;\n",
            "0\n",
            "2;2;0;\n",
            "4\n"
          ]
        },
        {
          "output_type": "stream",
          "name": "stderr",
          "text": [
            "\r 70%|██████▉   | 139/200 [01:00<00:24,  2.49it/s]"
          ]
        },
        {
          "output_type": "stream",
          "name": "stdout",
          "text": [
            "3;0;0;0;\n",
            "3\n",
            "0;0;0;2;\n",
            "2\n"
          ]
        },
        {
          "output_type": "stream",
          "name": "stderr",
          "text": [
            "\r 70%|███████   | 140/200 [01:01<00:21,  2.77it/s]"
          ]
        },
        {
          "output_type": "stream",
          "name": "stdout",
          "text": [
            "0;0;0;0;0;\n",
            "0\n",
            "0;0;0;0;0;\n",
            "0\n"
          ]
        },
        {
          "output_type": "stream",
          "name": "stderr",
          "text": [
            "\r 70%|███████   | 141/200 [01:01<00:19,  3.00it/s]"
          ]
        },
        {
          "output_type": "stream",
          "name": "stdout",
          "text": [
            "0;0;3;\n",
            "3\n",
            "3;3;0;\n",
            "6\n"
          ]
        },
        {
          "output_type": "stream",
          "name": "stderr",
          "text": [
            "\r 71%|███████   | 142/200 [01:01<00:22,  2.59it/s]"
          ]
        },
        {
          "output_type": "stream",
          "name": "stdout",
          "text": [
            "0;0;0;\n",
            "0\n",
            "0;0;0;\n",
            "0\n"
          ]
        },
        {
          "output_type": "stream",
          "name": "stderr",
          "text": [
            "\r 72%|███████▏  | 143/200 [01:02<00:19,  2.86it/s]"
          ]
        },
        {
          "output_type": "stream",
          "name": "stdout",
          "text": [
            "0;0;1;\n",
            "1\n",
            "1;0;0;\n",
            "1\n"
          ]
        },
        {
          "output_type": "stream",
          "name": "stderr",
          "text": [
            "\r 72%|███████▏  | 144/200 [01:02<00:22,  2.51it/s]"
          ]
        },
        {
          "output_type": "stream",
          "name": "stdout",
          "text": [
            "7;9;9;7;\n",
            "32\n",
            "0;0;0;0;\n",
            "0\n"
          ]
        },
        {
          "output_type": "stream",
          "name": "stderr",
          "text": [
            "\r 72%|███████▎  | 145/200 [01:03<00:24,  2.21it/s]"
          ]
        },
        {
          "output_type": "stream",
          "name": "stdout",
          "text": [
            "1;1;0;\n",
            "2\n",
            "1;7;6;\n",
            "14\n"
          ]
        },
        {
          "output_type": "stream",
          "name": "stderr",
          "text": [
            "\r 73%|███████▎  | 146/200 [01:04<00:29,  1.85it/s]"
          ]
        },
        {
          "output_type": "stream",
          "name": "stdout",
          "text": [
            "1;9;2;\n",
            "12\n",
            "5;1;2;\n",
            "8\n"
          ]
        },
        {
          "output_type": "stream",
          "name": "stderr",
          "text": [
            "\r 74%|███████▎  | 147/200 [01:05<00:35,  1.47it/s]"
          ]
        },
        {
          "output_type": "stream",
          "name": "stdout",
          "text": [
            "8;8;9;0;\n",
            "25\n",
            "0;0;0;0;\n",
            "0\n"
          ]
        },
        {
          "output_type": "stream",
          "name": "stderr",
          "text": [
            "\r 74%|███████▍  | 148/200 [01:05<00:28,  1.80it/s]"
          ]
        },
        {
          "output_type": "stream",
          "name": "stdout",
          "text": [
            "0;0;0;\n",
            "0\n",
            "0;0;0;\n",
            "0\n"
          ]
        },
        {
          "output_type": "stream",
          "name": "stderr",
          "text": [
            "\r 74%|███████▍  | 149/200 [01:05<00:23,  2.13it/s]"
          ]
        },
        {
          "output_type": "stream",
          "name": "stdout",
          "text": [
            "4;4;8;\n",
            "16\n",
            "1;2;1;\n",
            "4\n"
          ]
        },
        {
          "output_type": "stream",
          "name": "stderr",
          "text": [
            "\r 75%|███████▌  | 150/200 [01:05<00:20,  2.45it/s]"
          ]
        },
        {
          "output_type": "stream",
          "name": "stdout",
          "text": [
            "0;0;0;\n",
            "0\n",
            "0;0;0;\n",
            "0\n"
          ]
        },
        {
          "output_type": "stream",
          "name": "stderr",
          "text": [
            "\r 76%|███████▌  | 151/200 [01:06<00:17,  2.73it/s]"
          ]
        },
        {
          "output_type": "stream",
          "name": "stdout",
          "text": [
            "0;0;0;0;\n",
            "0\n",
            "0;2;2;0;\n",
            "4\n"
          ]
        },
        {
          "output_type": "stream",
          "name": "stderr",
          "text": [
            "\r 76%|███████▌  | 152/200 [01:06<00:16,  2.96it/s]"
          ]
        },
        {
          "output_type": "stream",
          "name": "stdout",
          "text": [
            "5;0;5;\n",
            "10\n",
            "0;0;0;\n",
            "0\n"
          ]
        },
        {
          "output_type": "stream",
          "name": "stderr",
          "text": [
            "\r 76%|███████▋  | 153/200 [01:06<00:14,  3.14it/s]"
          ]
        },
        {
          "output_type": "stream",
          "name": "stdout",
          "text": [
            "4;4;4;\n",
            "12\n",
            "2;2;1;\n",
            "5\n"
          ]
        },
        {
          "output_type": "stream",
          "name": "stderr",
          "text": [
            "\r 77%|███████▋  | 154/200 [01:06<00:13,  3.29it/s]"
          ]
        },
        {
          "output_type": "stream",
          "name": "stdout",
          "text": [
            "5;0;5;\n",
            "10\n",
            "1;0;0;\n",
            "1\n"
          ]
        },
        {
          "output_type": "stream",
          "name": "stderr",
          "text": [
            "\r 78%|███████▊  | 155/200 [01:07<00:13,  3.35it/s]"
          ]
        },
        {
          "output_type": "stream",
          "name": "stdout",
          "text": [
            "0;0;0;\n",
            "0\n",
            "0;0;0;\n",
            "0\n"
          ]
        },
        {
          "output_type": "stream",
          "name": "stderr",
          "text": [
            "\r 78%|███████▊  | 156/200 [01:07<00:12,  3.47it/s]"
          ]
        },
        {
          "output_type": "stream",
          "name": "stdout",
          "text": [
            "0;0;0;\n",
            "0\n",
            "0;0;0;\n",
            "0\n"
          ]
        },
        {
          "output_type": "stream",
          "name": "stderr",
          "text": [
            "\r 78%|███████▊  | 157/200 [01:07<00:12,  3.55it/s]"
          ]
        },
        {
          "output_type": "stream",
          "name": "stdout",
          "text": [
            "1;0;0;\n",
            "1\n",
            "0;0;0;\n",
            "0\n"
          ]
        },
        {
          "output_type": "stream",
          "name": "stderr",
          "text": [
            "\r 79%|███████▉  | 158/200 [01:08<00:11,  3.59it/s]"
          ]
        },
        {
          "output_type": "stream",
          "name": "stdout",
          "text": [
            "0;2;2;\n",
            "4\n",
            "0;0;0;\n",
            "0\n"
          ]
        },
        {
          "output_type": "stream",
          "name": "stderr",
          "text": [
            "\r 80%|███████▉  | 159/200 [01:08<00:11,  3.56it/s]"
          ]
        },
        {
          "output_type": "stream",
          "name": "stdout",
          "text": [
            "0;0;0;\n",
            "0\n",
            "0;1;0;\n",
            "1\n"
          ]
        },
        {
          "output_type": "stream",
          "name": "stderr",
          "text": [
            "\r 80%|████████  | 160/200 [01:08<00:11,  3.62it/s]"
          ]
        },
        {
          "output_type": "stream",
          "name": "stdout",
          "text": [
            "0;0;\n",
            "0\n",
            "0;0;\n",
            "0\n"
          ]
        },
        {
          "output_type": "stream",
          "name": "stderr",
          "text": [
            "\r 80%|████████  | 161/200 [01:08<00:10,  3.61it/s]"
          ]
        },
        {
          "output_type": "stream",
          "name": "stdout",
          "text": [
            "0;3;0;\n",
            "3\n",
            "6;0;6;\n",
            "12\n"
          ]
        },
        {
          "output_type": "stream",
          "name": "stderr",
          "text": [
            "\r 81%|████████  | 162/200 [01:09<00:10,  3.62it/s]"
          ]
        },
        {
          "output_type": "stream",
          "name": "stdout",
          "text": [
            "0;0;0;\n",
            "0\n",
            "0;0;0;\n",
            "0\n"
          ]
        },
        {
          "output_type": "stream",
          "name": "stderr",
          "text": [
            "\r 82%|████████▏ | 163/200 [01:09<00:16,  2.31it/s]"
          ]
        },
        {
          "output_type": "stream",
          "name": "stdout",
          "text": [
            "8;8;8;8;8;8;\n",
            "48\n",
            "0;0;0;0;0;0;\n",
            "0\n"
          ]
        },
        {
          "output_type": "stream",
          "name": "stderr",
          "text": [
            " 82%|████████▎ | 165/200 [01:10<00:13,  2.65it/s]"
          ]
        },
        {
          "output_type": "stream",
          "name": "stdout",
          "text": [
            "0;0;0;0;\n",
            "0\n",
            "0;0;0;0;\n",
            "0\n"
          ]
        },
        {
          "output_type": "stream",
          "name": "stderr",
          "text": [
            "\r 83%|████████▎ | 166/200 [01:11<00:17,  1.99it/s]"
          ]
        },
        {
          "output_type": "stream",
          "name": "stdout",
          "text": [
            "5;4;10;\n",
            "19\n",
            "3;6;0;\n",
            "9\n"
          ]
        },
        {
          "output_type": "stream",
          "name": "stderr",
          "text": [
            "\r 84%|████████▎ | 167/200 [01:11<00:14,  2.32it/s]"
          ]
        },
        {
          "output_type": "stream",
          "name": "stdout",
          "text": [
            "0;0;0;\n",
            "0\n",
            "0;0;0;\n",
            "0\n"
          ]
        },
        {
          "output_type": "stream",
          "name": "stderr",
          "text": [
            "\r 84%|████████▍ | 168/200 [01:12<00:14,  2.17it/s]"
          ]
        },
        {
          "output_type": "stream",
          "name": "stdout",
          "text": [
            "3;3;3;\n",
            "9\n",
            "1;0;0;\n",
            "1\n"
          ]
        },
        {
          "output_type": "stream",
          "name": "stderr",
          "text": [
            "\r 84%|████████▍ | 169/200 [01:12<00:12,  2.43it/s]"
          ]
        },
        {
          "output_type": "stream",
          "name": "stdout",
          "text": [
            "1;1;1;\n",
            "3\n",
            "0;0;0;\n",
            "0\n"
          ]
        },
        {
          "output_type": "stream",
          "name": "stderr",
          "text": [
            "\r 85%|████████▌ | 170/200 [01:12<00:11,  2.70it/s]"
          ]
        },
        {
          "output_type": "stream",
          "name": "stdout",
          "text": [
            "0;0;0;0;0;\n",
            "0\n",
            "0;0;0;0;0;\n",
            "0\n"
          ]
        },
        {
          "output_type": "stream",
          "name": "stderr",
          "text": [
            "\r 86%|████████▌ | 171/200 [01:13<00:10,  2.75it/s]"
          ]
        },
        {
          "output_type": "stream",
          "name": "stdout",
          "text": [
            "0;0;0;0;\n",
            "0\n",
            "0;0;0;0;\n",
            "0\n"
          ]
        },
        {
          "output_type": "stream",
          "name": "stderr",
          "text": [
            "\r 86%|████████▌ | 172/200 [01:13<00:09,  2.96it/s]"
          ]
        },
        {
          "output_type": "stream",
          "name": "stdout",
          "text": [
            "1;1;0;\n",
            "2\n",
            "0;0;0;\n",
            "0\n"
          ]
        },
        {
          "output_type": "stream",
          "name": "stderr",
          "text": [
            "\r 86%|████████▋ | 173/200 [01:13<00:08,  3.12it/s]"
          ]
        },
        {
          "output_type": "stream",
          "name": "stdout",
          "text": [
            "0;0;\n",
            "0\n",
            "0;0;\n",
            "0\n"
          ]
        },
        {
          "output_type": "stream",
          "name": "stderr",
          "text": [
            "\r 87%|████████▋ | 174/200 [01:14<00:10,  2.57it/s]"
          ]
        },
        {
          "output_type": "stream",
          "name": "stdout",
          "text": [
            "4;4;0;\n",
            "8\n",
            "1;0;0;\n",
            "1\n"
          ]
        },
        {
          "output_type": "stream",
          "name": "stderr",
          "text": [
            "\r 88%|████████▊ | 175/200 [01:14<00:08,  2.82it/s]"
          ]
        },
        {
          "output_type": "stream",
          "name": "stdout",
          "text": [
            "1;0;1;\n",
            "2\n",
            "0;0;0;\n",
            "0\n"
          ]
        },
        {
          "output_type": "stream",
          "name": "stderr",
          "text": [
            "\r 88%|████████▊ | 176/200 [01:15<00:14,  1.61it/s]"
          ]
        },
        {
          "output_type": "stream",
          "name": "stdout",
          "text": [
            "11;0;0;\n",
            "11\n",
            "0;0;1;\n",
            "1\n"
          ]
        },
        {
          "output_type": "stream",
          "name": "stderr",
          "text": [
            "\r 88%|████████▊ | 177/200 [01:16<00:11,  1.94it/s]"
          ]
        },
        {
          "output_type": "stream",
          "name": "stdout",
          "text": [
            "0;0;0;\n",
            "0\n",
            "0;0;0;\n",
            "0\n"
          ]
        },
        {
          "output_type": "stream",
          "name": "stderr",
          "text": [
            "\r 89%|████████▉ | 178/200 [01:16<00:10,  2.12it/s]"
          ]
        },
        {
          "output_type": "stream",
          "name": "stdout",
          "text": [
            "3;3;0;\n",
            "6\n",
            "1;1;0;\n",
            "2\n"
          ]
        },
        {
          "output_type": "stream",
          "name": "stderr",
          "text": [
            "\r 90%|████████▉ | 179/200 [01:16<00:09,  2.29it/s]"
          ]
        },
        {
          "output_type": "stream",
          "name": "stdout",
          "text": [
            "4;1;4;\n",
            "9\n",
            "1;1;1;\n",
            "3\n"
          ]
        },
        {
          "output_type": "stream",
          "name": "stderr",
          "text": [
            "\r 90%|█████████ | 180/200 [01:17<00:07,  2.52it/s]"
          ]
        },
        {
          "output_type": "stream",
          "name": "stdout",
          "text": [
            "0;0;0;\n",
            "0\n",
            "0;0;0;\n",
            "0\n"
          ]
        },
        {
          "output_type": "stream",
          "name": "stderr",
          "text": [
            "\r 90%|█████████ | 181/200 [01:17<00:09,  1.91it/s]"
          ]
        },
        {
          "output_type": "stream",
          "name": "stdout",
          "text": [
            "0;0;0;0;0;0;\n",
            "0\n",
            "0;0;0;3;0;15;\n",
            "18\n"
          ]
        },
        {
          "output_type": "stream",
          "name": "stderr",
          "text": [
            "\r 91%|█████████ | 182/200 [01:18<00:09,  1.93it/s]"
          ]
        },
        {
          "output_type": "stream",
          "name": "stdout",
          "text": [
            "0;0;0;0;\n",
            "0\n",
            "0;0;0;0;\n",
            "0\n"
          ]
        },
        {
          "output_type": "stream",
          "name": "stderr",
          "text": [
            "\r 92%|█████████▏| 183/200 [01:19<00:12,  1.37it/s]"
          ]
        },
        {
          "output_type": "stream",
          "name": "stdout",
          "text": [
            "6;0;0;\n",
            "6\n",
            "0;5;0;\n",
            "5\n"
          ]
        },
        {
          "output_type": "stream",
          "name": "stderr",
          "text": [
            "\r 92%|█████████▏| 184/200 [01:19<00:09,  1.70it/s]"
          ]
        },
        {
          "output_type": "stream",
          "name": "stdout",
          "text": [
            "0;0;0;0;\n",
            "0\n",
            "0;0;0;0;\n",
            "0\n"
          ]
        },
        {
          "output_type": "stream",
          "name": "stderr",
          "text": [
            "\r 92%|█████████▎| 185/200 [01:20<00:08,  1.85it/s]"
          ]
        },
        {
          "output_type": "stream",
          "name": "stdout",
          "text": [
            "1;1;\n",
            "2\n",
            "5;2;\n",
            "7\n"
          ]
        },
        {
          "output_type": "stream",
          "name": "stderr",
          "text": [
            "\r 93%|█████████▎| 186/200 [01:20<00:07,  1.89it/s]"
          ]
        },
        {
          "output_type": "stream",
          "name": "stdout",
          "text": [
            "4;5;5;\n",
            "14\n",
            "0;0;0;\n",
            "0\n"
          ]
        },
        {
          "output_type": "stream",
          "name": "stderr",
          "text": [
            "\r 94%|█████████▎| 187/200 [01:21<00:07,  1.68it/s]"
          ]
        },
        {
          "output_type": "stream",
          "name": "stdout",
          "text": [
            "0;0;0;\n",
            "0\n",
            "3;2;0;\n",
            "5\n"
          ]
        },
        {
          "output_type": "stream",
          "name": "stderr",
          "text": [
            "\r 94%|█████████▍| 188/200 [01:22<00:07,  1.62it/s]"
          ]
        },
        {
          "output_type": "stream",
          "name": "stdout",
          "text": [
            "5;0;6;\n",
            "11\n",
            "5;2;4;\n",
            "11\n"
          ]
        },
        {
          "output_type": "stream",
          "name": "stderr",
          "text": [
            "\r 94%|█████████▍| 189/200 [01:22<00:05,  1.88it/s]"
          ]
        },
        {
          "output_type": "stream",
          "name": "stdout",
          "text": [
            "3;0;0;\n",
            "3\n",
            "0;0;0;\n",
            "0\n"
          ]
        },
        {
          "output_type": "stream",
          "name": "stderr",
          "text": [
            "\r 95%|█████████▌| 190/200 [01:22<00:04,  2.21it/s]"
          ]
        },
        {
          "output_type": "stream",
          "name": "stdout",
          "text": [
            "0;0;\n",
            "0\n",
            "0;0;\n",
            "0\n"
          ]
        },
        {
          "output_type": "stream",
          "name": "stderr",
          "text": [
            "\r 96%|█████████▌| 191/200 [01:23<00:04,  2.08it/s]"
          ]
        },
        {
          "output_type": "stream",
          "name": "stdout",
          "text": [
            "14;9;0;14;\n",
            "37\n",
            "3;0;0;3;\n",
            "6\n"
          ]
        },
        {
          "output_type": "stream",
          "name": "stderr",
          "text": [
            "\r 96%|█████████▌| 192/200 [01:23<00:03,  2.18it/s]"
          ]
        },
        {
          "output_type": "stream",
          "name": "stdout",
          "text": [
            "0;0;0;\n",
            "0\n",
            "0;1;0;\n",
            "1\n"
          ]
        },
        {
          "output_type": "stream",
          "name": "stderr",
          "text": [
            "\r 96%|█████████▋| 193/200 [01:24<00:02,  2.40it/s]"
          ]
        },
        {
          "output_type": "stream",
          "name": "stdout",
          "text": [
            "1;0;0;\n",
            "1\n",
            "0;0;0;\n",
            "0\n"
          ]
        },
        {
          "output_type": "stream",
          "name": "stderr",
          "text": [
            "\r 97%|█████████▋| 194/200 [01:24<00:02,  2.03it/s]"
          ]
        },
        {
          "output_type": "stream",
          "name": "stdout",
          "text": [
            "0;2;0;\n",
            "2\n",
            "2;2;4;\n",
            "8\n"
          ]
        },
        {
          "output_type": "stream",
          "name": "stderr",
          "text": [
            "\r 98%|█████████▊| 195/200 [01:25<00:02,  2.34it/s]"
          ]
        },
        {
          "output_type": "stream",
          "name": "stdout",
          "text": [
            "2;2;2;\n",
            "6\n",
            "1;0;0;\n",
            "1\n"
          ]
        },
        {
          "output_type": "stream",
          "name": "stderr",
          "text": [
            "\r 98%|█████████▊| 196/200 [01:25<00:01,  2.14it/s]"
          ]
        },
        {
          "output_type": "stream",
          "name": "stdout",
          "text": [
            "4;0;0;\n",
            "4\n",
            "2;0;1;\n",
            "3\n"
          ]
        },
        {
          "output_type": "stream",
          "name": "stderr",
          "text": [
            "\r 98%|█████████▊| 197/200 [01:25<00:01,  2.45it/s]"
          ]
        },
        {
          "output_type": "stream",
          "name": "stdout",
          "text": [
            "0;0;0;\n",
            "0\n",
            "0;0;0;\n",
            "0\n"
          ]
        },
        {
          "output_type": "stream",
          "name": "stderr",
          "text": [
            "\r 99%|█████████▉| 198/200 [01:26<00:00,  2.72it/s]"
          ]
        },
        {
          "output_type": "stream",
          "name": "stdout",
          "text": [
            "2;0;1;\n",
            "3\n",
            "0;2;0;\n",
            "2\n"
          ]
        },
        {
          "output_type": "stream",
          "name": "stderr",
          "text": [
            "\r100%|█████████▉| 199/200 [01:26<00:00,  2.87it/s]"
          ]
        },
        {
          "output_type": "stream",
          "name": "stdout",
          "text": [
            "0;0;0;\n",
            "0\n",
            "0;0;0;\n",
            "0\n"
          ]
        },
        {
          "output_type": "stream",
          "name": "stderr",
          "text": [
            "100%|██████████| 200/200 [01:26<00:00,  2.31it/s]"
          ]
        },
        {
          "output_type": "stream",
          "name": "stdout",
          "text": [
            "1;1;0;\n",
            "2\n",
            "0;0;0;\n",
            "0\n"
          ]
        },
        {
          "output_type": "stream",
          "name": "stderr",
          "text": [
            "\n"
          ]
        }
      ]
    },
    {
      "cell_type": "code",
      "source": [
        "dfTest.head()"
      ],
      "metadata": {
        "colab": {
          "base_uri": "https://localhost:8080/",
          "height": 808
        },
        "id": "15zOOHOKGJDL",
        "outputId": "fad08b5f-7488-4d28-9e8d-bab59dda8d5d"
      },
      "execution_count": null,
      "outputs": [
        {
          "output_type": "execute_result",
          "data": {
            "text/plain": [
              "                                               claim        label  \\\n",
              "0  Says Kentucky Rep. Andy Barr \"would let shady ...    half-true   \n",
              "1  \"New reports show Kevin Nicholson made over $1...  barely-true   \n",
              "2  Says that unless the recipient called back abo...   pants-fire   \n",
              "3  \"Donald Trump said he was excited for the 2008...    half-true   \n",
              "4  \"The president has said the national security ...  barely-true   \n",
              "\n",
              "                                 annotated-questions  label-binary  \\\n",
              "0  ['1. Has Barr received $36,550 from payday len...             1   \n",
              "1  ['1. Did Nicholson make $1 million consulting ...             0   \n",
              "2  ['1. Will people be taken into local police cu...             0   \n",
              "3  ['1. Was Donald Trump \"Excited\" for the 2008 h...             1   \n",
              "4  ['1. Has Obama cited climate change as the top...             0   \n",
              "\n",
              "                                 decomp-subquestions  \\\n",
              "0  \" 1. Did Barr take money from these lenders?\\n...   \n",
              "1  \" 1. Did Nicholson make over $1 million?\\n2. D...   \n",
              "2  \" 1. Did someone call about this person's tax ...   \n",
              "3  \" 1. Did Donald Trump say he was excited for t...   \n",
              "4  \" 1. Did the president say that global warming...   \n",
              "\n",
              "                                    decomp-subclaims decomp-supporting  \\\n",
              "0  \"Barr took money from these lenders.\";\"Barr wo...            0;2;0;   \n",
              "1  \"Nicholson made over $1 million.\";\"Nicholson a...          0;3;0;3;   \n",
              "2  \"Someone called about this person's tax filing...          0;2;2;2;   \n",
              "3  \"\\nDonald Trump said he was excited for the 20...            3;3;0;   \n",
              "4  \"The president said that global warming is the...            0;0;0;   \n",
              "\n",
              "  decomp-refuting                                       decomp-label  \\\n",
              "0          0;0;0;  Not enough evidence;Not enough evidence;Not en...   \n",
              "1        0;0;3;1;  Not enough evidence;Probably True;Probably Fal...   \n",
              "2        0;0;0;0;  Not enough evidence;Not enough evidence;Not en...   \n",
              "3          0;0;3;        Probably True;Probably True;Probably False;   \n",
              "4          0;0;0;  Not enough evidence;Not enough evidence;Not en...   \n",
              "\n",
              "   decomp-label-binary                                    decomp-evidence  \\\n",
              "0                    0  ; Says Kentucky Rep. Andy Barr \"would let shad...   \n",
              "1                    0  ;<b> \"New reports show Kevin Nicholson made ov...   \n",
              "2                    0  Regulations issued pursuant to this type of au...   \n",
              "3                    0   look at his history. <b>donald trump said he ...   \n",
              "4                    0                                                ;;;   \n",
              "\n",
              "   decomp-performance  decomp-total-support  decomp-total-refute  \n",
              "0                   0                     2                    0  \n",
              "1                   0                     6                    4  \n",
              "2                   0                     6                    0  \n",
              "3                   0                     6                    3  \n",
              "4                   0                     0                    0  "
            ],
            "text/html": [
              "\n",
              "  <div id=\"df-76f86d4e-4eb9-465d-9f6b-91ff45e29e2d\">\n",
              "    <div class=\"colab-df-container\">\n",
              "      <div>\n",
              "<style scoped>\n",
              "    .dataframe tbody tr th:only-of-type {\n",
              "        vertical-align: middle;\n",
              "    }\n",
              "\n",
              "    .dataframe tbody tr th {\n",
              "        vertical-align: top;\n",
              "    }\n",
              "\n",
              "    .dataframe thead th {\n",
              "        text-align: right;\n",
              "    }\n",
              "</style>\n",
              "<table border=\"1\" class=\"dataframe\">\n",
              "  <thead>\n",
              "    <tr style=\"text-align: right;\">\n",
              "      <th></th>\n",
              "      <th>claim</th>\n",
              "      <th>label</th>\n",
              "      <th>annotated-questions</th>\n",
              "      <th>label-binary</th>\n",
              "      <th>decomp-subquestions</th>\n",
              "      <th>decomp-subclaims</th>\n",
              "      <th>decomp-supporting</th>\n",
              "      <th>decomp-refuting</th>\n",
              "      <th>decomp-label</th>\n",
              "      <th>decomp-label-binary</th>\n",
              "      <th>decomp-evidence</th>\n",
              "      <th>decomp-performance</th>\n",
              "      <th>decomp-total-support</th>\n",
              "      <th>decomp-total-refute</th>\n",
              "    </tr>\n",
              "  </thead>\n",
              "  <tbody>\n",
              "    <tr>\n",
              "      <th>0</th>\n",
              "      <td>Says Kentucky Rep. Andy Barr \"would let shady ...</td>\n",
              "      <td>half-true</td>\n",
              "      <td>['1. Has Barr received $36,550 from payday len...</td>\n",
              "      <td>1</td>\n",
              "      <td>\" 1. Did Barr take money from these lenders?\\n...</td>\n",
              "      <td>\"Barr took money from these lenders.\";\"Barr wo...</td>\n",
              "      <td>0;2;0;</td>\n",
              "      <td>0;0;0;</td>\n",
              "      <td>Not enough evidence;Not enough evidence;Not en...</td>\n",
              "      <td>0</td>\n",
              "      <td>; Says Kentucky Rep. Andy Barr \"would let shad...</td>\n",
              "      <td>0</td>\n",
              "      <td>2</td>\n",
              "      <td>0</td>\n",
              "    </tr>\n",
              "    <tr>\n",
              "      <th>1</th>\n",
              "      <td>\"New reports show Kevin Nicholson made over $1...</td>\n",
              "      <td>barely-true</td>\n",
              "      <td>['1. Did Nicholson make $1 million consulting ...</td>\n",
              "      <td>0</td>\n",
              "      <td>\" 1. Did Nicholson make over $1 million?\\n2. D...</td>\n",
              "      <td>\"Nicholson made over $1 million.\";\"Nicholson a...</td>\n",
              "      <td>0;3;0;3;</td>\n",
              "      <td>0;0;3;1;</td>\n",
              "      <td>Not enough evidence;Probably True;Probably Fal...</td>\n",
              "      <td>0</td>\n",
              "      <td>;&lt;b&gt; \"New reports show Kevin Nicholson made ov...</td>\n",
              "      <td>0</td>\n",
              "      <td>6</td>\n",
              "      <td>4</td>\n",
              "    </tr>\n",
              "    <tr>\n",
              "      <th>2</th>\n",
              "      <td>Says that unless the recipient called back abo...</td>\n",
              "      <td>pants-fire</td>\n",
              "      <td>['1. Will people be taken into local police cu...</td>\n",
              "      <td>0</td>\n",
              "      <td>\" 1. Did someone call about this person's tax ...</td>\n",
              "      <td>\"Someone called about this person's tax filing...</td>\n",
              "      <td>0;2;2;2;</td>\n",
              "      <td>0;0;0;0;</td>\n",
              "      <td>Not enough evidence;Not enough evidence;Not en...</td>\n",
              "      <td>0</td>\n",
              "      <td>Regulations issued pursuant to this type of au...</td>\n",
              "      <td>0</td>\n",
              "      <td>6</td>\n",
              "      <td>0</td>\n",
              "    </tr>\n",
              "    <tr>\n",
              "      <th>3</th>\n",
              "      <td>\"Donald Trump said he was excited for the 2008...</td>\n",
              "      <td>half-true</td>\n",
              "      <td>['1. Was Donald Trump \"Excited\" for the 2008 h...</td>\n",
              "      <td>1</td>\n",
              "      <td>\" 1. Did Donald Trump say he was excited for t...</td>\n",
              "      <td>\"\\nDonald Trump said he was excited for the 20...</td>\n",
              "      <td>3;3;0;</td>\n",
              "      <td>0;0;3;</td>\n",
              "      <td>Probably True;Probably True;Probably False;</td>\n",
              "      <td>0</td>\n",
              "      <td>look at his history. &lt;b&gt;donald trump said he ...</td>\n",
              "      <td>0</td>\n",
              "      <td>6</td>\n",
              "      <td>3</td>\n",
              "    </tr>\n",
              "    <tr>\n",
              "      <th>4</th>\n",
              "      <td>\"The president has said the national security ...</td>\n",
              "      <td>barely-true</td>\n",
              "      <td>['1. Has Obama cited climate change as the top...</td>\n",
              "      <td>0</td>\n",
              "      <td>\" 1. Did the president say that global warming...</td>\n",
              "      <td>\"The president said that global warming is the...</td>\n",
              "      <td>0;0;0;</td>\n",
              "      <td>0;0;0;</td>\n",
              "      <td>Not enough evidence;Not enough evidence;Not en...</td>\n",
              "      <td>0</td>\n",
              "      <td>;;;</td>\n",
              "      <td>0</td>\n",
              "      <td>0</td>\n",
              "      <td>0</td>\n",
              "    </tr>\n",
              "  </tbody>\n",
              "</table>\n",
              "</div>\n",
              "      <button class=\"colab-df-convert\" onclick=\"convertToInteractive('df-76f86d4e-4eb9-465d-9f6b-91ff45e29e2d')\"\n",
              "              title=\"Convert this dataframe to an interactive table.\"\n",
              "              style=\"display:none;\">\n",
              "        \n",
              "  <svg xmlns=\"http://www.w3.org/2000/svg\" height=\"24px\"viewBox=\"0 0 24 24\"\n",
              "       width=\"24px\">\n",
              "    <path d=\"M0 0h24v24H0V0z\" fill=\"none\"/>\n",
              "    <path d=\"M18.56 5.44l.94 2.06.94-2.06 2.06-.94-2.06-.94-.94-2.06-.94 2.06-2.06.94zm-11 1L8.5 8.5l.94-2.06 2.06-.94-2.06-.94L8.5 2.5l-.94 2.06-2.06.94zm10 10l.94 2.06.94-2.06 2.06-.94-2.06-.94-.94-2.06-.94 2.06-2.06.94z\"/><path d=\"M17.41 7.96l-1.37-1.37c-.4-.4-.92-.59-1.43-.59-.52 0-1.04.2-1.43.59L10.3 9.45l-7.72 7.72c-.78.78-.78 2.05 0 2.83L4 21.41c.39.39.9.59 1.41.59.51 0 1.02-.2 1.41-.59l7.78-7.78 2.81-2.81c.8-.78.8-2.07 0-2.86zM5.41 20L4 18.59l7.72-7.72 1.47 1.35L5.41 20z\"/>\n",
              "  </svg>\n",
              "      </button>\n",
              "      \n",
              "  <style>\n",
              "    .colab-df-container {\n",
              "      display:flex;\n",
              "      flex-wrap:wrap;\n",
              "      gap: 12px;\n",
              "    }\n",
              "\n",
              "    .colab-df-convert {\n",
              "      background-color: #E8F0FE;\n",
              "      border: none;\n",
              "      border-radius: 50%;\n",
              "      cursor: pointer;\n",
              "      display: none;\n",
              "      fill: #1967D2;\n",
              "      height: 32px;\n",
              "      padding: 0 0 0 0;\n",
              "      width: 32px;\n",
              "    }\n",
              "\n",
              "    .colab-df-convert:hover {\n",
              "      background-color: #E2EBFA;\n",
              "      box-shadow: 0px 1px 2px rgba(60, 64, 67, 0.3), 0px 1px 3px 1px rgba(60, 64, 67, 0.15);\n",
              "      fill: #174EA6;\n",
              "    }\n",
              "\n",
              "    [theme=dark] .colab-df-convert {\n",
              "      background-color: #3B4455;\n",
              "      fill: #D2E3FC;\n",
              "    }\n",
              "\n",
              "    [theme=dark] .colab-df-convert:hover {\n",
              "      background-color: #434B5C;\n",
              "      box-shadow: 0px 1px 3px 1px rgba(0, 0, 0, 0.15);\n",
              "      filter: drop-shadow(0px 1px 2px rgba(0, 0, 0, 0.3));\n",
              "      fill: #FFFFFF;\n",
              "    }\n",
              "  </style>\n",
              "\n",
              "      <script>\n",
              "        const buttonEl =\n",
              "          document.querySelector('#df-76f86d4e-4eb9-465d-9f6b-91ff45e29e2d button.colab-df-convert');\n",
              "        buttonEl.style.display =\n",
              "          google.colab.kernel.accessAllowed ? 'block' : 'none';\n",
              "\n",
              "        async function convertToInteractive(key) {\n",
              "          const element = document.querySelector('#df-76f86d4e-4eb9-465d-9f6b-91ff45e29e2d');\n",
              "          const dataTable =\n",
              "            await google.colab.kernel.invokeFunction('convertToInteractive',\n",
              "                                                     [key], {});\n",
              "          if (!dataTable) return;\n",
              "\n",
              "          const docLinkHtml = 'Like what you see? Visit the ' +\n",
              "            '<a target=\"_blank\" href=https://colab.research.google.com/notebooks/data_table.ipynb>data table notebook</a>'\n",
              "            + ' to learn more about interactive tables.';\n",
              "          element.innerHTML = '';\n",
              "          dataTable['output_type'] = 'display_data';\n",
              "          await google.colab.output.renderOutput(dataTable, element);\n",
              "          const docLink = document.createElement('div');\n",
              "          docLink.innerHTML = docLinkHtml;\n",
              "          element.appendChild(docLink);\n",
              "        }\n",
              "      </script>\n",
              "    </div>\n",
              "  </div>\n",
              "  "
            ]
          },
          "metadata": {},
          "execution_count": 23
        }
      ]
    },
    {
      "cell_type": "code",
      "source": [
        "dfTest.to_csv(\"./result/evalDecompTest-stage3.csv\", index=False, encoding = 'utf-8-sig', header=True, escapechar='',)"
      ],
      "metadata": {
        "id": "vDVtQA8-TNde"
      },
      "execution_count": null,
      "outputs": []
    },
    {
      "cell_type": "markdown",
      "source": [
        "#### Method 2 [Full Pipeline V2]\n",
        "\n",
        "For our second method, we retrieve relevant articles and conduct the entailment classification solely with the subclaims generated in the previous step to generate the final veracity results.\n",
        "\n",
        "Cons: \n",
        "\n",
        "Sometimes the subclaims generated may not include sufficient contextual information to retrieve the relevant articles"
      ],
      "metadata": {
        "id": "fmzkpmKtY3dJ"
      }
    },
    {
      "cell_type": "code",
      "source": [
        "newpath = \"./result/evalDecompTest-stage2.csv\"\n",
        "dfTest = pd.read_csv(newpath)"
      ],
      "metadata": {
        "id": "4EZtdApGpbx0"
      },
      "execution_count": null,
      "outputs": []
    },
    {
      "cell_type": "code",
      "source": [
        "# Add extra cols for computation\n",
        "dfTest['decomp-total-support'] = 0\n",
        "dfTest['decomp-total-refute'] = 0\n",
        "dfTest.head()"
      ],
      "metadata": {
        "colab": {
          "base_uri": "https://localhost:8080/",
          "height": 808
        },
        "outputId": "0bc7b1c3-4ddd-4a79-d651-9e7732596a2f",
        "id": "toiqF15Qpbx6"
      },
      "execution_count": null,
      "outputs": [
        {
          "output_type": "execute_result",
          "data": {
            "text/plain": [
              "                                               claim        label  \\\n",
              "0  Says Kentucky Rep. Andy Barr \"would let shady ...    half-true   \n",
              "1  \"New reports show Kevin Nicholson made over $1...  barely-true   \n",
              "2  Says that unless the recipient called back abo...   pants-fire   \n",
              "3  \"Donald Trump said he was excited for the 2008...    half-true   \n",
              "4  \"The president has said the national security ...  barely-true   \n",
              "\n",
              "                                 annotated-questions  label-binary  \\\n",
              "0  ['1. Has Barr received $36,550 from payday len...             1   \n",
              "1  ['1. Did Nicholson make $1 million consulting ...             0   \n",
              "2  ['1. Will people be taken into local police cu...             0   \n",
              "3  ['1. Was Donald Trump \"Excited\" for the 2008 h...             1   \n",
              "4  ['1. Has Obama cited climate change as the top...             0   \n",
              "\n",
              "                                 decomp-subquestions  \\\n",
              "0  \" 1. Did Barr take money from these lenders?\\n...   \n",
              "1  \" 1. Did Nicholson make over $1 million?\\n2. D...   \n",
              "2  \" 1. Did someone call about this person's tax ...   \n",
              "3  \" 1. Did Donald Trump say he was excited for t...   \n",
              "4  \" 1. Did the president say that global warming...   \n",
              "\n",
              "                                    decomp-subclaims  decomp-supporting  \\\n",
              "0  \"Barr took money from these lenders.\";\"Barr wo...                  0   \n",
              "1  \"Nicholson made over $1 million.\";\"Nicholson a...                  0   \n",
              "2  \"Someone called about this person's tax filing...                  0   \n",
              "3  \"\\nDonald Trump said he was excited for the 20...                  0   \n",
              "4  \"The president said that global warming is the...                  0   \n",
              "\n",
              "   decomp-refuting  decomp-label  decomp-label-binary  decomp-evidence  \\\n",
              "0                0           NaN                    0              NaN   \n",
              "1                0           NaN                    0              NaN   \n",
              "2                0           NaN                    0              NaN   \n",
              "3                0           NaN                    0              NaN   \n",
              "4                0           NaN                    0              NaN   \n",
              "\n",
              "   decomp-performance  decomp-total-support  decomp-total-refute  \n",
              "0                   0                     0                    0  \n",
              "1                   0                     0                    0  \n",
              "2                   0                     0                    0  \n",
              "3                   0                     0                    0  \n",
              "4                   0                     0                    0  "
            ],
            "text/html": [
              "\n",
              "  <div id=\"df-3a0da79a-ed4a-46d2-99f6-11b6c9e2d008\">\n",
              "    <div class=\"colab-df-container\">\n",
              "      <div>\n",
              "<style scoped>\n",
              "    .dataframe tbody tr th:only-of-type {\n",
              "        vertical-align: middle;\n",
              "    }\n",
              "\n",
              "    .dataframe tbody tr th {\n",
              "        vertical-align: top;\n",
              "    }\n",
              "\n",
              "    .dataframe thead th {\n",
              "        text-align: right;\n",
              "    }\n",
              "</style>\n",
              "<table border=\"1\" class=\"dataframe\">\n",
              "  <thead>\n",
              "    <tr style=\"text-align: right;\">\n",
              "      <th></th>\n",
              "      <th>claim</th>\n",
              "      <th>label</th>\n",
              "      <th>annotated-questions</th>\n",
              "      <th>label-binary</th>\n",
              "      <th>decomp-subquestions</th>\n",
              "      <th>decomp-subclaims</th>\n",
              "      <th>decomp-supporting</th>\n",
              "      <th>decomp-refuting</th>\n",
              "      <th>decomp-label</th>\n",
              "      <th>decomp-label-binary</th>\n",
              "      <th>decomp-evidence</th>\n",
              "      <th>decomp-performance</th>\n",
              "      <th>decomp-total-support</th>\n",
              "      <th>decomp-total-refute</th>\n",
              "    </tr>\n",
              "  </thead>\n",
              "  <tbody>\n",
              "    <tr>\n",
              "      <th>0</th>\n",
              "      <td>Says Kentucky Rep. Andy Barr \"would let shady ...</td>\n",
              "      <td>half-true</td>\n",
              "      <td>['1. Has Barr received $36,550 from payday len...</td>\n",
              "      <td>1</td>\n",
              "      <td>\" 1. Did Barr take money from these lenders?\\n...</td>\n",
              "      <td>\"Barr took money from these lenders.\";\"Barr wo...</td>\n",
              "      <td>0</td>\n",
              "      <td>0</td>\n",
              "      <td>NaN</td>\n",
              "      <td>0</td>\n",
              "      <td>NaN</td>\n",
              "      <td>0</td>\n",
              "      <td>0</td>\n",
              "      <td>0</td>\n",
              "    </tr>\n",
              "    <tr>\n",
              "      <th>1</th>\n",
              "      <td>\"New reports show Kevin Nicholson made over $1...</td>\n",
              "      <td>barely-true</td>\n",
              "      <td>['1. Did Nicholson make $1 million consulting ...</td>\n",
              "      <td>0</td>\n",
              "      <td>\" 1. Did Nicholson make over $1 million?\\n2. D...</td>\n",
              "      <td>\"Nicholson made over $1 million.\";\"Nicholson a...</td>\n",
              "      <td>0</td>\n",
              "      <td>0</td>\n",
              "      <td>NaN</td>\n",
              "      <td>0</td>\n",
              "      <td>NaN</td>\n",
              "      <td>0</td>\n",
              "      <td>0</td>\n",
              "      <td>0</td>\n",
              "    </tr>\n",
              "    <tr>\n",
              "      <th>2</th>\n",
              "      <td>Says that unless the recipient called back abo...</td>\n",
              "      <td>pants-fire</td>\n",
              "      <td>['1. Will people be taken into local police cu...</td>\n",
              "      <td>0</td>\n",
              "      <td>\" 1. Did someone call about this person's tax ...</td>\n",
              "      <td>\"Someone called about this person's tax filing...</td>\n",
              "      <td>0</td>\n",
              "      <td>0</td>\n",
              "      <td>NaN</td>\n",
              "      <td>0</td>\n",
              "      <td>NaN</td>\n",
              "      <td>0</td>\n",
              "      <td>0</td>\n",
              "      <td>0</td>\n",
              "    </tr>\n",
              "    <tr>\n",
              "      <th>3</th>\n",
              "      <td>\"Donald Trump said he was excited for the 2008...</td>\n",
              "      <td>half-true</td>\n",
              "      <td>['1. Was Donald Trump \"Excited\" for the 2008 h...</td>\n",
              "      <td>1</td>\n",
              "      <td>\" 1. Did Donald Trump say he was excited for t...</td>\n",
              "      <td>\"\\nDonald Trump said he was excited for the 20...</td>\n",
              "      <td>0</td>\n",
              "      <td>0</td>\n",
              "      <td>NaN</td>\n",
              "      <td>0</td>\n",
              "      <td>NaN</td>\n",
              "      <td>0</td>\n",
              "      <td>0</td>\n",
              "      <td>0</td>\n",
              "    </tr>\n",
              "    <tr>\n",
              "      <th>4</th>\n",
              "      <td>\"The president has said the national security ...</td>\n",
              "      <td>barely-true</td>\n",
              "      <td>['1. Has Obama cited climate change as the top...</td>\n",
              "      <td>0</td>\n",
              "      <td>\" 1. Did the president say that global warming...</td>\n",
              "      <td>\"The president said that global warming is the...</td>\n",
              "      <td>0</td>\n",
              "      <td>0</td>\n",
              "      <td>NaN</td>\n",
              "      <td>0</td>\n",
              "      <td>NaN</td>\n",
              "      <td>0</td>\n",
              "      <td>0</td>\n",
              "      <td>0</td>\n",
              "    </tr>\n",
              "  </tbody>\n",
              "</table>\n",
              "</div>\n",
              "      <button class=\"colab-df-convert\" onclick=\"convertToInteractive('df-3a0da79a-ed4a-46d2-99f6-11b6c9e2d008')\"\n",
              "              title=\"Convert this dataframe to an interactive table.\"\n",
              "              style=\"display:none;\">\n",
              "        \n",
              "  <svg xmlns=\"http://www.w3.org/2000/svg\" height=\"24px\"viewBox=\"0 0 24 24\"\n",
              "       width=\"24px\">\n",
              "    <path d=\"M0 0h24v24H0V0z\" fill=\"none\"/>\n",
              "    <path d=\"M18.56 5.44l.94 2.06.94-2.06 2.06-.94-2.06-.94-.94-2.06-.94 2.06-2.06.94zm-11 1L8.5 8.5l.94-2.06 2.06-.94-2.06-.94L8.5 2.5l-.94 2.06-2.06.94zm10 10l.94 2.06.94-2.06 2.06-.94-2.06-.94-.94-2.06-.94 2.06-2.06.94z\"/><path d=\"M17.41 7.96l-1.37-1.37c-.4-.4-.92-.59-1.43-.59-.52 0-1.04.2-1.43.59L10.3 9.45l-7.72 7.72c-.78.78-.78 2.05 0 2.83L4 21.41c.39.39.9.59 1.41.59.51 0 1.02-.2 1.41-.59l7.78-7.78 2.81-2.81c.8-.78.8-2.07 0-2.86zM5.41 20L4 18.59l7.72-7.72 1.47 1.35L5.41 20z\"/>\n",
              "  </svg>\n",
              "      </button>\n",
              "      \n",
              "  <style>\n",
              "    .colab-df-container {\n",
              "      display:flex;\n",
              "      flex-wrap:wrap;\n",
              "      gap: 12px;\n",
              "    }\n",
              "\n",
              "    .colab-df-convert {\n",
              "      background-color: #E8F0FE;\n",
              "      border: none;\n",
              "      border-radius: 50%;\n",
              "      cursor: pointer;\n",
              "      display: none;\n",
              "      fill: #1967D2;\n",
              "      height: 32px;\n",
              "      padding: 0 0 0 0;\n",
              "      width: 32px;\n",
              "    }\n",
              "\n",
              "    .colab-df-convert:hover {\n",
              "      background-color: #E2EBFA;\n",
              "      box-shadow: 0px 1px 2px rgba(60, 64, 67, 0.3), 0px 1px 3px 1px rgba(60, 64, 67, 0.15);\n",
              "      fill: #174EA6;\n",
              "    }\n",
              "\n",
              "    [theme=dark] .colab-df-convert {\n",
              "      background-color: #3B4455;\n",
              "      fill: #D2E3FC;\n",
              "    }\n",
              "\n",
              "    [theme=dark] .colab-df-convert:hover {\n",
              "      background-color: #434B5C;\n",
              "      box-shadow: 0px 1px 3px 1px rgba(0, 0, 0, 0.15);\n",
              "      filter: drop-shadow(0px 1px 2px rgba(0, 0, 0, 0.3));\n",
              "      fill: #FFFFFF;\n",
              "    }\n",
              "  </style>\n",
              "\n",
              "      <script>\n",
              "        const buttonEl =\n",
              "          document.querySelector('#df-3a0da79a-ed4a-46d2-99f6-11b6c9e2d008 button.colab-df-convert');\n",
              "        buttonEl.style.display =\n",
              "          google.colab.kernel.accessAllowed ? 'block' : 'none';\n",
              "\n",
              "        async function convertToInteractive(key) {\n",
              "          const element = document.querySelector('#df-3a0da79a-ed4a-46d2-99f6-11b6c9e2d008');\n",
              "          const dataTable =\n",
              "            await google.colab.kernel.invokeFunction('convertToInteractive',\n",
              "                                                     [key], {});\n",
              "          if (!dataTable) return;\n",
              "\n",
              "          const docLinkHtml = 'Like what you see? Visit the ' +\n",
              "            '<a target=\"_blank\" href=https://colab.research.google.com/notebooks/data_table.ipynb>data table notebook</a>'\n",
              "            + ' to learn more about interactive tables.';\n",
              "          element.innerHTML = '';\n",
              "          dataTable['output_type'] = 'display_data';\n",
              "          await google.colab.output.renderOutput(dataTable, element);\n",
              "          const docLink = document.createElement('div');\n",
              "          docLink.innerHTML = docLinkHtml;\n",
              "          element.appendChild(docLink);\n",
              "        }\n",
              "      </script>\n",
              "    </div>\n",
              "  </div>\n",
              "  "
            ]
          },
          "metadata": {},
          "execution_count": 5
        }
      ]
    },
    {
      "cell_type": "code",
      "source": [
        "import asyncio\n",
        "import aiohttp\n",
        "import nest_asyncio\n",
        "import json\n",
        "\n",
        "nest_asyncio.apply()\n",
        "\n",
        "# define the base URL and parameters\n",
        "quin_url = 'https://empty-meadow-488.fly.dev/api2'\n",
        "\n",
        "async def fetchResutlsV2(url, claim):\n",
        "  params = {'query': claim }\n",
        "  async with aiohttp.ClientSession() as session:\n",
        "        async with session.get(url, params=params) as response:\n",
        "            content = await response.text()\n",
        "            return content\n",
        "\n",
        "async def evaluateV2(df):\n",
        "  for i in tqdm(range(len(df))):\n",
        "    hypothesis = df.loc[i, 'decomp-subclaims']\n",
        "    hypothesis = hypothesis.split(\"\\\";\\\"\")\n",
        "    \n",
        "    totalSupporting = 0\n",
        "    totalRefuting = 0\n",
        "    numSupporting = []\n",
        "    numRefuting = []\n",
        "    numSubQLabel = []\n",
        "    allEvi = []\n",
        "    \n",
        "    if i in [111,163]:\n",
        "      continue\n",
        "\n",
        "    for j in tqdm(range(len(hypothesis))):\n",
        "      claim = hypothesis[j].strip()\n",
        "      if claim != \"\":\n",
        "        response = await fetchResutlsV2(quin_url, claim)\n",
        "        response = json.loads(response)\n",
        "        respArr = response['data']\n",
        "    \n",
        "      if respArr['type'] == \"statement\":\n",
        "        totalSupporting += respArr['supporting']\n",
        "        totalRefuting += respArr['refuting']\n",
        "        \n",
        "        numSupporting.append(respArr['supporting'])\n",
        "        numRefuting.append(respArr['refuting'])\n",
        "        numSubQLabel.append(respArr['veracity_rating'])\n",
        "        \n",
        "        evidence = respArr['results']\n",
        "        evidenceStore = \"\"\n",
        "        for k in range(len(evidence)):\n",
        "          evidenceStore += evidence[k]['snippet']\n",
        "        allEvi.append(evidenceStore)\n",
        "      else:\n",
        "        numSupporting.append(0)\n",
        "        numRefuting.append(0)\n",
        "        numSubQLabel.append(\"Unable to evaluate\")\n",
        "        evidence = respArr['results']\n",
        "        evidenceStore = \"\"\n",
        "        for k in range(len(evidence)):\n",
        "          evidenceStore += evidence[k]['snippet']\n",
        "        allEvi.append(evidenceStore)\n",
        "    \n",
        "    numSupporting = list(map(str, numSupporting))\n",
        "    numRefuting = list(map(str, numRefuting))\n",
        "\n",
        "    tmp = \"\"\n",
        "    for val in numSupporting:\n",
        "      tmp += val + \";\"\n",
        "    numSupporting = tmp\n",
        "\n",
        "    tmp2 = \"\"\n",
        "    for val in numRefuting:\n",
        "      tmp2 += val + \";\"\n",
        "    numRefuting = tmp2\n",
        "\n",
        "    tmp3 = \"\"\n",
        "    for val in numSubQLabel:\n",
        "      tmp3 += val + \";\"\n",
        "    numSubQLabel = tmp3\n",
        "\n",
        "    tmp4 = \"\"\n",
        "    for val in allEvi:\n",
        "      tmp4 += val + \";\"\n",
        "    allEvi = tmp4\n",
        "\n",
        "    print(numSupporting)\n",
        "    print(totalSupporting)\n",
        "    print(numRefuting)\n",
        "    print(totalRefuting)\n",
        "\n",
        "    df.loc[i, 'decomp-total-support'] = totalSupporting\n",
        "    df.loc[i, 'decomp-total-refute'] = totalRefuting\n",
        "    df.loc[i, 'decomp-supporting'] = numSupporting\n",
        "    df.loc[i, 'decomp-refuting'] = numRefuting\n",
        "    df.loc[i, 'decomp-label'] = numSubQLabel\n",
        "    df.loc[i, 'decomp-evidence'] = allEvi\n",
        "\n",
        "# print the response content\n",
        "asyncio.run(evaluateV2(dfTest))"
      ],
      "metadata": {
        "colab": {
          "base_uri": "https://localhost:8080/"
        },
        "id": "FV9LOg9_piLG",
        "outputId": "c47a8c23-c17b-4ddf-f31b-f81cd1760130"
      },
      "execution_count": null,
      "outputs": [
        {
          "output_type": "stream",
          "name": "stderr",
          "text": [
            "  0%|          | 0/200 [00:00<?, ?it/s]\n",
            "  0%|          | 0/3 [00:00<?, ?it/s]\u001b[A\n",
            " 33%|███▎      | 1/3 [00:00<00:01,  1.16it/s]\u001b[A\n",
            " 67%|██████▋   | 2/3 [00:01<00:00,  1.03it/s]\u001b[A\n",
            "100%|██████████| 3/3 [00:02<00:00,  1.21it/s]\n",
            "  0%|          | 1/200 [00:02<08:15,  2.49s/it]"
          ]
        },
        {
          "output_type": "stream",
          "name": "stdout",
          "text": [
            "0;2;0;\n",
            "2\n",
            "0;0;1;\n",
            "1\n"
          ]
        },
        {
          "output_type": "stream",
          "name": "stderr",
          "text": [
            "\n",
            "  0%|          | 0/4 [00:00<?, ?it/s]\u001b[A\n",
            " 25%|██▌       | 1/4 [00:00<00:00,  3.44it/s]\u001b[A\n",
            " 50%|█████     | 2/4 [00:00<00:00,  3.19it/s]\u001b[A\n",
            " 75%|███████▌  | 3/4 [00:01<00:00,  1.42it/s]\u001b[A\n",
            "100%|██████████| 4/4 [00:02<00:00,  1.37it/s]\n",
            "  1%|          | 2/200 [00:05<09:04,  2.75s/it]"
          ]
        },
        {
          "output_type": "stream",
          "name": "stdout",
          "text": [
            "1;6;0;5;\n",
            "12\n",
            "0;0;4;2;\n",
            "6\n"
          ]
        },
        {
          "output_type": "stream",
          "name": "stderr",
          "text": [
            "\n",
            "  0%|          | 0/4 [00:00<?, ?it/s]\u001b[A\n",
            " 25%|██▌       | 1/4 [00:00<00:01,  2.10it/s]\u001b[A\n",
            " 50%|█████     | 2/4 [00:00<00:00,  2.69it/s]\u001b[A\n",
            " 75%|███████▌  | 3/4 [00:01<00:00,  3.04it/s]\u001b[A\n",
            "100%|██████████| 4/4 [00:01<00:00,  2.86it/s]\n",
            "  2%|▏         | 3/200 [00:06<07:01,  2.14s/it]"
          ]
        },
        {
          "output_type": "stream",
          "name": "stdout",
          "text": [
            "0;1;1;1;\n",
            "3\n",
            "0;0;0;3;\n",
            "3\n"
          ]
        },
        {
          "output_type": "stream",
          "name": "stderr",
          "text": [
            "\n",
            "  0%|          | 0/3 [00:00<?, ?it/s]\u001b[A\n",
            " 33%|███▎      | 1/3 [00:00<00:01,  1.35it/s]\u001b[A\n",
            " 67%|██████▋   | 2/3 [00:01<00:00,  1.23it/s]\u001b[A\n",
            "100%|██████████| 3/3 [00:02<00:00,  1.40it/s]\n",
            "  2%|▏         | 4/200 [00:09<07:01,  2.15s/it]"
          ]
        },
        {
          "output_type": "stream",
          "name": "stdout",
          "text": [
            "7;0;0;\n",
            "7\n",
            "8;0;2;\n",
            "10\n"
          ]
        },
        {
          "output_type": "stream",
          "name": "stderr",
          "text": [
            "\n",
            "  0%|          | 0/3 [00:00<?, ?it/s]\u001b[A\n",
            " 33%|███▎      | 1/3 [00:00<00:00,  2.75it/s]\u001b[A\n",
            " 67%|██████▋   | 2/3 [00:00<00:00,  2.52it/s]\u001b[A\n",
            "100%|██████████| 3/3 [00:01<00:00,  2.24it/s]\n",
            "  2%|▎         | 5/200 [00:10<06:03,  1.86s/it]"
          ]
        },
        {
          "output_type": "stream",
          "name": "stdout",
          "text": [
            "2;8;0;\n",
            "10\n",
            "5;0;9;\n",
            "14\n"
          ]
        },
        {
          "output_type": "stream",
          "name": "stderr",
          "text": [
            "\n",
            "  0%|          | 0/3 [00:00<?, ?it/s]\u001b[A\n",
            " 33%|███▎      | 1/3 [00:00<00:00,  2.21it/s]\u001b[A\n",
            " 67%|██████▋   | 2/3 [00:00<00:00,  2.75it/s]\u001b[A\n",
            "100%|██████████| 3/3 [00:01<00:00,  2.90it/s]\n",
            "  3%|▎         | 6/200 [00:11<05:07,  1.58s/it]"
          ]
        },
        {
          "output_type": "stream",
          "name": "stdout",
          "text": [
            "2;3;0;\n",
            "5\n",
            "0;0;0;\n",
            "0\n"
          ]
        },
        {
          "output_type": "stream",
          "name": "stderr",
          "text": [
            "\n",
            "  0%|          | 0/2 [00:00<?, ?it/s]\u001b[A\n",
            " 50%|█████     | 1/2 [00:00<00:00,  3.53it/s]\u001b[A\n",
            "100%|██████████| 2/2 [00:00<00:00,  3.48it/s]\n",
            "  4%|▎         | 7/200 [00:11<04:02,  1.26s/it]"
          ]
        },
        {
          "output_type": "stream",
          "name": "stdout",
          "text": [
            "5;4;\n",
            "9\n",
            "1;1;\n",
            "2\n"
          ]
        },
        {
          "output_type": "stream",
          "name": "stderr",
          "text": [
            "\n",
            "  0%|          | 0/3 [00:00<?, ?it/s]\u001b[A\n",
            " 33%|███▎      | 1/3 [00:00<00:01,  1.63it/s]\u001b[A\n",
            " 67%|██████▋   | 2/3 [00:00<00:00,  2.19it/s]\u001b[A\n",
            "100%|██████████| 3/3 [00:01<00:00,  1.96it/s]\n",
            "  4%|▍         | 8/200 [00:13<04:19,  1.35s/it]"
          ]
        },
        {
          "output_type": "stream",
          "name": "stdout",
          "text": [
            "0;1;0;\n",
            "1\n",
            "2;8;1;\n",
            "11\n"
          ]
        },
        {
          "output_type": "stream",
          "name": "stderr",
          "text": [
            "\n",
            "  0%|          | 0/3 [00:00<?, ?it/s]\u001b[A\n",
            " 33%|███▎      | 1/3 [00:00<00:00,  3.22it/s]\u001b[A\n",
            " 67%|██████▋   | 2/3 [00:00<00:00,  3.36it/s]\u001b[A\n",
            "100%|██████████| 3/3 [00:00<00:00,  3.32it/s]\n",
            "  4%|▍         | 9/200 [00:14<03:51,  1.21s/it]"
          ]
        },
        {
          "output_type": "stream",
          "name": "stdout",
          "text": [
            "1;1;0;\n",
            "2\n",
            "0;0;1;\n",
            "1\n"
          ]
        },
        {
          "output_type": "stream",
          "name": "stderr",
          "text": [
            "\n",
            "  0%|          | 0/3 [00:00<?, ?it/s]\u001b[A\n",
            " 33%|███▎      | 1/3 [00:00<00:00,  2.43it/s]\u001b[A\n",
            " 67%|██████▋   | 2/3 [00:00<00:00,  2.61it/s]\u001b[A\n",
            "100%|██████████| 3/3 [00:01<00:00,  2.80it/s]\n",
            "  5%|▌         | 10/200 [00:15<03:42,  1.17s/it]"
          ]
        },
        {
          "output_type": "stream",
          "name": "stdout",
          "text": [
            "8;8;2;\n",
            "18\n",
            "5;2;3;\n",
            "10\n"
          ]
        },
        {
          "output_type": "stream",
          "name": "stderr",
          "text": [
            "\n",
            "  0%|          | 0/3 [00:00<?, ?it/s]\u001b[A\n",
            " 33%|███▎      | 1/3 [00:00<00:01,  1.71it/s]\u001b[A\n",
            " 67%|██████▋   | 2/3 [00:00<00:00,  2.40it/s]\u001b[A\n",
            "100%|██████████| 3/3 [00:01<00:00,  2.55it/s]\n",
            "  6%|▌         | 11/200 [00:16<03:42,  1.18s/it]"
          ]
        },
        {
          "output_type": "stream",
          "name": "stdout",
          "text": [
            "5;0;3;\n",
            "8\n",
            "5;1;0;\n",
            "6\n"
          ]
        },
        {
          "output_type": "stream",
          "name": "stderr",
          "text": [
            "\n",
            "  0%|          | 0/3 [00:00<?, ?it/s]\u001b[A\n",
            " 33%|███▎      | 1/3 [00:00<00:00,  2.93it/s]\u001b[A\n",
            " 67%|██████▋   | 2/3 [00:00<00:00,  3.03it/s]\u001b[A\n",
            "100%|██████████| 3/3 [00:00<00:00,  3.01it/s]\n",
            "  6%|▌         | 12/200 [00:17<03:31,  1.13s/it]"
          ]
        },
        {
          "output_type": "stream",
          "name": "stdout",
          "text": [
            "2;1;2;\n",
            "5\n",
            "1;0;0;\n",
            "1\n"
          ]
        },
        {
          "output_type": "stream",
          "name": "stderr",
          "text": [
            "\n",
            "  0%|          | 0/3 [00:00<?, ?it/s]\u001b[A\n",
            " 33%|███▎      | 1/3 [00:00<00:01,  1.84it/s]\u001b[A\n",
            " 67%|██████▋   | 2/3 [00:00<00:00,  2.50it/s]\u001b[A\n",
            "100%|██████████| 3/3 [00:01<00:00,  1.75it/s]\n",
            "  6%|▋         | 13/200 [00:19<04:05,  1.31s/it]"
          ]
        },
        {
          "output_type": "stream",
          "name": "stdout",
          "text": [
            "2;3;2;\n",
            "7\n",
            "0;1;0;\n",
            "1\n"
          ]
        },
        {
          "output_type": "stream",
          "name": "stderr",
          "text": [
            "\n",
            "  0%|          | 0/3 [00:00<?, ?it/s]\u001b[A\n",
            " 33%|███▎      | 1/3 [00:00<00:00,  3.17it/s]\u001b[A\n",
            " 67%|██████▋   | 2/3 [00:00<00:00,  3.42it/s]\u001b[A\n",
            "100%|██████████| 3/3 [00:00<00:00,  3.38it/s]\n",
            "  7%|▋         | 14/200 [00:20<03:40,  1.19s/it]"
          ]
        },
        {
          "output_type": "stream",
          "name": "stdout",
          "text": [
            "0;1;0;\n",
            "1\n",
            "2;0;2;\n",
            "4\n"
          ]
        },
        {
          "output_type": "stream",
          "name": "stderr",
          "text": [
            "\n",
            "  0%|          | 0/2 [00:00<?, ?it/s]\u001b[A\n",
            " 50%|█████     | 1/2 [00:00<00:00,  3.23it/s]\u001b[A\n",
            "100%|██████████| 2/2 [00:00<00:00,  3.18it/s]\n",
            "  8%|▊         | 15/200 [00:20<03:09,  1.02s/it]"
          ]
        },
        {
          "output_type": "stream",
          "name": "stdout",
          "text": [
            "5;9;\n",
            "14\n",
            "7;3;\n",
            "10\n"
          ]
        },
        {
          "output_type": "stream",
          "name": "stderr",
          "text": [
            "\n",
            "  0%|          | 0/3 [00:00<?, ?it/s]\u001b[A\n",
            " 33%|███▎      | 1/3 [00:00<00:00,  3.52it/s]\u001b[A\n",
            " 67%|██████▋   | 2/3 [00:01<00:00,  1.33it/s]\u001b[A\n",
            "100%|██████████| 3/3 [00:02<00:00,  1.19it/s]\n",
            "  8%|▊         | 16/200 [00:23<04:31,  1.48s/it]"
          ]
        },
        {
          "output_type": "stream",
          "name": "stdout",
          "text": [
            "5;1;1;\n",
            "7\n",
            "2;7;2;\n",
            "11\n"
          ]
        },
        {
          "output_type": "stream",
          "name": "stderr",
          "text": [
            "\n",
            "  0%|          | 0/3 [00:00<?, ?it/s]\u001b[A\n",
            " 33%|███▎      | 1/3 [00:00<00:00,  3.13it/s]\u001b[A\n",
            " 67%|██████▋   | 2/3 [00:01<00:00,  1.61it/s]\u001b[A\n",
            "100%|██████████| 3/3 [00:01<00:00,  2.04it/s]\n",
            "  8%|▊         | 17/200 [00:25<04:30,  1.48s/it]"
          ]
        },
        {
          "output_type": "stream",
          "name": "stdout",
          "text": [
            "2;0;4;\n",
            "6\n",
            "0;0;1;\n",
            "1\n"
          ]
        },
        {
          "output_type": "stream",
          "name": "stderr",
          "text": [
            "\n",
            "  0%|          | 0/2 [00:00<?, ?it/s]\u001b[A\n",
            " 50%|█████     | 1/2 [00:00<00:00,  3.00it/s]\u001b[A\n",
            "100%|██████████| 2/2 [00:00<00:00,  2.51it/s]\n",
            "  9%|▉         | 18/200 [00:25<03:52,  1.28s/it]"
          ]
        },
        {
          "output_type": "stream",
          "name": "stdout",
          "text": [
            "2;0;\n",
            "2\n",
            "4;0;\n",
            "4\n"
          ]
        },
        {
          "output_type": "stream",
          "name": "stderr",
          "text": [
            "\n",
            "  0%|          | 0/3 [00:00<?, ?it/s]\u001b[A\n",
            " 33%|███▎      | 1/3 [00:00<00:00,  2.40it/s]\u001b[A\n",
            " 67%|██████▋   | 2/3 [00:00<00:00,  2.43it/s]\u001b[A\n",
            "100%|██████████| 3/3 [00:01<00:00,  2.41it/s]\n",
            " 10%|▉         | 19/200 [00:27<03:50,  1.27s/it]"
          ]
        },
        {
          "output_type": "stream",
          "name": "stdout",
          "text": [
            "4;9;0;\n",
            "13\n",
            "6;1;0;\n",
            "7\n"
          ]
        },
        {
          "output_type": "stream",
          "name": "stderr",
          "text": [
            "\n",
            "  0%|          | 0/6 [00:00<?, ?it/s]\u001b[A\n",
            " 17%|█▋        | 1/6 [00:00<00:01,  2.91it/s]\u001b[A\n",
            " 33%|███▎      | 2/6 [00:00<00:02,  1.99it/s]\u001b[A\n",
            " 50%|█████     | 3/6 [00:01<00:01,  1.95it/s]\u001b[A\n",
            " 67%|██████▋   | 4/6 [00:01<00:00,  2.25it/s]\u001b[A\n",
            " 83%|████████▎ | 5/6 [00:02<00:00,  2.23it/s]\u001b[A\n",
            "100%|██████████| 6/6 [00:02<00:00,  2.14it/s]\n",
            " 10%|█         | 20/200 [00:29<05:12,  1.74s/it]"
          ]
        },
        {
          "output_type": "stream",
          "name": "stdout",
          "text": [
            "3;1;0;5;1;1;\n",
            "11\n",
            "2;3;2;7;7;1;\n",
            "22\n"
          ]
        },
        {
          "output_type": "stream",
          "name": "stderr",
          "text": [
            "\n",
            "  0%|          | 0/4 [00:00<?, ?it/s]\u001b[A\n",
            " 25%|██▌       | 1/4 [00:00<00:02,  1.28it/s]\u001b[A\n",
            " 50%|█████     | 2/4 [00:01<00:01,  1.50it/s]\u001b[A\n",
            " 75%|███████▌  | 3/4 [00:01<00:00,  1.55it/s]\u001b[A\n",
            "100%|██████████| 4/4 [00:02<00:00,  1.57it/s]\n",
            " 10%|█         | 21/200 [00:32<05:54,  1.98s/it]"
          ]
        },
        {
          "output_type": "stream",
          "name": "stdout",
          "text": [
            "0;1;1;1;\n",
            "3\n",
            "2;0;1;0;\n",
            "3\n"
          ]
        },
        {
          "output_type": "stream",
          "name": "stderr",
          "text": [
            "\n",
            "  0%|          | 0/3 [00:00<?, ?it/s]\u001b[A\n",
            " 33%|███▎      | 1/3 [00:00<00:00,  2.97it/s]\u001b[A\n",
            " 67%|██████▋   | 2/3 [00:00<00:00,  3.22it/s]\u001b[A\n",
            "100%|██████████| 3/3 [00:00<00:00,  3.11it/s]\n",
            " 11%|█         | 22/200 [00:33<04:58,  1.68s/it]"
          ]
        },
        {
          "output_type": "stream",
          "name": "stdout",
          "text": [
            "0;3;0;\n",
            "3\n",
            "2;2;14;\n",
            "18\n"
          ]
        },
        {
          "output_type": "stream",
          "name": "stderr",
          "text": [
            "\n",
            "  0%|          | 0/4 [00:00<?, ?it/s]\u001b[A\n",
            " 25%|██▌       | 1/4 [00:00<00:01,  2.95it/s]\u001b[A\n",
            " 50%|█████     | 2/4 [00:00<00:00,  2.97it/s]\u001b[A\n",
            " 75%|███████▌  | 3/4 [00:01<00:00,  2.99it/s]\u001b[A\n",
            "100%|██████████| 4/4 [00:01<00:00,  2.59it/s]\n",
            " 12%|█▏        | 23/200 [00:34<04:50,  1.64s/it]"
          ]
        },
        {
          "output_type": "stream",
          "name": "stdout",
          "text": [
            "6;9;9;9;\n",
            "33\n",
            "3;4;4;4;\n",
            "15\n"
          ]
        },
        {
          "output_type": "stream",
          "name": "stderr",
          "text": [
            "\n",
            "  0%|          | 0/4 [00:00<?, ?it/s]\u001b[A\n",
            " 25%|██▌       | 1/4 [00:01<00:03,  1.05s/it]\u001b[A\n",
            " 50%|█████     | 2/4 [00:01<00:01,  1.03it/s]\u001b[A\n",
            " 75%|███████▌  | 3/4 [00:02<00:00,  1.22it/s]\u001b[A\n",
            "100%|██████████| 4/4 [00:03<00:00,  1.29it/s]\n",
            " 12%|█▏        | 24/200 [00:38<06:05,  2.08s/it]"
          ]
        },
        {
          "output_type": "stream",
          "name": "stdout",
          "text": [
            "2;3;0;0;\n",
            "5\n",
            "2;1;1;6;\n",
            "10\n"
          ]
        },
        {
          "output_type": "stream",
          "name": "stderr",
          "text": [
            "\n",
            "  0%|          | 0/4 [00:00<?, ?it/s]\u001b[A\n",
            " 25%|██▌       | 1/4 [00:00<00:02,  1.20it/s]\u001b[A\n",
            " 50%|█████     | 2/4 [00:01<00:01,  1.46it/s]\u001b[A\n",
            " 75%|███████▌  | 3/4 [00:01<00:00,  1.95it/s]\u001b[A\n",
            "100%|██████████| 4/4 [00:02<00:00,  1.77it/s]\n",
            " 12%|█▎        | 25/200 [00:40<06:14,  2.14s/it]"
          ]
        },
        {
          "output_type": "stream",
          "name": "stdout",
          "text": [
            "4;7;2;2;\n",
            "15\n",
            "0;0;1;1;\n",
            "2\n"
          ]
        },
        {
          "output_type": "stream",
          "name": "stderr",
          "text": [
            "\n",
            "  0%|          | 0/3 [00:00<?, ?it/s]\u001b[A\n",
            " 33%|███▎      | 1/3 [00:00<00:00,  3.35it/s]\u001b[A\n",
            " 67%|██████▋   | 2/3 [00:00<00:00,  3.44it/s]\u001b[A\n",
            "100%|██████████| 3/3 [00:00<00:00,  3.18it/s]\n",
            " 13%|█▎        | 26/200 [00:41<05:10,  1.78s/it]"
          ]
        },
        {
          "output_type": "stream",
          "name": "stdout",
          "text": [
            "4;0;6;\n",
            "10\n",
            "0;0;3;\n",
            "3\n"
          ]
        },
        {
          "output_type": "stream",
          "name": "stderr",
          "text": [
            "\n",
            "  0%|          | 0/3 [00:00<?, ?it/s]\u001b[A\n",
            " 33%|███▎      | 1/3 [00:00<00:00,  2.34it/s]\u001b[A\n",
            " 67%|██████▋   | 2/3 [00:01<00:00,  1.90it/s]\u001b[A\n",
            "100%|██████████| 3/3 [00:01<00:00,  2.22it/s]\n",
            " 14%|█▎        | 27/200 [00:42<04:46,  1.66s/it]"
          ]
        },
        {
          "output_type": "stream",
          "name": "stdout",
          "text": [
            "2;1;4;\n",
            "7\n",
            "2;0;0;\n",
            "2\n"
          ]
        },
        {
          "output_type": "stream",
          "name": "stderr",
          "text": [
            "\n",
            "  0%|          | 0/4 [00:00<?, ?it/s]\u001b[A\n",
            " 25%|██▌       | 1/4 [00:00<00:01,  2.05it/s]\u001b[A\n",
            " 50%|█████     | 2/4 [00:00<00:00,  2.32it/s]\u001b[A\n",
            " 75%|███████▌  | 3/4 [00:01<00:00,  2.36it/s]\u001b[A\n",
            "100%|██████████| 4/4 [00:01<00:00,  2.11it/s]\n",
            " 14%|█▍        | 28/200 [00:44<04:58,  1.73s/it]"
          ]
        },
        {
          "output_type": "stream",
          "name": "stdout",
          "text": [
            "1;1;1;2;\n",
            "5\n",
            "1;14;0;0;\n",
            "15\n"
          ]
        },
        {
          "output_type": "stream",
          "name": "stderr",
          "text": [
            "\n",
            "  0%|          | 0/3 [00:00<?, ?it/s]\u001b[A\n",
            " 33%|███▎      | 1/3 [00:00<00:00,  3.07it/s]\u001b[A\n",
            " 67%|██████▋   | 2/3 [00:00<00:00,  3.37it/s]\u001b[A\n",
            "100%|██████████| 3/3 [00:01<00:00,  2.93it/s]\n",
            " 14%|█▍        | 29/200 [00:45<04:20,  1.52s/it]"
          ]
        },
        {
          "output_type": "stream",
          "name": "stdout",
          "text": [
            "8;2;0;\n",
            "10\n",
            "0;0;1;\n",
            "1\n"
          ]
        },
        {
          "output_type": "stream",
          "name": "stderr",
          "text": [
            "\n",
            "  0%|          | 0/4 [00:00<?, ?it/s]\u001b[A\n",
            " 25%|██▌       | 1/4 [00:00<00:00,  3.19it/s]\u001b[A\n",
            " 50%|█████     | 2/4 [00:00<00:00,  3.16it/s]\u001b[A\n",
            " 75%|███████▌  | 3/4 [00:00<00:00,  3.36it/s]\u001b[A\n",
            "100%|██████████| 4/4 [00:01<00:00,  3.37it/s]\n",
            " 15%|█▌        | 30/200 [00:46<04:02,  1.43s/it]"
          ]
        },
        {
          "output_type": "stream",
          "name": "stdout",
          "text": [
            "10;6;0;1;\n",
            "17\n",
            "1;0;0;0;\n",
            "1\n"
          ]
        },
        {
          "output_type": "stream",
          "name": "stderr",
          "text": [
            "\n",
            "  0%|          | 0/3 [00:00<?, ?it/s]\u001b[A\n",
            " 33%|███▎      | 1/3 [00:00<00:00,  2.85it/s]\u001b[A\n",
            " 67%|██████▋   | 2/3 [00:00<00:00,  2.82it/s]\u001b[A\n",
            "100%|██████████| 3/3 [00:01<00:00,  2.88it/s]\n",
            " 16%|█▌        | 31/200 [00:47<03:42,  1.31s/it]"
          ]
        },
        {
          "output_type": "stream",
          "name": "stdout",
          "text": [
            "1;0;1;\n",
            "2\n",
            "11;1;9;\n",
            "21\n"
          ]
        },
        {
          "output_type": "stream",
          "name": "stderr",
          "text": [
            "\n",
            "  0%|          | 0/3 [00:00<?, ?it/s]\u001b[A\n",
            " 33%|███▎      | 1/3 [00:00<00:01,  1.94it/s]\u001b[A\n",
            " 67%|██████▋   | 2/3 [00:00<00:00,  2.59it/s]\u001b[A\n",
            "100%|██████████| 3/3 [00:01<00:00,  2.14it/s]\n",
            " 16%|█▌        | 32/200 [00:49<03:45,  1.34s/it]"
          ]
        },
        {
          "output_type": "stream",
          "name": "stdout",
          "text": [
            "2;0;13;\n",
            "15\n",
            "1;1;0;\n",
            "2\n"
          ]
        },
        {
          "output_type": "stream",
          "name": "stderr",
          "text": [
            "\n",
            "  0%|          | 0/3 [00:00<?, ?it/s]\u001b[A\n",
            " 33%|███▎      | 1/3 [00:00<00:01,  1.62it/s]\u001b[A\n",
            " 67%|██████▋   | 2/3 [00:00<00:00,  2.27it/s]\u001b[A\n",
            "100%|██████████| 3/3 [00:01<00:00,  1.62it/s]\n",
            " 16%|█▋        | 33/200 [00:51<04:10,  1.50s/it]"
          ]
        },
        {
          "output_type": "stream",
          "name": "stdout",
          "text": [
            "2;7;10;\n",
            "19\n",
            "0;0;0;\n",
            "0\n"
          ]
        },
        {
          "output_type": "stream",
          "name": "stderr",
          "text": [
            "\n",
            "  0%|          | 0/3 [00:00<?, ?it/s]\u001b[A\n",
            " 33%|███▎      | 1/3 [00:00<00:00,  3.23it/s]\u001b[A\n",
            " 67%|██████▋   | 2/3 [00:00<00:00,  2.19it/s]\u001b[A\n",
            "100%|██████████| 3/3 [00:01<00:00,  2.42it/s]\n",
            " 17%|█▋        | 34/200 [00:52<03:56,  1.42s/it]"
          ]
        },
        {
          "output_type": "stream",
          "name": "stdout",
          "text": [
            "2;1;4;\n",
            "7\n",
            "6;4;1;\n",
            "11\n"
          ]
        },
        {
          "output_type": "stream",
          "name": "stderr",
          "text": [
            "\n",
            "  0%|          | 0/3 [00:00<?, ?it/s]\u001b[A\n",
            " 33%|███▎      | 1/3 [00:01<00:02,  1.32s/it]\u001b[A\n",
            " 67%|██████▋   | 2/3 [00:01<00:00,  1.40it/s]\u001b[A\n",
            "100%|██████████| 3/3 [00:01<00:00,  1.57it/s]\n",
            " 18%|█▊        | 35/200 [00:54<04:20,  1.58s/it]"
          ]
        },
        {
          "output_type": "stream",
          "name": "stdout",
          "text": [
            "0;1;3;\n",
            "4\n",
            "2;1;0;\n",
            "3\n"
          ]
        },
        {
          "output_type": "stream",
          "name": "stderr",
          "text": [
            "\n",
            "  0%|          | 0/3 [00:00<?, ?it/s]\u001b[A\n",
            " 33%|███▎      | 1/3 [00:00<00:00,  3.59it/s]\u001b[A\n",
            " 67%|██████▋   | 2/3 [00:00<00:00,  3.17it/s]\u001b[A\n",
            "100%|██████████| 3/3 [00:01<00:00,  2.62it/s]\n",
            " 18%|█▊        | 36/200 [00:55<03:58,  1.45s/it]"
          ]
        },
        {
          "output_type": "stream",
          "name": "stdout",
          "text": [
            "0;0;0;\n",
            "0\n",
            "4;0;3;\n",
            "7\n"
          ]
        },
        {
          "output_type": "stream",
          "name": "stderr",
          "text": [
            "\n",
            "  0%|          | 0/3 [00:00<?, ?it/s]\u001b[A\n",
            " 33%|███▎      | 1/3 [00:00<00:00,  3.52it/s]\u001b[A\n",
            " 67%|██████▋   | 2/3 [00:00<00:00,  3.44it/s]\u001b[A\n",
            "100%|██████████| 3/3 [00:00<00:00,  3.43it/s]\n",
            " 18%|█▊        | 37/200 [00:56<03:29,  1.28s/it]"
          ]
        },
        {
          "output_type": "stream",
          "name": "stdout",
          "text": [
            "2;1;0;\n",
            "3\n",
            "1;0;1;\n",
            "2\n"
          ]
        },
        {
          "output_type": "stream",
          "name": "stderr",
          "text": [
            "\n",
            "  0%|          | 0/3 [00:00<?, ?it/s]\u001b[A\n",
            " 33%|███▎      | 1/3 [00:00<00:00,  3.43it/s]\u001b[A\n",
            " 67%|██████▋   | 2/3 [00:09<00:05,  5.58s/it]\u001b[A\n",
            "100%|██████████| 3/3 [00:19<00:00,  6.48s/it]\n",
            " 19%|█▉        | 38/200 [01:15<18:10,  6.73s/it]"
          ]
        },
        {
          "output_type": "stream",
          "name": "stdout",
          "text": [
            "1;0;3;\n",
            "4\n",
            "4;0;4;\n",
            "8\n"
          ]
        },
        {
          "output_type": "stream",
          "name": "stderr",
          "text": [
            "\n",
            "  0%|          | 0/3 [00:00<?, ?it/s]\u001b[A\n",
            " 33%|███▎      | 1/3 [00:05<00:10,  5.28s/it]\u001b[A\n",
            " 67%|██████▋   | 2/3 [00:13<00:07,  7.19s/it]\u001b[A\n",
            "100%|██████████| 3/3 [00:23<00:00,  7.70s/it]\n",
            " 20%|█▉        | 39/200 [01:38<31:14, 11.64s/it]"
          ]
        },
        {
          "output_type": "stream",
          "name": "stdout",
          "text": [
            "3;0;0;\n",
            "3\n",
            "0;0;0;\n",
            "0\n"
          ]
        },
        {
          "output_type": "stream",
          "name": "stderr",
          "text": [
            "\n",
            "  0%|          | 0/3 [00:00<?, ?it/s]\u001b[A\n",
            " 33%|███▎      | 1/3 [00:10<00:21, 10.85s/it]\u001b[A\n",
            " 67%|██████▋   | 2/3 [00:22<00:11, 11.16s/it]\u001b[A\n",
            "100%|██████████| 3/3 [00:31<00:00, 10.52s/it]\n",
            " 20%|██        | 40/200 [02:10<46:59, 17.62s/it]"
          ]
        },
        {
          "output_type": "stream",
          "name": "stdout",
          "text": [
            "0;1;0;\n",
            "1\n",
            "0;0;2;\n",
            "2\n"
          ]
        },
        {
          "output_type": "stream",
          "name": "stderr",
          "text": [
            "\n",
            "  0%|          | 0/2 [00:00<?, ?it/s]\u001b[A\n",
            " 50%|█████     | 1/2 [00:07<00:07,  7.52s/it]\u001b[A\n",
            "100%|██████████| 2/2 [00:15<00:00,  7.67s/it]\n",
            " 20%|██        | 41/200 [02:25<44:53, 16.94s/it]"
          ]
        },
        {
          "output_type": "stream",
          "name": "stdout",
          "text": [
            "1;1;\n",
            "2\n",
            "0;1;\n",
            "1\n"
          ]
        },
        {
          "output_type": "stream",
          "name": "stderr",
          "text": [
            "\n",
            "  0%|          | 0/3 [00:00<?, ?it/s]\u001b[A\n",
            " 33%|███▎      | 1/3 [00:09<00:18,  9.25s/it]\u001b[A\n",
            " 67%|██████▋   | 2/3 [00:19<00:09,  9.60s/it]\u001b[A\n",
            "100%|██████████| 3/3 [00:28<00:00,  9.34s/it]\n",
            " 21%|██        | 42/200 [02:53<53:22, 20.27s/it]"
          ]
        },
        {
          "output_type": "stream",
          "name": "stdout",
          "text": [
            "1;6;1;\n",
            "8\n",
            "1;1;0;\n",
            "2\n"
          ]
        },
        {
          "output_type": "stream",
          "name": "stderr",
          "text": [
            "\n",
            "  0%|          | 0/3 [00:00<?, ?it/s]\u001b[A\n",
            " 33%|███▎      | 1/3 [00:09<00:19,  9.88s/it]\u001b[A\n",
            " 67%|██████▋   | 2/3 [00:17<00:08,  8.82s/it]\u001b[A\n",
            "100%|██████████| 3/3 [00:26<00:00,  8.94s/it]\n",
            " 22%|██▏       | 43/200 [03:20<58:11, 22.24s/it]"
          ]
        },
        {
          "output_type": "stream",
          "name": "stdout",
          "text": [
            "2;8;4;\n",
            "14\n",
            "7;3;6;\n",
            "16\n"
          ]
        },
        {
          "output_type": "stream",
          "name": "stderr",
          "text": [
            "\n",
            "  0%|          | 0/3 [00:00<?, ?it/s]\u001b[A\n",
            " 33%|███▎      | 1/3 [00:05<00:10,  5.28s/it]\u001b[A\n",
            " 67%|██████▋   | 2/3 [00:15<00:08,  8.18s/it]\u001b[A\n",
            "100%|██████████| 3/3 [00:24<00:00,  8.28s/it]\n",
            " 22%|██▏       | 44/200 [03:45<59:50, 23.02s/it]"
          ]
        },
        {
          "output_type": "stream",
          "name": "stdout",
          "text": [
            "0;1;0;\n",
            "1\n",
            "0;1;1;\n",
            "2\n"
          ]
        },
        {
          "output_type": "stream",
          "name": "stderr",
          "text": [
            "\n",
            "  0%|          | 0/3 [00:00<?, ?it/s]\u001b[A\n",
            " 33%|███▎      | 1/3 [00:08<00:17,  8.79s/it]\u001b[A\n",
            " 67%|██████▋   | 2/3 [00:19<00:09,  9.67s/it]\u001b[A\n",
            "100%|██████████| 3/3 [00:26<00:00,  8.87s/it]\n",
            " 22%|██▎       | 45/200 [04:12<1:02:15, 24.10s/it]"
          ]
        },
        {
          "output_type": "stream",
          "name": "stdout",
          "text": [
            "2;3;0;\n",
            "5\n",
            "4;0;0;\n",
            "4\n"
          ]
        },
        {
          "output_type": "stream",
          "name": "stderr",
          "text": [
            "\n",
            "  0%|          | 0/3 [00:00<?, ?it/s]\u001b[A\n",
            " 33%|███▎      | 1/3 [00:07<00:15,  7.77s/it]\u001b[A\n",
            " 67%|██████▋   | 2/3 [00:14<00:07,  7.21s/it]\u001b[A\n",
            "100%|██████████| 3/3 [00:21<00:00,  7.31s/it]\n",
            " 23%|██▎       | 46/200 [04:34<1:00:12, 23.46s/it]"
          ]
        },
        {
          "output_type": "stream",
          "name": "stdout",
          "text": [
            "6;6;3;\n",
            "15\n",
            "0;1;0;\n",
            "1\n"
          ]
        },
        {
          "output_type": "stream",
          "name": "stderr",
          "text": [
            "\n",
            "  0%|          | 0/3 [00:00<?, ?it/s]\u001b[A\n",
            " 33%|███▎      | 1/3 [00:10<00:20, 10.34s/it]\u001b[A\n",
            " 67%|██████▋   | 2/3 [00:19<00:09,  9.76s/it]\u001b[A\n",
            "100%|██████████| 3/3 [00:32<00:00, 10.69s/it]\n",
            " 24%|██▎       | 47/200 [05:06<1:06:25, 26.05s/it]"
          ]
        },
        {
          "output_type": "stream",
          "name": "stdout",
          "text": [
            "1;2;0;\n",
            "3\n",
            "0;0;1;\n",
            "1\n"
          ]
        },
        {
          "output_type": "stream",
          "name": "stderr",
          "text": [
            "\n",
            "  0%|          | 0/3 [00:00<?, ?it/s]\u001b[A\n",
            " 33%|███▎      | 1/3 [00:10<00:20, 10.10s/it]\u001b[A\n",
            " 67%|██████▋   | 2/3 [00:19<00:09,  9.60s/it]\u001b[A\n",
            "100%|██████████| 3/3 [00:28<00:00,  9.46s/it]\n",
            " 24%|██▍       | 48/200 [05:34<1:07:46, 26.75s/it]"
          ]
        },
        {
          "output_type": "stream",
          "name": "stdout",
          "text": [
            "6;3;0;\n",
            "9\n",
            "4;2;0;\n",
            "6\n"
          ]
        },
        {
          "output_type": "stream",
          "name": "stderr",
          "text": [
            "\n",
            "  0%|          | 0/4 [00:00<?, ?it/s]\u001b[A\n",
            " 25%|██▌       | 1/4 [00:12<00:36, 12.05s/it]\u001b[A\n",
            " 50%|█████     | 2/4 [00:24<00:24, 12.24s/it]\u001b[A\n",
            " 75%|███████▌  | 3/4 [00:39<00:13, 13.70s/it]\u001b[A\n",
            "100%|██████████| 4/4 [00:54<00:00, 13.56s/it]\n",
            " 24%|██▍       | 49/200 [06:28<1:28:04, 35.00s/it]"
          ]
        },
        {
          "output_type": "stream",
          "name": "stdout",
          "text": [
            "1;1;0;0;\n",
            "2\n",
            "1;1;8;1;\n",
            "11\n"
          ]
        },
        {
          "output_type": "stream",
          "name": "stderr",
          "text": [
            "\n",
            "  0%|          | 0/3 [00:00<?, ?it/s]\u001b[A\n",
            " 33%|███▎      | 1/3 [00:04<00:08,  4.29s/it]\u001b[A\n",
            " 67%|██████▋   | 2/3 [00:14<00:07,  7.97s/it]\u001b[A\n",
            "100%|██████████| 3/3 [00:22<00:00,  7.45s/it]\n",
            " 25%|██▌       | 50/200 [06:51<1:18:01, 31.21s/it]"
          ]
        },
        {
          "output_type": "stream",
          "name": "stdout",
          "text": [
            "1;0;0;\n",
            "1\n",
            "0;0;0;\n",
            "0\n"
          ]
        },
        {
          "output_type": "stream",
          "name": "stderr",
          "text": [
            "\n",
            "  0%|          | 0/4 [00:00<?, ?it/s]\u001b[A\n",
            " 25%|██▌       | 1/4 [00:07<00:23,  7.79s/it]\u001b[A\n",
            " 50%|█████     | 2/4 [00:15<00:15,  7.63s/it]\u001b[A\n",
            " 75%|███████▌  | 3/4 [00:22<00:07,  7.59s/it]\u001b[A\n",
            "100%|██████████| 4/4 [00:29<00:00,  7.34s/it]\n",
            " 26%|██▌       | 51/200 [07:20<1:16:09, 30.66s/it]"
          ]
        },
        {
          "output_type": "stream",
          "name": "stdout",
          "text": [
            "1;0;0;0;\n",
            "1\n",
            "0;0;2;0;\n",
            "2\n"
          ]
        },
        {
          "output_type": "stream",
          "name": "stderr",
          "text": [
            "\n",
            "  0%|          | 0/3 [00:00<?, ?it/s]\u001b[A\n",
            " 33%|███▎      | 1/3 [00:26<00:52, 26.30s/it]\u001b[A\n",
            " 67%|██████▋   | 2/3 [00:38<00:18, 18.20s/it]\u001b[A\n",
            "100%|██████████| 3/3 [00:47<00:00, 15.71s/it]\n",
            " 26%|██▌       | 52/200 [08:07<1:27:50, 35.61s/it]"
          ]
        },
        {
          "output_type": "stream",
          "name": "stdout",
          "text": [
            "5;0;1;\n",
            "6\n",
            "0;0;0;\n",
            "0\n"
          ]
        },
        {
          "output_type": "stream",
          "name": "stderr",
          "text": [
            "\n",
            "  0%|          | 0/3 [00:00<?, ?it/s]\u001b[A\n",
            " 33%|███▎      | 1/3 [00:10<00:20, 10.07s/it]\u001b[A\n",
            " 67%|██████▋   | 2/3 [00:17<00:08,  8.74s/it]\u001b[A\n",
            "100%|██████████| 3/3 [00:29<00:00,  9.72s/it]\n",
            " 26%|██▋       | 53/200 [08:36<1:22:30, 33.68s/it]"
          ]
        },
        {
          "output_type": "stream",
          "name": "stdout",
          "text": [
            "1;5;1;\n",
            "7\n",
            "10;1;1;\n",
            "12\n"
          ]
        },
        {
          "output_type": "stream",
          "name": "stderr",
          "text": [
            "\n",
            "  0%|          | 0/3 [00:00<?, ?it/s]\u001b[A\n",
            " 33%|███▎      | 1/3 [00:07<00:15,  7.89s/it]\u001b[A\n",
            " 67%|██████▋   | 2/3 [00:16<00:08,  8.59s/it]\u001b[A\n",
            "100%|██████████| 3/3 [00:26<00:00,  8.86s/it]\n",
            " 27%|██▋       | 54/200 [09:03<1:16:47, 31.55s/it]"
          ]
        },
        {
          "output_type": "stream",
          "name": "stdout",
          "text": [
            "11;1;0;\n",
            "12\n",
            "1;7;0;\n",
            "8\n"
          ]
        },
        {
          "output_type": "stream",
          "name": "stderr",
          "text": [
            "\n",
            "  0%|          | 0/4 [00:00<?, ?it/s]\u001b[A\n",
            " 25%|██▌       | 1/4 [00:09<00:29,  9.79s/it]\u001b[A\n",
            " 50%|█████     | 2/4 [00:19<00:19,  9.88s/it]\u001b[A\n",
            " 75%|███████▌  | 3/4 [00:29<00:09,  9.67s/it]\u001b[A\n",
            "100%|██████████| 4/4 [00:38<00:00,  9.63s/it]\n",
            " 28%|██▊       | 55/200 [09:42<1:21:18, 33.65s/it]"
          ]
        },
        {
          "output_type": "stream",
          "name": "stdout",
          "text": [
            "4;0;6;0;\n",
            "10\n",
            "1;0;0;1;\n",
            "2\n"
          ]
        },
        {
          "output_type": "stream",
          "name": "stderr",
          "text": [
            "\n",
            "  0%|          | 0/4 [00:00<?, ?it/s]\u001b[A\n",
            " 25%|██▌       | 1/4 [00:09<00:27,  9.17s/it]\u001b[A\n",
            " 50%|█████     | 2/4 [00:16<00:16,  8.37s/it]\u001b[A\n",
            " 75%|███████▌  | 3/4 [00:27<00:09,  9.27s/it]\u001b[A\n",
            "100%|██████████| 4/4 [00:49<00:00, 12.31s/it]\n",
            " 28%|██▊       | 56/200 [10:31<1:31:58, 38.32s/it]"
          ]
        },
        {
          "output_type": "stream",
          "name": "stdout",
          "text": [
            "2;1;0;0;\n",
            "3\n",
            "1;0;0;0;\n",
            "1\n"
          ]
        },
        {
          "output_type": "stream",
          "name": "stderr",
          "text": [
            "\n",
            "  0%|          | 0/3 [00:00<?, ?it/s]\u001b[A\n",
            " 33%|███▎      | 1/3 [00:08<00:17,  8.53s/it]\u001b[A\n",
            " 67%|██████▋   | 2/3 [00:16<00:08,  8.24s/it]\u001b[A\n",
            "100%|██████████| 3/3 [00:26<00:00,  8.96s/it]\n",
            " 28%|██▊       | 57/200 [10:58<1:23:10, 34.90s/it]"
          ]
        },
        {
          "output_type": "stream",
          "name": "stdout",
          "text": [
            "4;2;3;\n",
            "9\n",
            "0;0;0;\n",
            "0\n"
          ]
        },
        {
          "output_type": "stream",
          "name": "stderr",
          "text": [
            "\n",
            "  0%|          | 0/5 [00:00<?, ?it/s]\u001b[A\n",
            " 20%|██        | 1/5 [00:13<00:53, 13.29s/it]\u001b[A\n",
            " 40%|████      | 2/5 [00:30<00:45, 15.33s/it]\u001b[A\n",
            " 60%|██████    | 3/5 [00:43<00:29, 14.63s/it]\u001b[A\n",
            " 80%|████████  | 4/5 [00:58<00:14, 14.51s/it]\u001b[A\n",
            "100%|██████████| 5/5 [01:07<00:00, 13.49s/it]\n",
            " 29%|██▉       | 58/200 [12:05<1:45:41, 44.66s/it]"
          ]
        },
        {
          "output_type": "stream",
          "name": "stdout",
          "text": [
            "2;3;1;12;12;\n",
            "30\n",
            "4;12;17;0;3;\n",
            "36\n"
          ]
        },
        {
          "output_type": "stream",
          "name": "stderr",
          "text": [
            "\n",
            "  0%|          | 0/4 [00:00<?, ?it/s]\u001b[A\n",
            " 25%|██▌       | 1/4 [00:07<00:23,  7.86s/it]\u001b[A\n",
            " 50%|█████     | 2/4 [00:15<00:15,  7.65s/it]\u001b[A\n",
            " 75%|███████▌  | 3/4 [00:21<00:07,  7.07s/it]\u001b[A\n",
            "100%|██████████| 4/4 [00:29<00:00,  7.32s/it]\n",
            " 30%|██▉       | 59/200 [12:34<1:34:06, 40.05s/it]"
          ]
        },
        {
          "output_type": "stream",
          "name": "stdout",
          "text": [
            "9;0;10;1;\n",
            "20\n",
            "2;0;1;0;\n",
            "3\n"
          ]
        },
        {
          "output_type": "stream",
          "name": "stderr",
          "text": [
            "\n",
            "  0%|          | 0/4 [00:00<?, ?it/s]\u001b[A\n",
            " 25%|██▌       | 1/4 [00:09<00:29,  9.82s/it]\u001b[A\n",
            " 50%|█████     | 2/4 [00:17<00:17,  8.76s/it]\u001b[A\n",
            " 75%|███████▌  | 3/4 [00:25<00:08,  8.10s/it]\u001b[A\n",
            "100%|██████████| 4/4 [00:33<00:00,  8.49s/it]\n",
            " 30%|███       | 60/200 [13:08<1:29:10, 38.22s/it]"
          ]
        },
        {
          "output_type": "stream",
          "name": "stdout",
          "text": [
            "4;1;0;0;\n",
            "5\n",
            "0;5;0;5;\n",
            "10\n"
          ]
        },
        {
          "output_type": "stream",
          "name": "stderr",
          "text": [
            "\n",
            "  0%|          | 0/4 [00:00<?, ?it/s]\u001b[A\n",
            " 25%|██▌       | 1/4 [00:07<00:22,  7.53s/it]\u001b[A\n",
            " 50%|█████     | 2/4 [00:14<00:13,  6.94s/it]\u001b[A\n",
            " 75%|███████▌  | 3/4 [00:21<00:07,  7.21s/it]\u001b[A\n",
            "100%|██████████| 4/4 [00:30<00:00,  7.60s/it]\n",
            " 30%|███       | 61/200 [13:39<1:23:06, 35.88s/it]"
          ]
        },
        {
          "output_type": "stream",
          "name": "stdout",
          "text": [
            "1;0;2;1;\n",
            "4\n",
            "1;1;0;1;\n",
            "3\n"
          ]
        },
        {
          "output_type": "stream",
          "name": "stderr",
          "text": [
            "\n",
            "  0%|          | 0/3 [00:00<?, ?it/s]\u001b[A\n",
            " 33%|███▎      | 1/3 [00:17<00:34, 17.17s/it]\u001b[A\n",
            " 67%|██████▋   | 2/3 [00:24<00:11, 11.50s/it]\u001b[A\n",
            "100%|██████████| 3/3 [00:29<00:00,  9.74s/it]\n",
            " 31%|███       | 62/200 [14:08<1:17:56, 33.89s/it]"
          ]
        },
        {
          "output_type": "stream",
          "name": "stdout",
          "text": [
            "1;1;1;\n",
            "3\n",
            "1;0;0;\n",
            "1\n"
          ]
        },
        {
          "output_type": "stream",
          "name": "stderr",
          "text": [
            "\n",
            "  0%|          | 0/3 [00:00<?, ?it/s]\u001b[A\n",
            " 33%|███▎      | 1/3 [00:11<00:22, 11.18s/it]\u001b[A\n",
            " 67%|██████▋   | 2/3 [00:24<00:12, 12.50s/it]\u001b[A\n",
            "100%|██████████| 3/3 [00:34<00:00, 11.45s/it]\n",
            " 32%|███▏      | 63/200 [14:42<1:17:41, 34.03s/it]"
          ]
        },
        {
          "output_type": "stream",
          "name": "stdout",
          "text": [
            "5;1;1;\n",
            "7\n",
            "9;0;1;\n",
            "10\n"
          ]
        },
        {
          "output_type": "stream",
          "name": "stderr",
          "text": [
            "\n",
            "  0%|          | 0/3 [00:00<?, ?it/s]\u001b[A\n",
            " 33%|███▎      | 1/3 [00:09<00:18,  9.20s/it]\u001b[A\n",
            " 67%|██████▋   | 2/3 [00:20<00:10, 10.45s/it]\u001b[A\n",
            "100%|██████████| 3/3 [00:28<00:00,  9.47s/it]\n",
            " 32%|███▏      | 64/200 [15:11<1:13:18, 32.34s/it]"
          ]
        },
        {
          "output_type": "stream",
          "name": "stdout",
          "text": [
            "1;0;0;\n",
            "1\n",
            "4;4;2;\n",
            "10\n"
          ]
        },
        {
          "output_type": "stream",
          "name": "stderr",
          "text": [
            "\n",
            "  0%|          | 0/3 [00:00<?, ?it/s]\u001b[A\n",
            " 33%|███▎      | 1/3 [00:08<00:16,  8.19s/it]\u001b[A\n",
            " 67%|██████▋   | 2/3 [00:17<00:08,  8.92s/it]\u001b[A\n",
            "100%|██████████| 3/3 [00:29<00:00,  9.84s/it]\n",
            " 32%|███▎      | 65/200 [15:40<1:10:52, 31.50s/it]"
          ]
        },
        {
          "output_type": "stream",
          "name": "stdout",
          "text": [
            "1;3;1;\n",
            "5\n",
            "11;2;0;\n",
            "13\n"
          ]
        },
        {
          "output_type": "stream",
          "name": "stderr",
          "text": [
            "\n",
            "  0%|          | 0/3 [00:00<?, ?it/s]\u001b[A\n",
            " 33%|███▎      | 1/3 [00:10<00:20, 10.13s/it]\u001b[A\n",
            " 67%|██████▋   | 2/3 [00:19<00:09,  9.72s/it]\u001b[A\n",
            "100%|██████████| 3/3 [00:26<00:00,  8.70s/it]\n",
            " 33%|███▎      | 66/200 [16:06<1:06:43, 29.88s/it]"
          ]
        },
        {
          "output_type": "stream",
          "name": "stdout",
          "text": [
            "1;0;0;\n",
            "1\n",
            "0;0;3;\n",
            "3\n"
          ]
        },
        {
          "output_type": "stream",
          "name": "stderr",
          "text": [
            "\n",
            "  0%|          | 0/3 [00:00<?, ?it/s]\u001b[A\n",
            " 33%|███▎      | 1/3 [00:10<00:20, 10.34s/it]\u001b[A\n",
            " 67%|██████▋   | 2/3 [00:17<00:08,  8.55s/it]\u001b[A\n",
            "100%|██████████| 3/3 [00:25<00:00,  8.50s/it]\n",
            " 34%|███▎      | 67/200 [16:32<1:03:19, 28.57s/it]"
          ]
        },
        {
          "output_type": "stream",
          "name": "stdout",
          "text": [
            "2;0;1;\n",
            "3\n",
            "0;0;2;\n",
            "2\n"
          ]
        },
        {
          "output_type": "stream",
          "name": "stderr",
          "text": [
            "\n",
            "  0%|          | 0/2 [00:00<?, ?it/s]\u001b[A\n",
            " 50%|█████     | 1/2 [00:08<00:08,  8.80s/it]\u001b[A\n",
            "100%|██████████| 2/2 [00:19<00:00,  9.91s/it]\n",
            " 34%|███▍      | 68/200 [16:52<57:05, 25.95s/it]  "
          ]
        },
        {
          "output_type": "stream",
          "name": "stdout",
          "text": [
            "0;0;\n",
            "0\n",
            "2;0;\n",
            "2\n"
          ]
        },
        {
          "output_type": "stream",
          "name": "stderr",
          "text": [
            "\n",
            "  0%|          | 0/3 [00:00<?, ?it/s]\u001b[A\n",
            " 33%|███▎      | 1/3 [00:10<00:20, 10.31s/it]\u001b[A\n",
            " 67%|██████▋   | 2/3 [00:20<00:10, 10.25s/it]\u001b[A\n",
            "100%|██████████| 3/3 [00:32<00:00, 10.98s/it]\n",
            " 34%|███▍      | 69/200 [17:25<1:01:15, 28.05s/it]"
          ]
        },
        {
          "output_type": "stream",
          "name": "stdout",
          "text": [
            "3;0;1;\n",
            "4\n",
            "2;0;7;\n",
            "9\n"
          ]
        },
        {
          "output_type": "stream",
          "name": "stderr",
          "text": [
            "\n",
            "  0%|          | 0/4 [00:00<?, ?it/s]\u001b[A\n",
            " 25%|██▌       | 1/4 [00:09<00:28,  9.57s/it]\u001b[A\n",
            " 50%|█████     | 2/4 [00:18<00:18,  9.43s/it]\u001b[A\n",
            " 75%|███████▌  | 3/4 [00:27<00:08,  8.82s/it]\u001b[A\n",
            "100%|██████████| 4/4 [00:37<00:00,  9.46s/it]\n",
            " 35%|███▌      | 70/200 [18:03<1:07:09, 30.99s/it]"
          ]
        },
        {
          "output_type": "stream",
          "name": "stdout",
          "text": [
            "2;0;0;0;\n",
            "2\n",
            "1;6;0;4;\n",
            "11\n"
          ]
        },
        {
          "output_type": "stream",
          "name": "stderr",
          "text": [
            "\n",
            "  0%|          | 0/3 [00:00<?, ?it/s]\u001b[A\n",
            " 33%|███▎      | 1/3 [00:09<00:18,  9.08s/it]\u001b[A\n",
            " 67%|██████▋   | 2/3 [00:17<00:08,  8.76s/it]\u001b[A\n",
            "100%|██████████| 3/3 [00:29<00:00,  9.74s/it]\n",
            " 36%|███▌      | 71/200 [18:32<1:05:29, 30.46s/it]"
          ]
        },
        {
          "output_type": "stream",
          "name": "stdout",
          "text": [
            "2;0;0;\n",
            "2\n",
            "3;0;1;\n",
            "4\n"
          ]
        },
        {
          "output_type": "stream",
          "name": "stderr",
          "text": [
            "\n",
            "  0%|          | 0/3 [00:00<?, ?it/s]\u001b[A\n",
            " 33%|███▎      | 1/3 [00:09<00:18,  9.04s/it]\u001b[A\n",
            " 67%|██████▋   | 2/3 [00:18<00:09,  9.29s/it]\u001b[A\n",
            "100%|██████████| 3/3 [00:26<00:00,  8.77s/it]\n",
            " 36%|███▌      | 72/200 [18:58<1:02:20, 29.22s/it]"
          ]
        },
        {
          "output_type": "stream",
          "name": "stdout",
          "text": [
            "1;2;2;\n",
            "5\n",
            "2;4;1;\n",
            "7\n"
          ]
        },
        {
          "output_type": "stream",
          "name": "stderr",
          "text": [
            "\n",
            "  0%|          | 0/3 [00:00<?, ?it/s]\u001b[A\n",
            " 33%|███▎      | 1/3 [00:09<00:19,  9.86s/it]\u001b[A\n",
            " 67%|██████▋   | 2/3 [00:20<00:10, 10.14s/it]\u001b[A\n",
            "100%|██████████| 3/3 [00:29<00:00,  9.81s/it]\n",
            " 36%|███▋      | 73/200 [19:28<1:01:59, 29.29s/it]"
          ]
        },
        {
          "output_type": "stream",
          "name": "stdout",
          "text": [
            "3;0;1;\n",
            "4\n",
            "3;2;1;\n",
            "6\n"
          ]
        },
        {
          "output_type": "stream",
          "name": "stderr",
          "text": [
            "\n",
            "  0%|          | 0/3 [00:00<?, ?it/s]\u001b[A\n",
            " 33%|███▎      | 1/3 [00:08<00:17,  8.81s/it]\u001b[A\n",
            " 67%|██████▋   | 2/3 [00:19<00:09,  9.64s/it]\u001b[A\n",
            "100%|██████████| 3/3 [00:32<00:00, 10.71s/it]\n",
            " 37%|███▋      | 74/200 [20:00<1:03:18, 30.15s/it]"
          ]
        },
        {
          "output_type": "stream",
          "name": "stdout",
          "text": [
            "4;2;7;\n",
            "13\n",
            "0;2;2;\n",
            "4\n"
          ]
        },
        {
          "output_type": "stream",
          "name": "stderr",
          "text": [
            "\n",
            "  0%|          | 0/4 [00:00<?, ?it/s]\u001b[A\n",
            " 25%|██▌       | 1/4 [00:10<00:30, 10.02s/it]\u001b[A\n",
            " 50%|█████     | 2/4 [00:20<00:20, 10.19s/it]\u001b[A\n",
            " 75%|███████▌  | 3/4 [00:29<00:09,  9.55s/it]\u001b[A\n",
            "100%|██████████| 4/4 [00:37<00:00,  9.38s/it]\n",
            " 38%|███▊      | 75/200 [20:37<1:07:25, 32.36s/it]"
          ]
        },
        {
          "output_type": "stream",
          "name": "stdout",
          "text": [
            "2;0;3;2;\n",
            "7\n",
            "6;0;0;4;\n",
            "10\n"
          ]
        },
        {
          "output_type": "stream",
          "name": "stderr",
          "text": [
            "\n",
            "  0%|          | 0/3 [00:00<?, ?it/s]\u001b[A\n",
            " 33%|███▎      | 1/3 [00:06<00:13,  6.82s/it]\u001b[A\n",
            " 67%|██████▋   | 2/3 [00:19<00:10, 10.17s/it]\u001b[A\n",
            "100%|██████████| 3/3 [00:27<00:00,  9.29s/it]\n",
            " 38%|███▊      | 76/200 [21:05<1:04:05, 31.01s/it]"
          ]
        },
        {
          "output_type": "stream",
          "name": "stdout",
          "text": [
            "3;0;0;\n",
            "3\n",
            "1;0;0;\n",
            "1\n"
          ]
        },
        {
          "output_type": "stream",
          "name": "stderr",
          "text": [
            "\n",
            "  0%|          | 0/4 [00:00<?, ?it/s]\u001b[A\n",
            " 25%|██▌       | 1/4 [00:09<00:29,  9.80s/it]\u001b[A\n",
            " 50%|█████     | 2/4 [00:18<00:18,  9.23s/it]\u001b[A\n",
            " 75%|███████▌  | 3/4 [00:34<00:12, 12.35s/it]\u001b[A\n",
            "100%|██████████| 4/4 [00:44<00:00, 11.06s/it]\n",
            " 38%|███▊      | 77/200 [21:49<1:11:43, 34.99s/it]"
          ]
        },
        {
          "output_type": "stream",
          "name": "stdout",
          "text": [
            "5;3;3;7;\n",
            "18\n",
            "1;3;0;1;\n",
            "5\n"
          ]
        },
        {
          "output_type": "stream",
          "name": "stderr",
          "text": [
            "\n",
            "  0%|          | 0/5 [00:00<?, ?it/s]\u001b[A\n",
            " 20%|██        | 1/5 [00:09<00:39,  9.91s/it]\u001b[A\n",
            " 40%|████      | 2/5 [00:17<00:26,  8.70s/it]\u001b[A\n",
            " 60%|██████    | 3/5 [00:33<00:24, 12.04s/it]\u001b[A\n",
            " 80%|████████  | 4/5 [00:45<00:11, 11.77s/it]\u001b[A\n",
            "100%|██████████| 5/5 [00:51<00:00, 10.40s/it]\n",
            " 39%|███▉      | 78/200 [22:41<1:21:30, 40.09s/it]"
          ]
        },
        {
          "output_type": "stream",
          "name": "stdout",
          "text": [
            "2;1;7;2;0;\n",
            "12\n",
            "0;2;0;0;1;\n",
            "3\n"
          ]
        },
        {
          "output_type": "stream",
          "name": "stderr",
          "text": [
            "\n",
            "  0%|          | 0/4 [00:00<?, ?it/s]\u001b[A\n",
            " 25%|██▌       | 1/4 [00:08<00:26,  8.79s/it]\u001b[A\n",
            " 50%|█████     | 2/4 [00:17<00:17,  8.64s/it]\u001b[A\n",
            " 75%|███████▌  | 3/4 [00:28<00:09,  9.75s/it]\u001b[A\n",
            "100%|██████████| 4/4 [00:41<00:00, 10.38s/it]\n",
            " 40%|███▉      | 79/200 [23:23<1:21:43, 40.53s/it]"
          ]
        },
        {
          "output_type": "stream",
          "name": "stdout",
          "text": [
            "4;1;3;6;\n",
            "14\n",
            "0;0;0;2;\n",
            "2\n"
          ]
        },
        {
          "output_type": "stream",
          "name": "stderr",
          "text": [
            "\n",
            "  0%|          | 0/2 [00:00<?, ?it/s]\u001b[A\n",
            " 50%|█████     | 1/2 [00:07<00:07,  7.96s/it]\u001b[A\n",
            "100%|██████████| 2/2 [00:15<00:00,  7.72s/it]\n",
            " 40%|████      | 80/200 [23:38<1:06:00, 33.00s/it]"
          ]
        },
        {
          "output_type": "stream",
          "name": "stdout",
          "text": [
            "12;2;\n",
            "14\n",
            "3;7;\n",
            "10\n"
          ]
        },
        {
          "output_type": "stream",
          "name": "stderr",
          "text": [
            "\n",
            "  0%|          | 0/4 [00:00<?, ?it/s]\u001b[A\n",
            " 25%|██▌       | 1/4 [00:10<00:32, 10.89s/it]\u001b[A\n",
            " 50%|█████     | 2/4 [00:21<00:20, 10.48s/it]\u001b[A\n",
            " 75%|███████▌  | 3/4 [00:33<00:11, 11.20s/it]\u001b[A\n",
            "100%|██████████| 4/4 [00:47<00:00, 11.79s/it]\n",
            " 40%|████      | 81/200 [24:26<1:13:53, 37.26s/it]"
          ]
        },
        {
          "output_type": "stream",
          "name": "stdout",
          "text": [
            "1;12;0;5;\n",
            "18\n",
            "4;0;6;5;\n",
            "15\n"
          ]
        },
        {
          "output_type": "stream",
          "name": "stderr",
          "text": [
            "\n",
            "  0%|          | 0/3 [00:00<?, ?it/s]\u001b[A\n",
            " 33%|███▎      | 1/3 [00:08<00:17,  8.58s/it]\u001b[A\n",
            " 67%|██████▋   | 2/3 [00:17<00:08,  8.84s/it]\u001b[A\n",
            "100%|██████████| 3/3 [00:26<00:00,  8.80s/it]\n",
            " 41%|████      | 82/200 [24:52<1:06:52, 34.00s/it]"
          ]
        },
        {
          "output_type": "stream",
          "name": "stdout",
          "text": [
            "2;8;1;\n",
            "11\n",
            "2;1;3;\n",
            "6\n"
          ]
        },
        {
          "output_type": "stream",
          "name": "stderr",
          "text": [
            "\n",
            "  0%|          | 0/4 [00:00<?, ?it/s]\u001b[A\n",
            " 25%|██▌       | 1/4 [00:08<00:26,  8.82s/it]\u001b[A\n",
            " 50%|█████     | 2/4 [00:29<00:31, 15.79s/it]\u001b[A\n",
            " 75%|███████▌  | 3/4 [00:41<00:13, 13.92s/it]\u001b[A\n",
            "100%|██████████| 4/4 [00:51<00:00, 12.94s/it]\n",
            " 42%|████▏     | 83/200 [25:44<1:16:41, 39.33s/it]"
          ]
        },
        {
          "output_type": "stream",
          "name": "stdout",
          "text": [
            "4;2;0;3;\n",
            "9\n",
            "2;1;2;0;\n",
            "5\n"
          ]
        },
        {
          "output_type": "stream",
          "name": "stderr",
          "text": [
            "\n",
            "  0%|          | 0/4 [00:00<?, ?it/s]\u001b[A\n",
            " 25%|██▌       | 1/4 [00:14<00:42, 14.07s/it]\u001b[A\n",
            " 50%|█████     | 2/4 [00:24<00:23, 11.99s/it]\u001b[A\n",
            " 75%|███████▌  | 3/4 [00:33<00:10, 10.41s/it]\u001b[A\n",
            "100%|██████████| 4/4 [00:41<00:00, 10.45s/it]\n",
            " 42%|████▏     | 84/200 [26:26<1:17:28, 40.07s/it]"
          ]
        },
        {
          "output_type": "stream",
          "name": "stdout",
          "text": [
            "0;0;0;2;\n",
            "2\n",
            "0;0;0;2;\n",
            "2\n"
          ]
        },
        {
          "output_type": "stream",
          "name": "stderr",
          "text": [
            "\n",
            "  0%|          | 0/3 [00:00<?, ?it/s]\u001b[A\n",
            " 33%|███▎      | 1/3 [00:13<00:27, 13.52s/it]\u001b[A\n",
            " 67%|██████▋   | 2/3 [00:23<00:11, 11.24s/it]\u001b[A\n",
            "100%|██████████| 3/3 [00:32<00:00, 10.73s/it]\n",
            " 42%|████▎     | 85/200 [26:58<1:12:16, 37.71s/it]"
          ]
        },
        {
          "output_type": "stream",
          "name": "stdout",
          "text": [
            "2;2;3;\n",
            "7\n",
            "8;0;6;\n",
            "14\n"
          ]
        },
        {
          "output_type": "stream",
          "name": "stderr",
          "text": [
            "\n",
            "  0%|          | 0/3 [00:00<?, ?it/s]\u001b[A\n",
            " 33%|███▎      | 1/3 [00:14<00:28, 14.02s/it]\u001b[A\n",
            " 67%|██████▋   | 2/3 [00:22<00:11, 11.02s/it]\u001b[A\n",
            "100%|██████████| 3/3 [00:37<00:00, 12.50s/it]\n",
            " 43%|████▎     | 86/200 [27:35<1:11:32, 37.65s/it]"
          ]
        },
        {
          "output_type": "stream",
          "name": "stdout",
          "text": [
            "1;3;5;\n",
            "9\n",
            "11;6;1;\n",
            "18\n"
          ]
        },
        {
          "output_type": "stream",
          "name": "stderr",
          "text": [
            "\n",
            "  0%|          | 0/3 [00:00<?, ?it/s]\u001b[A\n",
            " 33%|███▎      | 1/3 [00:10<00:21, 10.53s/it]\u001b[A\n",
            " 67%|██████▋   | 2/3 [00:19<00:09,  9.55s/it]\u001b[A\n",
            "100%|██████████| 3/3 [00:28<00:00,  9.49s/it]\n",
            " 44%|████▎     | 87/200 [28:04<1:05:43, 34.90s/it]"
          ]
        },
        {
          "output_type": "stream",
          "name": "stdout",
          "text": [
            "1;0;2;\n",
            "3\n",
            "0;0;2;\n",
            "2\n"
          ]
        },
        {
          "output_type": "stream",
          "name": "stderr",
          "text": [
            "\n",
            "  0%|          | 0/4 [00:00<?, ?it/s]\u001b[A\n",
            " 25%|██▌       | 1/4 [00:09<00:27,  9.29s/it]\u001b[A\n",
            " 50%|█████     | 2/4 [00:18<00:18,  9.06s/it]\u001b[A\n",
            " 75%|███████▌  | 3/4 [00:28<00:09,  9.61s/it]\u001b[A\n",
            "100%|██████████| 4/4 [00:39<00:00,  9.75s/it]\n",
            " 44%|████▍     | 88/200 [28:43<1:07:27, 36.14s/it]"
          ]
        },
        {
          "output_type": "stream",
          "name": "stdout",
          "text": [
            "4;5;0;0;\n",
            "9\n",
            "0;3;0;4;\n",
            "7\n"
          ]
        },
        {
          "output_type": "stream",
          "name": "stderr",
          "text": [
            "\n",
            "  0%|          | 0/3 [00:00<?, ?it/s]\u001b[A\n",
            " 33%|███▎      | 1/3 [00:10<00:20, 10.23s/it]\u001b[A\n",
            " 67%|██████▋   | 2/3 [00:20<00:10, 10.12s/it]\u001b[A\n",
            "100%|██████████| 3/3 [00:27<00:00,  9.20s/it]\n",
            " 44%|████▍     | 89/200 [29:10<1:02:07, 33.58s/it]"
          ]
        },
        {
          "output_type": "stream",
          "name": "stdout",
          "text": [
            "2;0;9;\n",
            "11\n",
            "4;9;0;\n",
            "13\n"
          ]
        },
        {
          "output_type": "stream",
          "name": "stderr",
          "text": [
            "\n",
            "  0%|          | 0/4 [00:00<?, ?it/s]\u001b[A\n",
            " 25%|██▌       | 1/4 [00:08<00:26,  8.77s/it]\u001b[A\n",
            " 50%|█████     | 2/4 [00:19<00:20, 10.14s/it]\u001b[A\n",
            " 75%|███████▌  | 3/4 [00:29<00:09,  9.71s/it]\u001b[A\n",
            "100%|██████████| 4/4 [00:44<00:00, 11.03s/it]\n",
            " 45%|████▌     | 90/200 [29:55<1:07:22, 36.75s/it]"
          ]
        },
        {
          "output_type": "stream",
          "name": "stdout",
          "text": [
            "0;1;1;0;\n",
            "2\n",
            "4;2;1;1;\n",
            "8\n"
          ]
        },
        {
          "output_type": "stream",
          "name": "stderr",
          "text": [
            "\n",
            "  0%|          | 0/3 [00:00<?, ?it/s]\u001b[A\n",
            " 33%|███▎      | 1/3 [00:07<00:15,  7.52s/it]\u001b[A\n",
            " 67%|██████▋   | 2/3 [00:15<00:07,  7.98s/it]\u001b[A\n",
            "100%|██████████| 3/3 [00:23<00:00,  7.89s/it]\n",
            " 46%|████▌     | 91/200 [30:18<59:38, 32.83s/it]  "
          ]
        },
        {
          "output_type": "stream",
          "name": "stdout",
          "text": [
            "5;0;5;\n",
            "10\n",
            "0;4;2;\n",
            "6\n"
          ]
        },
        {
          "output_type": "stream",
          "name": "stderr",
          "text": [
            "\n",
            "  0%|          | 0/3 [00:00<?, ?it/s]\u001b[A\n",
            " 33%|███▎      | 1/3 [00:09<00:18,  9.16s/it]\u001b[A\n",
            " 67%|██████▋   | 2/3 [00:22<00:11, 11.39s/it]\u001b[A\n",
            "100%|██████████| 3/3 [00:33<00:00, 11.06s/it]\n",
            " 46%|████▌     | 92/200 [30:51<59:17, 32.94s/it]"
          ]
        },
        {
          "output_type": "stream",
          "name": "stdout",
          "text": [
            "0;0;0;\n",
            "0\n",
            "3;0;0;\n",
            "3\n"
          ]
        },
        {
          "output_type": "stream",
          "name": "stderr",
          "text": [
            "\n",
            "  0%|          | 0/3 [00:00<?, ?it/s]\u001b[A\n",
            " 33%|███▎      | 1/3 [00:11<00:22, 11.28s/it]\u001b[A\n",
            " 67%|██████▋   | 2/3 [00:24<00:12, 12.61s/it]\u001b[A\n",
            "100%|██████████| 3/3 [00:37<00:00, 12.45s/it]\n",
            " 46%|████▋     | 93/200 [31:29<1:01:06, 34.27s/it]"
          ]
        },
        {
          "output_type": "stream",
          "name": "stdout",
          "text": [
            "0;0;0;\n",
            "0\n",
            "0;0;0;\n",
            "0\n"
          ]
        },
        {
          "output_type": "stream",
          "name": "stderr",
          "text": [
            "\n",
            "  0%|          | 0/4 [00:00<?, ?it/s]\u001b[A\n",
            " 25%|██▌       | 1/4 [00:09<00:27,  9.13s/it]\u001b[A\n",
            " 50%|█████     | 2/4 [00:18<00:18,  9.12s/it]\u001b[A\n",
            " 75%|███████▌  | 3/4 [00:26<00:08,  8.79s/it]\u001b[A\n",
            "100%|██████████| 4/4 [00:34<00:00,  8.51s/it]\n",
            " 47%|████▋     | 94/200 [32:03<1:00:26, 34.21s/it]"
          ]
        },
        {
          "output_type": "stream",
          "name": "stdout",
          "text": [
            "6;1;4;2;\n",
            "13\n",
            "3;0;1;1;\n",
            "5\n"
          ]
        },
        {
          "output_type": "stream",
          "name": "stderr",
          "text": [
            "\n",
            "  0%|          | 0/3 [00:00<?, ?it/s]\u001b[A\n",
            " 33%|███▎      | 1/3 [00:08<00:16,  8.43s/it]\u001b[A\n",
            " 67%|██████▋   | 2/3 [00:17<00:08,  8.80s/it]\u001b[A\n",
            "100%|██████████| 3/3 [00:28<00:00,  9.43s/it]\n",
            " 48%|████▊     | 95/200 [32:31<56:45, 32.44s/it]  "
          ]
        },
        {
          "output_type": "stream",
          "name": "stdout",
          "text": [
            "10;2;1;\n",
            "13\n",
            "1;0;4;\n",
            "5\n"
          ]
        },
        {
          "output_type": "stream",
          "name": "stderr",
          "text": [
            "\n",
            "  0%|          | 0/4 [00:00<?, ?it/s]\u001b[A\n",
            " 25%|██▌       | 1/4 [00:08<00:24,  8.12s/it]\u001b[A\n",
            " 50%|█████     | 2/4 [00:16<00:17,  8.54s/it]\u001b[A\n",
            " 75%|███████▌  | 3/4 [00:26<00:08,  8.85s/it]\u001b[A\n",
            "100%|██████████| 4/4 [00:49<00:00, 12.46s/it]\n",
            " 48%|████▊     | 96/200 [33:21<1:05:16, 37.66s/it]"
          ]
        },
        {
          "output_type": "stream",
          "name": "stdout",
          "text": [
            "1;0;1;0;\n",
            "2\n",
            "0;5;0;2;\n",
            "7\n"
          ]
        },
        {
          "output_type": "stream",
          "name": "stderr",
          "text": [
            "\n",
            "  0%|          | 0/3 [00:00<?, ?it/s]\u001b[A\n",
            " 33%|███▎      | 1/3 [00:09<00:19,  9.67s/it]\u001b[A\n",
            " 67%|██████▋   | 2/3 [00:19<00:09,  9.78s/it]\u001b[A\n",
            "100%|██████████| 3/3 [00:30<00:00, 10.15s/it]\n",
            " 48%|████▊     | 97/200 [33:51<1:00:56, 35.50s/it]"
          ]
        },
        {
          "output_type": "stream",
          "name": "stdout",
          "text": [
            "0;3;2;\n",
            "5\n",
            "0;2;1;\n",
            "3\n"
          ]
        },
        {
          "output_type": "stream",
          "name": "stderr",
          "text": [
            "\n",
            "  0%|          | 0/3 [00:00<?, ?it/s]\u001b[A\n",
            " 33%|███▎      | 1/3 [00:14<00:28, 14.05s/it]\u001b[A\n",
            " 67%|██████▋   | 2/3 [00:23<00:11, 11.61s/it]\u001b[A\n",
            "100%|██████████| 3/3 [00:32<00:00, 10.97s/it]\n",
            " 49%|████▉     | 98/200 [34:24<59:02, 34.73s/it]  "
          ]
        },
        {
          "output_type": "stream",
          "name": "stdout",
          "text": [
            "1;1;2;\n",
            "4\n",
            "2;6;9;\n",
            "17\n"
          ]
        },
        {
          "output_type": "stream",
          "name": "stderr",
          "text": [
            "\n",
            "  0%|          | 0/4 [00:00<?, ?it/s]\u001b[A\n",
            " 25%|██▌       | 1/4 [00:07<00:21,  7.29s/it]\u001b[A\n",
            " 50%|█████     | 2/4 [00:15<00:15,  7.93s/it]\u001b[A\n",
            " 75%|███████▌  | 3/4 [00:24<00:08,  8.40s/it]\u001b[A\n",
            "100%|██████████| 4/4 [00:34<00:00,  8.51s/it]\n",
            " 50%|████▉     | 99/200 [34:58<58:06, 34.52s/it]"
          ]
        },
        {
          "output_type": "stream",
          "name": "stdout",
          "text": [
            "4;0;1;12;\n",
            "17\n",
            "1;14;2;0;\n",
            "17\n"
          ]
        },
        {
          "output_type": "stream",
          "name": "stderr",
          "text": [
            "\n",
            "  0%|          | 0/4 [00:00<?, ?it/s]\u001b[A\n",
            " 25%|██▌       | 1/4 [00:06<00:19,  6.53s/it]\u001b[A\n",
            " 50%|█████     | 2/4 [00:14<00:14,  7.26s/it]\u001b[A\n",
            " 75%|███████▌  | 3/4 [00:26<00:09,  9.59s/it]\u001b[A\n",
            "100%|██████████| 4/4 [00:35<00:00,  8.80s/it]\n",
            " 50%|█████     | 100/200 [35:34<57:52, 34.73s/it]"
          ]
        },
        {
          "output_type": "stream",
          "name": "stdout",
          "text": [
            "0;0;0;2;\n",
            "2\n",
            "0;0;0;0;\n",
            "0\n"
          ]
        },
        {
          "output_type": "stream",
          "name": "stderr",
          "text": [
            "\n",
            "  0%|          | 0/3 [00:00<?, ?it/s]\u001b[A\n",
            " 33%|███▎      | 1/3 [00:07<00:15,  7.54s/it]\u001b[A\n",
            " 67%|██████▋   | 2/3 [00:17<00:09,  9.13s/it]\u001b[A\n",
            "100%|██████████| 3/3 [00:26<00:00,  8.87s/it]\n",
            " 50%|█████     | 101/200 [36:00<53:17, 32.29s/it]"
          ]
        },
        {
          "output_type": "stream",
          "name": "stdout",
          "text": [
            "3;2;2;\n",
            "7\n",
            "1;0;3;\n",
            "4\n"
          ]
        },
        {
          "output_type": "stream",
          "name": "stderr",
          "text": [
            "\n",
            "  0%|          | 0/2 [00:00<?, ?it/s]\u001b[A\n",
            " 50%|█████     | 1/2 [00:08<00:08,  8.83s/it]\u001b[A\n",
            "100%|██████████| 2/2 [00:17<00:00,  8.99s/it]\n",
            " 51%|█████     | 102/200 [36:18<45:44, 28.00s/it]"
          ]
        },
        {
          "output_type": "stream",
          "name": "stdout",
          "text": [
            "0;0;\n",
            "0\n",
            "5;1;\n",
            "6\n"
          ]
        },
        {
          "output_type": "stream",
          "name": "stderr",
          "text": [
            "\n",
            "  0%|          | 0/3 [00:00<?, ?it/s]\u001b[A\n",
            " 33%|███▎      | 1/3 [00:10<00:21, 10.84s/it]\u001b[A\n",
            " 67%|██████▋   | 2/3 [00:20<00:10, 10.23s/it]\u001b[A\n",
            "100%|██████████| 3/3 [00:28<00:00,  9.48s/it]\n",
            " 52%|█████▏    | 103/200 [36:47<45:29, 28.14s/it]"
          ]
        },
        {
          "output_type": "stream",
          "name": "stdout",
          "text": [
            "2;4;1;\n",
            "7\n",
            "5;2;4;\n",
            "11\n"
          ]
        },
        {
          "output_type": "stream",
          "name": "stderr",
          "text": [
            "\n",
            "  0%|          | 0/2 [00:00<?, ?it/s]\u001b[A\n",
            " 50%|█████     | 1/2 [00:08<00:08,  8.42s/it]\u001b[A\n",
            "100%|██████████| 2/2 [00:15<00:00,  7.65s/it]\n",
            " 52%|█████▏    | 104/200 [37:02<38:51, 24.29s/it]"
          ]
        },
        {
          "output_type": "stream",
          "name": "stdout",
          "text": [
            "9;11;\n",
            "20\n",
            "4;3;\n",
            "7\n"
          ]
        },
        {
          "output_type": "stream",
          "name": "stderr",
          "text": [
            "\n",
            "  0%|          | 0/4 [00:00<?, ?it/s]\u001b[A\n",
            " 25%|██▌       | 1/4 [00:10<00:32, 10.99s/it]\u001b[A\n",
            " 50%|█████     | 2/4 [00:19<00:19,  9.55s/it]\u001b[A\n",
            " 75%|███████▌  | 3/4 [00:30<00:10, 10.35s/it]\u001b[A\n",
            "100%|██████████| 4/4 [00:38<00:00,  9.66s/it]\n",
            " 52%|█████▎    | 105/200 [37:41<45:16, 28.60s/it]"
          ]
        },
        {
          "output_type": "stream",
          "name": "stdout",
          "text": [
            "1;0;4;0;\n",
            "5\n",
            "6;0;7;1;\n",
            "14\n"
          ]
        },
        {
          "output_type": "stream",
          "name": "stderr",
          "text": [
            "\n",
            "  0%|          | 0/3 [00:00<?, ?it/s]\u001b[A\n",
            " 33%|███▎      | 1/3 [00:11<00:23, 11.72s/it]\u001b[A\n",
            " 67%|██████▋   | 2/3 [00:19<00:09,  9.26s/it]\u001b[A\n",
            "100%|██████████| 3/3 [00:26<00:00,  8.93s/it]\n",
            " 53%|█████▎    | 106/200 [38:07<43:57, 28.06s/it]"
          ]
        },
        {
          "output_type": "stream",
          "name": "stdout",
          "text": [
            "0;0;0;\n",
            "0\n",
            "1;0;0;\n",
            "1\n"
          ]
        },
        {
          "output_type": "stream",
          "name": "stderr",
          "text": [
            "\n",
            "  0%|          | 0/4 [00:00<?, ?it/s]\u001b[A\n",
            " 25%|██▌       | 1/4 [00:09<00:27,  9.28s/it]\u001b[A\n",
            " 50%|█████     | 2/4 [00:17<00:17,  8.84s/it]\u001b[A\n",
            " 75%|███████▌  | 3/4 [00:27<00:09,  9.16s/it]\u001b[A\n",
            "100%|██████████| 4/4 [00:33<00:00,  8.47s/it]\n",
            " 54%|█████▎    | 107/200 [38:41<46:12, 29.81s/it]"
          ]
        },
        {
          "output_type": "stream",
          "name": "stdout",
          "text": [
            "0;0;0;0;\n",
            "0\n",
            "0;3;0;1;\n",
            "4\n"
          ]
        },
        {
          "output_type": "stream",
          "name": "stderr",
          "text": [
            "\n",
            "  0%|          | 0/2 [00:00<?, ?it/s]\u001b[A\n",
            " 50%|█████     | 1/2 [00:07<00:07,  7.84s/it]\u001b[A\n",
            "100%|██████████| 2/2 [00:15<00:00,  7.87s/it]\n",
            " 54%|█████▍    | 108/200 [38:57<39:14, 25.59s/it]"
          ]
        },
        {
          "output_type": "stream",
          "name": "stdout",
          "text": [
            "0;0;\n",
            "0\n",
            "2;1;\n",
            "3\n"
          ]
        },
        {
          "output_type": "stream",
          "name": "stderr",
          "text": [
            "\n",
            "  0%|          | 0/3 [00:00<?, ?it/s]\u001b[A\n",
            " 33%|███▎      | 1/3 [00:12<00:25, 12.90s/it]\u001b[A\n",
            " 67%|██████▋   | 2/3 [00:23<00:11, 11.82s/it]\u001b[A\n",
            "100%|██████████| 3/3 [00:34<00:00, 11.37s/it]\n",
            " 55%|█████▍    | 109/200 [39:31<42:41, 28.15s/it]"
          ]
        },
        {
          "output_type": "stream",
          "name": "stdout",
          "text": [
            "0;8;1;\n",
            "9\n",
            "6;0;1;\n",
            "7\n"
          ]
        },
        {
          "output_type": "stream",
          "name": "stderr",
          "text": [
            "\n",
            "  0%|          | 0/3 [00:00<?, ?it/s]\u001b[A\n",
            " 33%|███▎      | 1/3 [00:09<00:18,  9.02s/it]\u001b[A\n",
            " 67%|██████▋   | 2/3 [00:17<00:08,  8.93s/it]\u001b[A\n",
            "100%|██████████| 3/3 [00:26<00:00,  8.98s/it]\n",
            " 55%|█████▌    | 110/200 [39:58<41:41, 27.79s/it]"
          ]
        },
        {
          "output_type": "stream",
          "name": "stdout",
          "text": [
            "10;7;12;\n",
            "29\n",
            "1;1;1;\n",
            "3\n"
          ]
        },
        {
          "output_type": "stream",
          "name": "stderr",
          "text": [
            "\n",
            "  0%|          | 0/3 [00:00<?, ?it/s]\u001b[A\n",
            " 33%|███▎      | 1/3 [00:07<00:14,  7.34s/it]\u001b[A\n",
            " 67%|██████▋   | 2/3 [00:15<00:07,  7.95s/it]\u001b[A\n",
            "100%|██████████| 3/3 [00:23<00:00,  7.87s/it]\n",
            " 56%|█████▌    | 111/200 [40:22<39:21, 26.54s/it]"
          ]
        },
        {
          "output_type": "stream",
          "name": "stdout",
          "text": [
            "2;3;0;\n",
            "5\n",
            "5;8;1;\n",
            "14\n"
          ]
        },
        {
          "output_type": "stream",
          "name": "stderr",
          "text": [
            "\n",
            "  0%|          | 0/3 [00:00<?, ?it/s]\u001b[A\n",
            " 33%|███▎      | 1/3 [00:08<00:17,  8.86s/it]\u001b[A\n",
            " 67%|██████▋   | 2/3 [00:20<00:10, 10.35s/it]\u001b[A\n",
            "100%|██████████| 3/3 [00:30<00:00, 10.21s/it]\n",
            " 56%|█████▋    | 113/200 [40:52<30:58, 21.36s/it]"
          ]
        },
        {
          "output_type": "stream",
          "name": "stdout",
          "text": [
            "5;6;1;\n",
            "12\n",
            "0;5;4;\n",
            "9\n"
          ]
        },
        {
          "output_type": "stream",
          "name": "stderr",
          "text": [
            "\n",
            "  0%|          | 0/3 [00:00<?, ?it/s]\u001b[A\n",
            " 33%|███▎      | 1/3 [00:09<00:19,  9.90s/it]\u001b[A\n",
            " 67%|██████▋   | 2/3 [00:18<00:09,  9.25s/it]\u001b[A\n",
            "100%|██████████| 3/3 [00:24<00:00,  8.02s/it]\n",
            " 57%|█████▋    | 114/200 [41:17<31:34, 22.03s/it]"
          ]
        },
        {
          "output_type": "stream",
          "name": "stdout",
          "text": [
            "9;0;1;\n",
            "10\n",
            "1;7;0;\n",
            "8\n"
          ]
        },
        {
          "output_type": "stream",
          "name": "stderr",
          "text": [
            "\n",
            "  0%|          | 0/3 [00:00<?, ?it/s]\u001b[A\n",
            " 33%|███▎      | 1/3 [00:17<00:34, 17.44s/it]\u001b[A\n",
            " 67%|██████▋   | 2/3 [00:26<00:12, 12.34s/it]\u001b[A\n",
            "100%|██████████| 3/3 [00:36<00:00, 12.33s/it]\n",
            " 57%|█████▊    | 115/200 [41:54<36:45, 25.95s/it]"
          ]
        },
        {
          "output_type": "stream",
          "name": "stdout",
          "text": [
            "0;3;0;\n",
            "3\n",
            "5;2;12;\n",
            "19\n"
          ]
        },
        {
          "output_type": "stream",
          "name": "stderr",
          "text": [
            "\n",
            "  0%|          | 0/2 [00:00<?, ?it/s]\u001b[A\n",
            " 50%|█████     | 1/2 [00:11<00:11, 11.43s/it]\u001b[A\n",
            "100%|██████████| 2/2 [00:20<00:00, 10.37s/it]\n",
            " 58%|█████▊    | 116/200 [42:14<34:21, 24.54s/it]"
          ]
        },
        {
          "output_type": "stream",
          "name": "stdout",
          "text": [
            "0;1;\n",
            "1\n",
            "0;0;\n",
            "0\n"
          ]
        },
        {
          "output_type": "stream",
          "name": "stderr",
          "text": [
            "\n",
            "  0%|          | 0/3 [00:00<?, ?it/s]\u001b[A\n",
            " 33%|███▎      | 1/3 [00:09<00:18,  9.02s/it]\u001b[A\n",
            " 67%|██████▋   | 2/3 [00:18<00:09,  9.14s/it]\u001b[A\n",
            "100%|██████████| 3/3 [00:27<00:00,  9.21s/it]\n",
            " 58%|█████▊    | 117/200 [42:42<35:08, 25.40s/it]"
          ]
        },
        {
          "output_type": "stream",
          "name": "stdout",
          "text": [
            "0;0;0;\n",
            "0\n",
            "8;0;4;\n",
            "12\n"
          ]
        },
        {
          "output_type": "stream",
          "name": "stderr",
          "text": [
            "\n",
            "  0%|          | 0/3 [00:00<?, ?it/s]\u001b[A\n",
            " 33%|███▎      | 1/3 [00:08<00:17,  8.82s/it]\u001b[A\n",
            " 67%|██████▋   | 2/3 [00:22<00:11, 11.60s/it]\u001b[A\n",
            "100%|██████████| 3/3 [00:31<00:00, 10.43s/it]\n",
            " 59%|█████▉    | 118/200 [43:13<37:01, 27.09s/it]"
          ]
        },
        {
          "output_type": "stream",
          "name": "stdout",
          "text": [
            "2;0;1;\n",
            "3\n",
            "4;2;1;\n",
            "7\n"
          ]
        },
        {
          "output_type": "stream",
          "name": "stderr",
          "text": [
            "\n",
            "  0%|          | 0/5 [00:00<?, ?it/s]\u001b[A\n",
            " 20%|██        | 1/5 [00:10<00:40, 10.09s/it]\u001b[A\n",
            " 40%|████      | 2/5 [00:20<00:30, 10.05s/it]\u001b[A\n",
            " 60%|██████    | 3/5 [00:30<00:19,  9.99s/it]\u001b[A\n",
            " 80%|████████  | 4/5 [00:41<00:10, 10.54s/it]\u001b[A\n",
            "100%|██████████| 5/5 [00:50<00:00, 10.10s/it]\n",
            " 60%|█████▉    | 119/200 [44:04<45:44, 33.88s/it]"
          ]
        },
        {
          "output_type": "stream",
          "name": "stdout",
          "text": [
            "0;7;3;0;1;\n",
            "11\n",
            "2;1;1;1;1;\n",
            "6\n"
          ]
        },
        {
          "output_type": "stream",
          "name": "stderr",
          "text": [
            "\n",
            "  0%|          | 0/3 [00:00<?, ?it/s]\u001b[A\n",
            " 33%|███▎      | 1/3 [00:12<00:25, 12.83s/it]\u001b[A\n",
            " 67%|██████▋   | 2/3 [00:22<00:10, 10.89s/it]\u001b[A\n",
            "100%|██████████| 3/3 [00:30<00:00, 10.30s/it]\n",
            " 60%|██████    | 120/200 [44:35<44:01, 33.02s/it]"
          ]
        },
        {
          "output_type": "stream",
          "name": "stdout",
          "text": [
            "3;7;1;\n",
            "11\n",
            "3;4;0;\n",
            "7\n"
          ]
        },
        {
          "output_type": "stream",
          "name": "stderr",
          "text": [
            "\n",
            "  0%|          | 0/3 [00:00<?, ?it/s]\u001b[A\n",
            " 33%|███▎      | 1/3 [00:06<00:13,  6.77s/it]\u001b[A\n",
            " 67%|██████▋   | 2/3 [00:17<00:08,  8.86s/it]\u001b[A\n",
            "100%|██████████| 3/3 [00:24<00:00,  8.29s/it]\n",
            " 60%|██████    | 121/200 [45:00<40:18, 30.62s/it]"
          ]
        },
        {
          "output_type": "stream",
          "name": "stdout",
          "text": [
            "0;0;3;\n",
            "3\n",
            "0;0;3;\n",
            "3\n"
          ]
        },
        {
          "output_type": "stream",
          "name": "stderr",
          "text": [
            "\n",
            "  0%|          | 0/3 [00:00<?, ?it/s]\u001b[A\n",
            " 33%|███▎      | 1/3 [00:09<00:18,  9.15s/it]\u001b[A\n",
            " 67%|██████▋   | 2/3 [00:20<00:10, 10.48s/it]\u001b[A\n",
            "100%|██████████| 3/3 [00:39<00:00, 13.08s/it]\n",
            " 61%|██████    | 122/200 [45:39<43:07, 33.18s/it]"
          ]
        },
        {
          "output_type": "stream",
          "name": "stdout",
          "text": [
            "0;1;1;\n",
            "2\n",
            "0;0;0;\n",
            "0\n"
          ]
        },
        {
          "output_type": "stream",
          "name": "stderr",
          "text": [
            "\n",
            "  0%|          | 0/3 [00:00<?, ?it/s]\u001b[A\n",
            " 33%|███▎      | 1/3 [00:06<00:13,  6.88s/it]\u001b[A\n",
            " 67%|██████▋   | 2/3 [00:18<00:09,  9.55s/it]\u001b[A\n",
            "100%|██████████| 3/3 [00:27<00:00,  9.06s/it]\n",
            " 62%|██████▏   | 123/200 [46:06<40:17, 31.40s/it]"
          ]
        },
        {
          "output_type": "stream",
          "name": "stdout",
          "text": [
            "6;9;8;\n",
            "23\n",
            "1;1;1;\n",
            "3\n"
          ]
        },
        {
          "output_type": "stream",
          "name": "stderr",
          "text": [
            "\n",
            "  0%|          | 0/3 [00:00<?, ?it/s]\u001b[A\n",
            " 33%|███▎      | 1/3 [00:09<00:19,  9.88s/it]\u001b[A\n",
            " 67%|██████▋   | 2/3 [00:18<00:09,  9.38s/it]\u001b[A\n",
            "100%|██████████| 3/3 [00:28<00:00,  9.34s/it]\n",
            " 62%|██████▏   | 124/200 [46:34<38:30, 30.40s/it]"
          ]
        },
        {
          "output_type": "stream",
          "name": "stdout",
          "text": [
            "5;4;1;\n",
            "10\n",
            "4;5;13;\n",
            "22\n"
          ]
        },
        {
          "output_type": "stream",
          "name": "stderr",
          "text": [
            "\n",
            "  0%|          | 0/3 [00:00<?, ?it/s]\u001b[A\n",
            " 33%|███▎      | 1/3 [00:14<00:29, 14.77s/it]\u001b[A\n",
            " 67%|██████▋   | 2/3 [00:24<00:12, 12.07s/it]\u001b[A\n",
            "100%|██████████| 3/3 [00:34<00:00, 11.51s/it]\n",
            " 62%|██████▎   | 125/200 [47:09<39:32, 31.63s/it]"
          ]
        },
        {
          "output_type": "stream",
          "name": "stdout",
          "text": [
            "3;0;0;\n",
            "3\n",
            "0;0;0;\n",
            "0\n"
          ]
        },
        {
          "output_type": "stream",
          "name": "stderr",
          "text": [
            "\n",
            "  0%|          | 0/4 [00:00<?, ?it/s]\u001b[A\n",
            " 25%|██▌       | 1/4 [00:07<00:22,  7.36s/it]\u001b[A\n",
            " 50%|█████     | 2/4 [00:12<00:12,  6.28s/it]\u001b[A\n",
            " 75%|███████▌  | 3/4 [00:20<00:06,  6.75s/it]\u001b[A\n",
            "100%|██████████| 4/4 [00:26<00:00,  6.68s/it]\n",
            " 63%|██████▎   | 126/200 [47:35<37:12, 30.17s/it]"
          ]
        },
        {
          "output_type": "stream",
          "name": "stdout",
          "text": [
            "2;4;5;3;\n",
            "14\n",
            "0;0;1;0;\n",
            "1\n"
          ]
        },
        {
          "output_type": "stream",
          "name": "stderr",
          "text": [
            "\n",
            "  0%|          | 0/3 [00:00<?, ?it/s]\u001b[A\n",
            " 33%|███▎      | 1/3 [00:09<00:19,  9.55s/it]\u001b[A\n",
            " 67%|██████▋   | 2/3 [00:20<00:10, 10.44s/it]\u001b[A\n",
            "100%|██████████| 3/3 [00:29<00:00,  9.93s/it]\n",
            " 64%|██████▎   | 127/200 [48:05<36:34, 30.06s/it]"
          ]
        },
        {
          "output_type": "stream",
          "name": "stdout",
          "text": [
            "3;3;0;\n",
            "6\n",
            "2;3;1;\n",
            "6\n"
          ]
        },
        {
          "output_type": "stream",
          "name": "stderr",
          "text": [
            "\n",
            "  0%|          | 0/3 [00:00<?, ?it/s]\u001b[A\n",
            " 33%|███▎      | 1/3 [00:11<00:22, 11.04s/it]\u001b[A\n",
            " 67%|██████▋   | 2/3 [00:23<00:11, 11.83s/it]\u001b[A\n",
            "100%|██████████| 3/3 [00:46<00:00, 15.40s/it]\n",
            " 64%|██████▍   | 128/200 [48:51<41:53, 34.91s/it]"
          ]
        },
        {
          "output_type": "stream",
          "name": "stdout",
          "text": [
            "0;3;0;\n",
            "3\n",
            "0;0;3;\n",
            "3\n"
          ]
        },
        {
          "output_type": "stream",
          "name": "stderr",
          "text": [
            "\n",
            "  0%|          | 0/4 [00:00<?, ?it/s]\u001b[A\n",
            " 25%|██▌       | 1/4 [00:12<00:38, 12.80s/it]\u001b[A\n",
            " 50%|█████     | 2/4 [00:25<00:25, 12.81s/it]\u001b[A\n",
            " 75%|███████▌  | 3/4 [00:34<00:11, 11.20s/it]\u001b[A\n",
            "100%|██████████| 4/4 [00:47<00:00, 11.85s/it]\n",
            " 64%|██████▍   | 129/200 [49:39<45:44, 38.65s/it]"
          ]
        },
        {
          "output_type": "stream",
          "name": "stdout",
          "text": [
            "3;1;0;0;\n",
            "4\n",
            "2;4;0;0;\n",
            "6\n"
          ]
        },
        {
          "output_type": "stream",
          "name": "stderr",
          "text": [
            "\n",
            "  0%|          | 0/3 [00:00<?, ?it/s]\u001b[A\n",
            " 33%|███▎      | 1/3 [00:07<00:15,  7.88s/it]\u001b[A\n",
            " 67%|██████▋   | 2/3 [00:17<00:08,  8.73s/it]\u001b[A\n",
            "100%|██████████| 3/3 [00:27<00:00,  9.33s/it]\n",
            " 65%|██████▌   | 130/200 [50:07<41:22, 35.46s/it]"
          ]
        },
        {
          "output_type": "stream",
          "name": "stdout",
          "text": [
            "1;0;0;\n",
            "1\n",
            "0;0;0;\n",
            "0\n"
          ]
        },
        {
          "output_type": "stream",
          "name": "stderr",
          "text": [
            "\n",
            "  0%|          | 0/3 [00:00<?, ?it/s]\u001b[A\n",
            " 33%|███▎      | 1/3 [00:07<00:15,  7.82s/it]\u001b[A\n",
            " 67%|██████▋   | 2/3 [00:16<00:08,  8.58s/it]\u001b[A\n",
            "100%|██████████| 3/3 [00:26<00:00,  8.78s/it]\n",
            " 66%|██████▌   | 131/200 [50:33<37:38, 32.73s/it]"
          ]
        },
        {
          "output_type": "stream",
          "name": "stdout",
          "text": [
            "4;9;5;\n",
            "18\n",
            "1;1;1;\n",
            "3\n"
          ]
        },
        {
          "output_type": "stream",
          "name": "stderr",
          "text": [
            "\n",
            "  0%|          | 0/3 [00:00<?, ?it/s]\u001b[A\n",
            " 33%|███▎      | 1/3 [00:24<00:49, 24.80s/it]\u001b[A\n",
            " 67%|██████▋   | 2/3 [00:34<00:16, 16.11s/it]\u001b[A\n",
            "100%|██████████| 3/3 [00:43<00:00, 14.54s/it]\n",
            " 66%|██████▌   | 132/200 [51:17<40:48, 36.00s/it]"
          ]
        },
        {
          "output_type": "stream",
          "name": "stdout",
          "text": [
            "3;11;0;\n",
            "14\n",
            "0;0;3;\n",
            "3\n"
          ]
        },
        {
          "output_type": "stream",
          "name": "stderr",
          "text": [
            "\n",
            "  0%|          | 0/3 [00:00<?, ?it/s]\u001b[A\n",
            " 33%|███▎      | 1/3 [00:12<00:24, 12.13s/it]\u001b[A\n",
            " 67%|██████▋   | 2/3 [00:19<00:09,  9.57s/it]\u001b[A\n",
            "100%|██████████| 3/3 [00:30<00:00, 10.21s/it]\n",
            " 66%|██████▋   | 133/200 [51:47<38:24, 34.39s/it]"
          ]
        },
        {
          "output_type": "stream",
          "name": "stdout",
          "text": [
            "8;3;0;\n",
            "11\n",
            "1;0;0;\n",
            "1\n"
          ]
        },
        {
          "output_type": "stream",
          "name": "stderr",
          "text": [
            "\n",
            "  0%|          | 0/3 [00:00<?, ?it/s]\u001b[A\n",
            " 33%|███▎      | 1/3 [00:12<00:24, 12.43s/it]\u001b[A\n",
            " 67%|██████▋   | 2/3 [00:22<00:11, 11.25s/it]\u001b[A\n",
            "100%|██████████| 3/3 [00:30<00:00, 10.07s/it]\n",
            " 67%|██████▋   | 134/200 [52:18<36:27, 33.14s/it]"
          ]
        },
        {
          "output_type": "stream",
          "name": "stdout",
          "text": [
            "4;3;3;\n",
            "10\n",
            "9;5;2;\n",
            "16\n"
          ]
        },
        {
          "output_type": "stream",
          "name": "stderr",
          "text": [
            "\n",
            "  0%|          | 0/4 [00:00<?, ?it/s]\u001b[A\n",
            " 25%|██▌       | 1/4 [00:10<00:30, 10.31s/it]\u001b[A\n",
            " 50%|█████     | 2/4 [00:19<00:19,  9.58s/it]\u001b[A\n",
            " 75%|███████▌  | 3/4 [00:30<00:10, 10.19s/it]\u001b[A\n",
            "100%|██████████| 4/4 [00:38<00:00,  9.53s/it]\n",
            " 68%|██████▊   | 135/200 [52:56<37:31, 34.64s/it]"
          ]
        },
        {
          "output_type": "stream",
          "name": "stdout",
          "text": [
            "7;1;5;4;\n",
            "17\n",
            "4;0;0;3;\n",
            "7\n"
          ]
        },
        {
          "output_type": "stream",
          "name": "stderr",
          "text": [
            "\n",
            "  0%|          | 0/4 [00:00<?, ?it/s]\u001b[A\n",
            " 25%|██▌       | 1/4 [00:14<00:43, 14.56s/it]\u001b[A\n",
            " 50%|█████     | 2/4 [00:23<00:22, 11.22s/it]\u001b[A\n",
            " 75%|███████▌  | 3/4 [00:30<00:09,  9.54s/it]\u001b[A\n",
            "100%|██████████| 4/4 [00:39<00:00,  9.90s/it]\n",
            " 68%|██████▊   | 136/200 [53:35<38:32, 36.14s/it]"
          ]
        },
        {
          "output_type": "stream",
          "name": "stdout",
          "text": [
            "15;8;4;9;\n",
            "36\n",
            "0;1;0;6;\n",
            "7\n"
          ]
        },
        {
          "output_type": "stream",
          "name": "stderr",
          "text": [
            "\n",
            "  0%|          | 0/3 [00:00<?, ?it/s]\u001b[A\n",
            " 33%|███▎      | 1/3 [00:12<00:24, 12.41s/it]\u001b[A\n",
            " 67%|██████▋   | 2/3 [00:21<00:10, 10.62s/it]\u001b[A\n",
            "100%|██████████| 3/3 [00:30<00:00, 10.02s/it]\n",
            " 68%|██████▊   | 137/200 [54:05<36:01, 34.32s/it]"
          ]
        },
        {
          "output_type": "stream",
          "name": "stdout",
          "text": [
            "1;2;1;\n",
            "4\n",
            "2;1;0;\n",
            "3\n"
          ]
        },
        {
          "output_type": "stream",
          "name": "stderr",
          "text": [
            "\n",
            "  0%|          | 0/3 [00:00<?, ?it/s]\u001b[A\n",
            " 33%|███▎      | 1/3 [00:06<00:12,  6.28s/it]\u001b[A\n",
            " 67%|██████▋   | 2/3 [00:15<00:08,  8.20s/it]\u001b[A\n",
            "100%|██████████| 3/3 [00:27<00:00,  9.28s/it]\n",
            " 69%|██████▉   | 138/200 [54:33<33:27, 32.38s/it]"
          ]
        },
        {
          "output_type": "stream",
          "name": "stdout",
          "text": [
            "0;0;0;\n",
            "0\n",
            "2;4;0;\n",
            "6\n"
          ]
        },
        {
          "output_type": "stream",
          "name": "stderr",
          "text": [
            "\n",
            "  0%|          | 0/4 [00:00<?, ?it/s]\u001b[A\n",
            " 25%|██▌       | 1/4 [00:08<00:25,  8.54s/it]\u001b[A\n",
            " 50%|█████     | 2/4 [00:19<00:19,  9.71s/it]\u001b[A\n",
            " 75%|███████▌  | 3/4 [00:27<00:09,  9.17s/it]\u001b[A\n",
            "100%|██████████| 4/4 [00:37<00:00,  9.45s/it]\n",
            " 70%|██████▉   | 139/200 [55:11<34:34, 34.01s/it]"
          ]
        },
        {
          "output_type": "stream",
          "name": "stdout",
          "text": [
            "4;0;0;0;\n",
            "4\n",
            "0;0;0;1;\n",
            "1\n"
          ]
        },
        {
          "output_type": "stream",
          "name": "stderr",
          "text": [
            "\n",
            "  0%|          | 0/5 [00:00<?, ?it/s]\u001b[A\n",
            " 20%|██        | 1/5 [00:07<00:31,  7.83s/it]\u001b[A\n",
            " 40%|████      | 2/5 [00:15<00:22,  7.55s/it]\u001b[A\n",
            " 60%|██████    | 3/5 [00:23<00:15,  7.81s/it]\u001b[A\n",
            " 80%|████████  | 4/5 [00:31<00:07,  7.93s/it]\u001b[A\n",
            "100%|██████████| 5/5 [00:41<00:00,  8.25s/it]\n",
            " 70%|███████   | 140/200 [55:52<36:11, 36.19s/it]"
          ]
        },
        {
          "output_type": "stream",
          "name": "stdout",
          "text": [
            "2;4;0;0;0;\n",
            "6\n",
            "3;0;0;2;6;\n",
            "11\n"
          ]
        },
        {
          "output_type": "stream",
          "name": "stderr",
          "text": [
            "\n",
            "  0%|          | 0/3 [00:00<?, ?it/s]\u001b[A\n",
            " 33%|███▎      | 1/3 [00:04<00:08,  4.32s/it]\u001b[A\n",
            " 67%|██████▋   | 2/3 [00:13<00:07,  7.39s/it]\u001b[A\n",
            "100%|██████████| 3/3 [00:23<00:00,  8.00s/it]\n",
            " 70%|███████   | 141/200 [56:16<31:59, 32.54s/it]"
          ]
        },
        {
          "output_type": "stream",
          "name": "stdout",
          "text": [
            "0;0;1;\n",
            "1\n",
            "0;0;0;\n",
            "0\n"
          ]
        },
        {
          "output_type": "stream",
          "name": "stderr",
          "text": [
            "\n",
            "  0%|          | 0/3 [00:00<?, ?it/s]\u001b[A\n",
            " 33%|███▎      | 1/3 [00:08<00:17,  8.53s/it]\u001b[A\n",
            " 67%|██████▋   | 2/3 [00:16<00:08,  8.39s/it]\u001b[A\n",
            "100%|██████████| 3/3 [00:26<00:00,  8.79s/it]\n",
            " 71%|███████   | 142/200 [56:43<29:39, 30.69s/it]"
          ]
        },
        {
          "output_type": "stream",
          "name": "stdout",
          "text": [
            "0;0;0;\n",
            "0\n",
            "0;0;0;\n",
            "0\n"
          ]
        },
        {
          "output_type": "stream",
          "name": "stderr",
          "text": [
            "\n",
            "  0%|          | 0/3 [00:00<?, ?it/s]\u001b[A\n",
            " 33%|███▎      | 1/3 [00:08<00:16,  8.13s/it]\u001b[A\n",
            " 67%|██████▋   | 2/3 [00:17<00:08,  8.80s/it]\u001b[A\n",
            "100%|██████████| 3/3 [00:29<00:00,  9.93s/it]\n",
            " 72%|███████▏  | 143/200 [57:13<28:53, 30.42s/it]"
          ]
        },
        {
          "output_type": "stream",
          "name": "stdout",
          "text": [
            "3;7;7;\n",
            "17\n",
            "7;6;0;\n",
            "13\n"
          ]
        },
        {
          "output_type": "stream",
          "name": "stderr",
          "text": [
            "\n",
            "  0%|          | 0/4 [00:00<?, ?it/s]\u001b[A\n",
            " 25%|██▌       | 1/4 [00:08<00:25,  8.54s/it]\u001b[A\n",
            " 50%|█████     | 2/4 [00:15<00:15,  7.87s/it]\u001b[A\n",
            " 75%|███████▌  | 3/4 [00:23<00:07,  7.72s/it]\u001b[A\n",
            "100%|██████████| 4/4 [00:32<00:00,  8.01s/it]\n",
            " 72%|███████▏  | 144/200 [57:45<28:50, 30.90s/it]"
          ]
        },
        {
          "output_type": "stream",
          "name": "stdout",
          "text": [
            "3;3;2;2;\n",
            "10\n",
            "1;0;0;0;\n",
            "1\n"
          ]
        },
        {
          "output_type": "stream",
          "name": "stderr",
          "text": [
            "\n",
            "  0%|          | 0/3 [00:00<?, ?it/s]\u001b[A\n",
            " 33%|███▎      | 1/3 [00:08<00:16,  8.16s/it]\u001b[A\n",
            " 67%|██████▋   | 2/3 [00:16<00:08,  8.33s/it]\u001b[A\n",
            "100%|██████████| 3/3 [00:28<00:00,  9.47s/it]\n",
            " 72%|███████▎  | 145/200 [58:13<27:38, 30.16s/it]"
          ]
        },
        {
          "output_type": "stream",
          "name": "stdout",
          "text": [
            "1;10;0;\n",
            "11\n",
            "0;1;4;\n",
            "5\n"
          ]
        },
        {
          "output_type": "stream",
          "name": "stderr",
          "text": [
            "\n",
            "  0%|          | 0/3 [00:00<?, ?it/s]\u001b[A\n",
            " 33%|███▎      | 1/3 [00:10<00:21, 10.80s/it]\u001b[A\n",
            " 67%|██████▋   | 2/3 [00:20<00:10, 10.24s/it]\u001b[A\n",
            "100%|██████████| 3/3 [00:28<00:00,  9.51s/it]\n",
            " 73%|███████▎  | 146/200 [58:42<26:42, 29.67s/it]"
          ]
        },
        {
          "output_type": "stream",
          "name": "stdout",
          "text": [
            "2;7;3;\n",
            "12\n",
            "3;1;5;\n",
            "9\n"
          ]
        },
        {
          "output_type": "stream",
          "name": "stderr",
          "text": [
            "\n",
            "  0%|          | 0/4 [00:00<?, ?it/s]\u001b[A\n",
            " 25%|██▌       | 1/4 [00:07<00:22,  7.54s/it]\u001b[A\n",
            " 50%|█████     | 2/4 [00:18<00:19,  9.61s/it]\u001b[A\n",
            " 75%|███████▌  | 3/4 [00:28<00:09,  9.88s/it]\u001b[A\n",
            "100%|██████████| 4/4 [00:36<00:00,  9.18s/it]\n",
            " 74%|███████▎  | 147/200 [59:18<28:04, 31.79s/it]"
          ]
        },
        {
          "output_type": "stream",
          "name": "stdout",
          "text": [
            "5;2;12;0;\n",
            "19\n",
            "0;5;0;0;\n",
            "5\n"
          ]
        },
        {
          "output_type": "stream",
          "name": "stderr",
          "text": [
            "\n",
            "  0%|          | 0/3 [00:00<?, ?it/s]\u001b[A\n",
            " 33%|███▎      | 1/3 [00:08<00:17,  8.85s/it]\u001b[A\n",
            " 67%|██████▋   | 2/3 [00:19<00:10, 10.14s/it]\u001b[A\n",
            "100%|██████████| 3/3 [00:29<00:00,  9.98s/it]\n",
            " 74%|███████▍  | 148/200 [59:48<27:04, 31.24s/it]"
          ]
        },
        {
          "output_type": "stream",
          "name": "stdout",
          "text": [
            "0;1;0;\n",
            "1\n",
            "5;6;0;\n",
            "11\n"
          ]
        },
        {
          "output_type": "stream",
          "name": "stderr",
          "text": [
            "\n",
            "  0%|          | 0/3 [00:00<?, ?it/s]\u001b[A\n",
            " 33%|███▎      | 1/3 [00:05<00:11,  5.79s/it]\u001b[A\n",
            " 67%|██████▋   | 2/3 [00:15<00:08,  8.16s/it]\u001b[A\n",
            "100%|██████████| 3/3 [00:24<00:00,  8.15s/it]\n",
            " 74%|███████▍  | 149/200 [1:00:13<24:49, 29.21s/it]"
          ]
        },
        {
          "output_type": "stream",
          "name": "stdout",
          "text": [
            "1;1;3;\n",
            "5\n",
            "0;1;3;\n",
            "4\n"
          ]
        },
        {
          "output_type": "stream",
          "name": "stderr",
          "text": [
            "\n",
            "  0%|          | 0/3 [00:00<?, ?it/s]\u001b[A\n",
            " 33%|███▎      | 1/3 [00:10<00:20, 10.33s/it]\u001b[A\n",
            " 67%|██████▋   | 2/3 [00:18<00:09,  9.30s/it]\u001b[A\n",
            "100%|██████████| 3/3 [00:29<00:00,  9.71s/it]\n",
            " 75%|███████▌  | 150/200 [1:00:42<24:19, 29.18s/it]"
          ]
        },
        {
          "output_type": "stream",
          "name": "stdout",
          "text": [
            "2;0;9;\n",
            "11\n",
            "0;10;0;\n",
            "10\n"
          ]
        },
        {
          "output_type": "stream",
          "name": "stderr",
          "text": [
            "\n",
            "  0%|          | 0/4 [00:00<?, ?it/s]\u001b[A\n",
            " 25%|██▌       | 1/4 [00:07<00:22,  7.53s/it]\u001b[A\n",
            " 50%|█████     | 2/4 [00:16<00:17,  8.57s/it]\u001b[A\n",
            " 75%|███████▌  | 3/4 [00:25<00:08,  8.71s/it]\u001b[A\n",
            "100%|██████████| 4/4 [00:35<00:00,  8.81s/it]\n",
            " 76%|███████▌  | 151/200 [1:01:17<25:19, 31.01s/it]"
          ]
        },
        {
          "output_type": "stream",
          "name": "stdout",
          "text": [
            "0;0;1;0;\n",
            "1\n",
            "0;2;0;0;\n",
            "2\n"
          ]
        },
        {
          "output_type": "stream",
          "name": "stderr",
          "text": [
            "\n",
            "  0%|          | 0/3 [00:00<?, ?it/s]\u001b[A\n",
            " 33%|███▎      | 1/3 [00:09<00:19,  9.78s/it]\u001b[A\n",
            " 67%|██████▋   | 2/3 [00:17<00:08,  8.46s/it]\u001b[A\n",
            "100%|██████████| 3/3 [00:25<00:00,  8.62s/it]\n",
            " 76%|███████▌  | 152/200 [1:01:43<23:34, 29.47s/it]"
          ]
        },
        {
          "output_type": "stream",
          "name": "stdout",
          "text": [
            "3;0;3;\n",
            "6\n",
            "1;0;0;\n",
            "1\n"
          ]
        },
        {
          "output_type": "stream",
          "name": "stderr",
          "text": [
            "\n",
            "  0%|          | 0/3 [00:00<?, ?it/s]\u001b[A\n",
            " 33%|███▎      | 1/3 [00:05<00:11,  5.55s/it]\u001b[A\n",
            " 67%|██████▋   | 2/3 [00:12<00:06,  6.47s/it]\u001b[A\n",
            "100%|██████████| 3/3 [00:19<00:00,  6.40s/it]\n",
            " 76%|███████▋  | 153/200 [1:02:02<20:40, 26.39s/it]"
          ]
        },
        {
          "output_type": "stream",
          "name": "stdout",
          "text": [
            "2;0;5;\n",
            "7\n",
            "0;1;0;\n",
            "1\n"
          ]
        },
        {
          "output_type": "stream",
          "name": "stderr",
          "text": [
            "\n",
            "  0%|          | 0/3 [00:00<?, ?it/s]\u001b[A\n",
            " 33%|███▎      | 1/3 [00:07<00:15,  7.53s/it]\u001b[A\n",
            " 67%|██████▋   | 2/3 [00:17<00:09,  9.18s/it]\u001b[A\n",
            "100%|██████████| 3/3 [00:25<00:00,  8.57s/it]\n",
            " 77%|███████▋  | 154/200 [1:02:28<20:04, 26.19s/it]"
          ]
        },
        {
          "output_type": "stream",
          "name": "stdout",
          "text": [
            "2;0;0;\n",
            "2\n",
            "3;0;0;\n",
            "3\n"
          ]
        },
        {
          "output_type": "stream",
          "name": "stderr",
          "text": [
            "\n",
            "  0%|          | 0/3 [00:00<?, ?it/s]\u001b[A\n",
            " 33%|███▎      | 1/3 [00:09<00:18,  9.42s/it]\u001b[A\n",
            " 67%|██████▋   | 2/3 [00:22<00:11, 11.68s/it]\u001b[A\n",
            "100%|██████████| 3/3 [00:32<00:00, 10.97s/it]\n",
            " 78%|███████▊  | 155/200 [1:03:01<21:09, 28.21s/it]"
          ]
        },
        {
          "output_type": "stream",
          "name": "stdout",
          "text": [
            "0;0;0;\n",
            "0\n",
            "2;0;3;\n",
            "5\n"
          ]
        },
        {
          "output_type": "stream",
          "name": "stderr",
          "text": [
            "\n",
            "  0%|          | 0/3 [00:00<?, ?it/s]\u001b[A\n",
            " 33%|███▎      | 1/3 [00:12<00:24, 12.48s/it]\u001b[A\n",
            " 67%|██████▋   | 2/3 [00:20<00:09,  9.61s/it]\u001b[A\n",
            "100%|██████████| 3/3 [00:31<00:00, 10.60s/it]\n",
            " 78%|███████▊  | 156/200 [1:03:33<21:28, 29.30s/it]"
          ]
        },
        {
          "output_type": "stream",
          "name": "stdout",
          "text": [
            "1;1;0;\n",
            "2\n",
            "1;2;0;\n",
            "3\n"
          ]
        },
        {
          "output_type": "stream",
          "name": "stderr",
          "text": [
            "\n",
            "  0%|          | 0/3 [00:00<?, ?it/s]\u001b[A\n",
            " 33%|███▎      | 1/3 [00:08<00:16,  8.33s/it]\u001b[A\n",
            " 67%|██████▋   | 2/3 [00:16<00:08,  8.35s/it]\u001b[A\n",
            "100%|██████████| 3/3 [00:24<00:00,  8.01s/it]\n",
            " 78%|███████▊  | 157/200 [1:03:57<19:52, 27.72s/it]"
          ]
        },
        {
          "output_type": "stream",
          "name": "stdout",
          "text": [
            "0;7;5;\n",
            "12\n",
            "7;0;0;\n",
            "7\n"
          ]
        },
        {
          "output_type": "stream",
          "name": "stderr",
          "text": [
            "\n",
            "  0%|          | 0/3 [00:00<?, ?it/s]\u001b[A\n",
            " 33%|███▎      | 1/3 [00:12<00:24, 12.09s/it]\u001b[A\n",
            " 67%|██████▋   | 2/3 [00:22<00:10, 10.91s/it]\u001b[A\n",
            "100%|██████████| 3/3 [00:36<00:00, 12.24s/it]\n",
            " 79%|███████▉  | 158/200 [1:04:34<21:17, 30.42s/it]"
          ]
        },
        {
          "output_type": "stream",
          "name": "stdout",
          "text": [
            "0;1;0;\n",
            "1\n",
            "0;0;0;\n",
            "0\n"
          ]
        },
        {
          "output_type": "stream",
          "name": "stderr",
          "text": [
            "\n",
            "  0%|          | 0/3 [00:00<?, ?it/s]\u001b[A\n",
            " 33%|███▎      | 1/3 [00:11<00:23, 11.80s/it]\u001b[A\n",
            " 67%|██████▋   | 2/3 [00:24<00:12, 12.42s/it]\u001b[A\n",
            "100%|██████████| 3/3 [00:33<00:00, 11.02s/it]\n",
            " 80%|███████▉  | 159/200 [1:05:07<21:19, 31.22s/it]"
          ]
        },
        {
          "output_type": "stream",
          "name": "stdout",
          "text": [
            "3;1;0;\n",
            "4\n",
            "0;8;3;\n",
            "11\n"
          ]
        },
        {
          "output_type": "stream",
          "name": "stderr",
          "text": [
            "\n",
            "  0%|          | 0/2 [00:00<?, ?it/s]\u001b[A\n",
            " 50%|█████     | 1/2 [00:11<00:11, 11.92s/it]\u001b[A\n",
            "100%|██████████| 2/2 [00:20<00:00, 10.12s/it]\n",
            " 80%|████████  | 160/200 [1:05:27<18:37, 27.93s/it]"
          ]
        },
        {
          "output_type": "stream",
          "name": "stdout",
          "text": [
            "1;3;\n",
            "4\n",
            "0;2;\n",
            "2\n"
          ]
        },
        {
          "output_type": "stream",
          "name": "stderr",
          "text": [
            "\n",
            "  0%|          | 0/3 [00:00<?, ?it/s]\u001b[A\n",
            " 33%|███▎      | 1/3 [00:07<00:15,  7.89s/it]\u001b[A\n",
            " 67%|██████▋   | 2/3 [00:17<00:09,  9.08s/it]\u001b[A\n",
            "100%|██████████| 3/3 [00:30<00:00, 10.12s/it]\n",
            " 80%|████████  | 161/200 [1:05:57<18:37, 28.66s/it]"
          ]
        },
        {
          "output_type": "stream",
          "name": "stdout",
          "text": [
            "0;1;0;\n",
            "1\n",
            "12;3;2;\n",
            "17\n"
          ]
        },
        {
          "output_type": "stream",
          "name": "stderr",
          "text": [
            "\n",
            "  0%|          | 0/3 [00:00<?, ?it/s]\u001b[A\n",
            " 33%|███▎      | 1/3 [00:06<00:13,  6.79s/it]\u001b[A\n",
            " 67%|██████▋   | 2/3 [00:13<00:06,  6.89s/it]\u001b[A\n",
            "100%|██████████| 3/3 [00:22<00:00,  7.63s/it]\n",
            " 81%|████████  | 162/200 [1:06:20<17:03, 26.93s/it]"
          ]
        },
        {
          "output_type": "stream",
          "name": "stdout",
          "text": [
            "0;0;0;\n",
            "0\n",
            "1;0;2;\n",
            "3\n"
          ]
        },
        {
          "output_type": "stream",
          "name": "stderr",
          "text": [
            "\n",
            "  0%|          | 0/6 [00:00<?, ?it/s]\u001b[A\n",
            " 17%|█▋        | 1/6 [00:13<01:06, 13.22s/it]\u001b[A\n",
            " 33%|███▎      | 2/6 [00:22<00:43, 10.92s/it]\u001b[A\n",
            " 50%|█████     | 3/6 [00:29<00:26,  8.92s/it]\u001b[A\n",
            " 67%|██████▋   | 4/6 [00:36<00:16,  8.39s/it]\u001b[A\n",
            " 83%|████████▎ | 5/6 [00:44<00:08,  8.35s/it]\u001b[A\n",
            "100%|██████████| 6/6 [00:56<00:00,  9.42s/it]\n",
            " 82%|████████▏ | 163/200 [1:07:17<22:05, 35.81s/it]"
          ]
        },
        {
          "output_type": "stream",
          "name": "stdout",
          "text": [
            "3;0;0;2;0;0;\n",
            "5\n",
            "5;0;0;2;0;0;\n",
            "7\n"
          ]
        },
        {
          "output_type": "stream",
          "name": "stderr",
          "text": [
            "\n",
            "  0%|          | 0/4 [00:00<?, ?it/s]\u001b[A\n",
            " 25%|██▌       | 1/4 [00:08<00:24,  8.30s/it]\u001b[A\n",
            " 50%|█████     | 2/4 [00:18<00:19,  9.62s/it]\u001b[A\n",
            " 75%|███████▌  | 3/4 [00:26<00:08,  8.78s/it]\u001b[A\n",
            "100%|██████████| 4/4 [00:36<00:00,  9.11s/it]\n",
            " 82%|████████▎ | 165/200 [1:07:53<16:09, 27.70s/it]"
          ]
        },
        {
          "output_type": "stream",
          "name": "stdout",
          "text": [
            "2;0;3;0;\n",
            "5\n",
            "0;0;0;1;\n",
            "1\n"
          ]
        },
        {
          "output_type": "stream",
          "name": "stderr",
          "text": [
            "\n",
            "  0%|          | 0/3 [00:00<?, ?it/s]\u001b[A\n",
            " 33%|███▎      | 1/3 [00:11<00:22, 11.28s/it]\u001b[A\n",
            " 67%|██████▋   | 2/3 [00:18<00:09,  9.01s/it]\u001b[A\n",
            "100%|██████████| 3/3 [00:28<00:00,  9.50s/it]\n",
            " 83%|████████▎ | 166/200 [1:08:22<15:48, 27.90s/it]"
          ]
        },
        {
          "output_type": "stream",
          "name": "stdout",
          "text": [
            "9;2;4;\n",
            "15\n",
            "5;6;0;\n",
            "11\n"
          ]
        },
        {
          "output_type": "stream",
          "name": "stderr",
          "text": [
            "\n",
            "  0%|          | 0/3 [00:00<?, ?it/s]\u001b[A\n",
            " 33%|███▎      | 1/3 [00:10<00:21, 10.53s/it]\u001b[A\n",
            " 67%|██████▋   | 2/3 [00:19<00:09,  9.50s/it]\u001b[A\n",
            "100%|██████████| 3/3 [00:28<00:00,  9.53s/it]\n",
            " 84%|████████▎ | 167/200 [1:08:50<15:26, 28.09s/it]"
          ]
        },
        {
          "output_type": "stream",
          "name": "stdout",
          "text": [
            "0;0;0;\n",
            "0\n",
            "0;0;0;\n",
            "0\n"
          ]
        },
        {
          "output_type": "stream",
          "name": "stderr",
          "text": [
            "\n",
            "  0%|          | 0/3 [00:00<?, ?it/s]\u001b[A\n",
            " 33%|███▎      | 1/3 [00:15<00:30, 15.11s/it]\u001b[A\n",
            " 67%|██████▋   | 2/3 [00:27<00:13, 13.69s/it]\u001b[A\n",
            "100%|██████████| 3/3 [00:38<00:00, 12.95s/it]\n",
            " 84%|████████▍ | 168/200 [1:09:29<16:32, 31.01s/it]"
          ]
        },
        {
          "output_type": "stream",
          "name": "stdout",
          "text": [
            "3;0;4;\n",
            "7\n",
            "2;0;1;\n",
            "3\n"
          ]
        },
        {
          "output_type": "stream",
          "name": "stderr",
          "text": [
            "\n",
            "  0%|          | 0/3 [00:00<?, ?it/s]\u001b[A\n",
            " 33%|███▎      | 1/3 [00:05<00:11,  5.79s/it]\u001b[A\n",
            " 67%|██████▋   | 2/3 [00:14<00:07,  7.77s/it]\u001b[A\n",
            "100%|██████████| 3/3 [00:29<00:00,  9.68s/it]\n",
            " 84%|████████▍ | 169/200 [1:09:58<15:44, 30.46s/it]"
          ]
        },
        {
          "output_type": "stream",
          "name": "stdout",
          "text": [
            "0;0;0;\n",
            "0\n",
            "0;0;0;\n",
            "0\n"
          ]
        },
        {
          "output_type": "stream",
          "name": "stderr",
          "text": [
            "\n",
            "  0%|          | 0/3 [00:00<?, ?it/s]\u001b[A\n",
            " 33%|███▎      | 1/3 [00:09<00:18,  9.15s/it]\u001b[A\n",
            " 67%|██████▋   | 2/3 [00:19<00:09,  9.92s/it]\u001b[A\n",
            "100%|██████████| 3/3 [00:26<00:00,  8.81s/it]\n",
            " 85%|████████▌ | 170/200 [1:10:25<14:39, 29.31s/it]"
          ]
        },
        {
          "output_type": "stream",
          "name": "stdout",
          "text": [
            "2;0;2;\n",
            "4\n",
            "0;0;0;\n",
            "0\n"
          ]
        },
        {
          "output_type": "stream",
          "name": "stderr",
          "text": [
            "\n",
            "  0%|          | 0/4 [00:00<?, ?it/s]\u001b[A\n",
            " 25%|██▌       | 1/4 [00:15<00:45, 15.27s/it]\u001b[A\n",
            " 50%|█████     | 2/4 [00:26<00:25, 12.90s/it]\u001b[A\n",
            " 75%|███████▌  | 3/4 [00:35<00:11, 11.26s/it]\u001b[A\n",
            "100%|██████████| 4/4 [00:45<00:00, 11.50s/it]\n",
            " 86%|████████▌ | 171/200 [1:11:11<16:30, 34.15s/it]"
          ]
        },
        {
          "output_type": "stream",
          "name": "stdout",
          "text": [
            "0;5;1;5;\n",
            "11\n",
            "1;4;0;6;\n",
            "11\n"
          ]
        },
        {
          "output_type": "stream",
          "name": "stderr",
          "text": [
            "\n",
            "  0%|          | 0/3 [00:00<?, ?it/s]\u001b[A\n",
            " 33%|███▎      | 1/3 [00:18<00:36, 18.32s/it]\u001b[A\n",
            " 67%|██████▋   | 2/3 [00:31<00:15, 15.28s/it]\u001b[A\n",
            "100%|██████████| 3/3 [00:44<00:00, 14.70s/it]\n",
            " 86%|████████▌ | 172/200 [1:11:55<17:17, 37.07s/it]"
          ]
        },
        {
          "output_type": "stream",
          "name": "stdout",
          "text": [
            "1;2;0;\n",
            "3\n",
            "0;6;2;\n",
            "8\n"
          ]
        },
        {
          "output_type": "stream",
          "name": "stderr",
          "text": [
            "\n",
            "  0%|          | 0/2 [00:00<?, ?it/s]\u001b[A\n",
            " 50%|█████     | 1/2 [00:14<00:14, 14.35s/it]\u001b[A\n",
            "100%|██████████| 2/2 [00:24<00:00, 12.31s/it]\n",
            " 86%|████████▋ | 173/200 [1:12:19<15:01, 33.40s/it]"
          ]
        },
        {
          "output_type": "stream",
          "name": "stdout",
          "text": [
            "0;0;\n",
            "0\n",
            "1;2;\n",
            "3\n"
          ]
        },
        {
          "output_type": "stream",
          "name": "stderr",
          "text": [
            "\n",
            "  0%|          | 0/3 [00:00<?, ?it/s]\u001b[A\n",
            " 33%|███▎      | 1/3 [00:09<00:18,  9.10s/it]\u001b[A\n",
            " 67%|██████▋   | 2/3 [00:22<00:11, 11.58s/it]\u001b[A\n",
            "100%|██████████| 3/3 [00:32<00:00, 10.93s/it]\n",
            " 87%|████████▋ | 174/200 [1:12:52<14:23, 33.22s/it]"
          ]
        },
        {
          "output_type": "stream",
          "name": "stdout",
          "text": [
            "2;3;2;\n",
            "7\n",
            "2;3;0;\n",
            "5\n"
          ]
        },
        {
          "output_type": "stream",
          "name": "stderr",
          "text": [
            "\n",
            "  0%|          | 0/3 [00:00<?, ?it/s]\u001b[A\n",
            " 33%|███▎      | 1/3 [00:07<00:15,  7.86s/it]\u001b[A\n",
            " 67%|██████▋   | 2/3 [00:16<00:08,  8.48s/it]\u001b[A\n",
            "100%|██████████| 3/3 [00:24<00:00,  8.06s/it]\n",
            " 88%|████████▊ | 175/200 [1:13:16<12:43, 30.53s/it]"
          ]
        },
        {
          "output_type": "stream",
          "name": "stdout",
          "text": [
            "5;1;5;\n",
            "11\n",
            "0;0;0;\n",
            "0\n"
          ]
        },
        {
          "output_type": "stream",
          "name": "stderr",
          "text": [
            "\n",
            "  0%|          | 0/3 [00:00<?, ?it/s]\u001b[A\n",
            " 33%|███▎      | 1/3 [00:09<00:19,  9.81s/it]\u001b[A\n",
            " 67%|██████▋   | 2/3 [00:17<00:08,  8.63s/it]\u001b[A\n",
            "100%|██████████| 3/3 [00:23<00:00,  7.82s/it]\n",
            " 88%|████████▊ | 176/200 [1:13:40<11:22, 28.43s/it]"
          ]
        },
        {
          "output_type": "stream",
          "name": "stdout",
          "text": [
            "9;1;7;\n",
            "17\n",
            "0;0;2;\n",
            "2\n"
          ]
        },
        {
          "output_type": "stream",
          "name": "stderr",
          "text": [
            "\n",
            "  0%|          | 0/3 [00:00<?, ?it/s]\u001b[A\n",
            " 33%|███▎      | 1/3 [00:06<00:13,  6.53s/it]\u001b[A\n",
            " 67%|██████▋   | 2/3 [00:14<00:07,  7.56s/it]\u001b[A\n",
            "100%|██████████| 3/3 [00:24<00:00,  8.12s/it]\n",
            " 88%|████████▊ | 177/200 [1:14:04<10:25, 27.21s/it]"
          ]
        },
        {
          "output_type": "stream",
          "name": "stdout",
          "text": [
            "0;0;0;\n",
            "0\n",
            "0;0;0;\n",
            "0\n"
          ]
        },
        {
          "output_type": "stream",
          "name": "stderr",
          "text": [
            "\n",
            "  0%|          | 0/3 [00:00<?, ?it/s]\u001b[A\n",
            " 33%|███▎      | 1/3 [00:07<00:15,  7.82s/it]\u001b[A\n",
            " 67%|██████▋   | 2/3 [00:16<00:08,  8.12s/it]\u001b[A\n",
            "100%|██████████| 3/3 [00:27<00:00,  9.18s/it]\n",
            " 89%|████████▉ | 178/200 [1:14:32<10:00, 27.31s/it]"
          ]
        },
        {
          "output_type": "stream",
          "name": "stdout",
          "text": [
            "3;3;0;\n",
            "6\n",
            "3;1;0;\n",
            "4\n"
          ]
        },
        {
          "output_type": "stream",
          "name": "stderr",
          "text": [
            "\n",
            "  0%|          | 0/3 [00:00<?, ?it/s]\u001b[A\n",
            " 33%|███▎      | 1/3 [00:08<00:17,  8.57s/it]\u001b[A\n",
            " 67%|██████▋   | 2/3 [00:15<00:07,  7.52s/it]\u001b[A\n",
            "100%|██████████| 3/3 [00:22<00:00,  7.63s/it]\n",
            " 90%|████████▉ | 179/200 [1:14:55<09:05, 25.99s/it]"
          ]
        },
        {
          "output_type": "stream",
          "name": "stdout",
          "text": [
            "12;7;12;\n",
            "31\n",
            "1;1;1;\n",
            "3\n"
          ]
        },
        {
          "output_type": "stream",
          "name": "stderr",
          "text": [
            "\n",
            "  0%|          | 0/3 [00:00<?, ?it/s]\u001b[A\n",
            " 33%|███▎      | 1/3 [00:07<00:15,  7.85s/it]\u001b[A\n",
            " 67%|██████▋   | 2/3 [00:16<00:08,  8.21s/it]\u001b[A\n",
            "100%|██████████| 3/3 [00:24<00:00,  8.04s/it]\n",
            " 90%|█████████ | 180/200 [1:15:19<08:28, 25.44s/it]"
          ]
        },
        {
          "output_type": "stream",
          "name": "stdout",
          "text": [
            "0;0;0;\n",
            "0\n",
            "0;5;5;\n",
            "10\n"
          ]
        },
        {
          "output_type": "stream",
          "name": "stderr",
          "text": [
            "\n",
            "  0%|          | 0/6 [00:00<?, ?it/s]\u001b[A\n",
            " 17%|█▋        | 1/6 [00:09<00:49,  9.91s/it]\u001b[A\n",
            " 33%|███▎      | 2/6 [00:15<00:29,  7.34s/it]\u001b[A\n",
            " 50%|█████     | 3/6 [00:22<00:22,  7.43s/it]\u001b[A\n",
            " 67%|██████▋   | 4/6 [00:32<00:16,  8.38s/it]\u001b[A\n",
            " 83%|████████▎ | 5/6 [00:41<00:08,  8.39s/it]\u001b[A\n",
            "100%|██████████| 6/6 [00:51<00:00,  8.59s/it]\n",
            " 90%|█████████ | 181/200 [1:16:10<10:32, 33.27s/it]"
          ]
        },
        {
          "output_type": "stream",
          "name": "stdout",
          "text": [
            "1;0;0;0;1;0;\n",
            "2\n",
            "2;0;0;4;1;6;\n",
            "13\n"
          ]
        },
        {
          "output_type": "stream",
          "name": "stderr",
          "text": [
            "\n",
            "  0%|          | 0/4 [00:00<?, ?it/s]\u001b[A\n",
            " 25%|██▌       | 1/4 [00:13<00:39, 13.03s/it]\u001b[A\n",
            " 50%|█████     | 2/4 [00:21<00:20, 10.42s/it]\u001b[A\n",
            " 75%|███████▌  | 3/4 [00:31<00:10, 10.19s/it]\u001b[A\n",
            "100%|██████████| 4/4 [00:43<00:00, 10.91s/it]\n",
            " 91%|█████████ | 182/200 [1:16:54<10:54, 36.39s/it]"
          ]
        },
        {
          "output_type": "stream",
          "name": "stdout",
          "text": [
            "4;0;2;0;\n",
            "6\n",
            "4;1;1;2;\n",
            "8\n"
          ]
        },
        {
          "output_type": "stream",
          "name": "stderr",
          "text": [
            "\n",
            "  0%|          | 0/3 [00:00<?, ?it/s]\u001b[A\n",
            " 33%|███▎      | 1/3 [00:09<00:19,  9.78s/it]\u001b[A\n",
            " 67%|██████▋   | 2/3 [00:17<00:08,  8.83s/it]\u001b[A\n",
            "100%|██████████| 3/3 [00:29<00:00,  9.75s/it]\n",
            " 92%|█████████▏| 183/200 [1:17:23<09:42, 34.25s/it]"
          ]
        },
        {
          "output_type": "stream",
          "name": "stdout",
          "text": [
            "3;0;0;\n",
            "3\n",
            "2;10;13;\n",
            "25\n"
          ]
        },
        {
          "output_type": "stream",
          "name": "stderr",
          "text": [
            "\n",
            "  0%|          | 0/4 [00:00<?, ?it/s]\u001b[A\n",
            " 25%|██▌       | 1/4 [00:11<00:34, 11.63s/it]\u001b[A\n",
            " 50%|█████     | 2/4 [00:25<00:25, 12.84s/it]\u001b[A\n",
            " 75%|███████▌  | 3/4 [00:35<00:11, 11.64s/it]\u001b[A\n",
            "100%|██████████| 4/4 [00:46<00:00, 11.64s/it]\n",
            " 92%|█████████▏| 184/200 [1:18:10<10:07, 37.94s/it]"
          ]
        },
        {
          "output_type": "stream",
          "name": "stdout",
          "text": [
            "0;0;0;2;\n",
            "2\n",
            "0;0;2;6;\n",
            "8\n"
          ]
        },
        {
          "output_type": "stream",
          "name": "stderr",
          "text": [
            "\n",
            "  0%|          | 0/2 [00:00<?, ?it/s]\u001b[A\n",
            " 50%|█████     | 1/2 [00:10<00:10, 10.18s/it]\u001b[A\n",
            "100%|██████████| 2/2 [00:18<00:00,  9.34s/it]\n",
            " 92%|█████████▎| 185/200 [1:18:28<08:02, 32.17s/it]"
          ]
        },
        {
          "output_type": "stream",
          "name": "stdout",
          "text": [
            "1;0;\n",
            "1\n",
            "12;1;\n",
            "13\n"
          ]
        },
        {
          "output_type": "stream",
          "name": "stderr",
          "text": [
            "\n",
            "  0%|          | 0/3 [00:00<?, ?it/s]\u001b[A\n",
            " 33%|███▎      | 1/3 [00:11<00:22, 11.37s/it]\u001b[A\n",
            " 67%|██████▋   | 2/3 [00:22<00:11, 11.17s/it]\u001b[A\n",
            "100%|██████████| 3/3 [00:29<00:00,  9.94s/it]\n",
            " 93%|█████████▎| 186/200 [1:18:58<07:20, 31.47s/it]"
          ]
        },
        {
          "output_type": "stream",
          "name": "stdout",
          "text": [
            "3;6;2;\n",
            "11\n",
            "3;0;4;\n",
            "7\n"
          ]
        },
        {
          "output_type": "stream",
          "name": "stderr",
          "text": [
            "\n",
            "  0%|          | 0/3 [00:00<?, ?it/s]\u001b[A\n",
            " 33%|███▎      | 1/3 [00:09<00:18,  9.15s/it]\u001b[A\n",
            " 67%|██████▋   | 2/3 [00:19<00:09,  9.84s/it]\u001b[A\n",
            "100%|██████████| 3/3 [00:28<00:00,  9.62s/it]\n",
            " 94%|█████████▎| 187/200 [1:19:27<06:38, 30.69s/it]"
          ]
        },
        {
          "output_type": "stream",
          "name": "stdout",
          "text": [
            "0;1;7;\n",
            "8\n",
            "7;2;0;\n",
            "9\n"
          ]
        },
        {
          "output_type": "stream",
          "name": "stderr",
          "text": [
            "\n",
            "  0%|          | 0/3 [00:00<?, ?it/s]\u001b[A\n",
            " 33%|███▎      | 1/3 [00:08<00:16,  8.34s/it]\u001b[A\n",
            " 67%|██████▋   | 2/3 [00:17<00:09,  9.04s/it]\u001b[A\n",
            "100%|██████████| 3/3 [00:26<00:00,  8.92s/it]\n",
            " 94%|█████████▍| 188/200 [1:19:54<05:54, 29.52s/it]"
          ]
        },
        {
          "output_type": "stream",
          "name": "stdout",
          "text": [
            "2;0;7;\n",
            "9\n",
            "9;0;3;\n",
            "12\n"
          ]
        },
        {
          "output_type": "stream",
          "name": "stderr",
          "text": [
            "\n",
            "  0%|          | 0/3 [00:00<?, ?it/s]\u001b[A\n",
            " 33%|███▎      | 1/3 [00:08<00:17,  8.82s/it]\u001b[A\n",
            " 67%|██████▋   | 2/3 [00:17<00:08,  8.54s/it]\u001b[A\n",
            "100%|██████████| 3/3 [00:25<00:00,  8.48s/it]\n",
            " 94%|█████████▍| 189/200 [1:20:19<05:11, 28.30s/it]"
          ]
        },
        {
          "output_type": "stream",
          "name": "stdout",
          "text": [
            "3;1;0;\n",
            "4\n",
            "2;0;1;\n",
            "3\n"
          ]
        },
        {
          "output_type": "stream",
          "name": "stderr",
          "text": [
            "\n",
            "  0%|          | 0/2 [00:00<?, ?it/s]\u001b[A\n",
            " 50%|█████     | 1/2 [00:13<00:13, 13.53s/it]\u001b[A\n",
            "100%|██████████| 2/2 [00:23<00:00, 11.68s/it]\n",
            " 95%|█████████▌| 190/200 [1:20:43<04:28, 26.82s/it]"
          ]
        },
        {
          "output_type": "stream",
          "name": "stdout",
          "text": [
            "0;1;\n",
            "1\n",
            "3;0;\n",
            "3\n"
          ]
        },
        {
          "output_type": "stream",
          "name": "stderr",
          "text": [
            "\n",
            "  0%|          | 0/4 [00:00<?, ?it/s]\u001b[A\n",
            " 25%|██▌       | 1/4 [00:06<00:20,  6.86s/it]\u001b[A\n",
            " 50%|█████     | 2/4 [00:17<00:17,  8.91s/it]\u001b[A\n",
            " 75%|███████▌  | 3/4 [00:29<00:10, 10.23s/it]\u001b[A\n",
            "100%|██████████| 4/4 [00:37<00:00,  9.45s/it]\n",
            " 96%|█████████▌| 191/200 [1:21:21<04:31, 30.12s/it]"
          ]
        },
        {
          "output_type": "stream",
          "name": "stdout",
          "text": [
            "7;0;1;3;\n",
            "11\n",
            "2;2;2;1;\n",
            "7\n"
          ]
        },
        {
          "output_type": "stream",
          "name": "stderr",
          "text": [
            "\n",
            "  0%|          | 0/3 [00:00<?, ?it/s]\u001b[A\n",
            " 33%|███▎      | 1/3 [00:10<00:20, 10.02s/it]\u001b[A\n",
            " 67%|██████▋   | 2/3 [00:19<00:09,  9.74s/it]\u001b[A\n",
            "100%|██████████| 3/3 [00:29<00:00,  9.90s/it]\n",
            " 96%|█████████▌| 192/200 [1:21:50<03:59, 29.99s/it]"
          ]
        },
        {
          "output_type": "stream",
          "name": "stdout",
          "text": [
            "1;3;2;\n",
            "6\n",
            "1;0;0;\n",
            "1\n"
          ]
        },
        {
          "output_type": "stream",
          "name": "stderr",
          "text": [
            "\n",
            "  0%|          | 0/3 [00:00<?, ?it/s]\u001b[A\n",
            " 33%|███▎      | 1/3 [00:06<00:13,  6.81s/it]\u001b[A\n",
            " 67%|██████▋   | 2/3 [00:14<00:07,  7.44s/it]\u001b[A\n",
            "100%|██████████| 3/3 [00:20<00:00,  6.83s/it]\n",
            " 96%|█████████▋| 193/200 [1:22:11<03:10, 27.15s/it]"
          ]
        },
        {
          "output_type": "stream",
          "name": "stdout",
          "text": [
            "4;0;0;\n",
            "4\n",
            "0;1;5;\n",
            "6\n"
          ]
        },
        {
          "output_type": "stream",
          "name": "stderr",
          "text": [
            "\n",
            "  0%|          | 0/3 [00:00<?, ?it/s]\u001b[A\n",
            " 33%|███▎      | 1/3 [00:08<00:16,  8.33s/it]\u001b[A\n",
            " 67%|██████▋   | 2/3 [00:16<00:08,  8.08s/it]\u001b[A\n",
            "100%|██████████| 3/3 [00:24<00:00,  8.26s/it]\n",
            " 97%|█████████▋| 194/200 [1:22:36<02:38, 26.44s/it]"
          ]
        },
        {
          "output_type": "stream",
          "name": "stdout",
          "text": [
            "3;5;2;\n",
            "10\n",
            "1;1;1;\n",
            "3\n"
          ]
        },
        {
          "output_type": "stream",
          "name": "stderr",
          "text": [
            "\n",
            "  0%|          | 0/3 [00:00<?, ?it/s]\u001b[A\n",
            " 33%|███▎      | 1/3 [00:08<00:16,  8.02s/it]\u001b[A\n",
            " 67%|██████▋   | 2/3 [00:14<00:07,  7.15s/it]\u001b[A\n",
            "100%|██████████| 3/3 [00:24<00:00,  8.03s/it]\n",
            " 98%|█████████▊| 195/200 [1:23:00<02:08, 25.74s/it]"
          ]
        },
        {
          "output_type": "stream",
          "name": "stdout",
          "text": [
            "3;5;1;\n",
            "9\n",
            "1;0;0;\n",
            "1\n"
          ]
        },
        {
          "output_type": "stream",
          "name": "stderr",
          "text": [
            "\n",
            "  0%|          | 0/3 [00:00<?, ?it/s]\u001b[A\n",
            " 33%|███▎      | 1/3 [00:12<00:24, 12.05s/it]\u001b[A\n",
            " 67%|██████▋   | 2/3 [00:21<00:10, 10.48s/it]\u001b[A\n",
            "100%|██████████| 3/3 [00:32<00:00, 10.75s/it]\n",
            " 98%|█████████▊| 196/200 [1:23:32<01:50, 27.70s/it]"
          ]
        },
        {
          "output_type": "stream",
          "name": "stdout",
          "text": [
            "2;0;0;\n",
            "2\n",
            "4;0;4;\n",
            "8\n"
          ]
        },
        {
          "output_type": "stream",
          "name": "stderr",
          "text": [
            "\n",
            "  0%|          | 0/3 [00:00<?, ?it/s]\u001b[A\n",
            " 33%|███▎      | 1/3 [00:11<00:22, 11.33s/it]\u001b[A\n",
            " 67%|██████▋   | 2/3 [00:22<00:11, 11.31s/it]\u001b[A\n",
            "100%|██████████| 3/3 [00:32<00:00, 10.72s/it]\n",
            " 98%|█████████▊| 197/200 [1:24:04<01:27, 29.04s/it]"
          ]
        },
        {
          "output_type": "stream",
          "name": "stdout",
          "text": [
            "3;0;2;\n",
            "5\n",
            "1;0;0;\n",
            "1\n"
          ]
        },
        {
          "output_type": "stream",
          "name": "stderr",
          "text": [
            "\n",
            "  0%|          | 0/3 [00:00<?, ?it/s]\u001b[A\n",
            " 33%|███▎      | 1/3 [00:09<00:18,  9.05s/it]\u001b[A\n",
            " 67%|██████▋   | 2/3 [00:22<00:11, 11.62s/it]\u001b[A\n",
            "100%|██████████| 3/3 [00:32<00:00, 10.95s/it]\n",
            " 99%|█████████▉| 198/200 [1:24:37<01:00, 30.19s/it]"
          ]
        },
        {
          "output_type": "stream",
          "name": "stdout",
          "text": [
            "1;6;2;\n",
            "9\n",
            "0;4;4;\n",
            "8\n"
          ]
        },
        {
          "output_type": "stream",
          "name": "stderr",
          "text": [
            "\n",
            "  0%|          | 0/3 [00:00<?, ?it/s]\u001b[A\n",
            " 33%|███▎      | 1/3 [00:13<00:27, 13.90s/it]\u001b[A\n",
            " 67%|██████▋   | 2/3 [00:23<00:11, 11.52s/it]\u001b[A\n",
            "100%|██████████| 3/3 [00:33<00:00, 11.23s/it]\n",
            "100%|█████████▉| 199/200 [1:25:11<00:31, 31.24s/it]"
          ]
        },
        {
          "output_type": "stream",
          "name": "stdout",
          "text": [
            "4;0;0;\n",
            "4\n",
            "2;6;8;\n",
            "16\n"
          ]
        },
        {
          "output_type": "stream",
          "name": "stderr",
          "text": [
            "\n",
            "  0%|          | 0/3 [00:00<?, ?it/s]\u001b[A\n",
            " 33%|███▎      | 1/3 [00:08<00:16,  8.46s/it]\u001b[A\n",
            " 67%|██████▋   | 2/3 [00:17<00:08,  8.91s/it]\u001b[A\n",
            "100%|██████████| 3/3 [00:28<00:00,  9.36s/it]\n",
            "100%|██████████| 200/200 [1:25:39<00:00, 25.70s/it]"
          ]
        },
        {
          "output_type": "stream",
          "name": "stdout",
          "text": [
            "1;0;1;\n",
            "2\n",
            "6;1;1;\n",
            "8\n"
          ]
        },
        {
          "output_type": "stream",
          "name": "stderr",
          "text": [
            "\n"
          ]
        }
      ]
    },
    {
      "cell_type": "code",
      "source": [
        "dfTest.head()"
      ],
      "metadata": {
        "id": "w1Dv03-uEJXc"
      },
      "execution_count": null,
      "outputs": []
    },
    {
      "cell_type": "code",
      "source": [
        "dfTest.to_csv(\"./result/evalDecompDirectTest-stage3.csv\", index=False, encoding = 'utf-8-sig', header=True, escapechar='',)"
      ],
      "metadata": {
        "id": "CMUgEwmMEVYT"
      },
      "execution_count": null,
      "outputs": []
    },
    {
      "cell_type": "markdown",
      "source": [
        "## Compute fact-checking performance"
      ],
      "metadata": {
        "id": "eUUzYsiLmEg0"
      }
    },
    {
      "cell_type": "markdown",
      "source": [
        "## Note\n",
        "\n",
        "Please run this section with results from Method 1 or 2 to evaluate their accuracy scores. Do not run Methods 1 and 2 sequentially before running this section as it may override the results from either one of the methods."
      ],
      "metadata": {
        "id": "n4f8F5rokk15"
      }
    },
    {
      "cell_type": "markdown",
      "source": [
        "### We compute the overall veracity score of the claim and award it a label\n",
        "\n",
        "Final verarcity score will be based on 3 categories, True/False/UnableToEval represented by 1/0/-1 for easier evaluation, similar to the annotated dataset\n",
        "\n",
        "**Mostly True labels are awarded if:**\n",
        "\n",
        "Total supporting >= 50% of total evidence found\n",
        "\n",
        "**Mostly False labels are awarded if:**\n",
        "\n",
        "Total supporting < 50% of total evidence found\n",
        "\n",
        "\n",
        "**Unable to Eval labels are awarded if:**\n",
        "\n",
        "Total evidence = 0\n",
        "\n",
        "\n",
        "**Quin performance** col will reflect 1 if quin's result matches that of the annotator's and 0 otherwise\n"
      ],
      "metadata": {
        "id": "Ugvqe5Y6rQxq"
      }
    },
    {
      "cell_type": "code",
      "source": [
        "def evalDecomp(df):\n",
        "  Accuracy= 0\n",
        "  Unmatched = 0\n",
        "  Matched = 0\n",
        "  UnableToEval= 0\n",
        "  \n",
        "  for i in tqdm(range(len(df))):\n",
        "    support = df.loc[i, 'decomp-total-support']\n",
        "    refute = df.loc[i, 'decomp-total-refute']\n",
        "    total = support + refute\n",
        "    if total > 0:\n",
        "      if round((support/total)*100) >= 50:\n",
        "        df.loc[i, 'decomp-label-binary'] = 1\n",
        "      else:\n",
        "        df.loc[i, 'decomp-label-binary'] = 0\n",
        "    else:\n",
        "      df.loc[i, 'decomp-label-binary'] = -1\n",
        "      UnableToEval += 1\n",
        "\n",
        "  for i in tqdm(range(len(df))):\n",
        "    if df.loc[i, 'label-binary'] == df.loc[i, 'decomp-label-binary']:\n",
        "      df.loc[i, 'decomp-performance'] = 1\n",
        "      Matched += 1\n",
        "    else:\n",
        "      df.loc[i, 'decomp-performance'] = 0\n",
        "      Unmatched += 1\n",
        "\n",
        "\n",
        "  Accuracy = round((Matched / (Unmatched + Matched)) * 100)\n",
        "  print(\"\\nAccuracy: {}%\".format(Accuracy))\n",
        "  print(\"Matched: {}\".format(Matched))\n",
        "  print(\"Unmatched: {}\".format(Unmatched))\n",
        "  print(\"UnableToEval: {}\".format(UnableToEval))\n",
        "\n",
        "evalDecomp(dfTest)\n"
      ],
      "metadata": {
        "colab": {
          "base_uri": "https://localhost:8080/"
        },
        "id": "YanxCj90s9cp",
        "outputId": "5b6fd6f7-7ac8-4ff7-f9ad-0ad3aef01b2b"
      },
      "execution_count": null,
      "outputs": [
        {
          "output_type": "stream",
          "name": "stderr",
          "text": [
            "100%|██████████| 200/200 [00:00<00:00, 8148.16it/s]\n",
            "100%|██████████| 200/200 [00:00<00:00, 10030.98it/s]"
          ]
        },
        {
          "output_type": "stream",
          "name": "stdout",
          "text": [
            "\n",
            "Accuracy: 53%\n",
            "Matched: 106\n",
            "Unmatched: 94\n",
            "UnableToEval: 7\n"
          ]
        },
        {
          "output_type": "stream",
          "name": "stderr",
          "text": [
            "\n"
          ]
        }
      ]
    },
    {
      "cell_type": "code",
      "source": [
        "dfTest.to_csv(\"./result/evalDecompDirectTest-stage4.csv\", index=False, encoding = 'utf-8-sig', header=True, )"
      ],
      "metadata": {
        "id": "jG2IvrSrvKK7"
      },
      "execution_count": null,
      "outputs": []
    }
  ],
  "metadata": {
    "colab": {
      "collapsed_sections": [
        "G-XT62iyCdxJ",
        "3OuOm5REGV6C",
        "P9UlIjzpx3AQ"
      ],
      "machine_shape": "hm",
      "provenance": []
    },
    "kernelspec": {
      "display_name": "Python 3",
      "language": "python",
      "name": "python3"
    },
    "language_info": {
      "codemirror_mode": {
        "name": "ipython",
        "version": 3
      },
      "file_extension": ".py",
      "mimetype": "text/x-python",
      "name": "python",
      "nbconvert_exporter": "python",
      "pygments_lexer": "ipython3",
      "version": "3.8.5"
    }
  },
  "nbformat": 4,
  "nbformat_minor": 0
}