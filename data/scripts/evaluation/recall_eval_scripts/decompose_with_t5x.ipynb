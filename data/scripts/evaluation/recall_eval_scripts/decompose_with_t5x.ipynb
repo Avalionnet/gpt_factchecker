{
  "cells": [
    {
      "cell_type": "code",
      "execution_count": null,
      "metadata": {
        "colab": {
          "base_uri": "https://localhost:8080/"
        },
        "id": "qFIL9Vb4HuFv",
        "outputId": "fa02b0ce-6cbc-40d6-cbaa-1d7d8390b7f4"
      },
      "outputs": [
        {
          "output_type": "stream",
          "name": "stdout",
          "text": [
            "Mounted at /content/drive\n"
          ]
        }
      ],
      "source": [
        "from google.colab import drive\n",
        "drive.mount('/content/drive')"
      ]
    },
    {
      "cell_type": "markdown",
      "metadata": {
        "id": "G-XT62iyCdxJ"
      },
      "source": [
        "# Installation Steps"
      ]
    },
    {
      "cell_type": "code",
      "execution_count": null,
      "metadata": {
        "colab": {
          "base_uri": "https://localhost:8080/"
        },
        "id": "AR3o9WFlCYMV",
        "outputId": "ff63d01a-a083-4a5f-ed27-dbd036259c85",
        "scrolled": true
      },
      "outputs": [
        {
          "output_type": "stream",
          "name": "stdout",
          "text": [
            "\u001b[2K     \u001b[90m━━━━━━━━━━━━━━━━━━━━━━━━━━━━━━━━━━━━━━━━\u001b[0m \u001b[32m6.8/6.8 MB\u001b[0m \u001b[31m81.7 MB/s\u001b[0m eta \u001b[36m0:00:00\u001b[0m\n",
            "\u001b[2K     \u001b[90m━━━━━━━━━━━━━━━━━━━━━━━━━━━━━━━━━━━━━━━━\u001b[0m \u001b[32m7.6/7.6 MB\u001b[0m \u001b[31m99.0 MB/s\u001b[0m eta \u001b[36m0:00:00\u001b[0m\n",
            "\u001b[2K     \u001b[90m━━━━━━━━━━━━━━━━━━━━━━━━━━━━━━━━━━━━━━\u001b[0m \u001b[32m199.8/199.8 KB\u001b[0m \u001b[31m14.6 MB/s\u001b[0m eta \u001b[36m0:00:00\u001b[0m\n",
            "\u001b[2K     \u001b[90m━━━━━━━━━━━━━━━━━━━━━━━━━━━━━━━━━━━━━━━━\u001b[0m \u001b[32m1.3/1.3 MB\u001b[0m \u001b[31m31.2 MB/s\u001b[0m eta \u001b[36m0:00:00\u001b[0m\n",
            "\u001b[?25h  Installing build dependencies ... \u001b[?25l\u001b[?25hdone\n",
            "  Getting requirements to build wheel ... \u001b[?25l\u001b[?25hdone\n",
            "  Preparing metadata (pyproject.toml) ... \u001b[?25l\u001b[?25hdone\n",
            "\u001b[2K     \u001b[90m━━━━━━━━━━━━━━━━━━━━━━━━━━━━━━━━━━━━━━━\u001b[0m \u001b[32m129.5/129.5 KB\u001b[0m \u001b[31m6.8 MB/s\u001b[0m eta \u001b[36m0:00:00\u001b[0m\n",
            "\u001b[2K     \u001b[90m━━━━━━━━━━━━━━━━━━━━━━━━━━━━━━━━━━━━━━━━\u001b[0m \u001b[32m57.8/57.8 KB\u001b[0m \u001b[31m6.1 MB/s\u001b[0m eta \u001b[36m0:00:00\u001b[0m\n",
            "\u001b[2K     \u001b[90m━━━━━━━━━━━━━━━━━━━━━━━━━━━━━━━━━━━━━━━━\u001b[0m \u001b[32m55.5/55.5 KB\u001b[0m \u001b[31m6.3 MB/s\u001b[0m eta \u001b[36m0:00:00\u001b[0m\n",
            "\u001b[2K     \u001b[90m━━━━━━━━━━━━━━━━━━━━━━━━━━━━━━━━━━━━━━━━\u001b[0m \u001b[32m55.9/55.9 KB\u001b[0m \u001b[31m5.2 MB/s\u001b[0m eta \u001b[36m0:00:00\u001b[0m\n",
            "\u001b[2K     \u001b[90m━━━━━━━━━━━━━━━━━━━━━━━━━━━━━━━━━━━━━━━━\u001b[0m \u001b[32m66.9/66.9 KB\u001b[0m \u001b[31m7.2 MB/s\u001b[0m eta \u001b[36m0:00:00\u001b[0m\n",
            "\u001b[2K     \u001b[90m━━━━━━━━━━━━━━━━━━━━━━━━━━━━━━━━━━━━━━\u001b[0m \u001b[32m519.2/519.2 KB\u001b[0m \u001b[31m33.1 MB/s\u001b[0m eta \u001b[36m0:00:00\u001b[0m\n",
            "\u001b[2K     \u001b[90m━━━━━━━━━━━━━━━━━━━━━━━━━━━━━━━━━━━━━━━━\u001b[0m \u001b[32m69.7/69.7 KB\u001b[0m \u001b[31m7.3 MB/s\u001b[0m eta \u001b[36m0:00:00\u001b[0m\n",
            "\u001b[2K     \u001b[90m━━━━━━━━━━━━━━━━━━━━━━━━━━━━━━━━━━━━━━━━\u001b[0m \u001b[32m66.4/66.4 KB\u001b[0m \u001b[31m7.2 MB/s\u001b[0m eta \u001b[36m0:00:00\u001b[0m\n",
            "\u001b[2K     \u001b[90m━━━━━━━━━━━━━━━━━━━━━━━━━━━━━━━━━━━━━━\u001b[0m \u001b[32m716.4/716.4 KB\u001b[0m \u001b[31m52.1 MB/s\u001b[0m eta \u001b[36m0:00:00\u001b[0m\n",
            "\u001b[2K     \u001b[90m━━━━━━━━━━━━━━━━━━━━━━━━━━━━━━━━━━━━━━\u001b[0m \u001b[32m546.0/546.0 KB\u001b[0m \u001b[31m39.7 MB/s\u001b[0m eta \u001b[36m0:00:00\u001b[0m\n",
            "\u001b[2K     \u001b[90m━━━━━━━━━━━━━━━━━━━━━━━━━━━━━━━━━━━━━━━━\u001b[0m \u001b[32m64.3/64.3 KB\u001b[0m \u001b[31m8.5 MB/s\u001b[0m eta \u001b[36m0:00:00\u001b[0m\n",
            "\u001b[2K     \u001b[90m━━━━━━━━━━━━━━━━━━━━━━━━━━━━━━━━━━━━━━━━\u001b[0m \u001b[32m80.6/80.6 KB\u001b[0m \u001b[31m8.6 MB/s\u001b[0m eta \u001b[36m0:00:00\u001b[0m\n",
            "\u001b[2K     \u001b[90m━━━━━━━━━━━━━━━━━━━━━━━━━━━━━━━━━━━━━━━━\u001b[0m \u001b[32m1.0/1.0 MB\u001b[0m \u001b[31m60.4 MB/s\u001b[0m eta \u001b[36m0:00:00\u001b[0m\n",
            "\u001b[2K     \u001b[90m━━━━━━━━━━━━━━━━━━━━━━━━━━━━━━━━━━━━━━━━\u001b[0m \u001b[32m58.4/58.4 KB\u001b[0m \u001b[31m6.4 MB/s\u001b[0m eta \u001b[36m0:00:00\u001b[0m\n",
            "\u001b[2K     \u001b[90m━━━━━━━━━━━━━━━━━━━━━━━━━━━━━━━━━━━━━━━━\u001b[0m \u001b[32m57.1/57.1 KB\u001b[0m \u001b[31m6.6 MB/s\u001b[0m eta \u001b[36m0:00:00\u001b[0m\n",
            "\u001b[2K     \u001b[90m━━━━━━━━━━━━━━━━━━━━━━━━━━━━━━━━━━━━━━━━\u001b[0m \u001b[32m58.3/58.3 KB\u001b[0m \u001b[31m7.9 MB/s\u001b[0m eta \u001b[36m0:00:00\u001b[0m\n",
            "\u001b[2K     \u001b[90m━━━━━━━━━━━━━━━━━━━━━━━━━━━━━━━━━━━━━━\u001b[0m \u001b[32m264.6/264.6 KB\u001b[0m \u001b[31m23.4 MB/s\u001b[0m eta \u001b[36m0:00:00\u001b[0m\n",
            "\u001b[2K     \u001b[90m━━━━━━━━━━━━━━━━━━━━━━━━━━━━━━━━━━━━━━\u001b[0m \u001b[32m158.8/158.8 KB\u001b[0m \u001b[31m13.1 MB/s\u001b[0m eta \u001b[36m0:00:00\u001b[0m\n",
            "\u001b[2K     \u001b[90m━━━━━━━━━━━━━━━━━━━━━━━━━━━━━━━━━━━━━━\u001b[0m \u001b[32m114.2/114.2 KB\u001b[0m \u001b[31m11.3 MB/s\u001b[0m eta \u001b[36m0:00:00\u001b[0m\n",
            "\u001b[2K     \u001b[90m━━━━━━━━━━━━━━━━━━━━━━━━━━━━━━━━━━━━━━━━\u001b[0m \u001b[32m56.4/56.4 KB\u001b[0m \u001b[31m5.3 MB/s\u001b[0m eta \u001b[36m0:00:00\u001b[0m\n",
            "\u001b[2K     \u001b[90m━━━━━━━━━━━━━━━━━━━━━━━━━━━━━━━━━━━━━━━━\u001b[0m \u001b[32m56.3/56.3 KB\u001b[0m \u001b[31m5.2 MB/s\u001b[0m eta \u001b[36m0:00:00\u001b[0m\n",
            "\u001b[2K     \u001b[90m━━━━━━━━━━━━━━━━━━━━━━━━━━━━━━━━━━━━━━━━\u001b[0m \u001b[32m56.3/56.3 KB\u001b[0m \u001b[31m5.1 MB/s\u001b[0m eta \u001b[36m0:00:00\u001b[0m\n",
            "\u001b[2K     \u001b[90m━━━━━━━━━━━━━━━━━━━━━━━━━━━━━━━━━━━━━━━━\u001b[0m \u001b[32m56.2/56.2 KB\u001b[0m \u001b[31m5.7 MB/s\u001b[0m eta \u001b[36m0:00:00\u001b[0m\n",
            "\u001b[2K     \u001b[90m━━━━━━━━━━━━━━━━━━━━━━━━━━━━━━━━━━━━━━━━\u001b[0m \u001b[32m56.2/56.2 KB\u001b[0m \u001b[31m4.3 MB/s\u001b[0m eta \u001b[36m0:00:00\u001b[0m\n",
            "\u001b[2K     \u001b[90m━━━━━━━━━━━━━━━━━━━━━━━━━━━━━━━━━━━━━━━━\u001b[0m \u001b[32m56.2/56.2 KB\u001b[0m \u001b[31m4.9 MB/s\u001b[0m eta \u001b[36m0:00:00\u001b[0m\n",
            "\u001b[2K     \u001b[90m━━━━━━━━━━━━━━━━━━━━━━━━━━━━━━━━━━━━━━━━\u001b[0m \u001b[32m56.0/56.0 KB\u001b[0m \u001b[31m5.7 MB/s\u001b[0m eta \u001b[36m0:00:00\u001b[0m\n",
            "\u001b[2K     \u001b[90m━━━━━━━━━━━━━━━━━━━━━━━━━━━━━━━━━━━━━━━━\u001b[0m \u001b[32m55.8/55.8 KB\u001b[0m \u001b[31m5.1 MB/s\u001b[0m eta \u001b[36m0:00:00\u001b[0m\n",
            "\u001b[2K     \u001b[90m━━━━━━━━━━━━━━━━━━━━━━━━━━━━━━━━━━━━━━━━\u001b[0m \u001b[32m55.6/55.6 KB\u001b[0m \u001b[31m5.2 MB/s\u001b[0m eta \u001b[36m0:00:00\u001b[0m\n",
            "\u001b[2K     \u001b[90m━━━━━━━━━━━━━━━━━━━━━━━━━━━━━━━━━━━━━━\u001b[0m \u001b[32m144.1/144.1 KB\u001b[0m \u001b[31m15.1 MB/s\u001b[0m eta \u001b[36m0:00:00\u001b[0m\n",
            "\u001b[2K     \u001b[90m━━━━━━━━━━━━━━━━━━━━━━━━━━━━━━━━━━━━━━━━\u001b[0m \u001b[32m45.7/45.7 KB\u001b[0m \u001b[31m4.6 MB/s\u001b[0m eta \u001b[36m0:00:00\u001b[0m\n",
            "\u001b[2K     \u001b[90m━━━━━━━━━━━━━━━━━━━━━━━━━━━━━━━━━━━━━━━━\u001b[0m \u001b[32m71.5/71.5 KB\u001b[0m \u001b[31m7.0 MB/s\u001b[0m eta \u001b[36m0:00:00\u001b[0m\n",
            "\u001b[2K     \u001b[90m━━━━━━━━━━━━━━━━━━━━━━━━━━━━━━━━━━━━━━━━\u001b[0m \u001b[32m52.8/52.8 KB\u001b[0m \u001b[31m5.5 MB/s\u001b[0m eta \u001b[36m0:00:00\u001b[0m\n",
            "\u001b[2K     \u001b[90m━━━━━━━━━━━━━━━━━━━━━━━━━━━━━━━━━━━━━━\u001b[0m \u001b[32m283.7/283.7 KB\u001b[0m \u001b[31m25.4 MB/s\u001b[0m eta \u001b[36m0:00:00\u001b[0m\n",
            "\u001b[2K     \u001b[90m━━━━━━━━━━━━━━━━━━━━━━━━━━━━━━━━━━━━━━━━\u001b[0m \u001b[32m69.6/69.6 KB\u001b[0m \u001b[31m8.6 MB/s\u001b[0m eta \u001b[36m0:00:00\u001b[0m\n",
            "\u001b[2K     \u001b[90m━━━━━━━━━━━━━━━━━━━━━━━━━━━━━━━━━━━━━━\u001b[0m \u001b[32m417.9/417.9 KB\u001b[0m \u001b[31m35.2 MB/s\u001b[0m eta \u001b[36m0:00:00\u001b[0m\n",
            "\u001b[2K     \u001b[90m━━━━━━━━━━━━━━━━━━━━━━━━━━━━━━━━━━━━━━━━\u001b[0m \u001b[32m4.2/4.2 MB\u001b[0m \u001b[31m52.7 MB/s\u001b[0m eta \u001b[36m0:00:00\u001b[0m\n",
            "\u001b[2K     \u001b[90m━━━━━━━━━━━━━━━━━━━━━━━━━━━━━━━━━━━━━━━━\u001b[0m \u001b[32m1.3/1.3 MB\u001b[0m \u001b[31m75.3 MB/s\u001b[0m eta \u001b[36m0:00:00\u001b[0m\n",
            "\u001b[?25h  Building wheel for lightning (pyproject.toml) ... \u001b[?25l\u001b[?25hdone\n",
            "  Preparing metadata (setup.py) ... \u001b[?25l\u001b[?25hdone\n",
            "  Building wheel for sklearn (setup.py) ... \u001b[?25l\u001b[?25hdone\n"
          ]
        }
      ],
      "source": [
        "#Installing PyTorch\n",
        "!pip3 install --quiet torch torchvision torchaudio\n",
        "\n",
        "#Install HuggingFace Transformer\n",
        "!pip install --quiet transformers\n",
        "\n",
        "#Install tqdm for progress bars\n",
        "!pip install --quiet tqdm\n",
        "\n",
        "#Essential for automodels where models are not directly from huggingface pre-trained libs\n",
        "!pip install --quiet sentencepiece\n",
        "\n",
        "#Install pytorch lightning\n",
        "!pip install --quiet git+https://github.com/PyTorchLightning/pytorch-lightning\n",
        "\n",
        "#Install tqdm for progress bar\n",
        "!pip install --quiet tqdm\n",
        "\n",
        "#Install pandas\n",
        "!pip install --quiet pandas\n",
        "\n",
        "#Install sklearn\n",
        "!pip install --quiet sklearn\n",
        "\n",
        "#Install termcolor\n",
        "!pip install --quiet termcolor\n",
        "\n",
        "#Install tensorflow\n",
        "!pip install --quiet tensorflow"
      ]
    },
    {
      "cell_type": "code",
      "execution_count": null,
      "metadata": {
        "id": "T8YFUetv91Lr"
      },
      "outputs": [],
      "source": [
        "## Specially for Jupyterhub"
      ]
    },
    {
      "cell_type": "code",
      "execution_count": null,
      "metadata": {
        "id": "ueGdXNCv91Lr",
        "outputId": "430f6d04-e167-434e-955e-8331d7bf77ad"
      },
      "outputs": [
        {
          "name": "stdout",
          "output_type": "stream",
          "text": [
            "Looking in links: https://download.pytorch.org/whl/torch_stable.html\n",
            "Collecting torch==1.9.0+cu111\n",
            "  Using cached https://download.pytorch.org/whl/cu111/torch-1.9.0%2Bcu111-cp38-cp38-linux_x86_64.whl (2041.3 MB)\n",
            "Requirement already satisfied: torchvision==0.10.0+cu111 in ./.local/lib/python3.8/site-packages (0.10.0+cu111)\n",
            "Requirement already satisfied: torchaudio==0.9.0 in ./.local/lib/python3.8/site-packages (0.9.0)\n",
            "Requirement already satisfied: typing-extensions in ./.local/lib/python3.8/site-packages (from torch==1.9.0+cu111) (4.4.0)\n",
            "Requirement already satisfied: numpy in ./.local/lib/python3.8/site-packages (from torchvision==0.10.0+cu111) (1.23.4)\n",
            "Requirement already satisfied: pillow>=5.3.0 in ./.local/lib/python3.8/site-packages (from torchvision==0.10.0+cu111) (9.2.0)\n",
            "\u001b[31mERROR: pytorch-lightning 1.9.0 has requirement torch>=1.10.0, but you'll have torch 1.9.0+cu111 which is incompatible.\u001b[0m\n",
            "Installing collected packages: torch\n",
            "  Attempting uninstall: torch\n",
            "    Found existing installation: torch 1.13.1\n",
            "    Uninstalling torch-1.13.1:\n",
            "      Successfully uninstalled torch-1.13.1\n",
            "\u001b[33m  WARNING: The scripts convert-caffe2-to-onnx and convert-onnx-to-caffe2 are installed in '/home/minglim/.local/bin' which is not on PATH.\n",
            "  Consider adding this directory to PATH or, if you prefer to suppress this warning, use --no-warn-script-location.\u001b[0m\n",
            "Successfully installed torch-1.9.0+cu111\n"
          ]
        }
      ],
      "source": [
        "# for JupyterHub\n",
        "!pip3 install torch==1.9.0+cu111 torchvision==0.10.0+cu111 torchaudio==0.9.0 -f https://download.pytorch.org/whl/torch_stable.html\n"
      ]
    },
    {
      "cell_type": "code",
      "execution_count": null,
      "metadata": {
        "id": "zpU4yltX8e6y",
        "scrolled": false
      },
      "outputs": [],
      "source": [
        "!pip install --quiet pytorch-lightning==1.1.3"
      ]
    },
    {
      "cell_type": "code",
      "execution_count": null,
      "metadata": {
        "colab": {
          "base_uri": "https://localhost:8080/"
        },
        "id": "jxiQL0thPQmo",
        "outputId": "6c314838-f8e9-42df-8f5f-6ea18aaa75a8"
      },
      "outputs": [
        {
          "output_type": "stream",
          "name": "stdout",
          "text": [
            "\u001b[?25l     \u001b[90m━━━━━━━━━━━━━━━━━━━━━━━━━━━━━━━━━━━━━━━━\u001b[0m \u001b[32m0.0/2.1 MB\u001b[0m \u001b[31m?\u001b[0m eta \u001b[36m-:--:--\u001b[0m\r\u001b[2K     \u001b[91m━━━━━━━━━━━━━━━━━━━━━━━━━━━━━━━━━━━━━━━\u001b[0m\u001b[91m╸\u001b[0m \u001b[32m2.0/2.1 MB\u001b[0m \u001b[31m82.3 MB/s\u001b[0m eta \u001b[36m0:00:01\u001b[0m\r\u001b[2K     \u001b[90m━━━━━━━━━━━━━━━━━━━━━━━━━━━━━━━━━━━━━━━━\u001b[0m \u001b[32m2.1/2.1 MB\u001b[0m \u001b[31m48.0 MB/s\u001b[0m eta \u001b[36m0:00:00\u001b[0m\n",
            "\u001b[?25h"
          ]
        }
      ],
      "source": [
        "!pip install --quiet --upgrade pytorch-lightning\n",
        "!pip install --quiet --upgrade pip\n"
      ]
    },
    {
      "cell_type": "markdown",
      "metadata": {
        "id": "3OuOm5REGV6C"
      },
      "source": [
        "# Verify Installations"
      ]
    },
    {
      "cell_type": "code",
      "execution_count": null,
      "metadata": {
        "id": "Lr6LMJOj91Lt"
      },
      "outputs": [],
      "source": [
        "!sudo apt install python3"
      ]
    },
    {
      "cell_type": "code",
      "execution_count": null,
      "metadata": {
        "id": "rdzRco3eFcdT"
      },
      "outputs": [],
      "source": [
        "#To test if HuggingFace is properly installed\n",
        "!python -c \"from transformers import pipeline; print(pipeline('sentiment-analysis')('we love you'))\""
      ]
    },
    {
      "cell_type": "markdown",
      "metadata": {
        "id": "AsRVDYioGajY"
      },
      "source": [
        "# Load T5X Model"
      ]
    },
    {
      "cell_type": "markdown",
      "metadata": {
        "id": "DSTkfYvkoG7f"
      },
      "source": [
        "Initialize and retrieve model for training"
      ]
    },
    {
      "cell_type": "code",
      "execution_count": null,
      "metadata": {
        "colab": {
          "base_uri": "https://localhost:8080/",
          "height": 209,
          "referenced_widgets": [
            "c2b0aa97150b4e2eb6e1ce2de0220cf4",
            "4cb50a1748284eb4b0284e197a605b80",
            "26f274e058b64456b7b87ed9018fa9cb",
            "75db4b142e094097aa42b408d5056a1b",
            "2e68540f89514871baa5bbd837e2a637",
            "d242026dfd9b4eb29e586b5b22c1ccfc",
            "4a78df0e92f34531bf557538b148d47b",
            "686d016f5be84482990a54ff33dee657",
            "6e40b33133c046a99b4384587f86290c",
            "272e40ecec204550a495a173d0d3bda9",
            "09a720d452674a938ea612bd9c3a9f50",
            "4bdd2246f7dc4ff9bbe628c6494a3a77",
            "c35773a195a24cee85b88b736e19cb2e",
            "24c4a4407d5e4236bba2c35002a2959a",
            "95b7302f71884639acd868b6f507c88d",
            "e80f6250f17247618c3614b27931f36f",
            "c026361aae704874a43e420bc7d34f0f",
            "a92f6544c2704832a685e12a79445c95",
            "4395a49a8fe24961a1ad7b90981e34ff",
            "54b1ad9133ff4dd69866e14055147fb1",
            "305cf5ca9a784032bf5b1ee3453c1934",
            "e27bd9289ba84cba94d524078cc0f002",
            "4d8dd28aa1e24a139b9bccd31402b500",
            "26608aa8964b42f4b41812022d4dd60d",
            "7aabbcf38f9f4dde95bcff62f99190fa",
            "d02829c46eb743d6927ba91500a5fec7",
            "5a060c0cba8340c5a6f48f064115a277",
            "8b2f64c2b5b04dfcb850ce96ca197972",
            "1e2fe3d155ce4be9b6fb82201d29b94e",
            "ab960240a09842b391a77e5c524912eb",
            "a61e29a3596f414f98b6916010218182",
            "89595179c4514272a448371ae6132ba0",
            "418638f77ba74cd7b6eec097866796bd",
            "9cfe5362a4de40068ff0519c9a1e90a0",
            "1a1cd4fa964d483a8297bd79d4f817db",
            "40ba21bf664f41458bac51ab0a6eb67e",
            "859d6bbafd194e028c8862d69bf97b2f",
            "88c4a8d11c06471c91c41aabee775970",
            "896688cd53124e588c24728d4fe9d8b5",
            "8deb07aa439245f998d03a3a45bad1a7",
            "5ca14aa5551f407ca5aad5724c14785d",
            "e54f1a99b6d94db0bb5bf973b1c30d0d",
            "999b1bb9083f4261a44e95ff22be73a3",
            "2cfbb4d8006545eea5b532c904136d08",
            "285fecf5e8214035bc7748a65b86336e",
            "120c1567636347c2ae17c50dd36d45fc",
            "69d29dfd125d46aca336458742bbab44",
            "3f65d0074bfc454980b7eaa334cb06da",
            "d66b4dc3af12486d8ce420fab51314ab",
            "01a8255f607a40589ab0b4729ce09464",
            "3881d6252c2a4100abfc68990102b422",
            "bbeb2da63c8048b281d4a56563cfda2b",
            "2762960a681243b6ae21c2b998933cf5",
            "c926db89bcee4fc4a8cec9c8d370ebdb",
            "c8b9735b59cc4841b416c43f94a801da",
            "0646429cf15943acac76931bca484c6e",
            "96a5bf3e26b842dd8205a6c0204ebf48",
            "127b3d70af4b470e85091bd0d1c29d24",
            "c0ad9a70ab3d473a86e7d879eb6bed49",
            "9f5abaf0a8f34f8997ed2f679aa1ec4b",
            "434e9d7987a84f739e2ead6ca100a5d5",
            "164428d18dd9421390f71c07a01d8957",
            "eea929af2ddc4afcb37f2289cb8cdd18",
            "3df43ca2341144739a0800d20988cfc6",
            "1f0676b648c2426ea85a88b63267a3d1",
            "54263204f53c48cd8906c1e03906e658"
          ]
        },
        "id": "3hKOPYg1F79L",
        "outputId": "fee4515b-ee34-4da3-b0d2-b6e6e924db04"
      },
      "outputs": [
        {
          "output_type": "display_data",
          "data": {
            "text/plain": [
              "Downloading (…)lve/main/config.json:   0%|          | 0.00/607 [00:00<?, ?B/s]"
            ],
            "application/vnd.jupyter.widget-view+json": {
              "version_major": 2,
              "version_minor": 0,
              "model_id": "c2b0aa97150b4e2eb6e1ce2de0220cf4"
            }
          },
          "metadata": {}
        },
        {
          "output_type": "display_data",
          "data": {
            "text/plain": [
              "Downloading pytorch_model.bin:   0%|          | 0.00/3.13G [00:00<?, ?B/s]"
            ],
            "application/vnd.jupyter.widget-view+json": {
              "version_major": 2,
              "version_minor": 0,
              "model_id": "4bdd2246f7dc4ff9bbe628c6494a3a77"
            }
          },
          "metadata": {}
        },
        {
          "output_type": "display_data",
          "data": {
            "text/plain": [
              "Downloading (…)neration_config.json:   0%|          | 0.00/147 [00:00<?, ?B/s]"
            ],
            "application/vnd.jupyter.widget-view+json": {
              "version_major": 2,
              "version_minor": 0,
              "model_id": "4d8dd28aa1e24a139b9bccd31402b500"
            }
          },
          "metadata": {}
        },
        {
          "output_type": "display_data",
          "data": {
            "text/plain": [
              "Downloading (…)okenizer_config.json:   0%|          | 0.00/1.86k [00:00<?, ?B/s]"
            ],
            "application/vnd.jupyter.widget-view+json": {
              "version_major": 2,
              "version_minor": 0,
              "model_id": "9cfe5362a4de40068ff0519c9a1e90a0"
            }
          },
          "metadata": {}
        },
        {
          "output_type": "display_data",
          "data": {
            "text/plain": [
              "Downloading (…)ve/main/spiece.model:   0%|          | 0.00/792k [00:00<?, ?B/s]"
            ],
            "application/vnd.jupyter.widget-view+json": {
              "version_major": 2,
              "version_minor": 0,
              "model_id": "285fecf5e8214035bc7748a65b86336e"
            }
          },
          "metadata": {}
        },
        {
          "output_type": "display_data",
          "data": {
            "text/plain": [
              "Downloading (…)cial_tokens_map.json:   0%|          | 0.00/1.79k [00:00<?, ?B/s]"
            ],
            "application/vnd.jupyter.widget-view+json": {
              "version_major": 2,
              "version_minor": 0,
              "model_id": "0646429cf15943acac76931bca484c6e"
            }
          },
          "metadata": {}
        }
      ],
      "source": [
        "from transformers import AutoTokenizer, AutoModelForSeq2SeqLM, TrainingArguments, Trainer, Adafactor\n",
        "\n",
        "import torch\n",
        "from torch.optim import AdamW\n",
        "from torch.utils.data import Dataset, DataLoader\n",
        "import pytorch_lightning as pl\n",
        "from pytorch_lightning.callbacks import ModelCheckpoint, TQDMProgressBar\n",
        "\n",
        "import pandas as pd\n",
        "import numpy as np\n",
        "\n",
        "from sklearn.model_selection import train_test_split\n",
        "from sklearn.metrics import accuracy_score, recall_score, precision_score, f1_score\n",
        "\n",
        "from termcolor import colored\n",
        "from tqdm import tqdm\n",
        "\n",
        "\n",
        "checkpoint = \"google/t5-v1_1-large\" #\"google/t5-v1_1-xl\"  #\"google/t5-v1_1-xl\" is too huge for google colab to handle\n",
        "\n",
        "model = AutoModelForSeq2SeqLM.from_pretrained(checkpoint)\n",
        "tokenizer = AutoTokenizer.from_pretrained(checkpoint)\n"
      ]
    },
    {
      "cell_type": "markdown",
      "metadata": {
        "id": "v34wXmBPtuy8"
      },
      "source": [
        "## Create Torch Dataset Class for our custom dataframe"
      ]
    },
    {
      "cell_type": "code",
      "execution_count": null,
      "metadata": {
        "id": "-iSwqyTdt9IC"
      },
      "outputs": [],
      "source": [
        "class ClaimDecompDataset(Dataset):\n",
        "\n",
        "  def __init__(\n",
        "      self,\n",
        "      data: pd.DataFrame,\n",
        "      tokenizer: AutoTokenizer,\n",
        "      source_max_tok_len: int = 850,\n",
        "      target_max_tok_len: int = 500\n",
        "  ):\n",
        "    self.tokenizer = tokenizer\n",
        "    self.data = data\n",
        "    self.source_max_token_len = source_max_tok_len\n",
        "    self.target_max_token_len = target_max_tok_len\n",
        "\n",
        "  def __len__(self):\n",
        "    return len(self.data)\n",
        "\n",
        "  def __getitem__(self, index: int):\n",
        "    sample_row = self.data.iloc[index]\n",
        "\n",
        "    source_encoding = tokenizer(\n",
        "        sample_row[\"claim\"],\n",
        "        sample_row[\"justification\"],\n",
        "        max_length = self.source_max_token_len,\n",
        "        padding=\"max_length\",\n",
        "        truncation=\"only_second\",\n",
        "        return_attention_mask=True,\n",
        "        add_special_tokens=True,\n",
        "        return_tensors=\"pt\"\n",
        "    )\n",
        "\n",
        "    target_encoding = tokenizer(\n",
        "        sample_row[\"questions\"],\n",
        "        max_length = self.target_max_token_len,\n",
        "        padding=\"max_length\",\n",
        "        truncation=True,\n",
        "        return_attention_mask=True,\n",
        "        add_special_tokens=True,\n",
        "        return_tensors=\"pt\"\n",
        "    )\n",
        "\n",
        "    labels = target_encoding[\"input_ids\"]\n",
        "    labels[labels == 0] = -100\n",
        "\n",
        "    return dict(\n",
        "      claim = sample_row[\"claim\"],\n",
        "      justification = sample_row[\"justification\"],\n",
        "      questions = sample_row[\"questions\"],\n",
        "      input_ids = source_encoding[\"input_ids\"].flatten(),\n",
        "      attention_mask = source_encoding[\"attention_mask\"].flatten(),\n",
        "      labels = labels.flatten()\n",
        "    )"
      ]
    },
    {
      "cell_type": "markdown",
      "metadata": {
        "id": "kGGftwCIBZsc"
      },
      "source": [
        "## Initialize Dataset"
      ]
    },
    {
      "cell_type": "code",
      "execution_count": null,
      "metadata": {
        "id": "z29Js6K2BiSo"
      },
      "outputs": [],
      "source": [
        "train_dataset = ClaimDecompDataset(dfTrain, tokenizer)\n",
        "dev_dataset = ClaimDecompDataset(dfDev, tokenizer)\n",
        "test_dataset = ClaimDecompDataset(dfTest, tokenizer)"
      ]
    },
    {
      "cell_type": "code",
      "execution_count": null,
      "metadata": {
        "colab": {
          "base_uri": "https://localhost:8080/"
        },
        "id": "zTbtQwl2_YU9",
        "outputId": "ce6d833c-3c13-42c3-fff9-782973862d1f"
      },
      "outputs": [
        {
          "data": {
            "text/plain": [
              "(197, 3)"
            ]
          },
          "execution_count": 26,
          "metadata": {},
          "output_type": "execute_result"
        }
      ],
      "source": [
        "dev_dataset.data.shape"
      ]
    },
    {
      "cell_type": "markdown",
      "metadata": {
        "id": "IONjefrKE9xq"
      },
      "source": [
        "The following cell contains code not required in the final .py file"
      ]
    },
    {
      "cell_type": "code",
      "execution_count": null,
      "metadata": {
        "colab": {
          "base_uri": "https://localhost:8080/"
        },
        "id": "ctVTIbPiC_QE",
        "outputId": "181b5b8c-59ef-49c0-d93e-036533d47596"
      },
      "outputs": [
        {
          "name": "stdout",
          "output_type": "stream",
          "text": [
            "Generate Questions: With voting by mail, “you get thousands and thousands of people sitting in somebody's living room, signing ballots all over the place.”\n",
            "\n",
            "\n",
            "Justification: Trump said that with voting by mail, \"you get thousands and thousands of people sitting in somebody's living room, signing ballots all over the place.\"\n",
            "Voting fraud in general is considered to be rare, although voting experts agree that the risks are greater for mail balloting than for in-person voting. Still, Trump didn’t produce any evidence for the \"thousands and thousands\" claim, and voting experts said his assertion doesn’t square with what is known about the actual cases of voting fraud in the recent past.\n",
            "We rate the statement False.\n",
            "\n",
            "\n",
            "Is voting fraud widespread in the US? Is there a greater risk of voting fraud with mail-in ballots? Is there evidence of thousands of people committing mail-in voting fraud? Is mail balloting at great risk for fraudulent voting than in-person voting? Are there thousands of people committing mail-in voting fraud? \n",
            "\n",
            "\n",
            "tensor([ 6939,  2206, 14218,    10,   438, 10601,    57,  4842,     6,   105])\n",
            "tensor([   27,     7, 10601,  7712, 14047,    16,     8,   837,    58,    27])\n",
            "\n",
            "\n"
          ]
        },
        {
          "ename": "OverflowError",
          "evalue": "out of range integral type conversion attempted",
          "output_type": "error",
          "traceback": [
            "\u001b[0;31m---------------------------------------------------------------------------\u001b[0m",
            "\u001b[0;31mOverflowError\u001b[0m                             Traceback (most recent call last)",
            "\u001b[0;32m<ipython-input-11-b3beacaf7726>\u001b[0m in \u001b[0;36m<module>\u001b[0;34m\u001b[0m\n\u001b[1;32m     10\u001b[0m   \u001b[0mprint\u001b[0m\u001b[0;34m(\u001b[0m\u001b[0mdata\u001b[0m\u001b[0;34m[\u001b[0m\u001b[0;34m\"labels\"\u001b[0m\u001b[0;34m]\u001b[0m\u001b[0;34m[\u001b[0m\u001b[0;34m:\u001b[0m\u001b[0;36m10\u001b[0m\u001b[0;34m]\u001b[0m\u001b[0;34m)\u001b[0m\u001b[0;34m\u001b[0m\u001b[0;34m\u001b[0m\u001b[0m\n\u001b[1;32m     11\u001b[0m   \u001b[0mprint\u001b[0m\u001b[0;34m(\u001b[0m\u001b[0;34m\"\\n\"\u001b[0m\u001b[0;34m)\u001b[0m\u001b[0;34m\u001b[0m\u001b[0;34m\u001b[0m\u001b[0m\n\u001b[0;32m---> 12\u001b[0;31m   \u001b[0mprint\u001b[0m\u001b[0;34m(\u001b[0m\u001b[0mtokenizer\u001b[0m\u001b[0;34m.\u001b[0m\u001b[0mdecode\u001b[0m\u001b[0;34m(\u001b[0m\u001b[0mdata\u001b[0m\u001b[0;34m[\u001b[0m\u001b[0;34m\"labels\"\u001b[0m\u001b[0;34m]\u001b[0m\u001b[0;34m.\u001b[0m\u001b[0msqueeze\u001b[0m\u001b[0;34m(\u001b[0m\u001b[0;34m)\u001b[0m\u001b[0;34m)\u001b[0m\u001b[0;34m)\u001b[0m\u001b[0;34m\u001b[0m\u001b[0;34m\u001b[0m\u001b[0m\n\u001b[0m\u001b[1;32m     13\u001b[0m   \u001b[0;32mbreak\u001b[0m\u001b[0;34m\u001b[0m\u001b[0;34m\u001b[0m\u001b[0m\n\u001b[1;32m     14\u001b[0m \u001b[0;34m\u001b[0m\u001b[0m\n",
            "\u001b[0;32m~/.local/lib/python3.8/site-packages/transformers/tokenization_utils_base.py\u001b[0m in \u001b[0;36mdecode\u001b[0;34m(self, token_ids, skip_special_tokens, clean_up_tokenization_spaces, **kwargs)\u001b[0m\n\u001b[1;32m   3430\u001b[0m         \u001b[0mtoken_ids\u001b[0m \u001b[0;34m=\u001b[0m \u001b[0mto_py_obj\u001b[0m\u001b[0;34m(\u001b[0m\u001b[0mtoken_ids\u001b[0m\u001b[0;34m)\u001b[0m\u001b[0;34m\u001b[0m\u001b[0;34m\u001b[0m\u001b[0m\n\u001b[1;32m   3431\u001b[0m \u001b[0;34m\u001b[0m\u001b[0m\n\u001b[0;32m-> 3432\u001b[0;31m         return self._decode(\n\u001b[0m\u001b[1;32m   3433\u001b[0m             \u001b[0mtoken_ids\u001b[0m\u001b[0;34m=\u001b[0m\u001b[0mtoken_ids\u001b[0m\u001b[0;34m,\u001b[0m\u001b[0;34m\u001b[0m\u001b[0;34m\u001b[0m\u001b[0m\n\u001b[1;32m   3434\u001b[0m             \u001b[0mskip_special_tokens\u001b[0m\u001b[0;34m=\u001b[0m\u001b[0mskip_special_tokens\u001b[0m\u001b[0;34m,\u001b[0m\u001b[0;34m\u001b[0m\u001b[0;34m\u001b[0m\u001b[0m\n",
            "\u001b[0;32m~/.local/lib/python3.8/site-packages/transformers/tokenization_utils_fast.py\u001b[0m in \u001b[0;36m_decode\u001b[0;34m(self, token_ids, skip_special_tokens, clean_up_tokenization_spaces, **kwargs)\u001b[0m\n\u001b[1;32m    547\u001b[0m         \u001b[0;32mif\u001b[0m \u001b[0misinstance\u001b[0m\u001b[0;34m(\u001b[0m\u001b[0mtoken_ids\u001b[0m\u001b[0;34m,\u001b[0m \u001b[0mint\u001b[0m\u001b[0;34m)\u001b[0m\u001b[0;34m:\u001b[0m\u001b[0;34m\u001b[0m\u001b[0;34m\u001b[0m\u001b[0m\n\u001b[1;32m    548\u001b[0m             \u001b[0mtoken_ids\u001b[0m \u001b[0;34m=\u001b[0m \u001b[0;34m[\u001b[0m\u001b[0mtoken_ids\u001b[0m\u001b[0;34m]\u001b[0m\u001b[0;34m\u001b[0m\u001b[0;34m\u001b[0m\u001b[0m\n\u001b[0;32m--> 549\u001b[0;31m         \u001b[0mtext\u001b[0m \u001b[0;34m=\u001b[0m \u001b[0mself\u001b[0m\u001b[0;34m.\u001b[0m\u001b[0m_tokenizer\u001b[0m\u001b[0;34m.\u001b[0m\u001b[0mdecode\u001b[0m\u001b[0;34m(\u001b[0m\u001b[0mtoken_ids\u001b[0m\u001b[0;34m,\u001b[0m \u001b[0mskip_special_tokens\u001b[0m\u001b[0;34m=\u001b[0m\u001b[0mskip_special_tokens\u001b[0m\u001b[0;34m)\u001b[0m\u001b[0;34m\u001b[0m\u001b[0;34m\u001b[0m\u001b[0m\n\u001b[0m\u001b[1;32m    550\u001b[0m \u001b[0;34m\u001b[0m\u001b[0m\n\u001b[1;32m    551\u001b[0m         \u001b[0;32mif\u001b[0m \u001b[0mclean_up_tokenization_spaces\u001b[0m\u001b[0;34m:\u001b[0m\u001b[0;34m\u001b[0m\u001b[0;34m\u001b[0m\u001b[0m\n",
            "\u001b[0;31mOverflowError\u001b[0m: out of range integral type conversion attempted"
          ]
        }
      ],
      "source": [
        "#Preview data in custom constructed dataset\n",
        "for data in dev_dataset:\n",
        "  print(data[\"claim\"])\n",
        "  print(\"\\n\")\n",
        "  print(data[\"justification\"])\n",
        "  print(\"\\n\")\n",
        "  print(data[\"questions\"])\n",
        "  print(\"\\n\")\n",
        "  print(data[\"input_ids\"][:10])\n",
        "  print(data[\"labels\"][:10])\n",
        "  print(\"\\n\")\n",
        "  print(tokenizer.decode(data[\"labels\"].squeeze()))\n",
        "  break\n",
        "  "
      ]
    },
    {
      "cell_type": "markdown",
      "metadata": {
        "id": "rRk88FBUWQdC"
      },
      "source": [
        "## Creating our own lightning module"
      ]
    },
    {
      "cell_type": "markdown",
      "metadata": {
        "id": "KrANn-KfpWa1"
      },
      "source": [
        "#### Building our lightning module"
      ]
    },
    {
      "cell_type": "code",
      "execution_count": null,
      "metadata": {
        "id": "riDqZZiWWYtL"
      },
      "outputs": [],
      "source": [
        "class ClaimDecompDataModule(pl.LightningDataModule):\n",
        "\n",
        "  def __init__(\n",
        "      self,\n",
        "      train_df: pd.DataFrame,\n",
        "      test_df: pd.DataFrame,\n",
        "      tokenizer: AutoTokenizer,\n",
        "      batch_size: int = 2,\n",
        "      source_max_token_len: int = 850,\n",
        "      target_max_token_len: int = 500\n",
        "  ):\n",
        "    super().__init__()\n",
        "    self.batch_size = batch_size\n",
        "    self.train_df = train_df\n",
        "    self.test_df = test_df\n",
        "    self.tokenizer = tokenizer\n",
        "    self.source_max_token_len = source_max_token_len\n",
        "    self.target_max_token_len = target_max_token_len\n",
        "\n",
        "  def setup(self, stage=None):\n",
        "    self.train_dataset = ClaimDecompDataset(\n",
        "        self.train_df,\n",
        "        self.tokenizer,\n",
        "        self.source_max_token_len,\n",
        "        self.target_max_token_len\n",
        "    )\n",
        "\n",
        "    self.test_dataset = ClaimDecompDataset(\n",
        "        self.test_df,\n",
        "        self.tokenizer,\n",
        "        self.source_max_token_len,\n",
        "        self.target_max_token_len\n",
        "    )\n",
        "\n",
        "  def train_dataloader(self):\n",
        "    return DataLoader(\n",
        "        self.train_dataset,\n",
        "        batch_size = self.batch_size,\n",
        "        shuffle = True,\n",
        "        num_workers = 4\n",
        "    )\n",
        "\n",
        "  def val_dataloader(self):\n",
        "    return DataLoader(\n",
        "        self.test_dataset,\n",
        "        batch_size = 1,\n",
        "        num_workers = 4\n",
        "    )\n",
        "\n",
        "  def test_dataloader(self):\n",
        "    return DataLoader(\n",
        "        self.test_dataset,\n",
        "        batch_size = 1,\n",
        "        num_workers = 4\n",
        "    )\n"
      ]
    },
    {
      "cell_type": "markdown",
      "metadata": {
        "id": "Gyi_0YocknGD"
      },
      "source": [
        "#### Establish key parameters"
      ]
    },
    {
      "cell_type": "code",
      "execution_count": null,
      "metadata": {
        "id": "RCLnyN9fWYfJ"
      },
      "outputs": [],
      "source": [
        "BATCH_SIZE = 1\n",
        "N_EPOCHS = 7\n",
        "\n",
        "data_module = ClaimDecompDataModule(dfTrain, dfDev, tokenizer, batch_size=BATCH_SIZE)\n",
        "data_module.setup()"
      ]
    },
    {
      "cell_type": "markdown",
      "metadata": {
        "id": "9Bt0f_5Sos0H"
      },
      "source": [
        "#### Build custom model in native Pytorch"
      ]
    },
    {
      "cell_type": "code",
      "execution_count": null,
      "metadata": {
        "id": "3csHxgP3oskw"
      },
      "outputs": [],
      "source": [
        "class ClaimDecompModel(pl.LightningModule):\n",
        "  \n",
        "  def __init__(self):\n",
        "    super().__init__()\n",
        "    self.model = AutoModelForSeq2SeqLM.from_pretrained(\"google/t5-v1_1-large\")\n",
        "\n",
        "  def forward(self, input_ids, attention_mask, labels = None):\n",
        "    output = self.model(\n",
        "        input_ids = input_ids,\n",
        "        attention_mask = attention_mask,\n",
        "        labels = labels\n",
        "    )\n",
        "\n",
        "    return output.loss, output.logits\n",
        "\n",
        "  def training_step(self, batch, batch_idx):\n",
        "    input_ids = batch[\"input_ids\"]\n",
        "    attention_mask = batch[\"attention_mask\"]\n",
        "    labels = batch[\"labels\"]\n",
        "    loss, outputs = self(input_ids, attention_mask, labels)\n",
        "    self.log(\"train_loss\", loss, prog_bar = True, logger = True)\n",
        "    return loss\n",
        "\n",
        "  def validation_step(self, batch, batch_idx):\n",
        "    input_ids = batch[\"input_ids\"]\n",
        "    attention_mask = batch[\"attention_mask\"]\n",
        "    labels = batch[\"labels\"]\n",
        "    loss, outputs = self(input_ids, attention_mask, labels)\n",
        "    self.log(\"val_loss\", loss, prog_bar = True, logger = True)\n",
        "    return loss\n",
        "\n",
        "  def test_step(self, batch, batch_idx):\n",
        "    input_ids = batch[\"input_ids\"]\n",
        "    attention_mask = batch[\"attention_mask\"]\n",
        "    labels = batch[\"labels\"]\n",
        "    loss, outputs = self(input_ids, attention_mask, labels)\n",
        "    self.log(\"test_loss\", loss, prog_bar = True, logger = True)\n",
        "    return loss\n",
        "\n",
        "  def configure_optimizers(self):\n",
        "#     return AdamW(self.parameters(), lr=3e-3)\n",
        "    return AdamW(self.parameters(), lr=3e-5) \n",
        "#     return Adafactor(model.parameters(),\n",
        "#                         lr=1e-3,\n",
        "#                         eps=(1e-30, 1e-3),\n",
        "#                         clip_threshold=1.0,\n",
        "#                         decay_rate=-0.8,\n",
        "#                         beta1=None,\n",
        "#                         weight_decay=0.0,\n",
        "#                         relative_step=False,\n",
        "#                         scale_parameter=False,\n",
        "#                         warmup_init=False\n",
        "#                     )\n"
      ]
    },
    {
      "cell_type": "code",
      "execution_count": null,
      "metadata": {
        "id": "JCLjaMkBt-Xe"
      },
      "outputs": [],
      "source": [
        "customModel = ClaimDecompModel()"
      ]
    },
    {
      "cell_type": "markdown",
      "metadata": {
        "id": "ImJHOzn537Xz"
      },
      "source": [
        "## Load Fine-Tuned Model for Prediction"
      ]
    },
    {
      "cell_type": "code",
      "execution_count": null,
      "metadata": {
        "id": "5CIUAMW539zK",
        "colab": {
          "base_uri": "https://localhost:8080/"
        },
        "outputId": "a8f5c513-e47b-4fb3-8aa9-763f50845d49"
      },
      "outputs": [
        {
          "output_type": "stream",
          "name": "stderr",
          "text": [
            "/usr/local/lib/python3.9/dist-packages/torch/cuda/__init__.py:546: UserWarning: Can't initialize NVML\n",
            "  warnings.warn(\"Can't initialize NVML\")\n",
            "INFO:pytorch_lightning.utilities.migration.utils:Lightning automatically upgraded your loaded checkpoint from v1.8.2 to v2.0.1. To apply the upgrade to your files permanently, run `python -m pytorch_lightning.utilities.upgrade_checkpoint --file drive/MyDrive/past_checkpoints/V9L_B1_E7_SM850_TM500_LR3e5.ckpt`\n"
          ]
        }
      ],
      "source": [
        "device = torch.device('cuda') if torch.cuda.is_available() else torch.device('cpu')\n",
        "\n",
        "trainedModel2 = ClaimDecompModel.load_from_checkpoint(\"drive/MyDrive/past_checkpoints/V9L_B1_E7_SM850_TM500_LR3e5.ckpt\")\n",
        "\n",
        "trainedModel2.model.to(device)\n",
        "trainedModel2.freeze()"
      ]
    },
    {
      "cell_type": "markdown",
      "metadata": {
        "id": "2ieatNlZ91L3"
      },
      "source": [
        "# Evaluate Fine-Tuned Model"
      ]
    },
    {
      "cell_type": "markdown",
      "metadata": {
        "id": "rAtVqSlt_Mcp"
      },
      "source": [
        "## Check T5X Model Config Parameters"
      ]
    },
    {
      "cell_type": "code",
      "execution_count": null,
      "metadata": {
        "colab": {
          "base_uri": "https://localhost:8080/"
        },
        "id": "RlG5vapjmogo",
        "outputId": "4d45d07f-77e4-4068-fe9a-7245cf893b83"
      },
      "outputs": [
        {
          "output_type": "execute_result",
          "data": {
            "text/plain": [
              "T5Config {\n",
              "  \"_name_or_path\": \"google/t5-v1_1-large\",\n",
              "  \"architectures\": [\n",
              "    \"T5ForConditionalGeneration\"\n",
              "  ],\n",
              "  \"d_ff\": 2816,\n",
              "  \"d_kv\": 64,\n",
              "  \"d_model\": 1024,\n",
              "  \"decoder_start_token_id\": 0,\n",
              "  \"dense_act_fn\": \"gelu_new\",\n",
              "  \"dropout_rate\": 0.1,\n",
              "  \"eos_token_id\": 1,\n",
              "  \"feed_forward_proj\": \"gated-gelu\",\n",
              "  \"initializer_factor\": 1.0,\n",
              "  \"is_encoder_decoder\": true,\n",
              "  \"is_gated_act\": true,\n",
              "  \"layer_norm_epsilon\": 1e-06,\n",
              "  \"model_type\": \"t5\",\n",
              "  \"num_decoder_layers\": 24,\n",
              "  \"num_heads\": 16,\n",
              "  \"num_layers\": 24,\n",
              "  \"output_past\": true,\n",
              "  \"pad_token_id\": 0,\n",
              "  \"relative_attention_max_distance\": 128,\n",
              "  \"relative_attention_num_buckets\": 32,\n",
              "  \"tie_word_embeddings\": false,\n",
              "  \"transformers_version\": \"4.27.4\",\n",
              "  \"use_cache\": true,\n",
              "  \"vocab_size\": 32128\n",
              "}"
            ]
          },
          "metadata": {},
          "execution_count": 10
        }
      ],
      "source": [
        " trainedModel2.model.config"
      ]
    },
    {
      "cell_type": "code",
      "execution_count": null,
      "metadata": {
        "id": "xw_8NWTY91L3"
      },
      "outputs": [],
      "source": [
        "grep MemTotal /proc/meminfo"
      ]
    },
    {
      "cell_type": "markdown",
      "metadata": {
        "id": "W0c9JYXg_Zts"
      },
      "source": [
        "# Running the T5X for question generation"
      ]
    },
    {
      "cell_type": "code",
      "execution_count": null,
      "metadata": {
        "id": "n3vXwTPSg1Yt"
      },
      "outputs": [],
      "source": [
        "def predict(model, claim, justification):\n",
        "  claim_encoding = tokenizer(\n",
        "      claim,\n",
        "      justification,\n",
        "      max_length = 850,\n",
        "      padding=\"max_length\",\n",
        "      truncation=\"only_second\",\n",
        "      return_attention_mask=True,\n",
        "      add_special_tokens=True,\n",
        "      return_tensors=\"pt\"\n",
        "  )\n",
        "  claim_encoding.to(device)\n",
        "\n",
        "  prediction = model.model.generate(\n",
        "      input_ids=claim_encoding[\"input_ids\"],\n",
        "      attention_mask=claim_encoding[\"attention_mask\"],\n",
        "      num_beams=1,\n",
        "      max_length=800,\n",
        "      repetition_penalty=2.5,\n",
        "      length_penalty=1.0,\n",
        "      early_stopping=True,\n",
        "      use_cache=True\n",
        "  )\n",
        "\n",
        "  decoded_res = [\n",
        "      tokenizer.decode(pred, skip_special_tokens=True, clean_up_tokenization_spaces=True)\n",
        "      for pred in prediction\n",
        "  ]\n",
        "  \n",
        "  if justification == \"\":\n",
        "        justification = \"No Justification provided\"\n",
        "        \n",
        "  output = decoded_res[0].split(\"? \")\n",
        "  print(\"Claim:\\n\\n\" + claim + \"\\n\\nJustification:\\n\\n\" + justification + \"\\n\\nGenerated Sub-Questions:\\n\")\n",
        "  \n",
        "  resultArr = []\n",
        "  for i in range(0,len(output)):\n",
        "        resp = str(i+1) + \": \" + output[i] + \"?\"\n",
        "        resultArr.append(resp)\n",
        "  \n",
        "  return \" \\n\".join(resultArr)\n",
        "\n",
        "\n",
        "def predictOrg(model, claim, justification):\n",
        "  claim_encoding = tokenizer(\n",
        "      claim,\n",
        "      justification,\n",
        "      max_length = 850,\n",
        "      padding=\"max_length\",\n",
        "      truncation=\"only_second\",\n",
        "      return_attention_mask=True,\n",
        "      add_special_tokens=True,\n",
        "      return_tensors=\"pt\"\n",
        "  )\n",
        "  \n",
        "  claim_encoding.to(device)\n",
        "\n",
        "  prediction = model.generate(\n",
        "      input_ids=claim_encoding[\"input_ids\"],\n",
        "      attention_mask=claim_encoding[\"attention_mask\"],\n",
        "      num_beams=1,\n",
        "      max_length=800,\n",
        "      repetition_penalty=2.5,\n",
        "      length_penalty=1.0,\n",
        "      early_stopping=True,\n",
        "      use_cache=True\n",
        "  )\n",
        "\n",
        "  decoded_res = [\n",
        "      tokenizer.decode(pred, skip_special_tokens=True, clean_up_tokenization_spaces=True)\n",
        "      for pred in prediction\n",
        "  ]\n",
        "  \n",
        "  output = decoded_res[0].split(\"? \")\n",
        "  \n",
        "  print(\"Claim:\\n\" + claim + \"\\nJustification:\\n\" + justification + \"\\nSub-Questions:\\n\")\n",
        "  \n",
        "  for i in range(0,len(output)):\n",
        "        print(str(i) + \": \" + output[i] + \"?\")\n",
        "        "
      ]
    },
    {
      "cell_type": "markdown",
      "metadata": {
        "id": "uhzT4PpolcOm"
      },
      "source": [
        "### Evaluating Our Fine-Tuned Model"
      ]
    },
    {
      "cell_type": "code",
      "execution_count": null,
      "metadata": {
        "colab": {
          "base_uri": "https://localhost:8080/"
        },
        "id": "M7P0nrhYi5AT",
        "outputId": "325670d5-cf74-415c-a2b7-d28ff9bf953f",
        "scrolled": true
      },
      "outputs": [
        {
          "output_type": "stream",
          "name": "stdout",
          "text": [
            "Claim:\n",
            "\n",
            "Generate Questions: Says Kentucky Rep. Andy Barr \"would let shady payday lenders take advantage of our troops\" and that he took \"$36,550 from payday lenders.\n",
            "\n",
            "Justification:\n",
            "\n",
            "No Justification provided\n",
            "\n",
            "Generated Sub-Questions:\n",
            "\n",
            "1: Did Barr allow payday lenders to take advantage of our troops?', \"Did Barr allow payday lenders to take advantage of our troops?\", 'Would Barr let payday lenders take advantage of our troops??\n"
          ]
        }
      ],
      "source": [
        "################################### Invalid Claims #######################################\n",
        "\n",
        "## Lets try generating questions on song lyrics\n",
        "lyrics = \"\"\"Generate Questions: Welcome to Wonderland, I'll be your guide\n",
        "Holding your hand under sapphire skies\n",
        "Let's go exploring or we could just go for a walk\n",
        "Welcome to Wonderland, where should we go\n",
        "There's a tea party along down the road\n",
        "Make an appearance and maybe they'll sing us a song\"\"\"\n",
        "\n",
        "################################### Simple Claims #######################################\n",
        "\n",
        "simpC1 = \"Generate Questions: Donald Trump had a cup of coffee this morning and found that he was invited to the white house for the next election\"\n",
        "\n",
        "simpC2 = \"Generate Questions: Putin has ordered the Russian invasion of Ukraine\"\n",
        "\n",
        "simpC3 = \"Generate Questions: Boris Johnson just got elected as the new prime minister of the UK\"\n",
        "\n",
        "simpC4 = \"Generate Questions: Former U.S. President Donald Trump signed checks for Christmas bonuses for executives at his namesake company as if they were independent contractors, longtime chief financial officer Allen Weisselberg testified on Thursday.\"\n",
        "\n",
        "################################### General Claims #######################################\n",
        "\n",
        "genClaim = \"Generate Questions: Our CS3103 professor got COVID positive and conducted lecture over zoom instead of in-person classes\"\n",
        "\n",
        "## More about otters\n",
        "otterClaim = \"Generate Questions: The otter population has been rebounding since the 1970s when Singapore started cleaning up its waterways. Their numbers are rising partially because otters face no significant danger from other predators and only encounter crocodiles in a wetlands mangrove in the city’s north-west.\"\n",
        "\n",
        "################################### Political Claims #######################################\n",
        "\n",
        "polClaim = \"\"\"Generate Questions: Says Sen. Jon Tester \"believes that we should have a national registration so that the people of Montana should have to ask permission before they purchase a gun, ask permission from the federal government.\" \"\"\"\n",
        "\n",
        "polJustification = \"\"\"Justification: Rosendale said Tester \"believes that we should have a national registration so that the people of Montana should have to ask permission before they purchase a gun, ask permission from the federal government.\"\n",
        "Tester’s record shows opposition to a federal list of lawfully-owned guns and gun owners. To claim he supports this is absurd.\n",
        "We rate this Pants on Fire.\"\"\"\n",
        "\n",
        "manualQsn = \"\\nManual Decomposition: \\n\\nDoes Tester support the idea that the people of Montana ask for permission from the Federal Government to buy a gun?\\nDoes this senator believe in having a national gun registration program?\\nDoes Tester support gun purchases that are subject to federal approval?\\nDoes this senator support gun registration programs in his own state?\\n\"\n",
        "\n",
        "\n",
        "polClaim2 = \"Generate Questions: A Facebook post stated on January 31, 2021: Nancy Pelosi bought $1.25 million in Tesla stock the day before Joe Biden signed an order “for all federal vehicles” to be electric.\"\n",
        "\n",
        "polJustification2 = \"\"\"Justification: An image shared on Facebook claims that Nancy Pelosi bought $1.25 million in Tesla stock the day before Biden\n",
        "signed an order for all federal vehicles to be electric, implying that she sought to profit from inside information about new\n",
        "government policies. The House speaker did report transactions involving Tesla stock, but the post misrepresented the purchases\n",
        "and Biden’s policies to create the false impression that the transactions represented improper insider trading in Tesla shares. The statement contains an element of truth, but ignoring critical facts would give a different impression.\"\"\"\n",
        "\n",
        "polClaim3 = \"When I withdrew in June of 2008, polls were showing that at least 40 percent of my supporters said, oh, they weren't going to support Sen. Obama.\"\n",
        "\n",
        "polJustification3 = \"\"\"Clinton said, \"When I withdrew in June of 2008, polls were showing that at least 40 percent of my supporters said, oh, they weren't going to support Sen. Obama.\" The wording of polls makes exact comparisons a bit tricky, but in general, Clinton is right about the scale of Obama’s 2008 problem with dissident Democrats -- and correct that Obama had a harder road then than she seems to have now. We rate the statement Mostly True.\"\"\"\n",
        "\n",
        "test = \"\"\"Generate Questions: Says Kentucky Rep. Andy Barr \"would let shady payday lenders take advantage of our troops\" and that he took \"$36,550 from payday lenders.\"\"\"\n",
        "\n",
        "# predict(trainedModel, polClaim, polJustification)\n",
        "# print(manualQsn)\n",
        "\n",
        "# predict(trainedModel2, polClaim2, polJustification2)\n",
        "predict(trainedModel2, test, \"\")\n",
        "# predict(trainedModel2, otterClaim, \"\")\n",
        "# predict(trainedModel, simpC4, \"\")\n",
        "\n"
      ]
    },
    {
      "cell_type": "markdown",
      "source": [
        "## Load required dataset for decomposing with T5x"
      ],
      "metadata": {
        "id": "_ukJhEV7niJ0"
      }
    },
    {
      "cell_type": "code",
      "source": [
        "testPath = \"./drive/MyDrive/filtered_data/evalDecompTest-qgen.csv\"\n",
        "\n",
        "\n",
        "dfTest = pd.read_csv(testPath)\n",
        "dfTest.head()"
      ],
      "metadata": {
        "id": "1eWnioHhINB8"
      },
      "execution_count": null,
      "outputs": []
    },
    {
      "cell_type": "markdown",
      "source": [
        "## Predict sub-questions for the loaded dataset"
      ],
      "metadata": {
        "id": "_P1CjpUDnn1m"
      }
    },
    {
      "cell_type": "code",
      "source": [
        "for i in tqdm(range(len(dfTest))):\n",
        "  claim = dfTest.loc[i, 'claim']\n",
        "  resp = predict(trainedModel2, claim, \"\")\n",
        "  dfTest.loc[i, \"t5-decomp-subquestions\"] = resp"
      ],
      "metadata": {
        "colab": {
          "base_uri": "https://localhost:8080/"
        },
        "id": "e3Q7s5vfI4Wl",
        "outputId": "05050740-1cf1-4aec-8bf2-25a491d80f5a"
      },
      "execution_count": null,
      "outputs": [
        {
          "output_type": "stream",
          "name": "stderr",
          "text": [
            "  0%|          | 1/200 [00:15<50:13, 15.14s/it]"
          ]
        },
        {
          "output_type": "stream",
          "name": "stdout",
          "text": [
            "Claim:\n",
            "\n",
            "Says Kentucky Rep. Andy Barr \"would let shady payday lenders take advantage of our troops\" and that he took \"$36,550 from payday lenders.\"\n",
            "\n",
            "Justification:\n",
            "\n",
            "No Justification provided\n",
            "\n",
            "Generated Sub-Questions:\n",
            "\n"
          ]
        },
        {
          "output_type": "stream",
          "name": "stderr",
          "text": [
            "\r  1%|          | 2/200 [00:23<37:12, 11.27s/it]"
          ]
        },
        {
          "output_type": "stream",
          "name": "stdout",
          "text": [
            "Claim:\n",
            "\n",
            "\"New reports show Kevin Nicholson made over $1 million advising companies that shut down Wisconsin plants and laid off 1,900 people.\"\n",
            "\n",
            "Justification:\n",
            "\n",
            "No Justification provided\n",
            "\n",
            "Generated Sub-Questions:\n",
            "\n"
          ]
        },
        {
          "output_type": "stream",
          "name": "stderr",
          "text": [
            "\r  2%|▏         | 3/200 [00:30<30:59,  9.44s/it]"
          ]
        },
        {
          "output_type": "stream",
          "name": "stdout",
          "text": [
            "Claim:\n",
            "\n",
            "Says that unless the recipient called back about \"your tax filings,\" you \"will be taken into custody by the local cops as there are more serious allegations pressed on your name.\"\n",
            "\n",
            "Justification:\n",
            "\n",
            "No Justification provided\n",
            "\n",
            "Generated Sub-Questions:\n",
            "\n"
          ]
        },
        {
          "output_type": "stream",
          "name": "stderr",
          "text": [
            "\r  2%|▏         | 4/200 [00:41<32:19,  9.89s/it]"
          ]
        },
        {
          "output_type": "stream",
          "name": "stdout",
          "text": [
            "Claim:\n",
            "\n",
            "\"Donald Trump said he was excited for the 2008 housing crash that devastated millions of American families, because he thought it would help him scoop up more real estate on the cheap.\"\n",
            "\n",
            "Justification:\n",
            "\n",
            "No Justification provided\n",
            "\n",
            "Generated Sub-Questions:\n",
            "\n"
          ]
        },
        {
          "output_type": "stream",
          "name": "stderr",
          "text": [
            "\r  2%|▎         | 5/200 [00:49<29:59,  9.23s/it]"
          ]
        },
        {
          "output_type": "stream",
          "name": "stdout",
          "text": [
            "Claim:\n",
            "\n",
            "\"The president has said the national security threat facing America, the top one, is global warming.\"\n",
            "\n",
            "Justification:\n",
            "\n",
            "No Justification provided\n",
            "\n",
            "Generated Sub-Questions:\n",
            "\n"
          ]
        },
        {
          "output_type": "stream",
          "name": "stderr",
          "text": [
            "\r  3%|▎         | 6/200 [01:01<33:16, 10.29s/it]"
          ]
        },
        {
          "output_type": "stream",
          "name": "stdout",
          "text": [
            "Claim:\n",
            "\n",
            "Says Kamala Harris said, “If elected & you don’t surrender your guns, I will sign an executive order & the police will show up at your door.”\n",
            "\n",
            "Justification:\n",
            "\n",
            "No Justification provided\n",
            "\n",
            "Generated Sub-Questions:\n",
            "\n"
          ]
        },
        {
          "output_type": "stream",
          "name": "stderr",
          "text": [
            "\r  4%|▎         | 7/200 [01:15<36:09, 11.24s/it]"
          ]
        },
        {
          "output_type": "stream",
          "name": "stdout",
          "text": [
            "Claim:\n",
            "\n",
            "“Kenosha car dealer kills himself after insurance won’t cover … damages caused by the riots.”\n",
            "\n",
            "Justification:\n",
            "\n",
            "No Justification provided\n",
            "\n",
            "Generated Sub-Questions:\n",
            "\n"
          ]
        },
        {
          "output_type": "stream",
          "name": "stderr",
          "text": [
            "\r  4%|▍         | 8/200 [01:26<35:46, 11.18s/it]"
          ]
        },
        {
          "output_type": "stream",
          "name": "stdout",
          "text": [
            "Claim:\n",
            "\n",
            "Says the U.S. House’s COVID-19 relief bill, advanced by Democrats, “strips states of their right to administer elections.”\n",
            "\n",
            "Justification:\n",
            "\n",
            "No Justification provided\n",
            "\n",
            "Generated Sub-Questions:\n",
            "\n"
          ]
        },
        {
          "output_type": "stream",
          "name": "stderr",
          "text": [
            "\r  4%|▍         | 9/200 [01:37<36:06, 11.34s/it]"
          ]
        },
        {
          "output_type": "stream",
          "name": "stdout",
          "text": [
            "Claim:\n",
            "\n",
            "\" ‘What difference, at this point, does it make?' I am the guy that got under her skin and provoked that infamous response from Hillary Clinton by asking a pretty simple question, 'Why didn't you just pick up the phone and call the survivors’ (of the Benghazi attack)?\"\n",
            "\n",
            "Justification:\n",
            "\n",
            "No Justification provided\n",
            "\n",
            "Generated Sub-Questions:\n",
            "\n"
          ]
        },
        {
          "output_type": "stream",
          "name": "stderr",
          "text": [
            "\r  5%|▌         | 10/200 [01:55<41:58, 13.26s/it]"
          ]
        },
        {
          "output_type": "stream",
          "name": "stdout",
          "text": [
            "Claim:\n",
            "\n",
            "\"We have laws on the books where people can walk right up to our ports of entry, say ‘I have a credible fear of persecution,’ and we bring them in. We don’t send them back.\"\n",
            "\n",
            "Justification:\n",
            "\n",
            "No Justification provided\n",
            "\n",
            "Generated Sub-Questions:\n",
            "\n"
          ]
        },
        {
          "output_type": "stream",
          "name": "stderr",
          "text": [
            "\r  6%|▌         | 11/200 [02:12<45:03, 14.31s/it]"
          ]
        },
        {
          "output_type": "stream",
          "name": "stdout",
          "text": [
            "Claim:\n",
            "\n",
            "“When we discovered, I discovered, that we were doing many, many, too many stop and frisks, we cut 95% of it out.”\n",
            "\n",
            "Justification:\n",
            "\n",
            "No Justification provided\n",
            "\n",
            "Generated Sub-Questions:\n",
            "\n"
          ]
        },
        {
          "output_type": "stream",
          "name": "stderr",
          "text": [
            "\r  6%|▌         | 12/200 [02:38<56:16, 17.96s/it]"
          ]
        },
        {
          "output_type": "stream",
          "name": "stdout",
          "text": [
            "Claim:\n",
            "\n",
            "\"If someone is in a room that has measles and leaves and you walk in two hours later, you could get measles from that person.\"\n",
            "\n",
            "Justification:\n",
            "\n",
            "No Justification provided\n",
            "\n",
            "Generated Sub-Questions:\n",
            "\n"
          ]
        },
        {
          "output_type": "stream",
          "name": "stderr",
          "text": [
            "\r  6%|▋         | 13/200 [02:56<55:52, 17.93s/it]"
          ]
        },
        {
          "output_type": "stream",
          "name": "stdout",
          "text": [
            "Claim:\n",
            "\n",
            "Universal background checks involve asking people \"to submit the serial numbers to their guns to a state or federal official,\" and that violates the Second Amendment.\n",
            "\n",
            "Justification:\n",
            "\n",
            "No Justification provided\n",
            "\n",
            "Generated Sub-Questions:\n",
            "\n"
          ]
        },
        {
          "output_type": "stream",
          "name": "stderr",
          "text": [
            "\r  7%|▋         | 14/200 [03:09<51:24, 16.58s/it]"
          ]
        },
        {
          "output_type": "stream",
          "name": "stdout",
          "text": [
            "Claim:\n",
            "\n",
            "Under Mayor Byron Brown, “we’ve been defunding community centers, our pools were closed this summer, we’ve been defunding senior and youth services.”\n",
            "\n",
            "Justification:\n",
            "\n",
            "No Justification provided\n",
            "\n",
            "Generated Sub-Questions:\n",
            "\n"
          ]
        },
        {
          "output_type": "stream",
          "name": "stderr",
          "text": [
            "\r  8%|▊         | 15/200 [03:18<44:12, 14.34s/it]"
          ]
        },
        {
          "output_type": "stream",
          "name": "stdout",
          "text": [
            "Claim:\n",
            "\n",
            "Video shows Joe Biden saying “we can only re-elect Donald Trump.”\n",
            "\n",
            "Justification:\n",
            "\n",
            "No Justification provided\n",
            "\n",
            "Generated Sub-Questions:\n",
            "\n"
          ]
        },
        {
          "output_type": "stream",
          "name": "stderr",
          "text": [
            "\r  8%|▊         | 16/200 [03:29<40:18, 13.14s/it]"
          ]
        },
        {
          "output_type": "stream",
          "name": "stdout",
          "text": [
            "Claim:\n",
            "\n",
            "Says Hillary Clinton \"was literally present when we pressed the reset button with Russia just a few months after Russia had invaded Georgia.\"\n",
            "\n",
            "Justification:\n",
            "\n",
            "No Justification provided\n",
            "\n",
            "Generated Sub-Questions:\n",
            "\n"
          ]
        },
        {
          "output_type": "stream",
          "name": "stderr",
          "text": [
            "\r  8%|▊         | 17/200 [03:41<39:18, 12.89s/it]"
          ]
        },
        {
          "output_type": "stream",
          "name": "stdout",
          "text": [
            "Claim:\n",
            "\n",
            "Says Leah Vukmir \"wrote a letter seeking leniency for a fellow state legislator convicted of sexual assault.\"\n",
            "\n",
            "Justification:\n",
            "\n",
            "No Justification provided\n",
            "\n",
            "Generated Sub-Questions:\n",
            "\n"
          ]
        },
        {
          "output_type": "stream",
          "name": "stderr",
          "text": [
            "\r  9%|▉         | 18/200 [03:50<35:43, 11.78s/it]"
          ]
        },
        {
          "output_type": "stream",
          "name": "stdout",
          "text": [
            "Claim:\n",
            "\n",
            "“Thanks to (Israel's) sacrifice, we now know that natural immunity is far superior with 1% experiencing re-infection while 40% of new cases were previously vx'd.\"\n",
            "\n",
            "Justification:\n",
            "\n",
            "No Justification provided\n",
            "\n",
            "Generated Sub-Questions:\n",
            "\n"
          ]
        },
        {
          "output_type": "stream",
          "name": "stderr",
          "text": [
            "\r 10%|▉         | 19/200 [03:57<31:21, 10.39s/it]"
          ]
        },
        {
          "output_type": "stream",
          "name": "stdout",
          "text": [
            "Claim:\n",
            "\n",
            "In more than 60 cases, judges “looked at the allegations that Trump was making and determined they were without any merit.”\n",
            "\n",
            "Justification:\n",
            "\n",
            "No Justification provided\n",
            "\n",
            "Generated Sub-Questions:\n",
            "\n"
          ]
        },
        {
          "output_type": "stream",
          "name": "stderr",
          "text": [
            "\r 10%|█         | 20/200 [04:10<32:48, 10.94s/it]"
          ]
        },
        {
          "output_type": "stream",
          "name": "stdout",
          "text": [
            "Claim:\n",
            "\n",
            "\"Crime is escalating to a level we haven’t seen in decades as a direct result of Democrats’ defund the police movement and Biden-Harris open-border policies.\"\n",
            "\n",
            "Justification:\n",
            "\n",
            "No Justification provided\n",
            "\n",
            "Generated Sub-Questions:\n",
            "\n"
          ]
        },
        {
          "output_type": "stream",
          "name": "stderr",
          "text": [
            "\r 10%|█         | 21/200 [04:23<34:45, 11.65s/it]"
          ]
        },
        {
          "output_type": "stream",
          "name": "stdout",
          "text": [
            "Claim:\n",
            "\n",
            "The Great Recession emerged \"in large part because of tax policies that slashed taxes on the wealthy, failed to invest in the middle class, took their eyes off of Wall Street, and created a perfect storm.\"\n",
            "\n",
            "Justification:\n",
            "\n",
            "No Justification provided\n",
            "\n",
            "Generated Sub-Questions:\n",
            "\n"
          ]
        },
        {
          "output_type": "stream",
          "name": "stderr",
          "text": [
            "\r 11%|█         | 22/200 [04:32<32:07, 10.83s/it]"
          ]
        },
        {
          "output_type": "stream",
          "name": "stdout",
          "text": [
            "Claim:\n",
            "\n",
            "Last year, \"244 suspected terrorists walked into gun shops and attempted to purchase a firearm; 223 were able to get the firearm.\"\n",
            "\n",
            "Justification:\n",
            "\n",
            "No Justification provided\n",
            "\n",
            "Generated Sub-Questions:\n",
            "\n"
          ]
        },
        {
          "output_type": "stream",
          "name": "stderr",
          "text": [
            "\r 12%|█▏        | 23/200 [04:41<30:17, 10.27s/it]"
          ]
        },
        {
          "output_type": "stream",
          "name": "stdout",
          "text": [
            "Claim:\n",
            "\n",
            "\"Crimea became part of Ukraine only in 1954. Crimea was historically part of Russia, and (Nikita) Khrushchev gave it to Ukraine in a gesture that mystified some people.\"\n",
            "\n",
            "Justification:\n",
            "\n",
            "No Justification provided\n",
            "\n",
            "Generated Sub-Questions:\n",
            "\n"
          ]
        },
        {
          "output_type": "stream",
          "name": "stderr",
          "text": [
            "\r 12%|█▏        | 24/200 [04:53<31:37, 10.78s/it]"
          ]
        },
        {
          "output_type": "stream",
          "name": "stdout",
          "text": [
            "Claim:\n",
            "\n",
            "Says Joe Biden “was in charge of the H1N1 Swine Flu epidemic which killed thousands of people. The response was one of the worst on record. Our response is one of the best, with fast action of border closings & a 78% Approval Rating, the highest on record. His was lowest!\"\n",
            "\n",
            "Justification:\n",
            "\n",
            "No Justification provided\n",
            "\n",
            "Generated Sub-Questions:\n",
            "\n"
          ]
        },
        {
          "output_type": "stream",
          "name": "stderr",
          "text": [
            "\r 12%|█▎        | 25/200 [05:04<31:37, 10.84s/it]"
          ]
        },
        {
          "output_type": "stream",
          "name": "stdout",
          "text": [
            "Claim:\n",
            "\n",
            "Says Saudi Arabia, a U.S. ally, has \"paid to export throughout the world\" Wahhabism -- \"an extreme form of Islam\" that basically teaches \"Americans are the devil.\"\n",
            "\n",
            "Justification:\n",
            "\n",
            "No Justification provided\n",
            "\n",
            "Generated Sub-Questions:\n",
            "\n"
          ]
        },
        {
          "output_type": "stream",
          "name": "stderr",
          "text": [
            "\r 13%|█▎        | 26/200 [05:11<28:41,  9.90s/it]"
          ]
        },
        {
          "output_type": "stream",
          "name": "stdout",
          "text": [
            "Claim:\n",
            "\n",
            "Says Sen. Jon Tester \"believes that we should have a national registration so that the people of Montana should have to ask permission before they purchase a gun, ask permission from the federal government.\"\n",
            "\n",
            "Justification:\n",
            "\n",
            "No Justification provided\n",
            "\n",
            "Generated Sub-Questions:\n",
            "\n"
          ]
        },
        {
          "output_type": "stream",
          "name": "stderr",
          "text": [
            "\r 14%|█▎        | 27/200 [05:21<28:10,  9.77s/it]"
          ]
        },
        {
          "output_type": "stream",
          "name": "stdout",
          "text": [
            "Claim:\n",
            "\n",
            "\"Twenty-five percent of people in the country have said they changed their email and phone habits because of\" the collection of data allowed by the Patriot Act.\n",
            "\n",
            "Justification:\n",
            "\n",
            "No Justification provided\n",
            "\n",
            "Generated Sub-Questions:\n",
            "\n"
          ]
        },
        {
          "output_type": "stream",
          "name": "stderr",
          "text": [
            "\r 14%|█▍        | 28/200 [05:32<28:41, 10.01s/it]"
          ]
        },
        {
          "output_type": "stream",
          "name": "stdout",
          "text": [
            "Claim:\n",
            "\n",
            "“Wisconsin is second to last in the Midwest in our vaccination rate and the governor says he’s ‘satisfied.’”\n",
            "\n",
            "Justification:\n",
            "\n",
            "No Justification provided\n",
            "\n",
            "Generated Sub-Questions:\n",
            "\n"
          ]
        },
        {
          "output_type": "stream",
          "name": "stderr",
          "text": [
            "\r 14%|█▍        | 29/200 [05:42<28:37, 10.04s/it]"
          ]
        },
        {
          "output_type": "stream",
          "name": "stdout",
          "text": [
            "Claim:\n",
            "\n",
            "The law governing the transition of presidential power “doesn’t require there to be an absolute winner. It says the ‘apparent' winner.”\n",
            "\n",
            "Justification:\n",
            "\n",
            "No Justification provided\n",
            "\n",
            "Generated Sub-Questions:\n",
            "\n"
          ]
        },
        {
          "output_type": "stream",
          "name": "stderr",
          "text": [
            "\r 15%|█▌        | 30/200 [05:52<29:05, 10.27s/it]"
          ]
        },
        {
          "output_type": "stream",
          "name": "stdout",
          "text": [
            "Claim:\n",
            "\n",
            "Says Hillary Clinton has been given tens of millions of dollars by countries that \"treat women horribly ... and countries that kill gays.\"\n",
            "\n",
            "Justification:\n",
            "\n",
            "No Justification provided\n",
            "\n",
            "Generated Sub-Questions:\n",
            "\n"
          ]
        },
        {
          "output_type": "stream",
          "name": "stderr",
          "text": [
            "\r 16%|█▌        | 31/200 [06:03<28:54, 10.26s/it]"
          ]
        },
        {
          "output_type": "stream",
          "name": "stdout",
          "text": [
            "Claim:\n",
            "\n",
            "\"Why did the US (NIH) in 2017 give $3.7m to the Wuhan Lab in China? Such grants were prohibited in 2014. Did Pres. Obama grant an exception?\"\n",
            "\n",
            "Justification:\n",
            "\n",
            "No Justification provided\n",
            "\n",
            "Generated Sub-Questions:\n",
            "\n"
          ]
        },
        {
          "output_type": "stream",
          "name": "stderr",
          "text": [
            "\r 16%|█▌        | 32/200 [06:13<29:10, 10.42s/it]"
          ]
        },
        {
          "output_type": "stream",
          "name": "stdout",
          "text": [
            "Claim:\n",
            "\n",
            "Says City Blue Imaging Services in Rochester, N.Y. “printed ballots there. If you search them you’ll see they’re the ones who had ballots misprint errors for the ballots sent to NYC.”\n",
            "\n",
            "Justification:\n",
            "\n",
            "No Justification provided\n",
            "\n",
            "Generated Sub-Questions:\n",
            "\n"
          ]
        },
        {
          "output_type": "stream",
          "name": "stderr",
          "text": [
            "\r 16%|█▋        | 33/200 [06:26<30:33, 10.98s/it]"
          ]
        },
        {
          "output_type": "stream",
          "name": "stdout",
          "text": [
            "Claim:\n",
            "\n",
            "\"Many state and federal agencies have such ‘navigators’ involved in helping folks maneuver through the often complex processes associated with filing benefits claims, for example -- even buying health insurance.\"\n",
            "\n",
            "Justification:\n",
            "\n",
            "No Justification provided\n",
            "\n",
            "Generated Sub-Questions:\n",
            "\n"
          ]
        },
        {
          "output_type": "stream",
          "name": "stderr",
          "text": [
            "\r 17%|█▋        | 34/200 [06:36<30:08, 10.89s/it]"
          ]
        },
        {
          "output_type": "stream",
          "name": "stdout",
          "text": [
            "Claim:\n",
            "\n",
            "\"There was never a single shred of evidence presented to anyone\" that the attacks in Benghazi, Libya, were \"spontaneous, and in fact, the CIA themselves understood that early on.\"\n",
            "\n",
            "Justification:\n",
            "\n",
            "No Justification provided\n",
            "\n",
            "Generated Sub-Questions:\n",
            "\n"
          ]
        },
        {
          "output_type": "stream",
          "name": "stderr",
          "text": [
            "\r 18%|█▊        | 35/200 [07:02<42:13, 15.35s/it]"
          ]
        },
        {
          "output_type": "stream",
          "name": "stdout",
          "text": [
            "Claim:\n",
            "\n",
            "Pollsters say \"don't actually believe our own data\" and Gallup stopped primary polling \"because they don't trust their methodology.\"\n",
            "\n",
            "Justification:\n",
            "\n",
            "No Justification provided\n",
            "\n",
            "Generated Sub-Questions:\n",
            "\n"
          ]
        },
        {
          "output_type": "stream",
          "name": "stderr",
          "text": [
            "\r 18%|█▊        | 36/200 [07:13<38:09, 13.96s/it]"
          ]
        },
        {
          "output_type": "stream",
          "name": "stdout",
          "text": [
            "Claim:\n",
            "\n",
            "\"For people making between $50,000 and $75,000 a year, their taxes are going up about $5,000 because the fact is, they will pay more in new taxes\" for Medicare for All.\n",
            "\n",
            "Justification:\n",
            "\n",
            "No Justification provided\n",
            "\n",
            "Generated Sub-Questions:\n",
            "\n"
          ]
        },
        {
          "output_type": "stream",
          "name": "stderr",
          "text": [
            "\r 18%|█▊        | 37/200 [07:23<35:06, 12.92s/it]"
          ]
        },
        {
          "output_type": "stream",
          "name": "stdout",
          "text": [
            "Claim:\n",
            "\n",
            "\"What did Joe Manchin say about civility? Today, he said he wanted to ‘beat the living crap out of’ his Republican opponent during their debate.\"\n",
            "\n",
            "Justification:\n",
            "\n",
            "No Justification provided\n",
            "\n",
            "Generated Sub-Questions:\n",
            "\n"
          ]
        },
        {
          "output_type": "stream",
          "name": "stderr",
          "text": [
            "\r 19%|█▉        | 38/200 [07:33<32:09, 11.91s/it]"
          ]
        },
        {
          "output_type": "stream",
          "name": "stdout",
          "text": [
            "Claim:\n",
            "\n",
            "\"Thanks to the strong charter school reforms put in place while I was Senate President\" the online charter school ECOT \"was caught and is out of business.\"\n",
            "\n",
            "Justification:\n",
            "\n",
            "No Justification provided\n",
            "\n",
            "Generated Sub-Questions:\n",
            "\n"
          ]
        },
        {
          "output_type": "stream",
          "name": "stderr",
          "text": [
            "\r 20%|█▉        | 39/200 [07:43<30:09, 11.24s/it]"
          ]
        },
        {
          "output_type": "stream",
          "name": "stdout",
          "text": [
            "Claim:\n",
            "\n",
            "Milwaukee County Sheriff David A. Clarke Jr. advised citizens to \"point that barrel center mass and pull the trigger\" because \"911 is not our best option.\"\n",
            "\n",
            "Justification:\n",
            "\n",
            "No Justification provided\n",
            "\n",
            "Generated Sub-Questions:\n",
            "\n"
          ]
        },
        {
          "output_type": "stream",
          "name": "stderr",
          "text": [
            "\r 20%|██        | 40/200 [07:52<28:41, 10.76s/it]"
          ]
        },
        {
          "output_type": "stream",
          "name": "stdout",
          "text": [
            "Claim:\n",
            "\n",
            "“Pfizer and Moderna could share their design with dozens of other pharma companies who stand ready to produce their vaccines and end the pandemic.”\n",
            "\n",
            "Justification:\n",
            "\n",
            "No Justification provided\n",
            "\n",
            "Generated Sub-Questions:\n",
            "\n"
          ]
        },
        {
          "output_type": "stream",
          "name": "stderr",
          "text": [
            "\r 20%|██        | 41/200 [08:01<26:46, 10.11s/it]"
          ]
        },
        {
          "output_type": "stream",
          "name": "stdout",
          "text": [
            "Claim:\n",
            "\n",
            "A Texas police department bought an ad telling drug dealers, \"We can take your competition off the streets for FREE.\"\n",
            "\n",
            "Justification:\n",
            "\n",
            "No Justification provided\n",
            "\n",
            "Generated Sub-Questions:\n",
            "\n"
          ]
        },
        {
          "output_type": "stream",
          "name": "stderr",
          "text": [
            "\r 21%|██        | 42/200 [08:10<26:10,  9.94s/it]"
          ]
        },
        {
          "output_type": "stream",
          "name": "stdout",
          "text": [
            "Claim:\n",
            "\n",
            "\"We’ve been down this road before—blanket protectionism is a big part of why America had a Great Depression.\"\n",
            "\n",
            "Justification:\n",
            "\n",
            "No Justification provided\n",
            "\n",
            "Generated Sub-Questions:\n",
            "\n"
          ]
        },
        {
          "output_type": "stream",
          "name": "stderr",
          "text": [
            "\r 22%|██▏       | 43/200 [08:21<26:11, 10.01s/it]"
          ]
        },
        {
          "output_type": "stream",
          "name": "stdout",
          "text": [
            "Claim:\n",
            "\n",
            "If protesters blocking the road “start banging on your windows, threatening you and trying to get in your vehicle,” it is legal to “hit the gas and plow through them.”\n",
            "\n",
            "Justification:\n",
            "\n",
            "No Justification provided\n",
            "\n",
            "Generated Sub-Questions:\n",
            "\n"
          ]
        },
        {
          "output_type": "stream",
          "name": "stderr",
          "text": [
            "\r 22%|██▏       | 44/200 [08:31<26:22, 10.14s/it]"
          ]
        },
        {
          "output_type": "stream",
          "name": "stdout",
          "text": [
            "Claim:\n",
            "\n",
            "\"The Fourth Amendment was what we fought the Revolution over. John Adams said it was the spark that led to our war for independence.\"\n",
            "\n",
            "Justification:\n",
            "\n",
            "No Justification provided\n",
            "\n",
            "Generated Sub-Questions:\n",
            "\n"
          ]
        },
        {
          "output_type": "stream",
          "name": "stderr",
          "text": [
            "\r 22%|██▎       | 45/200 [08:42<26:27, 10.24s/it]"
          ]
        },
        {
          "output_type": "stream",
          "name": "stdout",
          "text": [
            "Claim:\n",
            "\n",
            "Says Al Gore said in 2009 that “the North Pole will be ice-free in the summer by 2013 because of man-made global warming.”\n",
            "\n",
            "Justification:\n",
            "\n",
            "No Justification provided\n",
            "\n",
            "Generated Sub-Questions:\n",
            "\n"
          ]
        },
        {
          "output_type": "stream",
          "name": "stderr",
          "text": [
            "\r 23%|██▎       | 46/200 [08:53<27:28, 10.71s/it]"
          ]
        },
        {
          "output_type": "stream",
          "name": "stdout",
          "text": [
            "Claim:\n",
            "\n",
            "Speaking of his restriction on travel from China, “I had (Joe) Biden calling me xenophobic. … He called me a racist, because of the fact that he felt it was a racist thing to stop people from China coming in.”\n",
            "\n",
            "Justification:\n",
            "\n",
            "No Justification provided\n",
            "\n",
            "Generated Sub-Questions:\n",
            "\n"
          ]
        },
        {
          "output_type": "stream",
          "name": "stderr",
          "text": [
            "\r 24%|██▎       | 47/200 [09:06<28:36, 11.22s/it]"
          ]
        },
        {
          "output_type": "stream",
          "name": "stdout",
          "text": [
            "Claim:\n",
            "\n",
            "“Cops in Norway: require 3 years of training, 4 people killed since 2002. Cops in Finland: require 2 years of training, 7 people killed since 2000. Cops in Iceland: require 2 years of training, 1 person killed since ever. Cops in the U.S.: require 21 weeks of training, 8,000+ people killed since 2001.”\n",
            "\n",
            "Justification:\n",
            "\n",
            "No Justification provided\n",
            "\n",
            "Generated Sub-Questions:\n",
            "\n"
          ]
        },
        {
          "output_type": "stream",
          "name": "stderr",
          "text": [
            "\r 24%|██▍       | 48/200 [09:16<27:43, 10.94s/it]"
          ]
        },
        {
          "output_type": "stream",
          "name": "stdout",
          "text": [
            "Claim:\n",
            "\n",
            "Says Robert E. Lee opposed slavery and secession and has come to symbolize both slavery and secession.\n",
            "\n",
            "Justification:\n",
            "\n",
            "No Justification provided\n",
            "\n",
            "Generated Sub-Questions:\n",
            "\n"
          ]
        },
        {
          "output_type": "stream",
          "name": "stderr",
          "text": [
            "\r 24%|██▍       | 49/200 [09:24<25:29, 10.13s/it]"
          ]
        },
        {
          "output_type": "stream",
          "name": "stdout",
          "text": [
            "Claim:\n",
            "\n",
            "\"We went from zero A elementary schools when I took office to 16 when I left, and our total A and B schools went up by 260 percent.\"\n",
            "\n",
            "Justification:\n",
            "\n",
            "No Justification provided\n",
            "\n",
            "Generated Sub-Questions:\n",
            "\n"
          ]
        },
        {
          "output_type": "stream",
          "name": "stderr",
          "text": [
            "\r 25%|██▌       | 50/200 [09:36<26:49, 10.73s/it]"
          ]
        },
        {
          "output_type": "stream",
          "name": "stdout",
          "text": [
            "Claim:\n",
            "\n",
            "Quotes Valerie Jarrett as saying she is an \"Iranian by birth\" and seeks to \"change America to be a more Islamic country\"\n",
            "\n",
            "Justification:\n",
            "\n",
            "No Justification provided\n",
            "\n",
            "Generated Sub-Questions:\n",
            "\n"
          ]
        },
        {
          "output_type": "stream",
          "name": "stderr",
          "text": [
            "\r 26%|██▌       | 51/200 [09:46<26:07, 10.52s/it]"
          ]
        },
        {
          "output_type": "stream",
          "name": "stdout",
          "text": [
            "Claim:\n",
            "\n",
            "\"Tim Kaine doesn’t want a border at all. He wants to get rid of Immigration and Customs Enforcement and basically the border patrol as well.\"\n",
            "\n",
            "Justification:\n",
            "\n",
            "No Justification provided\n",
            "\n",
            "Generated Sub-Questions:\n",
            "\n"
          ]
        },
        {
          "output_type": "stream",
          "name": "stderr",
          "text": [
            "\r 26%|██▌       | 52/200 [09:56<25:33, 10.36s/it]"
          ]
        },
        {
          "output_type": "stream",
          "name": "stdout",
          "text": [
            "Claim:\n",
            "\n",
            "\"In Mobile, it’s something like, 1,700 families generate 80 percent of the crime. We know who those families are.\"\n",
            "\n",
            "Justification:\n",
            "\n",
            "No Justification provided\n",
            "\n",
            "Generated Sub-Questions:\n",
            "\n"
          ]
        },
        {
          "output_type": "stream",
          "name": "stderr",
          "text": [
            "\r 26%|██▋       | 53/200 [10:05<24:11,  9.87s/it]"
          ]
        },
        {
          "output_type": "stream",
          "name": "stdout",
          "text": [
            "Claim:\n",
            "\n",
            "“We’re down near the low end of per capita deaths ... Most places are at 60 deaths per 100,000. We're at 29.”\n",
            "\n",
            "Justification:\n",
            "\n",
            "No Justification provided\n",
            "\n",
            "Generated Sub-Questions:\n",
            "\n"
          ]
        },
        {
          "output_type": "stream",
          "name": "stderr",
          "text": [
            "\r 27%|██▋       | 54/200 [10:16<24:58, 10.26s/it]"
          ]
        },
        {
          "output_type": "stream",
          "name": "stdout",
          "text": [
            "Claim:\n",
            "\n",
            "Says the cartels are so bad in a Mexican border state that the U.S. government issued a ‘Do Not Travel’ warning -- the same warning it issued for Syria.\n",
            "\n",
            "Justification:\n",
            "\n",
            "No Justification provided\n",
            "\n",
            "Generated Sub-Questions:\n",
            "\n"
          ]
        },
        {
          "output_type": "stream",
          "name": "stderr",
          "text": [
            "\r 28%|██▊       | 55/200 [10:29<26:21, 10.91s/it]"
          ]
        },
        {
          "output_type": "stream",
          "name": "stdout",
          "text": [
            "Claim:\n",
            "\n",
            "Says North Carolina Rep. Renee Ellmers was the only Republican to vote against \"an amendment to prioritize the deportation of sexual criminals who are illegal immigrants.\"\n",
            "\n",
            "Justification:\n",
            "\n",
            "No Justification provided\n",
            "\n",
            "Generated Sub-Questions:\n",
            "\n"
          ]
        },
        {
          "output_type": "stream",
          "name": "stderr",
          "text": [
            "\r 28%|██▊       | 56/200 [10:36<23:36,  9.84s/it]"
          ]
        },
        {
          "output_type": "stream",
          "name": "stdout",
          "text": [
            "Claim:\n",
            "\n",
            "Says he’s a \"small-town supervisor who has kept a balanced budget, who has increased surpluses, who has led us to the highest credit rating our town has ever had.\"\n",
            "\n",
            "Justification:\n",
            "\n",
            "No Justification provided\n",
            "\n",
            "Generated Sub-Questions:\n",
            "\n"
          ]
        },
        {
          "output_type": "stream",
          "name": "stderr",
          "text": [
            "\r 28%|██▊       | 57/200 [10:44<21:51,  9.17s/it]"
          ]
        },
        {
          "output_type": "stream",
          "name": "stdout",
          "text": [
            "Claim:\n",
            "\n",
            "Department of Homeland Security “deemed as terrorism” behavior that includes “resisting COVID regulations” and “thinking the election was rigged.”...“In other words, if you are a Trump supporter, you are a terrorist.”\n",
            "\n",
            "Justification:\n",
            "\n",
            "No Justification provided\n",
            "\n",
            "Generated Sub-Questions:\n",
            "\n"
          ]
        },
        {
          "output_type": "stream",
          "name": "stderr",
          "text": [
            "\r 29%|██▉       | 58/200 [10:51<20:27,  8.65s/it]"
          ]
        },
        {
          "output_type": "stream",
          "name": "stdout",
          "text": [
            "Claim:\n",
            "\n",
            "\"There are no federal or state laws that say prosecutors must seek death sentences. And the United States Supreme Court has banned all state laws that make executions mandatory for murders.\"\n",
            "\n",
            "Justification:\n",
            "\n",
            "No Justification provided\n",
            "\n",
            "Generated Sub-Questions:\n",
            "\n"
          ]
        },
        {
          "output_type": "stream",
          "name": "stderr",
          "text": [
            "\r 30%|██▉       | 59/200 [11:00<20:16,  8.63s/it]"
          ]
        },
        {
          "output_type": "stream",
          "name": "stdout",
          "text": [
            "Claim:\n",
            "\n",
            "\"Syria and Nicaragua are the only nations that didn't sign the Paris Agreement. Nicaragua said it wasn't tough enough.\"\n",
            "\n",
            "Justification:\n",
            "\n",
            "No Justification provided\n",
            "\n",
            "Generated Sub-Questions:\n",
            "\n"
          ]
        },
        {
          "output_type": "stream",
          "name": "stderr",
          "text": [
            "\r 30%|███       | 60/200 [11:11<22:09,  9.49s/it]"
          ]
        },
        {
          "output_type": "stream",
          "name": "stdout",
          "text": [
            "Claim:\n",
            "\n",
            "\"I don’t need a lecture from Kirsten Gillibrand or anybody else who protected and defended and harbored a sitting president who had sexual relations in the Oval Office and was impeached for lying.\"\n",
            "\n",
            "Justification:\n",
            "\n",
            "No Justification provided\n",
            "\n",
            "Generated Sub-Questions:\n",
            "\n"
          ]
        },
        {
          "output_type": "stream",
          "name": "stderr",
          "text": [
            "\r 30%|███       | 61/200 [11:21<22:03,  9.52s/it]"
          ]
        },
        {
          "output_type": "stream",
          "name": "stdout",
          "text": [
            "Claim:\n",
            "\n",
            "\"If Rick Scott had his way he would encourage racially profiling immigrant communities here in Florida. He also opposed allowing Dreamers to remain in the U.S.\"\n",
            "\n",
            "Justification:\n",
            "\n",
            "No Justification provided\n",
            "\n",
            "Generated Sub-Questions:\n",
            "\n"
          ]
        },
        {
          "output_type": "stream",
          "name": "stderr",
          "text": [
            "\r 31%|███       | 62/200 [11:32<23:16, 10.12s/it]"
          ]
        },
        {
          "output_type": "stream",
          "name": "stdout",
          "text": [
            "Claim:\n",
            "\n",
            "Says a Wisconsin welcome sign includes a message warning \"criminals and terrorists\" that over \"170,000 Wisconsin residents have a legal permit to carry a handgun.\"\n",
            "\n",
            "Justification:\n",
            "\n",
            "No Justification provided\n",
            "\n",
            "Generated Sub-Questions:\n",
            "\n"
          ]
        },
        {
          "output_type": "stream",
          "name": "stderr",
          "text": [
            "\r 32%|███▏      | 63/200 [11:43<23:10, 10.15s/it]"
          ]
        },
        {
          "output_type": "stream",
          "name": "stdout",
          "text": [
            "Claim:\n",
            "\n",
            "\"In my own state of Vermont, from the very first days of our state's history, what our Constitution says is that everybody can vote. That is true. So people in jail can vote.\"\n",
            "\n",
            "Justification:\n",
            "\n",
            "No Justification provided\n",
            "\n",
            "Generated Sub-Questions:\n",
            "\n"
          ]
        },
        {
          "output_type": "stream",
          "name": "stderr",
          "text": [
            "\r 32%|███▏      | 64/200 [11:51<21:46,  9.60s/it]"
          ]
        },
        {
          "output_type": "stream",
          "name": "stdout",
          "text": [
            "Claim:\n",
            "\n",
            "Says Joe Biden said 14,000 people died from H1N1. “Fact checking it is 574,000.”\n",
            "\n",
            "Justification:\n",
            "\n",
            "No Justification provided\n",
            "\n",
            "Generated Sub-Questions:\n",
            "\n"
          ]
        },
        {
          "output_type": "stream",
          "name": "stderr",
          "text": [
            "\r 32%|███▎      | 65/200 [12:01<21:50,  9.71s/it]"
          ]
        },
        {
          "output_type": "stream",
          "name": "stdout",
          "text": [
            "Claim:\n",
            "\n",
            "Say \"Pope says that the rights of Muslim migrants trump any safety concerns that you might have with them in your country.\"\n",
            "\n",
            "Justification:\n",
            "\n",
            "No Justification provided\n",
            "\n",
            "Generated Sub-Questions:\n",
            "\n"
          ]
        },
        {
          "output_type": "stream",
          "name": "stderr",
          "text": [
            "\r 33%|███▎      | 66/200 [12:12<22:49, 10.22s/it]"
          ]
        },
        {
          "output_type": "stream",
          "name": "stdout",
          "text": [
            "Claim:\n",
            "\n",
            "Says Bill Cosby was framed for sexual assault by the Illuminati to stop him from buying NBC.\n",
            "\n",
            "Justification:\n",
            "\n",
            "No Justification provided\n",
            "\n",
            "Generated Sub-Questions:\n",
            "\n"
          ]
        },
        {
          "output_type": "stream",
          "name": "stderr",
          "text": [
            "\r 34%|███▎      | 67/200 [12:20<21:05,  9.51s/it]"
          ]
        },
        {
          "output_type": "stream",
          "name": "stdout",
          "text": [
            "Claim:\n",
            "\n",
            "These guys are now pretty much living up to the @BruceRauner standard. And falling dismally short of the @MittRomney standard. Even Romney released his full tax returns.\n",
            "\n",
            "Justification:\n",
            "\n",
            "No Justification provided\n",
            "\n",
            "Generated Sub-Questions:\n",
            "\n"
          ]
        },
        {
          "output_type": "stream",
          "name": "stderr",
          "text": [
            "\r 34%|███▍      | 68/200 [12:31<22:00, 10.00s/it]"
          ]
        },
        {
          "output_type": "stream",
          "name": "stdout",
          "text": [
            "Claim:\n",
            "\n",
            "The \"boyfriend loophole\" means that \"if you commit a serious crime of domestic abuse against your wife, you can't get a gun, but if you do it against your girlfriend, you can.\"\n",
            "\n",
            "Justification:\n",
            "\n",
            "No Justification provided\n",
            "\n",
            "Generated Sub-Questions:\n",
            "\n"
          ]
        },
        {
          "output_type": "stream",
          "name": "stderr",
          "text": [
            "\r 34%|███▍      | 69/200 [12:40<20:54,  9.58s/it]"
          ]
        },
        {
          "output_type": "stream",
          "name": "stdout",
          "text": [
            "Claim:\n",
            "\n",
            "“TEA is allowing online learning with attendance stipulations but will not fund school districts if they do not open their schools...If schools do not open and are not funded there will be no more teachers or school at all.”\n",
            "\n",
            "Justification:\n",
            "\n",
            "No Justification provided\n",
            "\n",
            "Generated Sub-Questions:\n",
            "\n"
          ]
        },
        {
          "output_type": "stream",
          "name": "stderr",
          "text": [
            "\r 35%|███▌      | 70/200 [12:49<20:37,  9.52s/it]"
          ]
        },
        {
          "output_type": "stream",
          "name": "stdout",
          "text": [
            "Claim:\n",
            "\n",
            "\"Of the 13 (Bill) Clinton speeches that fetched $500,000 or more, only two occurred during the years his wife was not secretary of state.\"\n",
            "\n",
            "Justification:\n",
            "\n",
            "No Justification provided\n",
            "\n",
            "Generated Sub-Questions:\n",
            "\n"
          ]
        },
        {
          "output_type": "stream",
          "name": "stderr",
          "text": [
            "\r 36%|███▌      | 71/200 [12:58<19:42,  9.17s/it]"
          ]
        },
        {
          "output_type": "stream",
          "name": "stdout",
          "text": [
            "Claim:\n",
            "\n",
            "\"This Russia thing with Trump and Russia is a made-up story. It's an excuse by the Democrats for having lost an election that they should've won.\"\n",
            "\n",
            "Justification:\n",
            "\n",
            "No Justification provided\n",
            "\n",
            "Generated Sub-Questions:\n",
            "\n"
          ]
        },
        {
          "output_type": "stream",
          "name": "stderr",
          "text": [
            "\r 36%|███▌      | 72/200 [13:05<18:39,  8.75s/it]"
          ]
        },
        {
          "output_type": "stream",
          "name": "stdout",
          "text": [
            "Claim:\n",
            "\n",
            "“The CDC has recommended mail in voting. That’s what this whole pandemic is about: the election!”\n",
            "\n",
            "Justification:\n",
            "\n",
            "No Justification provided\n",
            "\n",
            "Generated Sub-Questions:\n",
            "\n"
          ]
        },
        {
          "output_type": "stream",
          "name": "stderr",
          "text": [
            "\r 36%|███▋      | 73/200 [13:17<20:03,  9.48s/it]"
          ]
        },
        {
          "output_type": "stream",
          "name": "stdout",
          "text": [
            "Claim:\n",
            "\n",
            "A quorum-breaking Texas Democrat said in 2007 that mail-in ballot fraud “is the greatest source of voter fraud in this state.”\n",
            "\n",
            "Justification:\n",
            "\n",
            "No Justification provided\n",
            "\n",
            "Generated Sub-Questions:\n",
            "\n"
          ]
        },
        {
          "output_type": "stream",
          "name": "stderr",
          "text": [
            "\r 37%|███▋      | 74/200 [13:31<22:53, 10.90s/it]"
          ]
        },
        {
          "output_type": "stream",
          "name": "stdout",
          "text": [
            "Claim:\n",
            "\n",
            "Say that according to the Los Angeles Times, “95% of warrants for murder in Los Angeles are for illegal aliens,” more than two-thirds of all births in Los Angeles County “are to illegal alien Mexicans” on Medicaid, “nearly 60% of all occupants of HUD properties are illegal,” and Nancy Pelosi “wants to put a windfall tax” on retirement fund profits.\n",
            "\n",
            "Justification:\n",
            "\n",
            "No Justification provided\n",
            "\n",
            "Generated Sub-Questions:\n",
            "\n"
          ]
        },
        {
          "output_type": "stream",
          "name": "stderr",
          "text": [
            "\r 38%|███▊      | 75/200 [13:44<24:17, 11.66s/it]"
          ]
        },
        {
          "output_type": "stream",
          "name": "stdout",
          "text": [
            "Claim:\n",
            "\n",
            "\"You are more likely, as a child, to end up in the hospital because of the vaccine than you are because of COVID. That's data from the CDC and from VAERS.\"\n",
            "\n",
            "Justification:\n",
            "\n",
            "No Justification provided\n",
            "\n",
            "Generated Sub-Questions:\n",
            "\n"
          ]
        },
        {
          "output_type": "stream",
          "name": "stderr",
          "text": [
            "\r 38%|███▊      | 76/200 [13:54<22:53, 11.08s/it]"
          ]
        },
        {
          "output_type": "stream",
          "name": "stdout",
          "text": [
            "Claim:\n",
            "\n",
            "He’s only there for one purpose and one purpose only, and that is to run a shadow government that is gonna totally upset the new agenda.\n",
            "\n",
            "Justification:\n",
            "\n",
            "No Justification provided\n",
            "\n",
            "Generated Sub-Questions:\n",
            "\n"
          ]
        },
        {
          "output_type": "stream",
          "name": "stderr",
          "text": [
            "\r 38%|███▊      | 77/200 [14:04<22:13, 10.84s/it]"
          ]
        },
        {
          "output_type": "stream",
          "name": "stdout",
          "text": [
            "Claim:\n",
            "\n",
            "The government pays out \"$2,125/month in refugee benefits to refugees resettled in the United States,\" while Social Security recipients “who have paid into the system their whole lives receive $1,400/month on average.\"\n",
            "\n",
            "Justification:\n",
            "\n",
            "No Justification provided\n",
            "\n",
            "Generated Sub-Questions:\n",
            "\n"
          ]
        },
        {
          "output_type": "stream",
          "name": "stderr",
          "text": [
            "\r 39%|███▉      | 78/200 [14:15<22:15, 10.95s/it]"
          ]
        },
        {
          "output_type": "stream",
          "name": "stdout",
          "text": [
            "Claim:\n",
            "\n",
            "Says a company that got tax breaks from the state later \"laid off 100 Ohioans, even as its CEO cut a half-million-dollar check to Kasich’s super PAC.\"\n",
            "\n",
            "Justification:\n",
            "\n",
            "No Justification provided\n",
            "\n",
            "Generated Sub-Questions:\n",
            "\n"
          ]
        },
        {
          "output_type": "stream",
          "name": "stderr",
          "text": [
            "\r 40%|███▉      | 79/200 [14:29<23:28, 11.64s/it]"
          ]
        },
        {
          "output_type": "stream",
          "name": "stdout",
          "text": [
            "Claim:\n",
            "\n",
            "\"Puerto Rico’s electric grid and their electric generating plant was dead before the storms ever hit. It was in very bad shape. It was in bankruptcy. It had no money. It was largely -- you know, it was largely closed.\"\n",
            "\n",
            "Justification:\n",
            "\n",
            "No Justification provided\n",
            "\n",
            "Generated Sub-Questions:\n",
            "\n"
          ]
        },
        {
          "output_type": "stream",
          "name": "stderr",
          "text": [
            "\r 40%|████      | 80/200 [14:37<21:11, 10.60s/it]"
          ]
        },
        {
          "output_type": "stream",
          "name": "stdout",
          "text": [
            "Claim:\n",
            "\n",
            "Says Donald Trump \"said a woman should be punished for exercising her right to choose.\"\n",
            "\n",
            "Justification:\n",
            "\n",
            "No Justification provided\n",
            "\n",
            "Generated Sub-Questions:\n",
            "\n"
          ]
        },
        {
          "output_type": "stream",
          "name": "stderr",
          "text": [
            "\r 40%|████      | 81/200 [14:47<20:54, 10.54s/it]"
          ]
        },
        {
          "output_type": "stream",
          "name": "stdout",
          "text": [
            "Claim:\n",
            "\n",
            "“Unemployment now pays $24/hour, even if your wages were lower. Why don’t ‘essential’ people forced to still work get $24, too?”\n",
            "\n",
            "Justification:\n",
            "\n",
            "No Justification provided\n",
            "\n",
            "Generated Sub-Questions:\n",
            "\n"
          ]
        },
        {
          "output_type": "stream",
          "name": "stderr",
          "text": [
            "\r 41%|████      | 82/200 [14:57<20:21, 10.35s/it]"
          ]
        },
        {
          "output_type": "stream",
          "name": "stdout",
          "text": [
            "Claim:\n",
            "\n",
            "The voting bill known as H.R. 1 would mean “that millions of illegal immigrants are quickly registered to vote.\"\n",
            "\n",
            "Justification:\n",
            "\n",
            "No Justification provided\n",
            "\n",
            "Generated Sub-Questions:\n",
            "\n"
          ]
        },
        {
          "output_type": "stream",
          "name": "stderr",
          "text": [
            "\r 42%|████▏     | 83/200 [15:07<20:06, 10.31s/it]"
          ]
        },
        {
          "output_type": "stream",
          "name": "stdout",
          "text": [
            "Claim:\n",
            "\n",
            "\"The 2012 National Survey on Drug Use and Health found that up to half of daily marijuana smokers become addicted -- an estimated 2.7 million people in the U.S.\"\n",
            "\n",
            "Justification:\n",
            "\n",
            "No Justification provided\n",
            "\n",
            "Generated Sub-Questions:\n",
            "\n"
          ]
        },
        {
          "output_type": "stream",
          "name": "stderr",
          "text": [
            "\r 42%|████▏     | 84/200 [15:19<20:30, 10.61s/it]"
          ]
        },
        {
          "output_type": "stream",
          "name": "stdout",
          "text": [
            "Claim:\n",
            "\n",
            "Says \"Iraq has been overrun by ISIS because Hillary Clinton failed to renegotiate . . . a status of forces agreement.\"\n",
            "\n",
            "Justification:\n",
            "\n",
            "No Justification provided\n",
            "\n",
            "Generated Sub-Questions:\n",
            "\n"
          ]
        },
        {
          "output_type": "stream",
          "name": "stderr",
          "text": [
            "\r 42%|████▎     | 85/200 [15:30<20:54, 10.91s/it]"
          ]
        },
        {
          "output_type": "stream",
          "name": "stdout",
          "text": [
            "Claim:\n",
            "\n",
            "\"It is simply a fact that insufficient funding for Amtrak has delayed the installation\" of a positive train control safety system. \"To deny a connection between the (derailment in Philadelphia) and underfunding Amtrak is to deny reality.\"\n",
            "\n",
            "Justification:\n",
            "\n",
            "No Justification provided\n",
            "\n",
            "Generated Sub-Questions:\n",
            "\n"
          ]
        },
        {
          "output_type": "stream",
          "name": "stderr",
          "text": [
            "\r 43%|████▎     | 86/200 [15:38<18:46,  9.88s/it]"
          ]
        },
        {
          "output_type": "stream",
          "name": "stdout",
          "text": [
            "Claim:\n",
            "\n",
            "\"Bruce Rauner is of record that he will fully support the Trump candidacy. It's documented. It’s available.\"\n",
            "\n",
            "Justification:\n",
            "\n",
            "No Justification provided\n",
            "\n",
            "Generated Sub-Questions:\n",
            "\n"
          ]
        },
        {
          "output_type": "stream",
          "name": "stderr",
          "text": [
            "\r 44%|████▎     | 87/200 [15:47<18:22,  9.75s/it]"
          ]
        },
        {
          "output_type": "stream",
          "name": "stdout",
          "text": [
            "Claim:\n",
            "\n",
            "Says Patrick Murphy is one of \"only three Democrats in the House today who voted\" to create the Benghazi committee.\n",
            "\n",
            "Justification:\n",
            "\n",
            "No Justification provided\n",
            "\n",
            "Generated Sub-Questions:\n",
            "\n"
          ]
        },
        {
          "output_type": "stream",
          "name": "stderr",
          "text": [
            "\r 44%|████▍     | 88/200 [15:59<19:36, 10.50s/it]"
          ]
        },
        {
          "output_type": "stream",
          "name": "stdout",
          "text": [
            "Claim:\n",
            "\n",
            "\"Under Scott Walker, the Department of Corrections has only 18 people tracking 25,000 sex offenders\" and \"there are nearly 3,000 sex offenders that are unaccounted for.\"\n",
            "\n",
            "Justification:\n",
            "\n",
            "No Justification provided\n",
            "\n",
            "Generated Sub-Questions:\n",
            "\n"
          ]
        },
        {
          "output_type": "stream",
          "name": "stderr",
          "text": [
            "\r 44%|████▍     | 89/200 [16:08<18:14,  9.86s/it]"
          ]
        },
        {
          "output_type": "stream",
          "name": "stdout",
          "text": [
            "Claim:\n",
            "\n",
            "\"When they passed Obamacare, they put a bailout fund in Obamacare. … We led the effort and wiped out that bailout fund.\"\n",
            "\n",
            "Justification:\n",
            "\n",
            "No Justification provided\n",
            "\n",
            "Generated Sub-Questions:\n",
            "\n"
          ]
        },
        {
          "output_type": "stream",
          "name": "stderr",
          "text": [
            "\r 45%|████▌     | 90/200 [16:16<17:11,  9.38s/it]"
          ]
        },
        {
          "output_type": "stream",
          "name": "stdout",
          "text": [
            "Claim:\n",
            "\n",
            "\"The sanctions that we put on (Russia) for the Crimea annexation and meddling in Ukraine ... have absolutely crushed the ruble by 50 percent. And GDP from 2014 to 2016 is 50 percent down in Russia, as well.\"\n",
            "\n",
            "Justification:\n",
            "\n",
            "No Justification provided\n",
            "\n",
            "Generated Sub-Questions:\n",
            "\n"
          ]
        },
        {
          "output_type": "stream",
          "name": "stderr",
          "text": [
            "\r 46%|████▌     | 91/200 [16:25<16:51,  9.28s/it]"
          ]
        },
        {
          "output_type": "stream",
          "name": "stdout",
          "text": [
            "Claim:\n",
            "\n",
            "\"Fox changed around their poll eligibility criteria on the day they announced who is in and out of their debate.\"\n",
            "\n",
            "Justification:\n",
            "\n",
            "No Justification provided\n",
            "\n",
            "Generated Sub-Questions:\n",
            "\n"
          ]
        },
        {
          "output_type": "stream",
          "name": "stderr",
          "text": [
            "\r 46%|████▌     | 92/200 [16:36<17:31,  9.74s/it]"
          ]
        },
        {
          "output_type": "stream",
          "name": "stdout",
          "text": [
            "Claim:\n",
            "\n",
            "“The retail market we participate in is extraordinarily large and competitive. Amazon accounts for less than 1% of the $25 trillion global retail market, and less than 4% of U.S. retail.”\n",
            "\n",
            "Justification:\n",
            "\n",
            "No Justification provided\n",
            "\n",
            "Generated Sub-Questions:\n",
            "\n"
          ]
        },
        {
          "output_type": "stream",
          "name": "stderr",
          "text": [
            "\r 46%|████▋     | 93/200 [16:44<16:44,  9.39s/it]"
          ]
        },
        {
          "output_type": "stream",
          "name": "stdout",
          "text": [
            "Claim:\n",
            "\n",
            "The Biden White House has \"no one there. They don't travel. They don't go down to the border. They don't go overseas.\"\n",
            "\n",
            "Justification:\n",
            "\n",
            "No Justification provided\n",
            "\n",
            "Generated Sub-Questions:\n",
            "\n"
          ]
        },
        {
          "output_type": "stream",
          "name": "stderr",
          "text": [
            "\r 47%|████▋     | 94/200 [17:00<20:04, 11.36s/it]"
          ]
        },
        {
          "output_type": "stream",
          "name": "stdout",
          "text": [
            "Claim:\n",
            "\n",
            "Says Paul Manafort’s sentencing judge, Amy Berman Jackson, \"conceded that there was absolutely no evidence of any Russian collusion in this case. So that makes two courts. Two courts have ruled no evidence of any collusion with any Russians.\"\n",
            "\n",
            "Justification:\n",
            "\n",
            "No Justification provided\n",
            "\n",
            "Generated Sub-Questions:\n",
            "\n"
          ]
        },
        {
          "output_type": "stream",
          "name": "stderr",
          "text": [
            "\r 48%|████▊     | 95/200 [17:11<19:30, 11.14s/it]"
          ]
        },
        {
          "output_type": "stream",
          "name": "stdout",
          "text": [
            "Claim:\n",
            "\n",
            "The “Back the Blue” Act that Gov. Kim Reynolds signs means you can't wear the American flag. \"So throw out those towels and swimsuits ... or you’re a criminal!\"\n",
            "\n",
            "Justification:\n",
            "\n",
            "No Justification provided\n",
            "\n",
            "Generated Sub-Questions:\n",
            "\n"
          ]
        },
        {
          "output_type": "stream",
          "name": "stderr",
          "text": [
            "\r 48%|████▊     | 96/200 [17:23<19:32, 11.27s/it]"
          ]
        },
        {
          "output_type": "stream",
          "name": "stdout",
          "text": [
            "Claim:\n",
            "\n",
            "Says children at Homestead migrant facility \"get 30 minutes over a month to talk to family members. If they were in a prison — a federal prison — they would get 300 minutes.\"\n",
            "\n",
            "Justification:\n",
            "\n",
            "No Justification provided\n",
            "\n",
            "Generated Sub-Questions:\n",
            "\n"
          ]
        },
        {
          "output_type": "stream",
          "name": "stderr",
          "text": [
            "\r 48%|████▊     | 97/200 [17:36<20:37, 12.01s/it]"
          ]
        },
        {
          "output_type": "stream",
          "name": "stdout",
          "text": [
            "Claim:\n",
            "\n",
            "\"Ida B. Wells refused to give up her seat 71 years before Rosa Parks did. At age 33, she owned the first African American newspaper in Chicago, the Chicago Conservator. Why do you never hear about her? Because she was a Republican.\"\n",
            "\n",
            "Justification:\n",
            "\n",
            "No Justification provided\n",
            "\n",
            "Generated Sub-Questions:\n",
            "\n"
          ]
        },
        {
          "output_type": "stream",
          "name": "stderr",
          "text": [
            "\r 49%|████▉     | 98/200 [17:45<18:33, 10.92s/it]"
          ]
        },
        {
          "output_type": "stream",
          "name": "stdout",
          "text": [
            "Claim:\n",
            "\n",
            "“Facts have now come out to show conclusively” that the 2020 presidential election wasn’t legitimate.\n",
            "\n",
            "Justification:\n",
            "\n",
            "No Justification provided\n",
            "\n",
            "Generated Sub-Questions:\n",
            "\n"
          ]
        },
        {
          "output_type": "stream",
          "name": "stderr",
          "text": [
            "\r 50%|████▉     | 99/200 [17:56<18:37, 11.06s/it]"
          ]
        },
        {
          "output_type": "stream",
          "name": "stdout",
          "text": [
            "Claim:\n",
            "\n",
            "\"Look at the men on this stage. Collectively, they have lost 10 elections. The only people on this stage who have won every single election that they’ve been in are the women, Amy and me.\"\n",
            "\n",
            "Justification:\n",
            "\n",
            "No Justification provided\n",
            "\n",
            "Generated Sub-Questions:\n",
            "\n"
          ]
        },
        {
          "output_type": "stream",
          "name": "stderr",
          "text": [
            "\r 50%|█████     | 100/200 [18:07<18:33, 11.13s/it]"
          ]
        },
        {
          "output_type": "stream",
          "name": "stdout",
          "text": [
            "Claim:\n",
            "\n",
            "Says Secretary of State John Kerry, \"when he was a senator, flew to Managua and met with a communist dictator there, Daniel Ortega, and accused the Reagan administration of engaging in terrorism.\"\n",
            "\n",
            "Justification:\n",
            "\n",
            "No Justification provided\n",
            "\n",
            "Generated Sub-Questions:\n",
            "\n"
          ]
        },
        {
          "output_type": "stream",
          "name": "stderr",
          "text": [
            "\r 50%|█████     | 101/200 [18:17<17:24, 10.55s/it]"
          ]
        },
        {
          "output_type": "stream",
          "name": "stdout",
          "text": [
            "Claim:\n",
            "\n",
            "\"Research even shows that sending more girls to school can boost an entire country’s GDP.\"\n",
            "\n",
            "Justification:\n",
            "\n",
            "No Justification provided\n",
            "\n",
            "Generated Sub-Questions:\n",
            "\n"
          ]
        },
        {
          "output_type": "stream",
          "name": "stderr",
          "text": [
            "\r 51%|█████     | 102/200 [18:25<16:01,  9.81s/it]"
          ]
        },
        {
          "output_type": "stream",
          "name": "stdout",
          "text": [
            "Claim:\n",
            "\n",
            "\"One year ago, (Republicans) would not fill seats vacated for people who went to the administration because of the cost of those elections. Now, they’re talking about changing the rules to add additional elections that will cost millions of dollars of taxpayer expense.\"\n",
            "\n",
            "Justification:\n",
            "\n",
            "No Justification provided\n",
            "\n",
            "Generated Sub-Questions:\n",
            "\n"
          ]
        },
        {
          "output_type": "stream",
          "name": "stderr",
          "text": [
            "\r 52%|█████▏    | 103/200 [18:34<15:43,  9.73s/it]"
          ]
        },
        {
          "output_type": "stream",
          "name": "stdout",
          "text": [
            "Claim:\n",
            "\n",
            "Says the Koch Brothers sponsored \"a study that shows that Medicare for All would save the American people $2 trillion over a 10-year period.\"\n",
            "\n",
            "Justification:\n",
            "\n",
            "No Justification provided\n",
            "\n",
            "Generated Sub-Questions:\n",
            "\n"
          ]
        },
        {
          "output_type": "stream",
          "name": "stderr",
          "text": [
            "\r 52%|█████▏    | 104/200 [18:48<17:25, 10.89s/it]"
          ]
        },
        {
          "output_type": "stream",
          "name": "stdout",
          "text": [
            "Claim:\n",
            "\n",
            "An audit shows \"there are 6.5 million people who have active Social Security numbers who are 112 years of age or older,\"\n",
            "\n",
            "Justification:\n",
            "\n",
            "No Justification provided\n",
            "\n",
            "Generated Sub-Questions:\n",
            "\n"
          ]
        },
        {
          "output_type": "stream",
          "name": "stderr",
          "text": [
            "\r 52%|█████▎    | 105/200 [19:00<17:56, 11.34s/it]"
          ]
        },
        {
          "output_type": "stream",
          "name": "stdout",
          "text": [
            "Claim:\n",
            "\n",
            "Says Florida \"workers are paid $8.10 an hour, and our current governor (Rick Scott) runs ads bragging about it.\"\n",
            "\n",
            "Justification:\n",
            "\n",
            "No Justification provided\n",
            "\n",
            "Generated Sub-Questions:\n",
            "\n"
          ]
        },
        {
          "output_type": "stream",
          "name": "stderr",
          "text": [
            "\r 53%|█████▎    | 106/200 [19:12<18:06, 11.56s/it]"
          ]
        },
        {
          "output_type": "stream",
          "name": "stdout",
          "text": [
            "Claim:\n",
            "\n",
            "Says Biden said, \"The day after I’m elected I will let you know what I stand for, bc if I tell you now it will be all over the news.\"\n",
            "\n",
            "Justification:\n",
            "\n",
            "No Justification provided\n",
            "\n",
            "Generated Sub-Questions:\n",
            "\n"
          ]
        },
        {
          "output_type": "stream",
          "name": "stderr",
          "text": [
            "\r 54%|█████▎    | 107/200 [19:22<17:04, 11.02s/it]"
          ]
        },
        {
          "output_type": "stream",
          "name": "stdout",
          "text": [
            "Claim:\n",
            "\n",
            "Says Joni Ernst \"claims she ‘pushed for’ new funding for hospitals and COVID-19 testing after opposing It for weeks.”\n",
            "\n",
            "Justification:\n",
            "\n",
            "No Justification provided\n",
            "\n",
            "Generated Sub-Questions:\n",
            "\n"
          ]
        },
        {
          "output_type": "stream",
          "name": "stderr",
          "text": [
            "\r 54%|█████▍    | 108/200 [19:33<16:41, 10.88s/it]"
          ]
        },
        {
          "output_type": "stream",
          "name": "stdout",
          "text": [
            "Claim:\n",
            "\n",
            "“If you were forced to use a Sharpie” to fill out your ballot, “that is voter fraud.”\n",
            "\n",
            "Justification:\n",
            "\n",
            "No Justification provided\n",
            "\n",
            "Generated Sub-Questions:\n",
            "\n"
          ]
        },
        {
          "output_type": "stream",
          "name": "stderr",
          "text": [
            "\r 55%|█████▍    | 109/200 [19:42<15:37, 10.30s/it]"
          ]
        },
        {
          "output_type": "stream",
          "name": "stdout",
          "text": [
            "Claim:\n",
            "\n",
            "North Carolina is one of \"very few states\" that give the governor sole discretion to pick judges.\n",
            "\n",
            "Justification:\n",
            "\n",
            "No Justification provided\n",
            "\n",
            "Generated Sub-Questions:\n",
            "\n"
          ]
        },
        {
          "output_type": "stream",
          "name": "stderr",
          "text": [
            "\r 55%|█████▌    | 110/200 [19:49<14:04,  9.38s/it]"
          ]
        },
        {
          "output_type": "stream",
          "name": "stdout",
          "text": [
            "Claim:\n",
            "\n",
            "Says voter roll purge would mean \"more than 200,000 registered Wisconsin voters will be prohibited from voting.\"\n",
            "\n",
            "Justification:\n",
            "\n",
            "No Justification provided\n",
            "\n",
            "Generated Sub-Questions:\n",
            "\n"
          ]
        },
        {
          "output_type": "stream",
          "name": "stderr",
          "text": [
            "\r 56%|█████▌    | 111/200 [19:57<13:26,  9.06s/it]"
          ]
        },
        {
          "output_type": "stream",
          "name": "stdout",
          "text": [
            "Claim:\n",
            "\n",
            "Says Donald Trump has said he loves war, \"including with nukes.\"\n",
            "\n",
            "Justification:\n",
            "\n",
            "No Justification provided\n",
            "\n",
            "Generated Sub-Questions:\n",
            "\n"
          ]
        },
        {
          "output_type": "stream",
          "name": "stderr",
          "text": [
            "\r 56%|█████▌    | 112/200 [20:11<15:33, 10.61s/it]"
          ]
        },
        {
          "output_type": "stream",
          "name": "stdout",
          "text": [
            "Claim:\n",
            "\n",
            "\"A gay man who survived #orlando hate crime can STILL show up to work in FL tomorrow and have his boss fire him simply because he is gay.\"\n",
            "\n",
            "Justification:\n",
            "\n",
            "No Justification provided\n",
            "\n",
            "Generated Sub-Questions:\n",
            "\n"
          ]
        },
        {
          "output_type": "stream",
          "name": "stderr",
          "text": [
            "\r 56%|█████▋    | 113/200 [20:21<15:07, 10.43s/it]"
          ]
        },
        {
          "output_type": "stream",
          "name": "stdout",
          "text": [
            "Claim:\n",
            "\n",
            "“I don’t believe the science suggests that young people should be vaccinated. I don’t believe that young people should have to wear masks at school. I’m not sure the science is settled on that at all.”\n",
            "\n",
            "Justification:\n",
            "\n",
            "No Justification provided\n",
            "\n",
            "Generated Sub-Questions:\n",
            "\n"
          ]
        },
        {
          "output_type": "stream",
          "name": "stderr",
          "text": [
            "\r 57%|█████▋    | 114/200 [20:32<15:12, 10.61s/it]"
          ]
        },
        {
          "output_type": "stream",
          "name": "stdout",
          "text": [
            "Claim:\n",
            "\n",
            "Emails show that Fauci knew \"hydroxychloroquine worked [and] emailed friends about it being effective.\"\n",
            "\n",
            "Justification:\n",
            "\n",
            "No Justification provided\n",
            "\n",
            "Generated Sub-Questions:\n",
            "\n"
          ]
        },
        {
          "output_type": "stream",
          "name": "stderr",
          "text": [
            "\r 57%|█████▊    | 115/200 [20:45<15:45, 11.12s/it]"
          ]
        },
        {
          "output_type": "stream",
          "name": "stdout",
          "text": [
            "Claim:\n",
            "\n",
            "“CDC announces that ordinary (non-N95) masks (which most people are wearing) will do nothing to protect you against wildfire smoke … Fun fact: smoke particles are far larger than SARS-CoV-2 particles.”\n",
            "\n",
            "Justification:\n",
            "\n",
            "No Justification provided\n",
            "\n",
            "Generated Sub-Questions:\n",
            "\n"
          ]
        },
        {
          "output_type": "stream",
          "name": "stderr",
          "text": [
            "\r 58%|█████▊    | 116/200 [20:56<15:43, 11.23s/it]"
          ]
        },
        {
          "output_type": "stream",
          "name": "stdout",
          "text": [
            "Claim:\n",
            "\n",
            "They understand the importance (of medical monitoring). It’s clear, though, that they want to do it in a way that is consistent with other states and S.37 just isn’t.\n",
            "\n",
            "Justification:\n",
            "\n",
            "No Justification provided\n",
            "\n",
            "Generated Sub-Questions:\n",
            "\n"
          ]
        },
        {
          "output_type": "stream",
          "name": "stderr",
          "text": [
            "\r 58%|█████▊    | 117/200 [21:07<15:34, 11.25s/it]"
          ]
        },
        {
          "output_type": "stream",
          "name": "stdout",
          "text": [
            "Claim:\n",
            "\n",
            "“If you look at the one (hydroxychloroquine) survey, the only bad survey, they were giving it to people that were in very bad shape. They were very old. Almost dead.”\n",
            "\n",
            "Justification:\n",
            "\n",
            "No Justification provided\n",
            "\n",
            "Generated Sub-Questions:\n",
            "\n"
          ]
        },
        {
          "output_type": "stream",
          "name": "stderr",
          "text": [
            "\r 59%|█████▉    | 118/200 [21:18<15:05, 11.04s/it]"
          ]
        },
        {
          "output_type": "stream",
          "name": "stdout",
          "text": [
            "Claim:\n",
            "\n",
            "Says a leader of the Blackfeet Nation tribe designed the current Washington Redskins logo and once said it “made us all proud to have an Indian on a big-time team.\"\n",
            "\n",
            "Justification:\n",
            "\n",
            "No Justification provided\n",
            "\n",
            "Generated Sub-Questions:\n",
            "\n"
          ]
        },
        {
          "output_type": "stream",
          "name": "stderr",
          "text": [
            "\r 60%|█████▉    | 119/200 [21:30<15:17, 11.33s/it]"
          ]
        },
        {
          "output_type": "stream",
          "name": "stdout",
          "text": [
            "Claim:\n",
            "\n",
            "\"It happened under Obama, and it was lauded by the media as being genius. And now under the Trump campaign — it’s the Cambridge Analytica scandal.\"\n",
            "\n",
            "Justification:\n",
            "\n",
            "No Justification provided\n",
            "\n",
            "Generated Sub-Questions:\n",
            "\n"
          ]
        },
        {
          "output_type": "stream",
          "name": "stderr",
          "text": [
            "\r 60%|██████    | 120/200 [21:43<15:48, 11.85s/it]"
          ]
        },
        {
          "output_type": "stream",
          "name": "stdout",
          "text": [
            "Claim:\n",
            "\n",
            "“15 days left to vote BUT if you are voting by mail, you need to vote TODAY. USPS says it needs a 14 day roundtrip to be counted on election day.”\n",
            "\n",
            "Justification:\n",
            "\n",
            "No Justification provided\n",
            "\n",
            "Generated Sub-Questions:\n",
            "\n"
          ]
        },
        {
          "output_type": "stream",
          "name": "stderr",
          "text": [
            "\r 60%|██████    | 121/200 [21:51<14:05, 10.70s/it]"
          ]
        },
        {
          "output_type": "stream",
          "name": "stdout",
          "text": [
            "Claim:\n",
            "\n",
            "Says at polling places in Texas on Super Tuesday “the Republican side gets 25 machines, the Democratic side gets 5 machines. People were literally standing in line for seven hours.”\n",
            "\n",
            "Justification:\n",
            "\n",
            "No Justification provided\n",
            "\n",
            "Generated Sub-Questions:\n",
            "\n"
          ]
        },
        {
          "output_type": "stream",
          "name": "stderr",
          "text": [
            "\r 61%|██████    | 122/200 [22:02<13:47, 10.61s/it]"
          ]
        },
        {
          "output_type": "stream",
          "name": "stdout",
          "text": [
            "Claim:\n",
            "\n",
            "Of \"30,000 individuals arrested a year for crimes that are 16 or 17, over 95 percent of them do not result in a criminal conviction. Only 1.5 percent of them ultimately go to state prison.\"\n",
            "\n",
            "Justification:\n",
            "\n",
            "No Justification provided\n",
            "\n",
            "Generated Sub-Questions:\n",
            "\n"
          ]
        },
        {
          "output_type": "stream",
          "name": "stderr",
          "text": [
            "\r 62%|██████▏   | 123/200 [22:13<13:54, 10.84s/it]"
          ]
        },
        {
          "output_type": "stream",
          "name": "stdout",
          "text": [
            "Claim:\n",
            "\n",
            "\"African-Americans are more likely to be arrested by police and sentenced to longer prison terms for doing the same thing that whites do.\"\n",
            "\n",
            "Justification:\n",
            "\n",
            "No Justification provided\n",
            "\n",
            "Generated Sub-Questions:\n",
            "\n"
          ]
        },
        {
          "output_type": "stream",
          "name": "stderr",
          "text": [
            "\r 62%|██████▏   | 124/200 [22:21<12:45, 10.08s/it]"
          ]
        },
        {
          "output_type": "stream",
          "name": "stdout",
          "text": [
            "Claim:\n",
            "\n",
            "Says Donald Trump “just promised that if he wins reelection, he’ll gut Social Security and Medicare.”\n",
            "\n",
            "Justification:\n",
            "\n",
            "No Justification provided\n",
            "\n",
            "Generated Sub-Questions:\n",
            "\n"
          ]
        },
        {
          "output_type": "stream",
          "name": "stderr",
          "text": [
            "\r 62%|██████▎   | 125/200 [22:29<11:44,  9.40s/it]"
          ]
        },
        {
          "output_type": "stream",
          "name": "stdout",
          "text": [
            "Claim:\n",
            "\n",
            "\"If the experiences in Colorado and Washington are the experiences we have here, roadway deaths are going to go up, impaired driving is likely to go up.\"\n",
            "\n",
            "Justification:\n",
            "\n",
            "No Justification provided\n",
            "\n",
            "Generated Sub-Questions:\n",
            "\n"
          ]
        },
        {
          "output_type": "stream",
          "name": "stderr",
          "text": [
            "\r 63%|██████▎   | 126/200 [22:41<12:29, 10.13s/it]"
          ]
        },
        {
          "output_type": "stream",
          "name": "stdout",
          "text": [
            "Claim:\n",
            "\n",
            "Says Secretary of State Rex Tillerson got a \"government service golden parachute\" payment of $180 million \"from Exxon Mobil that he would have to forfeit had he taken a job elsewhere.\"\n",
            "\n",
            "Justification:\n",
            "\n",
            "No Justification provided\n",
            "\n",
            "Generated Sub-Questions:\n",
            "\n"
          ]
        },
        {
          "output_type": "stream",
          "name": "stderr",
          "text": [
            "\r 64%|██████▎   | 127/200 [22:48<11:15,  9.25s/it]"
          ]
        },
        {
          "output_type": "stream",
          "name": "stdout",
          "text": [
            "Claim:\n",
            "\n",
            "Video says COVID-19 vaccines are “weapons of mass destruction” that “could wipe out the human race.”\n",
            "\n",
            "Justification:\n",
            "\n",
            "No Justification provided\n",
            "\n",
            "Generated Sub-Questions:\n",
            "\n"
          ]
        },
        {
          "output_type": "stream",
          "name": "stderr",
          "text": [
            "\r 64%|██████▍   | 128/200 [22:59<11:35,  9.66s/it]"
          ]
        },
        {
          "output_type": "stream",
          "name": "stdout",
          "text": [
            "Claim:\n",
            "\n",
            "\"Under (Obamacare), you can’t reward a person for better behavior. You can’t have incentives to be healthier.\"\n",
            "\n",
            "Justification:\n",
            "\n",
            "No Justification provided\n",
            "\n",
            "Generated Sub-Questions:\n",
            "\n"
          ]
        },
        {
          "output_type": "stream",
          "name": "stderr",
          "text": [
            "\r 64%|██████▍   | 129/200 [23:08<11:15,  9.52s/it]"
          ]
        },
        {
          "output_type": "stream",
          "name": "stdout",
          "text": [
            "Claim:\n",
            "\n",
            "\"Rhode Island will become just the second state to mandate the vaccine … and the only state to do so by regulatory fiat, without public debate, and without consideration from the elected representatives of the people.\"\n",
            "\n",
            "Justification:\n",
            "\n",
            "No Justification provided\n",
            "\n",
            "Generated Sub-Questions:\n",
            "\n"
          ]
        },
        {
          "output_type": "stream",
          "name": "stderr",
          "text": [
            "\r 65%|██████▌   | 130/200 [23:16<10:34,  9.06s/it]"
          ]
        },
        {
          "output_type": "stream",
          "name": "stdout",
          "text": [
            "Claim:\n",
            "\n",
            "\"The Iranians are now saying that what we're saying the deal is and what they understand it to be are two different things.\"\n",
            "\n",
            "Justification:\n",
            "\n",
            "No Justification provided\n",
            "\n",
            "Generated Sub-Questions:\n",
            "\n"
          ]
        },
        {
          "output_type": "stream",
          "name": "stderr",
          "text": [
            "\r 66%|██████▌   | 131/200 [23:26<10:53,  9.47s/it]"
          ]
        },
        {
          "output_type": "stream",
          "name": "stdout",
          "text": [
            "Claim:\n",
            "\n",
            "\"It cost us more to shut the government down than to keep it open.\"\n",
            "\n",
            "Justification:\n",
            "\n",
            "No Justification provided\n",
            "\n",
            "Generated Sub-Questions:\n",
            "\n"
          ]
        },
        {
          "output_type": "stream",
          "name": "stderr",
          "text": [
            "\r 66%|██████▌   | 132/200 [23:39<11:57, 10.54s/it]"
          ]
        },
        {
          "output_type": "stream",
          "name": "stdout",
          "text": [
            "Claim:\n",
            "\n",
            "\"It's estimated we leave somewhere north of $350 billion a year - that's billion - a year on the table uncollected because IRS doesn't have the resources.\"\n",
            "\n",
            "Justification:\n",
            "\n",
            "No Justification provided\n",
            "\n",
            "Generated Sub-Questions:\n",
            "\n"
          ]
        },
        {
          "output_type": "stream",
          "name": "stderr",
          "text": [
            "\r 66%|██████▋   | 133/200 [23:54<13:08, 11.76s/it]"
          ]
        },
        {
          "output_type": "stream",
          "name": "stdout",
          "text": [
            "Claim:\n",
            "\n",
            "When Joe Biden’s son Hunter was serving as \"a director to Ukraine’s largest private gas producer,\" the elder Biden \"threatened to withhold $1 BILLION in U.S. aid to Ukraine if they didn’t fire a prosecutor looking into\" the gas company.\n",
            "\n",
            "Justification:\n",
            "\n",
            "No Justification provided\n",
            "\n",
            "Generated Sub-Questions:\n",
            "\n"
          ]
        },
        {
          "output_type": "stream",
          "name": "stderr",
          "text": [
            "\r 67%|██████▋   | 134/200 [24:05<12:40, 11.52s/it]"
          ]
        },
        {
          "output_type": "stream",
          "name": "stdout",
          "text": [
            "Claim:\n",
            "\n",
            "\"Here are the facts: there is no massive wave of migrants pouring into California. Overall immigrant apprehensions on the border last year were as low as they’ve been in nearly 50 years (and 85 percent of the apprehensions occurred outside of California).\"\n",
            "\n",
            "Justification:\n",
            "\n",
            "No Justification provided\n",
            "\n",
            "Generated Sub-Questions:\n",
            "\n"
          ]
        },
        {
          "output_type": "stream",
          "name": "stderr",
          "text": [
            "\r 68%|██████▊   | 135/200 [24:13<11:14, 10.37s/it]"
          ]
        },
        {
          "output_type": "stream",
          "name": "stdout",
          "text": [
            "Claim:\n",
            "\n",
            "\"We have 17 intelligence agencies, civilian and military, who have all concluded that these espionage attacks, these cyberattacks, come from the highest levels of the Kremlin, and they are designed to influence our election.\"\n",
            "\n",
            "Justification:\n",
            "\n",
            "No Justification provided\n",
            "\n",
            "Generated Sub-Questions:\n",
            "\n"
          ]
        },
        {
          "output_type": "stream",
          "name": "stderr",
          "text": [
            "\r 68%|██████▊   | 136/200 [24:22<10:38,  9.97s/it]"
          ]
        },
        {
          "output_type": "stream",
          "name": "stdout",
          "text": [
            "Claim:\n",
            "\n",
            "Says Facebook is now a \"public entity\" that will be able to \"use your photos\" and \"information\" unless you post a statement declining your permission.\n",
            "\n",
            "Justification:\n",
            "\n",
            "No Justification provided\n",
            "\n",
            "Generated Sub-Questions:\n",
            "\n"
          ]
        },
        {
          "output_type": "stream",
          "name": "stderr",
          "text": [
            "\r 68%|██████▊   | 137/200 [24:29<09:40,  9.22s/it]"
          ]
        },
        {
          "output_type": "stream",
          "name": "stdout",
          "text": [
            "Claim:\n",
            "\n",
            "\"Studies even show that when women go to Congress they get more things done - more bipartisan effort, more bills passed.\"\n",
            "\n",
            "Justification:\n",
            "\n",
            "No Justification provided\n",
            "\n",
            "Generated Sub-Questions:\n",
            "\n"
          ]
        },
        {
          "output_type": "stream",
          "name": "stderr",
          "text": [
            "\r 69%|██████▉   | 138/200 [24:39<09:40,  9.36s/it]"
          ]
        },
        {
          "output_type": "stream",
          "name": "stdout",
          "text": [
            "Claim:\n",
            "\n",
            "“WHO admits their testing grossly overstates individuals testing positive for COVID.”\n",
            "\n",
            "Justification:\n",
            "\n",
            "No Justification provided\n",
            "\n",
            "Generated Sub-Questions:\n",
            "\n"
          ]
        },
        {
          "output_type": "stream",
          "name": "stderr",
          "text": [
            "\r 70%|██████▉   | 139/200 [24:51<10:27, 10.29s/it]"
          ]
        },
        {
          "output_type": "stream",
          "name": "stdout",
          "text": [
            "Claim:\n",
            "\n",
            "Says it’s not possible for some Wisconsin residents to watch Packers games, \"they’re forced to watch Viking games,\" so he \"got a law passed to fix\" the problem.\n",
            "\n",
            "Justification:\n",
            "\n",
            "No Justification provided\n",
            "\n",
            "Generated Sub-Questions:\n",
            "\n"
          ]
        },
        {
          "output_type": "stream",
          "name": "stderr",
          "text": [
            "\r 70%|███████   | 140/200 [24:59<09:31,  9.52s/it]"
          ]
        },
        {
          "output_type": "stream",
          "name": "stdout",
          "text": [
            "Claim:\n",
            "\n",
            "\"If Trump tries to lie in a TV ad, most networks will refuse to air it. But Facebook just cashes Trump’s checks.\"\n",
            "\n",
            "Justification:\n",
            "\n",
            "No Justification provided\n",
            "\n",
            "Generated Sub-Questions:\n",
            "\n"
          ]
        },
        {
          "output_type": "stream",
          "name": "stderr",
          "text": [
            "\r 70%|███████   | 141/200 [25:10<09:46,  9.93s/it]"
          ]
        },
        {
          "output_type": "stream",
          "name": "stdout",
          "text": [
            "Claim:\n",
            "\n",
            "Says Bernie Sanders would “go beyond reform and reorder the economy in ways most Democrats — let alone most Americans — don’t support.\"\n",
            "\n",
            "Justification:\n",
            "\n",
            "No Justification provided\n",
            "\n",
            "Generated Sub-Questions:\n",
            "\n"
          ]
        },
        {
          "output_type": "stream",
          "name": "stderr",
          "text": [
            "\r 71%|███████   | 142/200 [25:19<09:14,  9.56s/it]"
          ]
        },
        {
          "output_type": "stream",
          "name": "stdout",
          "text": [
            "Claim:\n",
            "\n",
            "\"We had a waiting list in Chittenden County when I came into office of about 700. ... We opened a new treatment hub in St. Albans, and it reduced that number to zero.\"\n",
            "\n",
            "Justification:\n",
            "\n",
            "No Justification provided\n",
            "\n",
            "Generated Sub-Questions:\n",
            "\n"
          ]
        },
        {
          "output_type": "stream",
          "name": "stderr",
          "text": [
            "\r 72%|███████▏  | 143/200 [25:30<09:38, 10.14s/it]"
          ]
        },
        {
          "output_type": "stream",
          "name": "stdout",
          "text": [
            "Claim:\n",
            "\n",
            "\"Half of everyone that’s here illegally (in the U.S.) came here legally on a visa and have overstayed their visa.\"\n",
            "\n",
            "Justification:\n",
            "\n",
            "No Justification provided\n",
            "\n",
            "Generated Sub-Questions:\n",
            "\n"
          ]
        },
        {
          "output_type": "stream",
          "name": "stderr",
          "text": [
            "\r 72%|███████▏  | 144/200 [25:40<09:18,  9.98s/it]"
          ]
        },
        {
          "output_type": "stream",
          "name": "stdout",
          "text": [
            "Claim:\n",
            "\n",
            "Says “Property crime rising in Austin. This is the kind of thing that happens when cities defund and deemphasize police. Residents are left to fend for themselves.”\n",
            "\n",
            "Justification:\n",
            "\n",
            "No Justification provided\n",
            "\n",
            "Generated Sub-Questions:\n",
            "\n"
          ]
        },
        {
          "output_type": "stream",
          "name": "stderr",
          "text": [
            "\r 72%|███████▎  | 145/200 [25:51<09:31, 10.39s/it]"
          ]
        },
        {
          "output_type": "stream",
          "name": "stdout",
          "text": [
            "Claim:\n",
            "\n",
            "Three white former police officers were sentenced to less prison time — combined — for killing three Black people than a Black man was for selling marijuana.\n",
            "\n",
            "Justification:\n",
            "\n",
            "No Justification provided\n",
            "\n",
            "Generated Sub-Questions:\n",
            "\n"
          ]
        },
        {
          "output_type": "stream",
          "name": "stderr",
          "text": [
            "\r 73%|███████▎  | 146/200 [26:01<09:19, 10.37s/it]"
          ]
        },
        {
          "output_type": "stream",
          "name": "stdout",
          "text": [
            "Claim:\n",
            "\n",
            "Video footage from Georgia shows suitcases filled with ballots pulled from under a table and illegally counted after election observers were told to leave.\n",
            "\n",
            "Justification:\n",
            "\n",
            "No Justification provided\n",
            "\n",
            "Generated Sub-Questions:\n",
            "\n"
          ]
        },
        {
          "output_type": "stream",
          "name": "stderr",
          "text": [
            "\r 74%|███████▎  | 147/200 [26:12<09:18, 10.53s/it]"
          ]
        },
        {
          "output_type": "stream",
          "name": "stdout",
          "text": [
            "Claim:\n",
            "\n",
            "Says Hillary Clinton \"said she was under attack (in Bosnia) but the attack turned out to be young girls handing her flowers.\"\n",
            "\n",
            "Justification:\n",
            "\n",
            "No Justification provided\n",
            "\n",
            "Generated Sub-Questions:\n",
            "\n"
          ]
        },
        {
          "output_type": "stream",
          "name": "stderr",
          "text": [
            "\r 74%|███████▍  | 148/200 [26:25<09:46, 11.27s/it]"
          ]
        },
        {
          "output_type": "stream",
          "name": "stdout",
          "text": [
            "Claim:\n",
            "\n",
            "\"The difference between what I support and what you support, Vice President Biden, is that you require them to opt in (to a Medicare public option), and I would not require them to opt in. … They would automatically be enrolled. That’s a big difference. … Are you forgetting what you said two minutes ago?\"\n",
            "\n",
            "Justification:\n",
            "\n",
            "No Justification provided\n",
            "\n",
            "Generated Sub-Questions:\n",
            "\n"
          ]
        },
        {
          "output_type": "stream",
          "name": "stderr",
          "text": [
            "\r 74%|███████▍  | 149/200 [26:34<08:49, 10.39s/it]"
          ]
        },
        {
          "output_type": "stream",
          "name": "stdout",
          "text": [
            "Claim:\n",
            "\n",
            "Says she voted to stop a new \"age tax\" under which \"Arizonans age 50 & over could be charged 5 times more for their health care.\"\n",
            "\n",
            "Justification:\n",
            "\n",
            "No Justification provided\n",
            "\n",
            "Generated Sub-Questions:\n",
            "\n"
          ]
        },
        {
          "output_type": "stream",
          "name": "stderr",
          "text": [
            "\r 75%|███████▌  | 150/200 [26:42<08:07,  9.74s/it]"
          ]
        },
        {
          "output_type": "stream",
          "name": "stdout",
          "text": [
            "Claim:\n",
            "\n",
            "\"What Trump is alleged to have done is actually no different than what Barack Obama did in April last year when he made it known that he didn’t want Hillary prosecuted.\"\n",
            "\n",
            "Justification:\n",
            "\n",
            "No Justification provided\n",
            "\n",
            "Generated Sub-Questions:\n",
            "\n"
          ]
        },
        {
          "output_type": "stream",
          "name": "stderr",
          "text": [
            "\r 76%|███████▌  | 151/200 [26:50<07:35,  9.29s/it]"
          ]
        },
        {
          "output_type": "stream",
          "name": "stdout",
          "text": [
            "Claim:\n",
            "\n",
            "\"In December of 2017, the Prince William board of supervisors had a meeting ... (Corey Stewart) skipped that meeting to go campaign in Alabama for Roy Moore to be a U.S. senator … You haven't disavowed Roy Moore's name yet.\"\n",
            "\n",
            "Justification:\n",
            "\n",
            "No Justification provided\n",
            "\n",
            "Generated Sub-Questions:\n",
            "\n"
          ]
        },
        {
          "output_type": "stream",
          "name": "stderr",
          "text": [
            "\r 76%|███████▌  | 152/200 [27:00<07:42,  9.64s/it]"
          ]
        },
        {
          "output_type": "stream",
          "name": "stdout",
          "text": [
            "Claim:\n",
            "\n",
            "Says Richard Burr \"was one of only three senators who voted against a ban on insider trading for members of Congress. And he called that vote brave.\"\n",
            "\n",
            "Justification:\n",
            "\n",
            "No Justification provided\n",
            "\n",
            "Generated Sub-Questions:\n",
            "\n"
          ]
        },
        {
          "output_type": "stream",
          "name": "stderr",
          "text": [
            "\r 76%|███████▋  | 153/200 [27:10<07:26,  9.50s/it]"
          ]
        },
        {
          "output_type": "stream",
          "name": "stdout",
          "text": [
            "Claim:\n",
            "\n",
            "Says \"thousands\" at a Manhattan rally for Donald Trump were chanting \"We hate Muslims, we hate blacks, we want our great country back.\"\n",
            "\n",
            "Justification:\n",
            "\n",
            "No Justification provided\n",
            "\n",
            "Generated Sub-Questions:\n",
            "\n"
          ]
        },
        {
          "output_type": "stream",
          "name": "stderr",
          "text": [
            "\r 77%|███████▋  | 154/200 [27:20<07:24,  9.66s/it]"
          ]
        },
        {
          "output_type": "stream",
          "name": "stdout",
          "text": [
            "Claim:\n",
            "\n",
            "Say Wisconsin Republican lawmakers have done nothing \"while neighboring states like Minnesota, Illinois and Michigan have already implemented safety precautions like requiring individuals to wear masks.\"\n",
            "\n",
            "Justification:\n",
            "\n",
            "No Justification provided\n",
            "\n",
            "Generated Sub-Questions:\n",
            "\n"
          ]
        },
        {
          "output_type": "stream",
          "name": "stderr",
          "text": [
            "\r 78%|███████▊  | 155/200 [27:31<07:33, 10.09s/it]"
          ]
        },
        {
          "output_type": "stream",
          "name": "stdout",
          "text": [
            "Claim:\n",
            "\n",
            "\"Right now we are at 90 percent health insurance covered. That's the highest we've ever been in our country.\"\n",
            "\n",
            "Justification:\n",
            "\n",
            "No Justification provided\n",
            "\n",
            "Generated Sub-Questions:\n",
            "\n"
          ]
        },
        {
          "output_type": "stream",
          "name": "stderr",
          "text": [
            "\r 78%|███████▊  | 156/200 [27:41<07:27, 10.17s/it]"
          ]
        },
        {
          "output_type": "stream",
          "name": "stdout",
          "text": [
            "Claim:\n",
            "\n",
            "\"The United States doesn’t have the highest murder rate among developed countries. You look at Russia, you look at Brazil, those are countries that have 3 to 5 times higher murder rates than what we have here in the United States.\"\n",
            "\n",
            "Justification:\n",
            "\n",
            "No Justification provided\n",
            "\n",
            "Generated Sub-Questions:\n",
            "\n"
          ]
        },
        {
          "output_type": "stream",
          "name": "stderr",
          "text": [
            "\r 78%|███████▊  | 157/200 [27:50<06:59,  9.76s/it]"
          ]
        },
        {
          "output_type": "stream",
          "name": "stdout",
          "text": [
            "Claim:\n",
            "\n",
            "In Australia \"they went and confiscated all the guns. You know who did what Australia did? Venezuela.\"\n",
            "\n",
            "Justification:\n",
            "\n",
            "No Justification provided\n",
            "\n",
            "Generated Sub-Questions:\n",
            "\n"
          ]
        },
        {
          "output_type": "stream",
          "name": "stderr",
          "text": [
            "\r 79%|███████▉  | 158/200 [27:59<06:42,  9.59s/it]"
          ]
        },
        {
          "output_type": "stream",
          "name": "stdout",
          "text": [
            "Claim:\n",
            "\n",
            "Before 2005, \"the percentage of\" Texas high school \"students meeting the college readiness standards of the Texas Higher Education Coordinating Board stood at 28% in English and 42% in math. Those figures stood at 65% and 66% in 2013.\"\n",
            "\n",
            "Justification:\n",
            "\n",
            "No Justification provided\n",
            "\n",
            "Generated Sub-Questions:\n",
            "\n"
          ]
        },
        {
          "output_type": "stream",
          "name": "stderr",
          "text": [
            "\r 80%|███████▉  | 159/200 [28:11<07:06, 10.40s/it]"
          ]
        },
        {
          "output_type": "stream",
          "name": "stdout",
          "text": [
            "Claim:\n",
            "\n",
            "\"The rainy day fund … is $320 million. That's much more than what it has been in the past.\"\n",
            "\n",
            "Justification:\n",
            "\n",
            "No Justification provided\n",
            "\n",
            "Generated Sub-Questions:\n",
            "\n"
          ]
        },
        {
          "output_type": "stream",
          "name": "stderr",
          "text": [
            "\r 80%|████████  | 160/200 [28:24<07:23, 11.10s/it]"
          ]
        },
        {
          "output_type": "stream",
          "name": "stdout",
          "text": [
            "Claim:\n",
            "\n",
            "Says there is a report \"that showed that, should we move to cover more people to a Medicare for All system, we could actually save the system trillions over an extended period of time.\"\n",
            "\n",
            "Justification:\n",
            "\n",
            "No Justification provided\n",
            "\n",
            "Generated Sub-Questions:\n",
            "\n"
          ]
        },
        {
          "output_type": "stream",
          "name": "stderr",
          "text": [
            "\r 80%|████████  | 161/200 [28:38<07:43, 11.88s/it]"
          ]
        },
        {
          "output_type": "stream",
          "name": "stdout",
          "text": [
            "Claim:\n",
            "\n",
            "Says Tony Evers \"didn't revoke the license of a teacher caught spreading pornography and commenting on the bodies of middle-school girls.\"\n",
            "\n",
            "Justification:\n",
            "\n",
            "No Justification provided\n",
            "\n",
            "Generated Sub-Questions:\n",
            "\n"
          ]
        },
        {
          "output_type": "stream",
          "name": "stderr",
          "text": [
            "\r 81%|████████  | 162/200 [28:48<07:16, 11.48s/it]"
          ]
        },
        {
          "output_type": "stream",
          "name": "stdout",
          "text": [
            "Claim:\n",
            "\n",
            "\"I’ve had tremendous Republican support. I have a 90% — 94% approval rating, as of this morning, in the Republican Party. That’s an all-time record.\"\n",
            "\n",
            "Justification:\n",
            "\n",
            "No Justification provided\n",
            "\n",
            "Generated Sub-Questions:\n",
            "\n"
          ]
        },
        {
          "output_type": "stream",
          "name": "stderr",
          "text": [
            "\r 82%|████████▏ | 163/200 [28:58<06:45, 10.96s/it]"
          ]
        },
        {
          "output_type": "stream",
          "name": "stdout",
          "text": [
            "Claim:\n",
            "\n",
            "Says Nate McMurray said that “gun owners are part of the most insecure and dangerous club on earth,” that “the NRA are homegrown terrorists,” and that “abortion opponents are the American Taliban.”\n",
            "\n",
            "Justification:\n",
            "\n",
            "No Justification provided\n",
            "\n",
            "Generated Sub-Questions:\n",
            "\n"
          ]
        },
        {
          "output_type": "stream",
          "name": "stderr",
          "text": [
            "\r 82%|████████▏ | 164/200 [29:10<06:45, 11.26s/it]"
          ]
        },
        {
          "output_type": "stream",
          "name": "stdout",
          "text": [
            "Claim:\n",
            "\n",
            "\"West Virginia added the highest percentage of new construction jobs in 2017 in the United States, at 14.4%. This amounted to 4,300 additional jobs! In fact, #WV was the only state with double-digit growth!\"\n",
            "\n",
            "Justification:\n",
            "\n",
            "No Justification provided\n",
            "\n",
            "Generated Sub-Questions:\n",
            "\n"
          ]
        },
        {
          "output_type": "stream",
          "name": "stderr",
          "text": [
            "\r 82%|████████▎ | 165/200 [29:25<07:12, 12.37s/it]"
          ]
        },
        {
          "output_type": "stream",
          "name": "stdout",
          "text": [
            "Claim:\n",
            "\n",
            "Says Ted Strickland \"in this campaign bragged about his A-plus rating with the NRA. ... He has said he has a mixed and spotty record on this issue and that he can be criticized for it. Those are his words, not mine. So I don’t know where he is on this issue.\"\n",
            "\n",
            "Justification:\n",
            "\n",
            "No Justification provided\n",
            "\n",
            "Generated Sub-Questions:\n",
            "\n"
          ]
        },
        {
          "output_type": "stream",
          "name": "stderr",
          "text": [
            "\r 83%|████████▎ | 166/200 [29:38<07:01, 12.41s/it]"
          ]
        },
        {
          "output_type": "stream",
          "name": "stdout",
          "text": [
            "Claim:\n",
            "\n",
            "Says NRA head Wayne LaPierre said, \"We believe in absolutely gun-free, zero-tolerance, totally safe schools. That means no guns in America’s schools. Period.\"\n",
            "\n",
            "Justification:\n",
            "\n",
            "No Justification provided\n",
            "\n",
            "Generated Sub-Questions:\n",
            "\n"
          ]
        },
        {
          "output_type": "stream",
          "name": "stderr",
          "text": [
            "\r 84%|████████▎ | 167/200 [29:46<06:11, 11.26s/it]"
          ]
        },
        {
          "output_type": "stream",
          "name": "stdout",
          "text": [
            "Claim:\n",
            "\n",
            "\"Latinos in Nevada support Educational Savings Accounts, helping more than 450,000 students access better schools. But Catherine Cortez Masto is against it.\"\n",
            "\n",
            "Justification:\n",
            "\n",
            "No Justification provided\n",
            "\n",
            "Generated Sub-Questions:\n",
            "\n"
          ]
        },
        {
          "output_type": "stream",
          "name": "stderr",
          "text": [
            "\r 84%|████████▍ | 168/200 [30:02<06:41, 12.54s/it]"
          ]
        },
        {
          "output_type": "stream",
          "name": "stdout",
          "text": [
            "Claim:\n",
            "\n",
            "Says Richard Cordray directed an Ohio commission to \"permit an armed group to have a rally on the statehouse grounds, even taking the extraordinary step of assuming personal responsibility for waiving an insurance requirement in the event of an incident.\"\n",
            "\n",
            "Justification:\n",
            "\n",
            "No Justification provided\n",
            "\n",
            "Generated Sub-Questions:\n",
            "\n"
          ]
        },
        {
          "output_type": "stream",
          "name": "stderr",
          "text": [
            "\r 84%|████████▍ | 169/200 [30:10<05:48, 11.26s/it]"
          ]
        },
        {
          "output_type": "stream",
          "name": "stdout",
          "text": [
            "Claim:\n",
            "\n",
            "\"President-elect Trump's immigration policies are very similar to policies that are sitting right in the Senate and the House today to temporarily suspend immigration from countries that harbor terrorism, to temporarily suspend immigration from Syria until we get better vetting.\"\n",
            "\n",
            "Justification:\n",
            "\n",
            "No Justification provided\n",
            "\n",
            "Generated Sub-Questions:\n",
            "\n"
          ]
        },
        {
          "output_type": "stream",
          "name": "stderr",
          "text": [
            "\r 85%|████████▌ | 170/200 [30:21<05:38, 11.27s/it]"
          ]
        },
        {
          "output_type": "stream",
          "name": "stdout",
          "text": [
            "Claim:\n",
            "\n",
            "\"The debate on securing our border can't be measured in partisan jabs. It has to be measured in the human toll caused by porous borders: 1/3 migrant women are sexually assaulted;  7/10 migrants are victims of violence; 20k migrant children were illegally smuggled last month.\"\n",
            "\n",
            "Justification:\n",
            "\n",
            "No Justification provided\n",
            "\n",
            "Generated Sub-Questions:\n",
            "\n"
          ]
        },
        {
          "output_type": "stream",
          "name": "stderr",
          "text": [
            "\r 86%|████████▌ | 171/200 [30:33<05:29, 11.35s/it]"
          ]
        },
        {
          "output_type": "stream",
          "name": "stdout",
          "text": [
            "Claim:\n",
            "\n",
            "Says his amendment on a budget bill “would have helped get kids back in school after teachers were vaccinated. Every single Senate Democrat voted against it.”\n",
            "\n",
            "Justification:\n",
            "\n",
            "No Justification provided\n",
            "\n",
            "Generated Sub-Questions:\n",
            "\n"
          ]
        },
        {
          "output_type": "stream",
          "name": "stderr",
          "text": [
            "\r 86%|████████▌ | 172/200 [30:43<05:10, 11.07s/it]"
          ]
        },
        {
          "output_type": "stream",
          "name": "stdout",
          "text": [
            "Claim:\n",
            "\n",
            "“It is a result of the $300 per month that working parents are now receiving for their young children that we have reduced childhood poverty in the United States by 50%.”\n",
            "\n",
            "Justification:\n",
            "\n",
            "No Justification provided\n",
            "\n",
            "Generated Sub-Questions:\n",
            "\n"
          ]
        },
        {
          "output_type": "stream",
          "name": "stderr",
          "text": [
            "\r 86%|████████▋ | 173/200 [30:52<04:37, 10.27s/it]"
          ]
        },
        {
          "output_type": "stream",
          "name": "stdout",
          "text": [
            "Claim:\n",
            "\n",
            "When he was Milwaukee County executive, \"eight years in a row we pushed through budgets that did not increase the tax levy from the previous year.\"\n",
            "\n",
            "Justification:\n",
            "\n",
            "No Justification provided\n",
            "\n",
            "Generated Sub-Questions:\n",
            "\n"
          ]
        },
        {
          "output_type": "stream",
          "name": "stderr",
          "text": [
            "\r 87%|████████▋ | 174/200 [31:02<04:31, 10.42s/it]"
          ]
        },
        {
          "output_type": "stream",
          "name": "stdout",
          "text": [
            "Claim:\n",
            "\n",
            "Wisconsin’s 2019-21 budget produced the first positive general fund balance since 2000, and the governor’s proposed 2021-23 budget would return it to a deficit.\n",
            "\n",
            "Justification:\n",
            "\n",
            "No Justification provided\n",
            "\n",
            "Generated Sub-Questions:\n",
            "\n"
          ]
        },
        {
          "output_type": "stream",
          "name": "stderr",
          "text": [
            "\r 88%|████████▊ | 175/200 [31:11<04:06,  9.86s/it]"
          ]
        },
        {
          "output_type": "stream",
          "name": "stdout",
          "text": [
            "Claim:\n",
            "\n",
            "\"Things went wrong with the Medicare prescription D plan that George Bush rolled out.\"\n",
            "\n",
            "Justification:\n",
            "\n",
            "No Justification provided\n",
            "\n",
            "Generated Sub-Questions:\n",
            "\n"
          ]
        },
        {
          "output_type": "stream",
          "name": "stderr",
          "text": [
            "\r 88%|████████▊ | 176/200 [31:26<04:32, 11.37s/it]"
          ]
        },
        {
          "output_type": "stream",
          "name": "stdout",
          "text": [
            "Claim:\n",
            "\n",
            "Say televangelist Pat Robertson said some young people “are doing all kinds of unnatural things with their sex organs. When people do that, they transfer all kinds of chemicals from ladies’ private parts and that’s where I think the (corona)virus came from.”\n",
            "\n",
            "Justification:\n",
            "\n",
            "No Justification provided\n",
            "\n",
            "Generated Sub-Questions:\n",
            "\n"
          ]
        },
        {
          "output_type": "stream",
          "name": "stderr",
          "text": [
            "\r 88%|████████▊ | 177/200 [31:35<04:05, 10.67s/it]"
          ]
        },
        {
          "output_type": "stream",
          "name": "stdout",
          "text": [
            "Claim:\n",
            "\n",
            "Says a Ted Cruz ad has \"got me bull-dozing down a house. I never bulldozed it down. It's false advertising.\"\n",
            "\n",
            "Justification:\n",
            "\n",
            "No Justification provided\n",
            "\n",
            "Generated Sub-Questions:\n",
            "\n"
          ]
        },
        {
          "output_type": "stream",
          "name": "stderr",
          "text": [
            "\r 89%|████████▉ | 178/200 [31:46<03:57, 10.80s/it]"
          ]
        },
        {
          "output_type": "stream",
          "name": "stdout",
          "text": [
            "Claim:\n",
            "\n",
            "Says Travis County Sheriff Sally Hernandez \"declared that she would not detain known criminals accused of violent crimes.\"\n",
            "\n",
            "Justification:\n",
            "\n",
            "No Justification provided\n",
            "\n",
            "Generated Sub-Questions:\n",
            "\n"
          ]
        },
        {
          "output_type": "stream",
          "name": "stderr",
          "text": [
            "\r 90%|████████▉ | 179/200 [32:13<05:29, 15.71s/it]"
          ]
        },
        {
          "output_type": "stream",
          "name": "stdout",
          "text": [
            "Claim:\n",
            "\n",
            "Says Scott Walker recently said \"he got his bald spot from hitting his head on a cabinet, and it's not a joke, he actually said that his bald spot came because he hit his head on a cabinet.\"\n",
            "\n",
            "Justification:\n",
            "\n",
            "No Justification provided\n",
            "\n",
            "Generated Sub-Questions:\n",
            "\n"
          ]
        },
        {
          "output_type": "stream",
          "name": "stderr",
          "text": [
            "\r 90%|█████████ | 180/200 [32:23<04:41, 14.07s/it]"
          ]
        },
        {
          "output_type": "stream",
          "name": "stdout",
          "text": [
            "Claim:\n",
            "\n",
            "\"My opponent… was on both the city of Chicago payroll and the state of Illinois payroll simultaneously, taking full salary, funding her full pension benefits both as a city worker and as a state worker for 10 years.\"\n",
            "\n",
            "Justification:\n",
            "\n",
            "No Justification provided\n",
            "\n",
            "Generated Sub-Questions:\n",
            "\n"
          ]
        },
        {
          "output_type": "stream",
          "name": "stderr",
          "text": [
            "\r 90%|█████████ | 181/200 [32:33<04:04, 12.86s/it]"
          ]
        },
        {
          "output_type": "stream",
          "name": "stdout",
          "text": [
            "Claim:\n",
            "\n",
            "Milwaukee has less taxing power than most similar cities and is the only U.S. city of 400,000 or more \"that does not have a sales tax or local income tax.\"\n",
            "\n",
            "Justification:\n",
            "\n",
            "No Justification provided\n",
            "\n",
            "Generated Sub-Questions:\n",
            "\n"
          ]
        },
        {
          "output_type": "stream",
          "name": "stderr",
          "text": [
            "\r 91%|█████████ | 182/200 [32:44<03:38, 12.17s/it]"
          ]
        },
        {
          "output_type": "stream",
          "name": "stdout",
          "text": [
            "Claim:\n",
            "\n",
            "\"This year, 97 Missouri counties have only one insurer participating in the Obamacare exchanges. Last year, every Missouri county had at least two insurance options. In addition, most Missourians will see an increase in their premiums, with some facing an increase upward of 40 percent\"\n",
            "\n",
            "Justification:\n",
            "\n",
            "No Justification provided\n",
            "\n",
            "Generated Sub-Questions:\n",
            "\n"
          ]
        },
        {
          "output_type": "stream",
          "name": "stderr",
          "text": [
            "\r 92%|█████████▏| 183/200 [32:53<03:12, 11.35s/it]"
          ]
        },
        {
          "output_type": "stream",
          "name": "stdout",
          "text": [
            "Claim:\n",
            "\n",
            "Says Austin should be putting more police on the streets. “Why are we going the other way? (Austin leaders are saying) ‘Oh, let’s reimagine police by getting rid of them.' What do you have? You have a doubling of murder in Austin, Texas.”\n",
            "\n",
            "Justification:\n",
            "\n",
            "No Justification provided\n",
            "\n",
            "Generated Sub-Questions:\n",
            "\n"
          ]
        },
        {
          "output_type": "stream",
          "name": "stderr",
          "text": [
            "\r 92%|█████████▏| 184/200 [33:05<03:04, 11.50s/it]"
          ]
        },
        {
          "output_type": "stream",
          "name": "stdout",
          "text": [
            "Claim:\n",
            "\n",
            "On taxes, \"if you go back and look 50 years ago, individuals paid about 7 percent of the total and corporations paid 5 percent. Fast forward 50 years: individuals still 7 percent, corporations (are) down to 2 percent.\"\n",
            "\n",
            "Justification:\n",
            "\n",
            "No Justification provided\n",
            "\n",
            "Generated Sub-Questions:\n",
            "\n"
          ]
        },
        {
          "output_type": "stream",
          "name": "stderr",
          "text": [
            "\r 92%|█████████▎| 185/200 [33:14<02:39, 10.62s/it]"
          ]
        },
        {
          "output_type": "stream",
          "name": "stdout",
          "text": [
            "Claim:\n",
            "\n",
            "Says she is \"the only candidate for Senate who refuses to cut Medicare and Social Security or raise the retirement age.\"\n",
            "\n",
            "Justification:\n",
            "\n",
            "No Justification provided\n",
            "\n",
            "Generated Sub-Questions:\n",
            "\n"
          ]
        },
        {
          "output_type": "stream",
          "name": "stderr",
          "text": [
            "\r 93%|█████████▎| 186/200 [33:22<02:17,  9.79s/it]"
          ]
        },
        {
          "output_type": "stream",
          "name": "stdout",
          "text": [
            "Claim:\n",
            "\n",
            "If you count United States airstrikes against ISIS, \"75 percent of those combat missions return to base without having fired a weapon.\"\n",
            "\n",
            "Justification:\n",
            "\n",
            "No Justification provided\n",
            "\n",
            "Generated Sub-Questions:\n",
            "\n"
          ]
        },
        {
          "output_type": "stream",
          "name": "stderr",
          "text": [
            "\r 94%|█████████▎| 187/200 [33:32<02:11, 10.11s/it]"
          ]
        },
        {
          "output_type": "stream",
          "name": "stdout",
          "text": [
            "Claim:\n",
            "\n",
            "National polls have “never predicted who will be president from our party. Carter was in the single digits a few months before caucuses. Bill Clinton was. Obama — 20 points behind in the national polls roughly.”\n",
            "\n",
            "Justification:\n",
            "\n",
            "No Justification provided\n",
            "\n",
            "Generated Sub-Questions:\n",
            "\n"
          ]
        },
        {
          "output_type": "stream",
          "name": "stderr",
          "text": [
            "\r 94%|█████████▍| 188/200 [33:44<02:06, 10.53s/it]"
          ]
        },
        {
          "output_type": "stream",
          "name": "stdout",
          "text": [
            "Claim:\n",
            "\n",
            "Says Elizabeth Warren said, \"Having an abortion is no different than someone having their tonsils removed.\"\n",
            "\n",
            "Justification:\n",
            "\n",
            "No Justification provided\n",
            "\n",
            "Generated Sub-Questions:\n",
            "\n"
          ]
        },
        {
          "output_type": "stream",
          "name": "stderr",
          "text": [
            "\r 94%|█████████▍| 189/200 [33:55<01:55, 10.53s/it]"
          ]
        },
        {
          "output_type": "stream",
          "name": "stdout",
          "text": [
            "Claim:\n",
            "\n",
            "Says Ronald Reagan said immigrants \"brought with them courage and the values of family, work, and freedom. Let us pledge to each other that we can make America great again.\"\n",
            "\n",
            "Justification:\n",
            "\n",
            "No Justification provided\n",
            "\n",
            "Generated Sub-Questions:\n",
            "\n"
          ]
        },
        {
          "output_type": "stream",
          "name": "stderr",
          "text": [
            "\r 95%|█████████▌| 190/200 [34:05<01:46, 10.62s/it]"
          ]
        },
        {
          "output_type": "stream",
          "name": "stdout",
          "text": [
            "Claim:\n",
            "\n",
            "“Illinois lags way behind all of our neighbors and certainly we’re in the bottom tier of states that are doing testing.\"\n",
            "\n",
            "Justification:\n",
            "\n",
            "No Justification provided\n",
            "\n",
            "Generated Sub-Questions:\n",
            "\n"
          ]
        },
        {
          "output_type": "stream",
          "name": "stderr",
          "text": [
            "\r 96%|█████████▌| 191/200 [34:16<01:34, 10.51s/it]"
          ]
        },
        {
          "output_type": "stream",
          "name": "stdout",
          "text": [
            "Claim:\n",
            "\n",
            "“Anyone remember Kamala telling Joe during the debate: ‘You will do whatever the Chinese tell you! They gave your son over a billion dollars.’”\n",
            "\n",
            "Justification:\n",
            "\n",
            "No Justification provided\n",
            "\n",
            "Generated Sub-Questions:\n",
            "\n"
          ]
        },
        {
          "output_type": "stream",
          "name": "stderr",
          "text": [
            "\r 96%|█████████▌| 192/200 [34:26<01:24, 10.52s/it]"
          ]
        },
        {
          "output_type": "stream",
          "name": "stdout",
          "text": [
            "Claim:\n",
            "\n",
            "North Carolina is \"in the small minority of states that requires an absentee ballot to be signed by two witnesses or a notary public.\"\n",
            "\n",
            "Justification:\n",
            "\n",
            "No Justification provided\n",
            "\n",
            "Generated Sub-Questions:\n",
            "\n"
          ]
        },
        {
          "output_type": "stream",
          "name": "stderr",
          "text": [
            "\r 96%|█████████▋| 193/200 [34:37<01:13, 10.55s/it]"
          ]
        },
        {
          "output_type": "stream",
          "name": "stdout",
          "text": [
            "Claim:\n",
            "\n",
            "Says Joe Biden’s order stopping the Keystone pipeline “made oil more expensive for us to use.”\n",
            "\n",
            "Justification:\n",
            "\n",
            "No Justification provided\n",
            "\n",
            "Generated Sub-Questions:\n",
            "\n"
          ]
        },
        {
          "output_type": "stream",
          "name": "stderr",
          "text": [
            "\r 97%|█████████▋| 194/200 [34:50<01:08, 11.44s/it]"
          ]
        },
        {
          "output_type": "stream",
          "name": "stdout",
          "text": [
            "Claim:\n",
            "\n",
            "Says Donald Trump \"was one of the people who rooted for the housing crisis. He said back in 2006, ‘Gee, I hope it does collapse because then I can go in and buy some and make some money.’ \"\n",
            "\n",
            "Justification:\n",
            "\n",
            "No Justification provided\n",
            "\n",
            "Generated Sub-Questions:\n",
            "\n"
          ]
        },
        {
          "output_type": "stream",
          "name": "stderr",
          "text": [
            "\r 98%|█████████▊| 195/200 [34:58<00:51, 10.31s/it]"
          ]
        },
        {
          "output_type": "stream",
          "name": "stdout",
          "text": [
            "Claim:\n",
            "\n",
            "Says Ron Johnson justifies his support of trade agreements by saying the U.S. has the Trade Adjustment Assistance program for displaced workers, but then he \"voted to eliminate it.\"\n",
            "\n",
            "Justification:\n",
            "\n",
            "No Justification provided\n",
            "\n",
            "Generated Sub-Questions:\n",
            "\n"
          ]
        },
        {
          "output_type": "stream",
          "name": "stderr",
          "text": [
            "\r 98%|█████████▊| 196/200 [35:06<00:38,  9.64s/it]"
          ]
        },
        {
          "output_type": "stream",
          "name": "stdout",
          "text": [
            "Claim:\n",
            "\n",
            "Says his elections proposal would allow \"a potential of 168 hours (of early voting), which I think is the most we’ve ever had.\"\n",
            "\n",
            "Justification:\n",
            "\n",
            "No Justification provided\n",
            "\n",
            "Generated Sub-Questions:\n",
            "\n"
          ]
        },
        {
          "output_type": "stream",
          "name": "stderr",
          "text": [
            "\r 98%|█████████▊| 197/200 [35:15<00:28,  9.46s/it]"
          ]
        },
        {
          "output_type": "stream",
          "name": "stdout",
          "text": [
            "Claim:\n",
            "\n",
            "\"(Paul Ryan) has actually proposed three — total, three — bills that have become law in his entire career dating back to 1999.\"\n",
            "\n",
            "Justification:\n",
            "\n",
            "No Justification provided\n",
            "\n",
            "Generated Sub-Questions:\n",
            "\n"
          ]
        },
        {
          "output_type": "stream",
          "name": "stderr",
          "text": [
            "\r 99%|█████████▉| 198/200 [35:26<00:19,  9.76s/it]"
          ]
        },
        {
          "output_type": "stream",
          "name": "stdout",
          "text": [
            "Claim:\n",
            "\n",
            "\"In 2009 … Hillary Clinton was at the State Department working with U.S. corporations to pressure Haiti not to raise the minimum wage to 61 cents an hour from 24 cents.\"\n",
            "\n",
            "Justification:\n",
            "\n",
            "No Justification provided\n",
            "\n",
            "Generated Sub-Questions:\n",
            "\n"
          ]
        },
        {
          "output_type": "stream",
          "name": "stderr",
          "text": [
            "\r100%|█████████▉| 199/200 [35:38<00:10, 10.56s/it]"
          ]
        },
        {
          "output_type": "stream",
          "name": "stdout",
          "text": [
            "Claim:\n",
            "\n",
            "\"The candidates controlled by Madigan, all of them have said, ‘The answer to our problems is a massive income tax hike.’ \"\n",
            "\n",
            "Justification:\n",
            "\n",
            "No Justification provided\n",
            "\n",
            "Generated Sub-Questions:\n",
            "\n"
          ]
        },
        {
          "output_type": "stream",
          "name": "stderr",
          "text": [
            "100%|██████████| 200/200 [35:52<00:00, 10.76s/it]"
          ]
        },
        {
          "output_type": "stream",
          "name": "stdout",
          "text": [
            "Claim:\n",
            "\n",
            "\"There’s actually a court order that prevents keeping the kids with the parents when you put the parents in jail.\"\n",
            "\n",
            "Justification:\n",
            "\n",
            "No Justification provided\n",
            "\n",
            "Generated Sub-Questions:\n",
            "\n"
          ]
        },
        {
          "output_type": "stream",
          "name": "stderr",
          "text": [
            "\n"
          ]
        }
      ]
    },
    {
      "cell_type": "code",
      "source": [
        "dfTest.head()"
      ],
      "metadata": {
        "colab": {
          "base_uri": "https://localhost:8080/",
          "height": 441
        },
        "id": "aN7ubn5NLnE7",
        "outputId": "6fa3044b-6377-4db3-fdf4-19085d1d0928"
      },
      "execution_count": null,
      "outputs": [
        {
          "output_type": "execute_result",
          "data": {
            "text/plain": [
              "                                               claim  \\\n",
              "0  Says Kentucky Rep. Andy Barr \"would let shady ...   \n",
              "1  \"New reports show Kevin Nicholson made over $1...   \n",
              "2  Says that unless the recipient called back abo...   \n",
              "3  \"Donald Trump said he was excited for the 2008...   \n",
              "4  \"The president has said the national security ...   \n",
              "\n",
              "                                 annotated-questions  \\\n",
              "0  ['1. Has Barr received $36,550 from payday len...   \n",
              "1  ['1. Did Nicholson make $1 million consulting ...   \n",
              "2  ['1. Will people be taken into local police cu...   \n",
              "3  ['1. Was Donald Trump \"Excited\" for the 2008 h...   \n",
              "4  ['1. Has Obama cited climate change as the top...   \n",
              "\n",
              "                         davinci-decomp-subquestions  \\\n",
              "0  \" 1. Did Barr take money from these lenders?\\n...   \n",
              "1  \" 1. Did Nicholson make over $1 million?\\n2. D...   \n",
              "2  \" 1. Did someone call about this person's tax ...   \n",
              "3  \" 1. Did Donald Trump say he was excited for t...   \n",
              "4  \" 1. Did the president say that global warming...   \n",
              "\n",
              "                              t5-decomp-subquestions  distinct-annotated-qsn  \\\n",
              "0  1: Did Barr allow payday lenders to take advan...                     NaN   \n",
              "1  1: Did Nicholson advise companies that shut do...                     NaN   \n",
              "2                   1: Did the recipient call back??                     NaN   \n",
              "3  1: Did Trump say he was excited for the 2008 h...                     NaN   \n",
              "4  1: Did Trump say the national security threat ...                     NaN   \n",
              "\n",
              "   t5-cov  davinci-cov  \n",
              "0     NaN          NaN  \n",
              "1     NaN          NaN  \n",
              "2     NaN          NaN  \n",
              "3     NaN          NaN  \n",
              "4     NaN          NaN  "
            ],
            "text/html": [
              "\n",
              "  <div id=\"df-cb1922be-9323-41b4-a72a-d8605a870b68\">\n",
              "    <div class=\"colab-df-container\">\n",
              "      <div>\n",
              "<style scoped>\n",
              "    .dataframe tbody tr th:only-of-type {\n",
              "        vertical-align: middle;\n",
              "    }\n",
              "\n",
              "    .dataframe tbody tr th {\n",
              "        vertical-align: top;\n",
              "    }\n",
              "\n",
              "    .dataframe thead th {\n",
              "        text-align: right;\n",
              "    }\n",
              "</style>\n",
              "<table border=\"1\" class=\"dataframe\">\n",
              "  <thead>\n",
              "    <tr style=\"text-align: right;\">\n",
              "      <th></th>\n",
              "      <th>claim</th>\n",
              "      <th>annotated-questions</th>\n",
              "      <th>davinci-decomp-subquestions</th>\n",
              "      <th>t5-decomp-subquestions</th>\n",
              "      <th>distinct-annotated-qsn</th>\n",
              "      <th>t5-cov</th>\n",
              "      <th>davinci-cov</th>\n",
              "    </tr>\n",
              "  </thead>\n",
              "  <tbody>\n",
              "    <tr>\n",
              "      <th>0</th>\n",
              "      <td>Says Kentucky Rep. Andy Barr \"would let shady ...</td>\n",
              "      <td>['1. Has Barr received $36,550 from payday len...</td>\n",
              "      <td>\" 1. Did Barr take money from these lenders?\\n...</td>\n",
              "      <td>1: Did Barr allow payday lenders to take advan...</td>\n",
              "      <td>NaN</td>\n",
              "      <td>NaN</td>\n",
              "      <td>NaN</td>\n",
              "    </tr>\n",
              "    <tr>\n",
              "      <th>1</th>\n",
              "      <td>\"New reports show Kevin Nicholson made over $1...</td>\n",
              "      <td>['1. Did Nicholson make $1 million consulting ...</td>\n",
              "      <td>\" 1. Did Nicholson make over $1 million?\\n2. D...</td>\n",
              "      <td>1: Did Nicholson advise companies that shut do...</td>\n",
              "      <td>NaN</td>\n",
              "      <td>NaN</td>\n",
              "      <td>NaN</td>\n",
              "    </tr>\n",
              "    <tr>\n",
              "      <th>2</th>\n",
              "      <td>Says that unless the recipient called back abo...</td>\n",
              "      <td>['1. Will people be taken into local police cu...</td>\n",
              "      <td>\" 1. Did someone call about this person's tax ...</td>\n",
              "      <td>1: Did the recipient call back??</td>\n",
              "      <td>NaN</td>\n",
              "      <td>NaN</td>\n",
              "      <td>NaN</td>\n",
              "    </tr>\n",
              "    <tr>\n",
              "      <th>3</th>\n",
              "      <td>\"Donald Trump said he was excited for the 2008...</td>\n",
              "      <td>['1. Was Donald Trump \"Excited\" for the 2008 h...</td>\n",
              "      <td>\" 1. Did Donald Trump say he was excited for t...</td>\n",
              "      <td>1: Did Trump say he was excited for the 2008 h...</td>\n",
              "      <td>NaN</td>\n",
              "      <td>NaN</td>\n",
              "      <td>NaN</td>\n",
              "    </tr>\n",
              "    <tr>\n",
              "      <th>4</th>\n",
              "      <td>\"The president has said the national security ...</td>\n",
              "      <td>['1. Has Obama cited climate change as the top...</td>\n",
              "      <td>\" 1. Did the president say that global warming...</td>\n",
              "      <td>1: Did Trump say the national security threat ...</td>\n",
              "      <td>NaN</td>\n",
              "      <td>NaN</td>\n",
              "      <td>NaN</td>\n",
              "    </tr>\n",
              "  </tbody>\n",
              "</table>\n",
              "</div>\n",
              "      <button class=\"colab-df-convert\" onclick=\"convertToInteractive('df-cb1922be-9323-41b4-a72a-d8605a870b68')\"\n",
              "              title=\"Convert this dataframe to an interactive table.\"\n",
              "              style=\"display:none;\">\n",
              "        \n",
              "  <svg xmlns=\"http://www.w3.org/2000/svg\" height=\"24px\"viewBox=\"0 0 24 24\"\n",
              "       width=\"24px\">\n",
              "    <path d=\"M0 0h24v24H0V0z\" fill=\"none\"/>\n",
              "    <path d=\"M18.56 5.44l.94 2.06.94-2.06 2.06-.94-2.06-.94-.94-2.06-.94 2.06-2.06.94zm-11 1L8.5 8.5l.94-2.06 2.06-.94-2.06-.94L8.5 2.5l-.94 2.06-2.06.94zm10 10l.94 2.06.94-2.06 2.06-.94-2.06-.94-.94-2.06-.94 2.06-2.06.94z\"/><path d=\"M17.41 7.96l-1.37-1.37c-.4-.4-.92-.59-1.43-.59-.52 0-1.04.2-1.43.59L10.3 9.45l-7.72 7.72c-.78.78-.78 2.05 0 2.83L4 21.41c.39.39.9.59 1.41.59.51 0 1.02-.2 1.41-.59l7.78-7.78 2.81-2.81c.8-.78.8-2.07 0-2.86zM5.41 20L4 18.59l7.72-7.72 1.47 1.35L5.41 20z\"/>\n",
              "  </svg>\n",
              "      </button>\n",
              "      \n",
              "  <style>\n",
              "    .colab-df-container {\n",
              "      display:flex;\n",
              "      flex-wrap:wrap;\n",
              "      gap: 12px;\n",
              "    }\n",
              "\n",
              "    .colab-df-convert {\n",
              "      background-color: #E8F0FE;\n",
              "      border: none;\n",
              "      border-radius: 50%;\n",
              "      cursor: pointer;\n",
              "      display: none;\n",
              "      fill: #1967D2;\n",
              "      height: 32px;\n",
              "      padding: 0 0 0 0;\n",
              "      width: 32px;\n",
              "    }\n",
              "\n",
              "    .colab-df-convert:hover {\n",
              "      background-color: #E2EBFA;\n",
              "      box-shadow: 0px 1px 2px rgba(60, 64, 67, 0.3), 0px 1px 3px 1px rgba(60, 64, 67, 0.15);\n",
              "      fill: #174EA6;\n",
              "    }\n",
              "\n",
              "    [theme=dark] .colab-df-convert {\n",
              "      background-color: #3B4455;\n",
              "      fill: #D2E3FC;\n",
              "    }\n",
              "\n",
              "    [theme=dark] .colab-df-convert:hover {\n",
              "      background-color: #434B5C;\n",
              "      box-shadow: 0px 1px 3px 1px rgba(0, 0, 0, 0.15);\n",
              "      filter: drop-shadow(0px 1px 2px rgba(0, 0, 0, 0.3));\n",
              "      fill: #FFFFFF;\n",
              "    }\n",
              "  </style>\n",
              "\n",
              "      <script>\n",
              "        const buttonEl =\n",
              "          document.querySelector('#df-cb1922be-9323-41b4-a72a-d8605a870b68 button.colab-df-convert');\n",
              "        buttonEl.style.display =\n",
              "          google.colab.kernel.accessAllowed ? 'block' : 'none';\n",
              "\n",
              "        async function convertToInteractive(key) {\n",
              "          const element = document.querySelector('#df-cb1922be-9323-41b4-a72a-d8605a870b68');\n",
              "          const dataTable =\n",
              "            await google.colab.kernel.invokeFunction('convertToInteractive',\n",
              "                                                     [key], {});\n",
              "          if (!dataTable) return;\n",
              "\n",
              "          const docLinkHtml = 'Like what you see? Visit the ' +\n",
              "            '<a target=\"_blank\" href=https://colab.research.google.com/notebooks/data_table.ipynb>data table notebook</a>'\n",
              "            + ' to learn more about interactive tables.';\n",
              "          element.innerHTML = '';\n",
              "          dataTable['output_type'] = 'display_data';\n",
              "          await google.colab.output.renderOutput(dataTable, element);\n",
              "          const docLink = document.createElement('div');\n",
              "          docLink.innerHTML = docLinkHtml;\n",
              "          element.appendChild(docLink);\n",
              "        }\n",
              "      </script>\n",
              "    </div>\n",
              "  </div>\n",
              "  "
            ]
          },
          "metadata": {},
          "execution_count": 35
        }
      ]
    },
    {
      "cell_type": "code",
      "source": [
        "fileName = \"./drive/MyDrive/filtered_data/final.csv\"\n",
        "dfTest.to_csv(fileName, index=False, encoding = 'utf-8-sig', header=True, )"
      ],
      "metadata": {
        "id": "VH3ZL6uoLMIV"
      },
      "execution_count": null,
      "outputs": []
    },
    {
      "cell_type": "markdown",
      "metadata": {
        "id": "zlAIHwjPj34H"
      },
      "source": [
        "### Evaluating with the original model"
      ]
    },
    {
      "cell_type": "code",
      "execution_count": null,
      "metadata": {
        "id": "01T55qPvj-lK"
      },
      "outputs": [],
      "source": [
        "version = \"google/t5-v1_1-small\" #\"google/t5-v1_1-large\" #\"google/t5-v1_1-xl\" is too huge for google colab to handle\n",
        "\n",
        "ogmodel = AutoModelForSeq2SeqLM.from_pretrained(version)\n",
        "ogtokenizer = AutoTokenizer.from_pretrained(version)\n",
        "\n",
        "predictOrg(ogmodel, claim, justification)"
      ]
    },
    {
      "cell_type": "markdown",
      "metadata": {
        "id": "ApQFyE_CjuYj"
      },
      "source": [
        "### Evaluating individual predictions"
      ]
    },
    {
      "cell_type": "code",
      "execution_count": null,
      "metadata": {
        "id": "dAICVE2pmoru"
      },
      "outputs": [],
      "source": [
        "input_str = \"Generate Questions: A Facebook post stated on January 31, 2021 Nancy Pelosi bought $1.25 million in Tesla stock the day before Joe Biden signed an order “for all federal vehicles” to be electric.\"\n",
        "# input_str = \"translate English to German: who is donald trump?\"\n",
        "\n",
        "encoded_input = tokenizer(input_str, padding=True, return_tensors=\"pt\")\n",
        "input_ids = encoded_input.input_ids\n",
        "attention_mask = encoded_input.attention_mask\n",
        "\n",
        "#The token id used to pad shorter sentences for batch training\n",
        "#print(tokenizer.pad_token_id) \n",
        "\n",
        "# print(encoded_input)\n",
        "# print(tokenizer.decode(encoded_input))\n",
        "\n",
        "result = model.generate(input_ids = input_ids, attention_mask = attention_mask)\n",
        "\n",
        "#To read the model response\n",
        "decodedResult = [\n",
        "    tokenizer.decode(gen_id, skip_special_tokens=True, clean_up_tokenization_spaces=True)\n",
        "    for gen_id in result\n",
        "]\n",
        "\n",
        "print(\"Response: \" + decodedResult[0])\n"
      ]
    },
    {
      "cell_type": "code",
      "execution_count": null,
      "metadata": {
        "id": "a5LFvK4tyWgj"
      },
      "outputs": [],
      "source": []
    }
  ],
  "metadata": {
    "colab": {
      "collapsed_sections": [
        "G-XT62iyCdxJ",
        "3OuOm5REGV6C",
        "AsRVDYioGajY",
        "kGGftwCIBZsc",
        "zlAIHwjPj34H",
        "ApQFyE_CjuYj"
      ],
      "machine_shape": "hm",
      "provenance": []
    },
    "kernelspec": {
      "display_name": "Python 3",
      "language": "python",
      "name": "python3"
    },
    "language_info": {
      "codemirror_mode": {
        "name": "ipython",
        "version": 3
      },
      "file_extension": ".py",
      "mimetype": "text/x-python",
      "name": "python",
      "nbconvert_exporter": "python",
      "pygments_lexer": "ipython3",
      "version": "3.8.5"
    },
    "widgets": {
      "application/vnd.jupyter.widget-state+json": {
        "c2b0aa97150b4e2eb6e1ce2de0220cf4": {
          "model_module": "@jupyter-widgets/controls",
          "model_name": "HBoxModel",
          "model_module_version": "1.5.0",
          "state": {
            "_dom_classes": [],
            "_model_module": "@jupyter-widgets/controls",
            "_model_module_version": "1.5.0",
            "_model_name": "HBoxModel",
            "_view_count": null,
            "_view_module": "@jupyter-widgets/controls",
            "_view_module_version": "1.5.0",
            "_view_name": "HBoxView",
            "box_style": "",
            "children": [
              "IPY_MODEL_4cb50a1748284eb4b0284e197a605b80",
              "IPY_MODEL_26f274e058b64456b7b87ed9018fa9cb",
              "IPY_MODEL_75db4b142e094097aa42b408d5056a1b"
            ],
            "layout": "IPY_MODEL_2e68540f89514871baa5bbd837e2a637"
          }
        },
        "4cb50a1748284eb4b0284e197a605b80": {
          "model_module": "@jupyter-widgets/controls",
          "model_name": "HTMLModel",
          "model_module_version": "1.5.0",
          "state": {
            "_dom_classes": [],
            "_model_module": "@jupyter-widgets/controls",
            "_model_module_version": "1.5.0",
            "_model_name": "HTMLModel",
            "_view_count": null,
            "_view_module": "@jupyter-widgets/controls",
            "_view_module_version": "1.5.0",
            "_view_name": "HTMLView",
            "description": "",
            "description_tooltip": null,
            "layout": "IPY_MODEL_d242026dfd9b4eb29e586b5b22c1ccfc",
            "placeholder": "​",
            "style": "IPY_MODEL_4a78df0e92f34531bf557538b148d47b",
            "value": "Downloading (…)lve/main/config.json: 100%"
          }
        },
        "26f274e058b64456b7b87ed9018fa9cb": {
          "model_module": "@jupyter-widgets/controls",
          "model_name": "FloatProgressModel",
          "model_module_version": "1.5.0",
          "state": {
            "_dom_classes": [],
            "_model_module": "@jupyter-widgets/controls",
            "_model_module_version": "1.5.0",
            "_model_name": "FloatProgressModel",
            "_view_count": null,
            "_view_module": "@jupyter-widgets/controls",
            "_view_module_version": "1.5.0",
            "_view_name": "ProgressView",
            "bar_style": "success",
            "description": "",
            "description_tooltip": null,
            "layout": "IPY_MODEL_686d016f5be84482990a54ff33dee657",
            "max": 607,
            "min": 0,
            "orientation": "horizontal",
            "style": "IPY_MODEL_6e40b33133c046a99b4384587f86290c",
            "value": 607
          }
        },
        "75db4b142e094097aa42b408d5056a1b": {
          "model_module": "@jupyter-widgets/controls",
          "model_name": "HTMLModel",
          "model_module_version": "1.5.0",
          "state": {
            "_dom_classes": [],
            "_model_module": "@jupyter-widgets/controls",
            "_model_module_version": "1.5.0",
            "_model_name": "HTMLModel",
            "_view_count": null,
            "_view_module": "@jupyter-widgets/controls",
            "_view_module_version": "1.5.0",
            "_view_name": "HTMLView",
            "description": "",
            "description_tooltip": null,
            "layout": "IPY_MODEL_272e40ecec204550a495a173d0d3bda9",
            "placeholder": "​",
            "style": "IPY_MODEL_09a720d452674a938ea612bd9c3a9f50",
            "value": " 607/607 [00:00&lt;00:00, 27.2kB/s]"
          }
        },
        "2e68540f89514871baa5bbd837e2a637": {
          "model_module": "@jupyter-widgets/base",
          "model_name": "LayoutModel",
          "model_module_version": "1.2.0",
          "state": {
            "_model_module": "@jupyter-widgets/base",
            "_model_module_version": "1.2.0",
            "_model_name": "LayoutModel",
            "_view_count": null,
            "_view_module": "@jupyter-widgets/base",
            "_view_module_version": "1.2.0",
            "_view_name": "LayoutView",
            "align_content": null,
            "align_items": null,
            "align_self": null,
            "border": null,
            "bottom": null,
            "display": null,
            "flex": null,
            "flex_flow": null,
            "grid_area": null,
            "grid_auto_columns": null,
            "grid_auto_flow": null,
            "grid_auto_rows": null,
            "grid_column": null,
            "grid_gap": null,
            "grid_row": null,
            "grid_template_areas": null,
            "grid_template_columns": null,
            "grid_template_rows": null,
            "height": null,
            "justify_content": null,
            "justify_items": null,
            "left": null,
            "margin": null,
            "max_height": null,
            "max_width": null,
            "min_height": null,
            "min_width": null,
            "object_fit": null,
            "object_position": null,
            "order": null,
            "overflow": null,
            "overflow_x": null,
            "overflow_y": null,
            "padding": null,
            "right": null,
            "top": null,
            "visibility": null,
            "width": null
          }
        },
        "d242026dfd9b4eb29e586b5b22c1ccfc": {
          "model_module": "@jupyter-widgets/base",
          "model_name": "LayoutModel",
          "model_module_version": "1.2.0",
          "state": {
            "_model_module": "@jupyter-widgets/base",
            "_model_module_version": "1.2.0",
            "_model_name": "LayoutModel",
            "_view_count": null,
            "_view_module": "@jupyter-widgets/base",
            "_view_module_version": "1.2.0",
            "_view_name": "LayoutView",
            "align_content": null,
            "align_items": null,
            "align_self": null,
            "border": null,
            "bottom": null,
            "display": null,
            "flex": null,
            "flex_flow": null,
            "grid_area": null,
            "grid_auto_columns": null,
            "grid_auto_flow": null,
            "grid_auto_rows": null,
            "grid_column": null,
            "grid_gap": null,
            "grid_row": null,
            "grid_template_areas": null,
            "grid_template_columns": null,
            "grid_template_rows": null,
            "height": null,
            "justify_content": null,
            "justify_items": null,
            "left": null,
            "margin": null,
            "max_height": null,
            "max_width": null,
            "min_height": null,
            "min_width": null,
            "object_fit": null,
            "object_position": null,
            "order": null,
            "overflow": null,
            "overflow_x": null,
            "overflow_y": null,
            "padding": null,
            "right": null,
            "top": null,
            "visibility": null,
            "width": null
          }
        },
        "4a78df0e92f34531bf557538b148d47b": {
          "model_module": "@jupyter-widgets/controls",
          "model_name": "DescriptionStyleModel",
          "model_module_version": "1.5.0",
          "state": {
            "_model_module": "@jupyter-widgets/controls",
            "_model_module_version": "1.5.0",
            "_model_name": "DescriptionStyleModel",
            "_view_count": null,
            "_view_module": "@jupyter-widgets/base",
            "_view_module_version": "1.2.0",
            "_view_name": "StyleView",
            "description_width": ""
          }
        },
        "686d016f5be84482990a54ff33dee657": {
          "model_module": "@jupyter-widgets/base",
          "model_name": "LayoutModel",
          "model_module_version": "1.2.0",
          "state": {
            "_model_module": "@jupyter-widgets/base",
            "_model_module_version": "1.2.0",
            "_model_name": "LayoutModel",
            "_view_count": null,
            "_view_module": "@jupyter-widgets/base",
            "_view_module_version": "1.2.0",
            "_view_name": "LayoutView",
            "align_content": null,
            "align_items": null,
            "align_self": null,
            "border": null,
            "bottom": null,
            "display": null,
            "flex": null,
            "flex_flow": null,
            "grid_area": null,
            "grid_auto_columns": null,
            "grid_auto_flow": null,
            "grid_auto_rows": null,
            "grid_column": null,
            "grid_gap": null,
            "grid_row": null,
            "grid_template_areas": null,
            "grid_template_columns": null,
            "grid_template_rows": null,
            "height": null,
            "justify_content": null,
            "justify_items": null,
            "left": null,
            "margin": null,
            "max_height": null,
            "max_width": null,
            "min_height": null,
            "min_width": null,
            "object_fit": null,
            "object_position": null,
            "order": null,
            "overflow": null,
            "overflow_x": null,
            "overflow_y": null,
            "padding": null,
            "right": null,
            "top": null,
            "visibility": null,
            "width": null
          }
        },
        "6e40b33133c046a99b4384587f86290c": {
          "model_module": "@jupyter-widgets/controls",
          "model_name": "ProgressStyleModel",
          "model_module_version": "1.5.0",
          "state": {
            "_model_module": "@jupyter-widgets/controls",
            "_model_module_version": "1.5.0",
            "_model_name": "ProgressStyleModel",
            "_view_count": null,
            "_view_module": "@jupyter-widgets/base",
            "_view_module_version": "1.2.0",
            "_view_name": "StyleView",
            "bar_color": null,
            "description_width": ""
          }
        },
        "272e40ecec204550a495a173d0d3bda9": {
          "model_module": "@jupyter-widgets/base",
          "model_name": "LayoutModel",
          "model_module_version": "1.2.0",
          "state": {
            "_model_module": "@jupyter-widgets/base",
            "_model_module_version": "1.2.0",
            "_model_name": "LayoutModel",
            "_view_count": null,
            "_view_module": "@jupyter-widgets/base",
            "_view_module_version": "1.2.0",
            "_view_name": "LayoutView",
            "align_content": null,
            "align_items": null,
            "align_self": null,
            "border": null,
            "bottom": null,
            "display": null,
            "flex": null,
            "flex_flow": null,
            "grid_area": null,
            "grid_auto_columns": null,
            "grid_auto_flow": null,
            "grid_auto_rows": null,
            "grid_column": null,
            "grid_gap": null,
            "grid_row": null,
            "grid_template_areas": null,
            "grid_template_columns": null,
            "grid_template_rows": null,
            "height": null,
            "justify_content": null,
            "justify_items": null,
            "left": null,
            "margin": null,
            "max_height": null,
            "max_width": null,
            "min_height": null,
            "min_width": null,
            "object_fit": null,
            "object_position": null,
            "order": null,
            "overflow": null,
            "overflow_x": null,
            "overflow_y": null,
            "padding": null,
            "right": null,
            "top": null,
            "visibility": null,
            "width": null
          }
        },
        "09a720d452674a938ea612bd9c3a9f50": {
          "model_module": "@jupyter-widgets/controls",
          "model_name": "DescriptionStyleModel",
          "model_module_version": "1.5.0",
          "state": {
            "_model_module": "@jupyter-widgets/controls",
            "_model_module_version": "1.5.0",
            "_model_name": "DescriptionStyleModel",
            "_view_count": null,
            "_view_module": "@jupyter-widgets/base",
            "_view_module_version": "1.2.0",
            "_view_name": "StyleView",
            "description_width": ""
          }
        },
        "4bdd2246f7dc4ff9bbe628c6494a3a77": {
          "model_module": "@jupyter-widgets/controls",
          "model_name": "HBoxModel",
          "model_module_version": "1.5.0",
          "state": {
            "_dom_classes": [],
            "_model_module": "@jupyter-widgets/controls",
            "_model_module_version": "1.5.0",
            "_model_name": "HBoxModel",
            "_view_count": null,
            "_view_module": "@jupyter-widgets/controls",
            "_view_module_version": "1.5.0",
            "_view_name": "HBoxView",
            "box_style": "",
            "children": [
              "IPY_MODEL_c35773a195a24cee85b88b736e19cb2e",
              "IPY_MODEL_24c4a4407d5e4236bba2c35002a2959a",
              "IPY_MODEL_95b7302f71884639acd868b6f507c88d"
            ],
            "layout": "IPY_MODEL_e80f6250f17247618c3614b27931f36f"
          }
        },
        "c35773a195a24cee85b88b736e19cb2e": {
          "model_module": "@jupyter-widgets/controls",
          "model_name": "HTMLModel",
          "model_module_version": "1.5.0",
          "state": {
            "_dom_classes": [],
            "_model_module": "@jupyter-widgets/controls",
            "_model_module_version": "1.5.0",
            "_model_name": "HTMLModel",
            "_view_count": null,
            "_view_module": "@jupyter-widgets/controls",
            "_view_module_version": "1.5.0",
            "_view_name": "HTMLView",
            "description": "",
            "description_tooltip": null,
            "layout": "IPY_MODEL_c026361aae704874a43e420bc7d34f0f",
            "placeholder": "​",
            "style": "IPY_MODEL_a92f6544c2704832a685e12a79445c95",
            "value": "Downloading pytorch_model.bin: 100%"
          }
        },
        "24c4a4407d5e4236bba2c35002a2959a": {
          "model_module": "@jupyter-widgets/controls",
          "model_name": "FloatProgressModel",
          "model_module_version": "1.5.0",
          "state": {
            "_dom_classes": [],
            "_model_module": "@jupyter-widgets/controls",
            "_model_module_version": "1.5.0",
            "_model_name": "FloatProgressModel",
            "_view_count": null,
            "_view_module": "@jupyter-widgets/controls",
            "_view_module_version": "1.5.0",
            "_view_name": "ProgressView",
            "bar_style": "success",
            "description": "",
            "description_tooltip": null,
            "layout": "IPY_MODEL_4395a49a8fe24961a1ad7b90981e34ff",
            "max": 3132858253,
            "min": 0,
            "orientation": "horizontal",
            "style": "IPY_MODEL_54b1ad9133ff4dd69866e14055147fb1",
            "value": 3132858253
          }
        },
        "95b7302f71884639acd868b6f507c88d": {
          "model_module": "@jupyter-widgets/controls",
          "model_name": "HTMLModel",
          "model_module_version": "1.5.0",
          "state": {
            "_dom_classes": [],
            "_model_module": "@jupyter-widgets/controls",
            "_model_module_version": "1.5.0",
            "_model_name": "HTMLModel",
            "_view_count": null,
            "_view_module": "@jupyter-widgets/controls",
            "_view_module_version": "1.5.0",
            "_view_name": "HTMLView",
            "description": "",
            "description_tooltip": null,
            "layout": "IPY_MODEL_305cf5ca9a784032bf5b1ee3453c1934",
            "placeholder": "​",
            "style": "IPY_MODEL_e27bd9289ba84cba94d524078cc0f002",
            "value": " 3.13G/3.13G [00:12&lt;00:00, 219MB/s]"
          }
        },
        "e80f6250f17247618c3614b27931f36f": {
          "model_module": "@jupyter-widgets/base",
          "model_name": "LayoutModel",
          "model_module_version": "1.2.0",
          "state": {
            "_model_module": "@jupyter-widgets/base",
            "_model_module_version": "1.2.0",
            "_model_name": "LayoutModel",
            "_view_count": null,
            "_view_module": "@jupyter-widgets/base",
            "_view_module_version": "1.2.0",
            "_view_name": "LayoutView",
            "align_content": null,
            "align_items": null,
            "align_self": null,
            "border": null,
            "bottom": null,
            "display": null,
            "flex": null,
            "flex_flow": null,
            "grid_area": null,
            "grid_auto_columns": null,
            "grid_auto_flow": null,
            "grid_auto_rows": null,
            "grid_column": null,
            "grid_gap": null,
            "grid_row": null,
            "grid_template_areas": null,
            "grid_template_columns": null,
            "grid_template_rows": null,
            "height": null,
            "justify_content": null,
            "justify_items": null,
            "left": null,
            "margin": null,
            "max_height": null,
            "max_width": null,
            "min_height": null,
            "min_width": null,
            "object_fit": null,
            "object_position": null,
            "order": null,
            "overflow": null,
            "overflow_x": null,
            "overflow_y": null,
            "padding": null,
            "right": null,
            "top": null,
            "visibility": null,
            "width": null
          }
        },
        "c026361aae704874a43e420bc7d34f0f": {
          "model_module": "@jupyter-widgets/base",
          "model_name": "LayoutModel",
          "model_module_version": "1.2.0",
          "state": {
            "_model_module": "@jupyter-widgets/base",
            "_model_module_version": "1.2.0",
            "_model_name": "LayoutModel",
            "_view_count": null,
            "_view_module": "@jupyter-widgets/base",
            "_view_module_version": "1.2.0",
            "_view_name": "LayoutView",
            "align_content": null,
            "align_items": null,
            "align_self": null,
            "border": null,
            "bottom": null,
            "display": null,
            "flex": null,
            "flex_flow": null,
            "grid_area": null,
            "grid_auto_columns": null,
            "grid_auto_flow": null,
            "grid_auto_rows": null,
            "grid_column": null,
            "grid_gap": null,
            "grid_row": null,
            "grid_template_areas": null,
            "grid_template_columns": null,
            "grid_template_rows": null,
            "height": null,
            "justify_content": null,
            "justify_items": null,
            "left": null,
            "margin": null,
            "max_height": null,
            "max_width": null,
            "min_height": null,
            "min_width": null,
            "object_fit": null,
            "object_position": null,
            "order": null,
            "overflow": null,
            "overflow_x": null,
            "overflow_y": null,
            "padding": null,
            "right": null,
            "top": null,
            "visibility": null,
            "width": null
          }
        },
        "a92f6544c2704832a685e12a79445c95": {
          "model_module": "@jupyter-widgets/controls",
          "model_name": "DescriptionStyleModel",
          "model_module_version": "1.5.0",
          "state": {
            "_model_module": "@jupyter-widgets/controls",
            "_model_module_version": "1.5.0",
            "_model_name": "DescriptionStyleModel",
            "_view_count": null,
            "_view_module": "@jupyter-widgets/base",
            "_view_module_version": "1.2.0",
            "_view_name": "StyleView",
            "description_width": ""
          }
        },
        "4395a49a8fe24961a1ad7b90981e34ff": {
          "model_module": "@jupyter-widgets/base",
          "model_name": "LayoutModel",
          "model_module_version": "1.2.0",
          "state": {
            "_model_module": "@jupyter-widgets/base",
            "_model_module_version": "1.2.0",
            "_model_name": "LayoutModel",
            "_view_count": null,
            "_view_module": "@jupyter-widgets/base",
            "_view_module_version": "1.2.0",
            "_view_name": "LayoutView",
            "align_content": null,
            "align_items": null,
            "align_self": null,
            "border": null,
            "bottom": null,
            "display": null,
            "flex": null,
            "flex_flow": null,
            "grid_area": null,
            "grid_auto_columns": null,
            "grid_auto_flow": null,
            "grid_auto_rows": null,
            "grid_column": null,
            "grid_gap": null,
            "grid_row": null,
            "grid_template_areas": null,
            "grid_template_columns": null,
            "grid_template_rows": null,
            "height": null,
            "justify_content": null,
            "justify_items": null,
            "left": null,
            "margin": null,
            "max_height": null,
            "max_width": null,
            "min_height": null,
            "min_width": null,
            "object_fit": null,
            "object_position": null,
            "order": null,
            "overflow": null,
            "overflow_x": null,
            "overflow_y": null,
            "padding": null,
            "right": null,
            "top": null,
            "visibility": null,
            "width": null
          }
        },
        "54b1ad9133ff4dd69866e14055147fb1": {
          "model_module": "@jupyter-widgets/controls",
          "model_name": "ProgressStyleModel",
          "model_module_version": "1.5.0",
          "state": {
            "_model_module": "@jupyter-widgets/controls",
            "_model_module_version": "1.5.0",
            "_model_name": "ProgressStyleModel",
            "_view_count": null,
            "_view_module": "@jupyter-widgets/base",
            "_view_module_version": "1.2.0",
            "_view_name": "StyleView",
            "bar_color": null,
            "description_width": ""
          }
        },
        "305cf5ca9a784032bf5b1ee3453c1934": {
          "model_module": "@jupyter-widgets/base",
          "model_name": "LayoutModel",
          "model_module_version": "1.2.0",
          "state": {
            "_model_module": "@jupyter-widgets/base",
            "_model_module_version": "1.2.0",
            "_model_name": "LayoutModel",
            "_view_count": null,
            "_view_module": "@jupyter-widgets/base",
            "_view_module_version": "1.2.0",
            "_view_name": "LayoutView",
            "align_content": null,
            "align_items": null,
            "align_self": null,
            "border": null,
            "bottom": null,
            "display": null,
            "flex": null,
            "flex_flow": null,
            "grid_area": null,
            "grid_auto_columns": null,
            "grid_auto_flow": null,
            "grid_auto_rows": null,
            "grid_column": null,
            "grid_gap": null,
            "grid_row": null,
            "grid_template_areas": null,
            "grid_template_columns": null,
            "grid_template_rows": null,
            "height": null,
            "justify_content": null,
            "justify_items": null,
            "left": null,
            "margin": null,
            "max_height": null,
            "max_width": null,
            "min_height": null,
            "min_width": null,
            "object_fit": null,
            "object_position": null,
            "order": null,
            "overflow": null,
            "overflow_x": null,
            "overflow_y": null,
            "padding": null,
            "right": null,
            "top": null,
            "visibility": null,
            "width": null
          }
        },
        "e27bd9289ba84cba94d524078cc0f002": {
          "model_module": "@jupyter-widgets/controls",
          "model_name": "DescriptionStyleModel",
          "model_module_version": "1.5.0",
          "state": {
            "_model_module": "@jupyter-widgets/controls",
            "_model_module_version": "1.5.0",
            "_model_name": "DescriptionStyleModel",
            "_view_count": null,
            "_view_module": "@jupyter-widgets/base",
            "_view_module_version": "1.2.0",
            "_view_name": "StyleView",
            "description_width": ""
          }
        },
        "4d8dd28aa1e24a139b9bccd31402b500": {
          "model_module": "@jupyter-widgets/controls",
          "model_name": "HBoxModel",
          "model_module_version": "1.5.0",
          "state": {
            "_dom_classes": [],
            "_model_module": "@jupyter-widgets/controls",
            "_model_module_version": "1.5.0",
            "_model_name": "HBoxModel",
            "_view_count": null,
            "_view_module": "@jupyter-widgets/controls",
            "_view_module_version": "1.5.0",
            "_view_name": "HBoxView",
            "box_style": "",
            "children": [
              "IPY_MODEL_26608aa8964b42f4b41812022d4dd60d",
              "IPY_MODEL_7aabbcf38f9f4dde95bcff62f99190fa",
              "IPY_MODEL_d02829c46eb743d6927ba91500a5fec7"
            ],
            "layout": "IPY_MODEL_5a060c0cba8340c5a6f48f064115a277"
          }
        },
        "26608aa8964b42f4b41812022d4dd60d": {
          "model_module": "@jupyter-widgets/controls",
          "model_name": "HTMLModel",
          "model_module_version": "1.5.0",
          "state": {
            "_dom_classes": [],
            "_model_module": "@jupyter-widgets/controls",
            "_model_module_version": "1.5.0",
            "_model_name": "HTMLModel",
            "_view_count": null,
            "_view_module": "@jupyter-widgets/controls",
            "_view_module_version": "1.5.0",
            "_view_name": "HTMLView",
            "description": "",
            "description_tooltip": null,
            "layout": "IPY_MODEL_8b2f64c2b5b04dfcb850ce96ca197972",
            "placeholder": "​",
            "style": "IPY_MODEL_1e2fe3d155ce4be9b6fb82201d29b94e",
            "value": "Downloading (…)neration_config.json: 100%"
          }
        },
        "7aabbcf38f9f4dde95bcff62f99190fa": {
          "model_module": "@jupyter-widgets/controls",
          "model_name": "FloatProgressModel",
          "model_module_version": "1.5.0",
          "state": {
            "_dom_classes": [],
            "_model_module": "@jupyter-widgets/controls",
            "_model_module_version": "1.5.0",
            "_model_name": "FloatProgressModel",
            "_view_count": null,
            "_view_module": "@jupyter-widgets/controls",
            "_view_module_version": "1.5.0",
            "_view_name": "ProgressView",
            "bar_style": "success",
            "description": "",
            "description_tooltip": null,
            "layout": "IPY_MODEL_ab960240a09842b391a77e5c524912eb",
            "max": 147,
            "min": 0,
            "orientation": "horizontal",
            "style": "IPY_MODEL_a61e29a3596f414f98b6916010218182",
            "value": 147
          }
        },
        "d02829c46eb743d6927ba91500a5fec7": {
          "model_module": "@jupyter-widgets/controls",
          "model_name": "HTMLModel",
          "model_module_version": "1.5.0",
          "state": {
            "_dom_classes": [],
            "_model_module": "@jupyter-widgets/controls",
            "_model_module_version": "1.5.0",
            "_model_name": "HTMLModel",
            "_view_count": null,
            "_view_module": "@jupyter-widgets/controls",
            "_view_module_version": "1.5.0",
            "_view_name": "HTMLView",
            "description": "",
            "description_tooltip": null,
            "layout": "IPY_MODEL_89595179c4514272a448371ae6132ba0",
            "placeholder": "​",
            "style": "IPY_MODEL_418638f77ba74cd7b6eec097866796bd",
            "value": " 147/147 [00:00&lt;00:00, 3.63kB/s]"
          }
        },
        "5a060c0cba8340c5a6f48f064115a277": {
          "model_module": "@jupyter-widgets/base",
          "model_name": "LayoutModel",
          "model_module_version": "1.2.0",
          "state": {
            "_model_module": "@jupyter-widgets/base",
            "_model_module_version": "1.2.0",
            "_model_name": "LayoutModel",
            "_view_count": null,
            "_view_module": "@jupyter-widgets/base",
            "_view_module_version": "1.2.0",
            "_view_name": "LayoutView",
            "align_content": null,
            "align_items": null,
            "align_self": null,
            "border": null,
            "bottom": null,
            "display": null,
            "flex": null,
            "flex_flow": null,
            "grid_area": null,
            "grid_auto_columns": null,
            "grid_auto_flow": null,
            "grid_auto_rows": null,
            "grid_column": null,
            "grid_gap": null,
            "grid_row": null,
            "grid_template_areas": null,
            "grid_template_columns": null,
            "grid_template_rows": null,
            "height": null,
            "justify_content": null,
            "justify_items": null,
            "left": null,
            "margin": null,
            "max_height": null,
            "max_width": null,
            "min_height": null,
            "min_width": null,
            "object_fit": null,
            "object_position": null,
            "order": null,
            "overflow": null,
            "overflow_x": null,
            "overflow_y": null,
            "padding": null,
            "right": null,
            "top": null,
            "visibility": null,
            "width": null
          }
        },
        "8b2f64c2b5b04dfcb850ce96ca197972": {
          "model_module": "@jupyter-widgets/base",
          "model_name": "LayoutModel",
          "model_module_version": "1.2.0",
          "state": {
            "_model_module": "@jupyter-widgets/base",
            "_model_module_version": "1.2.0",
            "_model_name": "LayoutModel",
            "_view_count": null,
            "_view_module": "@jupyter-widgets/base",
            "_view_module_version": "1.2.0",
            "_view_name": "LayoutView",
            "align_content": null,
            "align_items": null,
            "align_self": null,
            "border": null,
            "bottom": null,
            "display": null,
            "flex": null,
            "flex_flow": null,
            "grid_area": null,
            "grid_auto_columns": null,
            "grid_auto_flow": null,
            "grid_auto_rows": null,
            "grid_column": null,
            "grid_gap": null,
            "grid_row": null,
            "grid_template_areas": null,
            "grid_template_columns": null,
            "grid_template_rows": null,
            "height": null,
            "justify_content": null,
            "justify_items": null,
            "left": null,
            "margin": null,
            "max_height": null,
            "max_width": null,
            "min_height": null,
            "min_width": null,
            "object_fit": null,
            "object_position": null,
            "order": null,
            "overflow": null,
            "overflow_x": null,
            "overflow_y": null,
            "padding": null,
            "right": null,
            "top": null,
            "visibility": null,
            "width": null
          }
        },
        "1e2fe3d155ce4be9b6fb82201d29b94e": {
          "model_module": "@jupyter-widgets/controls",
          "model_name": "DescriptionStyleModel",
          "model_module_version": "1.5.0",
          "state": {
            "_model_module": "@jupyter-widgets/controls",
            "_model_module_version": "1.5.0",
            "_model_name": "DescriptionStyleModel",
            "_view_count": null,
            "_view_module": "@jupyter-widgets/base",
            "_view_module_version": "1.2.0",
            "_view_name": "StyleView",
            "description_width": ""
          }
        },
        "ab960240a09842b391a77e5c524912eb": {
          "model_module": "@jupyter-widgets/base",
          "model_name": "LayoutModel",
          "model_module_version": "1.2.0",
          "state": {
            "_model_module": "@jupyter-widgets/base",
            "_model_module_version": "1.2.0",
            "_model_name": "LayoutModel",
            "_view_count": null,
            "_view_module": "@jupyter-widgets/base",
            "_view_module_version": "1.2.0",
            "_view_name": "LayoutView",
            "align_content": null,
            "align_items": null,
            "align_self": null,
            "border": null,
            "bottom": null,
            "display": null,
            "flex": null,
            "flex_flow": null,
            "grid_area": null,
            "grid_auto_columns": null,
            "grid_auto_flow": null,
            "grid_auto_rows": null,
            "grid_column": null,
            "grid_gap": null,
            "grid_row": null,
            "grid_template_areas": null,
            "grid_template_columns": null,
            "grid_template_rows": null,
            "height": null,
            "justify_content": null,
            "justify_items": null,
            "left": null,
            "margin": null,
            "max_height": null,
            "max_width": null,
            "min_height": null,
            "min_width": null,
            "object_fit": null,
            "object_position": null,
            "order": null,
            "overflow": null,
            "overflow_x": null,
            "overflow_y": null,
            "padding": null,
            "right": null,
            "top": null,
            "visibility": null,
            "width": null
          }
        },
        "a61e29a3596f414f98b6916010218182": {
          "model_module": "@jupyter-widgets/controls",
          "model_name": "ProgressStyleModel",
          "model_module_version": "1.5.0",
          "state": {
            "_model_module": "@jupyter-widgets/controls",
            "_model_module_version": "1.5.0",
            "_model_name": "ProgressStyleModel",
            "_view_count": null,
            "_view_module": "@jupyter-widgets/base",
            "_view_module_version": "1.2.0",
            "_view_name": "StyleView",
            "bar_color": null,
            "description_width": ""
          }
        },
        "89595179c4514272a448371ae6132ba0": {
          "model_module": "@jupyter-widgets/base",
          "model_name": "LayoutModel",
          "model_module_version": "1.2.0",
          "state": {
            "_model_module": "@jupyter-widgets/base",
            "_model_module_version": "1.2.0",
            "_model_name": "LayoutModel",
            "_view_count": null,
            "_view_module": "@jupyter-widgets/base",
            "_view_module_version": "1.2.0",
            "_view_name": "LayoutView",
            "align_content": null,
            "align_items": null,
            "align_self": null,
            "border": null,
            "bottom": null,
            "display": null,
            "flex": null,
            "flex_flow": null,
            "grid_area": null,
            "grid_auto_columns": null,
            "grid_auto_flow": null,
            "grid_auto_rows": null,
            "grid_column": null,
            "grid_gap": null,
            "grid_row": null,
            "grid_template_areas": null,
            "grid_template_columns": null,
            "grid_template_rows": null,
            "height": null,
            "justify_content": null,
            "justify_items": null,
            "left": null,
            "margin": null,
            "max_height": null,
            "max_width": null,
            "min_height": null,
            "min_width": null,
            "object_fit": null,
            "object_position": null,
            "order": null,
            "overflow": null,
            "overflow_x": null,
            "overflow_y": null,
            "padding": null,
            "right": null,
            "top": null,
            "visibility": null,
            "width": null
          }
        },
        "418638f77ba74cd7b6eec097866796bd": {
          "model_module": "@jupyter-widgets/controls",
          "model_name": "DescriptionStyleModel",
          "model_module_version": "1.5.0",
          "state": {
            "_model_module": "@jupyter-widgets/controls",
            "_model_module_version": "1.5.0",
            "_model_name": "DescriptionStyleModel",
            "_view_count": null,
            "_view_module": "@jupyter-widgets/base",
            "_view_module_version": "1.2.0",
            "_view_name": "StyleView",
            "description_width": ""
          }
        },
        "9cfe5362a4de40068ff0519c9a1e90a0": {
          "model_module": "@jupyter-widgets/controls",
          "model_name": "HBoxModel",
          "model_module_version": "1.5.0",
          "state": {
            "_dom_classes": [],
            "_model_module": "@jupyter-widgets/controls",
            "_model_module_version": "1.5.0",
            "_model_name": "HBoxModel",
            "_view_count": null,
            "_view_module": "@jupyter-widgets/controls",
            "_view_module_version": "1.5.0",
            "_view_name": "HBoxView",
            "box_style": "",
            "children": [
              "IPY_MODEL_1a1cd4fa964d483a8297bd79d4f817db",
              "IPY_MODEL_40ba21bf664f41458bac51ab0a6eb67e",
              "IPY_MODEL_859d6bbafd194e028c8862d69bf97b2f"
            ],
            "layout": "IPY_MODEL_88c4a8d11c06471c91c41aabee775970"
          }
        },
        "1a1cd4fa964d483a8297bd79d4f817db": {
          "model_module": "@jupyter-widgets/controls",
          "model_name": "HTMLModel",
          "model_module_version": "1.5.0",
          "state": {
            "_dom_classes": [],
            "_model_module": "@jupyter-widgets/controls",
            "_model_module_version": "1.5.0",
            "_model_name": "HTMLModel",
            "_view_count": null,
            "_view_module": "@jupyter-widgets/controls",
            "_view_module_version": "1.5.0",
            "_view_name": "HTMLView",
            "description": "",
            "description_tooltip": null,
            "layout": "IPY_MODEL_896688cd53124e588c24728d4fe9d8b5",
            "placeholder": "​",
            "style": "IPY_MODEL_8deb07aa439245f998d03a3a45bad1a7",
            "value": "Downloading (…)okenizer_config.json: 100%"
          }
        },
        "40ba21bf664f41458bac51ab0a6eb67e": {
          "model_module": "@jupyter-widgets/controls",
          "model_name": "FloatProgressModel",
          "model_module_version": "1.5.0",
          "state": {
            "_dom_classes": [],
            "_model_module": "@jupyter-widgets/controls",
            "_model_module_version": "1.5.0",
            "_model_name": "FloatProgressModel",
            "_view_count": null,
            "_view_module": "@jupyter-widgets/controls",
            "_view_module_version": "1.5.0",
            "_view_name": "ProgressView",
            "bar_style": "success",
            "description": "",
            "description_tooltip": null,
            "layout": "IPY_MODEL_5ca14aa5551f407ca5aad5724c14785d",
            "max": 1857,
            "min": 0,
            "orientation": "horizontal",
            "style": "IPY_MODEL_e54f1a99b6d94db0bb5bf973b1c30d0d",
            "value": 1857
          }
        },
        "859d6bbafd194e028c8862d69bf97b2f": {
          "model_module": "@jupyter-widgets/controls",
          "model_name": "HTMLModel",
          "model_module_version": "1.5.0",
          "state": {
            "_dom_classes": [],
            "_model_module": "@jupyter-widgets/controls",
            "_model_module_version": "1.5.0",
            "_model_name": "HTMLModel",
            "_view_count": null,
            "_view_module": "@jupyter-widgets/controls",
            "_view_module_version": "1.5.0",
            "_view_name": "HTMLView",
            "description": "",
            "description_tooltip": null,
            "layout": "IPY_MODEL_999b1bb9083f4261a44e95ff22be73a3",
            "placeholder": "​",
            "style": "IPY_MODEL_2cfbb4d8006545eea5b532c904136d08",
            "value": " 1.86k/1.86k [00:00&lt;00:00, 113kB/s]"
          }
        },
        "88c4a8d11c06471c91c41aabee775970": {
          "model_module": "@jupyter-widgets/base",
          "model_name": "LayoutModel",
          "model_module_version": "1.2.0",
          "state": {
            "_model_module": "@jupyter-widgets/base",
            "_model_module_version": "1.2.0",
            "_model_name": "LayoutModel",
            "_view_count": null,
            "_view_module": "@jupyter-widgets/base",
            "_view_module_version": "1.2.0",
            "_view_name": "LayoutView",
            "align_content": null,
            "align_items": null,
            "align_self": null,
            "border": null,
            "bottom": null,
            "display": null,
            "flex": null,
            "flex_flow": null,
            "grid_area": null,
            "grid_auto_columns": null,
            "grid_auto_flow": null,
            "grid_auto_rows": null,
            "grid_column": null,
            "grid_gap": null,
            "grid_row": null,
            "grid_template_areas": null,
            "grid_template_columns": null,
            "grid_template_rows": null,
            "height": null,
            "justify_content": null,
            "justify_items": null,
            "left": null,
            "margin": null,
            "max_height": null,
            "max_width": null,
            "min_height": null,
            "min_width": null,
            "object_fit": null,
            "object_position": null,
            "order": null,
            "overflow": null,
            "overflow_x": null,
            "overflow_y": null,
            "padding": null,
            "right": null,
            "top": null,
            "visibility": null,
            "width": null
          }
        },
        "896688cd53124e588c24728d4fe9d8b5": {
          "model_module": "@jupyter-widgets/base",
          "model_name": "LayoutModel",
          "model_module_version": "1.2.0",
          "state": {
            "_model_module": "@jupyter-widgets/base",
            "_model_module_version": "1.2.0",
            "_model_name": "LayoutModel",
            "_view_count": null,
            "_view_module": "@jupyter-widgets/base",
            "_view_module_version": "1.2.0",
            "_view_name": "LayoutView",
            "align_content": null,
            "align_items": null,
            "align_self": null,
            "border": null,
            "bottom": null,
            "display": null,
            "flex": null,
            "flex_flow": null,
            "grid_area": null,
            "grid_auto_columns": null,
            "grid_auto_flow": null,
            "grid_auto_rows": null,
            "grid_column": null,
            "grid_gap": null,
            "grid_row": null,
            "grid_template_areas": null,
            "grid_template_columns": null,
            "grid_template_rows": null,
            "height": null,
            "justify_content": null,
            "justify_items": null,
            "left": null,
            "margin": null,
            "max_height": null,
            "max_width": null,
            "min_height": null,
            "min_width": null,
            "object_fit": null,
            "object_position": null,
            "order": null,
            "overflow": null,
            "overflow_x": null,
            "overflow_y": null,
            "padding": null,
            "right": null,
            "top": null,
            "visibility": null,
            "width": null
          }
        },
        "8deb07aa439245f998d03a3a45bad1a7": {
          "model_module": "@jupyter-widgets/controls",
          "model_name": "DescriptionStyleModel",
          "model_module_version": "1.5.0",
          "state": {
            "_model_module": "@jupyter-widgets/controls",
            "_model_module_version": "1.5.0",
            "_model_name": "DescriptionStyleModel",
            "_view_count": null,
            "_view_module": "@jupyter-widgets/base",
            "_view_module_version": "1.2.0",
            "_view_name": "StyleView",
            "description_width": ""
          }
        },
        "5ca14aa5551f407ca5aad5724c14785d": {
          "model_module": "@jupyter-widgets/base",
          "model_name": "LayoutModel",
          "model_module_version": "1.2.0",
          "state": {
            "_model_module": "@jupyter-widgets/base",
            "_model_module_version": "1.2.0",
            "_model_name": "LayoutModel",
            "_view_count": null,
            "_view_module": "@jupyter-widgets/base",
            "_view_module_version": "1.2.0",
            "_view_name": "LayoutView",
            "align_content": null,
            "align_items": null,
            "align_self": null,
            "border": null,
            "bottom": null,
            "display": null,
            "flex": null,
            "flex_flow": null,
            "grid_area": null,
            "grid_auto_columns": null,
            "grid_auto_flow": null,
            "grid_auto_rows": null,
            "grid_column": null,
            "grid_gap": null,
            "grid_row": null,
            "grid_template_areas": null,
            "grid_template_columns": null,
            "grid_template_rows": null,
            "height": null,
            "justify_content": null,
            "justify_items": null,
            "left": null,
            "margin": null,
            "max_height": null,
            "max_width": null,
            "min_height": null,
            "min_width": null,
            "object_fit": null,
            "object_position": null,
            "order": null,
            "overflow": null,
            "overflow_x": null,
            "overflow_y": null,
            "padding": null,
            "right": null,
            "top": null,
            "visibility": null,
            "width": null
          }
        },
        "e54f1a99b6d94db0bb5bf973b1c30d0d": {
          "model_module": "@jupyter-widgets/controls",
          "model_name": "ProgressStyleModel",
          "model_module_version": "1.5.0",
          "state": {
            "_model_module": "@jupyter-widgets/controls",
            "_model_module_version": "1.5.0",
            "_model_name": "ProgressStyleModel",
            "_view_count": null,
            "_view_module": "@jupyter-widgets/base",
            "_view_module_version": "1.2.0",
            "_view_name": "StyleView",
            "bar_color": null,
            "description_width": ""
          }
        },
        "999b1bb9083f4261a44e95ff22be73a3": {
          "model_module": "@jupyter-widgets/base",
          "model_name": "LayoutModel",
          "model_module_version": "1.2.0",
          "state": {
            "_model_module": "@jupyter-widgets/base",
            "_model_module_version": "1.2.0",
            "_model_name": "LayoutModel",
            "_view_count": null,
            "_view_module": "@jupyter-widgets/base",
            "_view_module_version": "1.2.0",
            "_view_name": "LayoutView",
            "align_content": null,
            "align_items": null,
            "align_self": null,
            "border": null,
            "bottom": null,
            "display": null,
            "flex": null,
            "flex_flow": null,
            "grid_area": null,
            "grid_auto_columns": null,
            "grid_auto_flow": null,
            "grid_auto_rows": null,
            "grid_column": null,
            "grid_gap": null,
            "grid_row": null,
            "grid_template_areas": null,
            "grid_template_columns": null,
            "grid_template_rows": null,
            "height": null,
            "justify_content": null,
            "justify_items": null,
            "left": null,
            "margin": null,
            "max_height": null,
            "max_width": null,
            "min_height": null,
            "min_width": null,
            "object_fit": null,
            "object_position": null,
            "order": null,
            "overflow": null,
            "overflow_x": null,
            "overflow_y": null,
            "padding": null,
            "right": null,
            "top": null,
            "visibility": null,
            "width": null
          }
        },
        "2cfbb4d8006545eea5b532c904136d08": {
          "model_module": "@jupyter-widgets/controls",
          "model_name": "DescriptionStyleModel",
          "model_module_version": "1.5.0",
          "state": {
            "_model_module": "@jupyter-widgets/controls",
            "_model_module_version": "1.5.0",
            "_model_name": "DescriptionStyleModel",
            "_view_count": null,
            "_view_module": "@jupyter-widgets/base",
            "_view_module_version": "1.2.0",
            "_view_name": "StyleView",
            "description_width": ""
          }
        },
        "285fecf5e8214035bc7748a65b86336e": {
          "model_module": "@jupyter-widgets/controls",
          "model_name": "HBoxModel",
          "model_module_version": "1.5.0",
          "state": {
            "_dom_classes": [],
            "_model_module": "@jupyter-widgets/controls",
            "_model_module_version": "1.5.0",
            "_model_name": "HBoxModel",
            "_view_count": null,
            "_view_module": "@jupyter-widgets/controls",
            "_view_module_version": "1.5.0",
            "_view_name": "HBoxView",
            "box_style": "",
            "children": [
              "IPY_MODEL_120c1567636347c2ae17c50dd36d45fc",
              "IPY_MODEL_69d29dfd125d46aca336458742bbab44",
              "IPY_MODEL_3f65d0074bfc454980b7eaa334cb06da"
            ],
            "layout": "IPY_MODEL_d66b4dc3af12486d8ce420fab51314ab"
          }
        },
        "120c1567636347c2ae17c50dd36d45fc": {
          "model_module": "@jupyter-widgets/controls",
          "model_name": "HTMLModel",
          "model_module_version": "1.5.0",
          "state": {
            "_dom_classes": [],
            "_model_module": "@jupyter-widgets/controls",
            "_model_module_version": "1.5.0",
            "_model_name": "HTMLModel",
            "_view_count": null,
            "_view_module": "@jupyter-widgets/controls",
            "_view_module_version": "1.5.0",
            "_view_name": "HTMLView",
            "description": "",
            "description_tooltip": null,
            "layout": "IPY_MODEL_01a8255f607a40589ab0b4729ce09464",
            "placeholder": "​",
            "style": "IPY_MODEL_3881d6252c2a4100abfc68990102b422",
            "value": "Downloading (…)ve/main/spiece.model: 100%"
          }
        },
        "69d29dfd125d46aca336458742bbab44": {
          "model_module": "@jupyter-widgets/controls",
          "model_name": "FloatProgressModel",
          "model_module_version": "1.5.0",
          "state": {
            "_dom_classes": [],
            "_model_module": "@jupyter-widgets/controls",
            "_model_module_version": "1.5.0",
            "_model_name": "FloatProgressModel",
            "_view_count": null,
            "_view_module": "@jupyter-widgets/controls",
            "_view_module_version": "1.5.0",
            "_view_name": "ProgressView",
            "bar_style": "success",
            "description": "",
            "description_tooltip": null,
            "layout": "IPY_MODEL_bbeb2da63c8048b281d4a56563cfda2b",
            "max": 791656,
            "min": 0,
            "orientation": "horizontal",
            "style": "IPY_MODEL_2762960a681243b6ae21c2b998933cf5",
            "value": 791656
          }
        },
        "3f65d0074bfc454980b7eaa334cb06da": {
          "model_module": "@jupyter-widgets/controls",
          "model_name": "HTMLModel",
          "model_module_version": "1.5.0",
          "state": {
            "_dom_classes": [],
            "_model_module": "@jupyter-widgets/controls",
            "_model_module_version": "1.5.0",
            "_model_name": "HTMLModel",
            "_view_count": null,
            "_view_module": "@jupyter-widgets/controls",
            "_view_module_version": "1.5.0",
            "_view_name": "HTMLView",
            "description": "",
            "description_tooltip": null,
            "layout": "IPY_MODEL_c926db89bcee4fc4a8cec9c8d370ebdb",
            "placeholder": "​",
            "style": "IPY_MODEL_c8b9735b59cc4841b416c43f94a801da",
            "value": " 792k/792k [00:00&lt;00:00, 1.78MB/s]"
          }
        },
        "d66b4dc3af12486d8ce420fab51314ab": {
          "model_module": "@jupyter-widgets/base",
          "model_name": "LayoutModel",
          "model_module_version": "1.2.0",
          "state": {
            "_model_module": "@jupyter-widgets/base",
            "_model_module_version": "1.2.0",
            "_model_name": "LayoutModel",
            "_view_count": null,
            "_view_module": "@jupyter-widgets/base",
            "_view_module_version": "1.2.0",
            "_view_name": "LayoutView",
            "align_content": null,
            "align_items": null,
            "align_self": null,
            "border": null,
            "bottom": null,
            "display": null,
            "flex": null,
            "flex_flow": null,
            "grid_area": null,
            "grid_auto_columns": null,
            "grid_auto_flow": null,
            "grid_auto_rows": null,
            "grid_column": null,
            "grid_gap": null,
            "grid_row": null,
            "grid_template_areas": null,
            "grid_template_columns": null,
            "grid_template_rows": null,
            "height": null,
            "justify_content": null,
            "justify_items": null,
            "left": null,
            "margin": null,
            "max_height": null,
            "max_width": null,
            "min_height": null,
            "min_width": null,
            "object_fit": null,
            "object_position": null,
            "order": null,
            "overflow": null,
            "overflow_x": null,
            "overflow_y": null,
            "padding": null,
            "right": null,
            "top": null,
            "visibility": null,
            "width": null
          }
        },
        "01a8255f607a40589ab0b4729ce09464": {
          "model_module": "@jupyter-widgets/base",
          "model_name": "LayoutModel",
          "model_module_version": "1.2.0",
          "state": {
            "_model_module": "@jupyter-widgets/base",
            "_model_module_version": "1.2.0",
            "_model_name": "LayoutModel",
            "_view_count": null,
            "_view_module": "@jupyter-widgets/base",
            "_view_module_version": "1.2.0",
            "_view_name": "LayoutView",
            "align_content": null,
            "align_items": null,
            "align_self": null,
            "border": null,
            "bottom": null,
            "display": null,
            "flex": null,
            "flex_flow": null,
            "grid_area": null,
            "grid_auto_columns": null,
            "grid_auto_flow": null,
            "grid_auto_rows": null,
            "grid_column": null,
            "grid_gap": null,
            "grid_row": null,
            "grid_template_areas": null,
            "grid_template_columns": null,
            "grid_template_rows": null,
            "height": null,
            "justify_content": null,
            "justify_items": null,
            "left": null,
            "margin": null,
            "max_height": null,
            "max_width": null,
            "min_height": null,
            "min_width": null,
            "object_fit": null,
            "object_position": null,
            "order": null,
            "overflow": null,
            "overflow_x": null,
            "overflow_y": null,
            "padding": null,
            "right": null,
            "top": null,
            "visibility": null,
            "width": null
          }
        },
        "3881d6252c2a4100abfc68990102b422": {
          "model_module": "@jupyter-widgets/controls",
          "model_name": "DescriptionStyleModel",
          "model_module_version": "1.5.0",
          "state": {
            "_model_module": "@jupyter-widgets/controls",
            "_model_module_version": "1.5.0",
            "_model_name": "DescriptionStyleModel",
            "_view_count": null,
            "_view_module": "@jupyter-widgets/base",
            "_view_module_version": "1.2.0",
            "_view_name": "StyleView",
            "description_width": ""
          }
        },
        "bbeb2da63c8048b281d4a56563cfda2b": {
          "model_module": "@jupyter-widgets/base",
          "model_name": "LayoutModel",
          "model_module_version": "1.2.0",
          "state": {
            "_model_module": "@jupyter-widgets/base",
            "_model_module_version": "1.2.0",
            "_model_name": "LayoutModel",
            "_view_count": null,
            "_view_module": "@jupyter-widgets/base",
            "_view_module_version": "1.2.0",
            "_view_name": "LayoutView",
            "align_content": null,
            "align_items": null,
            "align_self": null,
            "border": null,
            "bottom": null,
            "display": null,
            "flex": null,
            "flex_flow": null,
            "grid_area": null,
            "grid_auto_columns": null,
            "grid_auto_flow": null,
            "grid_auto_rows": null,
            "grid_column": null,
            "grid_gap": null,
            "grid_row": null,
            "grid_template_areas": null,
            "grid_template_columns": null,
            "grid_template_rows": null,
            "height": null,
            "justify_content": null,
            "justify_items": null,
            "left": null,
            "margin": null,
            "max_height": null,
            "max_width": null,
            "min_height": null,
            "min_width": null,
            "object_fit": null,
            "object_position": null,
            "order": null,
            "overflow": null,
            "overflow_x": null,
            "overflow_y": null,
            "padding": null,
            "right": null,
            "top": null,
            "visibility": null,
            "width": null
          }
        },
        "2762960a681243b6ae21c2b998933cf5": {
          "model_module": "@jupyter-widgets/controls",
          "model_name": "ProgressStyleModel",
          "model_module_version": "1.5.0",
          "state": {
            "_model_module": "@jupyter-widgets/controls",
            "_model_module_version": "1.5.0",
            "_model_name": "ProgressStyleModel",
            "_view_count": null,
            "_view_module": "@jupyter-widgets/base",
            "_view_module_version": "1.2.0",
            "_view_name": "StyleView",
            "bar_color": null,
            "description_width": ""
          }
        },
        "c926db89bcee4fc4a8cec9c8d370ebdb": {
          "model_module": "@jupyter-widgets/base",
          "model_name": "LayoutModel",
          "model_module_version": "1.2.0",
          "state": {
            "_model_module": "@jupyter-widgets/base",
            "_model_module_version": "1.2.0",
            "_model_name": "LayoutModel",
            "_view_count": null,
            "_view_module": "@jupyter-widgets/base",
            "_view_module_version": "1.2.0",
            "_view_name": "LayoutView",
            "align_content": null,
            "align_items": null,
            "align_self": null,
            "border": null,
            "bottom": null,
            "display": null,
            "flex": null,
            "flex_flow": null,
            "grid_area": null,
            "grid_auto_columns": null,
            "grid_auto_flow": null,
            "grid_auto_rows": null,
            "grid_column": null,
            "grid_gap": null,
            "grid_row": null,
            "grid_template_areas": null,
            "grid_template_columns": null,
            "grid_template_rows": null,
            "height": null,
            "justify_content": null,
            "justify_items": null,
            "left": null,
            "margin": null,
            "max_height": null,
            "max_width": null,
            "min_height": null,
            "min_width": null,
            "object_fit": null,
            "object_position": null,
            "order": null,
            "overflow": null,
            "overflow_x": null,
            "overflow_y": null,
            "padding": null,
            "right": null,
            "top": null,
            "visibility": null,
            "width": null
          }
        },
        "c8b9735b59cc4841b416c43f94a801da": {
          "model_module": "@jupyter-widgets/controls",
          "model_name": "DescriptionStyleModel",
          "model_module_version": "1.5.0",
          "state": {
            "_model_module": "@jupyter-widgets/controls",
            "_model_module_version": "1.5.0",
            "_model_name": "DescriptionStyleModel",
            "_view_count": null,
            "_view_module": "@jupyter-widgets/base",
            "_view_module_version": "1.2.0",
            "_view_name": "StyleView",
            "description_width": ""
          }
        },
        "0646429cf15943acac76931bca484c6e": {
          "model_module": "@jupyter-widgets/controls",
          "model_name": "HBoxModel",
          "model_module_version": "1.5.0",
          "state": {
            "_dom_classes": [],
            "_model_module": "@jupyter-widgets/controls",
            "_model_module_version": "1.5.0",
            "_model_name": "HBoxModel",
            "_view_count": null,
            "_view_module": "@jupyter-widgets/controls",
            "_view_module_version": "1.5.0",
            "_view_name": "HBoxView",
            "box_style": "",
            "children": [
              "IPY_MODEL_96a5bf3e26b842dd8205a6c0204ebf48",
              "IPY_MODEL_127b3d70af4b470e85091bd0d1c29d24",
              "IPY_MODEL_c0ad9a70ab3d473a86e7d879eb6bed49"
            ],
            "layout": "IPY_MODEL_9f5abaf0a8f34f8997ed2f679aa1ec4b"
          }
        },
        "96a5bf3e26b842dd8205a6c0204ebf48": {
          "model_module": "@jupyter-widgets/controls",
          "model_name": "HTMLModel",
          "model_module_version": "1.5.0",
          "state": {
            "_dom_classes": [],
            "_model_module": "@jupyter-widgets/controls",
            "_model_module_version": "1.5.0",
            "_model_name": "HTMLModel",
            "_view_count": null,
            "_view_module": "@jupyter-widgets/controls",
            "_view_module_version": "1.5.0",
            "_view_name": "HTMLView",
            "description": "",
            "description_tooltip": null,
            "layout": "IPY_MODEL_434e9d7987a84f739e2ead6ca100a5d5",
            "placeholder": "​",
            "style": "IPY_MODEL_164428d18dd9421390f71c07a01d8957",
            "value": "Downloading (…)cial_tokens_map.json: 100%"
          }
        },
        "127b3d70af4b470e85091bd0d1c29d24": {
          "model_module": "@jupyter-widgets/controls",
          "model_name": "FloatProgressModel",
          "model_module_version": "1.5.0",
          "state": {
            "_dom_classes": [],
            "_model_module": "@jupyter-widgets/controls",
            "_model_module_version": "1.5.0",
            "_model_name": "FloatProgressModel",
            "_view_count": null,
            "_view_module": "@jupyter-widgets/controls",
            "_view_module_version": "1.5.0",
            "_view_name": "ProgressView",
            "bar_style": "success",
            "description": "",
            "description_tooltip": null,
            "layout": "IPY_MODEL_eea929af2ddc4afcb37f2289cb8cdd18",
            "max": 1786,
            "min": 0,
            "orientation": "horizontal",
            "style": "IPY_MODEL_3df43ca2341144739a0800d20988cfc6",
            "value": 1786
          }
        },
        "c0ad9a70ab3d473a86e7d879eb6bed49": {
          "model_module": "@jupyter-widgets/controls",
          "model_name": "HTMLModel",
          "model_module_version": "1.5.0",
          "state": {
            "_dom_classes": [],
            "_model_module": "@jupyter-widgets/controls",
            "_model_module_version": "1.5.0",
            "_model_name": "HTMLModel",
            "_view_count": null,
            "_view_module": "@jupyter-widgets/controls",
            "_view_module_version": "1.5.0",
            "_view_name": "HTMLView",
            "description": "",
            "description_tooltip": null,
            "layout": "IPY_MODEL_1f0676b648c2426ea85a88b63267a3d1",
            "placeholder": "​",
            "style": "IPY_MODEL_54263204f53c48cd8906c1e03906e658",
            "value": " 1.79k/1.79k [00:00&lt;00:00, 91.9kB/s]"
          }
        },
        "9f5abaf0a8f34f8997ed2f679aa1ec4b": {
          "model_module": "@jupyter-widgets/base",
          "model_name": "LayoutModel",
          "model_module_version": "1.2.0",
          "state": {
            "_model_module": "@jupyter-widgets/base",
            "_model_module_version": "1.2.0",
            "_model_name": "LayoutModel",
            "_view_count": null,
            "_view_module": "@jupyter-widgets/base",
            "_view_module_version": "1.2.0",
            "_view_name": "LayoutView",
            "align_content": null,
            "align_items": null,
            "align_self": null,
            "border": null,
            "bottom": null,
            "display": null,
            "flex": null,
            "flex_flow": null,
            "grid_area": null,
            "grid_auto_columns": null,
            "grid_auto_flow": null,
            "grid_auto_rows": null,
            "grid_column": null,
            "grid_gap": null,
            "grid_row": null,
            "grid_template_areas": null,
            "grid_template_columns": null,
            "grid_template_rows": null,
            "height": null,
            "justify_content": null,
            "justify_items": null,
            "left": null,
            "margin": null,
            "max_height": null,
            "max_width": null,
            "min_height": null,
            "min_width": null,
            "object_fit": null,
            "object_position": null,
            "order": null,
            "overflow": null,
            "overflow_x": null,
            "overflow_y": null,
            "padding": null,
            "right": null,
            "top": null,
            "visibility": null,
            "width": null
          }
        },
        "434e9d7987a84f739e2ead6ca100a5d5": {
          "model_module": "@jupyter-widgets/base",
          "model_name": "LayoutModel",
          "model_module_version": "1.2.0",
          "state": {
            "_model_module": "@jupyter-widgets/base",
            "_model_module_version": "1.2.0",
            "_model_name": "LayoutModel",
            "_view_count": null,
            "_view_module": "@jupyter-widgets/base",
            "_view_module_version": "1.2.0",
            "_view_name": "LayoutView",
            "align_content": null,
            "align_items": null,
            "align_self": null,
            "border": null,
            "bottom": null,
            "display": null,
            "flex": null,
            "flex_flow": null,
            "grid_area": null,
            "grid_auto_columns": null,
            "grid_auto_flow": null,
            "grid_auto_rows": null,
            "grid_column": null,
            "grid_gap": null,
            "grid_row": null,
            "grid_template_areas": null,
            "grid_template_columns": null,
            "grid_template_rows": null,
            "height": null,
            "justify_content": null,
            "justify_items": null,
            "left": null,
            "margin": null,
            "max_height": null,
            "max_width": null,
            "min_height": null,
            "min_width": null,
            "object_fit": null,
            "object_position": null,
            "order": null,
            "overflow": null,
            "overflow_x": null,
            "overflow_y": null,
            "padding": null,
            "right": null,
            "top": null,
            "visibility": null,
            "width": null
          }
        },
        "164428d18dd9421390f71c07a01d8957": {
          "model_module": "@jupyter-widgets/controls",
          "model_name": "DescriptionStyleModel",
          "model_module_version": "1.5.0",
          "state": {
            "_model_module": "@jupyter-widgets/controls",
            "_model_module_version": "1.5.0",
            "_model_name": "DescriptionStyleModel",
            "_view_count": null,
            "_view_module": "@jupyter-widgets/base",
            "_view_module_version": "1.2.0",
            "_view_name": "StyleView",
            "description_width": ""
          }
        },
        "eea929af2ddc4afcb37f2289cb8cdd18": {
          "model_module": "@jupyter-widgets/base",
          "model_name": "LayoutModel",
          "model_module_version": "1.2.0",
          "state": {
            "_model_module": "@jupyter-widgets/base",
            "_model_module_version": "1.2.0",
            "_model_name": "LayoutModel",
            "_view_count": null,
            "_view_module": "@jupyter-widgets/base",
            "_view_module_version": "1.2.0",
            "_view_name": "LayoutView",
            "align_content": null,
            "align_items": null,
            "align_self": null,
            "border": null,
            "bottom": null,
            "display": null,
            "flex": null,
            "flex_flow": null,
            "grid_area": null,
            "grid_auto_columns": null,
            "grid_auto_flow": null,
            "grid_auto_rows": null,
            "grid_column": null,
            "grid_gap": null,
            "grid_row": null,
            "grid_template_areas": null,
            "grid_template_columns": null,
            "grid_template_rows": null,
            "height": null,
            "justify_content": null,
            "justify_items": null,
            "left": null,
            "margin": null,
            "max_height": null,
            "max_width": null,
            "min_height": null,
            "min_width": null,
            "object_fit": null,
            "object_position": null,
            "order": null,
            "overflow": null,
            "overflow_x": null,
            "overflow_y": null,
            "padding": null,
            "right": null,
            "top": null,
            "visibility": null,
            "width": null
          }
        },
        "3df43ca2341144739a0800d20988cfc6": {
          "model_module": "@jupyter-widgets/controls",
          "model_name": "ProgressStyleModel",
          "model_module_version": "1.5.0",
          "state": {
            "_model_module": "@jupyter-widgets/controls",
            "_model_module_version": "1.5.0",
            "_model_name": "ProgressStyleModel",
            "_view_count": null,
            "_view_module": "@jupyter-widgets/base",
            "_view_module_version": "1.2.0",
            "_view_name": "StyleView",
            "bar_color": null,
            "description_width": ""
          }
        },
        "1f0676b648c2426ea85a88b63267a3d1": {
          "model_module": "@jupyter-widgets/base",
          "model_name": "LayoutModel",
          "model_module_version": "1.2.0",
          "state": {
            "_model_module": "@jupyter-widgets/base",
            "_model_module_version": "1.2.0",
            "_model_name": "LayoutModel",
            "_view_count": null,
            "_view_module": "@jupyter-widgets/base",
            "_view_module_version": "1.2.0",
            "_view_name": "LayoutView",
            "align_content": null,
            "align_items": null,
            "align_self": null,
            "border": null,
            "bottom": null,
            "display": null,
            "flex": null,
            "flex_flow": null,
            "grid_area": null,
            "grid_auto_columns": null,
            "grid_auto_flow": null,
            "grid_auto_rows": null,
            "grid_column": null,
            "grid_gap": null,
            "grid_row": null,
            "grid_template_areas": null,
            "grid_template_columns": null,
            "grid_template_rows": null,
            "height": null,
            "justify_content": null,
            "justify_items": null,
            "left": null,
            "margin": null,
            "max_height": null,
            "max_width": null,
            "min_height": null,
            "min_width": null,
            "object_fit": null,
            "object_position": null,
            "order": null,
            "overflow": null,
            "overflow_x": null,
            "overflow_y": null,
            "padding": null,
            "right": null,
            "top": null,
            "visibility": null,
            "width": null
          }
        },
        "54263204f53c48cd8906c1e03906e658": {
          "model_module": "@jupyter-widgets/controls",
          "model_name": "DescriptionStyleModel",
          "model_module_version": "1.5.0",
          "state": {
            "_model_module": "@jupyter-widgets/controls",
            "_model_module_version": "1.5.0",
            "_model_name": "DescriptionStyleModel",
            "_view_count": null,
            "_view_module": "@jupyter-widgets/base",
            "_view_module_version": "1.2.0",
            "_view_name": "StyleView",
            "description_width": ""
          }
        }
      }
    }
  },
  "nbformat": 4,
  "nbformat_minor": 0
}