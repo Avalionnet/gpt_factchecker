{
  "cells": [
    {
      "cell_type": "code",
      "execution_count": null,
      "metadata": {
        "id": "qFIL9Vb4HuFv"
      },
      "outputs": [],
      "source": [
        "# To mount our Google Drive folder if we are using Google Colab\n",
        "from google.colab import drive\n",
        "drive.mount('/content/drive')"
      ]
    },
    {
      "cell_type": "markdown",
      "metadata": {
        "id": "G-XT62iyCdxJ"
      },
      "source": [
        "# Installation Steps"
      ]
    },
    {
      "cell_type": "code",
      "execution_count": null,
      "metadata": {
        "id": "AR3o9WFlCYMV",
        "scrolled": true
      },
      "outputs": [],
      "source": [
        "#Installing PyTorch\n",
        "!pip3 install --quiet torch torchvision torchaudio\n",
        "\n",
        "#Install HuggingFace Transformer\n",
        "!pip install --quiet transformers\n",
        "\n",
        "#Install tqdm for progress bars\n",
        "!pip install --quiet tqdm\n",
        "\n",
        "#Essential for automodels where models are not directly from huggingface pre-trained libs\n",
        "!pip install --quiet sentencepiece\n",
        "\n",
        "#Install pytorch lightning\n",
        "!pip install --quiet git+https://github.com/PyTorchLightning/pytorch-lightning\n",
        "\n",
        "#Install tqdm for progress bar\n",
        "!pip install --quiet tqdm\n",
        "\n",
        "#Install pandas\n",
        "!pip install --quiet pandas\n",
        "\n",
        "#Install sklearn\n",
        "!pip install --quiet sklearn\n",
        "\n",
        "#Install termcolor\n",
        "!pip install --quiet termcolor\n",
        "\n",
        "#Install tensorflow\n",
        "!pip install --quiet tensorflow"
      ]
    },
    {
      "cell_type": "markdown",
      "source": [
        "## Specially for Jupyterhub"
      ],
      "metadata": {
        "id": "E42hrUsL6_kn"
      }
    },
    {
      "cell_type": "code",
      "execution_count": null,
      "metadata": {
        "id": "ksw3Ys4F6FeI",
        "outputId": "c9e39b3a-93bb-4e9c-c799-b86850e95507"
      },
      "outputs": [
        {
          "name": "stdout",
          "output_type": "stream",
          "text": [
            "Looking in links: https://download.pytorch.org/whl/torch_stable.html\r\n",
            "Requirement already satisfied: torch==1.9.0+cu111 in ./.local/lib/python3.8/site-packages (1.9.0+cu111)\r\n",
            "Requirement already satisfied: torchvision==0.10.0+cu111 in ./.local/lib/python3.8/site-packages (0.10.0+cu111)\r\n",
            "Requirement already satisfied: torchaudio==0.9.0 in ./.local/lib/python3.8/site-packages (0.9.0)\r\n",
            "Requirement already satisfied: typing-extensions in ./.local/lib/python3.8/site-packages (from torch==1.9.0+cu111) (4.4.0)\r\n",
            "Requirement already satisfied: numpy in ./.local/lib/python3.8/site-packages (from torchvision==0.10.0+cu111) (1.23.4)\r\n",
            "Requirement already satisfied: pillow>=5.3.0 in ./.local/lib/python3.8/site-packages (from torchvision==0.10.0+cu111) (9.2.0)\r\n"
          ]
        }
      ],
      "source": [
        "# for JupyterHub\n",
        "!pip3 install torch==1.9.0+cu111 torchvision==0.10.0+cu111 torchaudio==0.9.0 -f https://download.pytorch.org/whl/torch_stable.html\n"
      ]
    },
    {
      "cell_type": "code",
      "execution_count": null,
      "metadata": {
        "id": "zpU4yltX8e6y",
        "scrolled": false
      },
      "outputs": [],
      "source": [
        "!pip install --quiet pytorch-lightning==1.1.3"
      ]
    },
    {
      "cell_type": "code",
      "execution_count": null,
      "metadata": {
        "id": "jxiQL0thPQmo"
      },
      "outputs": [],
      "source": [
        "!pip install --quiet --upgrade pytorch-lightning\n",
        "!pip install --quiet --upgrade pip\n"
      ]
    },
    {
      "cell_type": "markdown",
      "metadata": {
        "id": "3OuOm5REGV6C"
      },
      "source": [
        "# Verify Installations"
      ]
    },
    {
      "cell_type": "code",
      "execution_count": null,
      "metadata": {
        "id": "z421MAIR6FeK"
      },
      "outputs": [],
      "source": [
        "!sudo apt install python3"
      ]
    },
    {
      "cell_type": "code",
      "execution_count": null,
      "metadata": {
        "id": "rdzRco3eFcdT"
      },
      "outputs": [],
      "source": [
        "#To test if HuggingFace is properly installed\n",
        "!python -c \"from transformers import pipeline; print(pipeline('sentiment-analysis')('we love you'))\""
      ]
    },
    {
      "cell_type": "markdown",
      "metadata": {
        "id": "AsRVDYioGajY"
      },
      "source": [
        "# Load T5X Model"
      ]
    },
    {
      "cell_type": "markdown",
      "metadata": {
        "id": "DSTkfYvkoG7f"
      },
      "source": [
        "Initialize and retrieve model for training"
      ]
    },
    {
      "cell_type": "code",
      "execution_count": null,
      "metadata": {
        "colab": {
          "base_uri": "https://localhost:8080/",
          "height": 177,
          "referenced_widgets": [
            "5c7d2f009d134f4485a516e0f3599d06",
            "30eed04a4b694ce3a60381c3a3cc8d88",
            "86ef6ebc0b824307b4a9d1594f3aa3a8",
            "ba09ad33b61c4bcda103fd215afda200",
            "ee72523ad4104eee864594f41a31349d",
            "7eda6ef16f3e457784e989a002dfbfbd",
            "b5439ab8e6974165a6a92560e22d63da",
            "e6543af5c22a470f8c65ed65c92c5fdd",
            "29cea1ec90e9428fb717cba969c7eb9f",
            "8ff281d4bfa84d258876a9d4d139eaf1",
            "9e2a19a87f504c81a3db897067d00965",
            "83d9b83e480343fe86b78e5ecd05919e",
            "05e9f151bbe041459ecad57a9a711ee7",
            "e8f8fdb765854566a231cf6cfbe50c22",
            "b138a84d3d7a4fc4bbdda73800d886ea",
            "ff9730e4a976445b863b2051fa1bae49",
            "6b6b82198b8f49e0b0c2b4a5483c9952",
            "2264444b5e6146e18c5c07a540422eb7",
            "21808f9ea0514ad08e23611ff4c1dd70",
            "536a5b41355a4d93aa37459a46238331",
            "34f7e5199c724b72b62f72c8c6652bbb",
            "35f9a92edf0541a1bdd75a70042ed569",
            "96bcaa4faf6246f183c9eae1128fdb4c",
            "eb0850ffa01242d0a75b1a8ffad876a9",
            "5df62e1c79d741d295c7f25d98b21156",
            "a247cd0bd7d349e3a92a5e0242d3d883",
            "afaf4ecf99534299920f4a65bb376194",
            "a8142313fb60491e9207f3f4efc07e6a",
            "b134bc7421b44e84a165b897bbe3ba93",
            "a5bcad296220437a8dd50c899029cf80",
            "acd6fc6b2da14030854a9a5759b50381",
            "743d7282f2494d40a70be09eb29df4bd",
            "df57e601b5764b9e980e9b234832c968",
            "544e76d05b254bcc8688b12b381c5be1",
            "03c59a6542c241138c64772261f56ea2",
            "f5795b3c4a2b43939f0e95710b9b31d9",
            "f35090840d1c4fcc8da3b292d1898ca7",
            "b949443bc76f45a884277f02e2a66cf9",
            "2ed3e1b0145a40e7a95b5302fd418db4",
            "5603a410d9c042c7a471f0aa197d3294",
            "060d0d15aaf64020ab64aae96441b142",
            "2d1e4827a33a401d914777c192e6b7f5",
            "fb60d016b26c4759a3827ebea8c7dfb6",
            "59e17224bf5c43a9b96557c25a550d55",
            "57766288e0874b82bd5c28dff67abcc9",
            "ed4b18185592415a8ae7a78232bc729e",
            "89134f76c41c4353a77abd9f42b295f8",
            "5f1d5cea8c7c47cc948ebe5e3561f083",
            "7408bba58a15464b9a2c47d1ff6d167a",
            "b1b55caeda62464682b5763e4da6d9c8",
            "faee4b9eda16447a807892596815886a",
            "842d5875f73a4a7eabecb843cf7bfc89",
            "7441819cf8fa4ababb5b0b22d46851ac",
            "7ba07849791c4541bbfda336c6fd3d81",
            "664fe35d7b534aa59c39b2db49cb7a3b"
          ]
        },
        "id": "3hKOPYg1F79L",
        "outputId": "2ce4d105-00fe-42a4-f7fe-9390622d15b4"
      },
      "outputs": [
        {
          "name": "stderr",
          "output_type": "stream",
          "text": [
            "/home/minglim/.local/lib/python3.8/site-packages/tqdm/auto.py:22: TqdmWarning: IProgress not found. Please update jupyter and ipywidgets. See https://ipywidgets.readthedocs.io/en/stable/user_install.html\n",
            "  from .autonotebook import tqdm as notebook_tqdm\n"
          ]
        }
      ],
      "source": [
        "from transformers import AutoTokenizer, AutoModelForSeq2SeqLM, TrainingArguments, Trainer, AdamW\n",
        "\n",
        "import torch\n",
        "from torch.utils.data import Dataset, DataLoader\n",
        "import pytorch_lightning as pl\n",
        "from pytorch_lightning.callbacks import ModelCheckpoint, TQDMProgressBar\n",
        "\n",
        "import pandas as pd\n",
        "import numpy as np\n",
        "\n",
        "from sklearn.model_selection import train_test_split\n",
        "from sklearn.metrics import accuracy_score, recall_score, precision_score, f1_score\n",
        "\n",
        "from termcolor import colored\n",
        "from tqdm import tqdm\n",
        "\n",
        "\n",
        "checkpoint = \"google/t5-v1_1-large\" #\"google/t5-v1_1-xl\"  #\"google/t5-v1_1-xl\" is too huge for google colab to handle\n",
        "\n",
        "model = AutoModelForSeq2SeqLM.from_pretrained(checkpoint)\n",
        "tokenizer = AutoTokenizer.from_pretrained(checkpoint)\n"
      ]
    },
    {
      "cell_type": "markdown",
      "metadata": {
        "id": "zaAWv9qfVFzh"
      },
      "source": [
        "# Further Data Preprocessing"
      ]
    },
    {
      "cell_type": "markdown",
      "metadata": {
        "id": "Vxrw_JQvtowO"
      },
      "source": [
        "## Fetch data from filtered csvs"
      ]
    },
    {
      "cell_type": "code",
      "execution_count": null,
      "metadata": {
        "colab": {
          "base_uri": "https://localhost:8080/",
          "height": 206
        },
        "id": "gQ0fRzTmVO_t",
        "outputId": "85a470c9-88cb-4d78-a31c-3fa2a70bf39e"
      },
      "outputs": [
        {
          "data": {
            "text/html": [
              "<div>\n",
              "<style scoped>\n",
              "    .dataframe tbody tr th:only-of-type {\n",
              "        vertical-align: middle;\n",
              "    }\n",
              "\n",
              "    .dataframe tbody tr th {\n",
              "        vertical-align: top;\n",
              "    }\n",
              "\n",
              "    .dataframe thead th {\n",
              "        text-align: right;\n",
              "    }\n",
              "</style>\n",
              "<table border=\"1\" class=\"dataframe\">\n",
              "  <thead>\n",
              "    <tr style=\"text-align: right;\">\n",
              "      <th></th>\n",
              "      <th>claim</th>\n",
              "      <th>justification</th>\n",
              "      <th>questions</th>\n",
              "    </tr>\n",
              "  </thead>\n",
              "  <tbody>\n",
              "    <tr>\n",
              "      <th>0</th>\n",
              "      <td>\"Unemployment is low because everyone has two ...</td>\n",
              "      <td>Ocasio-Cortez said, \"Unemployment is low becau...</td>\n",
              "      <td>['Can low unemployment rates be attributed to ...</td>\n",
              "    </tr>\n",
              "    <tr>\n",
              "      <th>1</th>\n",
              "      <td>Says the impeachment of President Donald Trump...</td>\n",
              "      <td>Gigot said if Trump is impeached, this would b...</td>\n",
              "      <td>['Have any presidents who have been impeached ...</td>\n",
              "    </tr>\n",
              "    <tr>\n",
              "      <th>2</th>\n",
              "      <td>\"When I withdrew in June of 2008, polls were s...</td>\n",
              "      <td>Clinton said, \"When I withdrew in June of 2008...</td>\n",
              "      <td>['Did Obama lose this level of potential suppo...</td>\n",
              "    </tr>\n",
              "    <tr>\n",
              "      <th>3</th>\n",
              "      <td>Text from someone “connected” to Raleigh polic...</td>\n",
              "      <td>A text message circulating through the Raleigh...</td>\n",
              "      <td>['Did this information come from the police of...</td>\n",
              "    </tr>\n",
              "    <tr>\n",
              "      <th>4</th>\n",
              "      <td>“Some states, like Montana and Nebraska, are g...</td>\n",
              "      <td>Cuomo tweeted, \"Some states, like Montana and ...</td>\n",
              "      <td>['Are some states getting $300,000 in federal ...</td>\n",
              "    </tr>\n",
              "  </tbody>\n",
              "</table>\n",
              "</div>"
            ],
            "text/plain": [
              "                                               claim  \\\n",
              "0  \"Unemployment is low because everyone has two ...   \n",
              "1  Says the impeachment of President Donald Trump...   \n",
              "2  \"When I withdrew in June of 2008, polls were s...   \n",
              "3  Text from someone “connected” to Raleigh polic...   \n",
              "4  “Some states, like Montana and Nebraska, are g...   \n",
              "\n",
              "                                       justification  \\\n",
              "0  Ocasio-Cortez said, \"Unemployment is low becau...   \n",
              "1  Gigot said if Trump is impeached, this would b...   \n",
              "2  Clinton said, \"When I withdrew in June of 2008...   \n",
              "3  A text message circulating through the Raleigh...   \n",
              "4  Cuomo tweeted, \"Some states, like Montana and ...   \n",
              "\n",
              "                                           questions  \n",
              "0  ['Can low unemployment rates be attributed to ...  \n",
              "1  ['Have any presidents who have been impeached ...  \n",
              "2  ['Did Obama lose this level of potential suppo...  \n",
              "3  ['Did this information come from the police of...  \n",
              "4  ['Are some states getting $300,000 in federal ...  "
            ]
          },
          "execution_count": 2,
          "metadata": {},
          "output_type": "execute_result"
        }
      ],
      "source": [
        "trainPath = \"./filtered_data/train.csv\"\n",
        "devPath = \"./filtered_data/dev.csv\"\n",
        "testPath = \"./filtered_data/test.csv\"\n",
        "\n",
        "# For Google Colab\n",
        "# trainPath = \"./drive/MyDrive/filtered_data/train.csv\"\n",
        "# devPath = \"./drive/MyDrive/filtered_data/dev.csv\"\n",
        "# testPath = \"./drive/MyDrive/filtered_data/test.csv\"\n",
        "\n",
        "dfTrain = pd.read_csv(trainPath)\n",
        "dfDev = pd.read_csv(devPath)\n",
        "dfTest = pd.read_csv(testPath)\n",
        "\n",
        "dfTrain.head()"
      ]
    },
    {
      "cell_type": "markdown",
      "metadata": {
        "id": "P9UlIjzpx3AQ"
      },
      "source": [
        "## Optional code to verify dataframe"
      ]
    },
    {
      "cell_type": "code",
      "execution_count": null,
      "metadata": {
        "id": "35vSOt3nx1Gr",
        "outputId": "ee20e5c5-dca9-4b51-97ea-0e9d7b2b8ee6"
      },
      "outputs": [
        {
          "name": "stdout",
          "output_type": "stream",
          "text": [
            "<class 'str'>\n"
          ]
        },
        {
          "data": {
            "text/plain": [
              "\"['Can low unemployment rates be attributed to everyone having 2 jobs?', 'Is unemployment even currently low because of factors stated by Ocasio Cortez?', 'Can low unemployment be attributed to long work hours?', 'Do most people in this country work two jobs?', 'Do most people in this country work up to 80 hours a week?', 'Have rates for either of these factors reached a historic high?', 'Do government organization use either of these factors in evaluating unemployment?']\""
            ]
          },
          "execution_count": 3,
          "metadata": {},
          "output_type": "execute_result"
        }
      ],
      "source": [
        "#Questions are of type str\n",
        "print(type(dfTrain.loc[0, 'questions']))\n",
        "dfTrain.loc[0, 'questions']"
      ]
    },
    {
      "cell_type": "markdown",
      "metadata": {
        "id": "ofMRzLx69LCT"
      },
      "source": [
        "## Preprocess Question strings"
      ]
    },
    {
      "cell_type": "code",
      "execution_count": null,
      "metadata": {
        "colab": {
          "base_uri": "https://localhost:8080/"
        },
        "id": "8gSQ3bQp9Qq5",
        "outputId": "5233eafb-5843-42df-fa53-6c98b6a2b65b"
      },
      "outputs": [
        {
          "name": "stdout",
          "output_type": "stream",
          "text": [
            "\n",
            "Processing train df questions\n"
          ]
        },
        {
          "name": "stderr",
          "output_type": "stream",
          "text": [
            "100%|██████████| 793/793 [00:00<00:00, 11830.87it/s]\n"
          ]
        },
        {
          "name": "stdout",
          "output_type": "stream",
          "text": [
            "\n",
            "Processing dev df questions\n"
          ]
        },
        {
          "name": "stderr",
          "output_type": "stream",
          "text": [
            "100%|██████████| 197/197 [00:00<00:00, 12751.79it/s]\n"
          ]
        },
        {
          "name": "stdout",
          "output_type": "stream",
          "text": [
            "\n",
            "Processing test df questions\n"
          ]
        },
        {
          "name": "stderr",
          "output_type": "stream",
          "text": [
            "100%|██████████| 200/200 [00:00<00:00, 12886.52it/s]\n"
          ]
        }
      ],
      "source": [
        "# Remove starting [' and ending '] and add custom divider between sub-questions\n",
        "def preprocessQuestions(df, divider, toReplace):\n",
        "  for i in tqdm(range(len(df))):\n",
        "    qsnStr = df[i]\n",
        "    qsnStr = qsnStr[2:-2]\n",
        "    df[i] = qsnStr.replace(toReplace, divider)\n",
        "    \n",
        "\n",
        "qDivider = \" \"\n",
        "toReplace = \"', '\"\n",
        "\n",
        "print(\"\\nProcessing train df questions\")\n",
        "preprocessQuestions(dfTrain.loc[ : , \"questions\"], qDivider, toReplace)\n",
        "print(\"\\nProcessing dev df questions\")\n",
        "preprocessQuestions(dfDev.loc[ : , \"questions\"], qDivider, toReplace)\n",
        "print(\"\\nProcessing test df questions\")\n",
        "preprocessQuestions(dfTest.loc[ : , \"questions\"], qDivider, toReplace)\n"
      ]
    },
    {
      "cell_type": "code",
      "execution_count": null,
      "metadata": {
        "colab": {
          "base_uri": "https://localhost:8080/"
        },
        "id": "oBXe7XRBfbYm",
        "outputId": "2cabc800-a816-4766-b870-90a704c8128d"
      },
      "outputs": [
        {
          "name": "stdout",
          "output_type": "stream",
          "text": [
            "\n",
            "Adding prefix for train df questions\n"
          ]
        },
        {
          "name": "stderr",
          "output_type": "stream",
          "text": [
            "100%|██████████| 793/793 [00:00<00:00, 11959.34it/s]\n"
          ]
        },
        {
          "name": "stdout",
          "output_type": "stream",
          "text": [
            "\n",
            "Adding prefix for dev df questions\n"
          ]
        },
        {
          "name": "stderr",
          "output_type": "stream",
          "text": [
            "100%|██████████| 197/197 [00:00<00:00, 13394.90it/s]\n"
          ]
        },
        {
          "name": "stdout",
          "output_type": "stream",
          "text": [
            "\n",
            "Adding prefix for test df questions\n"
          ]
        },
        {
          "name": "stderr",
          "output_type": "stream",
          "text": [
            "100%|██████████| 200/200 [00:00<00:00, 13713.82it/s]\n"
          ]
        }
      ],
      "source": [
        "# Prepend prefix to claims\n",
        "def addPrefix(df, prefix):\n",
        "  for i in tqdm(range(len(df))):\n",
        "    df[i] = prefix + df[i]\n",
        "    \n",
        "prefix = \"Generate Questions: \"\n",
        "\n",
        "print(\"\\nAdding prefix for train df questions\")\n",
        "addPrefix(dfTrain.loc[ : , \"claim\"], prefix)\n",
        "print(\"\\nAdding prefix for dev df questions\")\n",
        "addPrefix(dfDev.loc[ : , \"claim\"], prefix)\n",
        "print(\"\\nAdding prefix for test df questions\")\n",
        "addPrefix(dfTest.loc[ : , \"claim\"], prefix)\n"
      ]
    },
    {
      "cell_type": "code",
      "execution_count": null,
      "metadata": {
        "colab": {
          "base_uri": "https://localhost:8080/"
        },
        "id": "GaKRduT_pmss",
        "outputId": "22f32b9e-a3db-4403-cd35-08655d8eccf5"
      },
      "outputs": [
        {
          "name": "stdout",
          "output_type": "stream",
          "text": [
            "\n",
            "Adding prefix for train df justification\n"
          ]
        },
        {
          "name": "stderr",
          "output_type": "stream",
          "text": [
            "100%|██████████| 793/793 [00:00<00:00, 11714.82it/s]\n"
          ]
        },
        {
          "name": "stdout",
          "output_type": "stream",
          "text": [
            "\n",
            "Adding prefix for dev df justification\n"
          ]
        },
        {
          "name": "stderr",
          "output_type": "stream",
          "text": [
            "100%|██████████| 197/197 [00:00<00:00, 13181.85it/s]\n"
          ]
        },
        {
          "name": "stdout",
          "output_type": "stream",
          "text": [
            "\n",
            "Adding prefix for test df justification\n"
          ]
        },
        {
          "name": "stderr",
          "output_type": "stream",
          "text": [
            "100%|██████████| 200/200 [00:00<00:00, 13063.93it/s]\n"
          ]
        }
      ],
      "source": [
        "# Prepend prefix to justifications\n",
        "jPrefix = \"Justification: \"\n",
        "\n",
        "print(\"\\nAdding prefix for train df justification\")\n",
        "addPrefix(dfTrain.loc[ : , \"justification\"], jPrefix)\n",
        "print(\"\\nAdding prefix for dev df justification\")\n",
        "addPrefix(dfDev.loc[ : , \"justification\"], jPrefix)\n",
        "print(\"\\nAdding prefix for test df justification\")\n",
        "addPrefix(dfTest.loc[ : , \"justification\"], jPrefix)"
      ]
    },
    {
      "cell_type": "code",
      "execution_count": null,
      "metadata": {
        "colab": {
          "base_uri": "https://localhost:8080/",
          "height": 206
        },
        "id": "jfpUFLOorR4-",
        "outputId": "e23f8d5a-e5ca-440d-b9b1-54a3c98e9cde"
      },
      "outputs": [
        {
          "data": {
            "text/html": [
              "<div>\n",
              "<style scoped>\n",
              "    .dataframe tbody tr th:only-of-type {\n",
              "        vertical-align: middle;\n",
              "    }\n",
              "\n",
              "    .dataframe tbody tr th {\n",
              "        vertical-align: top;\n",
              "    }\n",
              "\n",
              "    .dataframe thead th {\n",
              "        text-align: right;\n",
              "    }\n",
              "</style>\n",
              "<table border=\"1\" class=\"dataframe\">\n",
              "  <thead>\n",
              "    <tr style=\"text-align: right;\">\n",
              "      <th></th>\n",
              "      <th>claim</th>\n",
              "      <th>justification</th>\n",
              "      <th>questions</th>\n",
              "    </tr>\n",
              "  </thead>\n",
              "  <tbody>\n",
              "    <tr>\n",
              "      <th>0</th>\n",
              "      <td>Generate Questions: \"Unemployment is low becau...</td>\n",
              "      <td>Justification: Ocasio-Cortez said, \"Unemployme...</td>\n",
              "      <td>Can low unemployment rates be attributed to ev...</td>\n",
              "    </tr>\n",
              "    <tr>\n",
              "      <th>1</th>\n",
              "      <td>Generate Questions: Says the impeachment of Pr...</td>\n",
              "      <td>Justification: Gigot said if Trump is impeache...</td>\n",
              "      <td>Have any presidents who have been impeached in...</td>\n",
              "    </tr>\n",
              "    <tr>\n",
              "      <th>2</th>\n",
              "      <td>Generate Questions: \"When I withdrew in June o...</td>\n",
              "      <td>Justification: Clinton said, \"When I withdrew ...</td>\n",
              "      <td>Did Obama lose this level of potential support...</td>\n",
              "    </tr>\n",
              "    <tr>\n",
              "      <th>3</th>\n",
              "      <td>Generate Questions: Text from someone “connect...</td>\n",
              "      <td>Justification: A text message circulating thro...</td>\n",
              "      <td>Did this information come from the police of t...</td>\n",
              "    </tr>\n",
              "    <tr>\n",
              "      <th>4</th>\n",
              "      <td>Generate Questions: “Some states, like Montana...</td>\n",
              "      <td>Justification: Cuomo tweeted, \"Some states, li...</td>\n",
              "      <td>Are some states getting $300,000 in federal st...</td>\n",
              "    </tr>\n",
              "  </tbody>\n",
              "</table>\n",
              "</div>"
            ],
            "text/plain": [
              "                                               claim  \\\n",
              "0  Generate Questions: \"Unemployment is low becau...   \n",
              "1  Generate Questions: Says the impeachment of Pr...   \n",
              "2  Generate Questions: \"When I withdrew in June o...   \n",
              "3  Generate Questions: Text from someone “connect...   \n",
              "4  Generate Questions: “Some states, like Montana...   \n",
              "\n",
              "                                       justification  \\\n",
              "0  Justification: Ocasio-Cortez said, \"Unemployme...   \n",
              "1  Justification: Gigot said if Trump is impeache...   \n",
              "2  Justification: Clinton said, \"When I withdrew ...   \n",
              "3  Justification: A text message circulating thro...   \n",
              "4  Justification: Cuomo tweeted, \"Some states, li...   \n",
              "\n",
              "                                           questions  \n",
              "0  Can low unemployment rates be attributed to ev...  \n",
              "1  Have any presidents who have been impeached in...  \n",
              "2  Did Obama lose this level of potential support...  \n",
              "3  Did this information come from the police of t...  \n",
              "4  Are some states getting $300,000 in federal st...  "
            ]
          },
          "execution_count": 7,
          "metadata": {},
          "output_type": "execute_result"
        }
      ],
      "source": [
        "# Check dataset\n",
        "dfTrain.head()"
      ]
    },
    {
      "cell_type": "markdown",
      "metadata": {
        "id": "v34wXmBPtuy8"
      },
      "source": [
        "## Create Torch Dataset Class for our custom dataframe"
      ]
    },
    {
      "cell_type": "code",
      "execution_count": null,
      "metadata": {
        "id": "-iSwqyTdt9IC"
      },
      "outputs": [],
      "source": [
        "class ClaimDecompDataset(Dataset):\n",
        "\n",
        "  def __init__(\n",
        "      self,\n",
        "      data: pd.DataFrame,\n",
        "      tokenizer: AutoTokenizer,\n",
        "      source_max_tok_len: int = 850,\n",
        "      target_max_tok_len: int = 500\n",
        "  ):\n",
        "    self.tokenizer = tokenizer\n",
        "    self.data = data\n",
        "    self.source_max_token_len = source_max_tok_len\n",
        "    self.target_max_token_len = target_max_tok_len\n",
        "\n",
        "  def __len__(self):\n",
        "    return len(self.data)\n",
        "\n",
        "  def __getitem__(self, index: int):\n",
        "    sample_row = self.data.iloc[index]\n",
        "\n",
        "    source_encoding = tokenizer(\n",
        "        sample_row[\"claim\"],\n",
        "        sample_row[\"justification\"],\n",
        "        max_length = self.source_max_token_len,\n",
        "        padding=\"max_length\",\n",
        "        truncation=\"only_second\",\n",
        "        return_attention_mask=True,\n",
        "        add_special_tokens=True,\n",
        "        return_tensors=\"pt\"\n",
        "    )\n",
        "\n",
        "    target_encoding = tokenizer(\n",
        "        sample_row[\"questions\"],\n",
        "        max_length = self.target_max_token_len,\n",
        "        padding=\"max_length\",\n",
        "        truncation=True,\n",
        "        return_attention_mask=True,\n",
        "        add_special_tokens=True,\n",
        "        return_tensors=\"pt\"\n",
        "    )\n",
        "\n",
        "    labels = target_encoding[\"input_ids\"]\n",
        "    labels[labels == 0] = -100\n",
        "\n",
        "    return dict(\n",
        "      claim = sample_row[\"claim\"],\n",
        "      justification = sample_row[\"justification\"],\n",
        "      questions = sample_row[\"questions\"],\n",
        "      input_ids = source_encoding[\"input_ids\"].flatten(),\n",
        "      attention_mask = source_encoding[\"attention_mask\"].flatten(),\n",
        "      labels = labels.flatten()\n",
        "    )"
      ]
    },
    {
      "cell_type": "markdown",
      "metadata": {
        "id": "LE_vqa4QGybZ"
      },
      "source": [
        "# Fine-tuning our T5X Model"
      ]
    },
    {
      "cell_type": "markdown",
      "metadata": {
        "id": "kGGftwCIBZsc"
      },
      "source": [
        "### Initialize Dataset for Alternative 1"
      ]
    },
    {
      "cell_type": "code",
      "execution_count": null,
      "metadata": {
        "id": "z29Js6K2BiSo"
      },
      "outputs": [],
      "source": [
        "train_dataset = ClaimDecompDataset(dfTrain, tokenizer)\n",
        "dev_dataset = ClaimDecompDataset(dfDev, tokenizer)\n",
        "test_dataset = ClaimDecompDataset(dfTest, tokenizer)\n",
        "\n",
        "dev_dataset.data.shape"
      ]
    },
    {
      "cell_type": "markdown",
      "metadata": {
        "id": "IONjefrKE9xq"
      },
      "source": [
        "The following cell contains code to observe what fields each data entry in the dataset contains"
      ]
    },
    {
      "cell_type": "code",
      "execution_count": null,
      "metadata": {
        "id": "ctVTIbPiC_QE"
      },
      "outputs": [],
      "source": [
        "#Preview data in custom constructed dataset\n",
        "for data in dev_dataset:\n",
        "  print(data[\"claim\"])\n",
        "  print(\"\\n\")\n",
        "  print(data[\"justification\"])\n",
        "  print(\"\\n\")\n",
        "  print(data[\"questions\"])\n",
        "  print(\"\\n\")\n",
        "  print(data[\"input_ids\"][:10])\n",
        "  print(data[\"labels\"][:10])\n",
        "  print(\"\\n\")\n",
        "  print(tokenizer.decode(data[\"labels\"].squeeze()))\n",
        "  break\n",
        "  "
      ]
    },
    {
      "cell_type": "markdown",
      "metadata": {
        "id": "wVcz8CtkV_PW"
      },
      "source": [
        "### Alternative 1\n",
        "\n",
        "Using HuggingFace Transformer Trainer classes"
      ]
    },
    {
      "cell_type": "code",
      "execution_count": null,
      "metadata": {
        "id": "P4e2OoyGJXkL"
      },
      "outputs": [],
      "source": [
        "def compute_metrics(p):\n",
        "    pred, labels = p\n",
        "    pred = np.argmax(pred, axis=1)\n",
        "\n",
        "    accuracy = accuracy_score(y_true=labels, y_pred=pred)\n",
        "    recall = recall_score(y_true=labels, y_pred=pred)\n",
        "    # precision = precision_score(y_true=labels, y_pred=pred)\n",
        "    f1 = f1_score(y_true=labels, y_pred=pred)\n",
        "\n",
        "    # return {\"accuracy\": accuracy, \"precision\": precision, \"recall\": recall, \"f1\": f1}\n",
        "    return {\"accuracy\": accuracy, \"recall\": recall, \"f1\": f1}"
      ]
    },
    {
      "cell_type": "code",
      "execution_count": null,
      "metadata": {
        "id": "eqMu7_r0G3KU"
      },
      "outputs": [],
      "source": [
        "args = TrainingArguments(\n",
        "    output_dir=\"output\",\n",
        "    evaluation_strategy=\"steps\",\n",
        "    eval_steps=100,\n",
        "    per_device_train_batch_size=1,\n",
        "    per_device_eval_batch_size=1,\n",
        "    num_train_epochs=2,\n",
        "    seed=0,\n",
        "    load_best_model_at_end=True,\n",
        ")\n",
        "\n",
        "trainer = Trainer(\n",
        "    model=model,\n",
        "    args=args,\n",
        "    train_dataset=train_dataset,\n",
        "    eval_dataset=dev_dataset,\n",
        "    compute_metrics=compute_metrics,\n",
        ")"
      ]
    },
    {
      "cell_type": "code",
      "execution_count": null,
      "metadata": {
        "id": "OnEIgGyml6Fj"
      },
      "outputs": [],
      "source": [
        "import torch\n",
        "torch.cuda.empty_cache()"
      ]
    },
    {
      "cell_type": "code",
      "execution_count": null,
      "metadata": {
        "id": "YR0UMY9qODQt"
      },
      "outputs": [],
      "source": [
        "trainer.train()"
      ]
    },
    {
      "cell_type": "code",
      "execution_count": null,
      "metadata": {
        "id": "hDE6625WwSqm"
      },
      "outputs": [],
      "source": [
        "trainer.save_model(\"output/claimDecompModelV1\")"
      ]
    },
    {
      "cell_type": "code",
      "execution_count": null,
      "metadata": {
        "id": "UCWx2oLr1BPx"
      },
      "outputs": [],
      "source": [
        "modelz = AutoModelForSeq2SeqLM.from_pretrained(\"output/claimDecompModelV1\")"
      ]
    },
    {
      "cell_type": "markdown",
      "metadata": {
        "id": "rRk88FBUWQdC"
      },
      "source": [
        "### Alternative 2\n",
        "\n",
        "Creating our own lightning module"
      ]
    },
    {
      "cell_type": "markdown",
      "metadata": {
        "id": "KrANn-KfpWa1"
      },
      "source": [
        "#### Building our lightning module"
      ]
    },
    {
      "cell_type": "code",
      "execution_count": null,
      "metadata": {
        "id": "riDqZZiWWYtL"
      },
      "outputs": [],
      "source": [
        "class ClaimDecompDataModule(pl.LightningDataModule):\n",
        "\n",
        "  def __init__(\n",
        "      self,\n",
        "      train_df: pd.DataFrame,\n",
        "      test_df: pd.DataFrame,\n",
        "      tokenizer: AutoTokenizer,\n",
        "      batch_size: int = 4,\n",
        "      source_max_token_len: int = 850,\n",
        "      target_max_token_len: int = 500\n",
        "  ):\n",
        "    super().__init__()\n",
        "    self.batch_size = batch_size\n",
        "    self.train_df = train_df\n",
        "    self.test_df = test_df\n",
        "    self.tokenizer = tokenizer\n",
        "    self.source_max_token_len = source_max_token_len\n",
        "    self.target_max_token_len = target_max_token_len\n",
        "\n",
        "  def setup(self, stage=None):\n",
        "    self.train_dataset = ClaimDecompDataset(\n",
        "        self.train_df,\n",
        "        self.tokenizer,\n",
        "        self.source_max_token_len,\n",
        "        self.target_max_token_len\n",
        "    )\n",
        "\n",
        "    self.test_dataset = ClaimDecompDataset(\n",
        "        self.test_df,\n",
        "        self.tokenizer,\n",
        "        self.source_max_token_len,\n",
        "        self.target_max_token_len\n",
        "    )\n",
        "\n",
        "  def train_dataloader(self):\n",
        "    return DataLoader(\n",
        "        self.train_dataset,\n",
        "        batch_size = self.batch_size,\n",
        "        shuffle = True,\n",
        "        num_workers = 4\n",
        "    )\n",
        "\n",
        "  def val_dataloader(self):\n",
        "    return DataLoader(\n",
        "        self.test_dataset,\n",
        "        batch_size = 1,\n",
        "        num_workers = 4\n",
        "    )\n",
        "\n",
        "  def test_dataloader(self):\n",
        "    return DataLoader(\n",
        "        self.test_dataset,\n",
        "        batch_size = 1,\n",
        "        num_workers = 4\n",
        "    )\n"
      ]
    },
    {
      "cell_type": "markdown",
      "metadata": {
        "id": "Gyi_0YocknGD"
      },
      "source": [
        "#### Establish key parameters"
      ]
    },
    {
      "cell_type": "code",
      "execution_count": null,
      "metadata": {
        "id": "RCLnyN9fWYfJ"
      },
      "outputs": [],
      "source": [
        "BATCH_SIZE = 1\n",
        "N_EPOCHS = 6\n",
        "\n",
        "data_module = ClaimDecompDataModule(dfTrain, dfDev, tokenizer, batch_size=BATCH_SIZE)\n",
        "data_module.setup()"
      ]
    },
    {
      "cell_type": "markdown",
      "metadata": {
        "id": "9Bt0f_5Sos0H"
      },
      "source": [
        "#### Build custom model in native Pytorch"
      ]
    },
    {
      "cell_type": "code",
      "execution_count": null,
      "metadata": {
        "id": "3csHxgP3oskw"
      },
      "outputs": [],
      "source": [
        "class ClaimDecompModel(pl.LightningModule):\n",
        "  \n",
        "  def __init__(self):\n",
        "    super().__init__()\n",
        "    self.model = AutoModelForSeq2SeqLM.from_pretrained(\"google/t5-v1_1-large\")\n",
        "\n",
        "  def forward(self, input_ids, attention_mask, labels = None):\n",
        "    output = self.model(\n",
        "        input_ids = input_ids,\n",
        "        attention_mask = attention_mask,\n",
        "        labels = labels\n",
        "    )\n",
        "\n",
        "    return output.loss, output.logits\n",
        "\n",
        "  def training_step(self, batch, batch_idx):\n",
        "    input_ids = batch[\"input_ids\"]\n",
        "    attention_mask = batch[\"attention_mask\"]\n",
        "    labels = batch[\"labels\"]\n",
        "    loss, outputs = self(input_ids, attention_mask, labels)\n",
        "    self.log(\"train_loss\", loss, prog_bar = True, logger = True)\n",
        "    return loss\n",
        "\n",
        "  def validation_step(self, batch, batch_idx):\n",
        "    input_ids = batch[\"input_ids\"]\n",
        "    attention_mask = batch[\"attention_mask\"]\n",
        "    labels = batch[\"labels\"]\n",
        "    loss, outputs = self(input_ids, attention_mask, labels)\n",
        "    self.log(\"val_loss\", loss, prog_bar = True, logger = True)\n",
        "    return loss\n",
        "\n",
        "  def test_step(self, batch, batch_idx):\n",
        "    input_ids = batch[\"input_ids\"]\n",
        "    attention_mask = batch[\"attention_mask\"]\n",
        "    labels = batch[\"labels\"]\n",
        "    loss, outputs = self(input_ids, attention_mask, labels)\n",
        "    self.log(\"test_loss\", loss, prog_bar = True, logger = True)\n",
        "    return loss\n",
        "\n",
        "  def configure_optimizers(self):\n",
        "    return AdamW(self.parameters(), lr=0.0001)  \n"
      ]
    },
    {
      "cell_type": "code",
      "execution_count": null,
      "metadata": {
        "id": "JCLjaMkBt-Xe"
      },
      "outputs": [],
      "source": [
        "customModel = ClaimDecompModel()"
      ]
    },
    {
      "cell_type": "markdown",
      "metadata": {
        "id": "s2Us7Fd7k1lN"
      },
      "source": [
        "## Training our T5X Model"
      ]
    },
    {
      "cell_type": "markdown",
      "metadata": {
        "id": "KazYtu8IsXO-"
      },
      "source": [
        "### Create checkpoint callback to save fine-tuned models"
      ]
    },
    {
      "cell_type": "code",
      "execution_count": null,
      "metadata": {
        "id": "ktFEtoKgscdd"
      },
      "outputs": [],
      "source": [
        "checkpoint_callback = ModelCheckpoint(\n",
        "    dirpath=\"checkpoints\",\n",
        "    filename=\"best-checkpoint\",\n",
        "    save_top_k=1,\n",
        "    verbose=True,\n",
        "    monitor=\"val_loss\",\n",
        "    mode=\"min\"\n",
        ")"
      ]
    },
    {
      "cell_type": "markdown",
      "metadata": {
        "id": "ABkBPyhFs7Ll"
      },
      "source": [
        "### Create trainer using pytorch lightning"
      ]
    },
    {
      "cell_type": "code",
      "execution_count": null,
      "metadata": {
        "colab": {
          "base_uri": "https://localhost:8080/"
        },
        "id": "opWyAYCas-qg",
        "outputId": "86350398-9c4b-412b-c5f0-819a3d58fce4"
      },
      "outputs": [
        {
          "name": "stderr",
          "output_type": "stream",
          "text": [
            "GPU available: True (cuda), used: True\n",
            "TPU available: False, using: 0 TPU cores\n",
            "IPU available: False, using: 0 IPUs\n",
            "HPU available: False, using: 0 HPUs\n"
          ]
        }
      ],
      "source": [
        "trainer = pl.Trainer(\n",
        "    callbacks=[checkpoint_callback, TQDMProgressBar(refresh_rate=1)],\n",
        "    max_epochs = N_EPOCHS,\n",
        "    accelerator='gpu', \n",
        "    devices=2\n",
        ")"
      ]
    },
    {
      "cell_type": "markdown",
      "metadata": {
        "id": "QMcjUD6CtbK7"
      },
      "source": [
        "### Load tensorboard to view training stats"
      ]
    },
    {
      "cell_type": "code",
      "execution_count": null,
      "metadata": {
        "id": "w6Xt7LSR2FIk"
      },
      "outputs": [],
      "source": [
        "!rm -rf lightning_logs"
      ]
    },
    {
      "cell_type": "code",
      "execution_count": null,
      "metadata": {
        "id": "A7enVV7-6FeU"
      },
      "outputs": [],
      "source": [
        "!pip show tensorflow\n"
      ]
    },
    {
      "cell_type": "code",
      "execution_count": null,
      "metadata": {
        "id": "BmiNMfiv6FeV"
      },
      "outputs": [],
      "source": [
        "import os\n",
        "os.environ['TENSORBOARD_BINARY'] = '/path/to/envs/my_env/bin/tensorboard'"
      ]
    },
    {
      "cell_type": "code",
      "execution_count": null,
      "metadata": {
        "id": "qpEp4uz-tYQB"
      },
      "outputs": [],
      "source": [
        "%load_ext tensorboard\n",
        "%tensorboard --logdir ./lightning_logs"
      ]
    },
    {
      "cell_type": "markdown",
      "metadata": {
        "id": "_I3qVXymtvqz"
      },
      "source": [
        "### Start training"
      ]
    },
    {
      "cell_type": "code",
      "execution_count": null,
      "metadata": {
        "id": "pefZ27qxtxPB"
      },
      "outputs": [],
      "source": [
        "trainer.fit(customModel, data_module)"
      ]
    },
    {
      "cell_type": "markdown",
      "metadata": {
        "id": "ImJHOzn537Xz"
      },
      "source": [
        "## Load Fine-Tuned Model for Prediction"
      ]
    },
    {
      "cell_type": "code",
      "execution_count": null,
      "metadata": {
        "id": "5CIUAMW539zK"
      },
      "outputs": [],
      "source": [
        "device = torch.device('cuda') if torch.cuda.is_available() else torch.device('cpu')\n",
        "\n",
        "trainedModel = ClaimDecompModel.load_from_checkpoint(\"checkpoints/V7L_B1_E12_SM850_TM500.ckpt\")\n",
        "# trainedModel = ClaimDecompModel.load_from_checkpoint(\"drive/MyDrive/past_checkpoints/V7L_B1_E12_SM850_TM500.ckpt\")\n",
        "\n",
        "trainedModel.model.to(device)\n",
        "trainedModel.freeze()"
      ]
    },
    {
      "cell_type": "markdown",
      "metadata": {
        "id": "8rjKZJvm6FeW"
      },
      "source": [
        "## Evaluate Fine-Tuned Model"
      ]
    },
    {
      "cell_type": "code",
      "execution_count": null,
      "metadata": {
        "id": "3zHge-xa6FeW"
      },
      "outputs": [],
      "source": [
        "def compute_metrics(model, tokenizer, evalDf, sourceMaxLen, targetMaxLen, p):\n",
        "    \n",
        "    eval_dataset = ClaimDecompDataset(\n",
        "        evalDf,\n",
        "        tokenizer,\n",
        "        sourceMaxLen, \n",
        "        targetMaxLen\n",
        "    )\n",
        "    \n",
        "    pred, labels = p\n",
        "    pred = np.argmax(pred, axis=1)\n",
        "\n",
        "    accuracy = accuracy_score(y_true=labels, y_pred=pred)\n",
        "    recall = recall_score(y_true=labels, y_pred=pred)\n",
        "    f1 = f1_score(y_true=labels, y_pred=pred)\n",
        "\n",
        "    return {\"accuracy\": accuracy, \"recall\": recall, \"f1\": f1}"
      ]
    },
    {
      "cell_type": "markdown",
      "metadata": {
        "id": "rAtVqSlt_Mcp"
      },
      "source": [
        "# Check T5X Model Config Parameters"
      ]
    },
    {
      "cell_type": "code",
      "execution_count": null,
      "metadata": {
        "colab": {
          "base_uri": "https://localhost:8080/"
        },
        "id": "RlG5vapjmogo",
        "outputId": "a8533886-f0a2-44b9-b897-b28d486fa4ac"
      },
      "outputs": [
        {
          "data": {
            "text/plain": [
              "T5Config {\n",
              "  \"_name_or_path\": \"google/t5-v1_1-large\",\n",
              "  \"architectures\": [\n",
              "    \"T5ForConditionalGeneration\"\n",
              "  ],\n",
              "  \"d_ff\": 2816,\n",
              "  \"d_kv\": 64,\n",
              "  \"d_model\": 1024,\n",
              "  \"decoder_start_token_id\": 0,\n",
              "  \"dense_act_fn\": \"gelu_new\",\n",
              "  \"dropout_rate\": 0.1,\n",
              "  \"eos_token_id\": 1,\n",
              "  \"feed_forward_proj\": \"gated-gelu\",\n",
              "  \"initializer_factor\": 1.0,\n",
              "  \"is_encoder_decoder\": true,\n",
              "  \"is_gated_act\": true,\n",
              "  \"layer_norm_epsilon\": 1e-06,\n",
              "  \"model_type\": \"t5\",\n",
              "  \"num_decoder_layers\": 24,\n",
              "  \"num_heads\": 16,\n",
              "  \"num_layers\": 24,\n",
              "  \"output_past\": true,\n",
              "  \"pad_token_id\": 0,\n",
              "  \"relative_attention_max_distance\": 128,\n",
              "  \"relative_attention_num_buckets\": 32,\n",
              "  \"tie_word_embeddings\": false,\n",
              "  \"transformers_version\": \"4.23.1\",\n",
              "  \"use_cache\": true,\n",
              "  \"vocab_size\": 32128\n",
              "}"
            ]
          },
          "execution_count": 15,
          "metadata": {},
          "output_type": "execute_result"
        }
      ],
      "source": [
        " trainedModel.model.config"
      ]
    },
    {
      "cell_type": "markdown",
      "metadata": {
        "id": "W0c9JYXg_Zts"
      },
      "source": [
        "# Running the T5X for question generation"
      ]
    },
    {
      "cell_type": "code",
      "execution_count": null,
      "metadata": {
        "id": "n3vXwTPSg1Yt"
      },
      "outputs": [],
      "source": [
        "def predict(model, claim, justification):\n",
        "  claim_encoding = tokenizer(\n",
        "      claim,\n",
        "      justification,\n",
        "      max_length = 850,\n",
        "      padding=\"max_length\",\n",
        "      truncation=\"only_second\",\n",
        "      return_attention_mask=True,\n",
        "      add_special_tokens=True,\n",
        "      return_tensors=\"pt\"\n",
        "  )\n",
        "  claim_encoding.to(device)\n",
        "\n",
        "  prediction = model.model.generate(\n",
        "      input_ids=claim_encoding[\"input_ids\"],\n",
        "      attention_mask=claim_encoding[\"attention_mask\"],\n",
        "      num_beams=1,\n",
        "      max_length=800,\n",
        "      repetition_penalty=2.5,\n",
        "      length_penalty=1.0,\n",
        "      early_stopping=True,\n",
        "      use_cache=True\n",
        "  )\n",
        "\n",
        "  decoded_res = [\n",
        "      tokenizer.decode(pred, skip_special_tokens=True, clean_up_tokenization_spaces=True)\n",
        "      for pred in prediction\n",
        "  ]\n",
        "  print(\"Response: \" + decoded_res[0])\n",
        "\n",
        "\n",
        "def predictOrg(model, claim, justification):\n",
        "  claim_encoding = tokenizer(\n",
        "      claim,\n",
        "      justification,\n",
        "      max_length = 850,\n",
        "      padding=\"max_length\",\n",
        "      truncation=\"only_second\",\n",
        "      return_attention_mask=True,\n",
        "      add_special_tokens=True,\n",
        "      return_tensors=\"pt\"\n",
        "  )\n",
        "  \n",
        "  claim_encoding.to(device)\n",
        "\n",
        "  prediction = model.generate(\n",
        "      input_ids=claim_encoding[\"input_ids\"],\n",
        "      attention_mask=claim_encoding[\"attention_mask\"],\n",
        "      num_beams=1,\n",
        "      max_length=800,\n",
        "      repetition_penalty=2.5,\n",
        "      length_penalty=1.0,\n",
        "      early_stopping=True,\n",
        "      use_cache=True\n",
        "  )\n",
        "\n",
        "  decoded_res = [\n",
        "      tokenizer.decode(pred, skip_special_tokens=True, clean_up_tokenization_spaces=True)\n",
        "      for pred in prediction\n",
        "  ]\n",
        "\n",
        "  print(\"Response: \" + decoded_res[0])"
      ]
    },
    {
      "cell_type": "markdown",
      "metadata": {
        "id": "uhzT4PpolcOm"
      },
      "source": [
        "### Evaluating Our Fine-Tuned Model"
      ]
    },
    {
      "cell_type": "code",
      "execution_count": null,
      "metadata": {
        "colab": {
          "base_uri": "https://localhost:8080/",
          "height": 280
        },
        "id": "M7P0nrhYi5AT",
        "outputId": "9edeca12-3a48-4984-efdb-85c7da6a0e3f"
      },
      "outputs": [
        {
          "name": "stdout",
          "output_type": "stream",
          "text": [
            "Response: Did Tester say that he should have a national registration before purchasing a gun? Does Tester believe that he should be allowed to buy a gun in Montana without any restrictions? Has Tester said that he should have a national registration before buying a gun?\n"
          ]
        }
      ],
      "source": [
        "claim = \"Generate Questions: A Facebook post stated on January 31, 2021: Nancy Pelosi bought $1.25 million in Tesla stock the day before Joe Biden signed an order “for all federal vehicles” to be electric.\"\n",
        "\n",
        "justification = \"\"\"Justification: An image shared on Facebook claims that Nancy Pelosi bought $1.25 million in Tesla stock the day before Biden\n",
        "signed an order for all federal vehicles to be electric, implying that she sought to profit from inside information about new\n",
        "government policies. The House speaker did report transactions involving Tesla stock, but the post misrepresented the purchases\n",
        "and Biden’s policies to create the false impression that the transactions represented improper insider trading in Tesla shares. The\n",
        "statement contains an element of truth, but ignoring critical facts would give a different impression.\"\"\"\n",
        "\n",
        "c = \"Generate Questions: The Arizona Forensic Audit of Maricopa County identified numerous anomalies, fraud, and Election law violations that are determinative, including 17,322 duplicate absentee ballot envelopes, which surged after the Election.\"\n",
        "\n",
        "c2 = \"Generate Questions: Donald Trump had a cup of coffee this morning and found that he was invited to the white house for the next election\"\n",
        "\n",
        "c3 = \"Generate Questions: Putin has ordered the Russian invasion of Ukraine\"\n",
        "\n",
        "c5 = \"Generate Questions: Boris Johnson just got elected as the new prime minister of the UK\"\n",
        "\n",
        "c5a = \"\"\"Generate Questions: In a 2014 case involving a man convicted of abusing two underage girls, Judge Roy Moore disagreed and wrote the dissenting opinion\"\"\"\n",
        "j5a = \"\"\"Justification: An ad from the Jones campaign said that Moore disagreed and dissented in a case involving the abuse of two underage girls. There is no question that Moore dissented, but the ad provides no context for what Moore disagreed with. The glaring lack of detail leaves reasonable viewers with the impression that Moore disagreed with the conviction.\n",
        "That’s not what he said. He disagreed with the court’s decision not to consider a legal question of admissible evidence. Several independent law professors told us that Moore raised a valid point that was legally separate from the underlying conviction in the case.\n",
        "The ad leaves out critical context that gives a highly misleading impression. We rate this claim Mostly False.\"\"\"\n",
        "\n",
        "## Lets try generating questions from song lyrics\n",
        "c6 = \"\"\"Generate Questions: Welcome to Wonderland, I'll be your guide\n",
        "Holding your hand under sapphire skies\n",
        "Let's go exploring or we could just go for a walk\n",
        "Welcome to Wonderland, where should we go\n",
        "There's a tea party along down the road\n",
        "Make an appearance and maybe they'll sing us a song\"\"\"\n",
        "\n",
        "\n",
        "## More about otters\n",
        "c7 = \"Generate Questions: The otter population has been rebounding since the 1970s when Singapore started cleaning up its waterways. Their numbers are rising partially because otters face no significant danger from other predators and only encounter crocodiles in a wetlands mangrove in the city’s north-west.\"\n",
        "\n",
        "# predict(trainedModel, claim, justification)\n",
        "# predict(trainedModel, c5a, j5a)\n",
        "\n",
        "c4 = \"Generate Questions: Our CS3103 professor got COVID positive and conducted lecture over zoom instead of in-person classes\"\n",
        "\n",
        "politicalClaim = \"\"\"Generate Questions: Says Sen. Jon Tester \"believes that we should have a national registration so that the people of Montana should have to ask permission before they purchase a gun, ask permission from the federal government.\" \"\"\"\n",
        "polJustification = \"\"\"Justification: Rosendale said Tester \"believes that we should have a national registration so that the people of Montana should have to ask permission before they purchase a gun, ask permission from the federal government.\"\n",
        "Tester’s record shows opposition to a federal list of lawfully-owned guns and gun owners. To claim he supports this is absurd.\n",
        "We rate this Pants on Fire.\"\"\"\n",
        "\n",
        "predict(trainedModel, politicalClaim, polJustification)\n",
        "# predict(trainedModel, c4, \"\")\n",
        "\n"
      ]
    },
    {
      "cell_type": "markdown",
      "metadata": {
        "id": "zlAIHwjPj34H"
      },
      "source": [
        "### Evaluating with the original model"
      ]
    },
    {
      "cell_type": "code",
      "execution_count": null,
      "metadata": {
        "id": "01T55qPvj-lK"
      },
      "outputs": [],
      "source": [
        "version = \"google/t5-v1_1-small\" #\"google/t5-v1_1-large\" #\"google/t5-v1_1-xl\" is too huge for google colab to handle\n",
        "\n",
        "ogmodel = AutoModelForSeq2SeqLM.from_pretrained(version)\n",
        "ogtokenizer = AutoTokenizer.from_pretrained(version)\n",
        "\n",
        "predictOrg(ogmodel, claim, justification)"
      ]
    }
  ],
  "metadata": {
    "colab": {
      "collapsed_sections": [
        "G-XT62iyCdxJ",
        "3OuOm5REGV6C",
        "AsRVDYioGajY",
        "Vxrw_JQvtowO",
        "P9UlIjzpx3AQ",
        "kGGftwCIBZsc",
        "wVcz8CtkV_PW",
        "ApQFyE_CjuYj"
      ],
      "machine_shape": "hm",
      "provenance": []
    },
    "kernelspec": {
      "display_name": "Python 3",
      "language": "python",
      "name": "python3"
    },
    "language_info": {
      "codemirror_mode": {
        "name": "ipython",
        "version": 3
      },
      "file_extension": ".py",
      "mimetype": "text/x-python",
      "name": "python",
      "nbconvert_exporter": "python",
      "pygments_lexer": "ipython3",
      "version": "3.8.5"
    },
    "widgets": {
      "application/vnd.jupyter.widget-state+json": {
        "03c59a6542c241138c64772261f56ea2": {
          "model_module": "@jupyter-widgets/controls",
          "model_module_version": "1.5.0",
          "model_name": "HTMLModel",
          "state": {
            "_dom_classes": [],
            "_model_module": "@jupyter-widgets/controls",
            "_model_module_version": "1.5.0",
            "_model_name": "HTMLModel",
            "_view_count": null,
            "_view_module": "@jupyter-widgets/controls",
            "_view_module_version": "1.5.0",
            "_view_name": "HTMLView",
            "description": "",
            "description_tooltip": null,
            "layout": "IPY_MODEL_2ed3e1b0145a40e7a95b5302fd418db4",
            "placeholder": "​",
            "style": "IPY_MODEL_5603a410d9c042c7a471f0aa197d3294",
            "value": "Downloading: 100%"
          }
        },
        "05e9f151bbe041459ecad57a9a711ee7": {
          "model_module": "@jupyter-widgets/controls",
          "model_module_version": "1.5.0",
          "model_name": "HTMLModel",
          "state": {
            "_dom_classes": [],
            "_model_module": "@jupyter-widgets/controls",
            "_model_module_version": "1.5.0",
            "_model_name": "HTMLModel",
            "_view_count": null,
            "_view_module": "@jupyter-widgets/controls",
            "_view_module_version": "1.5.0",
            "_view_name": "HTMLView",
            "description": "",
            "description_tooltip": null,
            "layout": "IPY_MODEL_6b6b82198b8f49e0b0c2b4a5483c9952",
            "placeholder": "​",
            "style": "IPY_MODEL_2264444b5e6146e18c5c07a540422eb7",
            "value": "Downloading: 100%"
          }
        },
        "060d0d15aaf64020ab64aae96441b142": {
          "model_module": "@jupyter-widgets/base",
          "model_module_version": "1.2.0",
          "model_name": "LayoutModel",
          "state": {
            "_model_module": "@jupyter-widgets/base",
            "_model_module_version": "1.2.0",
            "_model_name": "LayoutModel",
            "_view_count": null,
            "_view_module": "@jupyter-widgets/base",
            "_view_module_version": "1.2.0",
            "_view_name": "LayoutView",
            "align_content": null,
            "align_items": null,
            "align_self": null,
            "border": null,
            "bottom": null,
            "display": null,
            "flex": null,
            "flex_flow": null,
            "grid_area": null,
            "grid_auto_columns": null,
            "grid_auto_flow": null,
            "grid_auto_rows": null,
            "grid_column": null,
            "grid_gap": null,
            "grid_row": null,
            "grid_template_areas": null,
            "grid_template_columns": null,
            "grid_template_rows": null,
            "height": null,
            "justify_content": null,
            "justify_items": null,
            "left": null,
            "margin": null,
            "max_height": null,
            "max_width": null,
            "min_height": null,
            "min_width": null,
            "object_fit": null,
            "object_position": null,
            "order": null,
            "overflow": null,
            "overflow_x": null,
            "overflow_y": null,
            "padding": null,
            "right": null,
            "top": null,
            "visibility": null,
            "width": null
          }
        },
        "21808f9ea0514ad08e23611ff4c1dd70": {
          "model_module": "@jupyter-widgets/base",
          "model_module_version": "1.2.0",
          "model_name": "LayoutModel",
          "state": {
            "_model_module": "@jupyter-widgets/base",
            "_model_module_version": "1.2.0",
            "_model_name": "LayoutModel",
            "_view_count": null,
            "_view_module": "@jupyter-widgets/base",
            "_view_module_version": "1.2.0",
            "_view_name": "LayoutView",
            "align_content": null,
            "align_items": null,
            "align_self": null,
            "border": null,
            "bottom": null,
            "display": null,
            "flex": null,
            "flex_flow": null,
            "grid_area": null,
            "grid_auto_columns": null,
            "grid_auto_flow": null,
            "grid_auto_rows": null,
            "grid_column": null,
            "grid_gap": null,
            "grid_row": null,
            "grid_template_areas": null,
            "grid_template_columns": null,
            "grid_template_rows": null,
            "height": null,
            "justify_content": null,
            "justify_items": null,
            "left": null,
            "margin": null,
            "max_height": null,
            "max_width": null,
            "min_height": null,
            "min_width": null,
            "object_fit": null,
            "object_position": null,
            "order": null,
            "overflow": null,
            "overflow_x": null,
            "overflow_y": null,
            "padding": null,
            "right": null,
            "top": null,
            "visibility": null,
            "width": null
          }
        },
        "2264444b5e6146e18c5c07a540422eb7": {
          "model_module": "@jupyter-widgets/controls",
          "model_module_version": "1.5.0",
          "model_name": "DescriptionStyleModel",
          "state": {
            "_model_module": "@jupyter-widgets/controls",
            "_model_module_version": "1.5.0",
            "_model_name": "DescriptionStyleModel",
            "_view_count": null,
            "_view_module": "@jupyter-widgets/base",
            "_view_module_version": "1.2.0",
            "_view_name": "StyleView",
            "description_width": ""
          }
        },
        "29cea1ec90e9428fb717cba969c7eb9f": {
          "model_module": "@jupyter-widgets/controls",
          "model_module_version": "1.5.0",
          "model_name": "ProgressStyleModel",
          "state": {
            "_model_module": "@jupyter-widgets/controls",
            "_model_module_version": "1.5.0",
            "_model_name": "ProgressStyleModel",
            "_view_count": null,
            "_view_module": "@jupyter-widgets/base",
            "_view_module_version": "1.2.0",
            "_view_name": "StyleView",
            "bar_color": null,
            "description_width": ""
          }
        },
        "2d1e4827a33a401d914777c192e6b7f5": {
          "model_module": "@jupyter-widgets/controls",
          "model_module_version": "1.5.0",
          "model_name": "ProgressStyleModel",
          "state": {
            "_model_module": "@jupyter-widgets/controls",
            "_model_module_version": "1.5.0",
            "_model_name": "ProgressStyleModel",
            "_view_count": null,
            "_view_module": "@jupyter-widgets/base",
            "_view_module_version": "1.2.0",
            "_view_name": "StyleView",
            "bar_color": null,
            "description_width": ""
          }
        },
        "2ed3e1b0145a40e7a95b5302fd418db4": {
          "model_module": "@jupyter-widgets/base",
          "model_module_version": "1.2.0",
          "model_name": "LayoutModel",
          "state": {
            "_model_module": "@jupyter-widgets/base",
            "_model_module_version": "1.2.0",
            "_model_name": "LayoutModel",
            "_view_count": null,
            "_view_module": "@jupyter-widgets/base",
            "_view_module_version": "1.2.0",
            "_view_name": "LayoutView",
            "align_content": null,
            "align_items": null,
            "align_self": null,
            "border": null,
            "bottom": null,
            "display": null,
            "flex": null,
            "flex_flow": null,
            "grid_area": null,
            "grid_auto_columns": null,
            "grid_auto_flow": null,
            "grid_auto_rows": null,
            "grid_column": null,
            "grid_gap": null,
            "grid_row": null,
            "grid_template_areas": null,
            "grid_template_columns": null,
            "grid_template_rows": null,
            "height": null,
            "justify_content": null,
            "justify_items": null,
            "left": null,
            "margin": null,
            "max_height": null,
            "max_width": null,
            "min_height": null,
            "min_width": null,
            "object_fit": null,
            "object_position": null,
            "order": null,
            "overflow": null,
            "overflow_x": null,
            "overflow_y": null,
            "padding": null,
            "right": null,
            "top": null,
            "visibility": null,
            "width": null
          }
        },
        "30eed04a4b694ce3a60381c3a3cc8d88": {
          "model_module": "@jupyter-widgets/controls",
          "model_module_version": "1.5.0",
          "model_name": "HTMLModel",
          "state": {
            "_dom_classes": [],
            "_model_module": "@jupyter-widgets/controls",
            "_model_module_version": "1.5.0",
            "_model_name": "HTMLModel",
            "_view_count": null,
            "_view_module": "@jupyter-widgets/controls",
            "_view_module_version": "1.5.0",
            "_view_name": "HTMLView",
            "description": "",
            "description_tooltip": null,
            "layout": "IPY_MODEL_7eda6ef16f3e457784e989a002dfbfbd",
            "placeholder": "​",
            "style": "IPY_MODEL_b5439ab8e6974165a6a92560e22d63da",
            "value": "Downloading: 100%"
          }
        },
        "34f7e5199c724b72b62f72c8c6652bbb": {
          "model_module": "@jupyter-widgets/base",
          "model_module_version": "1.2.0",
          "model_name": "LayoutModel",
          "state": {
            "_model_module": "@jupyter-widgets/base",
            "_model_module_version": "1.2.0",
            "_model_name": "LayoutModel",
            "_view_count": null,
            "_view_module": "@jupyter-widgets/base",
            "_view_module_version": "1.2.0",
            "_view_name": "LayoutView",
            "align_content": null,
            "align_items": null,
            "align_self": null,
            "border": null,
            "bottom": null,
            "display": null,
            "flex": null,
            "flex_flow": null,
            "grid_area": null,
            "grid_auto_columns": null,
            "grid_auto_flow": null,
            "grid_auto_rows": null,
            "grid_column": null,
            "grid_gap": null,
            "grid_row": null,
            "grid_template_areas": null,
            "grid_template_columns": null,
            "grid_template_rows": null,
            "height": null,
            "justify_content": null,
            "justify_items": null,
            "left": null,
            "margin": null,
            "max_height": null,
            "max_width": null,
            "min_height": null,
            "min_width": null,
            "object_fit": null,
            "object_position": null,
            "order": null,
            "overflow": null,
            "overflow_x": null,
            "overflow_y": null,
            "padding": null,
            "right": null,
            "top": null,
            "visibility": null,
            "width": null
          }
        },
        "35f9a92edf0541a1bdd75a70042ed569": {
          "model_module": "@jupyter-widgets/controls",
          "model_module_version": "1.5.0",
          "model_name": "DescriptionStyleModel",
          "state": {
            "_model_module": "@jupyter-widgets/controls",
            "_model_module_version": "1.5.0",
            "_model_name": "DescriptionStyleModel",
            "_view_count": null,
            "_view_module": "@jupyter-widgets/base",
            "_view_module_version": "1.2.0",
            "_view_name": "StyleView",
            "description_width": ""
          }
        },
        "536a5b41355a4d93aa37459a46238331": {
          "model_module": "@jupyter-widgets/controls",
          "model_module_version": "1.5.0",
          "model_name": "ProgressStyleModel",
          "state": {
            "_model_module": "@jupyter-widgets/controls",
            "_model_module_version": "1.5.0",
            "_model_name": "ProgressStyleModel",
            "_view_count": null,
            "_view_module": "@jupyter-widgets/base",
            "_view_module_version": "1.2.0",
            "_view_name": "StyleView",
            "bar_color": null,
            "description_width": ""
          }
        },
        "544e76d05b254bcc8688b12b381c5be1": {
          "model_module": "@jupyter-widgets/controls",
          "model_module_version": "1.5.0",
          "model_name": "HBoxModel",
          "state": {
            "_dom_classes": [],
            "_model_module": "@jupyter-widgets/controls",
            "_model_module_version": "1.5.0",
            "_model_name": "HBoxModel",
            "_view_count": null,
            "_view_module": "@jupyter-widgets/controls",
            "_view_module_version": "1.5.0",
            "_view_name": "HBoxView",
            "box_style": "",
            "children": [
              "IPY_MODEL_03c59a6542c241138c64772261f56ea2",
              "IPY_MODEL_f5795b3c4a2b43939f0e95710b9b31d9",
              "IPY_MODEL_f35090840d1c4fcc8da3b292d1898ca7"
            ],
            "layout": "IPY_MODEL_b949443bc76f45a884277f02e2a66cf9"
          }
        },
        "5603a410d9c042c7a471f0aa197d3294": {
          "model_module": "@jupyter-widgets/controls",
          "model_module_version": "1.5.0",
          "model_name": "DescriptionStyleModel",
          "state": {
            "_model_module": "@jupyter-widgets/controls",
            "_model_module_version": "1.5.0",
            "_model_name": "DescriptionStyleModel",
            "_view_count": null,
            "_view_module": "@jupyter-widgets/base",
            "_view_module_version": "1.2.0",
            "_view_name": "StyleView",
            "description_width": ""
          }
        },
        "57766288e0874b82bd5c28dff67abcc9": {
          "model_module": "@jupyter-widgets/controls",
          "model_module_version": "1.5.0",
          "model_name": "HBoxModel",
          "state": {
            "_dom_classes": [],
            "_model_module": "@jupyter-widgets/controls",
            "_model_module_version": "1.5.0",
            "_model_name": "HBoxModel",
            "_view_count": null,
            "_view_module": "@jupyter-widgets/controls",
            "_view_module_version": "1.5.0",
            "_view_name": "HBoxView",
            "box_style": "",
            "children": [
              "IPY_MODEL_ed4b18185592415a8ae7a78232bc729e",
              "IPY_MODEL_89134f76c41c4353a77abd9f42b295f8",
              "IPY_MODEL_5f1d5cea8c7c47cc948ebe5e3561f083"
            ],
            "layout": "IPY_MODEL_7408bba58a15464b9a2c47d1ff6d167a"
          }
        },
        "59e17224bf5c43a9b96557c25a550d55": {
          "model_module": "@jupyter-widgets/controls",
          "model_module_version": "1.5.0",
          "model_name": "DescriptionStyleModel",
          "state": {
            "_model_module": "@jupyter-widgets/controls",
            "_model_module_version": "1.5.0",
            "_model_name": "DescriptionStyleModel",
            "_view_count": null,
            "_view_module": "@jupyter-widgets/base",
            "_view_module_version": "1.2.0",
            "_view_name": "StyleView",
            "description_width": ""
          }
        },
        "5c7d2f009d134f4485a516e0f3599d06": {
          "model_module": "@jupyter-widgets/controls",
          "model_module_version": "1.5.0",
          "model_name": "HBoxModel",
          "state": {
            "_dom_classes": [],
            "_model_module": "@jupyter-widgets/controls",
            "_model_module_version": "1.5.0",
            "_model_name": "HBoxModel",
            "_view_count": null,
            "_view_module": "@jupyter-widgets/controls",
            "_view_module_version": "1.5.0",
            "_view_name": "HBoxView",
            "box_style": "",
            "children": [
              "IPY_MODEL_30eed04a4b694ce3a60381c3a3cc8d88",
              "IPY_MODEL_86ef6ebc0b824307b4a9d1594f3aa3a8",
              "IPY_MODEL_ba09ad33b61c4bcda103fd215afda200"
            ],
            "layout": "IPY_MODEL_ee72523ad4104eee864594f41a31349d"
          }
        },
        "5df62e1c79d741d295c7f25d98b21156": {
          "model_module": "@jupyter-widgets/controls",
          "model_module_version": "1.5.0",
          "model_name": "FloatProgressModel",
          "state": {
            "_dom_classes": [],
            "_model_module": "@jupyter-widgets/controls",
            "_model_module_version": "1.5.0",
            "_model_name": "FloatProgressModel",
            "_view_count": null,
            "_view_module": "@jupyter-widgets/controls",
            "_view_module_version": "1.5.0",
            "_view_name": "ProgressView",
            "bar_style": "success",
            "description": "",
            "description_tooltip": null,
            "layout": "IPY_MODEL_a5bcad296220437a8dd50c899029cf80",
            "max": 1857,
            "min": 0,
            "orientation": "horizontal",
            "style": "IPY_MODEL_acd6fc6b2da14030854a9a5759b50381",
            "value": 1857
          }
        },
        "5f1d5cea8c7c47cc948ebe5e3561f083": {
          "model_module": "@jupyter-widgets/controls",
          "model_module_version": "1.5.0",
          "model_name": "HTMLModel",
          "state": {
            "_dom_classes": [],
            "_model_module": "@jupyter-widgets/controls",
            "_model_module_version": "1.5.0",
            "_model_name": "HTMLModel",
            "_view_count": null,
            "_view_module": "@jupyter-widgets/controls",
            "_view_module_version": "1.5.0",
            "_view_name": "HTMLView",
            "description": "",
            "description_tooltip": null,
            "layout": "IPY_MODEL_7ba07849791c4541bbfda336c6fd3d81",
            "placeholder": "​",
            "style": "IPY_MODEL_664fe35d7b534aa59c39b2db49cb7a3b",
            "value": " 1.79k/1.79k [00:00&lt;00:00, 38.9kB/s]"
          }
        },
        "664fe35d7b534aa59c39b2db49cb7a3b": {
          "model_module": "@jupyter-widgets/controls",
          "model_module_version": "1.5.0",
          "model_name": "DescriptionStyleModel",
          "state": {
            "_model_module": "@jupyter-widgets/controls",
            "_model_module_version": "1.5.0",
            "_model_name": "DescriptionStyleModel",
            "_view_count": null,
            "_view_module": "@jupyter-widgets/base",
            "_view_module_version": "1.2.0",
            "_view_name": "StyleView",
            "description_width": ""
          }
        },
        "6b6b82198b8f49e0b0c2b4a5483c9952": {
          "model_module": "@jupyter-widgets/base",
          "model_module_version": "1.2.0",
          "model_name": "LayoutModel",
          "state": {
            "_model_module": "@jupyter-widgets/base",
            "_model_module_version": "1.2.0",
            "_model_name": "LayoutModel",
            "_view_count": null,
            "_view_module": "@jupyter-widgets/base",
            "_view_module_version": "1.2.0",
            "_view_name": "LayoutView",
            "align_content": null,
            "align_items": null,
            "align_self": null,
            "border": null,
            "bottom": null,
            "display": null,
            "flex": null,
            "flex_flow": null,
            "grid_area": null,
            "grid_auto_columns": null,
            "grid_auto_flow": null,
            "grid_auto_rows": null,
            "grid_column": null,
            "grid_gap": null,
            "grid_row": null,
            "grid_template_areas": null,
            "grid_template_columns": null,
            "grid_template_rows": null,
            "height": null,
            "justify_content": null,
            "justify_items": null,
            "left": null,
            "margin": null,
            "max_height": null,
            "max_width": null,
            "min_height": null,
            "min_width": null,
            "object_fit": null,
            "object_position": null,
            "order": null,
            "overflow": null,
            "overflow_x": null,
            "overflow_y": null,
            "padding": null,
            "right": null,
            "top": null,
            "visibility": null,
            "width": null
          }
        },
        "7408bba58a15464b9a2c47d1ff6d167a": {
          "model_module": "@jupyter-widgets/base",
          "model_module_version": "1.2.0",
          "model_name": "LayoutModel",
          "state": {
            "_model_module": "@jupyter-widgets/base",
            "_model_module_version": "1.2.0",
            "_model_name": "LayoutModel",
            "_view_count": null,
            "_view_module": "@jupyter-widgets/base",
            "_view_module_version": "1.2.0",
            "_view_name": "LayoutView",
            "align_content": null,
            "align_items": null,
            "align_self": null,
            "border": null,
            "bottom": null,
            "display": null,
            "flex": null,
            "flex_flow": null,
            "grid_area": null,
            "grid_auto_columns": null,
            "grid_auto_flow": null,
            "grid_auto_rows": null,
            "grid_column": null,
            "grid_gap": null,
            "grid_row": null,
            "grid_template_areas": null,
            "grid_template_columns": null,
            "grid_template_rows": null,
            "height": null,
            "justify_content": null,
            "justify_items": null,
            "left": null,
            "margin": null,
            "max_height": null,
            "max_width": null,
            "min_height": null,
            "min_width": null,
            "object_fit": null,
            "object_position": null,
            "order": null,
            "overflow": null,
            "overflow_x": null,
            "overflow_y": null,
            "padding": null,
            "right": null,
            "top": null,
            "visibility": null,
            "width": null
          }
        },
        "743d7282f2494d40a70be09eb29df4bd": {
          "model_module": "@jupyter-widgets/base",
          "model_module_version": "1.2.0",
          "model_name": "LayoutModel",
          "state": {
            "_model_module": "@jupyter-widgets/base",
            "_model_module_version": "1.2.0",
            "_model_name": "LayoutModel",
            "_view_count": null,
            "_view_module": "@jupyter-widgets/base",
            "_view_module_version": "1.2.0",
            "_view_name": "LayoutView",
            "align_content": null,
            "align_items": null,
            "align_self": null,
            "border": null,
            "bottom": null,
            "display": null,
            "flex": null,
            "flex_flow": null,
            "grid_area": null,
            "grid_auto_columns": null,
            "grid_auto_flow": null,
            "grid_auto_rows": null,
            "grid_column": null,
            "grid_gap": null,
            "grid_row": null,
            "grid_template_areas": null,
            "grid_template_columns": null,
            "grid_template_rows": null,
            "height": null,
            "justify_content": null,
            "justify_items": null,
            "left": null,
            "margin": null,
            "max_height": null,
            "max_width": null,
            "min_height": null,
            "min_width": null,
            "object_fit": null,
            "object_position": null,
            "order": null,
            "overflow": null,
            "overflow_x": null,
            "overflow_y": null,
            "padding": null,
            "right": null,
            "top": null,
            "visibility": null,
            "width": null
          }
        },
        "7441819cf8fa4ababb5b0b22d46851ac": {
          "model_module": "@jupyter-widgets/controls",
          "model_module_version": "1.5.0",
          "model_name": "ProgressStyleModel",
          "state": {
            "_model_module": "@jupyter-widgets/controls",
            "_model_module_version": "1.5.0",
            "_model_name": "ProgressStyleModel",
            "_view_count": null,
            "_view_module": "@jupyter-widgets/base",
            "_view_module_version": "1.2.0",
            "_view_name": "StyleView",
            "bar_color": null,
            "description_width": ""
          }
        },
        "7ba07849791c4541bbfda336c6fd3d81": {
          "model_module": "@jupyter-widgets/base",
          "model_module_version": "1.2.0",
          "model_name": "LayoutModel",
          "state": {
            "_model_module": "@jupyter-widgets/base",
            "_model_module_version": "1.2.0",
            "_model_name": "LayoutModel",
            "_view_count": null,
            "_view_module": "@jupyter-widgets/base",
            "_view_module_version": "1.2.0",
            "_view_name": "LayoutView",
            "align_content": null,
            "align_items": null,
            "align_self": null,
            "border": null,
            "bottom": null,
            "display": null,
            "flex": null,
            "flex_flow": null,
            "grid_area": null,
            "grid_auto_columns": null,
            "grid_auto_flow": null,
            "grid_auto_rows": null,
            "grid_column": null,
            "grid_gap": null,
            "grid_row": null,
            "grid_template_areas": null,
            "grid_template_columns": null,
            "grid_template_rows": null,
            "height": null,
            "justify_content": null,
            "justify_items": null,
            "left": null,
            "margin": null,
            "max_height": null,
            "max_width": null,
            "min_height": null,
            "min_width": null,
            "object_fit": null,
            "object_position": null,
            "order": null,
            "overflow": null,
            "overflow_x": null,
            "overflow_y": null,
            "padding": null,
            "right": null,
            "top": null,
            "visibility": null,
            "width": null
          }
        },
        "7eda6ef16f3e457784e989a002dfbfbd": {
          "model_module": "@jupyter-widgets/base",
          "model_module_version": "1.2.0",
          "model_name": "LayoutModel",
          "state": {
            "_model_module": "@jupyter-widgets/base",
            "_model_module_version": "1.2.0",
            "_model_name": "LayoutModel",
            "_view_count": null,
            "_view_module": "@jupyter-widgets/base",
            "_view_module_version": "1.2.0",
            "_view_name": "LayoutView",
            "align_content": null,
            "align_items": null,
            "align_self": null,
            "border": null,
            "bottom": null,
            "display": null,
            "flex": null,
            "flex_flow": null,
            "grid_area": null,
            "grid_auto_columns": null,
            "grid_auto_flow": null,
            "grid_auto_rows": null,
            "grid_column": null,
            "grid_gap": null,
            "grid_row": null,
            "grid_template_areas": null,
            "grid_template_columns": null,
            "grid_template_rows": null,
            "height": null,
            "justify_content": null,
            "justify_items": null,
            "left": null,
            "margin": null,
            "max_height": null,
            "max_width": null,
            "min_height": null,
            "min_width": null,
            "object_fit": null,
            "object_position": null,
            "order": null,
            "overflow": null,
            "overflow_x": null,
            "overflow_y": null,
            "padding": null,
            "right": null,
            "top": null,
            "visibility": null,
            "width": null
          }
        },
        "83d9b83e480343fe86b78e5ecd05919e": {
          "model_module": "@jupyter-widgets/controls",
          "model_module_version": "1.5.0",
          "model_name": "HBoxModel",
          "state": {
            "_dom_classes": [],
            "_model_module": "@jupyter-widgets/controls",
            "_model_module_version": "1.5.0",
            "_model_name": "HBoxModel",
            "_view_count": null,
            "_view_module": "@jupyter-widgets/controls",
            "_view_module_version": "1.5.0",
            "_view_name": "HBoxView",
            "box_style": "",
            "children": [
              "IPY_MODEL_05e9f151bbe041459ecad57a9a711ee7",
              "IPY_MODEL_e8f8fdb765854566a231cf6cfbe50c22",
              "IPY_MODEL_b138a84d3d7a4fc4bbdda73800d886ea"
            ],
            "layout": "IPY_MODEL_ff9730e4a976445b863b2051fa1bae49"
          }
        },
        "842d5875f73a4a7eabecb843cf7bfc89": {
          "model_module": "@jupyter-widgets/base",
          "model_module_version": "1.2.0",
          "model_name": "LayoutModel",
          "state": {
            "_model_module": "@jupyter-widgets/base",
            "_model_module_version": "1.2.0",
            "_model_name": "LayoutModel",
            "_view_count": null,
            "_view_module": "@jupyter-widgets/base",
            "_view_module_version": "1.2.0",
            "_view_name": "LayoutView",
            "align_content": null,
            "align_items": null,
            "align_self": null,
            "border": null,
            "bottom": null,
            "display": null,
            "flex": null,
            "flex_flow": null,
            "grid_area": null,
            "grid_auto_columns": null,
            "grid_auto_flow": null,
            "grid_auto_rows": null,
            "grid_column": null,
            "grid_gap": null,
            "grid_row": null,
            "grid_template_areas": null,
            "grid_template_columns": null,
            "grid_template_rows": null,
            "height": null,
            "justify_content": null,
            "justify_items": null,
            "left": null,
            "margin": null,
            "max_height": null,
            "max_width": null,
            "min_height": null,
            "min_width": null,
            "object_fit": null,
            "object_position": null,
            "order": null,
            "overflow": null,
            "overflow_x": null,
            "overflow_y": null,
            "padding": null,
            "right": null,
            "top": null,
            "visibility": null,
            "width": null
          }
        },
        "86ef6ebc0b824307b4a9d1594f3aa3a8": {
          "model_module": "@jupyter-widgets/controls",
          "model_module_version": "1.5.0",
          "model_name": "FloatProgressModel",
          "state": {
            "_dom_classes": [],
            "_model_module": "@jupyter-widgets/controls",
            "_model_module_version": "1.5.0",
            "_model_name": "FloatProgressModel",
            "_view_count": null,
            "_view_module": "@jupyter-widgets/controls",
            "_view_module_version": "1.5.0",
            "_view_name": "ProgressView",
            "bar_style": "success",
            "description": "",
            "description_tooltip": null,
            "layout": "IPY_MODEL_e6543af5c22a470f8c65ed65c92c5fdd",
            "max": 537,
            "min": 0,
            "orientation": "horizontal",
            "style": "IPY_MODEL_29cea1ec90e9428fb717cba969c7eb9f",
            "value": 537
          }
        },
        "89134f76c41c4353a77abd9f42b295f8": {
          "model_module": "@jupyter-widgets/controls",
          "model_module_version": "1.5.0",
          "model_name": "FloatProgressModel",
          "state": {
            "_dom_classes": [],
            "_model_module": "@jupyter-widgets/controls",
            "_model_module_version": "1.5.0",
            "_model_name": "FloatProgressModel",
            "_view_count": null,
            "_view_module": "@jupyter-widgets/controls",
            "_view_module_version": "1.5.0",
            "_view_name": "ProgressView",
            "bar_style": "success",
            "description": "",
            "description_tooltip": null,
            "layout": "IPY_MODEL_842d5875f73a4a7eabecb843cf7bfc89",
            "max": 1786,
            "min": 0,
            "orientation": "horizontal",
            "style": "IPY_MODEL_7441819cf8fa4ababb5b0b22d46851ac",
            "value": 1786
          }
        },
        "8ff281d4bfa84d258876a9d4d139eaf1": {
          "model_module": "@jupyter-widgets/base",
          "model_module_version": "1.2.0",
          "model_name": "LayoutModel",
          "state": {
            "_model_module": "@jupyter-widgets/base",
            "_model_module_version": "1.2.0",
            "_model_name": "LayoutModel",
            "_view_count": null,
            "_view_module": "@jupyter-widgets/base",
            "_view_module_version": "1.2.0",
            "_view_name": "LayoutView",
            "align_content": null,
            "align_items": null,
            "align_self": null,
            "border": null,
            "bottom": null,
            "display": null,
            "flex": null,
            "flex_flow": null,
            "grid_area": null,
            "grid_auto_columns": null,
            "grid_auto_flow": null,
            "grid_auto_rows": null,
            "grid_column": null,
            "grid_gap": null,
            "grid_row": null,
            "grid_template_areas": null,
            "grid_template_columns": null,
            "grid_template_rows": null,
            "height": null,
            "justify_content": null,
            "justify_items": null,
            "left": null,
            "margin": null,
            "max_height": null,
            "max_width": null,
            "min_height": null,
            "min_width": null,
            "object_fit": null,
            "object_position": null,
            "order": null,
            "overflow": null,
            "overflow_x": null,
            "overflow_y": null,
            "padding": null,
            "right": null,
            "top": null,
            "visibility": null,
            "width": null
          }
        },
        "96bcaa4faf6246f183c9eae1128fdb4c": {
          "model_module": "@jupyter-widgets/controls",
          "model_module_version": "1.5.0",
          "model_name": "HBoxModel",
          "state": {
            "_dom_classes": [],
            "_model_module": "@jupyter-widgets/controls",
            "_model_module_version": "1.5.0",
            "_model_name": "HBoxModel",
            "_view_count": null,
            "_view_module": "@jupyter-widgets/controls",
            "_view_module_version": "1.5.0",
            "_view_name": "HBoxView",
            "box_style": "",
            "children": [
              "IPY_MODEL_eb0850ffa01242d0a75b1a8ffad876a9",
              "IPY_MODEL_5df62e1c79d741d295c7f25d98b21156",
              "IPY_MODEL_a247cd0bd7d349e3a92a5e0242d3d883"
            ],
            "layout": "IPY_MODEL_afaf4ecf99534299920f4a65bb376194"
          }
        },
        "9e2a19a87f504c81a3db897067d00965": {
          "model_module": "@jupyter-widgets/controls",
          "model_module_version": "1.5.0",
          "model_name": "DescriptionStyleModel",
          "state": {
            "_model_module": "@jupyter-widgets/controls",
            "_model_module_version": "1.5.0",
            "_model_name": "DescriptionStyleModel",
            "_view_count": null,
            "_view_module": "@jupyter-widgets/base",
            "_view_module_version": "1.2.0",
            "_view_name": "StyleView",
            "description_width": ""
          }
        },
        "a247cd0bd7d349e3a92a5e0242d3d883": {
          "model_module": "@jupyter-widgets/controls",
          "model_module_version": "1.5.0",
          "model_name": "HTMLModel",
          "state": {
            "_dom_classes": [],
            "_model_module": "@jupyter-widgets/controls",
            "_model_module_version": "1.5.0",
            "_model_name": "HTMLModel",
            "_view_count": null,
            "_view_module": "@jupyter-widgets/controls",
            "_view_module_version": "1.5.0",
            "_view_name": "HTMLView",
            "description": "",
            "description_tooltip": null,
            "layout": "IPY_MODEL_743d7282f2494d40a70be09eb29df4bd",
            "placeholder": "​",
            "style": "IPY_MODEL_df57e601b5764b9e980e9b234832c968",
            "value": " 1.86k/1.86k [00:00&lt;00:00, 30.5kB/s]"
          }
        },
        "a5bcad296220437a8dd50c899029cf80": {
          "model_module": "@jupyter-widgets/base",
          "model_module_version": "1.2.0",
          "model_name": "LayoutModel",
          "state": {
            "_model_module": "@jupyter-widgets/base",
            "_model_module_version": "1.2.0",
            "_model_name": "LayoutModel",
            "_view_count": null,
            "_view_module": "@jupyter-widgets/base",
            "_view_module_version": "1.2.0",
            "_view_name": "LayoutView",
            "align_content": null,
            "align_items": null,
            "align_self": null,
            "border": null,
            "bottom": null,
            "display": null,
            "flex": null,
            "flex_flow": null,
            "grid_area": null,
            "grid_auto_columns": null,
            "grid_auto_flow": null,
            "grid_auto_rows": null,
            "grid_column": null,
            "grid_gap": null,
            "grid_row": null,
            "grid_template_areas": null,
            "grid_template_columns": null,
            "grid_template_rows": null,
            "height": null,
            "justify_content": null,
            "justify_items": null,
            "left": null,
            "margin": null,
            "max_height": null,
            "max_width": null,
            "min_height": null,
            "min_width": null,
            "object_fit": null,
            "object_position": null,
            "order": null,
            "overflow": null,
            "overflow_x": null,
            "overflow_y": null,
            "padding": null,
            "right": null,
            "top": null,
            "visibility": null,
            "width": null
          }
        },
        "a8142313fb60491e9207f3f4efc07e6a": {
          "model_module": "@jupyter-widgets/base",
          "model_module_version": "1.2.0",
          "model_name": "LayoutModel",
          "state": {
            "_model_module": "@jupyter-widgets/base",
            "_model_module_version": "1.2.0",
            "_model_name": "LayoutModel",
            "_view_count": null,
            "_view_module": "@jupyter-widgets/base",
            "_view_module_version": "1.2.0",
            "_view_name": "LayoutView",
            "align_content": null,
            "align_items": null,
            "align_self": null,
            "border": null,
            "bottom": null,
            "display": null,
            "flex": null,
            "flex_flow": null,
            "grid_area": null,
            "grid_auto_columns": null,
            "grid_auto_flow": null,
            "grid_auto_rows": null,
            "grid_column": null,
            "grid_gap": null,
            "grid_row": null,
            "grid_template_areas": null,
            "grid_template_columns": null,
            "grid_template_rows": null,
            "height": null,
            "justify_content": null,
            "justify_items": null,
            "left": null,
            "margin": null,
            "max_height": null,
            "max_width": null,
            "min_height": null,
            "min_width": null,
            "object_fit": null,
            "object_position": null,
            "order": null,
            "overflow": null,
            "overflow_x": null,
            "overflow_y": null,
            "padding": null,
            "right": null,
            "top": null,
            "visibility": null,
            "width": null
          }
        },
        "acd6fc6b2da14030854a9a5759b50381": {
          "model_module": "@jupyter-widgets/controls",
          "model_module_version": "1.5.0",
          "model_name": "ProgressStyleModel",
          "state": {
            "_model_module": "@jupyter-widgets/controls",
            "_model_module_version": "1.5.0",
            "_model_name": "ProgressStyleModel",
            "_view_count": null,
            "_view_module": "@jupyter-widgets/base",
            "_view_module_version": "1.2.0",
            "_view_name": "StyleView",
            "bar_color": null,
            "description_width": ""
          }
        },
        "afaf4ecf99534299920f4a65bb376194": {
          "model_module": "@jupyter-widgets/base",
          "model_module_version": "1.2.0",
          "model_name": "LayoutModel",
          "state": {
            "_model_module": "@jupyter-widgets/base",
            "_model_module_version": "1.2.0",
            "_model_name": "LayoutModel",
            "_view_count": null,
            "_view_module": "@jupyter-widgets/base",
            "_view_module_version": "1.2.0",
            "_view_name": "LayoutView",
            "align_content": null,
            "align_items": null,
            "align_self": null,
            "border": null,
            "bottom": null,
            "display": null,
            "flex": null,
            "flex_flow": null,
            "grid_area": null,
            "grid_auto_columns": null,
            "grid_auto_flow": null,
            "grid_auto_rows": null,
            "grid_column": null,
            "grid_gap": null,
            "grid_row": null,
            "grid_template_areas": null,
            "grid_template_columns": null,
            "grid_template_rows": null,
            "height": null,
            "justify_content": null,
            "justify_items": null,
            "left": null,
            "margin": null,
            "max_height": null,
            "max_width": null,
            "min_height": null,
            "min_width": null,
            "object_fit": null,
            "object_position": null,
            "order": null,
            "overflow": null,
            "overflow_x": null,
            "overflow_y": null,
            "padding": null,
            "right": null,
            "top": null,
            "visibility": null,
            "width": null
          }
        },
        "b134bc7421b44e84a165b897bbe3ba93": {
          "model_module": "@jupyter-widgets/controls",
          "model_module_version": "1.5.0",
          "model_name": "DescriptionStyleModel",
          "state": {
            "_model_module": "@jupyter-widgets/controls",
            "_model_module_version": "1.5.0",
            "_model_name": "DescriptionStyleModel",
            "_view_count": null,
            "_view_module": "@jupyter-widgets/base",
            "_view_module_version": "1.2.0",
            "_view_name": "StyleView",
            "description_width": ""
          }
        },
        "b138a84d3d7a4fc4bbdda73800d886ea": {
          "model_module": "@jupyter-widgets/controls",
          "model_module_version": "1.5.0",
          "model_name": "HTMLModel",
          "state": {
            "_dom_classes": [],
            "_model_module": "@jupyter-widgets/controls",
            "_model_module_version": "1.5.0",
            "_model_name": "HTMLModel",
            "_view_count": null,
            "_view_module": "@jupyter-widgets/controls",
            "_view_module_version": "1.5.0",
            "_view_name": "HTMLView",
            "description": "",
            "description_tooltip": null,
            "layout": "IPY_MODEL_34f7e5199c724b72b62f72c8c6652bbb",
            "placeholder": "​",
            "style": "IPY_MODEL_35f9a92edf0541a1bdd75a70042ed569",
            "value": " 308M/308M [00:07&lt;00:00, 47.6MB/s]"
          }
        },
        "b1b55caeda62464682b5763e4da6d9c8": {
          "model_module": "@jupyter-widgets/base",
          "model_module_version": "1.2.0",
          "model_name": "LayoutModel",
          "state": {
            "_model_module": "@jupyter-widgets/base",
            "_model_module_version": "1.2.0",
            "_model_name": "LayoutModel",
            "_view_count": null,
            "_view_module": "@jupyter-widgets/base",
            "_view_module_version": "1.2.0",
            "_view_name": "LayoutView",
            "align_content": null,
            "align_items": null,
            "align_self": null,
            "border": null,
            "bottom": null,
            "display": null,
            "flex": null,
            "flex_flow": null,
            "grid_area": null,
            "grid_auto_columns": null,
            "grid_auto_flow": null,
            "grid_auto_rows": null,
            "grid_column": null,
            "grid_gap": null,
            "grid_row": null,
            "grid_template_areas": null,
            "grid_template_columns": null,
            "grid_template_rows": null,
            "height": null,
            "justify_content": null,
            "justify_items": null,
            "left": null,
            "margin": null,
            "max_height": null,
            "max_width": null,
            "min_height": null,
            "min_width": null,
            "object_fit": null,
            "object_position": null,
            "order": null,
            "overflow": null,
            "overflow_x": null,
            "overflow_y": null,
            "padding": null,
            "right": null,
            "top": null,
            "visibility": null,
            "width": null
          }
        },
        "b5439ab8e6974165a6a92560e22d63da": {
          "model_module": "@jupyter-widgets/controls",
          "model_module_version": "1.5.0",
          "model_name": "DescriptionStyleModel",
          "state": {
            "_model_module": "@jupyter-widgets/controls",
            "_model_module_version": "1.5.0",
            "_model_name": "DescriptionStyleModel",
            "_view_count": null,
            "_view_module": "@jupyter-widgets/base",
            "_view_module_version": "1.2.0",
            "_view_name": "StyleView",
            "description_width": ""
          }
        },
        "b949443bc76f45a884277f02e2a66cf9": {
          "model_module": "@jupyter-widgets/base",
          "model_module_version": "1.2.0",
          "model_name": "LayoutModel",
          "state": {
            "_model_module": "@jupyter-widgets/base",
            "_model_module_version": "1.2.0",
            "_model_name": "LayoutModel",
            "_view_count": null,
            "_view_module": "@jupyter-widgets/base",
            "_view_module_version": "1.2.0",
            "_view_name": "LayoutView",
            "align_content": null,
            "align_items": null,
            "align_self": null,
            "border": null,
            "bottom": null,
            "display": null,
            "flex": null,
            "flex_flow": null,
            "grid_area": null,
            "grid_auto_columns": null,
            "grid_auto_flow": null,
            "grid_auto_rows": null,
            "grid_column": null,
            "grid_gap": null,
            "grid_row": null,
            "grid_template_areas": null,
            "grid_template_columns": null,
            "grid_template_rows": null,
            "height": null,
            "justify_content": null,
            "justify_items": null,
            "left": null,
            "margin": null,
            "max_height": null,
            "max_width": null,
            "min_height": null,
            "min_width": null,
            "object_fit": null,
            "object_position": null,
            "order": null,
            "overflow": null,
            "overflow_x": null,
            "overflow_y": null,
            "padding": null,
            "right": null,
            "top": null,
            "visibility": null,
            "width": null
          }
        },
        "ba09ad33b61c4bcda103fd215afda200": {
          "model_module": "@jupyter-widgets/controls",
          "model_module_version": "1.5.0",
          "model_name": "HTMLModel",
          "state": {
            "_dom_classes": [],
            "_model_module": "@jupyter-widgets/controls",
            "_model_module_version": "1.5.0",
            "_model_name": "HTMLModel",
            "_view_count": null,
            "_view_module": "@jupyter-widgets/controls",
            "_view_module_version": "1.5.0",
            "_view_name": "HTMLView",
            "description": "",
            "description_tooltip": null,
            "layout": "IPY_MODEL_8ff281d4bfa84d258876a9d4d139eaf1",
            "placeholder": "​",
            "style": "IPY_MODEL_9e2a19a87f504c81a3db897067d00965",
            "value": " 537/537 [00:00&lt;00:00, 9.60kB/s]"
          }
        },
        "df57e601b5764b9e980e9b234832c968": {
          "model_module": "@jupyter-widgets/controls",
          "model_module_version": "1.5.0",
          "model_name": "DescriptionStyleModel",
          "state": {
            "_model_module": "@jupyter-widgets/controls",
            "_model_module_version": "1.5.0",
            "_model_name": "DescriptionStyleModel",
            "_view_count": null,
            "_view_module": "@jupyter-widgets/base",
            "_view_module_version": "1.2.0",
            "_view_name": "StyleView",
            "description_width": ""
          }
        },
        "e6543af5c22a470f8c65ed65c92c5fdd": {
          "model_module": "@jupyter-widgets/base",
          "model_module_version": "1.2.0",
          "model_name": "LayoutModel",
          "state": {
            "_model_module": "@jupyter-widgets/base",
            "_model_module_version": "1.2.0",
            "_model_name": "LayoutModel",
            "_view_count": null,
            "_view_module": "@jupyter-widgets/base",
            "_view_module_version": "1.2.0",
            "_view_name": "LayoutView",
            "align_content": null,
            "align_items": null,
            "align_self": null,
            "border": null,
            "bottom": null,
            "display": null,
            "flex": null,
            "flex_flow": null,
            "grid_area": null,
            "grid_auto_columns": null,
            "grid_auto_flow": null,
            "grid_auto_rows": null,
            "grid_column": null,
            "grid_gap": null,
            "grid_row": null,
            "grid_template_areas": null,
            "grid_template_columns": null,
            "grid_template_rows": null,
            "height": null,
            "justify_content": null,
            "justify_items": null,
            "left": null,
            "margin": null,
            "max_height": null,
            "max_width": null,
            "min_height": null,
            "min_width": null,
            "object_fit": null,
            "object_position": null,
            "order": null,
            "overflow": null,
            "overflow_x": null,
            "overflow_y": null,
            "padding": null,
            "right": null,
            "top": null,
            "visibility": null,
            "width": null
          }
        },
        "e8f8fdb765854566a231cf6cfbe50c22": {
          "model_module": "@jupyter-widgets/controls",
          "model_module_version": "1.5.0",
          "model_name": "FloatProgressModel",
          "state": {
            "_dom_classes": [],
            "_model_module": "@jupyter-widgets/controls",
            "_model_module_version": "1.5.0",
            "_model_name": "FloatProgressModel",
            "_view_count": null,
            "_view_module": "@jupyter-widgets/controls",
            "_view_module_version": "1.5.0",
            "_view_name": "ProgressView",
            "bar_style": "success",
            "description": "",
            "description_tooltip": null,
            "layout": "IPY_MODEL_21808f9ea0514ad08e23611ff4c1dd70",
            "max": 307932125,
            "min": 0,
            "orientation": "horizontal",
            "style": "IPY_MODEL_536a5b41355a4d93aa37459a46238331",
            "value": 307932125
          }
        },
        "eb0850ffa01242d0a75b1a8ffad876a9": {
          "model_module": "@jupyter-widgets/controls",
          "model_module_version": "1.5.0",
          "model_name": "HTMLModel",
          "state": {
            "_dom_classes": [],
            "_model_module": "@jupyter-widgets/controls",
            "_model_module_version": "1.5.0",
            "_model_name": "HTMLModel",
            "_view_count": null,
            "_view_module": "@jupyter-widgets/controls",
            "_view_module_version": "1.5.0",
            "_view_name": "HTMLView",
            "description": "",
            "description_tooltip": null,
            "layout": "IPY_MODEL_a8142313fb60491e9207f3f4efc07e6a",
            "placeholder": "​",
            "style": "IPY_MODEL_b134bc7421b44e84a165b897bbe3ba93",
            "value": "Downloading: 100%"
          }
        },
        "ed4b18185592415a8ae7a78232bc729e": {
          "model_module": "@jupyter-widgets/controls",
          "model_module_version": "1.5.0",
          "model_name": "HTMLModel",
          "state": {
            "_dom_classes": [],
            "_model_module": "@jupyter-widgets/controls",
            "_model_module_version": "1.5.0",
            "_model_name": "HTMLModel",
            "_view_count": null,
            "_view_module": "@jupyter-widgets/controls",
            "_view_module_version": "1.5.0",
            "_view_name": "HTMLView",
            "description": "",
            "description_tooltip": null,
            "layout": "IPY_MODEL_b1b55caeda62464682b5763e4da6d9c8",
            "placeholder": "​",
            "style": "IPY_MODEL_faee4b9eda16447a807892596815886a",
            "value": "Downloading: 100%"
          }
        },
        "ee72523ad4104eee864594f41a31349d": {
          "model_module": "@jupyter-widgets/base",
          "model_module_version": "1.2.0",
          "model_name": "LayoutModel",
          "state": {
            "_model_module": "@jupyter-widgets/base",
            "_model_module_version": "1.2.0",
            "_model_name": "LayoutModel",
            "_view_count": null,
            "_view_module": "@jupyter-widgets/base",
            "_view_module_version": "1.2.0",
            "_view_name": "LayoutView",
            "align_content": null,
            "align_items": null,
            "align_self": null,
            "border": null,
            "bottom": null,
            "display": null,
            "flex": null,
            "flex_flow": null,
            "grid_area": null,
            "grid_auto_columns": null,
            "grid_auto_flow": null,
            "grid_auto_rows": null,
            "grid_column": null,
            "grid_gap": null,
            "grid_row": null,
            "grid_template_areas": null,
            "grid_template_columns": null,
            "grid_template_rows": null,
            "height": null,
            "justify_content": null,
            "justify_items": null,
            "left": null,
            "margin": null,
            "max_height": null,
            "max_width": null,
            "min_height": null,
            "min_width": null,
            "object_fit": null,
            "object_position": null,
            "order": null,
            "overflow": null,
            "overflow_x": null,
            "overflow_y": null,
            "padding": null,
            "right": null,
            "top": null,
            "visibility": null,
            "width": null
          }
        },
        "f35090840d1c4fcc8da3b292d1898ca7": {
          "model_module": "@jupyter-widgets/controls",
          "model_module_version": "1.5.0",
          "model_name": "HTMLModel",
          "state": {
            "_dom_classes": [],
            "_model_module": "@jupyter-widgets/controls",
            "_model_module_version": "1.5.0",
            "_model_name": "HTMLModel",
            "_view_count": null,
            "_view_module": "@jupyter-widgets/controls",
            "_view_module_version": "1.5.0",
            "_view_name": "HTMLView",
            "description": "",
            "description_tooltip": null,
            "layout": "IPY_MODEL_fb60d016b26c4759a3827ebea8c7dfb6",
            "placeholder": "​",
            "style": "IPY_MODEL_59e17224bf5c43a9b96557c25a550d55",
            "value": " 792k/792k [00:00&lt;00:00, 1.55MB/s]"
          }
        },
        "f5795b3c4a2b43939f0e95710b9b31d9": {
          "model_module": "@jupyter-widgets/controls",
          "model_module_version": "1.5.0",
          "model_name": "FloatProgressModel",
          "state": {
            "_dom_classes": [],
            "_model_module": "@jupyter-widgets/controls",
            "_model_module_version": "1.5.0",
            "_model_name": "FloatProgressModel",
            "_view_count": null,
            "_view_module": "@jupyter-widgets/controls",
            "_view_module_version": "1.5.0",
            "_view_name": "ProgressView",
            "bar_style": "success",
            "description": "",
            "description_tooltip": null,
            "layout": "IPY_MODEL_060d0d15aaf64020ab64aae96441b142",
            "max": 791656,
            "min": 0,
            "orientation": "horizontal",
            "style": "IPY_MODEL_2d1e4827a33a401d914777c192e6b7f5",
            "value": 791656
          }
        },
        "faee4b9eda16447a807892596815886a": {
          "model_module": "@jupyter-widgets/controls",
          "model_module_version": "1.5.0",
          "model_name": "DescriptionStyleModel",
          "state": {
            "_model_module": "@jupyter-widgets/controls",
            "_model_module_version": "1.5.0",
            "_model_name": "DescriptionStyleModel",
            "_view_count": null,
            "_view_module": "@jupyter-widgets/base",
            "_view_module_version": "1.2.0",
            "_view_name": "StyleView",
            "description_width": ""
          }
        },
        "fb60d016b26c4759a3827ebea8c7dfb6": {
          "model_module": "@jupyter-widgets/base",
          "model_module_version": "1.2.0",
          "model_name": "LayoutModel",
          "state": {
            "_model_module": "@jupyter-widgets/base",
            "_model_module_version": "1.2.0",
            "_model_name": "LayoutModel",
            "_view_count": null,
            "_view_module": "@jupyter-widgets/base",
            "_view_module_version": "1.2.0",
            "_view_name": "LayoutView",
            "align_content": null,
            "align_items": null,
            "align_self": null,
            "border": null,
            "bottom": null,
            "display": null,
            "flex": null,
            "flex_flow": null,
            "grid_area": null,
            "grid_auto_columns": null,
            "grid_auto_flow": null,
            "grid_auto_rows": null,
            "grid_column": null,
            "grid_gap": null,
            "grid_row": null,
            "grid_template_areas": null,
            "grid_template_columns": null,
            "grid_template_rows": null,
            "height": null,
            "justify_content": null,
            "justify_items": null,
            "left": null,
            "margin": null,
            "max_height": null,
            "max_width": null,
            "min_height": null,
            "min_width": null,
            "object_fit": null,
            "object_position": null,
            "order": null,
            "overflow": null,
            "overflow_x": null,
            "overflow_y": null,
            "padding": null,
            "right": null,
            "top": null,
            "visibility": null,
            "width": null
          }
        },
        "ff9730e4a976445b863b2051fa1bae49": {
          "model_module": "@jupyter-widgets/base",
          "model_module_version": "1.2.0",
          "model_name": "LayoutModel",
          "state": {
            "_model_module": "@jupyter-widgets/base",
            "_model_module_version": "1.2.0",
            "_model_name": "LayoutModel",
            "_view_count": null,
            "_view_module": "@jupyter-widgets/base",
            "_view_module_version": "1.2.0",
            "_view_name": "LayoutView",
            "align_content": null,
            "align_items": null,
            "align_self": null,
            "border": null,
            "bottom": null,
            "display": null,
            "flex": null,
            "flex_flow": null,
            "grid_area": null,
            "grid_auto_columns": null,
            "grid_auto_flow": null,
            "grid_auto_rows": null,
            "grid_column": null,
            "grid_gap": null,
            "grid_row": null,
            "grid_template_areas": null,
            "grid_template_columns": null,
            "grid_template_rows": null,
            "height": null,
            "justify_content": null,
            "justify_items": null,
            "left": null,
            "margin": null,
            "max_height": null,
            "max_width": null,
            "min_height": null,
            "min_width": null,
            "object_fit": null,
            "object_position": null,
            "order": null,
            "overflow": null,
            "overflow_x": null,
            "overflow_y": null,
            "padding": null,
            "right": null,
            "top": null,
            "visibility": null,
            "width": null
          }
        }
      }
    }
  },
  "nbformat": 4,
  "nbformat_minor": 0
}